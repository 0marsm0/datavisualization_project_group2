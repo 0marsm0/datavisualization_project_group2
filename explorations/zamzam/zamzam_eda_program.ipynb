{
 "cells": [
  {
   "cell_type": "markdown",
   "id": "f5f207cf",
   "metadata": {},
   "source": [
    "## EDA resultat ansökningsomgång program - myh "
   ]
  },
  {
   "cell_type": "markdown",
   "id": "ba500e1d",
   "metadata": {},
   "source": [
    "### Tabell 1"
   ]
  },
  {
   "cell_type": "code",
   "execution_count": 1,
   "id": "7c99e894",
   "metadata": {},
   "outputs": [
    {
     "data": {
      "text/plain": [
       "['Innehållsförteckning',\n",
       " 'Definitioner',\n",
       " 'Tabell 1',\n",
       " 'Tabell 2',\n",
       " 'Tabell 3',\n",
       " 'Tabell 4']"
      ]
     },
     "execution_count": 1,
     "metadata": {},
     "output_type": "execute_result"
    }
   ],
   "source": [
    "import pandas as pd\n",
    "import duckdb\n",
    "\n",
    "# Re-load the uploaded Excel file after code state reset\n",
    "file_path = \"/Users/zamzamyusuf/Documents/github/datavisualization_project_group2/data/resultat-ansokningsomgang-2024 (1).xlsx\"\n",
    "excel_file = pd.ExcelFile(file_path)\n",
    "sheet_names = excel_file.sheet_names\n",
    "\n",
    "# Display sheet names to guide EDA per relevant sheet\n",
    "sheet_names"
   ]
  },
  {
   "cell_type": "code",
   "execution_count": 60,
   "id": "e850bf6e",
   "metadata": {},
   "outputs": [
    {
     "name": "stdout",
     "output_type": "stream",
     "text": [
      "            Unnamed: 0                                         Unnamed: 1  \\\n",
      "0    Utbildningsområde                                    Utbildningsnamn   \n",
      "1              Data/IT                 .NET-utvecklare med molninriktning   \n",
      "2              Data/IT       Advanced Software Developer Embedded Systems   \n",
      "3              Data/IT                                       AI Developer   \n",
      "4              Data/IT                 Backend Developer inriktning Cloud   \n",
      "..                 ...                                                ...   \n",
      "340  Transporttjänster                                          Lokförare   \n",
      "341  Transporttjänster                                    Lokförare Malmö   \n",
      "342  Transporttjänster                                Lokförare Stockholm   \n",
      "343             Övrigt  Hantverkslärling - smala och traditionella han...   \n",
      "344             Övrigt     Lärlingsutbildning inom traditionellt hantverk   \n",
      "\n",
      "          Unnamed: 2   Unnamed: 3     Unnamed: 4      Unnamed: 5  \\\n",
      "0                Län       Kommun   Diarienummer  Flera kommuner   \n",
      "1          Stockholm    Stockholm  MYH 2024/3043             Nej   \n",
      "2    Västra Götaland  Trollhättan  MYH 2024/3281             Nej   \n",
      "3          Stockholm    Stockholm  MYH 2024/3048             Nej   \n",
      "4    Västra Götaland     Göteborg  MYH 2024/3436             Nej   \n",
      "..               ...          ...            ...             ...   \n",
      "340  Västra Götaland     Göteborg  MYH 2024/4150             Nej   \n",
      "341            Skåne        Malmö  MYH 2024/3991             Nej   \n",
      "342        Stockholm        Solna  MYH 2024/3996             Nej   \n",
      "343          Dalarna      Leksand  MYH 2024/3586             Nej   \n",
      "344        Stockholm    Stockholm  MYH 2024/3026             Nej   \n",
      "\n",
      "         Unnamed: 6 Unnamed: 7                                Unnamed: 8  \n",
      "0    Antal kommuner   YH-poäng  Utbildningsanordnare administrativ enhet  \n",
      "1                 1        400                JENSEN Education School AB  \n",
      "2                 1        400                            YH Akademin AB  \n",
      "3                 1        400                JENSEN Education School AB  \n",
      "4                 1        400             Handelsakademin i Göteborg AB  \n",
      "..              ...        ...                                       ...  \n",
      "340               1        220                            TCC Sverige AB  \n",
      "341               1        220                    ProTrain Utbildning AB  \n",
      "342               1        220                    ProTrain Utbildning AB  \n",
      "343               1        500          Stiftelsen Hantverk & Utbildning  \n",
      "344               1        400            Hantverksakademin i Sverige AB  \n",
      "\n",
      "[345 rows x 9 columns]\n"
     ]
    }
   ],
   "source": [
    "import pandas as pd\n",
    "\n",
    "file_path = \"/Users/zamzamyusuf/Documents/github/datavisualization_project_group2/data/resultat-ansokningsomgang-2024 (1).xlsx\"\n",
    "xls = pd.ExcelFile(file_path)\n",
    "\n",
    "# Läs in Tabell 1\n",
    "df_beviljade_program= xls.parse(\"Tabell 1\", header=4)\n",
    "\n",
    "print(df_beviljade_program)"
   ]
  },
  {
   "cell_type": "code",
   "execution_count": 61,
   "id": "32ee1dec",
   "metadata": {},
   "outputs": [
    {
     "data": {
      "text/html": [
       "<div>\n",
       "<style scoped>\n",
       "    .dataframe tbody tr th:only-of-type {\n",
       "        vertical-align: middle;\n",
       "    }\n",
       "\n",
       "    .dataframe tbody tr th {\n",
       "        vertical-align: top;\n",
       "    }\n",
       "\n",
       "    .dataframe thead th {\n",
       "        text-align: right;\n",
       "    }\n",
       "</style>\n",
       "<table border=\"1\" class=\"dataframe\">\n",
       "  <thead>\n",
       "    <tr style=\"text-align: right;\">\n",
       "      <th></th>\n",
       "      <th>Utbildningsområde</th>\n",
       "      <th>Utbildningsnamn</th>\n",
       "      <th>Län</th>\n",
       "      <th>Kommun</th>\n",
       "      <th>Diarienummer</th>\n",
       "      <th>Flera kommuner</th>\n",
       "      <th>Antal kommuner</th>\n",
       "      <th>YH-poäng</th>\n",
       "      <th>Utbildningsanordnare administrativ enhet</th>\n",
       "    </tr>\n",
       "  </thead>\n",
       "  <tbody>\n",
       "    <tr>\n",
       "      <th>0</th>\n",
       "      <td>Data/IT</td>\n",
       "      <td>.NET-utvecklare med molninriktning</td>\n",
       "      <td>Stockholm</td>\n",
       "      <td>Stockholm</td>\n",
       "      <td>MYH 2024/3043</td>\n",
       "      <td>Nej</td>\n",
       "      <td>1</td>\n",
       "      <td>400</td>\n",
       "      <td>JENSEN Education School AB</td>\n",
       "    </tr>\n",
       "    <tr>\n",
       "      <th>1</th>\n",
       "      <td>Data/IT</td>\n",
       "      <td>Advanced Software Developer Embedded Systems</td>\n",
       "      <td>Västra Götaland</td>\n",
       "      <td>Trollhättan</td>\n",
       "      <td>MYH 2024/3281</td>\n",
       "      <td>Nej</td>\n",
       "      <td>1</td>\n",
       "      <td>400</td>\n",
       "      <td>YH Akademin AB</td>\n",
       "    </tr>\n",
       "    <tr>\n",
       "      <th>2</th>\n",
       "      <td>Data/IT</td>\n",
       "      <td>AI Developer</td>\n",
       "      <td>Stockholm</td>\n",
       "      <td>Stockholm</td>\n",
       "      <td>MYH 2024/3048</td>\n",
       "      <td>Nej</td>\n",
       "      <td>1</td>\n",
       "      <td>400</td>\n",
       "      <td>JENSEN Education School AB</td>\n",
       "    </tr>\n",
       "    <tr>\n",
       "      <th>3</th>\n",
       "      <td>Data/IT</td>\n",
       "      <td>Backend Developer inriktning Cloud</td>\n",
       "      <td>Västra Götaland</td>\n",
       "      <td>Göteborg</td>\n",
       "      <td>MYH 2024/3436</td>\n",
       "      <td>Nej</td>\n",
       "      <td>1</td>\n",
       "      <td>400</td>\n",
       "      <td>Handelsakademin i Göteborg AB</td>\n",
       "    </tr>\n",
       "    <tr>\n",
       "      <th>4</th>\n",
       "      <td>Data/IT</td>\n",
       "      <td>Cloud Developer</td>\n",
       "      <td>Västra Götaland</td>\n",
       "      <td>Mölndal</td>\n",
       "      <td>MYH 2024/4178</td>\n",
       "      <td>Nej</td>\n",
       "      <td>1</td>\n",
       "      <td>400</td>\n",
       "      <td>Yrkeshögskola Campus Mölndal</td>\n",
       "    </tr>\n",
       "  </tbody>\n",
       "</table>\n",
       "</div>"
      ],
      "text/plain": [
       "0 Utbildningsområde                               Utbildningsnamn  \\\n",
       "0           Data/IT            .NET-utvecklare med molninriktning   \n",
       "1           Data/IT  Advanced Software Developer Embedded Systems   \n",
       "2           Data/IT                                  AI Developer   \n",
       "3           Data/IT            Backend Developer inriktning Cloud   \n",
       "4           Data/IT                               Cloud Developer   \n",
       "\n",
       "0              Län       Kommun   Diarienummer Flera kommuner Antal kommuner  \\\n",
       "0        Stockholm    Stockholm  MYH 2024/3043            Nej              1   \n",
       "1  Västra Götaland  Trollhättan  MYH 2024/3281            Nej              1   \n",
       "2        Stockholm    Stockholm  MYH 2024/3048            Nej              1   \n",
       "3  Västra Götaland     Göteborg  MYH 2024/3436            Nej              1   \n",
       "4  Västra Götaland      Mölndal  MYH 2024/4178            Nej              1   \n",
       "\n",
       "0 YH-poäng Utbildningsanordnare administrativ enhet  \n",
       "0      400               JENSEN Education School AB  \n",
       "1      400                           YH Akademin AB  \n",
       "2      400               JENSEN Education School AB  \n",
       "3      400            Handelsakademin i Göteborg AB  \n",
       "4      400             Yrkeshögskola Campus Mölndal  "
      ]
     },
     "execution_count": 61,
     "metadata": {},
     "output_type": "execute_result"
    }
   ],
   "source": [
    "# Använd första raden som kolumnnamn\n",
    "df_beviljade_program.columns = df_beviljade_program.iloc[0]\n",
    "\n",
    "# Ta bort första raden nu när den används som header\n",
    "df_beviljade_program= df_beviljade_program[1:]\n",
    "\n",
    "# Återställ index\n",
    "df_beviljade_program.reset_index(drop=True, inplace=True)\n",
    "\n",
    "# Kolla resultatet\n",
    "df_beviljade_program.head()"
   ]
  },
  {
   "cell_type": "code",
   "execution_count": 63,
   "id": "70798dae",
   "metadata": {},
   "outputs": [
    {
     "data": {
      "text/html": [
       "<div>\n",
       "<style scoped>\n",
       "    .dataframe tbody tr th:only-of-type {\n",
       "        vertical-align: middle;\n",
       "    }\n",
       "\n",
       "    .dataframe tbody tr th {\n",
       "        vertical-align: top;\n",
       "    }\n",
       "\n",
       "    .dataframe thead th {\n",
       "        text-align: right;\n",
       "    }\n",
       "</style>\n",
       "<table border=\"1\" class=\"dataframe\">\n",
       "  <thead>\n",
       "    <tr style=\"text-align: right;\">\n",
       "      <th></th>\n",
       "      <th>Utbildningsområde</th>\n",
       "      <th>Utbildningsnamn</th>\n",
       "      <th>Län</th>\n",
       "      <th>Kommun</th>\n",
       "      <th>Diarienummer</th>\n",
       "      <th>Flera kommuner</th>\n",
       "      <th>Antal kommuner</th>\n",
       "      <th>YH-poäng</th>\n",
       "      <th>Utbildningsanordnare administrativ enhet</th>\n",
       "    </tr>\n",
       "  </thead>\n",
       "  <tbody>\n",
       "    <tr>\n",
       "      <th>0</th>\n",
       "      <td>Data/IT</td>\n",
       "      <td>.NET-utvecklare med molninriktning</td>\n",
       "      <td>Stockholm</td>\n",
       "      <td>Stockholm</td>\n",
       "      <td>MYH 2024/3043</td>\n",
       "      <td>Nej</td>\n",
       "      <td>1</td>\n",
       "      <td>400</td>\n",
       "      <td>JENSEN Education School AB</td>\n",
       "    </tr>\n",
       "    <tr>\n",
       "      <th>1</th>\n",
       "      <td>Data/IT</td>\n",
       "      <td>Advanced Software Developer Embedded Systems</td>\n",
       "      <td>Västra Götaland</td>\n",
       "      <td>Trollhättan</td>\n",
       "      <td>MYH 2024/3281</td>\n",
       "      <td>Nej</td>\n",
       "      <td>1</td>\n",
       "      <td>400</td>\n",
       "      <td>YH Akademin AB</td>\n",
       "    </tr>\n",
       "    <tr>\n",
       "      <th>2</th>\n",
       "      <td>Data/IT</td>\n",
       "      <td>AI Developer</td>\n",
       "      <td>Stockholm</td>\n",
       "      <td>Stockholm</td>\n",
       "      <td>MYH 2024/3048</td>\n",
       "      <td>Nej</td>\n",
       "      <td>1</td>\n",
       "      <td>400</td>\n",
       "      <td>JENSEN Education School AB</td>\n",
       "    </tr>\n",
       "    <tr>\n",
       "      <th>3</th>\n",
       "      <td>Data/IT</td>\n",
       "      <td>Backend Developer inriktning Cloud</td>\n",
       "      <td>Västra Götaland</td>\n",
       "      <td>Göteborg</td>\n",
       "      <td>MYH 2024/3436</td>\n",
       "      <td>Nej</td>\n",
       "      <td>1</td>\n",
       "      <td>400</td>\n",
       "      <td>Handelsakademin i Göteborg AB</td>\n",
       "    </tr>\n",
       "    <tr>\n",
       "      <th>4</th>\n",
       "      <td>Data/IT</td>\n",
       "      <td>Cloud Developer</td>\n",
       "      <td>Västra Götaland</td>\n",
       "      <td>Mölndal</td>\n",
       "      <td>MYH 2024/4178</td>\n",
       "      <td>Nej</td>\n",
       "      <td>1</td>\n",
       "      <td>400</td>\n",
       "      <td>Yrkeshögskola Campus Mölndal</td>\n",
       "    </tr>\n",
       "    <tr>\n",
       "      <th>...</th>\n",
       "      <td>...</td>\n",
       "      <td>...</td>\n",
       "      <td>...</td>\n",
       "      <td>...</td>\n",
       "      <td>...</td>\n",
       "      <td>...</td>\n",
       "      <td>...</td>\n",
       "      <td>...</td>\n",
       "      <td>...</td>\n",
       "    </tr>\n",
       "    <tr>\n",
       "      <th>339</th>\n",
       "      <td>Transporttjänster</td>\n",
       "      <td>Lokförare</td>\n",
       "      <td>Västra Götaland</td>\n",
       "      <td>Göteborg</td>\n",
       "      <td>MYH 2024/4150</td>\n",
       "      <td>Nej</td>\n",
       "      <td>1</td>\n",
       "      <td>220</td>\n",
       "      <td>TCC Sverige AB</td>\n",
       "    </tr>\n",
       "    <tr>\n",
       "      <th>340</th>\n",
       "      <td>Transporttjänster</td>\n",
       "      <td>Lokförare Malmö</td>\n",
       "      <td>Skåne</td>\n",
       "      <td>Malmö</td>\n",
       "      <td>MYH 2024/3991</td>\n",
       "      <td>Nej</td>\n",
       "      <td>1</td>\n",
       "      <td>220</td>\n",
       "      <td>ProTrain Utbildning AB</td>\n",
       "    </tr>\n",
       "    <tr>\n",
       "      <th>341</th>\n",
       "      <td>Transporttjänster</td>\n",
       "      <td>Lokförare Stockholm</td>\n",
       "      <td>Stockholm</td>\n",
       "      <td>Solna</td>\n",
       "      <td>MYH 2024/3996</td>\n",
       "      <td>Nej</td>\n",
       "      <td>1</td>\n",
       "      <td>220</td>\n",
       "      <td>ProTrain Utbildning AB</td>\n",
       "    </tr>\n",
       "    <tr>\n",
       "      <th>342</th>\n",
       "      <td>Övrigt</td>\n",
       "      <td>Hantverkslärling - smala och traditionella han...</td>\n",
       "      <td>Dalarna</td>\n",
       "      <td>Leksand</td>\n",
       "      <td>MYH 2024/3586</td>\n",
       "      <td>Nej</td>\n",
       "      <td>1</td>\n",
       "      <td>500</td>\n",
       "      <td>Stiftelsen Hantverk &amp; Utbildning</td>\n",
       "    </tr>\n",
       "    <tr>\n",
       "      <th>343</th>\n",
       "      <td>Övrigt</td>\n",
       "      <td>Lärlingsutbildning inom traditionellt hantverk</td>\n",
       "      <td>Stockholm</td>\n",
       "      <td>Stockholm</td>\n",
       "      <td>MYH 2024/3026</td>\n",
       "      <td>Nej</td>\n",
       "      <td>1</td>\n",
       "      <td>400</td>\n",
       "      <td>Hantverksakademin i Sverige AB</td>\n",
       "    </tr>\n",
       "  </tbody>\n",
       "</table>\n",
       "<p>344 rows × 9 columns</p>\n",
       "</div>"
      ],
      "text/plain": [
       "0    Utbildningsområde                                    Utbildningsnamn  \\\n",
       "0              Data/IT                 .NET-utvecklare med molninriktning   \n",
       "1              Data/IT       Advanced Software Developer Embedded Systems   \n",
       "2              Data/IT                                       AI Developer   \n",
       "3              Data/IT                 Backend Developer inriktning Cloud   \n",
       "4              Data/IT                                    Cloud Developer   \n",
       "..                 ...                                                ...   \n",
       "339  Transporttjänster                                          Lokförare   \n",
       "340  Transporttjänster                                    Lokförare Malmö   \n",
       "341  Transporttjänster                                Lokförare Stockholm   \n",
       "342             Övrigt  Hantverkslärling - smala och traditionella han...   \n",
       "343             Övrigt     Lärlingsutbildning inom traditionellt hantverk   \n",
       "\n",
       "0                Län       Kommun   Diarienummer Flera kommuner  \\\n",
       "0          Stockholm    Stockholm  MYH 2024/3043            Nej   \n",
       "1    Västra Götaland  Trollhättan  MYH 2024/3281            Nej   \n",
       "2          Stockholm    Stockholm  MYH 2024/3048            Nej   \n",
       "3    Västra Götaland     Göteborg  MYH 2024/3436            Nej   \n",
       "4    Västra Götaland      Mölndal  MYH 2024/4178            Nej   \n",
       "..               ...          ...            ...            ...   \n",
       "339  Västra Götaland     Göteborg  MYH 2024/4150            Nej   \n",
       "340            Skåne        Malmö  MYH 2024/3991            Nej   \n",
       "341        Stockholm        Solna  MYH 2024/3996            Nej   \n",
       "342          Dalarna      Leksand  MYH 2024/3586            Nej   \n",
       "343        Stockholm    Stockholm  MYH 2024/3026            Nej   \n",
       "\n",
       "0   Antal kommuner YH-poäng Utbildningsanordnare administrativ enhet  \n",
       "0                1      400               JENSEN Education School AB  \n",
       "1                1      400                           YH Akademin AB  \n",
       "2                1      400               JENSEN Education School AB  \n",
       "3                1      400            Handelsakademin i Göteborg AB  \n",
       "4                1      400             Yrkeshögskola Campus Mölndal  \n",
       "..             ...      ...                                      ...  \n",
       "339              1      220                           TCC Sverige AB  \n",
       "340              1      220                   ProTrain Utbildning AB  \n",
       "341              1      220                   ProTrain Utbildning AB  \n",
       "342              1      500         Stiftelsen Hantverk & Utbildning  \n",
       "343              1      400           Hantverksakademin i Sverige AB  \n",
       "\n",
       "[344 rows x 9 columns]"
      ]
     },
     "execution_count": 63,
     "metadata": {},
     "output_type": "execute_result"
    }
   ],
   "source": [
    "df_beviljade_program"
   ]
  },
  {
   "cell_type": "code",
   "execution_count": 64,
   "id": "62a673c9",
   "metadata": {},
   "outputs": [
    {
     "name": "stdout",
     "output_type": "stream",
     "text": [
      "['Utbildningsområde', 'Utbildningsnamn', 'Län', 'Kommun', 'Diarienummer', 'Flera kommuner', 'Antal kommuner', 'YH-poäng', 'Utbildningsanordnare administrativ enhet']\n"
     ]
    }
   ],
   "source": [
    "print(df_beviljade_program.columns.tolist())"
   ]
  },
  {
   "cell_type": "code",
   "execution_count": 65,
   "id": "5af20e8c",
   "metadata": {},
   "outputs": [
    {
     "name": "stdout",
     "output_type": "stream",
     "text": [
      "<class 'pandas.core.frame.DataFrame'>\n",
      "RangeIndex: 344 entries, 0 to 343\n",
      "Data columns (total 9 columns):\n",
      " #   Column                                    Non-Null Count  Dtype \n",
      "---  ------                                    --------------  ----- \n",
      " 0   Utbildningsområde                         344 non-null    object\n",
      " 1   Utbildningsnamn                           344 non-null    object\n",
      " 2   Län                                       344 non-null    object\n",
      " 3   Kommun                                    344 non-null    object\n",
      " 4   Diarienummer                              344 non-null    object\n",
      " 5   Flera kommuner                            344 non-null    object\n",
      " 6   Antal kommuner                            344 non-null    object\n",
      " 7   YH-poäng                                  344 non-null    object\n",
      " 8   Utbildningsanordnare administrativ enhet  344 non-null    object\n",
      "dtypes: object(9)\n",
      "memory usage: 24.3+ KB\n"
     ]
    }
   ],
   "source": [
    "df_beviljade_program.info()"
   ]
  },
  {
   "cell_type": "code",
   "execution_count": 70,
   "id": "16d54d47",
   "metadata": {},
   "outputs": [
    {
     "data": {
      "text/plain": [
       "<Axes: title={'center': 'Antal utbildningar per utbildningsområde'}, xlabel='Utbildningsområde'>"
      ]
     },
     "execution_count": 70,
     "metadata": {},
     "output_type": "execute_result"
    },
    {
     "data": {
      "image/png": "[encoded data removed]",
      "text/plain": [
       "<Figure size 640x480 with 1 Axes>"
      ]
     },
     "metadata": {},
     "output_type": "display_data"
    }
   ],
   "source": [
    "df_beviljade_program['Utbildningsområde'].value_counts().plot(kind='bar', title='Antal utbildningar per utbildningsområde')"
   ]
  },
  {
   "cell_type": "code",
   "execution_count": 71,
   "id": "4ec89a00",
   "metadata": {},
   "outputs": [
    {
     "data": {
      "text/plain": [
       "<Axes: title={'center': 'Topp 10 utbildningsnamn'}, ylabel='Utbildningsnamn'>"
      ]
     },
     "execution_count": 71,
     "metadata": {},
     "output_type": "execute_result"
    },
    {
     "data": {
      "image/png": "[encoded data removed]",
      "text/plain": [
       "<Figure size 640x480 with 1 Axes>"
      ]
     },
     "metadata": {},
     "output_type": "display_data"
    }
   ],
   "source": [
    "df_beviljade_program['Utbildningsnamn'].value_counts().head(10).plot(kind='barh', title='Topp 10 utbildningsnamn')"
   ]
  },
  {
   "cell_type": "code",
   "execution_count": 72,
   "id": "cc521480",
   "metadata": {},
   "outputs": [
    {
     "data": {
      "text/plain": [
       "<Axes: title={'center': 'Antal utbildningar per län'}, xlabel='Län'>"
      ]
     },
     "execution_count": 72,
     "metadata": {},
     "output_type": "execute_result"
    },
    {
     "data": {
      "image/png": "[encoded data removed]",
      "text/plain": [
       "<Figure size 640x480 with 1 Axes>"
      ]
     },
     "metadata": {},
     "output_type": "display_data"
    }
   ],
   "source": [
    "df_beviljade_program['Län'].value_counts().plot(kind='bar', title='Antal utbildningar per län')"
   ]
  },
  {
   "cell_type": "markdown",
   "id": "4db22957",
   "metadata": {},
   "source": [
    "### Tabell 2"
   ]
  },
  {
   "cell_type": "code",
   "execution_count": 45,
   "id": "821823db",
   "metadata": {},
   "outputs": [
    {
     "name": "stdout",
     "output_type": "stream",
     "text": [
      "                                        Yrkeshögskolan  Unnamed: 1  \\\n",
      "0                                                  NaN         NaN   \n",
      "1    Beviljade ansökningar om att få bedriva yrkesh...         NaN   \n",
      "2    Avser ordinarie ansökningsomgång om att få bed...         NaN   \n",
      "3                                                  NaN         NaN   \n",
      "4                                                  Län      Kommun   \n",
      "..                                                 ...         ...   \n",
      "344                                       Östergötland   Linköping   \n",
      "345                                       Östergötland  Norrköping   \n",
      "346                                       Östergötland  Norrköping   \n",
      "347                                       Östergötland  Norrköping   \n",
      "348                                       Östergötland  Norrköping   \n",
      "\n",
      "                                       Unnamed: 2  \\\n",
      "0                                             NaN   \n",
      "1                                             NaN   \n",
      "2                                             NaN   \n",
      "3                                             NaN   \n",
      "4                               Utbildningsområde   \n",
      "..                                            ...   \n",
      "344                       Teknik och tillverkning   \n",
      "345       Ekonomi, administration och försäljning   \n",
      "346  Lantbruk, djurvård, trädgård, skog och fiske   \n",
      "347                    Pedagogik och undervisning   \n",
      "348                Samhällsbyggnad och byggteknik   \n",
      "\n",
      "                                Unnamed: 3     Unnamed: 4      Unnamed: 5  \\\n",
      "0                                      NaN            NaN             NaN   \n",
      "1                                      NaN            NaN             NaN   \n",
      "2                                      NaN            NaN             NaN   \n",
      "3                                      NaN            NaN             NaN   \n",
      "4                          Utbildningsnamn   Diarienummer  Flera kommuner   \n",
      "..                                     ...            ...             ...   \n",
      "344                    Produktionstekniker  MYH 2024/3446             Nej   \n",
      "345              Logistik och Supply Chain  MYH 2024/3771             Nej   \n",
      "346    Verksamhetsledare trädgård/utemiljö  MYH 2024/3685             Nej   \n",
      "347                           Trafiklärare  MYH 2024/3278             Nej   \n",
      "348  Anläggningsingenjör hållbart byggande  MYH 2024/3226             Nej   \n",
      "\n",
      "         Unnamed: 6 Unnamed: 7                                Unnamed: 8  \n",
      "0               NaN        NaN                                       NaN  \n",
      "1               NaN        NaN                                       NaN  \n",
      "2               NaN        NaN                                       NaN  \n",
      "3               NaN        NaN                                       NaN  \n",
      "4    Antal kommuner   YH-poäng  Utbildningsanordnare administrativ enhet  \n",
      "..              ...        ...                                       ...  \n",
      "344               1        410             TUC Sweden AB - Yrkeshögskola  \n",
      "345               1        400              Östsvenska Yrkeshögskolan AB  \n",
      "346               1        300              Östsvenska Yrkeshögskolan AB  \n",
      "347               1        300                            YH Akademin AB  \n",
      "348               1        400                            YH Akademin AB  \n",
      "\n",
      "[349 rows x 9 columns]\n"
     ]
    }
   ],
   "source": [
    "# Läs in Tabell 2\n",
    "df_tabell2 = xls.parse(\"Tabell 2\")\n",
    "\n",
    "print(df_tabell2)"
   ]
  },
  {
   "cell_type": "code",
   "execution_count": 73,
   "id": "f153c056",
   "metadata": {},
   "outputs": [
    {
     "data": {
      "text/html": [
       "<div>\n",
       "<style scoped>\n",
       "    .dataframe tbody tr th:only-of-type {\n",
       "        vertical-align: middle;\n",
       "    }\n",
       "\n",
       "    .dataframe tbody tr th {\n",
       "        vertical-align: top;\n",
       "    }\n",
       "\n",
       "    .dataframe thead th {\n",
       "        text-align: right;\n",
       "    }\n",
       "</style>\n",
       "<table border=\"1\" class=\"dataframe\">\n",
       "  <thead>\n",
       "    <tr style=\"text-align: right;\">\n",
       "      <th></th>\n",
       "      <th>NaN</th>\n",
       "      <th>NaN</th>\n",
       "      <th>NaN</th>\n",
       "      <th>NaN</th>\n",
       "      <th>NaN</th>\n",
       "      <th>NaN</th>\n",
       "      <th>NaN</th>\n",
       "      <th>NaN</th>\n",
       "      <th>NaN</th>\n",
       "    </tr>\n",
       "  </thead>\n",
       "  <tbody>\n",
       "    <tr>\n",
       "      <th>0</th>\n",
       "      <td>Beviljade ansökningar om att få bedriva yrkesh...</td>\n",
       "      <td>NaN</td>\n",
       "      <td>NaN</td>\n",
       "      <td>NaN</td>\n",
       "      <td>NaN</td>\n",
       "      <td>NaN</td>\n",
       "      <td>NaN</td>\n",
       "      <td>NaN</td>\n",
       "      <td>NaN</td>\n",
       "    </tr>\n",
       "    <tr>\n",
       "      <th>1</th>\n",
       "      <td>Avser ordinarie ansökningsomgång om att få bed...</td>\n",
       "      <td>NaN</td>\n",
       "      <td>NaN</td>\n",
       "      <td>NaN</td>\n",
       "      <td>NaN</td>\n",
       "      <td>NaN</td>\n",
       "      <td>NaN</td>\n",
       "      <td>NaN</td>\n",
       "      <td>NaN</td>\n",
       "    </tr>\n",
       "    <tr>\n",
       "      <th>2</th>\n",
       "      <td>NaN</td>\n",
       "      <td>NaN</td>\n",
       "      <td>NaN</td>\n",
       "      <td>NaN</td>\n",
       "      <td>NaN</td>\n",
       "      <td>NaN</td>\n",
       "      <td>NaN</td>\n",
       "      <td>NaN</td>\n",
       "      <td>NaN</td>\n",
       "    </tr>\n",
       "    <tr>\n",
       "      <th>3</th>\n",
       "      <td>Län</td>\n",
       "      <td>Kommun</td>\n",
       "      <td>Utbildningsområde</td>\n",
       "      <td>Utbildningsnamn</td>\n",
       "      <td>Diarienummer</td>\n",
       "      <td>Flera kommuner</td>\n",
       "      <td>Antal kommuner</td>\n",
       "      <td>YH-poäng</td>\n",
       "      <td>Utbildningsanordnare administrativ enhet</td>\n",
       "    </tr>\n",
       "    <tr>\n",
       "      <th>4</th>\n",
       "      <td>Blekinge</td>\n",
       "      <td>Karlskrona</td>\n",
       "      <td>Hälso- och sjukvård samt socialt arbete</td>\n",
       "      <td>Specialistundersköterska inom psykiatrisk verk...</td>\n",
       "      <td>MYH 2024/3018</td>\n",
       "      <td>Nej</td>\n",
       "      <td>1</td>\n",
       "      <td>210</td>\n",
       "      <td>Hermods AB Karlskrona</td>\n",
       "    </tr>\n",
       "    <tr>\n",
       "      <th>...</th>\n",
       "      <td>...</td>\n",
       "      <td>...</td>\n",
       "      <td>...</td>\n",
       "      <td>...</td>\n",
       "      <td>...</td>\n",
       "      <td>...</td>\n",
       "      <td>...</td>\n",
       "      <td>...</td>\n",
       "      <td>...</td>\n",
       "    </tr>\n",
       "    <tr>\n",
       "      <th>343</th>\n",
       "      <td>Östergötland</td>\n",
       "      <td>Linköping</td>\n",
       "      <td>Teknik och tillverkning</td>\n",
       "      <td>Produktionstekniker</td>\n",
       "      <td>MYH 2024/3446</td>\n",
       "      <td>Nej</td>\n",
       "      <td>1</td>\n",
       "      <td>410</td>\n",
       "      <td>TUC Sweden AB - Yrkeshögskola</td>\n",
       "    </tr>\n",
       "    <tr>\n",
       "      <th>344</th>\n",
       "      <td>Östergötland</td>\n",
       "      <td>Norrköping</td>\n",
       "      <td>Ekonomi, administration och försäljning</td>\n",
       "      <td>Logistik och Supply Chain</td>\n",
       "      <td>MYH 2024/3771</td>\n",
       "      <td>Nej</td>\n",
       "      <td>1</td>\n",
       "      <td>400</td>\n",
       "      <td>Östsvenska Yrkeshögskolan AB</td>\n",
       "    </tr>\n",
       "    <tr>\n",
       "      <th>345</th>\n",
       "      <td>Östergötland</td>\n",
       "      <td>Norrköping</td>\n",
       "      <td>Lantbruk, djurvård, trädgård, skog och fiske</td>\n",
       "      <td>Verksamhetsledare trädgård/utemiljö</td>\n",
       "      <td>MYH 2024/3685</td>\n",
       "      <td>Nej</td>\n",
       "      <td>1</td>\n",
       "      <td>300</td>\n",
       "      <td>Östsvenska Yrkeshögskolan AB</td>\n",
       "    </tr>\n",
       "    <tr>\n",
       "      <th>346</th>\n",
       "      <td>Östergötland</td>\n",
       "      <td>Norrköping</td>\n",
       "      <td>Pedagogik och undervisning</td>\n",
       "      <td>Trafiklärare</td>\n",
       "      <td>MYH 2024/3278</td>\n",
       "      <td>Nej</td>\n",
       "      <td>1</td>\n",
       "      <td>300</td>\n",
       "      <td>YH Akademin AB</td>\n",
       "    </tr>\n",
       "    <tr>\n",
       "      <th>347</th>\n",
       "      <td>Östergötland</td>\n",
       "      <td>Norrköping</td>\n",
       "      <td>Samhällsbyggnad och byggteknik</td>\n",
       "      <td>Anläggningsingenjör hållbart byggande</td>\n",
       "      <td>MYH 2024/3226</td>\n",
       "      <td>Nej</td>\n",
       "      <td>1</td>\n",
       "      <td>400</td>\n",
       "      <td>YH Akademin AB</td>\n",
       "    </tr>\n",
       "  </tbody>\n",
       "</table>\n",
       "<p>348 rows × 9 columns</p>\n",
       "</div>"
      ],
      "text/plain": [
       "0                                                  NaN         NaN  \\\n",
       "0    Beviljade ansökningar om att få bedriva yrkesh...         NaN   \n",
       "1    Avser ordinarie ansökningsomgång om att få bed...         NaN   \n",
       "2                                                  NaN         NaN   \n",
       "3                                                  Län      Kommun   \n",
       "4                                             Blekinge  Karlskrona   \n",
       "..                                                 ...         ...   \n",
       "343                                       Östergötland   Linköping   \n",
       "344                                       Östergötland  Norrköping   \n",
       "345                                       Östergötland  Norrköping   \n",
       "346                                       Östergötland  Norrköping   \n",
       "347                                       Östergötland  Norrköping   \n",
       "\n",
       "0                                             NaN  \\\n",
       "0                                             NaN   \n",
       "1                                             NaN   \n",
       "2                                             NaN   \n",
       "3                               Utbildningsområde   \n",
       "4         Hälso- och sjukvård samt socialt arbete   \n",
       "..                                            ...   \n",
       "343                       Teknik och tillverkning   \n",
       "344       Ekonomi, administration och försäljning   \n",
       "345  Lantbruk, djurvård, trädgård, skog och fiske   \n",
       "346                    Pedagogik och undervisning   \n",
       "347                Samhällsbyggnad och byggteknik   \n",
       "\n",
       "0                                                  NaN            NaN  \\\n",
       "0                                                  NaN            NaN   \n",
       "1                                                  NaN            NaN   \n",
       "2                                                  NaN            NaN   \n",
       "3                                      Utbildningsnamn   Diarienummer   \n",
       "4    Specialistundersköterska inom psykiatrisk verk...  MYH 2024/3018   \n",
       "..                                                 ...            ...   \n",
       "343                                Produktionstekniker  MYH 2024/3446   \n",
       "344                          Logistik och Supply Chain  MYH 2024/3771   \n",
       "345                Verksamhetsledare trädgård/utemiljö  MYH 2024/3685   \n",
       "346                                       Trafiklärare  MYH 2024/3278   \n",
       "347              Anläggningsingenjör hållbart byggande  MYH 2024/3226   \n",
       "\n",
       "0               NaN             NaN       NaN  \\\n",
       "0               NaN             NaN       NaN   \n",
       "1               NaN             NaN       NaN   \n",
       "2               NaN             NaN       NaN   \n",
       "3    Flera kommuner  Antal kommuner  YH-poäng   \n",
       "4               Nej               1       210   \n",
       "..              ...             ...       ...   \n",
       "343             Nej               1       410   \n",
       "344             Nej               1       400   \n",
       "345             Nej               1       300   \n",
       "346             Nej               1       300   \n",
       "347             Nej               1       400   \n",
       "\n",
       "0                                         NaN  \n",
       "0                                         NaN  \n",
       "1                                         NaN  \n",
       "2                                         NaN  \n",
       "3    Utbildningsanordnare administrativ enhet  \n",
       "4                       Hermods AB Karlskrona  \n",
       "..                                        ...  \n",
       "343             TUC Sweden AB - Yrkeshögskola  \n",
       "344              Östsvenska Yrkeshögskolan AB  \n",
       "345              Östsvenska Yrkeshögskolan AB  \n",
       "346                            YH Akademin AB  \n",
       "347                            YH Akademin AB  \n",
       "\n",
       "[348 rows x 9 columns]"
      ]
     },
     "execution_count": 73,
     "metadata": {},
     "output_type": "execute_result"
    }
   ],
   "source": [
    "df_tabell2"
   ]
  },
  {
   "cell_type": "markdown",
   "id": "5f01a04e",
   "metadata": {},
   "source": [
    "### Tabell 3"
   ]
  },
  {
   "cell_type": "code",
   "execution_count": null,
   "id": "0b86bc0e",
   "metadata": {},
   "outputs": [
    {
     "name": "stdout",
     "output_type": "stream",
     "text": [
      "                                         Yrkeshögskolan       Unnamed: 1  \\\n",
      "0                                                   NaN              NaN   \n",
      "1     Ansökningar om att få bedriva yrkeshögskoleutb...              NaN   \n",
      "2     Avser ordinarie ansökningsomgång om att få bed...              NaN   \n",
      "3                                                   NaN              NaN   \n",
      "4                                     Utbildningsområde  SUN5 inriktning   \n",
      "...                                                 ...              ...   \n",
      "1272                                  Transporttjänster            840da   \n",
      "1273                                  Transporttjänster            840da   \n",
      "1274                                  Transporttjänster            840dy   \n",
      "1275                                             Övrigt            999za   \n",
      "1276                                             Övrigt            999za   \n",
      "\n",
      "                                 Unnamed: 2  \\\n",
      "0                                       NaN   \n",
      "1                                       NaN   \n",
      "2                                       NaN   \n",
      "3                                       NaN   \n",
      "4                      SUN5 inriktning namn   \n",
      "...                                     ...   \n",
      "1272        Utbildningar till trafikflygare   \n",
      "1273        Utbildningar till trafikflygare   \n",
      "1274           Övriga utbildningar luftfart   \n",
      "1275  Traditionella hantverksyrken, lärling   \n",
      "1276  Traditionella hantverksyrken, lärling   \n",
      "\n",
      "                                             Unnamed: 3 Unnamed: 4  \\\n",
      "0                                                   NaN        NaN   \n",
      "1                                                   NaN        NaN   \n",
      "2                                                   NaN        NaN   \n",
      "3                                                   NaN        NaN   \n",
      "4                                       Utbildningsnamn     Beslut   \n",
      "...                                                 ...        ...   \n",
      "1272        Integrerad Trafikflygarutbildning Statsstöd     Avslag   \n",
      "1273  Trafikflygare med inriktning hållbarhet och pi...     Avslag   \n",
      "1274                  UAS-operatör inom Samhällsbyggnad     Avslag   \n",
      "1275  Hantverkslärling - smala och traditionella han...   Beviljad   \n",
      "1276     Lärlingsutbildning inom traditionellt hantverk   Beviljad   \n",
      "\n",
      "         Unnamed: 5      Unnamed: 6      Unnamed: 7       Unnamed: 8  \\\n",
      "0               NaN             NaN             NaN              NaN   \n",
      "1               NaN             NaN             NaN              NaN   \n",
      "2               NaN             NaN             NaN              NaN   \n",
      "3               NaN             NaN             NaN              NaN   \n",
      "4      Diarienummer  Flera kommuner  Antal kommuner              Län   \n",
      "...             ...             ...             ...              ...   \n",
      "1272  MYH 2024/3675             Nej               1  Västra Götaland   \n",
      "1273  MYH 2024/3415             Nej               1     Västerbotten   \n",
      "1274  MYH 2024/3326              Ja               5   Flera kommuner   \n",
      "1275  MYH 2024/3586             Nej               1          Dalarna   \n",
      "1276  MYH 2024/3026             Nej               1        Stockholm   \n",
      "\n",
      "          Unnamed: 9  ...                Unnamed: 18  \\\n",
      "0                NaN  ...                        NaN   \n",
      "1                NaN  ...                        NaN   \n",
      "2                NaN  ...                        NaN   \n",
      "3                NaN  ...                        NaN   \n",
      "4             Kommun  ...  Sökta utbildningsomgångar   \n",
      "...              ...  ...                        ...   \n",
      "1272        Göteborg  ...                          5   \n",
      "1273      Skellefteå  ...                          5   \n",
      "1274  Flera kommuner  ...                          3   \n",
      "1275         Leksand  ...                          5   \n",
      "1276       Stockholm  ...                          5   \n",
      "\n",
      "                        Unnamed: 19                          Unnamed: 20  \\\n",
      "0                               NaN                                  NaN   \n",
      "1                               NaN                                  NaN   \n",
      "2                               NaN                                  NaN   \n",
      "3                               NaN                                  NaN   \n",
      "4     Beviljade utbildningsomgångar  Sökta platser per utbildningsomgång   \n",
      "...                             ...                                  ...   \n",
      "1272                              0                                   20   \n",
      "1273                              0                                   24   \n",
      "1274                              0                                   30   \n",
      "1275                              5                                   35   \n",
      "1276                              5                                   35   \n",
      "\n",
      "               Unnamed: 21                            Unnamed: 22  \\\n",
      "0                      NaN                                    NaN   \n",
      "1                      NaN                                    NaN   \n",
      "2                      NaN                                    NaN   \n",
      "3                      NaN                                    NaN   \n",
      "4     Sökta platser totalt  Beviljade platser utbildningsomgång 1   \n",
      "...                    ...                                    ...   \n",
      "1272                   100                                      0   \n",
      "1273                   120                                      0   \n",
      "1274                    90                                      0   \n",
      "1275                   175                                     35   \n",
      "1276                   175                                     35   \n",
      "\n",
      "                                Unnamed: 23  \\\n",
      "0                                       NaN   \n",
      "1                                       NaN   \n",
      "2                                       NaN   \n",
      "3                                       NaN   \n",
      "4     Beviljade platser utbildningsomgång 2   \n",
      "...                                     ...   \n",
      "1272                                      0   \n",
      "1273                                      0   \n",
      "1274                                      0   \n",
      "1275                                     35   \n",
      "1276                                     35   \n",
      "\n",
      "                                Unnamed: 24  \\\n",
      "0                                       NaN   \n",
      "1                                       NaN   \n",
      "2                                       NaN   \n",
      "3                                       NaN   \n",
      "4     Beviljade platser utbildningsomgång 3   \n",
      "...                                     ...   \n",
      "1272                                      0   \n",
      "1273                                      0   \n",
      "1274                                      0   \n",
      "1275                                     35   \n",
      "1276                                     35   \n",
      "\n",
      "                                Unnamed: 25  \\\n",
      "0                                       NaN   \n",
      "1                                       NaN   \n",
      "2                                       NaN   \n",
      "3                                       NaN   \n",
      "4     Beviljade platser utbildningsomgång 4   \n",
      "...                                     ...   \n",
      "1272                                      0   \n",
      "1273                                      0   \n",
      "1274                                      0   \n",
      "1275                                     35   \n",
      "1276                                     35   \n",
      "\n",
      "                                Unnamed: 26               Unnamed: 27  \n",
      "0                                       NaN                       NaN  \n",
      "1                                       NaN                       NaN  \n",
      "2                                       NaN                       NaN  \n",
      "3                                       NaN                       NaN  \n",
      "4     Beviljade platser utbildningsomgång 5  Beviljade platser totalt  \n",
      "...                                     ...                       ...  \n",
      "1272                                      0                         0  \n",
      "1273                                      0                         0  \n",
      "1274                                      0                         0  \n",
      "1275                                     35                       175  \n",
      "1276                                     35                       175  \n",
      "\n",
      "[1277 rows x 28 columns]\n"
     ]
    }
   ],
   "source": [
    "# Läs in Tabell 3\n",
    "df_tabell3 = xls.parse(\"Tabell 3\")\n",
    "\n",
    "print(df_tabell3)"
   ]
  },
  {
   "cell_type": "code",
   "execution_count": 14,
   "id": "253ddeba",
   "metadata": {},
   "outputs": [
    {
     "data": {
      "application/vnd.plotly.v1+json": {
       "config": {
        "plotlyServerURL": "https://plot.ly"
       },
       "data": [
        {
         "hovertemplate": "variable=count<br>Kommun=%{x}<br>value=%{y}<extra></extra>",
         "legendgroup": "count",
         "marker": {
          "color": "#636efa",
          "pattern": {
           "shape": ""
          }
         },
         "name": "count",
         "orientation": "v",
         "showlegend": true,
         "textposition": "auto",
         "type": "bar",
         "x": [
          "Flera kommuner",
          "Stockholm",
          "Göteborg",
          "Malmö",
          "Linköping",
          "Solna",
          "Jönköping",
          "Örebro",
          "Västerås",
          "Helsingborg",
          "Sundsvall",
          "Skellefteå",
          "Umeå",
          "Botkyrka",
          "Mölndal",
          "Norrköping",
          "Uppsala",
          "Borås",
          "Lund",
          "Växjö",
          "Södertälje",
          "Nyköping",
          "Trollhättan",
          "Halmstad",
          "Vänersborg",
          "Varberg",
          "Karlshamn",
          "Piteå",
          "Habo",
          "Nässjö",
          "Hudiksvall",
          "Borlänge",
          "Örnsköldsvik",
          "Sigtuna",
          "Karlskrona",
          "Skövde",
          "Arboga",
          "Gävle",
          "Hässleholm",
          "Luleå",
          "Karlstad",
          "Filipstad",
          "Boden",
          "Nynäshamn",
          "Härryda",
          "Kristianstad",
          "Eskilstuna",
          "Kalmar",
          "Uddevalla",
          "Lidköping",
          "Eslöv",
          "Olofström",
          "Oskarshamn",
          "Arvika",
          "Härnösand",
          "Skara",
          "Östersund",
          "Ljungby",
          "Kramfors",
          "Norrtälje",
          "Krokom",
          "Staffanstorp",
          "Sunne",
          "Enköping",
          "Sandviken",
          "Ängelholm",
          "Värnamo",
          "Tibro",
          "Forshaga",
          "Båstad",
          "Falun",
          "Falkenberg",
          "Nacka",
          "Tranås",
          "Osby",
          "Hammarö",
          "Ronneby",
          "Mora",
          "Hultsfred",
          "Sollentuna",
          "Västervik",
          "Markaryd",
          "Kungälv",
          "Motala",
          "Askersund",
          "Götene",
          "Eksjö",
          "Höör",
          "Älmhult",
          "Upplands-Bro",
          "Sollefteå",
          "Klippan",
          "Åre",
          "Trelleborg",
          "Lindesberg",
          "Vellinge",
          "Mariestad",
          "Håbo",
          "Svedala",
          "Mörbylånga",
          "Haninge",
          "Katrineholm",
          "Kungsbacka",
          "Leksand"
         ],
         "xaxis": "x",
         "y": {
          "bdata": "JAH4AJ0AVgAgAB8AFgAWABQAEgAQAA8ACwAKAAkACAAIAAgACAAIAAgABwAHAAYABgAGAAYABgAGAAYABQAFAAUABQAFAAUABQAFAAUABQAFAAQABAAEAAQABAAEAAQABAAEAAQAAwADAAMAAwADAAMAAwADAAIAAgACAAIAAgACAAIAAgACAAIAAgACAAIAAgACAAEAAQABAAEAAQABAAEAAQABAAEAAQABAAEAAQABAAEAAQABAAEAAQABAAEAAQABAAEAAQABAAEAAQABAA==",
          "dtype": "i2"
         },
         "yaxis": "y"
        }
       ],
       "layout": {
        "barmode": "relative",
        "legend": {
         "title": {
          "text": "variable"
         },
         "tracegroupgap": 0
        },
        "margin": {
         "t": 60
        },
        "template": {
         "data": {
          "bar": [
           {
            "error_x": {
             "color": "#2a3f5f"
            },
            "error_y": {
             "color": "#2a3f5f"
            },
            "marker": {
             "line": {
              "color": "#E5ECF6",
              "width": 0.5
             },
             "pattern": {
              "fillmode": "overlay",
              "size": 10,
              "solidity": 0.2
             }
            },
            "type": "bar"
           }
          ],
          "barpolar": [
           {
            "marker": {
             "line": {
              "color": "#E5ECF6",
              "width": 0.5
             },
             "pattern": {
              "fillmode": "overlay",
              "size": 10,
              "solidity": 0.2
             }
            },
            "type": "barpolar"
           }
          ],
          "carpet": [
           {
            "aaxis": {
             "endlinecolor": "#2a3f5f",
             "gridcolor": "white",
             "linecolor": "white",
             "minorgridcolor": "white",
             "startlinecolor": "#2a3f5f"
            },
            "baxis": {
             "endlinecolor": "#2a3f5f",
             "gridcolor": "white",
             "linecolor": "white",
             "minorgridcolor": "white",
             "startlinecolor": "#2a3f5f"
            },
            "type": "carpet"
           }
          ],
          "choropleth": [
           {
            "colorbar": {
             "outlinewidth": 0,
             "ticks": ""
            },
            "type": "choropleth"
           }
          ],
          "contour": [
           {
            "colorbar": {
             "outlinewidth": 0,
             "ticks": ""
            },
            "colorscale": [
             [
              0,
              "#0d0887"
             ],
             [
              0.1111111111111111,
              "#46039f"
             ],
             [
              0.2222222222222222,
              "#7201a8"
             ],
             [
              0.3333333333333333,
              "#9c179e"
             ],
             [
              0.4444444444444444,
              "#bd3786"
             ],
             [
              0.5555555555555556,
              "#d8576b"
             ],
             [
              0.6666666666666666,
              "#ed7953"
             ],
             [
              0.7777777777777778,
              "#fb9f3a"
             ],
             [
              0.8888888888888888,
              "#fdca26"
             ],
             [
              1,
              "#f0f921"
             ]
            ],
            "type": "contour"
           }
          ],
          "contourcarpet": [
           {
            "colorbar": {
             "outlinewidth": 0,
             "ticks": ""
            },
            "type": "contourcarpet"
           }
          ],
          "heatmap": [
           {
            "colorbar": {
             "outlinewidth": 0,
             "ticks": ""
            },
            "colorscale": [
             [
              0,
              "#0d0887"
             ],
             [
              0.1111111111111111,
              "#46039f"
             ],
             [
              0.2222222222222222,
              "#7201a8"
             ],
             [
              0.3333333333333333,
              "#9c179e"
             ],
             [
              0.4444444444444444,
              "#bd3786"
             ],
             [
              0.5555555555555556,
              "#d8576b"
             ],
             [
              0.6666666666666666,
              "#ed7953"
             ],
             [
              0.7777777777777778,
              "#fb9f3a"
             ],
             [
              0.8888888888888888,
              "#fdca26"
             ],
             [
              1,
              "#f0f921"
             ]
            ],
            "type": "heatmap"
           }
          ],
          "histogram": [
           {
            "marker": {
             "pattern": {
              "fillmode": "overlay",
              "size": 10,
              "solidity": 0.2
             }
            },
            "type": "histogram"
           }
          ],
          "histogram2d": [
           {
            "colorbar": {
             "outlinewidth": 0,
             "ticks": ""
            },
            "colorscale": [
             [
              0,
              "#0d0887"
             ],
             [
              0.1111111111111111,
              "#46039f"
             ],
             [
              0.2222222222222222,
              "#7201a8"
             ],
             [
              0.3333333333333333,
              "#9c179e"
             ],
             [
              0.4444444444444444,
              "#bd3786"
             ],
             [
              0.5555555555555556,
              "#d8576b"
             ],
             [
              0.6666666666666666,
              "#ed7953"
             ],
             [
              0.7777777777777778,
              "#fb9f3a"
             ],
             [
              0.8888888888888888,
              "#fdca26"
             ],
             [
              1,
              "#f0f921"
             ]
            ],
            "type": "histogram2d"
           }
          ],
          "histogram2dcontour": [
           {
            "colorbar": {
             "outlinewidth": 0,
             "ticks": ""
            },
            "colorscale": [
             [
              0,
              "#0d0887"
             ],
             [
              0.1111111111111111,
              "#46039f"
             ],
             [
              0.2222222222222222,
              "#7201a8"
             ],
             [
              0.3333333333333333,
              "#9c179e"
             ],
             [
              0.4444444444444444,
              "#bd3786"
             ],
             [
              0.5555555555555556,
              "#d8576b"
             ],
             [
              0.6666666666666666,
              "#ed7953"
             ],
             [
              0.7777777777777778,
              "#fb9f3a"
             ],
             [
              0.8888888888888888,
              "#fdca26"
             ],
             [
              1,
              "#f0f921"
             ]
            ],
            "type": "histogram2dcontour"
           }
          ],
          "mesh3d": [
           {
            "colorbar": {
             "outlinewidth": 0,
             "ticks": ""
            },
            "type": "mesh3d"
           }
          ],
          "parcoords": [
           {
            "line": {
             "colorbar": {
              "outlinewidth": 0,
              "ticks": ""
             }
            },
            "type": "parcoords"
           }
          ],
          "pie": [
           {
            "automargin": true,
            "type": "pie"
           }
          ],
          "scatter": [
           {
            "fillpattern": {
             "fillmode": "overlay",
             "size": 10,
             "solidity": 0.2
            },
            "type": "scatter"
           }
          ],
          "scatter3d": [
           {
            "line": {
             "colorbar": {
              "outlinewidth": 0,
              "ticks": ""
             }
            },
            "marker": {
             "colorbar": {
              "outlinewidth": 0,
              "ticks": ""
             }
            },
            "type": "scatter3d"
           }
          ],
          "scattercarpet": [
           {
            "marker": {
             "colorbar": {
              "outlinewidth": 0,
              "ticks": ""
             }
            },
            "type": "scattercarpet"
           }
          ],
          "scattergeo": [
           {
            "marker": {
             "colorbar": {
              "outlinewidth": 0,
              "ticks": ""
             }
            },
            "type": "scattergeo"
           }
          ],
          "scattergl": [
           {
            "marker": {
             "colorbar": {
              "outlinewidth": 0,
              "ticks": ""
             }
            },
            "type": "scattergl"
           }
          ],
          "scattermap": [
           {
            "marker": {
             "colorbar": {
              "outlinewidth": 0,
              "ticks": ""
             }
            },
            "type": "scattermap"
           }
          ],
          "scattermapbox": [
           {
            "marker": {
             "colorbar": {
              "outlinewidth": 0,
              "ticks": ""
             }
            },
            "type": "scattermapbox"
           }
          ],
          "scatterpolar": [
           {
            "marker": {
             "colorbar": {
              "outlinewidth": 0,
              "ticks": ""
             }
            },
            "type": "scatterpolar"
           }
          ],
          "scatterpolargl": [
           {
            "marker": {
             "colorbar": {
              "outlinewidth": 0,
              "ticks": ""
             }
            },
            "type": "scatterpolargl"
           }
          ],
          "scatterternary": [
           {
            "marker": {
             "colorbar": {
              "outlinewidth": 0,
              "ticks": ""
             }
            },
            "type": "scatterternary"
           }
          ],
          "surface": [
           {
            "colorbar": {
             "outlinewidth": 0,
             "ticks": ""
            },
            "colorscale": [
             [
              0,
              "#0d0887"
             ],
             [
              0.1111111111111111,
              "#46039f"
             ],
             [
              0.2222222222222222,
              "#7201a8"
             ],
             [
              0.3333333333333333,
              "#9c179e"
             ],
             [
              0.4444444444444444,
              "#bd3786"
             ],
             [
              0.5555555555555556,
              "#d8576b"
             ],
             [
              0.6666666666666666,
              "#ed7953"
             ],
             [
              0.7777777777777778,
              "#fb9f3a"
             ],
             [
              0.8888888888888888,
              "#fdca26"
             ],
             [
              1,
              "#f0f921"
             ]
            ],
            "type": "surface"
           }
          ],
          "table": [
           {
            "cells": {
             "fill": {
              "color": "#EBF0F8"
             },
             "line": {
              "color": "white"
             }
            },
            "header": {
             "fill": {
              "color": "#C8D4E3"
             },
             "line": {
              "color": "white"
             }
            },
            "type": "table"
           }
          ]
         },
         "layout": {
          "annotationdefaults": {
           "arrowcolor": "#2a3f5f",
           "arrowhead": 0,
           "arrowwidth": 1
          },
          "autotypenumbers": "strict",
          "coloraxis": {
           "colorbar": {
            "outlinewidth": 0,
            "ticks": ""
           }
          },
          "colorscale": {
           "diverging": [
            [
             0,
             "#8e0152"
            ],
            [
             0.1,
             "#c51b7d"
            ],
            [
             0.2,
             "#de77ae"
            ],
            [
             0.3,
             "#f1b6da"
            ],
            [
             0.4,
             "#fde0ef"
            ],
            [
             0.5,
             "#f7f7f7"
            ],
            [
             0.6,
             "#e6f5d0"
            ],
            [
             0.7,
             "#b8e186"
            ],
            [
             0.8,
             "#7fbc41"
            ],
            [
             0.9,
             "#4d9221"
            ],
            [
             1,
             "#276419"
            ]
           ],
           "sequential": [
            [
             0,
             "#0d0887"
            ],
            [
             0.1111111111111111,
             "#46039f"
            ],
            [
             0.2222222222222222,
             "#7201a8"
            ],
            [
             0.3333333333333333,
             "#9c179e"
            ],
            [
             0.4444444444444444,
             "#bd3786"
            ],
            [
             0.5555555555555556,
             "#d8576b"
            ],
            [
             0.6666666666666666,
             "#ed7953"
            ],
            [
             0.7777777777777778,
             "#fb9f3a"
            ],
            [
             0.8888888888888888,
             "#fdca26"
            ],
            [
             1,
             "#f0f921"
            ]
           ],
           "sequentialminus": [
            [
             0,
             "#0d0887"
            ],
            [
             0.1111111111111111,
             "#46039f"
            ],
            [
             0.2222222222222222,
             "#7201a8"
            ],
            [
             0.3333333333333333,
             "#9c179e"
            ],
            [
             0.4444444444444444,
             "#bd3786"
            ],
            [
             0.5555555555555556,
             "#d8576b"
            ],
            [
             0.6666666666666666,
             "#ed7953"
            ],
            [
             0.7777777777777778,
             "#fb9f3a"
            ],
            [
             0.8888888888888888,
             "#fdca26"
            ],
            [
             1,
             "#f0f921"
            ]
           ]
          },
          "colorway": [
           "#636efa",
           "#EF553B",
           "#00cc96",
           "#ab63fa",
           "#FFA15A",
           "#19d3f3",
           "#FF6692",
           "#B6E880",
           "#FF97FF",
           "#FECB52"
          ],
          "font": {
           "color": "#2a3f5f"
          },
          "geo": {
           "bgcolor": "white",
           "lakecolor": "white",
           "landcolor": "#E5ECF6",
           "showlakes": true,
           "showland": true,
           "subunitcolor": "white"
          },
          "hoverlabel": {
           "align": "left"
          },
          "hovermode": "closest",
          "mapbox": {
           "style": "light"
          },
          "paper_bgcolor": "white",
          "plot_bgcolor": "#E5ECF6",
          "polar": {
           "angularaxis": {
            "gridcolor": "white",
            "linecolor": "white",
            "ticks": ""
           },
           "bgcolor": "#E5ECF6",
           "radialaxis": {
            "gridcolor": "white",
            "linecolor": "white",
            "ticks": ""
           }
          },
          "scene": {
           "xaxis": {
            "backgroundcolor": "#E5ECF6",
            "gridcolor": "white",
            "gridwidth": 2,
            "linecolor": "white",
            "showbackground": true,
            "ticks": "",
            "zerolinecolor": "white"
           },
           "yaxis": {
            "backgroundcolor": "#E5ECF6",
            "gridcolor": "white",
            "gridwidth": 2,
            "linecolor": "white",
            "showbackground": true,
            "ticks": "",
            "zerolinecolor": "white"
           },
           "zaxis": {
            "backgroundcolor": "#E5ECF6",
            "gridcolor": "white",
            "gridwidth": 2,
            "linecolor": "white",
            "showbackground": true,
            "ticks": "",
            "zerolinecolor": "white"
           }
          },
          "shapedefaults": {
           "line": {
            "color": "#2a3f5f"
           }
          },
          "ternary": {
           "aaxis": {
            "gridcolor": "white",
            "linecolor": "white",
            "ticks": ""
           },
           "baxis": {
            "gridcolor": "white",
            "linecolor": "white",
            "ticks": ""
           },
           "bgcolor": "#E5ECF6",
           "caxis": {
            "gridcolor": "white",
            "linecolor": "white",
            "ticks": ""
           }
          },
          "title": {
           "x": 0.05
          },
          "xaxis": {
           "automargin": true,
           "gridcolor": "white",
           "linecolor": "white",
           "ticks": "",
           "title": {
            "standoff": 15
           },
           "zerolinecolor": "white",
           "zerolinewidth": 2
          },
          "yaxis": {
           "automargin": true,
           "gridcolor": "white",
           "linecolor": "white",
           "ticks": "",
           "title": {
            "standoff": 15
           },
           "zerolinecolor": "white",
           "zerolinewidth": 2
          }
         }
        },
        "xaxis": {
         "anchor": "y",
         "domain": [
          0,
          1
         ],
         "title": {
          "text": "Kommun"
         }
        },
        "yaxis": {
         "anchor": "x",
         "domain": [
          0,
          1
         ],
         "title": {
          "text": "value"
         }
        }
       }
      }
     },
     "metadata": {},
     "output_type": "display_data"
    }
   ],
   "source": [
    "px.bar(df[\"Kommun\"].value_counts())"
   ]
  },
  {
   "cell_type": "code",
   "execution_count": 16,
   "id": "021c9ae3",
   "metadata": {},
   "outputs": [
    {
     "data": {
      "text/html": [
       "<div>\n",
       "<style scoped>\n",
       "    .dataframe tbody tr th:only-of-type {\n",
       "        vertical-align: middle;\n",
       "    }\n",
       "\n",
       "    .dataframe tbody tr th {\n",
       "        vertical-align: top;\n",
       "    }\n",
       "\n",
       "    .dataframe thead th {\n",
       "        text-align: right;\n",
       "    }\n",
       "</style>\n",
       "<table border=\"1\" class=\"dataframe\">\n",
       "  <thead>\n",
       "    <tr style=\"text-align: right;\">\n",
       "      <th></th>\n",
       "      <th>Kommun</th>\n",
       "      <th>Ansökta utbildningar</th>\n",
       "    </tr>\n",
       "  </thead>\n",
       "  <tbody>\n",
       "    <tr>\n",
       "      <th>0</th>\n",
       "      <td>Stockholm</td>\n",
       "      <td>70</td>\n",
       "    </tr>\n",
       "    <tr>\n",
       "      <th>1</th>\n",
       "      <td>Flera kommuner</td>\n",
       "      <td>58</td>\n",
       "    </tr>\n",
       "    <tr>\n",
       "      <th>2</th>\n",
       "      <td>Göteborg</td>\n",
       "      <td>51</td>\n",
       "    </tr>\n",
       "    <tr>\n",
       "      <th>3</th>\n",
       "      <td>Malmö</td>\n",
       "      <td>30</td>\n",
       "    </tr>\n",
       "    <tr>\n",
       "      <th>4</th>\n",
       "      <td>Solna</td>\n",
       "      <td>14</td>\n",
       "    </tr>\n",
       "    <tr>\n",
       "      <th>5</th>\n",
       "      <td>Sundsvall</td>\n",
       "      <td>10</td>\n",
       "    </tr>\n",
       "    <tr>\n",
       "      <th>6</th>\n",
       "      <td>Linköping</td>\n",
       "      <td>10</td>\n",
       "    </tr>\n",
       "    <tr>\n",
       "      <th>7</th>\n",
       "      <td>Mölndal</td>\n",
       "      <td>7</td>\n",
       "    </tr>\n",
       "    <tr>\n",
       "      <th>8</th>\n",
       "      <td>Örebro</td>\n",
       "      <td>6</td>\n",
       "    </tr>\n",
       "    <tr>\n",
       "      <th>9</th>\n",
       "      <td>Västerås</td>\n",
       "      <td>4</td>\n",
       "    </tr>\n",
       "    <tr>\n",
       "      <th>10</th>\n",
       "      <td>Umeå</td>\n",
       "      <td>3</td>\n",
       "    </tr>\n",
       "    <tr>\n",
       "      <th>11</th>\n",
       "      <td>Växjö</td>\n",
       "      <td>3</td>\n",
       "    </tr>\n",
       "    <tr>\n",
       "      <th>12</th>\n",
       "      <td>Helsingborg</td>\n",
       "      <td>3</td>\n",
       "    </tr>\n",
       "    <tr>\n",
       "      <th>13</th>\n",
       "      <td>Halmstad</td>\n",
       "      <td>2</td>\n",
       "    </tr>\n",
       "    <tr>\n",
       "      <th>14</th>\n",
       "      <td>Borås</td>\n",
       "      <td>2</td>\n",
       "    </tr>\n",
       "    <tr>\n",
       "      <th>15</th>\n",
       "      <td>Karlstad</td>\n",
       "      <td>2</td>\n",
       "    </tr>\n",
       "    <tr>\n",
       "      <th>16</th>\n",
       "      <td>Karlshamn</td>\n",
       "      <td>2</td>\n",
       "    </tr>\n",
       "    <tr>\n",
       "      <th>17</th>\n",
       "      <td>Trollhättan</td>\n",
       "      <td>1</td>\n",
       "    </tr>\n",
       "    <tr>\n",
       "      <th>18</th>\n",
       "      <td>Kalmar</td>\n",
       "      <td>1</td>\n",
       "    </tr>\n",
       "    <tr>\n",
       "      <th>19</th>\n",
       "      <td>Norrköping</td>\n",
       "      <td>1</td>\n",
       "    </tr>\n",
       "    <tr>\n",
       "      <th>20</th>\n",
       "      <td>Jönköping</td>\n",
       "      <td>1</td>\n",
       "    </tr>\n",
       "    <tr>\n",
       "      <th>21</th>\n",
       "      <td>Värnamo</td>\n",
       "      <td>1</td>\n",
       "    </tr>\n",
       "    <tr>\n",
       "      <th>22</th>\n",
       "      <td>Luleå</td>\n",
       "      <td>1</td>\n",
       "    </tr>\n",
       "    <tr>\n",
       "      <th>23</th>\n",
       "      <td>Älmhult</td>\n",
       "      <td>1</td>\n",
       "    </tr>\n",
       "    <tr>\n",
       "      <th>24</th>\n",
       "      <td>Botkyrka</td>\n",
       "      <td>1</td>\n",
       "    </tr>\n",
       "    <tr>\n",
       "      <th>25</th>\n",
       "      <td>Varberg</td>\n",
       "      <td>1</td>\n",
       "    </tr>\n",
       "    <tr>\n",
       "      <th>26</th>\n",
       "      <td>Skellefteå</td>\n",
       "      <td>1</td>\n",
       "    </tr>\n",
       "    <tr>\n",
       "      <th>27</th>\n",
       "      <td>Gävle</td>\n",
       "      <td>1</td>\n",
       "    </tr>\n",
       "    <tr>\n",
       "      <th>28</th>\n",
       "      <td>Arboga</td>\n",
       "      <td>1</td>\n",
       "    </tr>\n",
       "  </tbody>\n",
       "</table>\n",
       "</div>"
      ],
      "text/plain": [
       "            Kommun  Ansökta utbildningar\n",
       "0        Stockholm                    70\n",
       "1   Flera kommuner                    58\n",
       "2         Göteborg                    51\n",
       "3            Malmö                    30\n",
       "4            Solna                    14\n",
       "5        Sundsvall                    10\n",
       "6        Linköping                    10\n",
       "7          Mölndal                     7\n",
       "8           Örebro                     6\n",
       "9         Västerås                     4\n",
       "10            Umeå                     3\n",
       "11           Växjö                     3\n",
       "12     Helsingborg                     3\n",
       "13        Halmstad                     2\n",
       "14           Borås                     2\n",
       "15        Karlstad                     2\n",
       "16       Karlshamn                     2\n",
       "17     Trollhättan                     1\n",
       "18          Kalmar                     1\n",
       "19      Norrköping                     1\n",
       "20       Jönköping                     1\n",
       "21         Värnamo                     1\n",
       "22           Luleå                     1\n",
       "23         Älmhult                     1\n",
       "24        Botkyrka                     1\n",
       "25         Varberg                     1\n",
       "26      Skellefteå                     1\n",
       "27           Gävle                     1\n",
       "28          Arboga                     1"
      ]
     },
     "execution_count": 16,
     "metadata": {},
     "output_type": "execute_result"
    }
   ],
   "source": [
    "def filter_df_municipality(df, educational_area = \"Data/IT\" ):\n",
    "    return (\n",
    "    df.query(\"Utbildningsområde == @educational_area\")[\"Kommun\"]\n",
    "    .value_counts()\n",
    "    .reset_index()\n",
    "    .rename({\"count\": \"Ansökta utbildningar\"}, axis=1)\n",
    ")\n",
    "\n",
    "df_municipality = filter_df_municipality(df)\n",
    "df_municipality"
   ]
  },
  {
   "cell_type": "code",
   "execution_count": 17,
   "id": "b096e520",
   "metadata": {},
   "outputs": [
    {
     "data": {
      "application/vnd.plotly.v1+json": {
       "config": {
        "plotlyServerURL": "https://plot.ly"
       },
       "data": [
        {
         "hovertemplate": "<b>%{y}</b><br>Ansökta utbildningar: %{x}",
         "legendgroup": "",
         "marker": {
          "color": "#636efa",
          "pattern": {
           "shape": ""
          }
         },
         "name": "",
         "orientation": "h",
         "showlegend": false,
         "text": [
          "  70  ",
          "  58  ",
          "  51  ",
          "  30  ",
          "  14  ",
          "  10  ",
          "  10  ",
          "  7  ",
          "  6  ",
          "  4  ",
          "  3  ",
          "  3  ",
          "  3  ",
          "  2  ",
          "  2  ",
          "  2  ",
          "  2  ",
          "  1  ",
          "  1  ",
          "  1  ",
          "  1  ",
          "  1  ",
          "  1  ",
          "  1  ",
          "  1  ",
          "  1  ",
          "  1  ",
          "  1  ",
          "  1  "
         ],
         "textposition": "outside",
         "type": "bar",
         "x": {
          "bdata": "RjozHg4KCgcGBAMDAwICAgIBAQEBAQEBAQEBAQE=",
          "dtype": "i1"
         },
         "xaxis": "x",
         "y": [
          "Stockholm",
          "Flera kommuner",
          "Göteborg",
          "Malmö",
          "Solna",
          "Sundsvall",
          "Linköping",
          "Mölndal",
          "Örebro",
          "Västerås",
          "Umeå",
          "Växjö",
          "Helsingborg",
          "Halmstad",
          "Borås",
          "Karlstad",
          "Karlshamn",
          "Trollhättan",
          "Kalmar",
          "Norrköping",
          "Jönköping",
          "Värnamo",
          "Luleå",
          "Älmhult",
          "Botkyrka",
          "Varberg",
          "Skellefteå",
          "Gävle",
          "Arboga"
         ],
         "yaxis": "y"
        }
       ],
       "layout": {
        "barmode": "relative",
        "legend": {
         "tracegroupgap": 0
        },
        "margin": {
         "b": 50,
         "l": 40,
         "r": 30,
         "t": 0
        },
        "plot_bgcolor": "white",
        "template": {
         "data": {
          "bar": [
           {
            "error_x": {
             "color": "#2a3f5f"
            },
            "error_y": {
             "color": "#2a3f5f"
            },
            "marker": {
             "line": {
              "color": "#E5ECF6",
              "width": 0.5
             },
             "pattern": {
              "fillmode": "overlay",
              "size": 10,
              "solidity": 0.2
             }
            },
            "type": "bar"
           }
          ],
          "barpolar": [
           {
            "marker": {
             "line": {
              "color": "#E5ECF6",
              "width": 0.5
             },
             "pattern": {
              "fillmode": "overlay",
              "size": 10,
              "solidity": 0.2
             }
            },
            "type": "barpolar"
           }
          ],
          "carpet": [
           {
            "aaxis": {
             "endlinecolor": "#2a3f5f",
             "gridcolor": "white",
             "linecolor": "white",
             "minorgridcolor": "white",
             "startlinecolor": "#2a3f5f"
            },
            "baxis": {
             "endlinecolor": "#2a3f5f",
             "gridcolor": "white",
             "linecolor": "white",
             "minorgridcolor": "white",
             "startlinecolor": "#2a3f5f"
            },
            "type": "carpet"
           }
          ],
          "choropleth": [
           {
            "colorbar": {
             "outlinewidth": 0,
             "ticks": ""
            },
            "type": "choropleth"
           }
          ],
          "contour": [
           {
            "colorbar": {
             "outlinewidth": 0,
             "ticks": ""
            },
            "colorscale": [
             [
              0,
              "#0d0887"
             ],
             [
              0.1111111111111111,
              "#46039f"
             ],
             [
              0.2222222222222222,
              "#7201a8"
             ],
             [
              0.3333333333333333,
              "#9c179e"
             ],
             [
              0.4444444444444444,
              "#bd3786"
             ],
             [
              0.5555555555555556,
              "#d8576b"
             ],
             [
              0.6666666666666666,
              "#ed7953"
             ],
             [
              0.7777777777777778,
              "#fb9f3a"
             ],
             [
              0.8888888888888888,
              "#fdca26"
             ],
             [
              1,
              "#f0f921"
             ]
            ],
            "type": "contour"
           }
          ],
          "contourcarpet": [
           {
            "colorbar": {
             "outlinewidth": 0,
             "ticks": ""
            },
            "type": "contourcarpet"
           }
          ],
          "heatmap": [
           {
            "colorbar": {
             "outlinewidth": 0,
             "ticks": ""
            },
            "colorscale": [
             [
              0,
              "#0d0887"
             ],
             [
              0.1111111111111111,
              "#46039f"
             ],
             [
              0.2222222222222222,
              "#7201a8"
             ],
             [
              0.3333333333333333,
              "#9c179e"
             ],
             [
              0.4444444444444444,
              "#bd3786"
             ],
             [
              0.5555555555555556,
              "#d8576b"
             ],
             [
              0.6666666666666666,
              "#ed7953"
             ],
             [
              0.7777777777777778,
              "#fb9f3a"
             ],
             [
              0.8888888888888888,
              "#fdca26"
             ],
             [
              1,
              "#f0f921"
             ]
            ],
            "type": "heatmap"
           }
          ],
          "histogram": [
           {
            "marker": {
             "pattern": {
              "fillmode": "overlay",
              "size": 10,
              "solidity": 0.2
             }
            },
            "type": "histogram"
           }
          ],
          "histogram2d": [
           {
            "colorbar": {
             "outlinewidth": 0,
             "ticks": ""
            },
            "colorscale": [
             [
              0,
              "#0d0887"
             ],
             [
              0.1111111111111111,
              "#46039f"
             ],
             [
              0.2222222222222222,
              "#7201a8"
             ],
             [
              0.3333333333333333,
              "#9c179e"
             ],
             [
              0.4444444444444444,
              "#bd3786"
             ],
             [
              0.5555555555555556,
              "#d8576b"
             ],
             [
              0.6666666666666666,
              "#ed7953"
             ],
             [
              0.7777777777777778,
              "#fb9f3a"
             ],
             [
              0.8888888888888888,
              "#fdca26"
             ],
             [
              1,
              "#f0f921"
             ]
            ],
            "type": "histogram2d"
           }
          ],
          "histogram2dcontour": [
           {
            "colorbar": {
             "outlinewidth": 0,
             "ticks": ""
            },
            "colorscale": [
             [
              0,
              "#0d0887"
             ],
             [
              0.1111111111111111,
              "#46039f"
             ],
             [
              0.2222222222222222,
              "#7201a8"
             ],
             [
              0.3333333333333333,
              "#9c179e"
             ],
             [
              0.4444444444444444,
              "#bd3786"
             ],
             [
              0.5555555555555556,
              "#d8576b"
             ],
             [
              0.6666666666666666,
              "#ed7953"
             ],
             [
              0.7777777777777778,
              "#fb9f3a"
             ],
             [
              0.8888888888888888,
              "#fdca26"
             ],
             [
              1,
              "#f0f921"
             ]
            ],
            "type": "histogram2dcontour"
           }
          ],
          "mesh3d": [
           {
            "colorbar": {
             "outlinewidth": 0,
             "ticks": ""
            },
            "type": "mesh3d"
           }
          ],
          "parcoords": [
           {
            "line": {
             "colorbar": {
              "outlinewidth": 0,
              "ticks": ""
             }
            },
            "type": "parcoords"
           }
          ],
          "pie": [
           {
            "automargin": true,
            "type": "pie"
           }
          ],
          "scatter": [
           {
            "fillpattern": {
             "fillmode": "overlay",
             "size": 10,
             "solidity": 0.2
            },
            "type": "scatter"
           }
          ],
          "scatter3d": [
           {
            "line": {
             "colorbar": {
              "outlinewidth": 0,
              "ticks": ""
             }
            },
            "marker": {
             "colorbar": {
              "outlinewidth": 0,
              "ticks": ""
             }
            },
            "type": "scatter3d"
           }
          ],
          "scattercarpet": [
           {
            "marker": {
             "colorbar": {
              "outlinewidth": 0,
              "ticks": ""
             }
            },
            "type": "scattercarpet"
           }
          ],
          "scattergeo": [
           {
            "marker": {
             "colorbar": {
              "outlinewidth": 0,
              "ticks": ""
             }
            },
            "type": "scattergeo"
           }
          ],
          "scattergl": [
           {
            "marker": {
             "colorbar": {
              "outlinewidth": 0,
              "ticks": ""
             }
            },
            "type": "scattergl"
           }
          ],
          "scattermap": [
           {
            "marker": {
             "colorbar": {
              "outlinewidth": 0,
              "ticks": ""
             }
            },
            "type": "scattermap"
           }
          ],
          "scattermapbox": [
           {
            "marker": {
             "colorbar": {
              "outlinewidth": 0,
              "ticks": ""
             }
            },
            "type": "scattermapbox"
           }
          ],
          "scatterpolar": [
           {
            "marker": {
             "colorbar": {
              "outlinewidth": 0,
              "ticks": ""
             }
            },
            "type": "scatterpolar"
           }
          ],
          "scatterpolargl": [
           {
            "marker": {
             "colorbar": {
              "outlinewidth": 0,
              "ticks": ""
             }
            },
            "type": "scatterpolargl"
           }
          ],
          "scatterternary": [
           {
            "marker": {
             "colorbar": {
              "outlinewidth": 0,
              "ticks": ""
             }
            },
            "type": "scatterternary"
           }
          ],
          "surface": [
           {
            "colorbar": {
             "outlinewidth": 0,
             "ticks": ""
            },
            "colorscale": [
             [
              0,
              "#0d0887"
             ],
             [
              0.1111111111111111,
              "#46039f"
             ],
             [
              0.2222222222222222,
              "#7201a8"
             ],
             [
              0.3333333333333333,
              "#9c179e"
             ],
             [
              0.4444444444444444,
              "#bd3786"
             ],
             [
              0.5555555555555556,
              "#d8576b"
             ],
             [
              0.6666666666666666,
              "#ed7953"
             ],
             [
              0.7777777777777778,
              "#fb9f3a"
             ],
             [
              0.8888888888888888,
              "#fdca26"
             ],
             [
              1,
              "#f0f921"
             ]
            ],
            "type": "surface"
           }
          ],
          "table": [
           {
            "cells": {
             "fill": {
              "color": "#EBF0F8"
             },
             "line": {
              "color": "white"
             }
            },
            "header": {
             "fill": {
              "color": "#C8D4E3"
             },
             "line": {
              "color": "white"
             }
            },
            "type": "table"
           }
          ]
         },
         "layout": {
          "annotationdefaults": {
           "arrowcolor": "#2a3f5f",
           "arrowhead": 0,
           "arrowwidth": 1
          },
          "autotypenumbers": "strict",
          "coloraxis": {
           "colorbar": {
            "outlinewidth": 0,
            "ticks": ""
           }
          },
          "colorscale": {
           "diverging": [
            [
             0,
             "#8e0152"
            ],
            [
             0.1,
             "#c51b7d"
            ],
            [
             0.2,
             "#de77ae"
            ],
            [
             0.3,
             "#f1b6da"
            ],
            [
             0.4,
             "#fde0ef"
            ],
            [
             0.5,
             "#f7f7f7"
            ],
            [
             0.6,
             "#e6f5d0"
            ],
            [
             0.7,
             "#b8e186"
            ],
            [
             0.8,
             "#7fbc41"
            ],
            [
             0.9,
             "#4d9221"
            ],
            [
             1,
             "#276419"
            ]
           ],
           "sequential": [
            [
             0,
             "#0d0887"
            ],
            [
             0.1111111111111111,
             "#46039f"
            ],
            [
             0.2222222222222222,
             "#7201a8"
            ],
            [
             0.3333333333333333,
             "#9c179e"
            ],
            [
             0.4444444444444444,
             "#bd3786"
            ],
            [
             0.5555555555555556,
             "#d8576b"
            ],
            [
             0.6666666666666666,
             "#ed7953"
            ],
            [
             0.7777777777777778,
             "#fb9f3a"
            ],
            [
             0.8888888888888888,
             "#fdca26"
            ],
            [
             1,
             "#f0f921"
            ]
           ],
           "sequentialminus": [
            [
             0,
             "#0d0887"
            ],
            [
             0.1111111111111111,
             "#46039f"
            ],
            [
             0.2222222222222222,
             "#7201a8"
            ],
            [
             0.3333333333333333,
             "#9c179e"
            ],
            [
             0.4444444444444444,
             "#bd3786"
            ],
            [
             0.5555555555555556,
             "#d8576b"
            ],
            [
             0.6666666666666666,
             "#ed7953"
            ],
            [
             0.7777777777777778,
             "#fb9f3a"
            ],
            [
             0.8888888888888888,
             "#fdca26"
            ],
            [
             1,
             "#f0f921"
            ]
           ]
          },
          "colorway": [
           "#636efa",
           "#EF553B",
           "#00cc96",
           "#ab63fa",
           "#FFA15A",
           "#19d3f3",
           "#FF6692",
           "#B6E880",
           "#FF97FF",
           "#FECB52"
          ],
          "font": {
           "color": "#2a3f5f"
          },
          "geo": {
           "bgcolor": "white",
           "lakecolor": "white",
           "landcolor": "#E5ECF6",
           "showlakes": true,
           "showland": true,
           "subunitcolor": "white"
          },
          "hoverlabel": {
           "align": "left"
          },
          "hovermode": "closest",
          "mapbox": {
           "style": "light"
          },
          "paper_bgcolor": "white",
          "plot_bgcolor": "#E5ECF6",
          "polar": {
           "angularaxis": {
            "gridcolor": "white",
            "linecolor": "white",
            "ticks": ""
           },
           "bgcolor": "#E5ECF6",
           "radialaxis": {
            "gridcolor": "white",
            "linecolor": "white",
            "ticks": ""
           }
          },
          "scene": {
           "xaxis": {
            "backgroundcolor": "#E5ECF6",
            "gridcolor": "white",
            "gridwidth": 2,
            "linecolor": "white",
            "showbackground": true,
            "ticks": "",
            "zerolinecolor": "white"
           },
           "yaxis": {
            "backgroundcolor": "#E5ECF6",
            "gridcolor": "white",
            "gridwidth": 2,
            "linecolor": "white",
            "showbackground": true,
            "ticks": "",
            "zerolinecolor": "white"
           },
           "zaxis": {
            "backgroundcolor": "#E5ECF6",
            "gridcolor": "white",
            "gridwidth": 2,
            "linecolor": "white",
            "showbackground": true,
            "ticks": "",
            "zerolinecolor": "white"
           }
          },
          "shapedefaults": {
           "line": {
            "color": "#2a3f5f"
           }
          },
          "ternary": {
           "aaxis": {
            "gridcolor": "white",
            "linecolor": "white",
            "ticks": ""
           },
           "baxis": {
            "gridcolor": "white",
            "linecolor": "white",
            "ticks": ""
           },
           "bgcolor": "#E5ECF6",
           "caxis": {
            "gridcolor": "white",
            "linecolor": "white",
            "ticks": ""
           }
          },
          "title": {
           "x": 0.05
          },
          "xaxis": {
           "automargin": true,
           "gridcolor": "white",
           "linecolor": "white",
           "ticks": "",
           "title": {
            "standoff": 15
           },
           "zerolinecolor": "white",
           "zerolinewidth": 2
          },
          "yaxis": {
           "automargin": true,
           "gridcolor": "white",
           "linecolor": "white",
           "ticks": "",
           "title": {
            "standoff": 15
           },
           "zerolinecolor": "white",
           "zerolinewidth": 2
          }
         }
        },
        "xaxis": {
         "anchor": "y",
         "domain": [
          0,
          1
         ],
         "linecolor": "lightgray",
         "showticklabels": false,
         "title": {
          "text": "<b># ANSÖKTA UTBILDNINGAR</b>"
         }
        },
        "yaxis": {
         "anchor": "x",
         "autorange": "reversed",
         "domain": [
          0,
          1
         ],
         "linecolor": "lightgray",
         "showline": true,
         "ticklabelposition": "outside left",
         "title": {
          "text": "<b>KOMMUN</b>"
         }
        }
       }
      }
     },
     "metadata": {},
     "output_type": "display_data"
    }
   ],
   "source": [
    "def create_municipality_bar(df, **options):\n",
    "    df[\"Ansökta_label\"] = df[\"Ansökta utbildningar\"].apply(\n",
    "        lambda row: \" \" * 2 + f\"{row}\" + \" \" * 2\n",
    "    )\n",
    "\n",
    "    fig = px.bar(\n",
    "        df,\n",
    "        y=\"Kommun\",\n",
    "        x=\"Ansökta utbildningar\",\n",
    "        text=\"Ansökta_label\",\n",
    "    )\n",
    "    fig.update_layout(\n",
    "        plot_bgcolor=\"white\",\n",
    "        margin=dict(t=0, l=40, r=30, b=50),\n",
    "        yaxis=dict(\n",
    "            autorange=\"reversed\",\n",
    "            ticklabelposition=\"outside left\",\n",
    "            showline=True,\n",
    "            linecolor=\"lightgray\",\n",
    "            title=dict(text=f\"<b>{options.get('ylabel')}</b>\"),\n",
    "        ),\n",
    "        xaxis=dict(\n",
    "            linecolor=\"lightgray\",\n",
    "            showticklabels=False,\n",
    "            title=f\"<b>{options.get('xlabel')}</b>\",\n",
    "        ),\n",
    "    )\n",
    "\n",
    "    fig.update_traces(\n",
    "        textposition=\"outside\",\n",
    "        hovertemplate=\"<b>%{y}</b><br>Ansökta utbildningar: %{x}\",\n",
    "    )\n",
    "\n",
    "    return fig\n",
    "\n",
    "create_municipality_bar(\n",
    "    df_municipality, xlabel=\"# ANSÖKTA UTBILDNINGAR\", ylabel=\"KOMMUN\"\n",
    "    )"
   ]
  },
  {
   "cell_type": "markdown",
   "id": "3a630f76",
   "metadata": {},
   "source": [
    "### Tabell 4"
   ]
  },
  {
   "cell_type": "code",
   "execution_count": 47,
   "id": "6f618b73",
   "metadata": {},
   "outputs": [
    {
     "name": "stdout",
     "output_type": "stream",
     "text": [
      "                                        Yrkeshögskolan       Unnamed: 1  \\\n",
      "0                                                  NaN              NaN   \n",
      "1    Utbildningar med utbildningsomgångar som är av...              NaN   \n",
      "2    Notera: Det finns ett filter för rubrikerna ne...              NaN   \n",
      "3                                                  NaN              NaN   \n",
      "4                                    Utbildningsområde  SUN5 inriktning   \n",
      "..                                                 ...              ...   \n",
      "842                                  Transporttjänster            840dy   \n",
      "843                                  Transporttjänster            840dy   \n",
      "844                                  Transporttjänster            840dy   \n",
      "845                                  Transporttjänster            840dy   \n",
      "846                                  Transporttjänster            840dy   \n",
      "\n",
      "                       Unnamed: 2                         Unnamed: 3  \\\n",
      "0                             NaN                                NaN   \n",
      "1                             NaN                                NaN   \n",
      "2                             NaN                                NaN   \n",
      "3                             NaN                                NaN   \n",
      "4            SUN5 inriktning namn                    Utbildningsnamn   \n",
      "..                            ...                                ...   \n",
      "842  Övriga utbildningar luftfart  UAS-operatör inom Samhällsbyggnad   \n",
      "843  Övriga utbildningar luftfart  UAS-operatör inom Samhällsbyggnad   \n",
      "844  Övriga utbildningar luftfart  UAS-operatör inom Samhällsbyggnad   \n",
      "845  Övriga utbildningar luftfart  UAS-operatör inom Samhällsbyggnad   \n",
      "846  Övriga utbildningar luftfart  UAS-operatör inom Samhällsbyggnad   \n",
      "\n",
      "    Unnamed: 4     Unnamed: 5       Unnamed: 6   Unnamed: 7      Unnamed: 8  \n",
      "0          NaN            NaN              NaN          NaN             NaN  \n",
      "1          NaN            NaN              NaN          NaN             NaN  \n",
      "2          NaN            NaN              NaN          NaN             NaN  \n",
      "3          NaN            NaN              NaN          NaN             NaN  \n",
      "4       Beslut   Diarienummer              Län       Kommun  Antal kommuner  \n",
      "..         ...            ...              ...          ...             ...  \n",
      "842     Avslag  MYH 2024/3326            Skåne  Helsingborg               5  \n",
      "843     Avslag  MYH 2024/3326          Uppsala   Älvkarleby               5  \n",
      "844     Avslag  MYH 2024/3326     Västerbotten         Umeå               5  \n",
      "845     Avslag  MYH 2024/3326  Västra Götaland     Göteborg               5  \n",
      "846     Avslag  MYH 2024/3326           Örebro       Örebro               5  \n",
      "\n",
      "[847 rows x 9 columns]\n"
     ]
    }
   ],
   "source": [
    "# Läs in Tabell 4\n",
    "df_tabell4 = xls.parse(\"Tabell 4\")\n",
    "\n",
    "print(df_tabell4)"
   ]
  },
  {
   "cell_type": "code",
   "execution_count": 50,
   "id": "e8681951",
   "metadata": {},
   "outputs": [
    {
     "data": {
      "text/html": [
       "<div>\n",
       "<style scoped>\n",
       "    .dataframe tbody tr th:only-of-type {\n",
       "        vertical-align: middle;\n",
       "    }\n",
       "\n",
       "    .dataframe tbody tr th {\n",
       "        vertical-align: top;\n",
       "    }\n",
       "\n",
       "    .dataframe thead th {\n",
       "        text-align: right;\n",
       "    }\n",
       "</style>\n",
       "<table border=\"1\" class=\"dataframe\">\n",
       "  <thead>\n",
       "    <tr style=\"text-align: right;\">\n",
       "      <th></th>\n",
       "      <th>Yrkeshögskolan</th>\n",
       "      <th>Unnamed: 1</th>\n",
       "      <th>Unnamed: 2</th>\n",
       "      <th>Unnamed: 3</th>\n",
       "      <th>Unnamed: 4</th>\n",
       "      <th>Unnamed: 5</th>\n",
       "      <th>Unnamed: 6</th>\n",
       "      <th>Unnamed: 7</th>\n",
       "      <th>Unnamed: 8</th>\n",
       "      <th>Unnamed: 9</th>\n",
       "      <th>...</th>\n",
       "      <th>Unnamed: 18</th>\n",
       "      <th>Unnamed: 19</th>\n",
       "      <th>Unnamed: 20</th>\n",
       "      <th>Unnamed: 21</th>\n",
       "      <th>Unnamed: 22</th>\n",
       "      <th>Unnamed: 23</th>\n",
       "      <th>Unnamed: 24</th>\n",
       "      <th>Unnamed: 25</th>\n",
       "      <th>Unnamed: 26</th>\n",
       "      <th>Unnamed: 27</th>\n",
       "    </tr>\n",
       "  </thead>\n",
       "  <tbody>\n",
       "    <tr>\n",
       "      <th>0</th>\n",
       "      <td>NaN</td>\n",
       "      <td>NaN</td>\n",
       "      <td>NaN</td>\n",
       "      <td>NaN</td>\n",
       "      <td>NaN</td>\n",
       "      <td>NaN</td>\n",
       "      <td>NaN</td>\n",
       "      <td>NaN</td>\n",
       "      <td>NaN</td>\n",
       "      <td>NaN</td>\n",
       "      <td>...</td>\n",
       "      <td>NaN</td>\n",
       "      <td>NaN</td>\n",
       "      <td>NaN</td>\n",
       "      <td>NaN</td>\n",
       "      <td>NaN</td>\n",
       "      <td>NaN</td>\n",
       "      <td>NaN</td>\n",
       "      <td>NaN</td>\n",
       "      <td>NaN</td>\n",
       "      <td>NaN</td>\n",
       "    </tr>\n",
       "    <tr>\n",
       "      <th>1</th>\n",
       "      <td>Ansökningar om att få bedriva yrkeshögskoleutb...</td>\n",
       "      <td>NaN</td>\n",
       "      <td>NaN</td>\n",
       "      <td>NaN</td>\n",
       "      <td>NaN</td>\n",
       "      <td>NaN</td>\n",
       "      <td>NaN</td>\n",
       "      <td>NaN</td>\n",
       "      <td>NaN</td>\n",
       "      <td>NaN</td>\n",
       "      <td>...</td>\n",
       "      <td>NaN</td>\n",
       "      <td>NaN</td>\n",
       "      <td>NaN</td>\n",
       "      <td>NaN</td>\n",
       "      <td>NaN</td>\n",
       "      <td>NaN</td>\n",
       "      <td>NaN</td>\n",
       "      <td>NaN</td>\n",
       "      <td>NaN</td>\n",
       "      <td>NaN</td>\n",
       "    </tr>\n",
       "    <tr>\n",
       "      <th>2</th>\n",
       "      <td>Avser ordinarie ansökningsomgång om att få bed...</td>\n",
       "      <td>NaN</td>\n",
       "      <td>NaN</td>\n",
       "      <td>NaN</td>\n",
       "      <td>NaN</td>\n",
       "      <td>NaN</td>\n",
       "      <td>NaN</td>\n",
       "      <td>NaN</td>\n",
       "      <td>NaN</td>\n",
       "      <td>NaN</td>\n",
       "      <td>...</td>\n",
       "      <td>NaN</td>\n",
       "      <td>NaN</td>\n",
       "      <td>NaN</td>\n",
       "      <td>NaN</td>\n",
       "      <td>NaN</td>\n",
       "      <td>NaN</td>\n",
       "      <td>NaN</td>\n",
       "      <td>NaN</td>\n",
       "      <td>NaN</td>\n",
       "      <td>NaN</td>\n",
       "    </tr>\n",
       "    <tr>\n",
       "      <th>3</th>\n",
       "      <td>NaN</td>\n",
       "      <td>NaN</td>\n",
       "      <td>NaN</td>\n",
       "      <td>NaN</td>\n",
       "      <td>NaN</td>\n",
       "      <td>NaN</td>\n",
       "      <td>NaN</td>\n",
       "      <td>NaN</td>\n",
       "      <td>NaN</td>\n",
       "      <td>NaN</td>\n",
       "      <td>...</td>\n",
       "      <td>NaN</td>\n",
       "      <td>NaN</td>\n",
       "      <td>NaN</td>\n",
       "      <td>NaN</td>\n",
       "      <td>NaN</td>\n",
       "      <td>NaN</td>\n",
       "      <td>NaN</td>\n",
       "      <td>NaN</td>\n",
       "      <td>NaN</td>\n",
       "      <td>NaN</td>\n",
       "    </tr>\n",
       "    <tr>\n",
       "      <th>4</th>\n",
       "      <td>Utbildningsområde</td>\n",
       "      <td>SUN5 inriktning</td>\n",
       "      <td>SUN5 inriktning namn</td>\n",
       "      <td>Utbildningsnamn</td>\n",
       "      <td>Beslut</td>\n",
       "      <td>Diarienummer</td>\n",
       "      <td>Flera kommuner</td>\n",
       "      <td>Antal kommuner</td>\n",
       "      <td>Län</td>\n",
       "      <td>Kommun</td>\n",
       "      <td>...</td>\n",
       "      <td>Sökta utbildningsomgångar</td>\n",
       "      <td>Beviljade utbildningsomgångar</td>\n",
       "      <td>Sökta platser per utbildningsomgång</td>\n",
       "      <td>Sökta platser totalt</td>\n",
       "      <td>Beviljade platser utbildningsomgång 1</td>\n",
       "      <td>Beviljade platser utbildningsomgång 2</td>\n",
       "      <td>Beviljade platser utbildningsomgång 3</td>\n",
       "      <td>Beviljade platser utbildningsomgång 4</td>\n",
       "      <td>Beviljade platser utbildningsomgång 5</td>\n",
       "      <td>Beviljade platser totalt</td>\n",
       "    </tr>\n",
       "    <tr>\n",
       "      <th>...</th>\n",
       "      <td>...</td>\n",
       "      <td>...</td>\n",
       "      <td>...</td>\n",
       "      <td>...</td>\n",
       "      <td>...</td>\n",
       "      <td>...</td>\n",
       "      <td>...</td>\n",
       "      <td>...</td>\n",
       "      <td>...</td>\n",
       "      <td>...</td>\n",
       "      <td>...</td>\n",
       "      <td>...</td>\n",
       "      <td>...</td>\n",
       "      <td>...</td>\n",
       "      <td>...</td>\n",
       "      <td>...</td>\n",
       "      <td>...</td>\n",
       "      <td>...</td>\n",
       "      <td>...</td>\n",
       "      <td>...</td>\n",
       "      <td>...</td>\n",
       "    </tr>\n",
       "    <tr>\n",
       "      <th>1272</th>\n",
       "      <td>Transporttjänster</td>\n",
       "      <td>840da</td>\n",
       "      <td>Utbildningar till trafikflygare</td>\n",
       "      <td>Integrerad Trafikflygarutbildning Statsstöd</td>\n",
       "      <td>Avslag</td>\n",
       "      <td>MYH 2024/3675</td>\n",
       "      <td>Nej</td>\n",
       "      <td>1</td>\n",
       "      <td>Västra Götaland</td>\n",
       "      <td>Göteborg</td>\n",
       "      <td>...</td>\n",
       "      <td>5</td>\n",
       "      <td>0</td>\n",
       "      <td>20</td>\n",
       "      <td>100</td>\n",
       "      <td>0</td>\n",
       "      <td>0</td>\n",
       "      <td>0</td>\n",
       "      <td>0</td>\n",
       "      <td>0</td>\n",
       "      <td>0</td>\n",
       "    </tr>\n",
       "    <tr>\n",
       "      <th>1273</th>\n",
       "      <td>Transporttjänster</td>\n",
       "      <td>840da</td>\n",
       "      <td>Utbildningar till trafikflygare</td>\n",
       "      <td>Trafikflygare med inriktning hållbarhet och pi...</td>\n",
       "      <td>Avslag</td>\n",
       "      <td>MYH 2024/3415</td>\n",
       "      <td>Nej</td>\n",
       "      <td>1</td>\n",
       "      <td>Västerbotten</td>\n",
       "      <td>Skellefteå</td>\n",
       "      <td>...</td>\n",
       "      <td>5</td>\n",
       "      <td>0</td>\n",
       "      <td>24</td>\n",
       "      <td>120</td>\n",
       "      <td>0</td>\n",
       "      <td>0</td>\n",
       "      <td>0</td>\n",
       "      <td>0</td>\n",
       "      <td>0</td>\n",
       "      <td>0</td>\n",
       "    </tr>\n",
       "    <tr>\n",
       "      <th>1274</th>\n",
       "      <td>Transporttjänster</td>\n",
       "      <td>840dy</td>\n",
       "      <td>Övriga utbildningar luftfart</td>\n",
       "      <td>UAS-operatör inom Samhällsbyggnad</td>\n",
       "      <td>Avslag</td>\n",
       "      <td>MYH 2024/3326</td>\n",
       "      <td>Ja</td>\n",
       "      <td>5</td>\n",
       "      <td>Flera kommuner</td>\n",
       "      <td>Flera kommuner</td>\n",
       "      <td>...</td>\n",
       "      <td>3</td>\n",
       "      <td>0</td>\n",
       "      <td>30</td>\n",
       "      <td>90</td>\n",
       "      <td>0</td>\n",
       "      <td>0</td>\n",
       "      <td>0</td>\n",
       "      <td>0</td>\n",
       "      <td>0</td>\n",
       "      <td>0</td>\n",
       "    </tr>\n",
       "    <tr>\n",
       "      <th>1275</th>\n",
       "      <td>Övrigt</td>\n",
       "      <td>999za</td>\n",
       "      <td>Traditionella hantverksyrken, lärling</td>\n",
       "      <td>Hantverkslärling - smala och traditionella han...</td>\n",
       "      <td>Beviljad</td>\n",
       "      <td>MYH 2024/3586</td>\n",
       "      <td>Nej</td>\n",
       "      <td>1</td>\n",
       "      <td>Dalarna</td>\n",
       "      <td>Leksand</td>\n",
       "      <td>...</td>\n",
       "      <td>5</td>\n",
       "      <td>5</td>\n",
       "      <td>35</td>\n",
       "      <td>175</td>\n",
       "      <td>35</td>\n",
       "      <td>35</td>\n",
       "      <td>35</td>\n",
       "      <td>35</td>\n",
       "      <td>35</td>\n",
       "      <td>175</td>\n",
       "    </tr>\n",
       "    <tr>\n",
       "      <th>1276</th>\n",
       "      <td>Övrigt</td>\n",
       "      <td>999za</td>\n",
       "      <td>Traditionella hantverksyrken, lärling</td>\n",
       "      <td>Lärlingsutbildning inom traditionellt hantverk</td>\n",
       "      <td>Beviljad</td>\n",
       "      <td>MYH 2024/3026</td>\n",
       "      <td>Nej</td>\n",
       "      <td>1</td>\n",
       "      <td>Stockholm</td>\n",
       "      <td>Stockholm</td>\n",
       "      <td>...</td>\n",
       "      <td>5</td>\n",
       "      <td>5</td>\n",
       "      <td>35</td>\n",
       "      <td>175</td>\n",
       "      <td>35</td>\n",
       "      <td>35</td>\n",
       "      <td>35</td>\n",
       "      <td>35</td>\n",
       "      <td>35</td>\n",
       "      <td>175</td>\n",
       "    </tr>\n",
       "  </tbody>\n",
       "</table>\n",
       "<p>1277 rows × 28 columns</p>\n",
       "</div>"
      ],
      "text/plain": [
       "                                         Yrkeshögskolan       Unnamed: 1  \\\n",
       "0                                                   NaN              NaN   \n",
       "1     Ansökningar om att få bedriva yrkeshögskoleutb...              NaN   \n",
       "2     Avser ordinarie ansökningsomgång om att få bed...              NaN   \n",
       "3                                                   NaN              NaN   \n",
       "4                                     Utbildningsområde  SUN5 inriktning   \n",
       "...                                                 ...              ...   \n",
       "1272                                  Transporttjänster            840da   \n",
       "1273                                  Transporttjänster            840da   \n",
       "1274                                  Transporttjänster            840dy   \n",
       "1275                                             Övrigt            999za   \n",
       "1276                                             Övrigt            999za   \n",
       "\n",
       "                                 Unnamed: 2  \\\n",
       "0                                       NaN   \n",
       "1                                       NaN   \n",
       "2                                       NaN   \n",
       "3                                       NaN   \n",
       "4                      SUN5 inriktning namn   \n",
       "...                                     ...   \n",
       "1272        Utbildningar till trafikflygare   \n",
       "1273        Utbildningar till trafikflygare   \n",
       "1274           Övriga utbildningar luftfart   \n",
       "1275  Traditionella hantverksyrken, lärling   \n",
       "1276  Traditionella hantverksyrken, lärling   \n",
       "\n",
       "                                             Unnamed: 3 Unnamed: 4  \\\n",
       "0                                                   NaN        NaN   \n",
       "1                                                   NaN        NaN   \n",
       "2                                                   NaN        NaN   \n",
       "3                                                   NaN        NaN   \n",
       "4                                       Utbildningsnamn     Beslut   \n",
       "...                                                 ...        ...   \n",
       "1272        Integrerad Trafikflygarutbildning Statsstöd     Avslag   \n",
       "1273  Trafikflygare med inriktning hållbarhet och pi...     Avslag   \n",
       "1274                  UAS-operatör inom Samhällsbyggnad     Avslag   \n",
       "1275  Hantverkslärling - smala och traditionella han...   Beviljad   \n",
       "1276     Lärlingsutbildning inom traditionellt hantverk   Beviljad   \n",
       "\n",
       "         Unnamed: 5      Unnamed: 6      Unnamed: 7       Unnamed: 8  \\\n",
       "0               NaN             NaN             NaN              NaN   \n",
       "1               NaN             NaN             NaN              NaN   \n",
       "2               NaN             NaN             NaN              NaN   \n",
       "3               NaN             NaN             NaN              NaN   \n",
       "4      Diarienummer  Flera kommuner  Antal kommuner              Län   \n",
       "...             ...             ...             ...              ...   \n",
       "1272  MYH 2024/3675             Nej               1  Västra Götaland   \n",
       "1273  MYH 2024/3415             Nej               1     Västerbotten   \n",
       "1274  MYH 2024/3326              Ja               5   Flera kommuner   \n",
       "1275  MYH 2024/3586             Nej               1          Dalarna   \n",
       "1276  MYH 2024/3026             Nej               1        Stockholm   \n",
       "\n",
       "          Unnamed: 9  ...                Unnamed: 18  \\\n",
       "0                NaN  ...                        NaN   \n",
       "1                NaN  ...                        NaN   \n",
       "2                NaN  ...                        NaN   \n",
       "3                NaN  ...                        NaN   \n",
       "4             Kommun  ...  Sökta utbildningsomgångar   \n",
       "...              ...  ...                        ...   \n",
       "1272        Göteborg  ...                          5   \n",
       "1273      Skellefteå  ...                          5   \n",
       "1274  Flera kommuner  ...                          3   \n",
       "1275         Leksand  ...                          5   \n",
       "1276       Stockholm  ...                          5   \n",
       "\n",
       "                        Unnamed: 19                          Unnamed: 20  \\\n",
       "0                               NaN                                  NaN   \n",
       "1                               NaN                                  NaN   \n",
       "2                               NaN                                  NaN   \n",
       "3                               NaN                                  NaN   \n",
       "4     Beviljade utbildningsomgångar  Sökta platser per utbildningsomgång   \n",
       "...                             ...                                  ...   \n",
       "1272                              0                                   20   \n",
       "1273                              0                                   24   \n",
       "1274                              0                                   30   \n",
       "1275                              5                                   35   \n",
       "1276                              5                                   35   \n",
       "\n",
       "               Unnamed: 21                            Unnamed: 22  \\\n",
       "0                      NaN                                    NaN   \n",
       "1                      NaN                                    NaN   \n",
       "2                      NaN                                    NaN   \n",
       "3                      NaN                                    NaN   \n",
       "4     Sökta platser totalt  Beviljade platser utbildningsomgång 1   \n",
       "...                    ...                                    ...   \n",
       "1272                   100                                      0   \n",
       "1273                   120                                      0   \n",
       "1274                    90                                      0   \n",
       "1275                   175                                     35   \n",
       "1276                   175                                     35   \n",
       "\n",
       "                                Unnamed: 23  \\\n",
       "0                                       NaN   \n",
       "1                                       NaN   \n",
       "2                                       NaN   \n",
       "3                                       NaN   \n",
       "4     Beviljade platser utbildningsomgång 2   \n",
       "...                                     ...   \n",
       "1272                                      0   \n",
       "1273                                      0   \n",
       "1274                                      0   \n",
       "1275                                     35   \n",
       "1276                                     35   \n",
       "\n",
       "                                Unnamed: 24  \\\n",
       "0                                       NaN   \n",
       "1                                       NaN   \n",
       "2                                       NaN   \n",
       "3                                       NaN   \n",
       "4     Beviljade platser utbildningsomgång 3   \n",
       "...                                     ...   \n",
       "1272                                      0   \n",
       "1273                                      0   \n",
       "1274                                      0   \n",
       "1275                                     35   \n",
       "1276                                     35   \n",
       "\n",
       "                                Unnamed: 25  \\\n",
       "0                                       NaN   \n",
       "1                                       NaN   \n",
       "2                                       NaN   \n",
       "3                                       NaN   \n",
       "4     Beviljade platser utbildningsomgång 4   \n",
       "...                                     ...   \n",
       "1272                                      0   \n",
       "1273                                      0   \n",
       "1274                                      0   \n",
       "1275                                     35   \n",
       "1276                                     35   \n",
       "\n",
       "                                Unnamed: 26               Unnamed: 27  \n",
       "0                                       NaN                       NaN  \n",
       "1                                       NaN                       NaN  \n",
       "2                                       NaN                       NaN  \n",
       "3                                       NaN                       NaN  \n",
       "4     Beviljade platser utbildningsomgång 5  Beviljade platser totalt  \n",
       "...                                     ...                       ...  \n",
       "1272                                      0                         0  \n",
       "1273                                      0                         0  \n",
       "1274                                      0                         0  \n",
       "1275                                     35                       175  \n",
       "1276                                     35                       175  \n",
       "\n",
       "[1277 rows x 28 columns]"
      ]
     },
     "execution_count": 50,
     "metadata": {},
     "output_type": "execute_result"
    }
   ],
   "source": [
    "df_tabell3"
   ]
  },
  {
   "cell_type": "code",
   "execution_count": 51,
   "id": "5f66e0e2",
   "metadata": {},
   "outputs": [
    {
     "data": {
      "text/html": [
       "<div>\n",
       "<style scoped>\n",
       "    .dataframe tbody tr th:only-of-type {\n",
       "        vertical-align: middle;\n",
       "    }\n",
       "\n",
       "    .dataframe tbody tr th {\n",
       "        vertical-align: top;\n",
       "    }\n",
       "\n",
       "    .dataframe thead th {\n",
       "        text-align: right;\n",
       "    }\n",
       "</style>\n",
       "<table border=\"1\" class=\"dataframe\">\n",
       "  <thead>\n",
       "    <tr style=\"text-align: right;\">\n",
       "      <th></th>\n",
       "      <th>Yrkeshögskolan</th>\n",
       "      <th>Unnamed: 1</th>\n",
       "      <th>Unnamed: 2</th>\n",
       "      <th>Unnamed: 3</th>\n",
       "      <th>Unnamed: 4</th>\n",
       "      <th>Unnamed: 5</th>\n",
       "      <th>Unnamed: 6</th>\n",
       "      <th>Unnamed: 7</th>\n",
       "      <th>Unnamed: 8</th>\n",
       "    </tr>\n",
       "  </thead>\n",
       "  <tbody>\n",
       "    <tr>\n",
       "      <th>0</th>\n",
       "      <td>NaN</td>\n",
       "      <td>NaN</td>\n",
       "      <td>NaN</td>\n",
       "      <td>NaN</td>\n",
       "      <td>NaN</td>\n",
       "      <td>NaN</td>\n",
       "      <td>NaN</td>\n",
       "      <td>NaN</td>\n",
       "      <td>NaN</td>\n",
       "    </tr>\n",
       "    <tr>\n",
       "      <th>1</th>\n",
       "      <td>Utbildningar med utbildningsomgångar som är av...</td>\n",
       "      <td>NaN</td>\n",
       "      <td>NaN</td>\n",
       "      <td>NaN</td>\n",
       "      <td>NaN</td>\n",
       "      <td>NaN</td>\n",
       "      <td>NaN</td>\n",
       "      <td>NaN</td>\n",
       "      <td>NaN</td>\n",
       "    </tr>\n",
       "    <tr>\n",
       "      <th>2</th>\n",
       "      <td>Notera: Det finns ett filter för rubrikerna ne...</td>\n",
       "      <td>NaN</td>\n",
       "      <td>NaN</td>\n",
       "      <td>NaN</td>\n",
       "      <td>NaN</td>\n",
       "      <td>NaN</td>\n",
       "      <td>NaN</td>\n",
       "      <td>NaN</td>\n",
       "      <td>NaN</td>\n",
       "    </tr>\n",
       "    <tr>\n",
       "      <th>3</th>\n",
       "      <td>NaN</td>\n",
       "      <td>NaN</td>\n",
       "      <td>NaN</td>\n",
       "      <td>NaN</td>\n",
       "      <td>NaN</td>\n",
       "      <td>NaN</td>\n",
       "      <td>NaN</td>\n",
       "      <td>NaN</td>\n",
       "      <td>NaN</td>\n",
       "    </tr>\n",
       "    <tr>\n",
       "      <th>4</th>\n",
       "      <td>Utbildningsområde</td>\n",
       "      <td>SUN5 inriktning</td>\n",
       "      <td>SUN5 inriktning namn</td>\n",
       "      <td>Utbildningsnamn</td>\n",
       "      <td>Beslut</td>\n",
       "      <td>Diarienummer</td>\n",
       "      <td>Län</td>\n",
       "      <td>Kommun</td>\n",
       "      <td>Antal kommuner</td>\n",
       "    </tr>\n",
       "    <tr>\n",
       "      <th>...</th>\n",
       "      <td>...</td>\n",
       "      <td>...</td>\n",
       "      <td>...</td>\n",
       "      <td>...</td>\n",
       "      <td>...</td>\n",
       "      <td>...</td>\n",
       "      <td>...</td>\n",
       "      <td>...</td>\n",
       "      <td>...</td>\n",
       "    </tr>\n",
       "    <tr>\n",
       "      <th>842</th>\n",
       "      <td>Transporttjänster</td>\n",
       "      <td>840dy</td>\n",
       "      <td>Övriga utbildningar luftfart</td>\n",
       "      <td>UAS-operatör inom Samhällsbyggnad</td>\n",
       "      <td>Avslag</td>\n",
       "      <td>MYH 2024/3326</td>\n",
       "      <td>Skåne</td>\n",
       "      <td>Helsingborg</td>\n",
       "      <td>5</td>\n",
       "    </tr>\n",
       "    <tr>\n",
       "      <th>843</th>\n",
       "      <td>Transporttjänster</td>\n",
       "      <td>840dy</td>\n",
       "      <td>Övriga utbildningar luftfart</td>\n",
       "      <td>UAS-operatör inom Samhällsbyggnad</td>\n",
       "      <td>Avslag</td>\n",
       "      <td>MYH 2024/3326</td>\n",
       "      <td>Uppsala</td>\n",
       "      <td>Älvkarleby</td>\n",
       "      <td>5</td>\n",
       "    </tr>\n",
       "    <tr>\n",
       "      <th>844</th>\n",
       "      <td>Transporttjänster</td>\n",
       "      <td>840dy</td>\n",
       "      <td>Övriga utbildningar luftfart</td>\n",
       "      <td>UAS-operatör inom Samhällsbyggnad</td>\n",
       "      <td>Avslag</td>\n",
       "      <td>MYH 2024/3326</td>\n",
       "      <td>Västerbotten</td>\n",
       "      <td>Umeå</td>\n",
       "      <td>5</td>\n",
       "    </tr>\n",
       "    <tr>\n",
       "      <th>845</th>\n",
       "      <td>Transporttjänster</td>\n",
       "      <td>840dy</td>\n",
       "      <td>Övriga utbildningar luftfart</td>\n",
       "      <td>UAS-operatör inom Samhällsbyggnad</td>\n",
       "      <td>Avslag</td>\n",
       "      <td>MYH 2024/3326</td>\n",
       "      <td>Västra Götaland</td>\n",
       "      <td>Göteborg</td>\n",
       "      <td>5</td>\n",
       "    </tr>\n",
       "    <tr>\n",
       "      <th>846</th>\n",
       "      <td>Transporttjänster</td>\n",
       "      <td>840dy</td>\n",
       "      <td>Övriga utbildningar luftfart</td>\n",
       "      <td>UAS-operatör inom Samhällsbyggnad</td>\n",
       "      <td>Avslag</td>\n",
       "      <td>MYH 2024/3326</td>\n",
       "      <td>Örebro</td>\n",
       "      <td>Örebro</td>\n",
       "      <td>5</td>\n",
       "    </tr>\n",
       "  </tbody>\n",
       "</table>\n",
       "<p>847 rows × 9 columns</p>\n",
       "</div>"
      ],
      "text/plain": [
       "                                        Yrkeshögskolan       Unnamed: 1  \\\n",
       "0                                                  NaN              NaN   \n",
       "1    Utbildningar med utbildningsomgångar som är av...              NaN   \n",
       "2    Notera: Det finns ett filter för rubrikerna ne...              NaN   \n",
       "3                                                  NaN              NaN   \n",
       "4                                    Utbildningsområde  SUN5 inriktning   \n",
       "..                                                 ...              ...   \n",
       "842                                  Transporttjänster            840dy   \n",
       "843                                  Transporttjänster            840dy   \n",
       "844                                  Transporttjänster            840dy   \n",
       "845                                  Transporttjänster            840dy   \n",
       "846                                  Transporttjänster            840dy   \n",
       "\n",
       "                       Unnamed: 2                         Unnamed: 3  \\\n",
       "0                             NaN                                NaN   \n",
       "1                             NaN                                NaN   \n",
       "2                             NaN                                NaN   \n",
       "3                             NaN                                NaN   \n",
       "4            SUN5 inriktning namn                    Utbildningsnamn   \n",
       "..                            ...                                ...   \n",
       "842  Övriga utbildningar luftfart  UAS-operatör inom Samhällsbyggnad   \n",
       "843  Övriga utbildningar luftfart  UAS-operatör inom Samhällsbyggnad   \n",
       "844  Övriga utbildningar luftfart  UAS-operatör inom Samhällsbyggnad   \n",
       "845  Övriga utbildningar luftfart  UAS-operatör inom Samhällsbyggnad   \n",
       "846  Övriga utbildningar luftfart  UAS-operatör inom Samhällsbyggnad   \n",
       "\n",
       "    Unnamed: 4     Unnamed: 5       Unnamed: 6   Unnamed: 7      Unnamed: 8  \n",
       "0          NaN            NaN              NaN          NaN             NaN  \n",
       "1          NaN            NaN              NaN          NaN             NaN  \n",
       "2          NaN            NaN              NaN          NaN             NaN  \n",
       "3          NaN            NaN              NaN          NaN             NaN  \n",
       "4       Beslut   Diarienummer              Län       Kommun  Antal kommuner  \n",
       "..         ...            ...              ...          ...             ...  \n",
       "842     Avslag  MYH 2024/3326            Skåne  Helsingborg               5  \n",
       "843     Avslag  MYH 2024/3326          Uppsala   Älvkarleby               5  \n",
       "844     Avslag  MYH 2024/3326     Västerbotten         Umeå               5  \n",
       "845     Avslag  MYH 2024/3326  Västra Götaland     Göteborg               5  \n",
       "846     Avslag  MYH 2024/3326           Örebro       Örebro               5  \n",
       "\n",
       "[847 rows x 9 columns]"
      ]
     },
     "execution_count": 51,
     "metadata": {},
     "output_type": "execute_result"
    }
   ],
   "source": [
    "df_tabell4"
   ]
  }
 ],
 "metadata": {
  "kernelspec": {
   "display_name": "Python 3",
   "language": "python",
   "name": "python3"
  },
  "language_info": {
   "codemirror_mode": {
    "name": "ipython",
    "version": 3
   },
   "file_extension": ".py",
   "mimetype": "text/x-python",
   "name": "python",
   "nbconvert_exporter": "python",
   "pygments_lexer": "ipython3",
   "version": "3.12.5"
  }
 },
 "nbformat": 4,
 "nbformat_minor": 5
}
