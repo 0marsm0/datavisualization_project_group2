{
 "cells": [
  {
   "cell_type": "code",
   "execution_count": 70,
   "id": "be4b6b7b",
   "metadata": {},
   "outputs": [
    {
     "name": "stdout",
     "output_type": "stream",
     "text": [
      "['Tabell 1']\n"
     ]
    }
   ],
   "source": [
    "import pandas as pd\n",
    "\n",
    "# Läs in Excel-filen\n",
    "xls = pd.ExcelFile(\"/Users/zamzamyusuf/Documents/github/datavisualization_project_group2/data/page_2/studerande_over_tid.xlsx\")\n",
    "\n",
    "# Visa alla ark\n",
    "print(xls.sheet_names)\n"
   ]
  },
  {
   "cell_type": "code",
   "execution_count": 71,
   "id": "fff545ac",
   "metadata": {},
   "outputs": [
    {
     "name": "stdout",
     "output_type": "stream",
     "text": [
      "Index(['Unnamed: 0', 'Unnamed: 1', 'Unnamed: 2', '2005', '2006', '2007',\n",
      "       '2008', '2009', '2010', '2011', '2012', '2013', '2014', '2015', '2016',\n",
      "       '2017', '2018', '2019', '2020', '2021', '2022', '2023', '2024'],\n",
      "      dtype='object')\n"
     ]
    }
   ],
   "source": [
    "df_raw = xls.parse(xls.sheet_names[0], skiprows=2)\n",
    "print(df_raw.columns)"
   ]
  },
  {
   "cell_type": "code",
   "execution_count": 72,
   "id": "1d3fb803",
   "metadata": {},
   "outputs": [],
   "source": [
    "df_raw.columns = [\"SUN_kod\", \"Utbildningsinriktning\", \"Åldersgrupp\"] + list(range(2005, 2025))"
   ]
  },
  {
   "cell_type": "code",
   "execution_count": 73,
   "id": "29d8dc17",
   "metadata": {},
   "outputs": [
    {
     "name": "stdout",
     "output_type": "stream",
     "text": [
      "Index(['SUN_kod', 'Utbildningsinriktning', 'Unnamed: 2', '2005', '2006',\n",
      "       '2007', '2008', '2009', '2010', '2011', '2012', '2013', '2014', '2015',\n",
      "       '2016', '2017', '2018', '2019', '2020', '2021', '2022', '2023', '2024'],\n",
      "      dtype='object')\n"
     ]
    }
   ],
   "source": [
    "print(df.columns)\n"
   ]
  },
  {
   "cell_type": "code",
   "execution_count": 74,
   "id": "61978a76",
   "metadata": {},
   "outputs": [
    {
     "name": "stdout",
     "output_type": "stream",
     "text": [
      "Index(['Unnamed: 0', 'Unnamed: 1', 'Unnamed: 2', '2005', '2006', '2007',\n",
      "       '2008', '2009', '2010', '2011', '2012', '2013', '2014', '2015', '2016',\n",
      "       '2017', '2018', '2019', '2020', '2021', '2022', '2023', '2024'],\n",
      "      dtype='object')\n"
     ]
    }
   ],
   "source": [
    "df = pd.read_excel(\"/Users/zamzamyusuf/Documents/github/datavisualization_project_group2/data/page_2/studerande_over_tid.xlsx\", header=2)  # eller header=0 eller header=2 beroende på hur filen ser ut\n",
    "print(df.columns)"
   ]
  },
  {
   "cell_type": "code",
   "execution_count": 83,
   "id": "67ea9181",
   "metadata": {},
   "outputs": [],
   "source": [
    "df_cleaned = df.rename(columns={\n",
    "    'Unnamed: 0': 'Kod',\n",
    "    'Unnamed: 1': 'Utbildningsinriktning',\n",
    "    'Unnamed: 2': 'Åldersgrupp'\n",
    "})"
   ]
  },
  {
   "cell_type": "code",
   "execution_count": 85,
   "id": "8fddfe95",
   "metadata": {},
   "outputs": [],
   "source": [
    "df_cleaned[[\"SUN_kod\", \"Utbildningsinriktning\"]] = df_cleaned[[\"SUN_kod\", \"Utbildningsinriktning\"]].ffill()\n",
    "\n",
    "# Smält endast på års-kolumnerna\n",
    "df_long = pd.melt(\n",
    "    df_cleaned,\n",
    "    id_vars=[\"SUN_kod\", \"Utbildningsinriktning\", \"Åldersgrupp\"],\n",
    "    var_name=\"År\",\n",
    "    value_name=\"Antal studerande\"\n",
    ")\n",
    "\n",
    "# Ta bort rader utan värde\n",
    "df_long = df_long.dropna(subset=[\"Antal studerande\"])\n",
    "\n",
    "# Konvertera år till int\n",
    "df_long[\"År\"] = df_long[\"År\"].astype(int)\n"
   ]
  },
  {
   "cell_type": "code",
   "execution_count": 86,
   "id": "3c729537",
   "metadata": {},
   "outputs": [
    {
     "data": {
      "text/html": [
       "<div>\n",
       "<style scoped>\n",
       "    .dataframe tbody tr th:only-of-type {\n",
       "        vertical-align: middle;\n",
       "    }\n",
       "\n",
       "    .dataframe tbody tr th {\n",
       "        vertical-align: top;\n",
       "    }\n",
       "\n",
       "    .dataframe thead th {\n",
       "        text-align: right;\n",
       "    }\n",
       "</style>\n",
       "<table border=\"1\" class=\"dataframe\">\n",
       "  <thead>\n",
       "    <tr style=\"text-align: right;\">\n",
       "      <th></th>\n",
       "      <th>SUN_kod</th>\n",
       "      <th>Utbildningsinriktning</th>\n",
       "      <th>Åldersgrupp</th>\n",
       "      <th>År</th>\n",
       "      <th>Antal studerande</th>\n",
       "    </tr>\n",
       "  </thead>\n",
       "  <tbody>\n",
       "    <tr>\n",
       "      <th>0</th>\n",
       "      <td>totalt</td>\n",
       "      <td>Data/It</td>\n",
       "      <td>-24 år</td>\n",
       "      <td>2005</td>\n",
       "      <td>1281</td>\n",
       "    </tr>\n",
       "    <tr>\n",
       "      <th>1</th>\n",
       "      <td>totalt</td>\n",
       "      <td>Data/It</td>\n",
       "      <td>25-29 år</td>\n",
       "      <td>2005</td>\n",
       "      <td>584</td>\n",
       "    </tr>\n",
       "    <tr>\n",
       "      <th>2</th>\n",
       "      <td>totalt</td>\n",
       "      <td>Data/It</td>\n",
       "      <td>30-34 år</td>\n",
       "      <td>2005</td>\n",
       "      <td>308</td>\n",
       "    </tr>\n",
       "    <tr>\n",
       "      <th>3</th>\n",
       "      <td>totalt</td>\n",
       "      <td>Data/It</td>\n",
       "      <td>35-39 år</td>\n",
       "      <td>2005</td>\n",
       "      <td>198</td>\n",
       "    </tr>\n",
       "    <tr>\n",
       "      <th>4</th>\n",
       "      <td>totalt</td>\n",
       "      <td>Data/It</td>\n",
       "      <td>40-44 år</td>\n",
       "      <td>2005</td>\n",
       "      <td>137</td>\n",
       "    </tr>\n",
       "  </tbody>\n",
       "</table>\n",
       "</div>"
      ],
      "text/plain": [
       "  SUN_kod Utbildningsinriktning Åldersgrupp    År Antal studerande\n",
       "0  totalt               Data/It      -24 år  2005             1281\n",
       "1  totalt               Data/It    25-29 år  2005              584\n",
       "2  totalt               Data/It    30-34 år  2005              308\n",
       "3  totalt               Data/It    35-39 år  2005              198\n",
       "4  totalt               Data/It    40-44 år  2005              137"
      ]
     },
     "execution_count": 86,
     "metadata": {},
     "output_type": "execute_result"
    }
   ],
   "source": [
    "df_long.head()"
   ]
  },
  {
   "cell_type": "code",
   "execution_count": 87,
   "id": "9a6c7aa2",
   "metadata": {},
   "outputs": [
    {
     "data": {
      "text/plain": [
       "(  SUN_kod Utbildningsinriktning Åldersgrupp    År  Antal studerande\n",
       " 0  totalt               Data/It      -24 år  2005            1281.0\n",
       " 1  totalt               Data/It    25-29 år  2005             584.0\n",
       " 2  totalt               Data/It    30-34 år  2005             308.0\n",
       " 3  totalt               Data/It    35-39 år  2005             198.0\n",
       " 4  totalt               Data/It    40-44 år  2005             137.0,\n",
       "      År  Antal studerande\n",
       " 0  2005           24787.0\n",
       " 1  2006           29554.0\n",
       " 2  2007           33680.0\n",
       " 3  2008           36625.0\n",
       " 4  2009           39356.0,\n",
       "   Utbildningsinriktning    År  Antal studerande\n",
       " 0               Data/It  2005            2587.0\n",
       " 1               Data/It  2006            2546.0\n",
       " 2               Data/It  2007            2797.0\n",
       " 3               Data/It  2008            2817.0\n",
       " 4               Data/It  2009            2857.0,\n",
       "                      Utbildningsinriktning  Antal studerande\n",
       " 0                                  Data/It          132050.0\n",
       " 1  Ekonomi, administration och försäljning          259478.0\n",
       " 2                 Friskvård och kroppsvård            9983.0\n",
       " 3            Hotell, restaurang och turism           55044.0\n",
       " 4  Hälso- och sjukvård samt socialt arbete          139166.0)"
      ]
     },
     "execution_count": 87,
     "metadata": {},
     "output_type": "execute_result"
    }
   ],
   "source": [
    "# Konvertera \"Antal studerande\" till numerisk och tvinga bort felaktiga värden\n",
    "df_long[\"Antal studerande\"] = pd.to_numeric(df_long[\"Antal studerande\"], errors=\"coerce\")\n",
    "\n",
    "# Rensa bort rader där konverteringen misslyckades\n",
    "df_long = df_long.dropna(subset=[\"Antal studerande\"])\n",
    "\n",
    "# Skapa KPI-dataframes för EDA och filtrering\n",
    "df_total_per_year = df_long.groupby(\"År\")[\"Antal studerande\"].sum().reset_index()\n",
    "df_total_per_area_year = df_long.groupby([\"Utbildningsinriktning\", \"År\"])[\"Antal studerande\"].sum().reset_index()\n",
    "df_total_per_age_year = df_long.groupby([\"Åldersgrupp\", \"År\"])[\"Antal studerande\"].sum().reset_index()\n",
    "df_total_per_area = df_long.groupby(\"Utbildningsinriktning\")[\"Antal studerande\"].sum().reset_index()\n",
    "\n",
    "df_long.head(), df_total_per_year.head(), df_total_per_area_year.head(), df_total_per_area.head()"
   ]
  },
  {
   "cell_type": "code",
   "execution_count": 96,
   "id": "c30cc5c1",
   "metadata": {},
   "outputs": [
    {
     "data": {
      "application/vnd.plotly.v1+json": {
       "config": {
        "plotlyServerURL": "https://plot.ly"
       },
       "data": [
        {
         "hovertemplate": "Utbildningsinriktning=Data/It<br>År=%{x}<br>Antal studerande=%{y}<extra></extra>",
         "legendgroup": "Data/It",
         "line": {
          "color": "#636efa",
          "dash": "solid"
         },
         "marker": {
          "symbol": "circle"
         },
         "mode": "lines",
         "name": "Data/It",
         "showlegend": true,
         "type": "scattergl",
         "x": {
          "bdata": "1QfVB9UH1QfVB9UH1gfWB9YH1gfWB9YH1wfXB9cH1wfXB9cH2AfYB9gH2AfYB9gH2QfZB9kH2QfZB9kH2gfaB9oH2gfaB9oH2wfbB9sH2wfbB9sH3AfcB9wH3AfcB9wH3QfdB90H3QfdB90H3gfeB94H3gfeB94H3wffB98H3wffB98H4AfgB+AH4AfgB+AH4QfhB+EH4QfhB+EH4gfiB+IH4gfiB+IH4wfjB+MH4wfjB+MH5AfkB+QH5AfkB+QH5QflB+UH5QflB+UH5gfmB+YH5gfmB+YH5wfnB+cH5wfnB+cH6AfoB+gH6AfoB+gH",
          "dtype": "i2"
         },
         "xaxis": "x",
         "y": {
          "bdata": "AAAAAAAElEAAAAAAAECCQAAAAAAAQHNAAAAAAADAaEAAAAAAACBhQAAAAAAAwFNAAAAAAADAlEAAAAAAAGiAQAAAAAAAIHNAAAAAAACgZUAAAAAAAABdQAAAAAAAgFhAAAAAAABUlkAAAAAAADCDQAAAAAAAAHNAAAAAAADgaEAAAAAAAABhQAAAAAAAwFxAAAAAAABklUAAAAAAAIiEQAAAAAAA0HNAAAAAAABAakAAAAAAAABiQAAAAAAAAF5AAAAAAADgk0AAAAAAACCHQAAAAAAAAHZAAAAAAACAa0AAAAAAAEBiQAAAAAAAwF9AAAAAAAAIk0AAAAAAAMCHQAAAAAAAEHhAAAAAAAAAbkAAAAAAAGBjQAAAAAAAIGJAAAAAAAC8lEAAAAAAAMiJQAAAAAAAwHtAAAAAAAAQcEAAAAAAAABjQAAAAAAAYGNAAAAAAAB4lUAAAAAAABCMQAAAAAAAIH9AAAAAAAAwckAAAAAAAABlQAAAAAAAIGVAAAAAAABAl0AAAAAAAOSQQAAAAAAAyINAAAAAAACQdkAAAAAAAGBvQAAAAAAAAG5AAAAAAABMmUAAAAAAAGSVQAAAAAAAuIhAAAAAAACwfUAAAAAAAOBzQAAAAAAA0HZAAAAAAAAom0AAAAAAAPCYQAAAAAAAoI9AAAAAAADAg0AAAAAAAEB3QAAAAAAA4HxAAAAAAADsl0AAAAAAAAiaQAAAAAAADJNAAAAAAADIh0AAAAAAANB8QAAAAAAACIFAAAAAAAC4lkAAAAAAAEyaQAAAAAAAJJRAAAAAAADwiEAAAAAAAFB8QAAAAAAAqIBAAAAAAAAQlkAAAAAAAOCZQAAAAAAA+JJAAAAAAADQhUAAAAAAALB1QAAAAAAAkHdAAAAAAACsm0AAAAAAADygQAAAAAAAxJdAAAAAAABAjEAAAAAAAEB8QAAAAAAAgHZAAAAAAAAkokAAAAAAADSnQAAAAAAAvKJAAAAAAABAlUAAAAAAALiFQAAAAAAA0IBAAAAAAAC8pUAAAAAAAGKrQAAAAAAA5KdAAAAAAADMm0AAAAAAAKCOQAAAAAAAYIdAAAAAAAC2qEAAAAAAANytQAAAAAAAyKpAAAAAAAB4n0AAAAAAAPiOQAAAAAAAKIpAAAAAAAA0qkAAAAAAAJ6vQAAAAAAAZKxAAAAAAAAKoUAAAAAAAByRQAAAAAAAmIpAAAAAAAA6rEAAAAAAAMGwQAAAAAAAuK5AAAAAAACao0AAAAAAALCSQAAAAAAAYIxA",
          "dtype": "f8"
         },
         "yaxis": "y"
        },
        {
         "hovertemplate": "Utbildningsinriktning=Ekonomi, administration och försäljning<br>År=%{x}<br>Antal studerande=%{y}<extra></extra>",
         "legendgroup": "Ekonomi, administration och försäljning",
         "line": {
          "color": "#EF553B",
          "dash": "solid"
         },
         "marker": {
          "symbol": "circle"
         },
         "mode": "lines",
         "name": "Ekonomi, administration och försäljning",
         "showlegend": true,
         "type": "scattergl",
         "x": {
          "bdata": "1QfVB9UH1QfVB9UH1gfWB9YH1gfWB9YH1wfXB9cH1wfXB9cH2AfYB9gH2AfYB9gH2QfZB9kH2QfZB9kH2gfaB9oH2gfaB9oH2wfbB9sH2wfbB9sH3AfcB9wH3AfcB9wH3QfdB90H3QfdB90H3gfeB94H3gfeB94H3wffB98H3wffB98H4AfgB+AH4AfgB+AH4QfhB+EH4QfhB+EH4gfiB+IH4gfiB+IH4wfjB+MH4wfjB+MH5AfkB+QH5AfkB+QH5QflB+UH5QflB+UH5gfmB+YH5gfmB+YH5wfnB+cH5wfnB+cH6AfoB+gH6AfoB+gH",
          "dtype": "i2"
         },
         "xaxis": "x",
         "y": {
          "bdata": "AAAAAAAaoUAAAAAAAACYQAAAAAAAuIxAAAAAAADYhkAAAAAAAFCAQAAAAAAAUHVAAAAAAABmpUAAAAAAAFicQAAAAAAAfJBAAAAAAAB4jEAAAAAAADiDQAAAAAAAAHxAAAAAAADQqUAAAAAAACKgQAAAAAAAjJFAAAAAAABAj0AAAAAAAKCHQAAAAAAAcIFAAAAAAAAQrkAAAAAAAD6jQAAAAAAAGJRAAAAAAABkkUAAAAAAAACLQAAAAAAAiIVAAAAAAACAsEAAAAAAAAqmQAAAAAAAnJZAAAAAAACokkAAAAAAAHiKQAAAAAAAgIdAAAAAAAAFsUAAAAAAAPSnQAAAAAAAwJhAAAAAAABkk0AAAAAAAKiLQAAAAAAAIIhAAAAAAAB4sEAAAAAAAJSpQAAAAAAAlJpAAAAAAAAclEAAAAAAANiMQAAAAAAAUIhAAAAAAAAGr0AAAAAAAPypQAAAAAAAWJtAAAAAAAAUk0AAAAAAAGiLQAAAAAAACIlAAAAAAABWrkAAAAAAAHSrQAAAAAAAoJxAAAAAAACEk0AAAAAAAFiMQAAAAAAAIItAAAAAAADyq0AAAAAAAC6sQAAAAAAAPJ9AAAAAAADgk0AAAAAAAJiMQAAAAAAAyItAAAAAAAA8pkAAAAAAAIKsQAAAAAAAFJ9AAAAAAABIlUAAAAAAAMCMQAAAAAAAMIxAAAAAAADookAAAAAAABasQAAAAAAATqBAAAAAAACUlkAAAAAAAFiOQAAAAAAAiI9AAAAAAACsokAAAAAAAO6sQAAAAAAAFKJAAAAAAACkmEAAAAAAAPCQQAAAAAAAlJFAAAAAAAAgpkAAAAAAAA2wQAAAAAAAgKRAAAAAAACEm0AAAAAAAGiSQAAAAAAANJRAAAAAAACQq0AAAAAAAK+xQAAAAAAA8qdAAAAAAADUn0AAAAAAAKyUQAAAAAAAqJdAAAAAAAAysEAAAAAAABu0QAAAAAAAnqxAAAAAAAAYo0AAAAAAANCVQAAAAAAAfJpAAAAAAABFsEAAAAAAAHCzQAAAAAAAGK1AAAAAAADao0AAAAAAACCXQAAAAAAA2JlAAAAAAAA7sEAAAAAAAHqyQAAAAAAAAqxAAAAAAABEo0AAAAAAAOCVQAAAAAAAKJdAAAAAAAAKsEAAAAAAABKxQAAAAAAAQKtAAAAAAADiokAAAAAAAMyVQAAAAAAAqJhAAAAAAACDsEAAAAAAAGmwQAAAAAAAPKpAAAAAAACCokAAAAAAAGiWQAAAAAAA/JtA",
          "dtype": "f8"
         },
         "yaxis": "y"
        },
        {
         "hovertemplate": "Utbildningsinriktning=Friskvård och kroppsvård<br>År=%{x}<br>Antal studerande=%{y}<extra></extra>",
         "legendgroup": "Friskvård och kroppsvård",
         "line": {
          "color": "#00cc96",
          "dash": "solid"
         },
         "marker": {
          "symbol": "circle"
         },
         "mode": "lines",
         "name": "Friskvård och kroppsvård",
         "showlegend": true,
         "type": "scattergl",
         "x": {
          "bdata": "1QfVB9UH1QfVB9UH1gfWB9YH1gfWB9YH1wfXB9cH1wfXB9cH2AfYB9gH2AfYB9gH2QfZB9kH2QfZB9kH2gfaB9oH2gfaB9oH2wfbB9sH2wfbB9sH3AfcB9wH3AfcB9wH3QfdB90H3QfdB90H3gfeB94H3gfeB94H3wffB98H3wffB98H4AfgB+AH4AfgB+AH4QfhB+EH4QfhB+EH4gfiB+IH4gfiB+IH4wfjB+MH4wfjB+MH5AfkB+QH5AfkB+QH5QflB+UH5QflB+UH5gfmB+YH5gfmB+YH5wfnB+cH5wfnB+cH6AfoB+gH6AfoB+gH",
          "dtype": "i2"
         },
         "xaxis": "x",
         "y": {
          "bdata": "AAAAAAAAZUAAAAAAAIBeQAAAAAAAAExAAAAAAACASEAAAAAAAABLQAAAAAAAAEBAAAAAAADwcEAAAAAAAKBnQAAAAAAAwFVAAAAAAADAVUAAAAAAAABIQAAAAAAAAExAAAAAAABAdkAAAAAAAOBqQAAAAAAAAFdAAAAAAACAWUAAAAAAAABKQAAAAAAAgFBAAAAAAADQeUAAAAAAAABvQAAAAAAAwFdAAAAAAAAAVEAAAAAAAIBPQAAAAAAAgFdAAAAAAACweUAAAAAAAIBwQAAAAAAAwFZAAAAAAAAAVUAAAAAAAIBPQAAAAAAAAFhAAAAAAACQd0AAAAAAAEBrQAAAAAAAAFNAAAAAAACAUEAAAAAAAIBKQAAAAAAAwFBAAAAAAAAgcUAAAAAAAMBjQAAAAAAAgEpAAAAAAAAAQ0AAAAAAAABBQAAAAAAAAEFAAAAAAADgZkAAAAAAAABdQAAAAAAAADtAAAAAAAAAM0AAAAAAAAA0QAAAAAAAABhAAAAAAADAZUAAAAAAAABaQAAAAAAAgEFAAAAAAAAAM0AAAAAAAAAyQAAAAAAAACpAAAAAAACAYkAAAAAAAMBYQAAAAAAAADxAAAAAAAAAMkAAAAAAAAA1QAAAAAAAADBAAAAAAABAYUAAAAAAAABZQAAAAAAAAEdAAAAAAAAAOkAAAAAAAAAyQAAAAAAAADhAAAAAAADAWkAAAAAAAMBVQAAAAAAAgENAAAAAAAAAPkAAAAAAAAAyQAAAAAAAADZAAAAAAACAUUAAAAAAAEBXQAAAAAAAADhAAAAAAAAAMEAAAAAAAAAwQAAAAAAAADNAAAAAAADAUUAAAAAAAEBXQAAAAAAAADdAAAAAAAAAJkAAAAAAAAAmQAAAAAAAADZAAAAAAABAVkAAAAAAAMBcQAAAAAAAAEBAAAAAAAAAN0AAAAAAAAAwQAAAAAAAADtAAAAAAADAWEAAAAAAAABcQAAAAAAAAEpAAAAAAAAAPkAAAAAAAAAxQAAAAAAAADlAAAAAAADAXEAAAAAAAMBfQAAAAAAAgExAAAAAAAAAOEAAAAAAAAA2QAAAAAAAADtAAAAAAABAXUAAAAAAAGBhQAAAAAAAAFFAAAAAAAAAP0AAAAAAAAA1QAAAAAAAAEBAAAAAAAAAYEAAAAAAAMBgQAAAAAAAQFNAAAAAAAAARkAAAAAAAAA9QAAAAAAAAEhAAAAAAADAWUAAAAAAAABVQAAAAAAAwFBAAAAAAACAQ0AAAAAAAAA5QAAAAAAAAEhA",
          "dtype": "f8"
         },
         "yaxis": "y"
        },
        {
         "hovertemplate": "Utbildningsinriktning=Hotell, restaurang och turism<br>År=%{x}<br>Antal studerande=%{y}<extra></extra>",
         "legendgroup": "Hotell, restaurang och turism",
         "line": {
          "color": "#ab63fa",
          "dash": "solid"
         },
         "marker": {
          "symbol": "circle"
         },
         "mode": "lines",
         "name": "Hotell, restaurang och turism",
         "showlegend": true,
         "type": "scattergl",
         "x": {
          "bdata": "1QfVB9UH1QfVB9UH1gfWB9YH1gfWB9YH1wfXB9cH1wfXB9cH2AfYB9gH2AfYB9gH2QfZB9kH2QfZB9kH2gfaB9oH2gfaB9oH2wfbB9sH2wfbB9sH3AfcB9wH3AfcB9wH3QfdB90H3QfdB90H3gfeB94H3gfeB94H3wffB98H3wffB98H4AfgB+AH4AfgB+AH4QfhB+EH4QfhB+EH4gfiB+IH4gfiB+IH4wfjB+MH4wfjB+MH5AfkB+QH5AfkB+QH5QflB+UH5QflB+UH5gfmB+YH5gfmB+YH5wfnB+cH5wfnB+cH6AfoB+gH6AfoB+gH",
          "dtype": "i2"
         },
         "xaxis": "x",
         "y": {
          "bdata": "AAAAAAAMkUAAAAAAANiCQAAAAAAAIG9AAAAAAACgYEAAAAAAAEBVQAAAAAAAAE9AAAAAAADclUAAAAAAABiEQAAAAAAAoGtAAAAAAAAgYUAAAAAAAMBXQAAAAAAAgExAAAAAAADUmUAAAAAAANCFQAAAAAAAIG1AAAAAAAAAYUAAAAAAAABbQAAAAAAAQFNAAAAAAADMmkAAAAAAACCIQAAAAAAAoGtAAAAAAAAAY0AAAAAAAMBaQAAAAAAAgFpAAAAAAAD8mEAAAAAAANCIQAAAAAAAwGxAAAAAAACgYEAAAAAAAABaQAAAAAAAQFpAAAAAAAAAl0AAAAAAANCJQAAAAAAAwG5AAAAAAAAgY0AAAAAAAEBZQAAAAAAAwFpAAAAAAADwlUAAAAAAACiKQAAAAAAAQHBAAAAAAABgY0AAAAAAAIBcQAAAAAAAgF1AAAAAAABUkkAAAAAAAHCJQAAAAAAAQGxAAAAAAACAY0AAAAAAAABcQAAAAAAAwFtAAAAAAAC8kEAAAAAAALCJQAAAAAAAoG9AAAAAAACgYkAAAAAAAEBbQAAAAAAAQF5AAAAAAADYiUAAAAAAAHCLQAAAAAAAMHNAAAAAAAAgaEAAAAAAACBjQAAAAAAAAGlAAAAAAADIhEAAAAAAAACNQAAAAAAAkHZAAAAAAACgaUAAAAAAAKBoQAAAAAAAQG9AAAAAAAAwhUAAAAAAAOCLQAAAAAAA4HZAAAAAAADAaUAAAAAAAIBlQAAAAAAAYGtAAAAAAABYg0AAAAAAAJCNQAAAAAAAAHhAAAAAAABgbUAAAAAAAABlQAAAAAAAwGZAAAAAAADAg0AAAAAAAHiLQAAAAAAAsHhAAAAAAADAa0AAAAAAACBlQAAAAAAAQGlAAAAAAACIhkAAAAAAACCKQAAAAAAAYHtAAAAAAADgcEAAAAAAAKBmQAAAAAAAAHFAAAAAAACgiEAAAAAAAIiMQAAAAAAAoH5AAAAAAACgdEAAAAAAAMBpQAAAAAAA8HZAAAAAAADIiEAAAAAAANiMQAAAAAAAKIFAAAAAAACgdEAAAAAAAJBwQAAAAAAAYHxAAAAAAADIhUAAAAAAABiJQAAAAAAAwH9AAAAAAACAc0AAAAAAAKBxQAAAAAAAUHlAAAAAAAAohEAAAAAAAPiFQAAAAAAAMHxAAAAAAADQcUAAAAAAAKBxQAAAAAAAMHhAAAAAAAC4hEAAAAAAAJiEQAAAAAAAwHpAAAAAAABgc0AAAAAAAIBvQAAAAAAAgH5A",
          "dtype": "f8"
         },
         "yaxis": "y"
        },
        {
         "hovertemplate": "Utbildningsinriktning=Hälso- och sjukvård samt socialt arbete<br>År=%{x}<br>Antal studerande=%{y}<extra></extra>",
         "legendgroup": "Hälso- och sjukvård samt socialt arbete",
         "line": {
          "color": "#FFA15A",
          "dash": "solid"
         },
         "marker": {
          "symbol": "circle"
         },
         "mode": "lines",
         "name": "Hälso- och sjukvård samt socialt arbete",
         "showlegend": true,
         "type": "scattergl",
         "x": {
          "bdata": "1QfVB9UH1QfVB9UH1gfWB9YH1gfWB9YH1wfXB9cH1wfXB9cH2AfYB9gH2AfYB9gH2QfZB9kH2QfZB9kH2gfaB9oH2gfaB9oH2wfbB9sH2wfbB9sH3AfcB9wH3AfcB9wH3QfdB90H3QfdB90H3gfeB94H3gfeB94H3wffB98H3wffB98H4AfgB+AH4AfgB+AH4QfhB+EH4QfhB+EH4gfiB+IH4gfiB+IH4wfjB+MH4wfjB+MH5AfkB+QH5AfkB+QH5QflB+UH5QflB+UH5gfmB+YH5gfmB+YH5wfnB+cH5wfnB+cH6AfoB+gH6AfoB+gH",
          "dtype": "i2"
         },
         "xaxis": "x",
         "y": {
          "bdata": "AAAAAAAQhEAAAAAAAJCCQAAAAAAAkHxAAAAAAADwekAAAAAAALB5QAAAAAAAkHxAAAAAAABwikAAAAAAACCFQAAAAAAAiIJAAAAAAABQgEAAAAAAAICAQAAAAAAAEIRAAAAAAABojEAAAAAAAGCIQAAAAAAA8INAAAAAAAA4gkAAAAAAAACDQAAAAAAAUIVAAAAAAABYikAAAAAAAFiIQAAAAAAA8IJAAAAAAACQgEAAAAAAAJiCQAAAAAAAIIVAAAAAAACgiEAAAAAAAACJQAAAAAAAqIJAAAAAAADAgUAAAAAAAOiBQAAAAAAA6IdAAAAAAACYh0AAAAAAANCKQAAAAAAAwIRAAAAAAABAg0AAAAAAAACEQAAAAAAAGI5AAAAAAAC4hkAAAAAAACiMQAAAAAAAcIRAAAAAAAAIhUAAAAAAAPiDQAAAAAAAmJBAAAAAAACQgkAAAAAAAGiLQAAAAAAA2INAAAAAAABIg0AAAAAAAIiEQAAAAAAA5JFAAAAAAACQg0AAAAAAAOCMQAAAAAAAaIdAAAAAAABIhUAAAAAAAGiGQAAAAAAA0JNAAAAAAADYhUAAAAAAABSRQAAAAAAAAIpAAAAAAAAQiUAAAAAAAOCJQAAAAAAAMJdAAAAAAABAhEAAAAAAAAiSQAAAAAAA0I1AAAAAAACgi0AAAAAAAGCKQAAAAAAADJhAAAAAAACYg0AAAAAAALyRQAAAAAAAmJBAAAAAAAAAjUAAAAAAAPiJQAAAAAAArJhAAAAAAADQg0AAAAAAAKyTQAAAAAAA1JJAAAAAAACYj0AAAAAAANiLQAAAAAAA/JpAAAAAAABYhUAAAAAAAIiVQAAAAAAAMJVAAAAAAADIkUAAAAAAAGiOQAAAAAAADJ5AAAAAAABAiUAAAAAAAKSYQAAAAAAAoJlAAAAAAAA8lUAAAAAAAKCTQAAAAAAArqJAAAAAAABEkEAAAAAAAFCcQAAAAAAA3J9AAAAAAADImEAAAAAAAMyWQAAAAAAALqdAAAAAAADAkUAAAAAAAJieQAAAAAAAfqFAAAAAAACUnEAAAAAAAASYQAAAAAAAMqpAAAAAAAAgk0AAAAAAAOCeQAAAAAAAHKJAAAAAAAAQoEAAAAAAAAiaQAAAAAAAcKxAAAAAAABgk0AAAAAAAJibQAAAAAAACqFAAAAAAAC4nkAAAAAAAHCaQAAAAAAAuKxAAAAAAACgkkAAAAAAALSYQAAAAAAAKJ9AAAAAAAAYnkAAAAAAANiZQAAAAAAA4qtA",
          "dtype": "f8"
         },
         "yaxis": "y"
        },
        {
         "hovertemplate": "Utbildningsinriktning=Journalistik och information<br>År=%{x}<br>Antal studerande=%{y}<extra></extra>",
         "legendgroup": "Journalistik och information",
         "line": {
          "color": "#19d3f3",
          "dash": "solid"
         },
         "marker": {
          "symbol": "circle"
         },
         "mode": "lines",
         "name": "Journalistik och information",
         "showlegend": true,
         "type": "scattergl",
         "x": {
          "bdata": "1QfVB9UH1QfVB9YH1gfWB9YH1gfWB9cH1wfXB9cH1wfXB9gH2AfYB9gH2AfYB9kH2QfZB9kH2QfZB9oH2gfaB9oH2gfaB9sH2wfbB9sH2wfbB9wH3AfcB9wH3AfcB90H3QfdB90H3QfdB94H3gfeB94H3gfeB98H3wffB98H3wffB+AH4AfgB+AH4AfgB+EH4QfhB+EH4QfhB+IH4gfiB+IH4gfiB+MH4wfjB+MH4wfjB+QH5AfkB+QH5AfkB+UH5QflB+UH5QflB+YH5gfmB+YH5gfmB+cH5wfnB+cH5wfnB+gH6AfoB+gH6AfoBw==",
          "dtype": "i2"
         },
         "xaxis": "x",
         "y": {
          "bdata": "AAAAAAAAR0AAAAAAAIBFQAAAAAAAAC5AAAAAAAAAGEAAAAAAAAAQQAAAAAAAAEFAAAAAAACARUAAAAAAAAAqQAAAAAAAABBAAAAAAAAAFEAAAAAAAAAIQAAAAAAAgEFAAAAAAAAARkAAAAAAAAAqQAAAAAAAACRAAAAAAAAAFEAAAAAAAAAcQAAAAAAAAEhAAAAAAACARkAAAAAAAAA4QAAAAAAAADBAAAAAAAAAIkAAAAAAAAAxQAAAAAAAAE1AAAAAAABAUUAAAAAAAAA7QAAAAAAAADdAAAAAAAAALEAAAAAAAAA2QAAAAAAAgE1AAAAAAABAUkAAAAAAAIBCQAAAAAAAADlAAAAAAAAAQEAAAAAAAAA+QAAAAAAAAFFAAAAAAACAV0AAAAAAAABFQAAAAAAAADpAAAAAAACAQ0AAAAAAAAA+QAAAAAAAAFJAAAAAAAAAWEAAAAAAAABDQAAAAAAAADlAAAAAAAAAOEAAAAAAAAA2QAAAAAAAQFxAAAAAAACAYEAAAAAAAIBPQAAAAAAAAENAAAAAAACAQEAAAAAAAABBQAAAAAAAAGJAAAAAAABAakAAAAAAAIBYQAAAAAAAgEtAAAAAAACASEAAAAAAAEBQQAAAAAAAgF9AAAAAAACga0AAAAAAAMBbQAAAAAAAAFNAAAAAAAAASkAAAAAAAIBPQAAAAAAAQF9AAAAAAAAgb0AAAAAAAIBdQAAAAAAAAFVAAAAAAACATUAAAAAAAABWQAAAAAAAwGJAAAAAAACAbUAAAAAAAABfQAAAAAAAwFVAAAAAAAAAUkAAAAAAAKBgQAAAAAAAgGNAAAAAAABgcEAAAAAAAEBeQAAAAAAAwFRAAAAAAACAUkAAAAAAACBhQAAAAAAAQGlAAAAAAABwcUAAAAAAAGBjQAAAAAAAwFVAAAAAAABAUEAAAAAAAABdQAAAAAAAoGtAAAAAAADwcEAAAAAAAGBmQAAAAAAAwFpAAAAAAADAUEAAAAAAAIBeQAAAAAAAIGlAAAAAAABQcUAAAAAAAABmQAAAAAAAgFdAAAAAAACAUkAAAAAAAIBcQAAAAAAAQGlAAAAAAACgbkAAAAAAACBmQAAAAAAAQFJAAAAAAAAASEAAAAAAAIBTQAAAAAAAoGVAAAAAAACAbEAAAAAAAIBjQAAAAAAAwFFAAAAAAACAQ0AAAAAAAEBVQAAAAAAAAGBAAAAAAADgZkAAAAAAAEBeQAAAAAAAAFNAAAAAAACAQ0AAAAAAAMBYQA==",
          "dtype": "f8"
         },
         "yaxis": "y"
        },
        {
         "hovertemplate": "Utbildningsinriktning=Kultur, media och design<br>År=%{x}<br>Antal studerande=%{y}<extra></extra>",
         "legendgroup": "Kultur, media och design",
         "line": {
          "color": "#FF6692",
          "dash": "solid"
         },
         "marker": {
          "symbol": "circle"
         },
         "mode": "lines",
         "name": "Kultur, media och design",
         "showlegend": true,
         "type": "scattergl",
         "x": {
          "bdata": "1QfVB9UH1QfVB9UH1gfWB9YH1gfWB9YH1wfXB9cH1wfXB9cH2AfYB9gH2AfYB9gH2QfZB9kH2QfZB9kH2gfaB9oH2gfaB9oH2wfbB9sH2wfbB9sH3AfcB9wH3AfcB9wH3QfdB90H3QfdB90H3gfeB94H3gfeB94H3wffB98H3wffB98H4AfgB+AH4AfgB+AH4QfhB+EH4QfhB+EH4gfiB+IH4gfiB+IH4wfjB+MH4wfjB+MH5AfkB+QH5AfkB+QH5QflB+UH5QflB+UH5gfmB+YH5gfmB+YH5wfnB+cH5wfnB+cH6AfoB+gH6AfoB+gH",
          "dtype": "i2"
         },
         "xaxis": "x",
         "y": {
          "bdata": "AAAAAAA0mEAAAAAAADiGQAAAAAAAAHJAAAAAAABAYUAAAAAAAIBPQAAAAAAAgEpAAAAAAACImkAAAAAAADCGQAAAAAAAgHBAAAAAAACAYUAAAAAAAIBNQAAAAAAAwFBAAAAAAAAEmkAAAAAAAECGQAAAAAAAAG9AAAAAAAAgYEAAAAAAAEBSQAAAAAAAgFBAAAAAAABEmkAAAAAAALiHQAAAAAAAwHFAAAAAAADAYEAAAAAAAEBRQAAAAAAAgFBAAAAAAADsmEAAAAAAAFCJQAAAAAAAEHJAAAAAAABAXkAAAAAAAIBSQAAAAAAAgE9AAAAAAAC4lUAAAAAAAGiKQAAAAAAAwHFAAAAAAABAYEAAAAAAAABRQAAAAAAAgFJAAAAAAADAk0AAAAAAAPCIQAAAAAAA4HBAAAAAAACAXUAAAAAAAABLQAAAAAAAAE9AAAAAAAB0kkAAAAAAAGiHQAAAAAAAIGxAAAAAAACAWEAAAAAAAIBNQAAAAAAAAElAAAAAAAB8k0AAAAAAAHCIQAAAAAAA4G9AAAAAAACAW0AAAAAAAABMQAAAAAAAgE1AAAAAAAAYk0AAAAAAAHCKQAAAAAAAoHJAAAAAAABAXkAAAAAAAMBRQAAAAAAAQFFAAAAAAACIkkAAAAAAAGCMQAAAAAAA8HZAAAAAAACAYUAAAAAAAIBVQAAAAAAAgFRAAAAAAABYkUAAAAAAAFCOQAAAAAAAwHVAAAAAAAAAY0AAAAAAAMBXQAAAAAAAwFdAAAAAAAC4kEAAAAAAACCQQAAAAAAAMHdAAAAAAACAZUAAAAAAAABYQAAAAAAAAF9AAAAAAABYkEAAAAAAACCQQAAAAAAAoHlAAAAAAABAaEAAAAAAAIBXQAAAAAAAAGBAAAAAAABAkEAAAAAAAHiRQAAAAAAAwH5AAAAAAAAgZUAAAAAAAIBVQAAAAAAAwFtAAAAAAAAQk0AAAAAAANySQAAAAAAAAIJAAAAAAAAgaUAAAAAAAABcQAAAAAAAAF1AAAAAAAD8lEAAAAAAAJSUQAAAAAAAQIZAAAAAAACAbkAAAAAAAEBhQAAAAAAAQGRAAAAAAAAUl0AAAAAAAJyUQAAAAAAA+IdAAAAAAABQckAAAAAAAGBkQAAAAAAAgGlAAAAAAADEmUAAAAAAAACUQAAAAAAAWIhAAAAAAADwdEAAAAAAAOBmQAAAAAAA4GxAAAAAAAAAmkAAAAAAAMyUQAAAAAAAcIhAAAAAAACweEAAAAAAAIBpQAAAAAAAQHBA",
          "dtype": "f8"
         },
         "yaxis": "y"
        },
        {
         "hovertemplate": "Utbildningsinriktning=Lantbruk, djurvård, trädgård, skog och fiske<br>År=%{x}<br>Antal studerande=%{y}<extra></extra>",
         "legendgroup": "Lantbruk, djurvård, trädgård, skog och fiske",
         "line": {
          "color": "#B6E880",
          "dash": "solid"
         },
         "marker": {
          "symbol": "circle"
         },
         "mode": "lines",
         "name": "Lantbruk, djurvård, trädgård, skog och fiske",
         "showlegend": true,
         "type": "scattergl",
         "x": {
          "bdata": "1QfVB9UH1QfVB9UH1gfWB9YH1gfWB9YH1wfXB9cH1wfXB9cH2AfYB9gH2AfYB9gH2QfZB9kH2QfZB9kH2gfaB9oH2gfaB9oH2wfbB9sH2wfbB9sH3AfcB9wH3AfcB9wH3QfdB90H3QfdB90H3gfeB94H3gfeB94H3wffB98H3wffB98H4AfgB+AH4AfgB+AH4QfhB+EH4QfhB+EH4gfiB+IH4gfiB+IH4wfjB+MH4wfjB+MH5AfkB+QH5AfkB+QH5QflB+UH5QflB+UH5gfmB+YH5gfmB+YH5wfnB+cH5wfnB+cH6AfoB+gH6AfoB+gH",
          "dtype": "i2"
         },
         "xaxis": "x",
         "y": {
          "bdata": "AAAAAABwdkAAAAAAAOBlQAAAAAAAQF5AAAAAAACAXEAAAAAAAMBUQAAAAAAAAFFAAAAAAABggUAAAAAAAOBuQAAAAAAAIGNAAAAAAABgY0AAAAAAAEBhQAAAAAAAAFdAAAAAAADQgkAAAAAAADBzQAAAAAAAYGZAAAAAAAAAZEAAAAAAAEBkQAAAAAAAAGBAAAAAAABwgkAAAAAAAFByQAAAAAAAIGVAAAAAAADgYkAAAAAAAGBjQAAAAAAAAGJAAAAAAAAQhUAAAAAAAIBxQAAAAAAA4GNAAAAAAABAZEAAAAAAACBgQAAAAAAAIGJAAAAAAABIiEAAAAAAAPByQAAAAAAAYGRAAAAAAACgY0AAAAAAAMBhQAAAAAAAQGRAAAAAAABwhkAAAAAAAPBzQAAAAAAAIGRAAAAAAABgYkAAAAAAAIBiQAAAAAAAIGRAAAAAAAAggkAAAAAAAJBzQAAAAAAAoGBAAAAAAADAX0AAAAAAAGBhQAAAAAAAIGVAAAAAAACAf0AAAAAAADB0QAAAAAAAQGFAAAAAAAAAWkAAAAAAAIBfQAAAAAAAAGRAAAAAAACQfEAAAAAAACByQAAAAAAAgGJAAAAAAADAV0AAAAAAAEBcQAAAAAAAgGJAAAAAAADAekAAAAAAANB1QAAAAAAAgGNAAAAAAAAAWUAAAAAAAABdQAAAAAAAwGNAAAAAAABQeEAAAAAAAKB1QAAAAAAAQGhAAAAAAADAX0AAAAAAAIBiQAAAAAAAYGlAAAAAAABAdEAAAAAAAEB0QAAAAAAAoGtAAAAAAACAY0AAAAAAAMBiQAAAAAAAsHBAAAAAAADAckAAAAAAANByQAAAAAAAYGdAAAAAAADAZEAAAAAAAMBfQAAAAAAAcHFAAAAAAABAcUAAAAAAANBzQAAAAAAAYG1AAAAAAADgZUAAAAAAAMBgQAAAAAAAcHFAAAAAAABgdEAAAAAAADB1QAAAAAAAwHFAAAAAAACAaUAAAAAAAEBjQAAAAAAAIHNAAAAAAAAQdUAAAAAAAFB2QAAAAAAAAHVAAAAAAABAcEAAAAAAAEBpQAAAAAAA4HNAAAAAAABwdkAAAAAAAFB1QAAAAAAAoHZAAAAAAAAwc0AAAAAAAEBrQAAAAAAAsHZAAAAAAABQeEAAAAAAALB0QAAAAAAAwHdAAAAAAAAwdEAAAAAAAABsQAAAAAAAwHtAAAAAAADwe0AAAAAAAHB3QAAAAAAAEHhAAAAAAACQdkAAAAAAACBxQAAAAAAAgH9A",
          "dtype": "f8"
         },
         "yaxis": "y"
        },
        {
         "hovertemplate": "Utbildningsinriktning=Pedagogik och undervisning<br>År=%{x}<br>Antal studerande=%{y}<extra></extra>",
         "legendgroup": "Pedagogik och undervisning",
         "line": {
          "color": "#FF97FF",
          "dash": "solid"
         },
         "marker": {
          "symbol": "circle"
         },
         "mode": "lines",
         "name": "Pedagogik och undervisning",
         "showlegend": true,
         "type": "scattergl",
         "x": {
          "bdata": "1QfVB9UH1QfVB9UH1gfWB9YH1gfWB9YH1wfXB9cH1wfXB9cH2AfYB9gH2AfYB9gH2QfZB9kH2QfZB9kH2gfaB9oH2gfaB9oH2wfbB9sH2wfbB9sH3AfcB9wH3AfcB9wH3QfdB90H3QfdB90H3gfeB94H3gfeB94H3wffB98H3wffB98H4AfgB+AH4AfgB+AH4QfhB+EH4QfhB+EH4gfiB+IH4gfiB+IH4wfjB+MH4wfjB+MH5AfkB+QH5AfkB+QH5QflB+UH5QflB+UH5gfmB+YH5gfmB+YH5wfnB+cH5wfnB+cH6AfoB+gH6AfoB+gH",
          "dtype": "i2"
         },
         "xaxis": "x",
         "y": {
          "bdata": "AAAAAAAACEAAAAAAAAAIQAAAAAAAABBAAAAAAAAACEAAAAAAAAAAAAAAAAAAAAhAAAAAAAAALEAAAAAAAAAwQAAAAAAAADNAAAAAAAAANUAAAAAAAAAqQAAAAAAAADRAAAAAAAAAN0AAAAAAAAA7QAAAAAAAgERAAAAAAAAAPEAAAAAAAAA9QAAAAAAAAENAAAAAAAAANkAAAAAAAABDQAAAAAAAgEVAAAAAAACAQkAAAAAAAIBBQAAAAAAAgEZAAAAAAAAAQEAAAAAAAABLQAAAAAAAAEJAAAAAAACASEAAAAAAAIBEQAAAAAAAAENAAAAAAABAVkAAAAAAAEBWQAAAAAAAAFNAAAAAAACAT0AAAAAAAIBRQAAAAAAAwFJAAAAAAAAAX0AAAAAAAIBiQAAAAAAAAFpAAAAAAADAVUAAAAAAAMBVQAAAAAAAgFtAAAAAAABAVEAAAAAAAABdQAAAAAAAQFJAAAAAAAAATkAAAAAAAIBIQAAAAAAAwFJAAAAAAAAAWkAAAAAAAMBaQAAAAAAAgEhAAAAAAABAUEAAAAAAAABEQAAAAAAAgE1AAAAAAAAAX0AAAAAAAMBbQAAAAAAAAExAAAAAAAAAUEAAAAAAAIBJQAAAAAAAwFNAAAAAAACAWUAAAAAAAIBXQAAAAAAAAEpAAAAAAAAAS0AAAAAAAIBJQAAAAAAAQFFAAAAAAADAVkAAAAAAAEBfQAAAAAAAAFVAAAAAAAAAUEAAAAAAAIBSQAAAAAAAAFhAAAAAAAAAW0AAAAAAAMBjQAAAAAAAQFdAAAAAAADAVkAAAAAAAABTQAAAAAAAAGBAAAAAAAAAXEAAAAAAAMBkQAAAAAAAwGBAAAAAAABAXkAAAAAAAMBeQAAAAAAAoGlAAAAAAADAW0AAAAAAAIBsQAAAAAAAoGhAAAAAAADgaUAAAAAAAIBnQAAAAAAAYHZAAAAAAADAYkAAAAAAACBtQAAAAAAAQG9AAAAAAACgbEAAAAAAAIBrQAAAAAAA4HtAAAAAAAAAaEAAAAAAALBxQAAAAAAAoHBAAAAAAABAcUAAAAAAACBuQAAAAAAAIIFAAAAAAADAakAAAAAAAPBwQAAAAAAA0HNAAAAAAADQdEAAAAAAACByQAAAAAAAOIFAAAAAAADAXEAAAAAAAKBrQAAAAAAAoG9AAAAAAADgbkAAAAAAAABsQAAAAAAAIHxAAAAAAAAAV0AAAAAAAMBiQAAAAAAAoGRAAAAAAACgZUAAAAAAAMBjQAAAAAAAUHZA",
          "dtype": "f8"
         },
         "yaxis": "y"
        },
        {
         "hovertemplate": "Utbildningsinriktning=Samhällsbyggnad och byggteknik<br>År=%{x}<br>Antal studerande=%{y}<extra></extra>",
         "legendgroup": "Samhällsbyggnad och byggteknik",
         "line": {
          "color": "#FECB52",
          "dash": "solid"
         },
         "marker": {
          "symbol": "circle"
         },
         "mode": "lines",
         "name": "Samhällsbyggnad och byggteknik",
         "showlegend": true,
         "type": "scattergl",
         "x": {
          "bdata": "1QfVB9UH1QfVB9UH1gfWB9YH1gfWB9YH1wfXB9cH1wfXB9cH2AfYB9gH2AfYB9gH2QfZB9kH2QfZB9kH2gfaB9oH2gfaB9oH2wfbB9sH2wfbB9sH3AfcB9wH3AfcB9wH3QfdB90H3QfdB90H3gfeB94H3gfeB94H3wffB98H3wffB98H4AfgB+AH4AfgB+AH4QfhB+EH4QfhB+EH4gfiB+IH4gfiB+IH4wfjB+MH4wfjB+MH5AfkB+QH5AfkB+QH5QflB+UH5QflB+UH5gfmB+YH5gfmB+YH5wfnB+cH5wfnB+cH6AfoB+gH6AfoB+gH",
          "dtype": "i2"
         },
         "xaxis": "x",
         "y": {
          "bdata": "AAAAAACAfkAAAAAAAMBxQAAAAAAAgGdAAAAAAAAAZ0AAAAAAAABgQAAAAAAAoGBAAAAAAABAiEAAAAAAAFB4QAAAAAAAAG1AAAAAAABgakAAAAAAACBmQAAAAAAAIGRAAAAAAAAYjUAAAAAAAIiAQAAAAAAAQHNAAAAAAAAAa0AAAAAAAMBqQAAAAAAAwGdAAAAAAACAjkAAAAAAANiEQAAAAAAA8HJAAAAAAADgcEAAAAAAAEBqQAAAAAAA4GpAAAAAAAC4kUAAAAAAAECJQAAAAAAA4HhAAAAAAADQdEAAAAAAABBwQAAAAAAAoG9AAAAAAABAk0AAAAAAADiMQAAAAAAA4H5AAAAAAABwdkAAAAAAACBxQAAAAAAAYHFAAAAAAAB0lUAAAAAAAGiQQAAAAAAAcIJAAAAAAADQdUAAAAAAAKBxQAAAAAAAIHFAAAAAAAD0lkAAAAAAANyRQAAAAAAAsIRAAAAAAADgeUAAAAAAAMB0QAAAAAAAcHVAAAAAAABIlkAAAAAAAPSUQAAAAAAAeIZAAAAAAABQfkAAAAAAAPB3QAAAAAAAUHhAAAAAAADEk0AAAAAAABiXQAAAAAAAIIpAAAAAAABwgUAAAAAAAEB6QAAAAAAAwHlAAAAAAAAQk0AAAAAAABiaQAAAAAAAcI9AAAAAAACwhEAAAAAAAGB/QAAAAAAAQHxAAAAAAACAkkAAAAAAANybQAAAAAAAfJJAAAAAAACIiEAAAAAAAOCBQAAAAAAAeIFAAAAAAAAMlEAAAAAAAFCfQAAAAAAAaJVAAAAAAAB4i0AAAAAAAPiCQAAAAAAAgIVAAAAAAAAYmEAAAAAAAKqgQAAAAAAAJJdAAAAAAADYj0AAAAAAAMCDQAAAAAAAuIZAAAAAAAB4nUAAAAAAACikQAAAAAAAZJtAAAAAAACEkkAAAAAAAFCHQAAAAAAAKItAAAAAAACsokAAAAAAALyoQAAAAAAAgKJAAAAAAADkl0AAAAAAAHiPQAAAAAAA/JBAAAAAAADIo0AAAAAAAAqqQAAAAAAALKVAAAAAAADwm0AAAAAAAPiRQAAAAAAAPJNAAAAAAACapEAAAAAAAEKoQAAAAAAAdKZAAAAAAABQnUAAAAAAAHSTQAAAAAAAVJRAAAAAAABmpEAAAAAAADylQAAAAAAAYqVAAAAAAACsnUAAAAAAAMySQAAAAAAAxJVAAAAAAACapUAAAAAAAOylQAAAAAAA6qRAAAAAAAAKoEAAAAAAAKiTQAAAAAAAiJhA",
          "dtype": "f8"
         },
         "yaxis": "y"
        },
        {
         "hovertemplate": "Utbildningsinriktning=Säkerhetstjänster<br>År=%{x}<br>Antal studerande=%{y}<extra></extra>",
         "legendgroup": "Säkerhetstjänster",
         "line": {
          "color": "#636efa",
          "dash": "solid"
         },
         "marker": {
          "symbol": "circle"
         },
         "mode": "lines",
         "name": "Säkerhetstjänster",
         "showlegend": true,
         "type": "scattergl",
         "x": {
          "bdata": "1QfVB9UH1QfVB9UH1gfWB9YH1gfWB9YH1wfXB9cH1wfXB9cH2AfYB9gH2AfYB9gH2QfZB9kH2QfZB9kH2gfaB9oH2gfaB9oH2wfbB9sH2wfbB9sH3AfcB9wH3AfcB9wH3QfdB90H3QfdB90H3gfeB94H3gfeB94H3wffB98H3wffB98H4AfgB+AH4AfgB+AH4QfhB+EH4QfhB+EH4gfiB+IH4gfiB+IH4wfjB+MH4wfjB+MH5AfkB+QH5AfkB+QH5QflB+UH5QflB+UH5gfmB+YH5gfmB+YH5wfnB+cH5wfnB+cH6AfoB+gH6AfoB+gH",
          "dtype": "i2"
         },
         "xaxis": "x",
         "y": {
          "bdata": "AAAAAADAXEAAAAAAAIBOQAAAAAAAAEZAAAAAAAAAOUAAAAAAAAAgQAAAAAAAACxAAAAAAABAZUAAAAAAAABcQAAAAAAAQFBAAAAAAAAAQkAAAAAAAAAyQAAAAAAAADhAAAAAAADAZ0AAAAAAAGBlQAAAAAAAgFNAAAAAAACATUAAAAAAAABEQAAAAAAAADtAAAAAAAAgakAAAAAAAGBnQAAAAAAAQFdAAAAAAAAAUUAAAAAAAABFQAAAAAAAADtAAAAAAADgZUAAAAAAAABnQAAAAAAAAFZAAAAAAABAVUAAAAAAAABMQAAAAAAAgERAAAAAAADAXEAAAAAAAEBlQAAAAAAAAFhAAAAAAAAAUkAAAAAAAABJQAAAAAAAgERAAAAAAABAWUAAAAAAACBiQAAAAAAAAFVAAAAAAACASEAAAAAAAIBEQAAAAAAAgENAAAAAAAAAV0AAAAAAAIBfQAAAAAAAAE9AAAAAAACAQUAAAAAAAAA5QAAAAAAAAD5AAAAAAADAUUAAAAAAAEBaQAAAAAAAAE1AAAAAAACAQkAAAAAAAAA+QAAAAAAAgEFAAAAAAACARUAAAAAAAMBUQAAAAAAAQFJAAAAAAACATEAAAAAAAIBIQAAAAAAAgEZAAAAAAAAAM0AAAAAAAEBQQAAAAAAAwFdAAAAAAADAUEAAAAAAAABPQAAAAAAAgFFAAAAAAAAAKEAAAAAAAABTQAAAAAAAAFJAAAAAAADAUkAAAAAAAABPQAAAAAAAgFNAAAAAAAAAKEAAAAAAAIBKQAAAAAAAgElAAAAAAAAATUAAAAAAAABEQAAAAAAAgE5AAAAAAAAAM0AAAAAAAABRQAAAAAAAgElAAAAAAACARkAAAAAAAIBCQAAAAAAAAFBAAAAAAAAANkAAAAAAAIBaQAAAAAAAgFFAAAAAAADAUUAAAAAAAIBNQAAAAAAAAFRAAAAAAACAQUAAAAAAAABZQAAAAAAAAFpAAAAAAACAWkAAAAAAAABYQAAAAAAAQGFAAAAAAACAREAAAAAAAMBXQAAAAAAAwFpAAAAAAAAAXkAAAAAAAIBWQAAAAAAAoGFAAAAAAACARkAAAAAAAIBfQAAAAAAAAGNAAAAAAACgY0AAAAAAAMBbQAAAAAAAgGVAAAAAAACASkAAAAAAAABeQAAAAAAAoGZAAAAAAABgZ0AAAAAAAIBdQAAAAAAAwGVAAAAAAACAT0AAAAAAAIBeQAAAAAAAgGRAAAAAAACAZ0AAAAAAAEBcQAAAAAAAgGZA",
          "dtype": "f8"
         },
         "yaxis": "y"
        },
        {
         "hovertemplate": "Utbildningsinriktning=Teknik och tillverkning<br>År=%{x}<br>Antal studerande=%{y}<extra></extra>",
         "legendgroup": "Teknik och tillverkning",
         "line": {
          "color": "#EF553B",
          "dash": "solid"
         },
         "marker": {
          "symbol": "circle"
         },
         "mode": "lines",
         "name": "Teknik och tillverkning",
         "showlegend": true,
         "type": "scattergl",
         "x": {
          "bdata": "1QfVB9UH1QfVB9UH1gfWB9YH1gfWB9YH1wfXB9cH1wfXB9cH2AfYB9gH2AfYB9gH2QfZB9kH2QfZB9kH2gfaB9oH2gfaB9oH2wfbB9sH2wfbB9sH3AfcB9wH3AfcB9wH3QfdB90H3QfdB90H3gfeB94H3gfeB94H3wffB98H3wffB98H4AfgB+AH4AfgB+AH4QfhB+EH4QfhB+EH4gfiB+IH4gfiB+IH4wfjB+MH4wfjB+MH5AfkB+QH5AfkB+QH5QflB+UH5QflB+UH5gfmB+YH5gfmB+YH5wfnB+cH5wfnB+cH6AfoB+gH6AfoB+gH",
          "dtype": "i2"
         },
         "xaxis": "x",
         "y": {
          "bdata": "AAAAAAAwnEAAAAAAAFCGQAAAAAAAAH9AAAAAAADweUAAAAAAABBzQAAAAAAAQGdAAAAAAABkoEAAAAAAAJiIQAAAAAAACIBAAAAAAAAQeUAAAAAAAMByQAAAAAAAYGpAAAAAAAC2okAAAAAAAHiOQAAAAAAAkIBAAAAAAAAQe0AAAAAAAKB1QAAAAAAAIG9AAAAAAAACpUAAAAAAAGyRQAAAAAAA6IJAAAAAAADgfUAAAAAAAIB2QAAAAAAAwHNAAAAAAABGqEAAAAAAAMiUQAAAAAAASIdAAAAAAADogEAAAAAAABB6QAAAAAAAMHdAAAAAAAAaq0AAAAAAAMiWQAAAAAAAmIdAAAAAAAAAg0AAAAAAAJB8QAAAAAAAsHhAAAAAAABkq0AAAAAAACCYQAAAAAAAeIlAAAAAAABAhEAAAAAAADB5QAAAAAAAIHpAAAAAAAAaqUAAAAAAADSXQAAAAAAAYIhAAAAAAAA4gUAAAAAAALB2QAAAAAAAMHVAAAAAAAAoqEAAAAAAAPiZQAAAAAAASItAAAAAAAAQgkAAAAAAALB3QAAAAAAAQHxAAAAAAABkp0AAAAAAAGyaQAAAAAAAAJBAAAAAAAAQhEAAAAAAALB5QAAAAAAAsIFAAAAAAACEpUAAAAAAAGibQAAAAAAAkJBAAAAAAACohkAAAAAAAIB9QAAAAAAAcINAAAAAAACyo0AAAAAAAFycQAAAAAAA/JBAAAAAAAAQh0AAAAAAADB+QAAAAAAAOINAAAAAAADioUAAAAAAADicQAAAAAAARJFAAAAAAABIh0AAAAAAADB/QAAAAAAAMINAAAAAAAAWoUAAAAAAAIyaQAAAAAAANJJAAAAAAAAgh0AAAAAAAHB9QAAAAAAACIJAAAAAAACqoUAAAAAAAHCeQAAAAAAA9JRAAAAAAADIi0AAAAAAACCDQAAAAAAAQIZAAAAAAAC2pUAAAAAAAJKjQAAAAAAArJpAAAAAAAAQkkAAAAAAABCJQAAAAAAAsI5AAAAAAABKqEAAAAAAAKKkQAAAAAAAHKBAAAAAAABMlUAAAAAAAAiOQAAAAAAA3JFAAAAAAABcqEAAAAAAAOijQAAAAAAARqBAAAAAAADElUAAAAAAADCNQAAAAAAARJNAAAAAAADgqEAAAAAAAAikQAAAAAAAnqBAAAAAAACQlkAAAAAAAByQQAAAAAAAPJVAAAAAAAAcrEAAAAAAABSmQAAAAAAA9qJAAAAAAACgmUAAAAAAAPiSQAAAAAAAxJdA",
          "dtype": "f8"
         },
         "yaxis": "y"
        },
        {
         "hovertemplate": "Utbildningsinriktning=Transporttjänster<br>År=%{x}<br>Antal studerande=%{y}<extra></extra>",
         "legendgroup": "Transporttjänster",
         "line": {
          "color": "#00cc96",
          "dash": "solid"
         },
         "marker": {
          "symbol": "circle"
         },
         "mode": "lines",
         "name": "Transporttjänster",
         "showlegend": true,
         "type": "scattergl",
         "x": {
          "bdata": "1QfVB9UH1QfVB9UH1gfWB9YH1gfWB9YH1wfXB9cH1wfXB9cH2AfYB9gH2AfYB9gH2QfZB9kH2QfZB9kH2gfaB9oH2gfaB9oH2wfbB9sH2wfbB9sH3AfcB9wH3AfcB9wH3QfdB90H3QfdB90H3gfeB94H3gfeB94H3wffB98H3wffB98H4AfgB+AH4AfgB+AH4QfhB+EH4QfhB+EH4gfiB+IH4gfiB+IH4wfjB+MH4wfjB+MH5AfkB+QH5AfkB+QH5QflB+UH5QflB+UH5gfmB+YH5gfmB+YH5wfnB+cH5wfnB+cH6AfoB+gH6AfoB+gH",
          "dtype": "i2"
         },
         "xaxis": "x",
         "y": {
          "bdata": "AAAAAACAb0AAAAAAAGBkQAAAAAAAAGJAAAAAAACAXkAAAAAAAMBXQAAAAAAAAEdAAAAAAACgdUAAAAAAACBrQAAAAAAAYGhAAAAAAABAZEAAAAAAAABdQAAAAAAAwFBAAAAAAADQeEAAAAAAACBzQAAAAAAAgGxAAAAAAABgZ0AAAAAAACBhQAAAAAAAAFlAAAAAAABAfUAAAAAAAAB4QAAAAAAAIG1AAAAAAABgakAAAAAAAABlQAAAAAAAQF9AAAAAAADQfkAAAAAAAGB6QAAAAAAAgG5AAAAAAADga0AAAAAAACBmQAAAAAAAAGFAAAAAAABYgUAAAAAAAFB9QAAAAAAA8HFAAAAAAADAbUAAAAAAAKBmQAAAAAAAAGBAAAAAAABQgUAAAAAAADB+QAAAAAAA0HFAAAAAAABAbUAAAAAAAOBkQAAAAAAAQF5AAAAAAABQekAAAAAAAKB6QAAAAAAAgG1AAAAAAABgZUAAAAAAAABeQAAAAAAAQFxAAAAAAACAdEAAAAAAAEBzQAAAAAAA4GZAAAAAAADAX0AAAAAAAABVQAAAAAAAgFVAAAAAAADgcUAAAAAAAMBwQAAAAAAAoGJAAAAAAABAVkAAAAAAAEBUQAAAAAAAAFFAAAAAAABQdEAAAAAAABB2QAAAAAAAIGlAAAAAAADAYEAAAAAAAIBZQAAAAAAAwFJAAAAAAAAgeEAAAAAAAAB/QAAAAAAAIHBAAAAAAABgZEAAAAAAAABfQAAAAAAAQF1AAAAAAABAe0AAAAAAAFiBQAAAAAAAIHRAAAAAAABgbEAAAAAAAOBiQAAAAAAA4GNAAAAAAADQdkAAAAAAAPB+QAAAAAAAgHRAAAAAAABgbUAAAAAAAGBiQAAAAAAAYGZAAAAAAAAgdkAAAAAAAPB7QAAAAAAAwHRAAAAAAABAakAAAAAAAEBeQAAAAAAAIGpAAAAAAADgeEAAAAAAABB+QAAAAAAAYHRAAAAAAAAAaEAAAAAAAOBgQAAAAAAAIGxAAAAAAACAdkAAAAAAAGB6QAAAAAAA8HFAAAAAAADAZUAAAAAAAEBcQAAAAAAAIGtAAAAAAADQdkAAAAAAAKB2QAAAAAAA8HBAAAAAAAAAZEAAAAAAAEBeQAAAAAAAYGpAAAAAAACQekAAAAAAACB2QAAAAAAA4HFAAAAAAADAZ0AAAAAAAGBgQAAAAAAAAG1AAAAAAACweUAAAAAAAGB1QAAAAAAAsHJAAAAAAAAAaUAAAAAAAOBhQAAAAAAAgHJA",
          "dtype": "f8"
         },
         "yaxis": "y"
        },
        {
         "hovertemplate": "Utbildningsinriktning=Juridik<br>År=%{x}<br>Antal studerande=%{y}<extra></extra>",
         "legendgroup": "Juridik",
         "line": {
          "color": "#ab63fa",
          "dash": "solid"
         },
         "marker": {
          "symbol": "circle"
         },
         "mode": "lines",
         "name": "Juridik",
         "showlegend": true,
         "type": "scattergl",
         "x": {
          "bdata": "1gfWB9YH1gfWB9YH1wfXB9cH1wfXB9cH2AfYB9gH2AfYB9gH2QfZB9kH2QfZB9kH2gfaB9oH2gfaB9oH2wfbB9sH2wfbB9sH3AfcB9wH3AfcB9wH3QfdB90H3QfdB90H3gfeB94H3gfeB94H3wffB98H3wffB98H4AfgB+AH4AfgB+AH4QfhB+EH4QfhB+EH4gfiB+IH4gfiB+IH4wfjB+MH4wfjB+MH5AfkB+QH5AfkB+QH5QflB+UH5QflB+UH5gfmB+YH5gfmB+YH5wfnB+cH5wfnB+cH6AfoB+gH6AfoB+gH",
          "dtype": "i2"
         },
         "xaxis": "x",
         "y": {
          "bdata": "AAAAAAAAOkAAAAAAAAAqQAAAAAAAABhAAAAAAAAAHEAAAAAAAAAIQAAAAAAAABhAAAAAAACARUAAAAAAAABBQAAAAAAAADJAAAAAAAAAJkAAAAAAAAAkQAAAAAAAABhAAAAAAACARUAAAAAAAABJQAAAAAAAAD9AAAAAAAAALEAAAAAAAAAsQAAAAAAAABRAAAAAAACAQUAAAAAAAIBQQAAAAAAAADxAAAAAAAAAM0AAAAAAAAAqQAAAAAAAABhAAAAAAACAREAAAAAAAABLQAAAAAAAAD5AAAAAAAAAOEAAAAAAAAAwQAAAAAAAACBAAAAAAAAASUAAAAAAAABKQAAAAAAAAD1AAAAAAAAAOkAAAAAAAAAmQAAAAAAAABxAAAAAAAAAUEAAAAAAAMBQQAAAAAAAAE1AAAAAAAAAOkAAAAAAAAA2QAAAAAAAABRAAAAAAACATEAAAAAAAEBYQAAAAAAAQFBAAAAAAAAAQEAAAAAAAAAzQAAAAAAAACRAAAAAAAAAQkAAAAAAAMBYQAAAAAAAAFNAAAAAAAAAQkAAAAAAAAA0QAAAAAAAADFAAAAAAAAAR0AAAAAAAIBaQAAAAAAAAFJAAAAAAACAQkAAAAAAAAA/QAAAAAAAADFAAAAAAACAS0AAAAAAAMBYQAAAAAAAwFNAAAAAAACARUAAAAAAAABBQAAAAAAAADpAAAAAAAAAUEAAAAAAAABgQAAAAAAAgFZAAAAAAACARkAAAAAAAIBEQAAAAAAAAEZAAAAAAABAWEAAAAAAAMBcQAAAAAAAgFZAAAAAAACAS0AAAAAAAABIQAAAAAAAgEBAAAAAAACAX0AAAAAAAABaQAAAAAAAAFdAAAAAAAAARUAAAAAAAABMQAAAAAAAAD9AAAAAAABgYkAAAAAAAIBdQAAAAAAAgFRAAAAAAAAASUAAAAAAAABFQAAAAAAAgEZAAAAAAAAgYUAAAAAAAABaQAAAAAAAAFVAAAAAAAAATUAAAAAAAABDQAAAAAAAwFBAAAAAAACAW0AAAAAAAMBVQAAAAAAAgFJAAAAAAACASEAAAAAAAABBQAAAAAAAAE9AAAAAAABAWkAAAAAAAABTQAAAAAAAgEtAAAAAAACAQ0AAAAAAAAA9QAAAAAAAAEVAAAAAAADAWUAAAAAAAIBVQAAAAAAAgElAAAAAAACAQkAAAAAAAAA/QAAAAAAAAENA",
          "dtype": "f8"
         },
         "yaxis": "y"
        }
       ],
       "layout": {
        "legend": {
         "orientation": "v",
         "title": {
          "text": "Utbildningsinriktning"
         },
         "tracegroupgap": 0,
         "x": 1.05,
         "y": 1
        },
        "template": {
         "data": {
          "bar": [
           {
            "error_x": {
             "color": "#2a3f5f"
            },
            "error_y": {
             "color": "#2a3f5f"
            },
            "marker": {
             "line": {
              "color": "#E5ECF6",
              "width": 0.5
             },
             "pattern": {
              "fillmode": "overlay",
              "size": 10,
              "solidity": 0.2
             }
            },
            "type": "bar"
           }
          ],
          "barpolar": [
           {
            "marker": {
             "line": {
              "color": "#E5ECF6",
              "width": 0.5
             },
             "pattern": {
              "fillmode": "overlay",
              "size": 10,
              "solidity": 0.2
             }
            },
            "type": "barpolar"
           }
          ],
          "carpet": [
           {
            "aaxis": {
             "endlinecolor": "#2a3f5f",
             "gridcolor": "white",
             "linecolor": "white",
             "minorgridcolor": "white",
             "startlinecolor": "#2a3f5f"
            },
            "baxis": {
             "endlinecolor": "#2a3f5f",
             "gridcolor": "white",
             "linecolor": "white",
             "minorgridcolor": "white",
             "startlinecolor": "#2a3f5f"
            },
            "type": "carpet"
           }
          ],
          "choropleth": [
           {
            "colorbar": {
             "outlinewidth": 0,
             "ticks": ""
            },
            "type": "choropleth"
           }
          ],
          "contour": [
           {
            "colorbar": {
             "outlinewidth": 0,
             "ticks": ""
            },
            "colorscale": [
             [
              0,
              "#0d0887"
             ],
             [
              0.1111111111111111,
              "#46039f"
             ],
             [
              0.2222222222222222,
              "#7201a8"
             ],
             [
              0.3333333333333333,
              "#9c179e"
             ],
             [
              0.4444444444444444,
              "#bd3786"
             ],
             [
              0.5555555555555556,
              "#d8576b"
             ],
             [
              0.6666666666666666,
              "#ed7953"
             ],
             [
              0.7777777777777778,
              "#fb9f3a"
             ],
             [
              0.8888888888888888,
              "#fdca26"
             ],
             [
              1,
              "#f0f921"
             ]
            ],
            "type": "contour"
           }
          ],
          "contourcarpet": [
           {
            "colorbar": {
             "outlinewidth": 0,
             "ticks": ""
            },
            "type": "contourcarpet"
           }
          ],
          "heatmap": [
           {
            "colorbar": {
             "outlinewidth": 0,
             "ticks": ""
            },
            "colorscale": [
             [
              0,
              "#0d0887"
             ],
             [
              0.1111111111111111,
              "#46039f"
             ],
             [
              0.2222222222222222,
              "#7201a8"
             ],
             [
              0.3333333333333333,
              "#9c179e"
             ],
             [
              0.4444444444444444,
              "#bd3786"
             ],
             [
              0.5555555555555556,
              "#d8576b"
             ],
             [
              0.6666666666666666,
              "#ed7953"
             ],
             [
              0.7777777777777778,
              "#fb9f3a"
             ],
             [
              0.8888888888888888,
              "#fdca26"
             ],
             [
              1,
              "#f0f921"
             ]
            ],
            "type": "heatmap"
           }
          ],
          "histogram": [
           {
            "marker": {
             "pattern": {
              "fillmode": "overlay",
              "size": 10,
              "solidity": 0.2
             }
            },
            "type": "histogram"
           }
          ],
          "histogram2d": [
           {
            "colorbar": {
             "outlinewidth": 0,
             "ticks": ""
            },
            "colorscale": [
             [
              0,
              "#0d0887"
             ],
             [
              0.1111111111111111,
              "#46039f"
             ],
             [
              0.2222222222222222,
              "#7201a8"
             ],
             [
              0.3333333333333333,
              "#9c179e"
             ],
             [
              0.4444444444444444,
              "#bd3786"
             ],
             [
              0.5555555555555556,
              "#d8576b"
             ],
             [
              0.6666666666666666,
              "#ed7953"
             ],
             [
              0.7777777777777778,
              "#fb9f3a"
             ],
             [
              0.8888888888888888,
              "#fdca26"
             ],
             [
              1,
              "#f0f921"
             ]
            ],
            "type": "histogram2d"
           }
          ],
          "histogram2dcontour": [
           {
            "colorbar": {
             "outlinewidth": 0,
             "ticks": ""
            },
            "colorscale": [
             [
              0,
              "#0d0887"
             ],
             [
              0.1111111111111111,
              "#46039f"
             ],
             [
              0.2222222222222222,
              "#7201a8"
             ],
             [
              0.3333333333333333,
              "#9c179e"
             ],
             [
              0.4444444444444444,
              "#bd3786"
             ],
             [
              0.5555555555555556,
              "#d8576b"
             ],
             [
              0.6666666666666666,
              "#ed7953"
             ],
             [
              0.7777777777777778,
              "#fb9f3a"
             ],
             [
              0.8888888888888888,
              "#fdca26"
             ],
             [
              1,
              "#f0f921"
             ]
            ],
            "type": "histogram2dcontour"
           }
          ],
          "mesh3d": [
           {
            "colorbar": {
             "outlinewidth": 0,
             "ticks": ""
            },
            "type": "mesh3d"
           }
          ],
          "parcoords": [
           {
            "line": {
             "colorbar": {
              "outlinewidth": 0,
              "ticks": ""
             }
            },
            "type": "parcoords"
           }
          ],
          "pie": [
           {
            "automargin": true,
            "type": "pie"
           }
          ],
          "scatter": [
           {
            "fillpattern": {
             "fillmode": "overlay",
             "size": 10,
             "solidity": 0.2
            },
            "type": "scatter"
           }
          ],
          "scatter3d": [
           {
            "line": {
             "colorbar": {
              "outlinewidth": 0,
              "ticks": ""
             }
            },
            "marker": {
             "colorbar": {
              "outlinewidth": 0,
              "ticks": ""
             }
            },
            "type": "scatter3d"
           }
          ],
          "scattercarpet": [
           {
            "marker": {
             "colorbar": {
              "outlinewidth": 0,
              "ticks": ""
             }
            },
            "type": "scattercarpet"
           }
          ],
          "scattergeo": [
           {
            "marker": {
             "colorbar": {
              "outlinewidth": 0,
              "ticks": ""
             }
            },
            "type": "scattergeo"
           }
          ],
          "scattergl": [
           {
            "marker": {
             "colorbar": {
              "outlinewidth": 0,
              "ticks": ""
             }
            },
            "type": "scattergl"
           }
          ],
          "scattermap": [
           {
            "marker": {
             "colorbar": {
              "outlinewidth": 0,
              "ticks": ""
             }
            },
            "type": "scattermap"
           }
          ],
          "scattermapbox": [
           {
            "marker": {
             "colorbar": {
              "outlinewidth": 0,
              "ticks": ""
             }
            },
            "type": "scattermapbox"
           }
          ],
          "scatterpolar": [
           {
            "marker": {
             "colorbar": {
              "outlinewidth": 0,
              "ticks": ""
             }
            },
            "type": "scatterpolar"
           }
          ],
          "scatterpolargl": [
           {
            "marker": {
             "colorbar": {
              "outlinewidth": 0,
              "ticks": ""
             }
            },
            "type": "scatterpolargl"
           }
          ],
          "scatterternary": [
           {
            "marker": {
             "colorbar": {
              "outlinewidth": 0,
              "ticks": ""
             }
            },
            "type": "scatterternary"
           }
          ],
          "surface": [
           {
            "colorbar": {
             "outlinewidth": 0,
             "ticks": ""
            },
            "colorscale": [
             [
              0,
              "#0d0887"
             ],
             [
              0.1111111111111111,
              "#46039f"
             ],
             [
              0.2222222222222222,
              "#7201a8"
             ],
             [
              0.3333333333333333,
              "#9c179e"
             ],
             [
              0.4444444444444444,
              "#bd3786"
             ],
             [
              0.5555555555555556,
              "#d8576b"
             ],
             [
              0.6666666666666666,
              "#ed7953"
             ],
             [
              0.7777777777777778,
              "#fb9f3a"
             ],
             [
              0.8888888888888888,
              "#fdca26"
             ],
             [
              1,
              "#f0f921"
             ]
            ],
            "type": "surface"
           }
          ],
          "table": [
           {
            "cells": {
             "fill": {
              "color": "#EBF0F8"
             },
             "line": {
              "color": "white"
             }
            },
            "header": {
             "fill": {
              "color": "#C8D4E3"
             },
             "line": {
              "color": "white"
             }
            },
            "type": "table"
           }
          ]
         },
         "layout": {
          "annotationdefaults": {
           "arrowcolor": "#2a3f5f",
           "arrowhead": 0,
           "arrowwidth": 1
          },
          "autotypenumbers": "strict",
          "coloraxis": {
           "colorbar": {
            "outlinewidth": 0,
            "ticks": ""
           }
          },
          "colorscale": {
           "diverging": [
            [
             0,
             "#8e0152"
            ],
            [
             0.1,
             "#c51b7d"
            ],
            [
             0.2,
             "#de77ae"
            ],
            [
             0.3,
             "#f1b6da"
            ],
            [
             0.4,
             "#fde0ef"
            ],
            [
             0.5,
             "#f7f7f7"
            ],
            [
             0.6,
             "#e6f5d0"
            ],
            [
             0.7,
             "#b8e186"
            ],
            [
             0.8,
             "#7fbc41"
            ],
            [
             0.9,
             "#4d9221"
            ],
            [
             1,
             "#276419"
            ]
           ],
           "sequential": [
            [
             0,
             "#0d0887"
            ],
            [
             0.1111111111111111,
             "#46039f"
            ],
            [
             0.2222222222222222,
             "#7201a8"
            ],
            [
             0.3333333333333333,
             "#9c179e"
            ],
            [
             0.4444444444444444,
             "#bd3786"
            ],
            [
             0.5555555555555556,
             "#d8576b"
            ],
            [
             0.6666666666666666,
             "#ed7953"
            ],
            [
             0.7777777777777778,
             "#fb9f3a"
            ],
            [
             0.8888888888888888,
             "#fdca26"
            ],
            [
             1,
             "#f0f921"
            ]
           ],
           "sequentialminus": [
            [
             0,
             "#0d0887"
            ],
            [
             0.1111111111111111,
             "#46039f"
            ],
            [
             0.2222222222222222,
             "#7201a8"
            ],
            [
             0.3333333333333333,
             "#9c179e"
            ],
            [
             0.4444444444444444,
             "#bd3786"
            ],
            [
             0.5555555555555556,
             "#d8576b"
            ],
            [
             0.6666666666666666,
             "#ed7953"
            ],
            [
             0.7777777777777778,
             "#fb9f3a"
            ],
            [
             0.8888888888888888,
             "#fdca26"
            ],
            [
             1,
             "#f0f921"
            ]
           ]
          },
          "colorway": [
           "#636efa",
           "#EF553B",
           "#00cc96",
           "#ab63fa",
           "#FFA15A",
           "#19d3f3",
           "#FF6692",
           "#B6E880",
           "#FF97FF",
           "#FECB52"
          ],
          "font": {
           "color": "#2a3f5f"
          },
          "geo": {
           "bgcolor": "white",
           "lakecolor": "white",
           "landcolor": "#E5ECF6",
           "showlakes": true,
           "showland": true,
           "subunitcolor": "white"
          },
          "hoverlabel": {
           "align": "left"
          },
          "hovermode": "closest",
          "mapbox": {
           "style": "light"
          },
          "paper_bgcolor": "white",
          "plot_bgcolor": "#E5ECF6",
          "polar": {
           "angularaxis": {
            "gridcolor": "white",
            "linecolor": "white",
            "ticks": ""
           },
           "bgcolor": "#E5ECF6",
           "radialaxis": {
            "gridcolor": "white",
            "linecolor": "white",
            "ticks": ""
           }
          },
          "scene": {
           "xaxis": {
            "backgroundcolor": "#E5ECF6",
            "gridcolor": "white",
            "gridwidth": 2,
            "linecolor": "white",
            "showbackground": true,
            "ticks": "",
            "zerolinecolor": "white"
           },
           "yaxis": {
            "backgroundcolor": "#E5ECF6",
            "gridcolor": "white",
            "gridwidth": 2,
            "linecolor": "white",
            "showbackground": true,
            "ticks": "",
            "zerolinecolor": "white"
           },
           "zaxis": {
            "backgroundcolor": "#E5ECF6",
            "gridcolor": "white",
            "gridwidth": 2,
            "linecolor": "white",
            "showbackground": true,
            "ticks": "",
            "zerolinecolor": "white"
           }
          },
          "shapedefaults": {
           "line": {
            "color": "#2a3f5f"
           }
          },
          "ternary": {
           "aaxis": {
            "gridcolor": "white",
            "linecolor": "white",
            "ticks": ""
           },
           "baxis": {
            "gridcolor": "white",
            "linecolor": "white",
            "ticks": ""
           },
           "bgcolor": "#E5ECF6",
           "caxis": {
            "gridcolor": "white",
            "linecolor": "white",
            "ticks": ""
           }
          },
          "title": {
           "x": 0.05
          },
          "xaxis": {
           "automargin": true,
           "gridcolor": "white",
           "linecolor": "white",
           "ticks": "",
           "title": {
            "standoff": 15
           },
           "zerolinecolor": "white",
           "zerolinewidth": 2
          },
          "yaxis": {
           "automargin": true,
           "gridcolor": "white",
           "linecolor": "white",
           "ticks": "",
           "title": {
            "standoff": 15
           },
           "zerolinecolor": "white",
           "zerolinewidth": 2
          }
         }
        },
        "title": {
         "text": "Antal studerande över tid per utbildningsinriktning"
        },
        "xaxis": {
         "anchor": "y",
         "domain": [
          0,
          1
         ],
         "tickangle": 45,
         "title": {
          "text": "År"
         }
        },
        "yaxis": {
         "anchor": "x",
         "domain": [
          0,
          1
         ],
         "title": {
          "text": "Antal studerande"
         }
        }
       }
      }
     },
     "metadata": {},
     "output_type": "display_data"
    }
   ],
   "source": [
    "import plotly.express as px\n",
    "\n",
    "fig = px.line(\n",
    "    df_long,\n",
    "    x=\"År\",\n",
    "    y=\"Antal studerande\",\n",
    "    color=\"Utbildningsinriktning\",\n",
    "    title=\"Antal studerande över tid per utbildningsinriktning\",\n",
    "    labels={\"Antal studerande\": \"Antal studerande\", \"År\": \"År\"}\n",
    ")\n",
    "\n",
    "fig.update_layout(\n",
    "    xaxis=dict(tickangle=45),\n",
    "    legend=dict(title=\"Utbildningsinriktning\", orientation=\"v\", x=1.05, y=1)\n",
    ")\n",
    "\n",
    "fig.show()\n"
   ]
  },
  {
   "cell_type": "code",
   "execution_count": 161,
   "id": "4c218f13",
   "metadata": {},
   "outputs": [
    {
     "data": {
      "application/vnd.plotly.v1+json": {
       "config": {
        "plotlyServerURL": "https://plot.ly"
       },
       "data": [
        {
         "alignmentgroup": "True",
         "hovertemplate": "Utbildningsinriktning=Data/It<br>År=%{x}<br>Antal studerande=%{y}<extra></extra>",
         "legendgroup": "Data/It",
         "marker": {
          "color": "#636efa",
          "pattern": {
           "shape": ""
          }
         },
         "name": "Data/It",
         "offsetgroup": "Data/It",
         "orientation": "v",
         "showlegend": true,
         "textposition": "auto",
         "type": "bar",
         "x": {
          "bdata": "1QfVB9UH1QfVB9UH1gfWB9YH1gfWB9YH1wfXB9cH1wfXB9cH2AfYB9gH2AfYB9gH2QfZB9kH2QfZB9kH2gfaB9oH2gfaB9oH2wfbB9sH2wfbB9sH3AfcB9wH3AfcB9wH3QfdB90H3QfdB90H3gfeB94H3gfeB94H3wffB98H3wffB98H4AfgB+AH4AfgB+AH4QfhB+EH4QfhB+EH4gfiB+IH4gfiB+IH4wfjB+MH4wfjB+MH5AfkB+QH5AfkB+QH5QflB+UH5QflB+UH5gfmB+YH5gfmB+YH5wfnB+cH5wfnB+cH6AfoB+gH6AfoB+gH",
          "dtype": "i2"
         },
         "xaxis": "x",
         "y": {
          "bdata": "AAAAAAAElEAAAAAAAECCQAAAAAAAQHNAAAAAAADAaEAAAAAAACBhQAAAAAAAwFNAAAAAAADAlEAAAAAAAGiAQAAAAAAAIHNAAAAAAACgZUAAAAAAAABdQAAAAAAAgFhAAAAAAABUlkAAAAAAADCDQAAAAAAAAHNAAAAAAADgaEAAAAAAAABhQAAAAAAAwFxAAAAAAABklUAAAAAAAIiEQAAAAAAA0HNAAAAAAABAakAAAAAAAABiQAAAAAAAAF5AAAAAAADgk0AAAAAAACCHQAAAAAAAAHZAAAAAAACAa0AAAAAAAEBiQAAAAAAAwF9AAAAAAAAIk0AAAAAAAMCHQAAAAAAAEHhAAAAAAAAAbkAAAAAAAGBjQAAAAAAAIGJAAAAAAAC8lEAAAAAAAMiJQAAAAAAAwHtAAAAAAAAQcEAAAAAAAABjQAAAAAAAYGNAAAAAAAB4lUAAAAAAABCMQAAAAAAAIH9AAAAAAAAwckAAAAAAAABlQAAAAAAAIGVAAAAAAABAl0AAAAAAAOSQQAAAAAAAyINAAAAAAACQdkAAAAAAAGBvQAAAAAAAAG5AAAAAAABMmUAAAAAAAGSVQAAAAAAAuIhAAAAAAACwfUAAAAAAAOBzQAAAAAAA0HZAAAAAAAAom0AAAAAAAPCYQAAAAAAAoI9AAAAAAADAg0AAAAAAAEB3QAAAAAAA4HxAAAAAAADsl0AAAAAAAAiaQAAAAAAADJNAAAAAAADIh0AAAAAAANB8QAAAAAAACIFAAAAAAAC4lkAAAAAAAEyaQAAAAAAAJJRAAAAAAADwiEAAAAAAAFB8QAAAAAAAqIBAAAAAAAAQlkAAAAAAAOCZQAAAAAAA+JJAAAAAAADQhUAAAAAAALB1QAAAAAAAkHdAAAAAAACsm0AAAAAAADygQAAAAAAAxJdAAAAAAABAjEAAAAAAAEB8QAAAAAAAgHZAAAAAAAAkokAAAAAAADSnQAAAAAAAvKJAAAAAAABAlUAAAAAAALiFQAAAAAAA0IBAAAAAAAC8pUAAAAAAAGKrQAAAAAAA5KdAAAAAAADMm0AAAAAAAKCOQAAAAAAAYIdAAAAAAAC2qEAAAAAAANytQAAAAAAAyKpAAAAAAAB4n0AAAAAAAPiOQAAAAAAAKIpAAAAAAAA0qkAAAAAAAJ6vQAAAAAAAZKxAAAAAAAAKoUAAAAAAAByRQAAAAAAAmIpAAAAAAAA6rEAAAAAAAMGwQAAAAAAAuK5AAAAAAACao0AAAAAAALCSQAAAAAAAYIxA",
          "dtype": "f8"
         },
         "yaxis": "y"
        },
        {
         "alignmentgroup": "True",
         "hovertemplate": "Utbildningsinriktning=Ekonomi, administration och försäljning<br>År=%{x}<br>Antal studerande=%{y}<extra></extra>",
         "legendgroup": "Ekonomi, administration och försäljning",
         "marker": {
          "color": "#EF553B",
          "pattern": {
           "shape": ""
          }
         },
         "name": "Ekonomi, administration och försäljning",
         "offsetgroup": "Ekonomi, administration och försäljning",
         "orientation": "v",
         "showlegend": true,
         "textposition": "auto",
         "type": "bar",
         "x": {
          "bdata": "1QfVB9UH1QfVB9UH1gfWB9YH1gfWB9YH1wfXB9cH1wfXB9cH2AfYB9gH2AfYB9gH2QfZB9kH2QfZB9kH2gfaB9oH2gfaB9oH2wfbB9sH2wfbB9sH3AfcB9wH3AfcB9wH3QfdB90H3QfdB90H3gfeB94H3gfeB94H3wffB98H3wffB98H4AfgB+AH4AfgB+AH4QfhB+EH4QfhB+EH4gfiB+IH4gfiB+IH4wfjB+MH4wfjB+MH5AfkB+QH5AfkB+QH5QflB+UH5QflB+UH5gfmB+YH5gfmB+YH5wfnB+cH5wfnB+cH6AfoB+gH6AfoB+gH",
          "dtype": "i2"
         },
         "xaxis": "x",
         "y": {
          "bdata": "AAAAAAAaoUAAAAAAAACYQAAAAAAAuIxAAAAAAADYhkAAAAAAAFCAQAAAAAAAUHVAAAAAAABmpUAAAAAAAFicQAAAAAAAfJBAAAAAAAB4jEAAAAAAADiDQAAAAAAAAHxAAAAAAADQqUAAAAAAACKgQAAAAAAAjJFAAAAAAABAj0AAAAAAAKCHQAAAAAAAcIFAAAAAAAAQrkAAAAAAAD6jQAAAAAAAGJRAAAAAAABkkUAAAAAAAACLQAAAAAAAiIVAAAAAAACAsEAAAAAAAAqmQAAAAAAAnJZAAAAAAACokkAAAAAAAHiKQAAAAAAAgIdAAAAAAAAFsUAAAAAAAPSnQAAAAAAAwJhAAAAAAABkk0AAAAAAAKiLQAAAAAAAIIhAAAAAAAB4sEAAAAAAAJSpQAAAAAAAlJpAAAAAAAAclEAAAAAAANiMQAAAAAAAUIhAAAAAAAAGr0AAAAAAAPypQAAAAAAAWJtAAAAAAAAUk0AAAAAAAGiLQAAAAAAACIlAAAAAAABWrkAAAAAAAHSrQAAAAAAAoJxAAAAAAACEk0AAAAAAAFiMQAAAAAAAIItAAAAAAADyq0AAAAAAAC6sQAAAAAAAPJ9AAAAAAADgk0AAAAAAAJiMQAAAAAAAyItAAAAAAAA8pkAAAAAAAIKsQAAAAAAAFJ9AAAAAAABIlUAAAAAAAMCMQAAAAAAAMIxAAAAAAADookAAAAAAABasQAAAAAAATqBAAAAAAACUlkAAAAAAAFiOQAAAAAAAiI9AAAAAAACsokAAAAAAAO6sQAAAAAAAFKJAAAAAAACkmEAAAAAAAPCQQAAAAAAAlJFAAAAAAAAgpkAAAAAAAA2wQAAAAAAAgKRAAAAAAACEm0AAAAAAAGiSQAAAAAAANJRAAAAAAACQq0AAAAAAAK+xQAAAAAAA8qdAAAAAAADUn0AAAAAAAKyUQAAAAAAAqJdAAAAAAAAysEAAAAAAABu0QAAAAAAAnqxAAAAAAAAYo0AAAAAAANCVQAAAAAAAfJpAAAAAAABFsEAAAAAAAHCzQAAAAAAAGK1AAAAAAADao0AAAAAAACCXQAAAAAAA2JlAAAAAAAA7sEAAAAAAAHqyQAAAAAAAAqxAAAAAAABEo0AAAAAAAOCVQAAAAAAAKJdAAAAAAAAKsEAAAAAAABKxQAAAAAAAQKtAAAAAAADiokAAAAAAAMyVQAAAAAAAqJhAAAAAAACDsEAAAAAAAGmwQAAAAAAAPKpAAAAAAACCokAAAAAAAGiWQAAAAAAA/JtA",
          "dtype": "f8"
         },
         "yaxis": "y"
        },
        {
         "alignmentgroup": "True",
         "hovertemplate": "Utbildningsinriktning=Friskvård och kroppsvård<br>År=%{x}<br>Antal studerande=%{y}<extra></extra>",
         "legendgroup": "Friskvård och kroppsvård",
         "marker": {
          "color": "#00cc96",
          "pattern": {
           "shape": ""
          }
         },
         "name": "Friskvård och kroppsvård",
         "offsetgroup": "Friskvård och kroppsvård",
         "orientation": "v",
         "showlegend": true,
         "textposition": "auto",
         "type": "bar",
         "x": {
          "bdata": "1QfVB9UH1QfVB9UH1gfWB9YH1gfWB9YH1wfXB9cH1wfXB9cH2AfYB9gH2AfYB9gH2QfZB9kH2QfZB9kH2gfaB9oH2gfaB9oH2wfbB9sH2wfbB9sH3AfcB9wH3AfcB9wH3QfdB90H3QfdB90H3gfeB94H3gfeB94H3wffB98H3wffB98H4AfgB+AH4AfgB+AH4QfhB+EH4QfhB+EH4gfiB+IH4gfiB+IH4wfjB+MH4wfjB+MH5AfkB+QH5AfkB+QH5QflB+UH5QflB+UH5gfmB+YH5gfmB+YH5wfnB+cH5wfnB+cH6AfoB+gH6AfoB+gH",
          "dtype": "i2"
         },
         "xaxis": "x",
         "y": {
          "bdata": "AAAAAAAAZUAAAAAAAIBeQAAAAAAAAExAAAAAAACASEAAAAAAAABLQAAAAAAAAEBAAAAAAADwcEAAAAAAAKBnQAAAAAAAwFVAAAAAAADAVUAAAAAAAABIQAAAAAAAAExAAAAAAABAdkAAAAAAAOBqQAAAAAAAAFdAAAAAAACAWUAAAAAAAABKQAAAAAAAgFBAAAAAAADQeUAAAAAAAABvQAAAAAAAwFdAAAAAAAAAVEAAAAAAAIBPQAAAAAAAgFdAAAAAAACweUAAAAAAAIBwQAAAAAAAwFZAAAAAAAAAVUAAAAAAAIBPQAAAAAAAAFhAAAAAAACQd0AAAAAAAEBrQAAAAAAAAFNAAAAAAACAUEAAAAAAAIBKQAAAAAAAwFBAAAAAAAAgcUAAAAAAAMBjQAAAAAAAgEpAAAAAAAAAQ0AAAAAAAABBQAAAAAAAAEFAAAAAAADgZkAAAAAAAABdQAAAAAAAADtAAAAAAAAAM0AAAAAAAAA0QAAAAAAAABhAAAAAAADAZUAAAAAAAABaQAAAAAAAgEFAAAAAAAAAM0AAAAAAAAAyQAAAAAAAACpAAAAAAACAYkAAAAAAAMBYQAAAAAAAADxAAAAAAAAAMkAAAAAAAAA1QAAAAAAAADBAAAAAAABAYUAAAAAAAABZQAAAAAAAAEdAAAAAAAAAOkAAAAAAAAAyQAAAAAAAADhAAAAAAADAWkAAAAAAAMBVQAAAAAAAgENAAAAAAAAAPkAAAAAAAAAyQAAAAAAAADZAAAAAAACAUUAAAAAAAEBXQAAAAAAAADhAAAAAAAAAMEAAAAAAAAAwQAAAAAAAADNAAAAAAADAUUAAAAAAAEBXQAAAAAAAADdAAAAAAAAAJkAAAAAAAAAmQAAAAAAAADZAAAAAAABAVkAAAAAAAMBcQAAAAAAAAEBAAAAAAAAAN0AAAAAAAAAwQAAAAAAAADtAAAAAAADAWEAAAAAAAABcQAAAAAAAAEpAAAAAAAAAPkAAAAAAAAAxQAAAAAAAADlAAAAAAADAXEAAAAAAAMBfQAAAAAAAgExAAAAAAAAAOEAAAAAAAAA2QAAAAAAAADtAAAAAAABAXUAAAAAAAGBhQAAAAAAAAFFAAAAAAAAAP0AAAAAAAAA1QAAAAAAAAEBAAAAAAAAAYEAAAAAAAMBgQAAAAAAAQFNAAAAAAAAARkAAAAAAAAA9QAAAAAAAAEhAAAAAAADAWUAAAAAAAABVQAAAAAAAwFBAAAAAAACAQ0AAAAAAAAA5QAAAAAAAAEhA",
          "dtype": "f8"
         },
         "yaxis": "y"
        },
        {
         "alignmentgroup": "True",
         "hovertemplate": "Utbildningsinriktning=Hotell, restaurang och turism<br>År=%{x}<br>Antal studerande=%{y}<extra></extra>",
         "legendgroup": "Hotell, restaurang och turism",
         "marker": {
          "color": "#ab63fa",
          "pattern": {
           "shape": ""
          }
         },
         "name": "Hotell, restaurang och turism",
         "offsetgroup": "Hotell, restaurang och turism",
         "orientation": "v",
         "showlegend": true,
         "textposition": "auto",
         "type": "bar",
         "x": {
          "bdata": "1QfVB9UH1QfVB9UH1gfWB9YH1gfWB9YH1wfXB9cH1wfXB9cH2AfYB9gH2AfYB9gH2QfZB9kH2QfZB9kH2gfaB9oH2gfaB9oH2wfbB9sH2wfbB9sH3AfcB9wH3AfcB9wH3QfdB90H3QfdB90H3gfeB94H3gfeB94H3wffB98H3wffB98H4AfgB+AH4AfgB+AH4QfhB+EH4QfhB+EH4gfiB+IH4gfiB+IH4wfjB+MH4wfjB+MH5AfkB+QH5AfkB+QH5QflB+UH5QflB+UH5gfmB+YH5gfmB+YH5wfnB+cH5wfnB+cH6AfoB+gH6AfoB+gH",
          "dtype": "i2"
         },
         "xaxis": "x",
         "y": {
          "bdata": "AAAAAAAMkUAAAAAAANiCQAAAAAAAIG9AAAAAAACgYEAAAAAAAEBVQAAAAAAAAE9AAAAAAADclUAAAAAAABiEQAAAAAAAoGtAAAAAAAAgYUAAAAAAAMBXQAAAAAAAgExAAAAAAADUmUAAAAAAANCFQAAAAAAAIG1AAAAAAAAAYUAAAAAAAABbQAAAAAAAQFNAAAAAAADMmkAAAAAAACCIQAAAAAAAoGtAAAAAAAAAY0AAAAAAAMBaQAAAAAAAgFpAAAAAAAD8mEAAAAAAANCIQAAAAAAAwGxAAAAAAACgYEAAAAAAAABaQAAAAAAAQFpAAAAAAAAAl0AAAAAAANCJQAAAAAAAwG5AAAAAAAAgY0AAAAAAAEBZQAAAAAAAwFpAAAAAAADwlUAAAAAAACiKQAAAAAAAQHBAAAAAAABgY0AAAAAAAIBcQAAAAAAAgF1AAAAAAABUkkAAAAAAAHCJQAAAAAAAQGxAAAAAAACAY0AAAAAAAABcQAAAAAAAwFtAAAAAAAC8kEAAAAAAALCJQAAAAAAAoG9AAAAAAACgYkAAAAAAAEBbQAAAAAAAQF5AAAAAAADYiUAAAAAAAHCLQAAAAAAAMHNAAAAAAAAgaEAAAAAAACBjQAAAAAAAAGlAAAAAAADIhEAAAAAAAACNQAAAAAAAkHZAAAAAAACgaUAAAAAAAKBoQAAAAAAAQG9AAAAAAAAwhUAAAAAAAOCLQAAAAAAA4HZAAAAAAADAaUAAAAAAAIBlQAAAAAAAYGtAAAAAAABYg0AAAAAAAJCNQAAAAAAAAHhAAAAAAABgbUAAAAAAAABlQAAAAAAAwGZAAAAAAADAg0AAAAAAAHiLQAAAAAAAsHhAAAAAAADAa0AAAAAAACBlQAAAAAAAQGlAAAAAAACIhkAAAAAAACCKQAAAAAAAYHtAAAAAAADgcEAAAAAAAKBmQAAAAAAAAHFAAAAAAACgiEAAAAAAAIiMQAAAAAAAoH5AAAAAAACgdEAAAAAAAMBpQAAAAAAA8HZAAAAAAADIiEAAAAAAANiMQAAAAAAAKIFAAAAAAACgdEAAAAAAAJBwQAAAAAAAYHxAAAAAAADIhUAAAAAAABiJQAAAAAAAwH9AAAAAAACAc0AAAAAAAKBxQAAAAAAAUHlAAAAAAAAohEAAAAAAAPiFQAAAAAAAMHxAAAAAAADQcUAAAAAAAKBxQAAAAAAAMHhAAAAAAAC4hEAAAAAAAJiEQAAAAAAAwHpAAAAAAABgc0AAAAAAAIBvQAAAAAAAgH5A",
          "dtype": "f8"
         },
         "yaxis": "y"
        },
        {
         "alignmentgroup": "True",
         "hovertemplate": "Utbildningsinriktning=Hälso- och sjukvård samt socialt arbete<br>År=%{x}<br>Antal studerande=%{y}<extra></extra>",
         "legendgroup": "Hälso- och sjukvård samt socialt arbete",
         "marker": {
          "color": "#FFA15A",
          "pattern": {
           "shape": ""
          }
         },
         "name": "Hälso- och sjukvård samt socialt arbete",
         "offsetgroup": "Hälso- och sjukvård samt socialt arbete",
         "orientation": "v",
         "showlegend": true,
         "textposition": "auto",
         "type": "bar",
         "x": {
          "bdata": "1QfVB9UH1QfVB9UH1gfWB9YH1gfWB9YH1wfXB9cH1wfXB9cH2AfYB9gH2AfYB9gH2QfZB9kH2QfZB9kH2gfaB9oH2gfaB9oH2wfbB9sH2wfbB9sH3AfcB9wH3AfcB9wH3QfdB90H3QfdB90H3gfeB94H3gfeB94H3wffB98H3wffB98H4AfgB+AH4AfgB+AH4QfhB+EH4QfhB+EH4gfiB+IH4gfiB+IH4wfjB+MH4wfjB+MH5AfkB+QH5AfkB+QH5QflB+UH5QflB+UH5gfmB+YH5gfmB+YH5wfnB+cH5wfnB+cH6AfoB+gH6AfoB+gH",
          "dtype": "i2"
         },
         "xaxis": "x",
         "y": {
          "bdata": "AAAAAAAQhEAAAAAAAJCCQAAAAAAAkHxAAAAAAADwekAAAAAAALB5QAAAAAAAkHxAAAAAAABwikAAAAAAACCFQAAAAAAAiIJAAAAAAABQgEAAAAAAAICAQAAAAAAAEIRAAAAAAABojEAAAAAAAGCIQAAAAAAA8INAAAAAAAA4gkAAAAAAAACDQAAAAAAAUIVAAAAAAABYikAAAAAAAFiIQAAAAAAA8IJAAAAAAACQgEAAAAAAAJiCQAAAAAAAIIVAAAAAAACgiEAAAAAAAACJQAAAAAAAqIJAAAAAAADAgUAAAAAAAOiBQAAAAAAA6IdAAAAAAACYh0AAAAAAANCKQAAAAAAAwIRAAAAAAABAg0AAAAAAAACEQAAAAAAAGI5AAAAAAAC4hkAAAAAAACiMQAAAAAAAcIRAAAAAAAAIhUAAAAAAAPiDQAAAAAAAmJBAAAAAAACQgkAAAAAAAGiLQAAAAAAA2INAAAAAAABIg0AAAAAAAIiEQAAAAAAA5JFAAAAAAACQg0AAAAAAAOCMQAAAAAAAaIdAAAAAAABIhUAAAAAAAGiGQAAAAAAA0JNAAAAAAADYhUAAAAAAABSRQAAAAAAAAIpAAAAAAAAQiUAAAAAAAOCJQAAAAAAAMJdAAAAAAABAhEAAAAAAAAiSQAAAAAAA0I1AAAAAAACgi0AAAAAAAGCKQAAAAAAADJhAAAAAAACYg0AAAAAAALyRQAAAAAAAmJBAAAAAAAAAjUAAAAAAAPiJQAAAAAAArJhAAAAAAADQg0AAAAAAAKyTQAAAAAAA1JJAAAAAAACYj0AAAAAAANiLQAAAAAAA/JpAAAAAAABYhUAAAAAAAIiVQAAAAAAAMJVAAAAAAADIkUAAAAAAAGiOQAAAAAAADJ5AAAAAAABAiUAAAAAAAKSYQAAAAAAAoJlAAAAAAAA8lUAAAAAAAKCTQAAAAAAArqJAAAAAAABEkEAAAAAAAFCcQAAAAAAA3J9AAAAAAADImEAAAAAAAMyWQAAAAAAALqdAAAAAAADAkUAAAAAAAJieQAAAAAAAfqFAAAAAAACUnEAAAAAAAASYQAAAAAAAMqpAAAAAAAAgk0AAAAAAAOCeQAAAAAAAHKJAAAAAAAAQoEAAAAAAAAiaQAAAAAAAcKxAAAAAAABgk0AAAAAAAJibQAAAAAAACqFAAAAAAAC4nkAAAAAAAHCaQAAAAAAAuKxAAAAAAACgkkAAAAAAALSYQAAAAAAAKJ9AAAAAAAAYnkAAAAAAANiZQAAAAAAA4qtA",
          "dtype": "f8"
         },
         "yaxis": "y"
        },
        {
         "alignmentgroup": "True",
         "hovertemplate": "Utbildningsinriktning=Journalistik och information<br>År=%{x}<br>Antal studerande=%{y}<extra></extra>",
         "legendgroup": "Journalistik och information",
         "marker": {
          "color": "#19d3f3",
          "pattern": {
           "shape": ""
          }
         },
         "name": "Journalistik och information",
         "offsetgroup": "Journalistik och information",
         "orientation": "v",
         "showlegend": true,
         "textposition": "auto",
         "type": "bar",
         "x": {
          "bdata": "1QfVB9UH1QfVB9YH1gfWB9YH1gfWB9cH1wfXB9cH1wfXB9gH2AfYB9gH2AfYB9kH2QfZB9kH2QfZB9oH2gfaB9oH2gfaB9sH2wfbB9sH2wfbB9wH3AfcB9wH3AfcB90H3QfdB90H3QfdB94H3gfeB94H3gfeB98H3wffB98H3wffB+AH4AfgB+AH4AfgB+EH4QfhB+EH4QfhB+IH4gfiB+IH4gfiB+MH4wfjB+MH4wfjB+QH5AfkB+QH5AfkB+UH5QflB+UH5QflB+YH5gfmB+YH5gfmB+cH5wfnB+cH5wfnB+gH6AfoB+gH6AfoBw==",
          "dtype": "i2"
         },
         "xaxis": "x",
         "y": {
          "bdata": "AAAAAAAAR0AAAAAAAIBFQAAAAAAAAC5AAAAAAAAAGEAAAAAAAAAQQAAAAAAAAEFAAAAAAACARUAAAAAAAAAqQAAAAAAAABBAAAAAAAAAFEAAAAAAAAAIQAAAAAAAgEFAAAAAAAAARkAAAAAAAAAqQAAAAAAAACRAAAAAAAAAFEAAAAAAAAAcQAAAAAAAAEhAAAAAAACARkAAAAAAAAA4QAAAAAAAADBAAAAAAAAAIkAAAAAAAAAxQAAAAAAAAE1AAAAAAABAUUAAAAAAAAA7QAAAAAAAADdAAAAAAAAALEAAAAAAAAA2QAAAAAAAgE1AAAAAAABAUkAAAAAAAIBCQAAAAAAAADlAAAAAAAAAQEAAAAAAAAA+QAAAAAAAAFFAAAAAAACAV0AAAAAAAABFQAAAAAAAADpAAAAAAACAQ0AAAAAAAAA+QAAAAAAAAFJAAAAAAAAAWEAAAAAAAABDQAAAAAAAADlAAAAAAAAAOEAAAAAAAAA2QAAAAAAAQFxAAAAAAACAYEAAAAAAAIBPQAAAAAAAAENAAAAAAACAQEAAAAAAAABBQAAAAAAAAGJAAAAAAABAakAAAAAAAIBYQAAAAAAAgEtAAAAAAACASEAAAAAAAEBQQAAAAAAAgF9AAAAAAACga0AAAAAAAMBbQAAAAAAAAFNAAAAAAAAASkAAAAAAAIBPQAAAAAAAQF9AAAAAAAAgb0AAAAAAAIBdQAAAAAAAAFVAAAAAAACATUAAAAAAAABWQAAAAAAAwGJAAAAAAACAbUAAAAAAAABfQAAAAAAAwFVAAAAAAAAAUkAAAAAAAKBgQAAAAAAAgGNAAAAAAABgcEAAAAAAAEBeQAAAAAAAwFRAAAAAAACAUkAAAAAAACBhQAAAAAAAQGlAAAAAAABwcUAAAAAAAGBjQAAAAAAAwFVAAAAAAABAUEAAAAAAAABdQAAAAAAAoGtAAAAAAADwcEAAAAAAAGBmQAAAAAAAwFpAAAAAAADAUEAAAAAAAIBeQAAAAAAAIGlAAAAAAABQcUAAAAAAAABmQAAAAAAAgFdAAAAAAACAUkAAAAAAAIBcQAAAAAAAQGlAAAAAAACgbkAAAAAAACBmQAAAAAAAQFJAAAAAAAAASEAAAAAAAIBTQAAAAAAAoGVAAAAAAACAbEAAAAAAAIBjQAAAAAAAwFFAAAAAAACAQ0AAAAAAAEBVQAAAAAAAAGBAAAAAAADgZkAAAAAAAEBeQAAAAAAAAFNAAAAAAACAQ0AAAAAAAMBYQA==",
          "dtype": "f8"
         },
         "yaxis": "y"
        },
        {
         "alignmentgroup": "True",
         "hovertemplate": "Utbildningsinriktning=Kultur, media och design<br>År=%{x}<br>Antal studerande=%{y}<extra></extra>",
         "legendgroup": "Kultur, media och design",
         "marker": {
          "color": "#FF6692",
          "pattern": {
           "shape": ""
          }
         },
         "name": "Kultur, media och design",
         "offsetgroup": "Kultur, media och design",
         "orientation": "v",
         "showlegend": true,
         "textposition": "auto",
         "type": "bar",
         "x": {
          "bdata": "1QfVB9UH1QfVB9UH1gfWB9YH1gfWB9YH1wfXB9cH1wfXB9cH2AfYB9gH2AfYB9gH2QfZB9kH2QfZB9kH2gfaB9oH2gfaB9oH2wfbB9sH2wfbB9sH3AfcB9wH3AfcB9wH3QfdB90H3QfdB90H3gfeB94H3gfeB94H3wffB98H3wffB98H4AfgB+AH4AfgB+AH4QfhB+EH4QfhB+EH4gfiB+IH4gfiB+IH4wfjB+MH4wfjB+MH5AfkB+QH5AfkB+QH5QflB+UH5QflB+UH5gfmB+YH5gfmB+YH5wfnB+cH5wfnB+cH6AfoB+gH6AfoB+gH",
          "dtype": "i2"
         },
         "xaxis": "x",
         "y": {
          "bdata": "AAAAAAA0mEAAAAAAADiGQAAAAAAAAHJAAAAAAABAYUAAAAAAAIBPQAAAAAAAgEpAAAAAAACImkAAAAAAADCGQAAAAAAAgHBAAAAAAACAYUAAAAAAAIBNQAAAAAAAwFBAAAAAAAAEmkAAAAAAAECGQAAAAAAAAG9AAAAAAAAgYEAAAAAAAEBSQAAAAAAAgFBAAAAAAABEmkAAAAAAALiHQAAAAAAAwHFAAAAAAADAYEAAAAAAAEBRQAAAAAAAgFBAAAAAAADsmEAAAAAAAFCJQAAAAAAAEHJAAAAAAABAXkAAAAAAAIBSQAAAAAAAgE9AAAAAAAC4lUAAAAAAAGiKQAAAAAAAwHFAAAAAAABAYEAAAAAAAABRQAAAAAAAgFJAAAAAAADAk0AAAAAAAPCIQAAAAAAA4HBAAAAAAACAXUAAAAAAAABLQAAAAAAAAE9AAAAAAAB0kkAAAAAAAGiHQAAAAAAAIGxAAAAAAACAWEAAAAAAAIBNQAAAAAAAAElAAAAAAAB8k0AAAAAAAHCIQAAAAAAA4G9AAAAAAACAW0AAAAAAAABMQAAAAAAAgE1AAAAAAAAYk0AAAAAAAHCKQAAAAAAAoHJAAAAAAABAXkAAAAAAAMBRQAAAAAAAQFFAAAAAAACIkkAAAAAAAGCMQAAAAAAA8HZAAAAAAACAYUAAAAAAAIBVQAAAAAAAgFRAAAAAAABYkUAAAAAAAFCOQAAAAAAAwHVAAAAAAAAAY0AAAAAAAMBXQAAAAAAAwFdAAAAAAAC4kEAAAAAAACCQQAAAAAAAMHdAAAAAAACAZUAAAAAAAABYQAAAAAAAAF9AAAAAAABYkEAAAAAAACCQQAAAAAAAoHlAAAAAAABAaEAAAAAAAIBXQAAAAAAAAGBAAAAAAABAkEAAAAAAAHiRQAAAAAAAwH5AAAAAAAAgZUAAAAAAAIBVQAAAAAAAwFtAAAAAAAAQk0AAAAAAANySQAAAAAAAAIJAAAAAAAAgaUAAAAAAAABcQAAAAAAAAF1AAAAAAAD8lEAAAAAAAJSUQAAAAAAAQIZAAAAAAACAbkAAAAAAAEBhQAAAAAAAQGRAAAAAAAAUl0AAAAAAAJyUQAAAAAAA+IdAAAAAAABQckAAAAAAAGBkQAAAAAAAgGlAAAAAAADEmUAAAAAAAACUQAAAAAAAWIhAAAAAAADwdEAAAAAAAOBmQAAAAAAA4GxAAAAAAAAAmkAAAAAAAMyUQAAAAAAAcIhAAAAAAACweEAAAAAAAIBpQAAAAAAAQHBA",
          "dtype": "f8"
         },
         "yaxis": "y"
        },
        {
         "alignmentgroup": "True",
         "hovertemplate": "Utbildningsinriktning=Lantbruk, djurvård, trädgård, skog och fiske<br>År=%{x}<br>Antal studerande=%{y}<extra></extra>",
         "legendgroup": "Lantbruk, djurvård, trädgård, skog och fiske",
         "marker": {
          "color": "#B6E880",
          "pattern": {
           "shape": ""
          }
         },
         "name": "Lantbruk, djurvård, trädgård, skog och fiske",
         "offsetgroup": "Lantbruk, djurvård, trädgård, skog och fiske",
         "orientation": "v",
         "showlegend": true,
         "textposition": "auto",
         "type": "bar",
         "x": {
          "bdata": "1QfVB9UH1QfVB9UH1gfWB9YH1gfWB9YH1wfXB9cH1wfXB9cH2AfYB9gH2AfYB9gH2QfZB9kH2QfZB9kH2gfaB9oH2gfaB9oH2wfbB9sH2wfbB9sH3AfcB9wH3AfcB9wH3QfdB90H3QfdB90H3gfeB94H3gfeB94H3wffB98H3wffB98H4AfgB+AH4AfgB+AH4QfhB+EH4QfhB+EH4gfiB+IH4gfiB+IH4wfjB+MH4wfjB+MH5AfkB+QH5AfkB+QH5QflB+UH5QflB+UH5gfmB+YH5gfmB+YH5wfnB+cH5wfnB+cH6AfoB+gH6AfoB+gH",
          "dtype": "i2"
         },
         "xaxis": "x",
         "y": {
          "bdata": "AAAAAABwdkAAAAAAAOBlQAAAAAAAQF5AAAAAAACAXEAAAAAAAMBUQAAAAAAAAFFAAAAAAABggUAAAAAAAOBuQAAAAAAAIGNAAAAAAABgY0AAAAAAAEBhQAAAAAAAAFdAAAAAAADQgkAAAAAAADBzQAAAAAAAYGZAAAAAAAAAZEAAAAAAAEBkQAAAAAAAAGBAAAAAAABwgkAAAAAAAFByQAAAAAAAIGVAAAAAAADgYkAAAAAAAGBjQAAAAAAAAGJAAAAAAAAQhUAAAAAAAIBxQAAAAAAA4GNAAAAAAABAZEAAAAAAACBgQAAAAAAAIGJAAAAAAABIiEAAAAAAAPByQAAAAAAAYGRAAAAAAACgY0AAAAAAAMBhQAAAAAAAQGRAAAAAAABwhkAAAAAAAPBzQAAAAAAAIGRAAAAAAABgYkAAAAAAAIBiQAAAAAAAIGRAAAAAAAAggkAAAAAAAJBzQAAAAAAAoGBAAAAAAADAX0AAAAAAAGBhQAAAAAAAIGVAAAAAAACAf0AAAAAAADB0QAAAAAAAQGFAAAAAAAAAWkAAAAAAAIBfQAAAAAAAAGRAAAAAAACQfEAAAAAAACByQAAAAAAAgGJAAAAAAADAV0AAAAAAAEBcQAAAAAAAgGJAAAAAAADAekAAAAAAANB1QAAAAAAAgGNAAAAAAAAAWUAAAAAAAABdQAAAAAAAwGNAAAAAAABQeEAAAAAAAKB1QAAAAAAAQGhAAAAAAADAX0AAAAAAAIBiQAAAAAAAYGlAAAAAAABAdEAAAAAAAEB0QAAAAAAAoGtAAAAAAACAY0AAAAAAAMBiQAAAAAAAsHBAAAAAAADAckAAAAAAANByQAAAAAAAYGdAAAAAAADAZEAAAAAAAMBfQAAAAAAAcHFAAAAAAABAcUAAAAAAANBzQAAAAAAAYG1AAAAAAADgZUAAAAAAAMBgQAAAAAAAcHFAAAAAAABgdEAAAAAAADB1QAAAAAAAwHFAAAAAAACAaUAAAAAAAEBjQAAAAAAAIHNAAAAAAAAQdUAAAAAAAFB2QAAAAAAAAHVAAAAAAABAcEAAAAAAAEBpQAAAAAAA4HNAAAAAAABwdkAAAAAAAFB1QAAAAAAAoHZAAAAAAAAwc0AAAAAAAEBrQAAAAAAAsHZAAAAAAABQeEAAAAAAALB0QAAAAAAAwHdAAAAAAAAwdEAAAAAAAABsQAAAAAAAwHtAAAAAAADwe0AAAAAAAHB3QAAAAAAAEHhAAAAAAACQdkAAAAAAACBxQAAAAAAAgH9A",
          "dtype": "f8"
         },
         "yaxis": "y"
        },
        {
         "alignmentgroup": "True",
         "hovertemplate": "Utbildningsinriktning=Pedagogik och undervisning<br>År=%{x}<br>Antal studerande=%{y}<extra></extra>",
         "legendgroup": "Pedagogik och undervisning",
         "marker": {
          "color": "#FF97FF",
          "pattern": {
           "shape": ""
          }
         },
         "name": "Pedagogik och undervisning",
         "offsetgroup": "Pedagogik och undervisning",
         "orientation": "v",
         "showlegend": true,
         "textposition": "auto",
         "type": "bar",
         "x": {
          "bdata": "1QfVB9UH1QfVB9UH1gfWB9YH1gfWB9YH1wfXB9cH1wfXB9cH2AfYB9gH2AfYB9gH2QfZB9kH2QfZB9kH2gfaB9oH2gfaB9oH2wfbB9sH2wfbB9sH3AfcB9wH3AfcB9wH3QfdB90H3QfdB90H3gfeB94H3gfeB94H3wffB98H3wffB98H4AfgB+AH4AfgB+AH4QfhB+EH4QfhB+EH4gfiB+IH4gfiB+IH4wfjB+MH4wfjB+MH5AfkB+QH5AfkB+QH5QflB+UH5QflB+UH5gfmB+YH5gfmB+YH5wfnB+cH5wfnB+cH6AfoB+gH6AfoB+gH",
          "dtype": "i2"
         },
         "xaxis": "x",
         "y": {
          "bdata": "AAAAAAAACEAAAAAAAAAIQAAAAAAAABBAAAAAAAAACEAAAAAAAAAAAAAAAAAAAAhAAAAAAAAALEAAAAAAAAAwQAAAAAAAADNAAAAAAAAANUAAAAAAAAAqQAAAAAAAADRAAAAAAAAAN0AAAAAAAAA7QAAAAAAAgERAAAAAAAAAPEAAAAAAAAA9QAAAAAAAAENAAAAAAAAANkAAAAAAAABDQAAAAAAAgEVAAAAAAACAQkAAAAAAAIBBQAAAAAAAgEZAAAAAAAAAQEAAAAAAAABLQAAAAAAAAEJAAAAAAACASEAAAAAAAIBEQAAAAAAAAENAAAAAAABAVkAAAAAAAEBWQAAAAAAAAFNAAAAAAACAT0AAAAAAAIBRQAAAAAAAwFJAAAAAAAAAX0AAAAAAAIBiQAAAAAAAAFpAAAAAAADAVUAAAAAAAMBVQAAAAAAAgFtAAAAAAABAVEAAAAAAAABdQAAAAAAAQFJAAAAAAAAATkAAAAAAAIBIQAAAAAAAwFJAAAAAAAAAWkAAAAAAAMBaQAAAAAAAgEhAAAAAAABAUEAAAAAAAABEQAAAAAAAgE1AAAAAAAAAX0AAAAAAAMBbQAAAAAAAAExAAAAAAAAAUEAAAAAAAIBJQAAAAAAAwFNAAAAAAACAWUAAAAAAAIBXQAAAAAAAAEpAAAAAAAAAS0AAAAAAAIBJQAAAAAAAQFFAAAAAAADAVkAAAAAAAEBfQAAAAAAAAFVAAAAAAAAAUEAAAAAAAIBSQAAAAAAAAFhAAAAAAAAAW0AAAAAAAMBjQAAAAAAAQFdAAAAAAADAVkAAAAAAAABTQAAAAAAAAGBAAAAAAAAAXEAAAAAAAMBkQAAAAAAAwGBAAAAAAABAXkAAAAAAAMBeQAAAAAAAoGlAAAAAAADAW0AAAAAAAIBsQAAAAAAAoGhAAAAAAADgaUAAAAAAAIBnQAAAAAAAYHZAAAAAAADAYkAAAAAAACBtQAAAAAAAQG9AAAAAAACgbEAAAAAAAIBrQAAAAAAA4HtAAAAAAAAAaEAAAAAAALBxQAAAAAAAoHBAAAAAAABAcUAAAAAAACBuQAAAAAAAIIFAAAAAAADAakAAAAAAAPBwQAAAAAAA0HNAAAAAAADQdEAAAAAAACByQAAAAAAAOIFAAAAAAADAXEAAAAAAAKBrQAAAAAAAoG9AAAAAAADgbkAAAAAAAABsQAAAAAAAIHxAAAAAAAAAV0AAAAAAAMBiQAAAAAAAoGRAAAAAAACgZUAAAAAAAMBjQAAAAAAAUHZA",
          "dtype": "f8"
         },
         "yaxis": "y"
        },
        {
         "alignmentgroup": "True",
         "hovertemplate": "Utbildningsinriktning=Samhällsbyggnad och byggteknik<br>År=%{x}<br>Antal studerande=%{y}<extra></extra>",
         "legendgroup": "Samhällsbyggnad och byggteknik",
         "marker": {
          "color": "#FECB52",
          "pattern": {
           "shape": ""
          }
         },
         "name": "Samhällsbyggnad och byggteknik",
         "offsetgroup": "Samhällsbyggnad och byggteknik",
         "orientation": "v",
         "showlegend": true,
         "textposition": "auto",
         "type": "bar",
         "x": {
          "bdata": "1QfVB9UH1QfVB9UH1gfWB9YH1gfWB9YH1wfXB9cH1wfXB9cH2AfYB9gH2AfYB9gH2QfZB9kH2QfZB9kH2gfaB9oH2gfaB9oH2wfbB9sH2wfbB9sH3AfcB9wH3AfcB9wH3QfdB90H3QfdB90H3gfeB94H3gfeB94H3wffB98H3wffB98H4AfgB+AH4AfgB+AH4QfhB+EH4QfhB+EH4gfiB+IH4gfiB+IH4wfjB+MH4wfjB+MH5AfkB+QH5AfkB+QH5QflB+UH5QflB+UH5gfmB+YH5gfmB+YH5wfnB+cH5wfnB+cH6AfoB+gH6AfoB+gH",
          "dtype": "i2"
         },
         "xaxis": "x",
         "y": {
          "bdata": "AAAAAACAfkAAAAAAAMBxQAAAAAAAgGdAAAAAAAAAZ0AAAAAAAABgQAAAAAAAoGBAAAAAAABAiEAAAAAAAFB4QAAAAAAAAG1AAAAAAABgakAAAAAAACBmQAAAAAAAIGRAAAAAAAAYjUAAAAAAAIiAQAAAAAAAQHNAAAAAAAAAa0AAAAAAAMBqQAAAAAAAwGdAAAAAAACAjkAAAAAAANiEQAAAAAAA8HJAAAAAAADgcEAAAAAAAEBqQAAAAAAA4GpAAAAAAAC4kUAAAAAAAECJQAAAAAAA4HhAAAAAAADQdEAAAAAAABBwQAAAAAAAoG9AAAAAAABAk0AAAAAAADiMQAAAAAAA4H5AAAAAAABwdkAAAAAAACBxQAAAAAAAYHFAAAAAAAB0lUAAAAAAAGiQQAAAAAAAcIJAAAAAAADQdUAAAAAAAKBxQAAAAAAAIHFAAAAAAAD0lkAAAAAAANyRQAAAAAAAsIRAAAAAAADgeUAAAAAAAMB0QAAAAAAAcHVAAAAAAABIlkAAAAAAAPSUQAAAAAAAeIZAAAAAAABQfkAAAAAAAPB3QAAAAAAAUHhAAAAAAADEk0AAAAAAABiXQAAAAAAAIIpAAAAAAABwgUAAAAAAAEB6QAAAAAAAwHlAAAAAAAAQk0AAAAAAABiaQAAAAAAAcI9AAAAAAACwhEAAAAAAAGB/QAAAAAAAQHxAAAAAAACAkkAAAAAAANybQAAAAAAAfJJAAAAAAACIiEAAAAAAAOCBQAAAAAAAeIFAAAAAAAAMlEAAAAAAAFCfQAAAAAAAaJVAAAAAAAB4i0AAAAAAAPiCQAAAAAAAgIVAAAAAAAAYmEAAAAAAAKqgQAAAAAAAJJdAAAAAAADYj0AAAAAAAMCDQAAAAAAAuIZAAAAAAAB4nUAAAAAAACikQAAAAAAAZJtAAAAAAACEkkAAAAAAAFCHQAAAAAAAKItAAAAAAACsokAAAAAAALyoQAAAAAAAgKJAAAAAAADkl0AAAAAAAHiPQAAAAAAA/JBAAAAAAADIo0AAAAAAAAqqQAAAAAAALKVAAAAAAADwm0AAAAAAAPiRQAAAAAAAPJNAAAAAAACapEAAAAAAAEKoQAAAAAAAdKZAAAAAAABQnUAAAAAAAHSTQAAAAAAAVJRAAAAAAABmpEAAAAAAADylQAAAAAAAYqVAAAAAAACsnUAAAAAAAMySQAAAAAAAxJVAAAAAAACapUAAAAAAAOylQAAAAAAA6qRAAAAAAAAKoEAAAAAAAKiTQAAAAAAAiJhA",
          "dtype": "f8"
         },
         "yaxis": "y"
        },
        {
         "alignmentgroup": "True",
         "hovertemplate": "Utbildningsinriktning=Säkerhetstjänster<br>År=%{x}<br>Antal studerande=%{y}<extra></extra>",
         "legendgroup": "Säkerhetstjänster",
         "marker": {
          "color": "#636efa",
          "pattern": {
           "shape": ""
          }
         },
         "name": "Säkerhetstjänster",
         "offsetgroup": "Säkerhetstjänster",
         "orientation": "v",
         "showlegend": true,
         "textposition": "auto",
         "type": "bar",
         "x": {
          "bdata": "1QfVB9UH1QfVB9UH1gfWB9YH1gfWB9YH1wfXB9cH1wfXB9cH2AfYB9gH2AfYB9gH2QfZB9kH2QfZB9kH2gfaB9oH2gfaB9oH2wfbB9sH2wfbB9sH3AfcB9wH3AfcB9wH3QfdB90H3QfdB90H3gfeB94H3gfeB94H3wffB98H3wffB98H4AfgB+AH4AfgB+AH4QfhB+EH4QfhB+EH4gfiB+IH4gfiB+IH4wfjB+MH4wfjB+MH5AfkB+QH5AfkB+QH5QflB+UH5QflB+UH5gfmB+YH5gfmB+YH5wfnB+cH5wfnB+cH6AfoB+gH6AfoB+gH",
          "dtype": "i2"
         },
         "xaxis": "x",
         "y": {
          "bdata": "AAAAAADAXEAAAAAAAIBOQAAAAAAAAEZAAAAAAAAAOUAAAAAAAAAgQAAAAAAAACxAAAAAAABAZUAAAAAAAABcQAAAAAAAQFBAAAAAAAAAQkAAAAAAAAAyQAAAAAAAADhAAAAAAADAZ0AAAAAAAGBlQAAAAAAAgFNAAAAAAACATUAAAAAAAABEQAAAAAAAADtAAAAAAAAgakAAAAAAAGBnQAAAAAAAQFdAAAAAAAAAUUAAAAAAAABFQAAAAAAAADtAAAAAAADgZUAAAAAAAABnQAAAAAAAAFZAAAAAAABAVUAAAAAAAABMQAAAAAAAgERAAAAAAADAXEAAAAAAAEBlQAAAAAAAAFhAAAAAAAAAUkAAAAAAAABJQAAAAAAAgERAAAAAAABAWUAAAAAAACBiQAAAAAAAAFVAAAAAAACASEAAAAAAAIBEQAAAAAAAgENAAAAAAAAAV0AAAAAAAIBfQAAAAAAAAE9AAAAAAACAQUAAAAAAAAA5QAAAAAAAAD5AAAAAAADAUUAAAAAAAEBaQAAAAAAAAE1AAAAAAACAQkAAAAAAAAA+QAAAAAAAgEFAAAAAAACARUAAAAAAAMBUQAAAAAAAQFJAAAAAAACATEAAAAAAAIBIQAAAAAAAgEZAAAAAAAAAM0AAAAAAAEBQQAAAAAAAwFdAAAAAAADAUEAAAAAAAABPQAAAAAAAgFFAAAAAAAAAKEAAAAAAAABTQAAAAAAAAFJAAAAAAADAUkAAAAAAAABPQAAAAAAAgFNAAAAAAAAAKEAAAAAAAIBKQAAAAAAAgElAAAAAAAAATUAAAAAAAABEQAAAAAAAgE5AAAAAAAAAM0AAAAAAAABRQAAAAAAAgElAAAAAAACARkAAAAAAAIBCQAAAAAAAAFBAAAAAAAAANkAAAAAAAIBaQAAAAAAAgFFAAAAAAADAUUAAAAAAAIBNQAAAAAAAAFRAAAAAAACAQUAAAAAAAABZQAAAAAAAAFpAAAAAAACAWkAAAAAAAABYQAAAAAAAQGFAAAAAAACAREAAAAAAAMBXQAAAAAAAwFpAAAAAAAAAXkAAAAAAAIBWQAAAAAAAoGFAAAAAAACARkAAAAAAAIBfQAAAAAAAAGNAAAAAAACgY0AAAAAAAMBbQAAAAAAAgGVAAAAAAACASkAAAAAAAABeQAAAAAAAoGZAAAAAAABgZ0AAAAAAAIBdQAAAAAAAwGVAAAAAAACAT0AAAAAAAIBeQAAAAAAAgGRAAAAAAACAZ0AAAAAAAEBcQAAAAAAAgGZA",
          "dtype": "f8"
         },
         "yaxis": "y"
        },
        {
         "alignmentgroup": "True",
         "hovertemplate": "Utbildningsinriktning=Teknik och tillverkning<br>År=%{x}<br>Antal studerande=%{y}<extra></extra>",
         "legendgroup": "Teknik och tillverkning",
         "marker": {
          "color": "#EF553B",
          "pattern": {
           "shape": ""
          }
         },
         "name": "Teknik och tillverkning",
         "offsetgroup": "Teknik och tillverkning",
         "orientation": "v",
         "showlegend": true,
         "textposition": "auto",
         "type": "bar",
         "x": {
          "bdata": "1QfVB9UH1QfVB9UH1gfWB9YH1gfWB9YH1wfXB9cH1wfXB9cH2AfYB9gH2AfYB9gH2QfZB9kH2QfZB9kH2gfaB9oH2gfaB9oH2wfbB9sH2wfbB9sH3AfcB9wH3AfcB9wH3QfdB90H3QfdB90H3gfeB94H3gfeB94H3wffB98H3wffB98H4AfgB+AH4AfgB+AH4QfhB+EH4QfhB+EH4gfiB+IH4gfiB+IH4wfjB+MH4wfjB+MH5AfkB+QH5AfkB+QH5QflB+UH5QflB+UH5gfmB+YH5gfmB+YH5wfnB+cH5wfnB+cH6AfoB+gH6AfoB+gH",
          "dtype": "i2"
         },
         "xaxis": "x",
         "y": {
          "bdata": "AAAAAAAwnEAAAAAAAFCGQAAAAAAAAH9AAAAAAADweUAAAAAAABBzQAAAAAAAQGdAAAAAAABkoEAAAAAAAJiIQAAAAAAACIBAAAAAAAAQeUAAAAAAAMByQAAAAAAAYGpAAAAAAAC2okAAAAAAAHiOQAAAAAAAkIBAAAAAAAAQe0AAAAAAAKB1QAAAAAAAIG9AAAAAAAACpUAAAAAAAGyRQAAAAAAA6IJAAAAAAADgfUAAAAAAAIB2QAAAAAAAwHNAAAAAAABGqEAAAAAAAMiUQAAAAAAASIdAAAAAAADogEAAAAAAABB6QAAAAAAAMHdAAAAAAAAaq0AAAAAAAMiWQAAAAAAAmIdAAAAAAAAAg0AAAAAAAJB8QAAAAAAAsHhAAAAAAABkq0AAAAAAACCYQAAAAAAAeIlAAAAAAABAhEAAAAAAADB5QAAAAAAAIHpAAAAAAAAaqUAAAAAAADSXQAAAAAAAYIhAAAAAAAA4gUAAAAAAALB2QAAAAAAAMHVAAAAAAAAoqEAAAAAAAPiZQAAAAAAASItAAAAAAAAQgkAAAAAAALB3QAAAAAAAQHxAAAAAAABkp0AAAAAAAGyaQAAAAAAAAJBAAAAAAAAQhEAAAAAAALB5QAAAAAAAsIFAAAAAAACEpUAAAAAAAGibQAAAAAAAkJBAAAAAAACohkAAAAAAAIB9QAAAAAAAcINAAAAAAACyo0AAAAAAAFycQAAAAAAA/JBAAAAAAAAQh0AAAAAAADB+QAAAAAAAOINAAAAAAADioUAAAAAAADicQAAAAAAARJFAAAAAAABIh0AAAAAAADB/QAAAAAAAMINAAAAAAAAWoUAAAAAAAIyaQAAAAAAANJJAAAAAAAAgh0AAAAAAAHB9QAAAAAAACIJAAAAAAACqoUAAAAAAAHCeQAAAAAAA9JRAAAAAAADIi0AAAAAAACCDQAAAAAAAQIZAAAAAAAC2pUAAAAAAAJKjQAAAAAAArJpAAAAAAAAQkkAAAAAAABCJQAAAAAAAsI5AAAAAAABKqEAAAAAAAKKkQAAAAAAAHKBAAAAAAABMlUAAAAAAAAiOQAAAAAAA3JFAAAAAAABcqEAAAAAAAOijQAAAAAAARqBAAAAAAADElUAAAAAAADCNQAAAAAAARJNAAAAAAADgqEAAAAAAAAikQAAAAAAAnqBAAAAAAACQlkAAAAAAAByQQAAAAAAAPJVAAAAAAAAcrEAAAAAAABSmQAAAAAAA9qJAAAAAAACgmUAAAAAAAPiSQAAAAAAAxJdA",
          "dtype": "f8"
         },
         "yaxis": "y"
        },
        {
         "alignmentgroup": "True",
         "hovertemplate": "Utbildningsinriktning=Transporttjänster<br>År=%{x}<br>Antal studerande=%{y}<extra></extra>",
         "legendgroup": "Transporttjänster",
         "marker": {
          "color": "#00cc96",
          "pattern": {
           "shape": ""
          }
         },
         "name": "Transporttjänster",
         "offsetgroup": "Transporttjänster",
         "orientation": "v",
         "showlegend": true,
         "textposition": "auto",
         "type": "bar",
         "x": {
          "bdata": "1QfVB9UH1QfVB9UH1gfWB9YH1gfWB9YH1wfXB9cH1wfXB9cH2AfYB9gH2AfYB9gH2QfZB9kH2QfZB9kH2gfaB9oH2gfaB9oH2wfbB9sH2wfbB9sH3AfcB9wH3AfcB9wH3QfdB90H3QfdB90H3gfeB94H3gfeB94H3wffB98H3wffB98H4AfgB+AH4AfgB+AH4QfhB+EH4QfhB+EH4gfiB+IH4gfiB+IH4wfjB+MH4wfjB+MH5AfkB+QH5AfkB+QH5QflB+UH5QflB+UH5gfmB+YH5gfmB+YH5wfnB+cH5wfnB+cH6AfoB+gH6AfoB+gH",
          "dtype": "i2"
         },
         "xaxis": "x",
         "y": {
          "bdata": "AAAAAACAb0AAAAAAAGBkQAAAAAAAAGJAAAAAAACAXkAAAAAAAMBXQAAAAAAAAEdAAAAAAACgdUAAAAAAACBrQAAAAAAAYGhAAAAAAABAZEAAAAAAAABdQAAAAAAAwFBAAAAAAADQeEAAAAAAACBzQAAAAAAAgGxAAAAAAABgZ0AAAAAAACBhQAAAAAAAAFlAAAAAAABAfUAAAAAAAAB4QAAAAAAAIG1AAAAAAABgakAAAAAAAABlQAAAAAAAQF9AAAAAAADQfkAAAAAAAGB6QAAAAAAAgG5AAAAAAADga0AAAAAAACBmQAAAAAAAAGFAAAAAAABYgUAAAAAAAFB9QAAAAAAA8HFAAAAAAADAbUAAAAAAAKBmQAAAAAAAAGBAAAAAAABQgUAAAAAAADB+QAAAAAAA0HFAAAAAAABAbUAAAAAAAOBkQAAAAAAAQF5AAAAAAABQekAAAAAAAKB6QAAAAAAAgG1AAAAAAABgZUAAAAAAAABeQAAAAAAAQFxAAAAAAACAdEAAAAAAAEBzQAAAAAAA4GZAAAAAAADAX0AAAAAAAABVQAAAAAAAgFVAAAAAAADgcUAAAAAAAMBwQAAAAAAAoGJAAAAAAABAVkAAAAAAAEBUQAAAAAAAAFFAAAAAAABQdEAAAAAAABB2QAAAAAAAIGlAAAAAAADAYEAAAAAAAIBZQAAAAAAAwFJAAAAAAAAgeEAAAAAAAAB/QAAAAAAAIHBAAAAAAABgZEAAAAAAAABfQAAAAAAAQF1AAAAAAABAe0AAAAAAAFiBQAAAAAAAIHRAAAAAAABgbEAAAAAAAOBiQAAAAAAA4GNAAAAAAADQdkAAAAAAAPB+QAAAAAAAgHRAAAAAAABgbUAAAAAAAGBiQAAAAAAAYGZAAAAAAAAgdkAAAAAAAPB7QAAAAAAAwHRAAAAAAABAakAAAAAAAEBeQAAAAAAAIGpAAAAAAADgeEAAAAAAABB+QAAAAAAAYHRAAAAAAAAAaEAAAAAAAOBgQAAAAAAAIGxAAAAAAACAdkAAAAAAAGB6QAAAAAAA8HFAAAAAAADAZUAAAAAAAEBcQAAAAAAAIGtAAAAAAADQdkAAAAAAAKB2QAAAAAAA8HBAAAAAAAAAZEAAAAAAAEBeQAAAAAAAYGpAAAAAAACQekAAAAAAACB2QAAAAAAA4HFAAAAAAADAZ0AAAAAAAGBgQAAAAAAAAG1AAAAAAACweUAAAAAAAGB1QAAAAAAAsHJAAAAAAAAAaUAAAAAAAOBhQAAAAAAAgHJA",
          "dtype": "f8"
         },
         "yaxis": "y"
        },
        {
         "alignmentgroup": "True",
         "hovertemplate": "Utbildningsinriktning=Juridik<br>År=%{x}<br>Antal studerande=%{y}<extra></extra>",
         "legendgroup": "Juridik",
         "marker": {
          "color": "#ab63fa",
          "pattern": {
           "shape": ""
          }
         },
         "name": "Juridik",
         "offsetgroup": "Juridik",
         "orientation": "v",
         "showlegend": true,
         "textposition": "auto",
         "type": "bar",
         "x": {
          "bdata": "1gfWB9YH1gfWB9YH1wfXB9cH1wfXB9cH2AfYB9gH2AfYB9gH2QfZB9kH2QfZB9kH2gfaB9oH2gfaB9oH2wfbB9sH2wfbB9sH3AfcB9wH3AfcB9wH3QfdB90H3QfdB90H3gfeB94H3gfeB94H3wffB98H3wffB98H4AfgB+AH4AfgB+AH4QfhB+EH4QfhB+EH4gfiB+IH4gfiB+IH4wfjB+MH4wfjB+MH5AfkB+QH5AfkB+QH5QflB+UH5QflB+UH5gfmB+YH5gfmB+YH5wfnB+cH5wfnB+cH6AfoB+gH6AfoB+gH",
          "dtype": "i2"
         },
         "xaxis": "x",
         "y": {
          "bdata": "AAAAAAAAOkAAAAAAAAAqQAAAAAAAABhAAAAAAAAAHEAAAAAAAAAIQAAAAAAAABhAAAAAAACARUAAAAAAAABBQAAAAAAAADJAAAAAAAAAJkAAAAAAAAAkQAAAAAAAABhAAAAAAACARUAAAAAAAABJQAAAAAAAAD9AAAAAAAAALEAAAAAAAAAsQAAAAAAAABRAAAAAAACAQUAAAAAAAIBQQAAAAAAAADxAAAAAAAAAM0AAAAAAAAAqQAAAAAAAABhAAAAAAACAREAAAAAAAABLQAAAAAAAAD5AAAAAAAAAOEAAAAAAAAAwQAAAAAAAACBAAAAAAAAASUAAAAAAAABKQAAAAAAAAD1AAAAAAAAAOkAAAAAAAAAmQAAAAAAAABxAAAAAAAAAUEAAAAAAAMBQQAAAAAAAAE1AAAAAAAAAOkAAAAAAAAA2QAAAAAAAABRAAAAAAACATEAAAAAAAEBYQAAAAAAAQFBAAAAAAAAAQEAAAAAAAAAzQAAAAAAAACRAAAAAAAAAQkAAAAAAAMBYQAAAAAAAAFNAAAAAAAAAQkAAAAAAAAA0QAAAAAAAADFAAAAAAAAAR0AAAAAAAIBaQAAAAAAAAFJAAAAAAACAQkAAAAAAAAA/QAAAAAAAADFAAAAAAACAS0AAAAAAAMBYQAAAAAAAwFNAAAAAAACARUAAAAAAAABBQAAAAAAAADpAAAAAAAAAUEAAAAAAAABgQAAAAAAAgFZAAAAAAACARkAAAAAAAIBEQAAAAAAAAEZAAAAAAABAWEAAAAAAAMBcQAAAAAAAgFZAAAAAAACAS0AAAAAAAABIQAAAAAAAgEBAAAAAAACAX0AAAAAAAABaQAAAAAAAAFdAAAAAAAAARUAAAAAAAABMQAAAAAAAAD9AAAAAAABgYkAAAAAAAIBdQAAAAAAAgFRAAAAAAAAASUAAAAAAAABFQAAAAAAAgEZAAAAAAAAgYUAAAAAAAABaQAAAAAAAAFVAAAAAAAAATUAAAAAAAABDQAAAAAAAwFBAAAAAAACAW0AAAAAAAMBVQAAAAAAAgFJAAAAAAACASEAAAAAAAABBQAAAAAAAAE9AAAAAAABAWkAAAAAAAABTQAAAAAAAgEtAAAAAAACAQ0AAAAAAAAA9QAAAAAAAAEVAAAAAAADAWUAAAAAAAIBVQAAAAAAAgElAAAAAAACAQkAAAAAAAAA/QAAAAAAAAENA",
          "dtype": "f8"
         },
         "yaxis": "y"
        }
       ],
       "layout": {
        "barmode": "group",
        "legend": {
         "orientation": "v",
         "title": {
          "text": "Utbildningsinriktning"
         },
         "tracegroupgap": 0,
         "x": 1.05,
         "y": 1
        },
        "template": {
         "data": {
          "bar": [
           {
            "error_x": {
             "color": "#2a3f5f"
            },
            "error_y": {
             "color": "#2a3f5f"
            },
            "marker": {
             "line": {
              "color": "#E5ECF6",
              "width": 0.5
             },
             "pattern": {
              "fillmode": "overlay",
              "size": 10,
              "solidity": 0.2
             }
            },
            "type": "bar"
           }
          ],
          "barpolar": [
           {
            "marker": {
             "line": {
              "color": "#E5ECF6",
              "width": 0.5
             },
             "pattern": {
              "fillmode": "overlay",
              "size": 10,
              "solidity": 0.2
             }
            },
            "type": "barpolar"
           }
          ],
          "carpet": [
           {
            "aaxis": {
             "endlinecolor": "#2a3f5f",
             "gridcolor": "white",
             "linecolor": "white",
             "minorgridcolor": "white",
             "startlinecolor": "#2a3f5f"
            },
            "baxis": {
             "endlinecolor": "#2a3f5f",
             "gridcolor": "white",
             "linecolor": "white",
             "minorgridcolor": "white",
             "startlinecolor": "#2a3f5f"
            },
            "type": "carpet"
           }
          ],
          "choropleth": [
           {
            "colorbar": {
             "outlinewidth": 0,
             "ticks": ""
            },
            "type": "choropleth"
           }
          ],
          "contour": [
           {
            "colorbar": {
             "outlinewidth": 0,
             "ticks": ""
            },
            "colorscale": [
             [
              0,
              "#0d0887"
             ],
             [
              0.1111111111111111,
              "#46039f"
             ],
             [
              0.2222222222222222,
              "#7201a8"
             ],
             [
              0.3333333333333333,
              "#9c179e"
             ],
             [
              0.4444444444444444,
              "#bd3786"
             ],
             [
              0.5555555555555556,
              "#d8576b"
             ],
             [
              0.6666666666666666,
              "#ed7953"
             ],
             [
              0.7777777777777778,
              "#fb9f3a"
             ],
             [
              0.8888888888888888,
              "#fdca26"
             ],
             [
              1,
              "#f0f921"
             ]
            ],
            "type": "contour"
           }
          ],
          "contourcarpet": [
           {
            "colorbar": {
             "outlinewidth": 0,
             "ticks": ""
            },
            "type": "contourcarpet"
           }
          ],
          "heatmap": [
           {
            "colorbar": {
             "outlinewidth": 0,
             "ticks": ""
            },
            "colorscale": [
             [
              0,
              "#0d0887"
             ],
             [
              0.1111111111111111,
              "#46039f"
             ],
             [
              0.2222222222222222,
              "#7201a8"
             ],
             [
              0.3333333333333333,
              "#9c179e"
             ],
             [
              0.4444444444444444,
              "#bd3786"
             ],
             [
              0.5555555555555556,
              "#d8576b"
             ],
             [
              0.6666666666666666,
              "#ed7953"
             ],
             [
              0.7777777777777778,
              "#fb9f3a"
             ],
             [
              0.8888888888888888,
              "#fdca26"
             ],
             [
              1,
              "#f0f921"
             ]
            ],
            "type": "heatmap"
           }
          ],
          "histogram": [
           {
            "marker": {
             "pattern": {
              "fillmode": "overlay",
              "size": 10,
              "solidity": 0.2
             }
            },
            "type": "histogram"
           }
          ],
          "histogram2d": [
           {
            "colorbar": {
             "outlinewidth": 0,
             "ticks": ""
            },
            "colorscale": [
             [
              0,
              "#0d0887"
             ],
             [
              0.1111111111111111,
              "#46039f"
             ],
             [
              0.2222222222222222,
              "#7201a8"
             ],
             [
              0.3333333333333333,
              "#9c179e"
             ],
             [
              0.4444444444444444,
              "#bd3786"
             ],
             [
              0.5555555555555556,
              "#d8576b"
             ],
             [
              0.6666666666666666,
              "#ed7953"
             ],
             [
              0.7777777777777778,
              "#fb9f3a"
             ],
             [
              0.8888888888888888,
              "#fdca26"
             ],
             [
              1,
              "#f0f921"
             ]
            ],
            "type": "histogram2d"
           }
          ],
          "histogram2dcontour": [
           {
            "colorbar": {
             "outlinewidth": 0,
             "ticks": ""
            },
            "colorscale": [
             [
              0,
              "#0d0887"
             ],
             [
              0.1111111111111111,
              "#46039f"
             ],
             [
              0.2222222222222222,
              "#7201a8"
             ],
             [
              0.3333333333333333,
              "#9c179e"
             ],
             [
              0.4444444444444444,
              "#bd3786"
             ],
             [
              0.5555555555555556,
              "#d8576b"
             ],
             [
              0.6666666666666666,
              "#ed7953"
             ],
             [
              0.7777777777777778,
              "#fb9f3a"
             ],
             [
              0.8888888888888888,
              "#fdca26"
             ],
             [
              1,
              "#f0f921"
             ]
            ],
            "type": "histogram2dcontour"
           }
          ],
          "mesh3d": [
           {
            "colorbar": {
             "outlinewidth": 0,
             "ticks": ""
            },
            "type": "mesh3d"
           }
          ],
          "parcoords": [
           {
            "line": {
             "colorbar": {
              "outlinewidth": 0,
              "ticks": ""
             }
            },
            "type": "parcoords"
           }
          ],
          "pie": [
           {
            "automargin": true,
            "type": "pie"
           }
          ],
          "scatter": [
           {
            "fillpattern": {
             "fillmode": "overlay",
             "size": 10,
             "solidity": 0.2
            },
            "type": "scatter"
           }
          ],
          "scatter3d": [
           {
            "line": {
             "colorbar": {
              "outlinewidth": 0,
              "ticks": ""
             }
            },
            "marker": {
             "colorbar": {
              "outlinewidth": 0,
              "ticks": ""
             }
            },
            "type": "scatter3d"
           }
          ],
          "scattercarpet": [
           {
            "marker": {
             "colorbar": {
              "outlinewidth": 0,
              "ticks": ""
             }
            },
            "type": "scattercarpet"
           }
          ],
          "scattergeo": [
           {
            "marker": {
             "colorbar": {
              "outlinewidth": 0,
              "ticks": ""
             }
            },
            "type": "scattergeo"
           }
          ],
          "scattergl": [
           {
            "marker": {
             "colorbar": {
              "outlinewidth": 0,
              "ticks": ""
             }
            },
            "type": "scattergl"
           }
          ],
          "scattermap": [
           {
            "marker": {
             "colorbar": {
              "outlinewidth": 0,
              "ticks": ""
             }
            },
            "type": "scattermap"
           }
          ],
          "scattermapbox": [
           {
            "marker": {
             "colorbar": {
              "outlinewidth": 0,
              "ticks": ""
             }
            },
            "type": "scattermapbox"
           }
          ],
          "scatterpolar": [
           {
            "marker": {
             "colorbar": {
              "outlinewidth": 0,
              "ticks": ""
             }
            },
            "type": "scatterpolar"
           }
          ],
          "scatterpolargl": [
           {
            "marker": {
             "colorbar": {
              "outlinewidth": 0,
              "ticks": ""
             }
            },
            "type": "scatterpolargl"
           }
          ],
          "scatterternary": [
           {
            "marker": {
             "colorbar": {
              "outlinewidth": 0,
              "ticks": ""
             }
            },
            "type": "scatterternary"
           }
          ],
          "surface": [
           {
            "colorbar": {
             "outlinewidth": 0,
             "ticks": ""
            },
            "colorscale": [
             [
              0,
              "#0d0887"
             ],
             [
              0.1111111111111111,
              "#46039f"
             ],
             [
              0.2222222222222222,
              "#7201a8"
             ],
             [
              0.3333333333333333,
              "#9c179e"
             ],
             [
              0.4444444444444444,
              "#bd3786"
             ],
             [
              0.5555555555555556,
              "#d8576b"
             ],
             [
              0.6666666666666666,
              "#ed7953"
             ],
             [
              0.7777777777777778,
              "#fb9f3a"
             ],
             [
              0.8888888888888888,
              "#fdca26"
             ],
             [
              1,
              "#f0f921"
             ]
            ],
            "type": "surface"
           }
          ],
          "table": [
           {
            "cells": {
             "fill": {
              "color": "#EBF0F8"
             },
             "line": {
              "color": "white"
             }
            },
            "header": {
             "fill": {
              "color": "#C8D4E3"
             },
             "line": {
              "color": "white"
             }
            },
            "type": "table"
           }
          ]
         },
         "layout": {
          "annotationdefaults": {
           "arrowcolor": "#2a3f5f",
           "arrowhead": 0,
           "arrowwidth": 1
          },
          "autotypenumbers": "strict",
          "coloraxis": {
           "colorbar": {
            "outlinewidth": 0,
            "ticks": ""
           }
          },
          "colorscale": {
           "diverging": [
            [
             0,
             "#8e0152"
            ],
            [
             0.1,
             "#c51b7d"
            ],
            [
             0.2,
             "#de77ae"
            ],
            [
             0.3,
             "#f1b6da"
            ],
            [
             0.4,
             "#fde0ef"
            ],
            [
             0.5,
             "#f7f7f7"
            ],
            [
             0.6,
             "#e6f5d0"
            ],
            [
             0.7,
             "#b8e186"
            ],
            [
             0.8,
             "#7fbc41"
            ],
            [
             0.9,
             "#4d9221"
            ],
            [
             1,
             "#276419"
            ]
           ],
           "sequential": [
            [
             0,
             "#0d0887"
            ],
            [
             0.1111111111111111,
             "#46039f"
            ],
            [
             0.2222222222222222,
             "#7201a8"
            ],
            [
             0.3333333333333333,
             "#9c179e"
            ],
            [
             0.4444444444444444,
             "#bd3786"
            ],
            [
             0.5555555555555556,
             "#d8576b"
            ],
            [
             0.6666666666666666,
             "#ed7953"
            ],
            [
             0.7777777777777778,
             "#fb9f3a"
            ],
            [
             0.8888888888888888,
             "#fdca26"
            ],
            [
             1,
             "#f0f921"
            ]
           ],
           "sequentialminus": [
            [
             0,
             "#0d0887"
            ],
            [
             0.1111111111111111,
             "#46039f"
            ],
            [
             0.2222222222222222,
             "#7201a8"
            ],
            [
             0.3333333333333333,
             "#9c179e"
            ],
            [
             0.4444444444444444,
             "#bd3786"
            ],
            [
             0.5555555555555556,
             "#d8576b"
            ],
            [
             0.6666666666666666,
             "#ed7953"
            ],
            [
             0.7777777777777778,
             "#fb9f3a"
            ],
            [
             0.8888888888888888,
             "#fdca26"
            ],
            [
             1,
             "#f0f921"
            ]
           ]
          },
          "colorway": [
           "#636efa",
           "#EF553B",
           "#00cc96",
           "#ab63fa",
           "#FFA15A",
           "#19d3f3",
           "#FF6692",
           "#B6E880",
           "#FF97FF",
           "#FECB52"
          ],
          "font": {
           "color": "#2a3f5f"
          },
          "geo": {
           "bgcolor": "white",
           "lakecolor": "white",
           "landcolor": "#E5ECF6",
           "showlakes": true,
           "showland": true,
           "subunitcolor": "white"
          },
          "hoverlabel": {
           "align": "left"
          },
          "hovermode": "closest",
          "mapbox": {
           "style": "light"
          },
          "paper_bgcolor": "white",
          "plot_bgcolor": "#E5ECF6",
          "polar": {
           "angularaxis": {
            "gridcolor": "white",
            "linecolor": "white",
            "ticks": ""
           },
           "bgcolor": "#E5ECF6",
           "radialaxis": {
            "gridcolor": "white",
            "linecolor": "white",
            "ticks": ""
           }
          },
          "scene": {
           "xaxis": {
            "backgroundcolor": "#E5ECF6",
            "gridcolor": "white",
            "gridwidth": 2,
            "linecolor": "white",
            "showbackground": true,
            "ticks": "",
            "zerolinecolor": "white"
           },
           "yaxis": {
            "backgroundcolor": "#E5ECF6",
            "gridcolor": "white",
            "gridwidth": 2,
            "linecolor": "white",
            "showbackground": true,
            "ticks": "",
            "zerolinecolor": "white"
           },
           "zaxis": {
            "backgroundcolor": "#E5ECF6",
            "gridcolor": "white",
            "gridwidth": 2,
            "linecolor": "white",
            "showbackground": true,
            "ticks": "",
            "zerolinecolor": "white"
           }
          },
          "shapedefaults": {
           "line": {
            "color": "#2a3f5f"
           }
          },
          "ternary": {
           "aaxis": {
            "gridcolor": "white",
            "linecolor": "white",
            "ticks": ""
           },
           "baxis": {
            "gridcolor": "white",
            "linecolor": "white",
            "ticks": ""
           },
           "bgcolor": "#E5ECF6",
           "caxis": {
            "gridcolor": "white",
            "linecolor": "white",
            "ticks": ""
           }
          },
          "title": {
           "x": 0.05
          },
          "xaxis": {
           "automargin": true,
           "gridcolor": "white",
           "linecolor": "white",
           "ticks": "",
           "title": {
            "standoff": 15
           },
           "zerolinecolor": "white",
           "zerolinewidth": 2
          },
          "yaxis": {
           "automargin": true,
           "gridcolor": "white",
           "linecolor": "white",
           "ticks": "",
           "title": {
            "standoff": 15
           },
           "zerolinecolor": "white",
           "zerolinewidth": 2
          }
         }
        },
        "title": {
         "text": "Antal studerande per år och utbildningsinriktning"
        },
        "xaxis": {
         "anchor": "y",
         "domain": [
          0,
          1
         ],
         "tickangle": 45,
         "title": {
          "text": "År"
         }
        },
        "yaxis": {
         "anchor": "x",
         "domain": [
          0,
          1
         ],
         "title": {
          "text": "Antal studerande"
         }
        }
       }
      }
     },
     "metadata": {},
     "output_type": "display_data"
    }
   ],
   "source": [
    "import plotly.express as px\n",
    "\n",
    "fig = px.bar(\n",
    "    df_long,\n",
    "    x=\"År\",\n",
    "    y=\"Antal studerande\",\n",
    "    color=\"Utbildningsinriktning\",\n",
    "    title=\"Antal studerande per år och utbildningsinriktning\",\n",
    "    labels={\"Antal studerande\": \"Antal studerande\", \"År\": \"År\"},\n",
    "    barmode='group'  # Gruppade staplar per år\n",
    ")\n",
    "\n",
    "fig.update_layout(\n",
    "    xaxis=dict(tickangle=45),\n",
    "    legend=dict(title=\"Utbildningsinriktning\", orientation=\"v\", x=1.05, y=1)\n",
    ")\n",
    "\n",
    "fig.show()\n"
   ]
  },
  {
   "cell_type": "code",
   "execution_count": null,
   "id": "d59f3ffd",
   "metadata": {},
   "outputs": [
    {
     "name": "stdout",
     "output_type": "stream",
     "text": [
      "<class 'pandas.core.frame.DataFrame'>\n",
      "RangeIndex: 1300 entries, 0 to 1299\n",
      "Data columns (total 4 columns):\n",
      " #   Column            Non-Null Count  Dtype  \n",
      "---  ------            --------------  -----  \n",
      " 0   Kön               1300 non-null   object \n",
      " 1   Ålder             420 non-null    object \n",
      " 2   År                1300 non-null   int64  \n",
      " 3   Antal studerande  420 non-null    float64\n",
      "dtypes: float64(1), int64(1), object(2)\n",
      "memory usage: 40.8+ KB\n",
      "None\n",
      "      Kön     Ålder    År  Antal studerande\n",
      "0  totalt    totalt  2005           24789.0\n",
      "1  totalt    -24 år  2005            9987.0\n",
      "2  totalt  25-29 år  2005            5593.0\n",
      "3  totalt  30-34 år  2005            3289.0\n",
      "4  totalt  35-39 år  2005            2549.0\n"
     ]
    }
   ],
   "source": [
    "print(df_long.info())\n",
    "print(df_long.head())"
   ]
  },
  {
   "cell_type": "code",
   "execution_count": 98,
   "id": "2a62328a",
   "metadata": {},
   "outputs": [
    {
     "data": {
      "text/html": [
       "<div>\n",
       "<style scoped>\n",
       "    .dataframe tbody tr th:only-of-type {\n",
       "        vertical-align: middle;\n",
       "    }\n",
       "\n",
       "    .dataframe tbody tr th {\n",
       "        vertical-align: top;\n",
       "    }\n",
       "\n",
       "    .dataframe thead th {\n",
       "        text-align: right;\n",
       "    }\n",
       "</style>\n",
       "<table border=\"1\" class=\"dataframe\">\n",
       "  <thead>\n",
       "    <tr style=\"text-align: right;\">\n",
       "      <th></th>\n",
       "      <th>År</th>\n",
       "      <th>Antal studerande</th>\n",
       "    </tr>\n",
       "  </thead>\n",
       "  <tbody>\n",
       "    <tr>\n",
       "      <th>0</th>\n",
       "      <td>2005</td>\n",
       "      <td>24787.0</td>\n",
       "    </tr>\n",
       "    <tr>\n",
       "      <th>1</th>\n",
       "      <td>2006</td>\n",
       "      <td>29554.0</td>\n",
       "    </tr>\n",
       "    <tr>\n",
       "      <th>2</th>\n",
       "      <td>2007</td>\n",
       "      <td>33680.0</td>\n",
       "    </tr>\n",
       "    <tr>\n",
       "      <th>3</th>\n",
       "      <td>2008</td>\n",
       "      <td>36625.0</td>\n",
       "    </tr>\n",
       "    <tr>\n",
       "      <th>4</th>\n",
       "      <td>2009</td>\n",
       "      <td>39356.0</td>\n",
       "    </tr>\n",
       "    <tr>\n",
       "      <th>5</th>\n",
       "      <td>2010</td>\n",
       "      <td>41536.0</td>\n",
       "    </tr>\n",
       "    <tr>\n",
       "      <th>6</th>\n",
       "      <td>2011</td>\n",
       "      <td>42383.0</td>\n",
       "    </tr>\n",
       "    <tr>\n",
       "      <th>7</th>\n",
       "      <td>2012</td>\n",
       "      <td>40579.0</td>\n",
       "    </tr>\n",
       "    <tr>\n",
       "      <th>8</th>\n",
       "      <td>2013</td>\n",
       "      <td>42372.0</td>\n",
       "    </tr>\n",
       "    <tr>\n",
       "      <th>9</th>\n",
       "      <td>2014</td>\n",
       "      <td>44678.0</td>\n",
       "    </tr>\n",
       "    <tr>\n",
       "      <th>10</th>\n",
       "      <td>2015</td>\n",
       "      <td>46384.0</td>\n",
       "    </tr>\n",
       "    <tr>\n",
       "      <th>11</th>\n",
       "      <td>2016</td>\n",
       "      <td>47722.0</td>\n",
       "    </tr>\n",
       "    <tr>\n",
       "      <th>12</th>\n",
       "      <td>2017</td>\n",
       "      <td>50091.0</td>\n",
       "    </tr>\n",
       "    <tr>\n",
       "      <th>13</th>\n",
       "      <td>2018</td>\n",
       "      <td>52484.0</td>\n",
       "    </tr>\n",
       "    <tr>\n",
       "      <th>14</th>\n",
       "      <td>2019</td>\n",
       "      <td>61070.0</td>\n",
       "    </tr>\n",
       "    <tr>\n",
       "      <th>15</th>\n",
       "      <td>2020</td>\n",
       "      <td>74945.0</td>\n",
       "    </tr>\n",
       "    <tr>\n",
       "      <th>16</th>\n",
       "      <td>2021</td>\n",
       "      <td>82276.0</td>\n",
       "    </tr>\n",
       "    <tr>\n",
       "      <th>17</th>\n",
       "      <td>2022</td>\n",
       "      <td>84356.0</td>\n",
       "    </tr>\n",
       "    <tr>\n",
       "      <th>18</th>\n",
       "      <td>2023</td>\n",
       "      <td>84127.0</td>\n",
       "    </tr>\n",
       "    <tr>\n",
       "      <th>19</th>\n",
       "      <td>2024</td>\n",
       "      <td>86854.0</td>\n",
       "    </tr>\n",
       "  </tbody>\n",
       "</table>\n",
       "</div>"
      ],
      "text/plain": [
       "      År  Antal studerande\n",
       "0   2005           24787.0\n",
       "1   2006           29554.0\n",
       "2   2007           33680.0\n",
       "3   2008           36625.0\n",
       "4   2009           39356.0\n",
       "5   2010           41536.0\n",
       "6   2011           42383.0\n",
       "7   2012           40579.0\n",
       "8   2013           42372.0\n",
       "9   2014           44678.0\n",
       "10  2015           46384.0\n",
       "11  2016           47722.0\n",
       "12  2017           50091.0\n",
       "13  2018           52484.0\n",
       "14  2019           61070.0\n",
       "15  2020           74945.0\n",
       "16  2021           82276.0\n",
       "17  2022           84356.0\n",
       "18  2023           84127.0\n",
       "19  2024           86854.0"
      ]
     },
     "execution_count": 98,
     "metadata": {},
     "output_type": "execute_result"
    }
   ],
   "source": [
    "df_long.groupby(\"År\")[\"Antal studerande\"].sum().reset_index()"
   ]
  },
  {
   "cell_type": "code",
   "execution_count": 99,
   "id": "50466a94",
   "metadata": {},
   "outputs": [
    {
     "data": {
      "text/plain": [
       "Utbildningsinriktning\n",
       "Ekonomi, administration och försäljning         259478.0\n",
       "Teknik och tillverkning                         154563.0\n",
       "Hälso- och sjukvård samt socialt arbete         139166.0\n",
       "Data/It                                         132050.0\n",
       "Samhällsbyggnad och byggteknik                  131077.0\n",
       "Kultur, media och design                         62421.0\n",
       "Hotell, restaurang och turism                    55044.0\n",
       "Lantbruk, djurvård, trädgård, skog och fiske     31017.0\n",
       "Transporttjänster                                29945.0\n",
       "Pedagogik och undervisning                       14935.0\n",
       "Name: Antal studerande, dtype: float64"
      ]
     },
     "execution_count": 99,
     "metadata": {},
     "output_type": "execute_result"
    }
   ],
   "source": [
    "df_long.groupby(\"Utbildningsinriktning\")[\"Antal studerande\"].sum().sort_values(ascending=False).head(10)"
   ]
  },
  {
   "cell_type": "code",
   "execution_count": 105,
   "id": "46ec72dc",
   "metadata": {},
   "outputs": [
    {
     "data": {
      "text/html": [
       "<div>\n",
       "<style scoped>\n",
       "    .dataframe tbody tr th:only-of-type {\n",
       "        vertical-align: middle;\n",
       "    }\n",
       "\n",
       "    .dataframe tbody tr th {\n",
       "        vertical-align: top;\n",
       "    }\n",
       "\n",
       "    .dataframe thead th {\n",
       "        text-align: right;\n",
       "    }\n",
       "</style>\n",
       "<table border=\"1\" class=\"dataframe\">\n",
       "  <thead>\n",
       "    <tr style=\"text-align: right;\">\n",
       "      <th></th>\n",
       "      <th>SUN_kod</th>\n",
       "      <th>Utbildningsinriktning</th>\n",
       "      <th>Åldersgrupp</th>\n",
       "      <th>År</th>\n",
       "      <th>Antal studerande</th>\n",
       "    </tr>\n",
       "  </thead>\n",
       "  <tbody>\n",
       "    <tr>\n",
       "      <th>2193</th>\n",
       "      <td>totalt</td>\n",
       "      <td>Data/It</td>\n",
       "      <td>-24 år</td>\n",
       "      <td>2022</td>\n",
       "      <td>3163.0</td>\n",
       "    </tr>\n",
       "    <tr>\n",
       "      <th>2194</th>\n",
       "      <td>totalt</td>\n",
       "      <td>Data/It</td>\n",
       "      <td>25-29 år</td>\n",
       "      <td>2022</td>\n",
       "      <td>3822.0</td>\n",
       "    </tr>\n",
       "    <tr>\n",
       "      <th>2195</th>\n",
       "      <td>totalt</td>\n",
       "      <td>Data/It</td>\n",
       "      <td>30-34 år</td>\n",
       "      <td>2022</td>\n",
       "      <td>3428.0</td>\n",
       "    </tr>\n",
       "    <tr>\n",
       "      <th>2196</th>\n",
       "      <td>totalt</td>\n",
       "      <td>Data/It</td>\n",
       "      <td>35-39 år</td>\n",
       "      <td>2022</td>\n",
       "      <td>2014.0</td>\n",
       "    </tr>\n",
       "    <tr>\n",
       "      <th>2197</th>\n",
       "      <td>totalt</td>\n",
       "      <td>Data/It</td>\n",
       "      <td>40-44 år</td>\n",
       "      <td>2022</td>\n",
       "      <td>991.0</td>\n",
       "    </tr>\n",
       "    <tr>\n",
       "      <th>...</th>\n",
       "      <td>...</td>\n",
       "      <td>...</td>\n",
       "      <td>...</td>\n",
       "      <td>...</td>\n",
       "      <td>...</td>\n",
       "    </tr>\n",
       "    <tr>\n",
       "      <th>2272</th>\n",
       "      <td>totalt</td>\n",
       "      <td>Transporttjänster</td>\n",
       "      <td>25-29 år</td>\n",
       "      <td>2022</td>\n",
       "      <td>362.0</td>\n",
       "    </tr>\n",
       "    <tr>\n",
       "      <th>2273</th>\n",
       "      <td>totalt</td>\n",
       "      <td>Transporttjänster</td>\n",
       "      <td>30-34 år</td>\n",
       "      <td>2022</td>\n",
       "      <td>271.0</td>\n",
       "    </tr>\n",
       "    <tr>\n",
       "      <th>2274</th>\n",
       "      <td>totalt</td>\n",
       "      <td>Transporttjänster</td>\n",
       "      <td>35-39 år</td>\n",
       "      <td>2022</td>\n",
       "      <td>160.0</td>\n",
       "    </tr>\n",
       "    <tr>\n",
       "      <th>2275</th>\n",
       "      <td>totalt</td>\n",
       "      <td>Transporttjänster</td>\n",
       "      <td>40-44 år</td>\n",
       "      <td>2022</td>\n",
       "      <td>121.0</td>\n",
       "    </tr>\n",
       "    <tr>\n",
       "      <th>2276</th>\n",
       "      <td>totalt</td>\n",
       "      <td>Transporttjänster</td>\n",
       "      <td>45+ år</td>\n",
       "      <td>2022</td>\n",
       "      <td>211.0</td>\n",
       "    </tr>\n",
       "  </tbody>\n",
       "</table>\n",
       "<p>84 rows × 5 columns</p>\n",
       "</div>"
      ],
      "text/plain": [
       "     SUN_kod Utbildningsinriktning Åldersgrupp    År  Antal studerande\n",
       "2193  totalt               Data/It      -24 år  2022            3163.0\n",
       "2194  totalt               Data/It    25-29 år  2022            3822.0\n",
       "2195  totalt               Data/It    30-34 år  2022            3428.0\n",
       "2196  totalt               Data/It    35-39 år  2022            2014.0\n",
       "2197  totalt               Data/It    40-44 år  2022             991.0\n",
       "...      ...                   ...         ...   ...               ...\n",
       "2272  totalt     Transporttjänster    25-29 år  2022             362.0\n",
       "2273  totalt     Transporttjänster    30-34 år  2022             271.0\n",
       "2274  totalt     Transporttjänster    35-39 år  2022             160.0\n",
       "2275  totalt     Transporttjänster    40-44 år  2022             121.0\n",
       "2276  totalt     Transporttjänster      45+ år  2022             211.0\n",
       "\n",
       "[84 rows x 5 columns]"
      ]
     },
     "execution_count": 105,
     "metadata": {},
     "output_type": "execute_result"
    }
   ],
   "source": [
    "df_long[df_long[\"År\"] == 2022]"
   ]
  },
  {
   "cell_type": "code",
   "execution_count": 195,
   "id": "96526e61",
   "metadata": {},
   "outputs": [
    {
     "data": {
      "application/vnd.plotly.v1+json": {
       "config": {
        "plotlyServerURL": "https://plot.ly"
       },
       "data": [
        {
         "alignmentgroup": "True",
         "hoverinfo": "skip",
         "legendgroup": "Data/It",
         "marker": {
          "color": "lightgray",
          "pattern": {
           "shape": ""
          }
         },
         "name": "Data/It",
         "offsetgroup": "Data/It",
         "orientation": "v",
         "showlegend": true,
         "textposition": "auto",
         "type": "bar",
         "x": {
          "bdata": "1QfVB9UH1QfVB9UH1gfWB9YH1gfWB9YH1wfXB9cH1wfXB9cH2AfYB9gH2AfYB9gH2QfZB9kH2QfZB9kH2gfaB9oH2gfaB9oH2wfbB9sH2wfbB9sH3AfcB9wH3AfcB9wH3QfdB90H3QfdB90H3gfeB94H3gfeB94H3wffB98H3wffB98H4AfgB+AH4AfgB+AH4QfhB+EH4QfhB+EH4gfiB+IH4gfiB+IH4wfjB+MH4wfjB+MH5AfkB+QH5AfkB+QH5QflB+UH5QflB+UH5gfmB+YH5gfmB+YH5wfnB+cH5wfnB+cH6AfoB+gH6AfoB+gH",
          "dtype": "i2"
         },
         "xaxis": "x",
         "y": {
          "bdata": "AAAAAAAElEAAAAAAAECCQAAAAAAAQHNAAAAAAADAaEAAAAAAACBhQAAAAAAAwFNAAAAAAADAlEAAAAAAAGiAQAAAAAAAIHNAAAAAAACgZUAAAAAAAABdQAAAAAAAgFhAAAAAAABUlkAAAAAAADCDQAAAAAAAAHNAAAAAAADgaEAAAAAAAABhQAAAAAAAwFxAAAAAAABklUAAAAAAAIiEQAAAAAAA0HNAAAAAAABAakAAAAAAAABiQAAAAAAAAF5AAAAAAADgk0AAAAAAACCHQAAAAAAAAHZAAAAAAACAa0AAAAAAAEBiQAAAAAAAwF9AAAAAAAAIk0AAAAAAAMCHQAAAAAAAEHhAAAAAAAAAbkAAAAAAAGBjQAAAAAAAIGJAAAAAAAC8lEAAAAAAAMiJQAAAAAAAwHtAAAAAAAAQcEAAAAAAAABjQAAAAAAAYGNAAAAAAAB4lUAAAAAAABCMQAAAAAAAIH9AAAAAAAAwckAAAAAAAABlQAAAAAAAIGVAAAAAAABAl0AAAAAAAOSQQAAAAAAAyINAAAAAAACQdkAAAAAAAGBvQAAAAAAAAG5AAAAAAABMmUAAAAAAAGSVQAAAAAAAuIhAAAAAAACwfUAAAAAAAOBzQAAAAAAA0HZAAAAAAAAom0AAAAAAAPCYQAAAAAAAoI9AAAAAAADAg0AAAAAAAEB3QAAAAAAA4HxAAAAAAADsl0AAAAAAAAiaQAAAAAAADJNAAAAAAADIh0AAAAAAANB8QAAAAAAACIFAAAAAAAC4lkAAAAAAAEyaQAAAAAAAJJRAAAAAAADwiEAAAAAAAFB8QAAAAAAAqIBAAAAAAAAQlkAAAAAAAOCZQAAAAAAA+JJAAAAAAADQhUAAAAAAALB1QAAAAAAAkHdAAAAAAACsm0AAAAAAADygQAAAAAAAxJdAAAAAAABAjEAAAAAAAEB8QAAAAAAAgHZAAAAAAAAkokAAAAAAADSnQAAAAAAAvKJAAAAAAABAlUAAAAAAALiFQAAAAAAA0IBAAAAAAAC8pUAAAAAAAGKrQAAAAAAA5KdAAAAAAADMm0AAAAAAAKCOQAAAAAAAYIdAAAAAAAC2qEAAAAAAANytQAAAAAAAyKpAAAAAAAB4n0AAAAAAAPiOQAAAAAAAKIpAAAAAAAA0qkAAAAAAAJ6vQAAAAAAAZKxAAAAAAAAKoUAAAAAAAByRQAAAAAAAmIpAAAAAAAA6rEAAAAAAAMGwQAAAAAAAuK5AAAAAAACao0AAAAAAALCSQAAAAAAAYIxA",
          "dtype": "f8"
         },
         "yaxis": "y"
        },
        {
         "alignmentgroup": "True",
         "hoverinfo": "skip",
         "legendgroup": "Ekonomi, administration och försäljning",
         "marker": {
          "color": "royalblue",
          "pattern": {
           "shape": ""
          }
         },
         "name": "Ekonomi, administration och försäljning",
         "offsetgroup": "Ekonomi, administration och försäljning",
         "orientation": "v",
         "showlegend": true,
         "textposition": "auto",
         "type": "bar",
         "x": {
          "bdata": "1QfVB9UH1QfVB9UH1gfWB9YH1gfWB9YH1wfXB9cH1wfXB9cH2AfYB9gH2AfYB9gH2QfZB9kH2QfZB9kH2gfaB9oH2gfaB9oH2wfbB9sH2wfbB9sH3AfcB9wH3AfcB9wH3QfdB90H3QfdB90H3gfeB94H3gfeB94H3wffB98H3wffB98H4AfgB+AH4AfgB+AH4QfhB+EH4QfhB+EH4gfiB+IH4gfiB+IH4wfjB+MH4wfjB+MH5AfkB+QH5AfkB+QH5QflB+UH5QflB+UH5gfmB+YH5gfmB+YH5wfnB+cH5wfnB+cH6AfoB+gH6AfoB+gH",
          "dtype": "i2"
         },
         "xaxis": "x",
         "y": {
          "bdata": "AAAAAAAaoUAAAAAAAACYQAAAAAAAuIxAAAAAAADYhkAAAAAAAFCAQAAAAAAAUHVAAAAAAABmpUAAAAAAAFicQAAAAAAAfJBAAAAAAAB4jEAAAAAAADiDQAAAAAAAAHxAAAAAAADQqUAAAAAAACKgQAAAAAAAjJFAAAAAAABAj0AAAAAAAKCHQAAAAAAAcIFAAAAAAAAQrkAAAAAAAD6jQAAAAAAAGJRAAAAAAABkkUAAAAAAAACLQAAAAAAAiIVAAAAAAACAsEAAAAAAAAqmQAAAAAAAnJZAAAAAAACokkAAAAAAAHiKQAAAAAAAgIdAAAAAAAAFsUAAAAAAAPSnQAAAAAAAwJhAAAAAAABkk0AAAAAAAKiLQAAAAAAAIIhAAAAAAAB4sEAAAAAAAJSpQAAAAAAAlJpAAAAAAAAclEAAAAAAANiMQAAAAAAAUIhAAAAAAAAGr0AAAAAAAPypQAAAAAAAWJtAAAAAAAAUk0AAAAAAAGiLQAAAAAAACIlAAAAAAABWrkAAAAAAAHSrQAAAAAAAoJxAAAAAAACEk0AAAAAAAFiMQAAAAAAAIItAAAAAAADyq0AAAAAAAC6sQAAAAAAAPJ9AAAAAAADgk0AAAAAAAJiMQAAAAAAAyItAAAAAAAA8pkAAAAAAAIKsQAAAAAAAFJ9AAAAAAABIlUAAAAAAAMCMQAAAAAAAMIxAAAAAAADookAAAAAAABasQAAAAAAATqBAAAAAAACUlkAAAAAAAFiOQAAAAAAAiI9AAAAAAACsokAAAAAAAO6sQAAAAAAAFKJAAAAAAACkmEAAAAAAAPCQQAAAAAAAlJFAAAAAAAAgpkAAAAAAAA2wQAAAAAAAgKRAAAAAAACEm0AAAAAAAGiSQAAAAAAANJRAAAAAAACQq0AAAAAAAK+xQAAAAAAA8qdAAAAAAADUn0AAAAAAAKyUQAAAAAAAqJdAAAAAAAAysEAAAAAAABu0QAAAAAAAnqxAAAAAAAAYo0AAAAAAANCVQAAAAAAAfJpAAAAAAABFsEAAAAAAAHCzQAAAAAAAGK1AAAAAAADao0AAAAAAACCXQAAAAAAA2JlAAAAAAAA7sEAAAAAAAHqyQAAAAAAAAqxAAAAAAABEo0AAAAAAAOCVQAAAAAAAKJdAAAAAAAAKsEAAAAAAABKxQAAAAAAAQKtAAAAAAADiokAAAAAAAMyVQAAAAAAAqJhAAAAAAACDsEAAAAAAAGmwQAAAAAAAPKpAAAAAAACCokAAAAAAAGiWQAAAAAAA/JtA",
          "dtype": "f8"
         },
         "yaxis": "y"
        },
        {
         "alignmentgroup": "True",
         "hoverinfo": "skip",
         "legendgroup": "Friskvård och kroppsvård",
         "marker": {
          "color": "lightgray",
          "pattern": {
           "shape": ""
          }
         },
         "name": "Friskvård och kroppsvård",
         "offsetgroup": "Friskvård och kroppsvård",
         "orientation": "v",
         "showlegend": true,
         "textposition": "auto",
         "type": "bar",
         "x": {
          "bdata": "1QfVB9UH1QfVB9UH1gfWB9YH1gfWB9YH1wfXB9cH1wfXB9cH2AfYB9gH2AfYB9gH2QfZB9kH2QfZB9kH2gfaB9oH2gfaB9oH2wfbB9sH2wfbB9sH3AfcB9wH3AfcB9wH3QfdB90H3QfdB90H3gfeB94H3gfeB94H3wffB98H3wffB98H4AfgB+AH4AfgB+AH4QfhB+EH4QfhB+EH4gfiB+IH4gfiB+IH4wfjB+MH4wfjB+MH5AfkB+QH5AfkB+QH5QflB+UH5QflB+UH5gfmB+YH5gfmB+YH5wfnB+cH5wfnB+cH6AfoB+gH6AfoB+gH",
          "dtype": "i2"
         },
         "xaxis": "x",
         "y": {
          "bdata": "AAAAAAAAZUAAAAAAAIBeQAAAAAAAAExAAAAAAACASEAAAAAAAABLQAAAAAAAAEBAAAAAAADwcEAAAAAAAKBnQAAAAAAAwFVAAAAAAADAVUAAAAAAAABIQAAAAAAAAExAAAAAAABAdkAAAAAAAOBqQAAAAAAAAFdAAAAAAACAWUAAAAAAAABKQAAAAAAAgFBAAAAAAADQeUAAAAAAAABvQAAAAAAAwFdAAAAAAAAAVEAAAAAAAIBPQAAAAAAAgFdAAAAAAACweUAAAAAAAIBwQAAAAAAAwFZAAAAAAAAAVUAAAAAAAIBPQAAAAAAAAFhAAAAAAACQd0AAAAAAAEBrQAAAAAAAAFNAAAAAAACAUEAAAAAAAIBKQAAAAAAAwFBAAAAAAAAgcUAAAAAAAMBjQAAAAAAAgEpAAAAAAAAAQ0AAAAAAAABBQAAAAAAAAEFAAAAAAADgZkAAAAAAAABdQAAAAAAAADtAAAAAAAAAM0AAAAAAAAA0QAAAAAAAABhAAAAAAADAZUAAAAAAAABaQAAAAAAAgEFAAAAAAAAAM0AAAAAAAAAyQAAAAAAAACpAAAAAAACAYkAAAAAAAMBYQAAAAAAAADxAAAAAAAAAMkAAAAAAAAA1QAAAAAAAADBAAAAAAABAYUAAAAAAAABZQAAAAAAAAEdAAAAAAAAAOkAAAAAAAAAyQAAAAAAAADhAAAAAAADAWkAAAAAAAMBVQAAAAAAAgENAAAAAAAAAPkAAAAAAAAAyQAAAAAAAADZAAAAAAACAUUAAAAAAAEBXQAAAAAAAADhAAAAAAAAAMEAAAAAAAAAwQAAAAAAAADNAAAAAAADAUUAAAAAAAEBXQAAAAAAAADdAAAAAAAAAJkAAAAAAAAAmQAAAAAAAADZAAAAAAABAVkAAAAAAAMBcQAAAAAAAAEBAAAAAAAAAN0AAAAAAAAAwQAAAAAAAADtAAAAAAADAWEAAAAAAAABcQAAAAAAAAEpAAAAAAAAAPkAAAAAAAAAxQAAAAAAAADlAAAAAAADAXEAAAAAAAMBfQAAAAAAAgExAAAAAAAAAOEAAAAAAAAA2QAAAAAAAADtAAAAAAABAXUAAAAAAAGBhQAAAAAAAAFFAAAAAAAAAP0AAAAAAAAA1QAAAAAAAAEBAAAAAAAAAYEAAAAAAAMBgQAAAAAAAQFNAAAAAAAAARkAAAAAAAAA9QAAAAAAAAEhAAAAAAADAWUAAAAAAAABVQAAAAAAAwFBAAAAAAACAQ0AAAAAAAAA5QAAAAAAAAEhA",
          "dtype": "f8"
         },
         "yaxis": "y"
        },
        {
         "alignmentgroup": "True",
         "hoverinfo": "skip",
         "legendgroup": "Hotell, restaurang och turism",
         "marker": {
          "color": "lightgray",
          "pattern": {
           "shape": ""
          }
         },
         "name": "Hotell, restaurang och turism",
         "offsetgroup": "Hotell, restaurang och turism",
         "orientation": "v",
         "showlegend": true,
         "textposition": "auto",
         "type": "bar",
         "x": {
          "bdata": "1QfVB9UH1QfVB9UH1gfWB9YH1gfWB9YH1wfXB9cH1wfXB9cH2AfYB9gH2AfYB9gH2QfZB9kH2QfZB9kH2gfaB9oH2gfaB9oH2wfbB9sH2wfbB9sH3AfcB9wH3AfcB9wH3QfdB90H3QfdB90H3gfeB94H3gfeB94H3wffB98H3wffB98H4AfgB+AH4AfgB+AH4QfhB+EH4QfhB+EH4gfiB+IH4gfiB+IH4wfjB+MH4wfjB+MH5AfkB+QH5AfkB+QH5QflB+UH5QflB+UH5gfmB+YH5gfmB+YH5wfnB+cH5wfnB+cH6AfoB+gH6AfoB+gH",
          "dtype": "i2"
         },
         "xaxis": "x",
         "y": {
          "bdata": "AAAAAAAMkUAAAAAAANiCQAAAAAAAIG9AAAAAAACgYEAAAAAAAEBVQAAAAAAAAE9AAAAAAADclUAAAAAAABiEQAAAAAAAoGtAAAAAAAAgYUAAAAAAAMBXQAAAAAAAgExAAAAAAADUmUAAAAAAANCFQAAAAAAAIG1AAAAAAAAAYUAAAAAAAABbQAAAAAAAQFNAAAAAAADMmkAAAAAAACCIQAAAAAAAoGtAAAAAAAAAY0AAAAAAAMBaQAAAAAAAgFpAAAAAAAD8mEAAAAAAANCIQAAAAAAAwGxAAAAAAACgYEAAAAAAAABaQAAAAAAAQFpAAAAAAAAAl0AAAAAAANCJQAAAAAAAwG5AAAAAAAAgY0AAAAAAAEBZQAAAAAAAwFpAAAAAAADwlUAAAAAAACiKQAAAAAAAQHBAAAAAAABgY0AAAAAAAIBcQAAAAAAAgF1AAAAAAABUkkAAAAAAAHCJQAAAAAAAQGxAAAAAAACAY0AAAAAAAABcQAAAAAAAwFtAAAAAAAC8kEAAAAAAALCJQAAAAAAAoG9AAAAAAACgYkAAAAAAAEBbQAAAAAAAQF5AAAAAAADYiUAAAAAAAHCLQAAAAAAAMHNAAAAAAAAgaEAAAAAAACBjQAAAAAAAAGlAAAAAAADIhEAAAAAAAACNQAAAAAAAkHZAAAAAAACgaUAAAAAAAKBoQAAAAAAAQG9AAAAAAAAwhUAAAAAAAOCLQAAAAAAA4HZAAAAAAADAaUAAAAAAAIBlQAAAAAAAYGtAAAAAAABYg0AAAAAAAJCNQAAAAAAAAHhAAAAAAABgbUAAAAAAAABlQAAAAAAAwGZAAAAAAADAg0AAAAAAAHiLQAAAAAAAsHhAAAAAAADAa0AAAAAAACBlQAAAAAAAQGlAAAAAAACIhkAAAAAAACCKQAAAAAAAYHtAAAAAAADgcEAAAAAAAKBmQAAAAAAAAHFAAAAAAACgiEAAAAAAAIiMQAAAAAAAoH5AAAAAAACgdEAAAAAAAMBpQAAAAAAA8HZAAAAAAADIiEAAAAAAANiMQAAAAAAAKIFAAAAAAACgdEAAAAAAAJBwQAAAAAAAYHxAAAAAAADIhUAAAAAAABiJQAAAAAAAwH9AAAAAAACAc0AAAAAAAKBxQAAAAAAAUHlAAAAAAAAohEAAAAAAAPiFQAAAAAAAMHxAAAAAAADQcUAAAAAAAKBxQAAAAAAAMHhAAAAAAAC4hEAAAAAAAJiEQAAAAAAAwHpAAAAAAABgc0AAAAAAAIBvQAAAAAAAgH5A",
          "dtype": "f8"
         },
         "yaxis": "y"
        },
        {
         "alignmentgroup": "True",
         "hoverinfo": "skip",
         "legendgroup": "Hälso- och sjukvård samt socialt arbete",
         "marker": {
          "color": "lightgray",
          "pattern": {
           "shape": ""
          }
         },
         "name": "Hälso- och sjukvård samt socialt arbete",
         "offsetgroup": "Hälso- och sjukvård samt socialt arbete",
         "orientation": "v",
         "showlegend": true,
         "textposition": "auto",
         "type": "bar",
         "x": {
          "bdata": "1QfVB9UH1QfVB9UH1gfWB9YH1gfWB9YH1wfXB9cH1wfXB9cH2AfYB9gH2AfYB9gH2QfZB9kH2QfZB9kH2gfaB9oH2gfaB9oH2wfbB9sH2wfbB9sH3AfcB9wH3AfcB9wH3QfdB90H3QfdB90H3gfeB94H3gfeB94H3wffB98H3wffB98H4AfgB+AH4AfgB+AH4QfhB+EH4QfhB+EH4gfiB+IH4gfiB+IH4wfjB+MH4wfjB+MH5AfkB+QH5AfkB+QH5QflB+UH5QflB+UH5gfmB+YH5gfmB+YH5wfnB+cH5wfnB+cH6AfoB+gH6AfoB+gH",
          "dtype": "i2"
         },
         "xaxis": "x",
         "y": {
          "bdata": "AAAAAAAQhEAAAAAAAJCCQAAAAAAAkHxAAAAAAADwekAAAAAAALB5QAAAAAAAkHxAAAAAAABwikAAAAAAACCFQAAAAAAAiIJAAAAAAABQgEAAAAAAAICAQAAAAAAAEIRAAAAAAABojEAAAAAAAGCIQAAAAAAA8INAAAAAAAA4gkAAAAAAAACDQAAAAAAAUIVAAAAAAABYikAAAAAAAFiIQAAAAAAA8IJAAAAAAACQgEAAAAAAAJiCQAAAAAAAIIVAAAAAAACgiEAAAAAAAACJQAAAAAAAqIJAAAAAAADAgUAAAAAAAOiBQAAAAAAA6IdAAAAAAACYh0AAAAAAANCKQAAAAAAAwIRAAAAAAABAg0AAAAAAAACEQAAAAAAAGI5AAAAAAAC4hkAAAAAAACiMQAAAAAAAcIRAAAAAAAAIhUAAAAAAAPiDQAAAAAAAmJBAAAAAAACQgkAAAAAAAGiLQAAAAAAA2INAAAAAAABIg0AAAAAAAIiEQAAAAAAA5JFAAAAAAACQg0AAAAAAAOCMQAAAAAAAaIdAAAAAAABIhUAAAAAAAGiGQAAAAAAA0JNAAAAAAADYhUAAAAAAABSRQAAAAAAAAIpAAAAAAAAQiUAAAAAAAOCJQAAAAAAAMJdAAAAAAABAhEAAAAAAAAiSQAAAAAAA0I1AAAAAAACgi0AAAAAAAGCKQAAAAAAADJhAAAAAAACYg0AAAAAAALyRQAAAAAAAmJBAAAAAAAAAjUAAAAAAAPiJQAAAAAAArJhAAAAAAADQg0AAAAAAAKyTQAAAAAAA1JJAAAAAAACYj0AAAAAAANiLQAAAAAAA/JpAAAAAAABYhUAAAAAAAIiVQAAAAAAAMJVAAAAAAADIkUAAAAAAAGiOQAAAAAAADJ5AAAAAAABAiUAAAAAAAKSYQAAAAAAAoJlAAAAAAAA8lUAAAAAAAKCTQAAAAAAArqJAAAAAAABEkEAAAAAAAFCcQAAAAAAA3J9AAAAAAADImEAAAAAAAMyWQAAAAAAALqdAAAAAAADAkUAAAAAAAJieQAAAAAAAfqFAAAAAAACUnEAAAAAAAASYQAAAAAAAMqpAAAAAAAAgk0AAAAAAAOCeQAAAAAAAHKJAAAAAAAAQoEAAAAAAAAiaQAAAAAAAcKxAAAAAAABgk0AAAAAAAJibQAAAAAAACqFAAAAAAAC4nkAAAAAAAHCaQAAAAAAAuKxAAAAAAACgkkAAAAAAALSYQAAAAAAAKJ9AAAAAAAAYnkAAAAAAANiZQAAAAAAA4qtA",
          "dtype": "f8"
         },
         "yaxis": "y"
        },
        {
         "alignmentgroup": "True",
         "hoverinfo": "skip",
         "legendgroup": "Journalistik och information",
         "marker": {
          "color": "lightgray",
          "pattern": {
           "shape": ""
          }
         },
         "name": "Journalistik och information",
         "offsetgroup": "Journalistik och information",
         "orientation": "v",
         "showlegend": true,
         "textposition": "auto",
         "type": "bar",
         "x": {
          "bdata": "1QfVB9UH1QfVB9YH1gfWB9YH1gfWB9cH1wfXB9cH1wfXB9gH2AfYB9gH2AfYB9kH2QfZB9kH2QfZB9oH2gfaB9oH2gfaB9sH2wfbB9sH2wfbB9wH3AfcB9wH3AfcB90H3QfdB90H3QfdB94H3gfeB94H3gfeB98H3wffB98H3wffB+AH4AfgB+AH4AfgB+EH4QfhB+EH4QfhB+IH4gfiB+IH4gfiB+MH4wfjB+MH4wfjB+QH5AfkB+QH5AfkB+UH5QflB+UH5QflB+YH5gfmB+YH5gfmB+cH5wfnB+cH5wfnB+gH6AfoB+gH6AfoBw==",
          "dtype": "i2"
         },
         "xaxis": "x",
         "y": {
          "bdata": "AAAAAAAAR0AAAAAAAIBFQAAAAAAAAC5AAAAAAAAAGEAAAAAAAAAQQAAAAAAAAEFAAAAAAACARUAAAAAAAAAqQAAAAAAAABBAAAAAAAAAFEAAAAAAAAAIQAAAAAAAgEFAAAAAAAAARkAAAAAAAAAqQAAAAAAAACRAAAAAAAAAFEAAAAAAAAAcQAAAAAAAAEhAAAAAAACARkAAAAAAAAA4QAAAAAAAADBAAAAAAAAAIkAAAAAAAAAxQAAAAAAAAE1AAAAAAABAUUAAAAAAAAA7QAAAAAAAADdAAAAAAAAALEAAAAAAAAA2QAAAAAAAgE1AAAAAAABAUkAAAAAAAIBCQAAAAAAAADlAAAAAAAAAQEAAAAAAAAA+QAAAAAAAAFFAAAAAAACAV0AAAAAAAABFQAAAAAAAADpAAAAAAACAQ0AAAAAAAAA+QAAAAAAAAFJAAAAAAAAAWEAAAAAAAABDQAAAAAAAADlAAAAAAAAAOEAAAAAAAAA2QAAAAAAAQFxAAAAAAACAYEAAAAAAAIBPQAAAAAAAAENAAAAAAACAQEAAAAAAAABBQAAAAAAAAGJAAAAAAABAakAAAAAAAIBYQAAAAAAAgEtAAAAAAACASEAAAAAAAEBQQAAAAAAAgF9AAAAAAACga0AAAAAAAMBbQAAAAAAAAFNAAAAAAAAASkAAAAAAAIBPQAAAAAAAQF9AAAAAAAAgb0AAAAAAAIBdQAAAAAAAAFVAAAAAAACATUAAAAAAAABWQAAAAAAAwGJAAAAAAACAbUAAAAAAAABfQAAAAAAAwFVAAAAAAAAAUkAAAAAAAKBgQAAAAAAAgGNAAAAAAABgcEAAAAAAAEBeQAAAAAAAwFRAAAAAAACAUkAAAAAAACBhQAAAAAAAQGlAAAAAAABwcUAAAAAAAGBjQAAAAAAAwFVAAAAAAABAUEAAAAAAAABdQAAAAAAAoGtAAAAAAADwcEAAAAAAAGBmQAAAAAAAwFpAAAAAAADAUEAAAAAAAIBeQAAAAAAAIGlAAAAAAABQcUAAAAAAAABmQAAAAAAAgFdAAAAAAACAUkAAAAAAAIBcQAAAAAAAQGlAAAAAAACgbkAAAAAAACBmQAAAAAAAQFJAAAAAAAAASEAAAAAAAIBTQAAAAAAAoGVAAAAAAACAbEAAAAAAAIBjQAAAAAAAwFFAAAAAAACAQ0AAAAAAAEBVQAAAAAAAAGBAAAAAAADgZkAAAAAAAEBeQAAAAAAAAFNAAAAAAACAQ0AAAAAAAMBYQA==",
          "dtype": "f8"
         },
         "yaxis": "y"
        },
        {
         "alignmentgroup": "True",
         "hoverinfo": "skip",
         "legendgroup": "Kultur, media och design",
         "marker": {
          "color": "lightgray",
          "pattern": {
           "shape": ""
          }
         },
         "name": "Kultur, media och design",
         "offsetgroup": "Kultur, media och design",
         "orientation": "v",
         "showlegend": true,
         "textposition": "auto",
         "type": "bar",
         "x": {
          "bdata": "1QfVB9UH1QfVB9UH1gfWB9YH1gfWB9YH1wfXB9cH1wfXB9cH2AfYB9gH2AfYB9gH2QfZB9kH2QfZB9kH2gfaB9oH2gfaB9oH2wfbB9sH2wfbB9sH3AfcB9wH3AfcB9wH3QfdB90H3QfdB90H3gfeB94H3gfeB94H3wffB98H3wffB98H4AfgB+AH4AfgB+AH4QfhB+EH4QfhB+EH4gfiB+IH4gfiB+IH4wfjB+MH4wfjB+MH5AfkB+QH5AfkB+QH5QflB+UH5QflB+UH5gfmB+YH5gfmB+YH5wfnB+cH5wfnB+cH6AfoB+gH6AfoB+gH",
          "dtype": "i2"
         },
         "xaxis": "x",
         "y": {
          "bdata": "AAAAAAA0mEAAAAAAADiGQAAAAAAAAHJAAAAAAABAYUAAAAAAAIBPQAAAAAAAgEpAAAAAAACImkAAAAAAADCGQAAAAAAAgHBAAAAAAACAYUAAAAAAAIBNQAAAAAAAwFBAAAAAAAAEmkAAAAAAAECGQAAAAAAAAG9AAAAAAAAgYEAAAAAAAEBSQAAAAAAAgFBAAAAAAABEmkAAAAAAALiHQAAAAAAAwHFAAAAAAADAYEAAAAAAAEBRQAAAAAAAgFBAAAAAAADsmEAAAAAAAFCJQAAAAAAAEHJAAAAAAABAXkAAAAAAAIBSQAAAAAAAgE9AAAAAAAC4lUAAAAAAAGiKQAAAAAAAwHFAAAAAAABAYEAAAAAAAABRQAAAAAAAgFJAAAAAAADAk0AAAAAAAPCIQAAAAAAA4HBAAAAAAACAXUAAAAAAAABLQAAAAAAAAE9AAAAAAAB0kkAAAAAAAGiHQAAAAAAAIGxAAAAAAACAWEAAAAAAAIBNQAAAAAAAAElAAAAAAAB8k0AAAAAAAHCIQAAAAAAA4G9AAAAAAACAW0AAAAAAAABMQAAAAAAAgE1AAAAAAAAYk0AAAAAAAHCKQAAAAAAAoHJAAAAAAABAXkAAAAAAAMBRQAAAAAAAQFFAAAAAAACIkkAAAAAAAGCMQAAAAAAA8HZAAAAAAACAYUAAAAAAAIBVQAAAAAAAgFRAAAAAAABYkUAAAAAAAFCOQAAAAAAAwHVAAAAAAAAAY0AAAAAAAMBXQAAAAAAAwFdAAAAAAAC4kEAAAAAAACCQQAAAAAAAMHdAAAAAAACAZUAAAAAAAABYQAAAAAAAAF9AAAAAAABYkEAAAAAAACCQQAAAAAAAoHlAAAAAAABAaEAAAAAAAIBXQAAAAAAAAGBAAAAAAABAkEAAAAAAAHiRQAAAAAAAwH5AAAAAAAAgZUAAAAAAAIBVQAAAAAAAwFtAAAAAAAAQk0AAAAAAANySQAAAAAAAAIJAAAAAAAAgaUAAAAAAAABcQAAAAAAAAF1AAAAAAAD8lEAAAAAAAJSUQAAAAAAAQIZAAAAAAACAbkAAAAAAAEBhQAAAAAAAQGRAAAAAAAAUl0AAAAAAAJyUQAAAAAAA+IdAAAAAAABQckAAAAAAAGBkQAAAAAAAgGlAAAAAAADEmUAAAAAAAACUQAAAAAAAWIhAAAAAAADwdEAAAAAAAOBmQAAAAAAA4GxAAAAAAAAAmkAAAAAAAMyUQAAAAAAAcIhAAAAAAACweEAAAAAAAIBpQAAAAAAAQHBA",
          "dtype": "f8"
         },
         "yaxis": "y"
        },
        {
         "alignmentgroup": "True",
         "hoverinfo": "skip",
         "legendgroup": "Lantbruk, djurvård, trädgård, skog och fiske",
         "marker": {
          "color": "lightgray",
          "pattern": {
           "shape": ""
          }
         },
         "name": "Lantbruk, djurvård, trädgård, skog och fiske",
         "offsetgroup": "Lantbruk, djurvård, trädgård, skog och fiske",
         "orientation": "v",
         "showlegend": true,
         "textposition": "auto",
         "type": "bar",
         "x": {
          "bdata": "1QfVB9UH1QfVB9UH1gfWB9YH1gfWB9YH1wfXB9cH1wfXB9cH2AfYB9gH2AfYB9gH2QfZB9kH2QfZB9kH2gfaB9oH2gfaB9oH2wfbB9sH2wfbB9sH3AfcB9wH3AfcB9wH3QfdB90H3QfdB90H3gfeB94H3gfeB94H3wffB98H3wffB98H4AfgB+AH4AfgB+AH4QfhB+EH4QfhB+EH4gfiB+IH4gfiB+IH4wfjB+MH4wfjB+MH5AfkB+QH5AfkB+QH5QflB+UH5QflB+UH5gfmB+YH5gfmB+YH5wfnB+cH5wfnB+cH6AfoB+gH6AfoB+gH",
          "dtype": "i2"
         },
         "xaxis": "x",
         "y": {
          "bdata": "AAAAAABwdkAAAAAAAOBlQAAAAAAAQF5AAAAAAACAXEAAAAAAAMBUQAAAAAAAAFFAAAAAAABggUAAAAAAAOBuQAAAAAAAIGNAAAAAAABgY0AAAAAAAEBhQAAAAAAAAFdAAAAAAADQgkAAAAAAADBzQAAAAAAAYGZAAAAAAAAAZEAAAAAAAEBkQAAAAAAAAGBAAAAAAABwgkAAAAAAAFByQAAAAAAAIGVAAAAAAADgYkAAAAAAAGBjQAAAAAAAAGJAAAAAAAAQhUAAAAAAAIBxQAAAAAAA4GNAAAAAAABAZEAAAAAAACBgQAAAAAAAIGJAAAAAAABIiEAAAAAAAPByQAAAAAAAYGRAAAAAAACgY0AAAAAAAMBhQAAAAAAAQGRAAAAAAABwhkAAAAAAAPBzQAAAAAAAIGRAAAAAAABgYkAAAAAAAIBiQAAAAAAAIGRAAAAAAAAggkAAAAAAAJBzQAAAAAAAoGBAAAAAAADAX0AAAAAAAGBhQAAAAAAAIGVAAAAAAACAf0AAAAAAADB0QAAAAAAAQGFAAAAAAAAAWkAAAAAAAIBfQAAAAAAAAGRAAAAAAACQfEAAAAAAACByQAAAAAAAgGJAAAAAAADAV0AAAAAAAEBcQAAAAAAAgGJAAAAAAADAekAAAAAAANB1QAAAAAAAgGNAAAAAAAAAWUAAAAAAAABdQAAAAAAAwGNAAAAAAABQeEAAAAAAAKB1QAAAAAAAQGhAAAAAAADAX0AAAAAAAIBiQAAAAAAAYGlAAAAAAABAdEAAAAAAAEB0QAAAAAAAoGtAAAAAAACAY0AAAAAAAMBiQAAAAAAAsHBAAAAAAADAckAAAAAAANByQAAAAAAAYGdAAAAAAADAZEAAAAAAAMBfQAAAAAAAcHFAAAAAAABAcUAAAAAAANBzQAAAAAAAYG1AAAAAAADgZUAAAAAAAMBgQAAAAAAAcHFAAAAAAABgdEAAAAAAADB1QAAAAAAAwHFAAAAAAACAaUAAAAAAAEBjQAAAAAAAIHNAAAAAAAAQdUAAAAAAAFB2QAAAAAAAAHVAAAAAAABAcEAAAAAAAEBpQAAAAAAA4HNAAAAAAABwdkAAAAAAAFB1QAAAAAAAoHZAAAAAAAAwc0AAAAAAAEBrQAAAAAAAsHZAAAAAAABQeEAAAAAAALB0QAAAAAAAwHdAAAAAAAAwdEAAAAAAAABsQAAAAAAAwHtAAAAAAADwe0AAAAAAAHB3QAAAAAAAEHhAAAAAAACQdkAAAAAAACBxQAAAAAAAgH9A",
          "dtype": "f8"
         },
         "yaxis": "y"
        },
        {
         "alignmentgroup": "True",
         "hoverinfo": "skip",
         "legendgroup": "Pedagogik och undervisning",
         "marker": {
          "color": "lightgray",
          "pattern": {
           "shape": ""
          }
         },
         "name": "Pedagogik och undervisning",
         "offsetgroup": "Pedagogik och undervisning",
         "orientation": "v",
         "showlegend": true,
         "textposition": "auto",
         "type": "bar",
         "x": {
          "bdata": "1QfVB9UH1QfVB9UH1gfWB9YH1gfWB9YH1wfXB9cH1wfXB9cH2AfYB9gH2AfYB9gH2QfZB9kH2QfZB9kH2gfaB9oH2gfaB9oH2wfbB9sH2wfbB9sH3AfcB9wH3AfcB9wH3QfdB90H3QfdB90H3gfeB94H3gfeB94H3wffB98H3wffB98H4AfgB+AH4AfgB+AH4QfhB+EH4QfhB+EH4gfiB+IH4gfiB+IH4wfjB+MH4wfjB+MH5AfkB+QH5AfkB+QH5QflB+UH5QflB+UH5gfmB+YH5gfmB+YH5wfnB+cH5wfnB+cH6AfoB+gH6AfoB+gH",
          "dtype": "i2"
         },
         "xaxis": "x",
         "y": {
          "bdata": "AAAAAAAACEAAAAAAAAAIQAAAAAAAABBAAAAAAAAACEAAAAAAAAAAAAAAAAAAAAhAAAAAAAAALEAAAAAAAAAwQAAAAAAAADNAAAAAAAAANUAAAAAAAAAqQAAAAAAAADRAAAAAAAAAN0AAAAAAAAA7QAAAAAAAgERAAAAAAAAAPEAAAAAAAAA9QAAAAAAAAENAAAAAAAAANkAAAAAAAABDQAAAAAAAgEVAAAAAAACAQkAAAAAAAIBBQAAAAAAAgEZAAAAAAAAAQEAAAAAAAABLQAAAAAAAAEJAAAAAAACASEAAAAAAAIBEQAAAAAAAAENAAAAAAABAVkAAAAAAAEBWQAAAAAAAAFNAAAAAAACAT0AAAAAAAIBRQAAAAAAAwFJAAAAAAAAAX0AAAAAAAIBiQAAAAAAAAFpAAAAAAADAVUAAAAAAAMBVQAAAAAAAgFtAAAAAAABAVEAAAAAAAABdQAAAAAAAQFJAAAAAAAAATkAAAAAAAIBIQAAAAAAAwFJAAAAAAAAAWkAAAAAAAMBaQAAAAAAAgEhAAAAAAABAUEAAAAAAAABEQAAAAAAAgE1AAAAAAAAAX0AAAAAAAMBbQAAAAAAAAExAAAAAAAAAUEAAAAAAAIBJQAAAAAAAwFNAAAAAAACAWUAAAAAAAIBXQAAAAAAAAEpAAAAAAAAAS0AAAAAAAIBJQAAAAAAAQFFAAAAAAADAVkAAAAAAAEBfQAAAAAAAAFVAAAAAAAAAUEAAAAAAAIBSQAAAAAAAAFhAAAAAAAAAW0AAAAAAAMBjQAAAAAAAQFdAAAAAAADAVkAAAAAAAABTQAAAAAAAAGBAAAAAAAAAXEAAAAAAAMBkQAAAAAAAwGBAAAAAAABAXkAAAAAAAMBeQAAAAAAAoGlAAAAAAADAW0AAAAAAAIBsQAAAAAAAoGhAAAAAAADgaUAAAAAAAIBnQAAAAAAAYHZAAAAAAADAYkAAAAAAACBtQAAAAAAAQG9AAAAAAACgbEAAAAAAAIBrQAAAAAAA4HtAAAAAAAAAaEAAAAAAALBxQAAAAAAAoHBAAAAAAABAcUAAAAAAACBuQAAAAAAAIIFAAAAAAADAakAAAAAAAPBwQAAAAAAA0HNAAAAAAADQdEAAAAAAACByQAAAAAAAOIFAAAAAAADAXEAAAAAAAKBrQAAAAAAAoG9AAAAAAADgbkAAAAAAAABsQAAAAAAAIHxAAAAAAAAAV0AAAAAAAMBiQAAAAAAAoGRAAAAAAACgZUAAAAAAAMBjQAAAAAAAUHZA",
          "dtype": "f8"
         },
         "yaxis": "y"
        },
        {
         "alignmentgroup": "True",
         "hoverinfo": "skip",
         "legendgroup": "Samhällsbyggnad och byggteknik",
         "marker": {
          "color": "lightgray",
          "pattern": {
           "shape": ""
          }
         },
         "name": "Samhällsbyggnad och byggteknik",
         "offsetgroup": "Samhällsbyggnad och byggteknik",
         "orientation": "v",
         "showlegend": true,
         "textposition": "auto",
         "type": "bar",
         "x": {
          "bdata": "1QfVB9UH1QfVB9UH1gfWB9YH1gfWB9YH1wfXB9cH1wfXB9cH2AfYB9gH2AfYB9gH2QfZB9kH2QfZB9kH2gfaB9oH2gfaB9oH2wfbB9sH2wfbB9sH3AfcB9wH3AfcB9wH3QfdB90H3QfdB90H3gfeB94H3gfeB94H3wffB98H3wffB98H4AfgB+AH4AfgB+AH4QfhB+EH4QfhB+EH4gfiB+IH4gfiB+IH4wfjB+MH4wfjB+MH5AfkB+QH5AfkB+QH5QflB+UH5QflB+UH5gfmB+YH5gfmB+YH5wfnB+cH5wfnB+cH6AfoB+gH6AfoB+gH",
          "dtype": "i2"
         },
         "xaxis": "x",
         "y": {
          "bdata": "AAAAAACAfkAAAAAAAMBxQAAAAAAAgGdAAAAAAAAAZ0AAAAAAAABgQAAAAAAAoGBAAAAAAABAiEAAAAAAAFB4QAAAAAAAAG1AAAAAAABgakAAAAAAACBmQAAAAAAAIGRAAAAAAAAYjUAAAAAAAIiAQAAAAAAAQHNAAAAAAAAAa0AAAAAAAMBqQAAAAAAAwGdAAAAAAACAjkAAAAAAANiEQAAAAAAA8HJAAAAAAADgcEAAAAAAAEBqQAAAAAAA4GpAAAAAAAC4kUAAAAAAAECJQAAAAAAA4HhAAAAAAADQdEAAAAAAABBwQAAAAAAAoG9AAAAAAABAk0AAAAAAADiMQAAAAAAA4H5AAAAAAABwdkAAAAAAACBxQAAAAAAAYHFAAAAAAAB0lUAAAAAAAGiQQAAAAAAAcIJAAAAAAADQdUAAAAAAAKBxQAAAAAAAIHFAAAAAAAD0lkAAAAAAANyRQAAAAAAAsIRAAAAAAADgeUAAAAAAAMB0QAAAAAAAcHVAAAAAAABIlkAAAAAAAPSUQAAAAAAAeIZAAAAAAABQfkAAAAAAAPB3QAAAAAAAUHhAAAAAAADEk0AAAAAAABiXQAAAAAAAIIpAAAAAAABwgUAAAAAAAEB6QAAAAAAAwHlAAAAAAAAQk0AAAAAAABiaQAAAAAAAcI9AAAAAAACwhEAAAAAAAGB/QAAAAAAAQHxAAAAAAACAkkAAAAAAANybQAAAAAAAfJJAAAAAAACIiEAAAAAAAOCBQAAAAAAAeIFAAAAAAAAMlEAAAAAAAFCfQAAAAAAAaJVAAAAAAAB4i0AAAAAAAPiCQAAAAAAAgIVAAAAAAAAYmEAAAAAAAKqgQAAAAAAAJJdAAAAAAADYj0AAAAAAAMCDQAAAAAAAuIZAAAAAAAB4nUAAAAAAACikQAAAAAAAZJtAAAAAAACEkkAAAAAAAFCHQAAAAAAAKItAAAAAAACsokAAAAAAALyoQAAAAAAAgKJAAAAAAADkl0AAAAAAAHiPQAAAAAAA/JBAAAAAAADIo0AAAAAAAAqqQAAAAAAALKVAAAAAAADwm0AAAAAAAPiRQAAAAAAAPJNAAAAAAACapEAAAAAAAEKoQAAAAAAAdKZAAAAAAABQnUAAAAAAAHSTQAAAAAAAVJRAAAAAAABmpEAAAAAAADylQAAAAAAAYqVAAAAAAACsnUAAAAAAAMySQAAAAAAAxJVAAAAAAACapUAAAAAAAOylQAAAAAAA6qRAAAAAAAAKoEAAAAAAAKiTQAAAAAAAiJhA",
          "dtype": "f8"
         },
         "yaxis": "y"
        },
        {
         "alignmentgroup": "True",
         "hoverinfo": "skip",
         "legendgroup": "Säkerhetstjänster",
         "marker": {
          "color": "lightgray",
          "pattern": {
           "shape": ""
          }
         },
         "name": "Säkerhetstjänster",
         "offsetgroup": "Säkerhetstjänster",
         "orientation": "v",
         "showlegend": true,
         "textposition": "auto",
         "type": "bar",
         "x": {
          "bdata": "1QfVB9UH1QfVB9UH1gfWB9YH1gfWB9YH1wfXB9cH1wfXB9cH2AfYB9gH2AfYB9gH2QfZB9kH2QfZB9kH2gfaB9oH2gfaB9oH2wfbB9sH2wfbB9sH3AfcB9wH3AfcB9wH3QfdB90H3QfdB90H3gfeB94H3gfeB94H3wffB98H3wffB98H4AfgB+AH4AfgB+AH4QfhB+EH4QfhB+EH4gfiB+IH4gfiB+IH4wfjB+MH4wfjB+MH5AfkB+QH5AfkB+QH5QflB+UH5QflB+UH5gfmB+YH5gfmB+YH5wfnB+cH5wfnB+cH6AfoB+gH6AfoB+gH",
          "dtype": "i2"
         },
         "xaxis": "x",
         "y": {
          "bdata": "AAAAAADAXEAAAAAAAIBOQAAAAAAAAEZAAAAAAAAAOUAAAAAAAAAgQAAAAAAAACxAAAAAAABAZUAAAAAAAABcQAAAAAAAQFBAAAAAAAAAQkAAAAAAAAAyQAAAAAAAADhAAAAAAADAZ0AAAAAAAGBlQAAAAAAAgFNAAAAAAACATUAAAAAAAABEQAAAAAAAADtAAAAAAAAgakAAAAAAAGBnQAAAAAAAQFdAAAAAAAAAUUAAAAAAAABFQAAAAAAAADtAAAAAAADgZUAAAAAAAABnQAAAAAAAAFZAAAAAAABAVUAAAAAAAABMQAAAAAAAgERAAAAAAADAXEAAAAAAAEBlQAAAAAAAAFhAAAAAAAAAUkAAAAAAAABJQAAAAAAAgERAAAAAAABAWUAAAAAAACBiQAAAAAAAAFVAAAAAAACASEAAAAAAAIBEQAAAAAAAgENAAAAAAAAAV0AAAAAAAIBfQAAAAAAAAE9AAAAAAACAQUAAAAAAAAA5QAAAAAAAAD5AAAAAAADAUUAAAAAAAEBaQAAAAAAAAE1AAAAAAACAQkAAAAAAAAA+QAAAAAAAgEFAAAAAAACARUAAAAAAAMBUQAAAAAAAQFJAAAAAAACATEAAAAAAAIBIQAAAAAAAgEZAAAAAAAAAM0AAAAAAAEBQQAAAAAAAwFdAAAAAAADAUEAAAAAAAABPQAAAAAAAgFFAAAAAAAAAKEAAAAAAAABTQAAAAAAAAFJAAAAAAADAUkAAAAAAAABPQAAAAAAAgFNAAAAAAAAAKEAAAAAAAIBKQAAAAAAAgElAAAAAAAAATUAAAAAAAABEQAAAAAAAgE5AAAAAAAAAM0AAAAAAAABRQAAAAAAAgElAAAAAAACARkAAAAAAAIBCQAAAAAAAAFBAAAAAAAAANkAAAAAAAIBaQAAAAAAAgFFAAAAAAADAUUAAAAAAAIBNQAAAAAAAAFRAAAAAAACAQUAAAAAAAABZQAAAAAAAAFpAAAAAAACAWkAAAAAAAABYQAAAAAAAQGFAAAAAAACAREAAAAAAAMBXQAAAAAAAwFpAAAAAAAAAXkAAAAAAAIBWQAAAAAAAoGFAAAAAAACARkAAAAAAAIBfQAAAAAAAAGNAAAAAAACgY0AAAAAAAMBbQAAAAAAAgGVAAAAAAACASkAAAAAAAABeQAAAAAAAoGZAAAAAAABgZ0AAAAAAAIBdQAAAAAAAwGVAAAAAAACAT0AAAAAAAIBeQAAAAAAAgGRAAAAAAACAZ0AAAAAAAEBcQAAAAAAAgGZA",
          "dtype": "f8"
         },
         "yaxis": "y"
        },
        {
         "alignmentgroup": "True",
         "hoverinfo": "skip",
         "legendgroup": "Teknik och tillverkning",
         "marker": {
          "color": "lightgray",
          "pattern": {
           "shape": ""
          }
         },
         "name": "Teknik och tillverkning",
         "offsetgroup": "Teknik och tillverkning",
         "orientation": "v",
         "showlegend": true,
         "textposition": "auto",
         "type": "bar",
         "x": {
          "bdata": "1QfVB9UH1QfVB9UH1gfWB9YH1gfWB9YH1wfXB9cH1wfXB9cH2AfYB9gH2AfYB9gH2QfZB9kH2QfZB9kH2gfaB9oH2gfaB9oH2wfbB9sH2wfbB9sH3AfcB9wH3AfcB9wH3QfdB90H3QfdB90H3gfeB94H3gfeB94H3wffB98H3wffB98H4AfgB+AH4AfgB+AH4QfhB+EH4QfhB+EH4gfiB+IH4gfiB+IH4wfjB+MH4wfjB+MH5AfkB+QH5AfkB+QH5QflB+UH5QflB+UH5gfmB+YH5gfmB+YH5wfnB+cH5wfnB+cH6AfoB+gH6AfoB+gH",
          "dtype": "i2"
         },
         "xaxis": "x",
         "y": {
          "bdata": "AAAAAAAwnEAAAAAAAFCGQAAAAAAAAH9AAAAAAADweUAAAAAAABBzQAAAAAAAQGdAAAAAAABkoEAAAAAAAJiIQAAAAAAACIBAAAAAAAAQeUAAAAAAAMByQAAAAAAAYGpAAAAAAAC2okAAAAAAAHiOQAAAAAAAkIBAAAAAAAAQe0AAAAAAAKB1QAAAAAAAIG9AAAAAAAACpUAAAAAAAGyRQAAAAAAA6IJAAAAAAADgfUAAAAAAAIB2QAAAAAAAwHNAAAAAAABGqEAAAAAAAMiUQAAAAAAASIdAAAAAAADogEAAAAAAABB6QAAAAAAAMHdAAAAAAAAaq0AAAAAAAMiWQAAAAAAAmIdAAAAAAAAAg0AAAAAAAJB8QAAAAAAAsHhAAAAAAABkq0AAAAAAACCYQAAAAAAAeIlAAAAAAABAhEAAAAAAADB5QAAAAAAAIHpAAAAAAAAaqUAAAAAAADSXQAAAAAAAYIhAAAAAAAA4gUAAAAAAALB2QAAAAAAAMHVAAAAAAAAoqEAAAAAAAPiZQAAAAAAASItAAAAAAAAQgkAAAAAAALB3QAAAAAAAQHxAAAAAAABkp0AAAAAAAGyaQAAAAAAAAJBAAAAAAAAQhEAAAAAAALB5QAAAAAAAsIFAAAAAAACEpUAAAAAAAGibQAAAAAAAkJBAAAAAAACohkAAAAAAAIB9QAAAAAAAcINAAAAAAACyo0AAAAAAAFycQAAAAAAA/JBAAAAAAAAQh0AAAAAAADB+QAAAAAAAOINAAAAAAADioUAAAAAAADicQAAAAAAARJFAAAAAAABIh0AAAAAAADB/QAAAAAAAMINAAAAAAAAWoUAAAAAAAIyaQAAAAAAANJJAAAAAAAAgh0AAAAAAAHB9QAAAAAAACIJAAAAAAACqoUAAAAAAAHCeQAAAAAAA9JRAAAAAAADIi0AAAAAAACCDQAAAAAAAQIZAAAAAAAC2pUAAAAAAAJKjQAAAAAAArJpAAAAAAAAQkkAAAAAAABCJQAAAAAAAsI5AAAAAAABKqEAAAAAAAKKkQAAAAAAAHKBAAAAAAABMlUAAAAAAAAiOQAAAAAAA3JFAAAAAAABcqEAAAAAAAOijQAAAAAAARqBAAAAAAADElUAAAAAAADCNQAAAAAAARJNAAAAAAADgqEAAAAAAAAikQAAAAAAAnqBAAAAAAACQlkAAAAAAAByQQAAAAAAAPJVAAAAAAAAcrEAAAAAAABSmQAAAAAAA9qJAAAAAAACgmUAAAAAAAPiSQAAAAAAAxJdA",
          "dtype": "f8"
         },
         "yaxis": "y"
        },
        {
         "alignmentgroup": "True",
         "hoverinfo": "skip",
         "legendgroup": "Transporttjänster",
         "marker": {
          "color": "lightgray",
          "pattern": {
           "shape": ""
          }
         },
         "name": "Transporttjänster",
         "offsetgroup": "Transporttjänster",
         "orientation": "v",
         "showlegend": true,
         "textposition": "auto",
         "type": "bar",
         "x": {
          "bdata": "1QfVB9UH1QfVB9UH1gfWB9YH1gfWB9YH1wfXB9cH1wfXB9cH2AfYB9gH2AfYB9gH2QfZB9kH2QfZB9kH2gfaB9oH2gfaB9oH2wfbB9sH2wfbB9sH3AfcB9wH3AfcB9wH3QfdB90H3QfdB90H3gfeB94H3gfeB94H3wffB98H3wffB98H4AfgB+AH4AfgB+AH4QfhB+EH4QfhB+EH4gfiB+IH4gfiB+IH4wfjB+MH4wfjB+MH5AfkB+QH5AfkB+QH5QflB+UH5QflB+UH5gfmB+YH5gfmB+YH5wfnB+cH5wfnB+cH6AfoB+gH6AfoB+gH",
          "dtype": "i2"
         },
         "xaxis": "x",
         "y": {
          "bdata": "AAAAAACAb0AAAAAAAGBkQAAAAAAAAGJAAAAAAACAXkAAAAAAAMBXQAAAAAAAAEdAAAAAAACgdUAAAAAAACBrQAAAAAAAYGhAAAAAAABAZEAAAAAAAABdQAAAAAAAwFBAAAAAAADQeEAAAAAAACBzQAAAAAAAgGxAAAAAAABgZ0AAAAAAACBhQAAAAAAAAFlAAAAAAABAfUAAAAAAAAB4QAAAAAAAIG1AAAAAAABgakAAAAAAAABlQAAAAAAAQF9AAAAAAADQfkAAAAAAAGB6QAAAAAAAgG5AAAAAAADga0AAAAAAACBmQAAAAAAAAGFAAAAAAABYgUAAAAAAAFB9QAAAAAAA8HFAAAAAAADAbUAAAAAAAKBmQAAAAAAAAGBAAAAAAABQgUAAAAAAADB+QAAAAAAA0HFAAAAAAABAbUAAAAAAAOBkQAAAAAAAQF5AAAAAAABQekAAAAAAAKB6QAAAAAAAgG1AAAAAAABgZUAAAAAAAABeQAAAAAAAQFxAAAAAAACAdEAAAAAAAEBzQAAAAAAA4GZAAAAAAADAX0AAAAAAAABVQAAAAAAAgFVAAAAAAADgcUAAAAAAAMBwQAAAAAAAoGJAAAAAAABAVkAAAAAAAEBUQAAAAAAAAFFAAAAAAABQdEAAAAAAABB2QAAAAAAAIGlAAAAAAADAYEAAAAAAAIBZQAAAAAAAwFJAAAAAAAAgeEAAAAAAAAB/QAAAAAAAIHBAAAAAAABgZEAAAAAAAABfQAAAAAAAQF1AAAAAAABAe0AAAAAAAFiBQAAAAAAAIHRAAAAAAABgbEAAAAAAAOBiQAAAAAAA4GNAAAAAAADQdkAAAAAAAPB+QAAAAAAAgHRAAAAAAABgbUAAAAAAAGBiQAAAAAAAYGZAAAAAAAAgdkAAAAAAAPB7QAAAAAAAwHRAAAAAAABAakAAAAAAAEBeQAAAAAAAIGpAAAAAAADgeEAAAAAAABB+QAAAAAAAYHRAAAAAAAAAaEAAAAAAAOBgQAAAAAAAIGxAAAAAAACAdkAAAAAAAGB6QAAAAAAA8HFAAAAAAADAZUAAAAAAAEBcQAAAAAAAIGtAAAAAAADQdkAAAAAAAKB2QAAAAAAA8HBAAAAAAAAAZEAAAAAAAEBeQAAAAAAAYGpAAAAAAACQekAAAAAAACB2QAAAAAAA4HFAAAAAAADAZ0AAAAAAAGBgQAAAAAAAAG1AAAAAAACweUAAAAAAAGB1QAAAAAAAsHJAAAAAAAAAaUAAAAAAAOBhQAAAAAAAgHJA",
          "dtype": "f8"
         },
         "yaxis": "y"
        },
        {
         "alignmentgroup": "True",
         "hoverinfo": "skip",
         "legendgroup": "Juridik",
         "marker": {
          "color": "lightgray",
          "pattern": {
           "shape": ""
          }
         },
         "name": "Juridik",
         "offsetgroup": "Juridik",
         "orientation": "v",
         "showlegend": true,
         "textposition": "auto",
         "type": "bar",
         "x": {
          "bdata": "1gfWB9YH1gfWB9YH1wfXB9cH1wfXB9cH2AfYB9gH2AfYB9gH2QfZB9kH2QfZB9kH2gfaB9oH2gfaB9oH2wfbB9sH2wfbB9sH3AfcB9wH3AfcB9wH3QfdB90H3QfdB90H3gfeB94H3gfeB94H3wffB98H3wffB98H4AfgB+AH4AfgB+AH4QfhB+EH4QfhB+EH4gfiB+IH4gfiB+IH4wfjB+MH4wfjB+MH5AfkB+QH5AfkB+QH5QflB+UH5QflB+UH5gfmB+YH5gfmB+YH5wfnB+cH5wfnB+cH6AfoB+gH6AfoB+gH",
          "dtype": "i2"
         },
         "xaxis": "x",
         "y": {
          "bdata": "AAAAAAAAOkAAAAAAAAAqQAAAAAAAABhAAAAAAAAAHEAAAAAAAAAIQAAAAAAAABhAAAAAAACARUAAAAAAAABBQAAAAAAAADJAAAAAAAAAJkAAAAAAAAAkQAAAAAAAABhAAAAAAACARUAAAAAAAABJQAAAAAAAAD9AAAAAAAAALEAAAAAAAAAsQAAAAAAAABRAAAAAAACAQUAAAAAAAIBQQAAAAAAAADxAAAAAAAAAM0AAAAAAAAAqQAAAAAAAABhAAAAAAACAREAAAAAAAABLQAAAAAAAAD5AAAAAAAAAOEAAAAAAAAAwQAAAAAAAACBAAAAAAAAASUAAAAAAAABKQAAAAAAAAD1AAAAAAAAAOkAAAAAAAAAmQAAAAAAAABxAAAAAAAAAUEAAAAAAAMBQQAAAAAAAAE1AAAAAAAAAOkAAAAAAAAA2QAAAAAAAABRAAAAAAACATEAAAAAAAEBYQAAAAAAAQFBAAAAAAAAAQEAAAAAAAAAzQAAAAAAAACRAAAAAAAAAQkAAAAAAAMBYQAAAAAAAAFNAAAAAAAAAQkAAAAAAAAA0QAAAAAAAADFAAAAAAAAAR0AAAAAAAIBaQAAAAAAAAFJAAAAAAACAQkAAAAAAAAA/QAAAAAAAADFAAAAAAACAS0AAAAAAAMBYQAAAAAAAwFNAAAAAAACARUAAAAAAAABBQAAAAAAAADpAAAAAAAAAUEAAAAAAAABgQAAAAAAAgFZAAAAAAACARkAAAAAAAIBEQAAAAAAAAEZAAAAAAABAWEAAAAAAAMBcQAAAAAAAgFZAAAAAAACAS0AAAAAAAABIQAAAAAAAgEBAAAAAAACAX0AAAAAAAABaQAAAAAAAAFdAAAAAAAAARUAAAAAAAABMQAAAAAAAAD9AAAAAAABgYkAAAAAAAIBdQAAAAAAAgFRAAAAAAAAASUAAAAAAAABFQAAAAAAAgEZAAAAAAAAgYUAAAAAAAABaQAAAAAAAAFVAAAAAAAAATUAAAAAAAABDQAAAAAAAwFBAAAAAAACAW0AAAAAAAMBVQAAAAAAAgFJAAAAAAACASEAAAAAAAABBQAAAAAAAAE9AAAAAAABAWkAAAAAAAABTQAAAAAAAgEtAAAAAAACAQ0AAAAAAAAA9QAAAAAAAAEVAAAAAAADAWUAAAAAAAIBVQAAAAAAAgElAAAAAAACAQkAAAAAAAAA/QAAAAAAAAENA",
          "dtype": "f8"
         },
         "yaxis": "y"
        }
       ],
       "layout": {
        "annotations": [
         {
          "arrowcolor": "royalblue",
          "arrowhead": 3,
          "ax": 0,
          "ay": 60,
          "bgcolor": "white",
          "bordercolor": "royalblue",
          "borderwidth": 1,
          "font": {
           "color": "royalblue",
           "family": "Arial",
           "size": 13
          },
          "showarrow": true,
          "text": " Tillväxtmöjlighet",
          "x": 2024,
          "y": 4227
         }
        ],
        "barmode": "group",
        "hovermode": false,
        "legend": {
         "title": {
          "text": "Utbildningsinriktning"
         },
         "tracegroupgap": 0
        },
        "paper_bgcolor": "white",
        "plot_bgcolor": "white",
        "showlegend": true,
        "template": {
         "data": {
          "bar": [
           {
            "error_x": {
             "color": "#2a3f5f"
            },
            "error_y": {
             "color": "#2a3f5f"
            },
            "marker": {
             "line": {
              "color": "#E5ECF6",
              "width": 0.5
             },
             "pattern": {
              "fillmode": "overlay",
              "size": 10,
              "solidity": 0.2
             }
            },
            "type": "bar"
           }
          ],
          "barpolar": [
           {
            "marker": {
             "line": {
              "color": "#E5ECF6",
              "width": 0.5
             },
             "pattern": {
              "fillmode": "overlay",
              "size": 10,
              "solidity": 0.2
             }
            },
            "type": "barpolar"
           }
          ],
          "carpet": [
           {
            "aaxis": {
             "endlinecolor": "#2a3f5f",
             "gridcolor": "white",
             "linecolor": "white",
             "minorgridcolor": "white",
             "startlinecolor": "#2a3f5f"
            },
            "baxis": {
             "endlinecolor": "#2a3f5f",
             "gridcolor": "white",
             "linecolor": "white",
             "minorgridcolor": "white",
             "startlinecolor": "#2a3f5f"
            },
            "type": "carpet"
           }
          ],
          "choropleth": [
           {
            "colorbar": {
             "outlinewidth": 0,
             "ticks": ""
            },
            "type": "choropleth"
           }
          ],
          "contour": [
           {
            "colorbar": {
             "outlinewidth": 0,
             "ticks": ""
            },
            "colorscale": [
             [
              0,
              "#0d0887"
             ],
             [
              0.1111111111111111,
              "#46039f"
             ],
             [
              0.2222222222222222,
              "#7201a8"
             ],
             [
              0.3333333333333333,
              "#9c179e"
             ],
             [
              0.4444444444444444,
              "#bd3786"
             ],
             [
              0.5555555555555556,
              "#d8576b"
             ],
             [
              0.6666666666666666,
              "#ed7953"
             ],
             [
              0.7777777777777778,
              "#fb9f3a"
             ],
             [
              0.8888888888888888,
              "#fdca26"
             ],
             [
              1,
              "#f0f921"
             ]
            ],
            "type": "contour"
           }
          ],
          "contourcarpet": [
           {
            "colorbar": {
             "outlinewidth": 0,
             "ticks": ""
            },
            "type": "contourcarpet"
           }
          ],
          "heatmap": [
           {
            "colorbar": {
             "outlinewidth": 0,
             "ticks": ""
            },
            "colorscale": [
             [
              0,
              "#0d0887"
             ],
             [
              0.1111111111111111,
              "#46039f"
             ],
             [
              0.2222222222222222,
              "#7201a8"
             ],
             [
              0.3333333333333333,
              "#9c179e"
             ],
             [
              0.4444444444444444,
              "#bd3786"
             ],
             [
              0.5555555555555556,
              "#d8576b"
             ],
             [
              0.6666666666666666,
              "#ed7953"
             ],
             [
              0.7777777777777778,
              "#fb9f3a"
             ],
             [
              0.8888888888888888,
              "#fdca26"
             ],
             [
              1,
              "#f0f921"
             ]
            ],
            "type": "heatmap"
           }
          ],
          "histogram": [
           {
            "marker": {
             "pattern": {
              "fillmode": "overlay",
              "size": 10,
              "solidity": 0.2
             }
            },
            "type": "histogram"
           }
          ],
          "histogram2d": [
           {
            "colorbar": {
             "outlinewidth": 0,
             "ticks": ""
            },
            "colorscale": [
             [
              0,
              "#0d0887"
             ],
             [
              0.1111111111111111,
              "#46039f"
             ],
             [
              0.2222222222222222,
              "#7201a8"
             ],
             [
              0.3333333333333333,
              "#9c179e"
             ],
             [
              0.4444444444444444,
              "#bd3786"
             ],
             [
              0.5555555555555556,
              "#d8576b"
             ],
             [
              0.6666666666666666,
              "#ed7953"
             ],
             [
              0.7777777777777778,
              "#fb9f3a"
             ],
             [
              0.8888888888888888,
              "#fdca26"
             ],
             [
              1,
              "#f0f921"
             ]
            ],
            "type": "histogram2d"
           }
          ],
          "histogram2dcontour": [
           {
            "colorbar": {
             "outlinewidth": 0,
             "ticks": ""
            },
            "colorscale": [
             [
              0,
              "#0d0887"
             ],
             [
              0.1111111111111111,
              "#46039f"
             ],
             [
              0.2222222222222222,
              "#7201a8"
             ],
             [
              0.3333333333333333,
              "#9c179e"
             ],
             [
              0.4444444444444444,
              "#bd3786"
             ],
             [
              0.5555555555555556,
              "#d8576b"
             ],
             [
              0.6666666666666666,
              "#ed7953"
             ],
             [
              0.7777777777777778,
              "#fb9f3a"
             ],
             [
              0.8888888888888888,
              "#fdca26"
             ],
             [
              1,
              "#f0f921"
             ]
            ],
            "type": "histogram2dcontour"
           }
          ],
          "mesh3d": [
           {
            "colorbar": {
             "outlinewidth": 0,
             "ticks": ""
            },
            "type": "mesh3d"
           }
          ],
          "parcoords": [
           {
            "line": {
             "colorbar": {
              "outlinewidth": 0,
              "ticks": ""
             }
            },
            "type": "parcoords"
           }
          ],
          "pie": [
           {
            "automargin": true,
            "type": "pie"
           }
          ],
          "scatter": [
           {
            "fillpattern": {
             "fillmode": "overlay",
             "size": 10,
             "solidity": 0.2
            },
            "type": "scatter"
           }
          ],
          "scatter3d": [
           {
            "line": {
             "colorbar": {
              "outlinewidth": 0,
              "ticks": ""
             }
            },
            "marker": {
             "colorbar": {
              "outlinewidth": 0,
              "ticks": ""
             }
            },
            "type": "scatter3d"
           }
          ],
          "scattercarpet": [
           {
            "marker": {
             "colorbar": {
              "outlinewidth": 0,
              "ticks": ""
             }
            },
            "type": "scattercarpet"
           }
          ],
          "scattergeo": [
           {
            "marker": {
             "colorbar": {
              "outlinewidth": 0,
              "ticks": ""
             }
            },
            "type": "scattergeo"
           }
          ],
          "scattergl": [
           {
            "marker": {
             "colorbar": {
              "outlinewidth": 0,
              "ticks": ""
             }
            },
            "type": "scattergl"
           }
          ],
          "scattermap": [
           {
            "marker": {
             "colorbar": {
              "outlinewidth": 0,
              "ticks": ""
             }
            },
            "type": "scattermap"
           }
          ],
          "scattermapbox": [
           {
            "marker": {
             "colorbar": {
              "outlinewidth": 0,
              "ticks": ""
             }
            },
            "type": "scattermapbox"
           }
          ],
          "scatterpolar": [
           {
            "marker": {
             "colorbar": {
              "outlinewidth": 0,
              "ticks": ""
             }
            },
            "type": "scatterpolar"
           }
          ],
          "scatterpolargl": [
           {
            "marker": {
             "colorbar": {
              "outlinewidth": 0,
              "ticks": ""
             }
            },
            "type": "scatterpolargl"
           }
          ],
          "scatterternary": [
           {
            "marker": {
             "colorbar": {
              "outlinewidth": 0,
              "ticks": ""
             }
            },
            "type": "scatterternary"
           }
          ],
          "surface": [
           {
            "colorbar": {
             "outlinewidth": 0,
             "ticks": ""
            },
            "colorscale": [
             [
              0,
              "#0d0887"
             ],
             [
              0.1111111111111111,
              "#46039f"
             ],
             [
              0.2222222222222222,
              "#7201a8"
             ],
             [
              0.3333333333333333,
              "#9c179e"
             ],
             [
              0.4444444444444444,
              "#bd3786"
             ],
             [
              0.5555555555555556,
              "#d8576b"
             ],
             [
              0.6666666666666666,
              "#ed7953"
             ],
             [
              0.7777777777777778,
              "#fb9f3a"
             ],
             [
              0.8888888888888888,
              "#fdca26"
             ],
             [
              1,
              "#f0f921"
             ]
            ],
            "type": "surface"
           }
          ],
          "table": [
           {
            "cells": {
             "fill": {
              "color": "#EBF0F8"
             },
             "line": {
              "color": "white"
             }
            },
            "header": {
             "fill": {
              "color": "#C8D4E3"
             },
             "line": {
              "color": "white"
             }
            },
            "type": "table"
           }
          ]
         },
         "layout": {
          "annotationdefaults": {
           "arrowcolor": "#2a3f5f",
           "arrowhead": 0,
           "arrowwidth": 1
          },
          "autotypenumbers": "strict",
          "coloraxis": {
           "colorbar": {
            "outlinewidth": 0,
            "ticks": ""
           }
          },
          "colorscale": {
           "diverging": [
            [
             0,
             "#8e0152"
            ],
            [
             0.1,
             "#c51b7d"
            ],
            [
             0.2,
             "#de77ae"
            ],
            [
             0.3,
             "#f1b6da"
            ],
            [
             0.4,
             "#fde0ef"
            ],
            [
             0.5,
             "#f7f7f7"
            ],
            [
             0.6,
             "#e6f5d0"
            ],
            [
             0.7,
             "#b8e186"
            ],
            [
             0.8,
             "#7fbc41"
            ],
            [
             0.9,
             "#4d9221"
            ],
            [
             1,
             "#276419"
            ]
           ],
           "sequential": [
            [
             0,
             "#0d0887"
            ],
            [
             0.1111111111111111,
             "#46039f"
            ],
            [
             0.2222222222222222,
             "#7201a8"
            ],
            [
             0.3333333333333333,
             "#9c179e"
            ],
            [
             0.4444444444444444,
             "#bd3786"
            ],
            [
             0.5555555555555556,
             "#d8576b"
            ],
            [
             0.6666666666666666,
             "#ed7953"
            ],
            [
             0.7777777777777778,
             "#fb9f3a"
            ],
            [
             0.8888888888888888,
             "#fdca26"
            ],
            [
             1,
             "#f0f921"
            ]
           ],
           "sequentialminus": [
            [
             0,
             "#0d0887"
            ],
            [
             0.1111111111111111,
             "#46039f"
            ],
            [
             0.2222222222222222,
             "#7201a8"
            ],
            [
             0.3333333333333333,
             "#9c179e"
            ],
            [
             0.4444444444444444,
             "#bd3786"
            ],
            [
             0.5555555555555556,
             "#d8576b"
            ],
            [
             0.6666666666666666,
             "#ed7953"
            ],
            [
             0.7777777777777778,
             "#fb9f3a"
            ],
            [
             0.8888888888888888,
             "#fdca26"
            ],
            [
             1,
             "#f0f921"
            ]
           ]
          },
          "colorway": [
           "#636efa",
           "#EF553B",
           "#00cc96",
           "#ab63fa",
           "#FFA15A",
           "#19d3f3",
           "#FF6692",
           "#B6E880",
           "#FF97FF",
           "#FECB52"
          ],
          "font": {
           "color": "#2a3f5f"
          },
          "geo": {
           "bgcolor": "white",
           "lakecolor": "white",
           "landcolor": "#E5ECF6",
           "showlakes": true,
           "showland": true,
           "subunitcolor": "white"
          },
          "hoverlabel": {
           "align": "left"
          },
          "hovermode": "closest",
          "mapbox": {
           "style": "light"
          },
          "paper_bgcolor": "white",
          "plot_bgcolor": "#E5ECF6",
          "polar": {
           "angularaxis": {
            "gridcolor": "white",
            "linecolor": "white",
            "ticks": ""
           },
           "bgcolor": "#E5ECF6",
           "radialaxis": {
            "gridcolor": "white",
            "linecolor": "white",
            "ticks": ""
           }
          },
          "scene": {
           "xaxis": {
            "backgroundcolor": "#E5ECF6",
            "gridcolor": "white",
            "gridwidth": 2,
            "linecolor": "white",
            "showbackground": true,
            "ticks": "",
            "zerolinecolor": "white"
           },
           "yaxis": {
            "backgroundcolor": "#E5ECF6",
            "gridcolor": "white",
            "gridwidth": 2,
            "linecolor": "white",
            "showbackground": true,
            "ticks": "",
            "zerolinecolor": "white"
           },
           "zaxis": {
            "backgroundcolor": "#E5ECF6",
            "gridcolor": "white",
            "gridwidth": 2,
            "linecolor": "white",
            "showbackground": true,
            "ticks": "",
            "zerolinecolor": "white"
           }
          },
          "shapedefaults": {
           "line": {
            "color": "#2a3f5f"
           }
          },
          "ternary": {
           "aaxis": {
            "gridcolor": "white",
            "linecolor": "white",
            "ticks": ""
           },
           "baxis": {
            "gridcolor": "white",
            "linecolor": "white",
            "ticks": ""
           },
           "bgcolor": "#E5ECF6",
           "caxis": {
            "gridcolor": "white",
            "linecolor": "white",
            "ticks": ""
           }
          },
          "title": {
           "x": 0.05
          },
          "xaxis": {
           "automargin": true,
           "gridcolor": "white",
           "linecolor": "white",
           "ticks": "",
           "title": {
            "standoff": 15
           },
           "zerolinecolor": "white",
           "zerolinewidth": 2
          },
          "yaxis": {
           "automargin": true,
           "gridcolor": "white",
           "linecolor": "white",
           "ticks": "",
           "title": {
            "standoff": 15
           },
           "zerolinecolor": "white",
           "zerolinewidth": 2
          }
         }
        },
        "title": {
         "text": "Investera i framtiden: Ekonomi och administration växer snabbt bland YH-studenter"
        },
        "xaxis": {
         "anchor": "y",
         "domain": [
          0,
          1
         ],
         "tickangle": 0,
         "title": {
          "text": "År"
         }
        },
        "yaxis": {
         "anchor": "x",
         "domain": [
          0,
          1
         ],
         "title": {
          "text": "Antal studerande"
         }
        }
       }
      }
     },
     "metadata": {},
     "output_type": "display_data"
    }
   ],
   "source": [
    "import plotly.express as px\n",
    "import plotly.graph_objects as go\n",
    "\n",
    "# Fokusområde\n",
    "highlight_area = \"Ekonomi, administration och försäljning\"\n",
    "\n",
    "# Skapa basfiguren\n",
    "fig = px.bar(\n",
    "    df_long,\n",
    "    x=\"År\",\n",
    "    y=\"Antal studerande\",\n",
    "    color=\"Utbildningsinriktning\",\n",
    "    title=\"Investera i framtiden: Ekonomi och administration växer snabbt bland YH-studenter\",\n",
    "    labels={\"Antal studerande\": \"Antal studerande\", \"År\": \"År\"},\n",
    "    barmode='group'\n",
    ")\n",
    "\n",
    "# Gör färger statiska med manuell färgsättning (grå för alla, blå för highlight)\n",
    "utbildningsområden = df_long[\"Utbildningsinriktning\"].unique()\n",
    "colors = {\n",
    "    area: \"lightgray\" if area != highlight_area else \"royalblue\"\n",
    "    for area in utbildningsområden\n",
    "}\n",
    "fig.for_each_trace(\n",
    "    lambda trace: trace.update(marker_color=colors.get(trace.name, \"lightgray\"))\n",
    ")\n",
    "\n",
    "# Ta fram sista året och dess värde för pilen\n",
    "latest_year = df_long[\"År\"].max()\n",
    "highlight_data = df_long[\n",
    "    (df_long[\"Utbildningsinriktning\"] == highlight_area) & (df_long[\"År\"] == latest_year)\n",
    "]\n",
    "\n",
    "if not highlight_data.empty:\n",
    "    y_value = highlight_data[\"Antal studerande\"].values[0]\n",
    "    fig.add_annotation(\n",
    "        x=latest_year,\n",
    "        y=y_value,\n",
    "        text=\" Tillväxtmöjlighet\",\n",
    "        showarrow=True,\n",
    "        arrowhead=3,\n",
    "        arrowcolor=\"royalblue\",\n",
    "        ax=0,\n",
    "        ay=60,\n",
    "        font=dict(color=\"royalblue\", size=13, family=\"Arial\"),\n",
    "        bgcolor=\"white\",\n",
    "        bordercolor=\"royalblue\",\n",
    "        borderwidth=1\n",
    "    )\n",
    "\n",
    "# Anpassa layout för storytelling\n",
    "fig.update_layout(\n",
    "    xaxis=dict(tickangle=0),\n",
    "    legend_title_text=\"Utbildningsinriktning\",\n",
    "    plot_bgcolor=\"white\",\n",
    "    paper_bgcolor=\"white\",\n",
    "    showlegend=True,\n",
    "    hovermode=False  # Gör grafen mindre interaktiv\n",
    ")\n",
    "\n",
    "# Ta bort hovereffekter (gör den statisk)\n",
    "fig.update_traces(hoverinfo=\"skip\", hovertemplate=None)\n",
    "\n",
    "# Spara figuren som en större PNG-bild\n",
    "fig.write_image(\"assets/figures/education_storytelling.png\", width=1920, height=1080, scale=2)\n",
    "\n",
    "fig.show()\n"
   ]
  },
  {
   "cell_type": "code",
   "execution_count": 192,
   "id": "ba6f1a0a",
   "metadata": {},
   "outputs": [
    {
     "data": {
      "application/vnd.plotly.v1+json": {
       "config": {
        "plotlyServerURL": "https://plot.ly"
       },
       "data": [
        {
         "alignmentgroup": "True",
         "hoverinfo": "skip",
         "legendgroup": "Data/It",
         "marker": {
          "color": "lightgray",
          "pattern": {
           "shape": ""
          }
         },
         "name": "Data/It",
         "offsetgroup": "Data/It",
         "orientation": "v",
         "showlegend": true,
         "textposition": "auto",
         "type": "bar",
         "x": {
          "bdata": "1QfVB9UH1QfVB9UH1gfWB9YH1gfWB9YH1wfXB9cH1wfXB9cH2AfYB9gH2AfYB9gH2QfZB9kH2QfZB9kH2gfaB9oH2gfaB9oH2wfbB9sH2wfbB9sH3AfcB9wH3AfcB9wH3QfdB90H3QfdB90H3gfeB94H3gfeB94H3wffB98H3wffB98H4AfgB+AH4AfgB+AH4QfhB+EH4QfhB+EH4gfiB+IH4gfiB+IH4wfjB+MH4wfjB+MH5AfkB+QH5AfkB+QH5QflB+UH5QflB+UH5gfmB+YH5gfmB+YH5wfnB+cH5wfnB+cH6AfoB+gH6AfoB+gH",
          "dtype": "i2"
         },
         "xaxis": "x",
         "y": {
          "bdata": "AAAAAAAElEAAAAAAAECCQAAAAAAAQHNAAAAAAADAaEAAAAAAACBhQAAAAAAAwFNAAAAAAADAlEAAAAAAAGiAQAAAAAAAIHNAAAAAAACgZUAAAAAAAABdQAAAAAAAgFhAAAAAAABUlkAAAAAAADCDQAAAAAAAAHNAAAAAAADgaEAAAAAAAABhQAAAAAAAwFxAAAAAAABklUAAAAAAAIiEQAAAAAAA0HNAAAAAAABAakAAAAAAAABiQAAAAAAAAF5AAAAAAADgk0AAAAAAACCHQAAAAAAAAHZAAAAAAACAa0AAAAAAAEBiQAAAAAAAwF9AAAAAAAAIk0AAAAAAAMCHQAAAAAAAEHhAAAAAAAAAbkAAAAAAAGBjQAAAAAAAIGJAAAAAAAC8lEAAAAAAAMiJQAAAAAAAwHtAAAAAAAAQcEAAAAAAAABjQAAAAAAAYGNAAAAAAAB4lUAAAAAAABCMQAAAAAAAIH9AAAAAAAAwckAAAAAAAABlQAAAAAAAIGVAAAAAAABAl0AAAAAAAOSQQAAAAAAAyINAAAAAAACQdkAAAAAAAGBvQAAAAAAAAG5AAAAAAABMmUAAAAAAAGSVQAAAAAAAuIhAAAAAAACwfUAAAAAAAOBzQAAAAAAA0HZAAAAAAAAom0AAAAAAAPCYQAAAAAAAoI9AAAAAAADAg0AAAAAAAEB3QAAAAAAA4HxAAAAAAADsl0AAAAAAAAiaQAAAAAAADJNAAAAAAADIh0AAAAAAANB8QAAAAAAACIFAAAAAAAC4lkAAAAAAAEyaQAAAAAAAJJRAAAAAAADwiEAAAAAAAFB8QAAAAAAAqIBAAAAAAAAQlkAAAAAAAOCZQAAAAAAA+JJAAAAAAADQhUAAAAAAALB1QAAAAAAAkHdAAAAAAACsm0AAAAAAADygQAAAAAAAxJdAAAAAAABAjEAAAAAAAEB8QAAAAAAAgHZAAAAAAAAkokAAAAAAADSnQAAAAAAAvKJAAAAAAABAlUAAAAAAALiFQAAAAAAA0IBAAAAAAAC8pUAAAAAAAGKrQAAAAAAA5KdAAAAAAADMm0AAAAAAAKCOQAAAAAAAYIdAAAAAAAC2qEAAAAAAANytQAAAAAAAyKpAAAAAAAB4n0AAAAAAAPiOQAAAAAAAKIpAAAAAAAA0qkAAAAAAAJ6vQAAAAAAAZKxAAAAAAAAKoUAAAAAAAByRQAAAAAAAmIpAAAAAAAA6rEAAAAAAAMGwQAAAAAAAuK5AAAAAAACao0AAAAAAALCSQAAAAAAAYIxA",
          "dtype": "f8"
         },
         "yaxis": "y"
        },
        {
         "alignmentgroup": "True",
         "hoverinfo": "skip",
         "legendgroup": "Ekonomi, administration och försäljning",
         "marker": {
          "color": "royalblue",
          "pattern": {
           "shape": ""
          }
         },
         "name": "Ekonomi, administration och försäljning",
         "offsetgroup": "Ekonomi, administration och försäljning",
         "orientation": "v",
         "showlegend": true,
         "textposition": "auto",
         "type": "bar",
         "x": {
          "bdata": "1QfVB9UH1QfVB9UH1gfWB9YH1gfWB9YH1wfXB9cH1wfXB9cH2AfYB9gH2AfYB9gH2QfZB9kH2QfZB9kH2gfaB9oH2gfaB9oH2wfbB9sH2wfbB9sH3AfcB9wH3AfcB9wH3QfdB90H3QfdB90H3gfeB94H3gfeB94H3wffB98H3wffB98H4AfgB+AH4AfgB+AH4QfhB+EH4QfhB+EH4gfiB+IH4gfiB+IH4wfjB+MH4wfjB+MH5AfkB+QH5AfkB+QH5QflB+UH5QflB+UH5gfmB+YH5gfmB+YH5wfnB+cH5wfnB+cH6AfoB+gH6AfoB+gH",
          "dtype": "i2"
         },
         "xaxis": "x",
         "y": {
          "bdata": "AAAAAAAaoUAAAAAAAACYQAAAAAAAuIxAAAAAAADYhkAAAAAAAFCAQAAAAAAAUHVAAAAAAABmpUAAAAAAAFicQAAAAAAAfJBAAAAAAAB4jEAAAAAAADiDQAAAAAAAAHxAAAAAAADQqUAAAAAAACKgQAAAAAAAjJFAAAAAAABAj0AAAAAAAKCHQAAAAAAAcIFAAAAAAAAQrkAAAAAAAD6jQAAAAAAAGJRAAAAAAABkkUAAAAAAAACLQAAAAAAAiIVAAAAAAACAsEAAAAAAAAqmQAAAAAAAnJZAAAAAAACokkAAAAAAAHiKQAAAAAAAgIdAAAAAAAAFsUAAAAAAAPSnQAAAAAAAwJhAAAAAAABkk0AAAAAAAKiLQAAAAAAAIIhAAAAAAAB4sEAAAAAAAJSpQAAAAAAAlJpAAAAAAAAclEAAAAAAANiMQAAAAAAAUIhAAAAAAAAGr0AAAAAAAPypQAAAAAAAWJtAAAAAAAAUk0AAAAAAAGiLQAAAAAAACIlAAAAAAABWrkAAAAAAAHSrQAAAAAAAoJxAAAAAAACEk0AAAAAAAFiMQAAAAAAAIItAAAAAAADyq0AAAAAAAC6sQAAAAAAAPJ9AAAAAAADgk0AAAAAAAJiMQAAAAAAAyItAAAAAAAA8pkAAAAAAAIKsQAAAAAAAFJ9AAAAAAABIlUAAAAAAAMCMQAAAAAAAMIxAAAAAAADookAAAAAAABasQAAAAAAATqBAAAAAAACUlkAAAAAAAFiOQAAAAAAAiI9AAAAAAACsokAAAAAAAO6sQAAAAAAAFKJAAAAAAACkmEAAAAAAAPCQQAAAAAAAlJFAAAAAAAAgpkAAAAAAAA2wQAAAAAAAgKRAAAAAAACEm0AAAAAAAGiSQAAAAAAANJRAAAAAAACQq0AAAAAAAK+xQAAAAAAA8qdAAAAAAADUn0AAAAAAAKyUQAAAAAAAqJdAAAAAAAAysEAAAAAAABu0QAAAAAAAnqxAAAAAAAAYo0AAAAAAANCVQAAAAAAAfJpAAAAAAABFsEAAAAAAAHCzQAAAAAAAGK1AAAAAAADao0AAAAAAACCXQAAAAAAA2JlAAAAAAAA7sEAAAAAAAHqyQAAAAAAAAqxAAAAAAABEo0AAAAAAAOCVQAAAAAAAKJdAAAAAAAAKsEAAAAAAABKxQAAAAAAAQKtAAAAAAADiokAAAAAAAMyVQAAAAAAAqJhAAAAAAACDsEAAAAAAAGmwQAAAAAAAPKpAAAAAAACCokAAAAAAAGiWQAAAAAAA/JtA",
          "dtype": "f8"
         },
         "yaxis": "y"
        },
        {
         "alignmentgroup": "True",
         "hoverinfo": "skip",
         "legendgroup": "Friskvård och kroppsvård",
         "marker": {
          "color": "lightgray",
          "pattern": {
           "shape": ""
          }
         },
         "name": "Friskvård och kroppsvård",
         "offsetgroup": "Friskvård och kroppsvård",
         "orientation": "v",
         "showlegend": true,
         "textposition": "auto",
         "type": "bar",
         "x": {
          "bdata": "1QfVB9UH1QfVB9UH1gfWB9YH1gfWB9YH1wfXB9cH1wfXB9cH2AfYB9gH2AfYB9gH2QfZB9kH2QfZB9kH2gfaB9oH2gfaB9oH2wfbB9sH2wfbB9sH3AfcB9wH3AfcB9wH3QfdB90H3QfdB90H3gfeB94H3gfeB94H3wffB98H3wffB98H4AfgB+AH4AfgB+AH4QfhB+EH4QfhB+EH4gfiB+IH4gfiB+IH4wfjB+MH4wfjB+MH5AfkB+QH5AfkB+QH5QflB+UH5QflB+UH5gfmB+YH5gfmB+YH5wfnB+cH5wfnB+cH6AfoB+gH6AfoB+gH",
          "dtype": "i2"
         },
         "xaxis": "x",
         "y": {
          "bdata": "AAAAAAAAZUAAAAAAAIBeQAAAAAAAAExAAAAAAACASEAAAAAAAABLQAAAAAAAAEBAAAAAAADwcEAAAAAAAKBnQAAAAAAAwFVAAAAAAADAVUAAAAAAAABIQAAAAAAAAExAAAAAAABAdkAAAAAAAOBqQAAAAAAAAFdAAAAAAACAWUAAAAAAAABKQAAAAAAAgFBAAAAAAADQeUAAAAAAAABvQAAAAAAAwFdAAAAAAAAAVEAAAAAAAIBPQAAAAAAAgFdAAAAAAACweUAAAAAAAIBwQAAAAAAAwFZAAAAAAAAAVUAAAAAAAIBPQAAAAAAAAFhAAAAAAACQd0AAAAAAAEBrQAAAAAAAAFNAAAAAAACAUEAAAAAAAIBKQAAAAAAAwFBAAAAAAAAgcUAAAAAAAMBjQAAAAAAAgEpAAAAAAAAAQ0AAAAAAAABBQAAAAAAAAEFAAAAAAADgZkAAAAAAAABdQAAAAAAAADtAAAAAAAAAM0AAAAAAAAA0QAAAAAAAABhAAAAAAADAZUAAAAAAAABaQAAAAAAAgEFAAAAAAAAAM0AAAAAAAAAyQAAAAAAAACpAAAAAAACAYkAAAAAAAMBYQAAAAAAAADxAAAAAAAAAMkAAAAAAAAA1QAAAAAAAADBAAAAAAABAYUAAAAAAAABZQAAAAAAAAEdAAAAAAAAAOkAAAAAAAAAyQAAAAAAAADhAAAAAAADAWkAAAAAAAMBVQAAAAAAAgENAAAAAAAAAPkAAAAAAAAAyQAAAAAAAADZAAAAAAACAUUAAAAAAAEBXQAAAAAAAADhAAAAAAAAAMEAAAAAAAAAwQAAAAAAAADNAAAAAAADAUUAAAAAAAEBXQAAAAAAAADdAAAAAAAAAJkAAAAAAAAAmQAAAAAAAADZAAAAAAABAVkAAAAAAAMBcQAAAAAAAAEBAAAAAAAAAN0AAAAAAAAAwQAAAAAAAADtAAAAAAADAWEAAAAAAAABcQAAAAAAAAEpAAAAAAAAAPkAAAAAAAAAxQAAAAAAAADlAAAAAAADAXEAAAAAAAMBfQAAAAAAAgExAAAAAAAAAOEAAAAAAAAA2QAAAAAAAADtAAAAAAABAXUAAAAAAAGBhQAAAAAAAAFFAAAAAAAAAP0AAAAAAAAA1QAAAAAAAAEBAAAAAAAAAYEAAAAAAAMBgQAAAAAAAQFNAAAAAAAAARkAAAAAAAAA9QAAAAAAAAEhAAAAAAADAWUAAAAAAAABVQAAAAAAAwFBAAAAAAACAQ0AAAAAAAAA5QAAAAAAAAEhA",
          "dtype": "f8"
         },
         "yaxis": "y"
        },
        {
         "alignmentgroup": "True",
         "hoverinfo": "skip",
         "legendgroup": "Hotell, restaurang och turism",
         "marker": {
          "color": "lightgray",
          "pattern": {
           "shape": ""
          }
         },
         "name": "Hotell, restaurang och turism",
         "offsetgroup": "Hotell, restaurang och turism",
         "orientation": "v",
         "showlegend": true,
         "textposition": "auto",
         "type": "bar",
         "x": {
          "bdata": "1QfVB9UH1QfVB9UH1gfWB9YH1gfWB9YH1wfXB9cH1wfXB9cH2AfYB9gH2AfYB9gH2QfZB9kH2QfZB9kH2gfaB9oH2gfaB9oH2wfbB9sH2wfbB9sH3AfcB9wH3AfcB9wH3QfdB90H3QfdB90H3gfeB94H3gfeB94H3wffB98H3wffB98H4AfgB+AH4AfgB+AH4QfhB+EH4QfhB+EH4gfiB+IH4gfiB+IH4wfjB+MH4wfjB+MH5AfkB+QH5AfkB+QH5QflB+UH5QflB+UH5gfmB+YH5gfmB+YH5wfnB+cH5wfnB+cH6AfoB+gH6AfoB+gH",
          "dtype": "i2"
         },
         "xaxis": "x",
         "y": {
          "bdata": "AAAAAAAMkUAAAAAAANiCQAAAAAAAIG9AAAAAAACgYEAAAAAAAEBVQAAAAAAAAE9AAAAAAADclUAAAAAAABiEQAAAAAAAoGtAAAAAAAAgYUAAAAAAAMBXQAAAAAAAgExAAAAAAADUmUAAAAAAANCFQAAAAAAAIG1AAAAAAAAAYUAAAAAAAABbQAAAAAAAQFNAAAAAAADMmkAAAAAAACCIQAAAAAAAoGtAAAAAAAAAY0AAAAAAAMBaQAAAAAAAgFpAAAAAAAD8mEAAAAAAANCIQAAAAAAAwGxAAAAAAACgYEAAAAAAAABaQAAAAAAAQFpAAAAAAAAAl0AAAAAAANCJQAAAAAAAwG5AAAAAAAAgY0AAAAAAAEBZQAAAAAAAwFpAAAAAAADwlUAAAAAAACiKQAAAAAAAQHBAAAAAAABgY0AAAAAAAIBcQAAAAAAAgF1AAAAAAABUkkAAAAAAAHCJQAAAAAAAQGxAAAAAAACAY0AAAAAAAABcQAAAAAAAwFtAAAAAAAC8kEAAAAAAALCJQAAAAAAAoG9AAAAAAACgYkAAAAAAAEBbQAAAAAAAQF5AAAAAAADYiUAAAAAAAHCLQAAAAAAAMHNAAAAAAAAgaEAAAAAAACBjQAAAAAAAAGlAAAAAAADIhEAAAAAAAACNQAAAAAAAkHZAAAAAAACgaUAAAAAAAKBoQAAAAAAAQG9AAAAAAAAwhUAAAAAAAOCLQAAAAAAA4HZAAAAAAADAaUAAAAAAAIBlQAAAAAAAYGtAAAAAAABYg0AAAAAAAJCNQAAAAAAAAHhAAAAAAABgbUAAAAAAAABlQAAAAAAAwGZAAAAAAADAg0AAAAAAAHiLQAAAAAAAsHhAAAAAAADAa0AAAAAAACBlQAAAAAAAQGlAAAAAAACIhkAAAAAAACCKQAAAAAAAYHtAAAAAAADgcEAAAAAAAKBmQAAAAAAAAHFAAAAAAACgiEAAAAAAAIiMQAAAAAAAoH5AAAAAAACgdEAAAAAAAMBpQAAAAAAA8HZAAAAAAADIiEAAAAAAANiMQAAAAAAAKIFAAAAAAACgdEAAAAAAAJBwQAAAAAAAYHxAAAAAAADIhUAAAAAAABiJQAAAAAAAwH9AAAAAAACAc0AAAAAAAKBxQAAAAAAAUHlAAAAAAAAohEAAAAAAAPiFQAAAAAAAMHxAAAAAAADQcUAAAAAAAKBxQAAAAAAAMHhAAAAAAAC4hEAAAAAAAJiEQAAAAAAAwHpAAAAAAABgc0AAAAAAAIBvQAAAAAAAgH5A",
          "dtype": "f8"
         },
         "yaxis": "y"
        },
        {
         "alignmentgroup": "True",
         "hoverinfo": "skip",
         "legendgroup": "Hälso- och sjukvård samt socialt arbete",
         "marker": {
          "color": "lightgray",
          "pattern": {
           "shape": ""
          }
         },
         "name": "Hälso- och sjukvård samt socialt arbete",
         "offsetgroup": "Hälso- och sjukvård samt socialt arbete",
         "orientation": "v",
         "showlegend": true,
         "textposition": "auto",
         "type": "bar",
         "x": {
          "bdata": "1QfVB9UH1QfVB9UH1gfWB9YH1gfWB9YH1wfXB9cH1wfXB9cH2AfYB9gH2AfYB9gH2QfZB9kH2QfZB9kH2gfaB9oH2gfaB9oH2wfbB9sH2wfbB9sH3AfcB9wH3AfcB9wH3QfdB90H3QfdB90H3gfeB94H3gfeB94H3wffB98H3wffB98H4AfgB+AH4AfgB+AH4QfhB+EH4QfhB+EH4gfiB+IH4gfiB+IH4wfjB+MH4wfjB+MH5AfkB+QH5AfkB+QH5QflB+UH5QflB+UH5gfmB+YH5gfmB+YH5wfnB+cH5wfnB+cH6AfoB+gH6AfoB+gH",
          "dtype": "i2"
         },
         "xaxis": "x",
         "y": {
          "bdata": "AAAAAAAQhEAAAAAAAJCCQAAAAAAAkHxAAAAAAADwekAAAAAAALB5QAAAAAAAkHxAAAAAAABwikAAAAAAACCFQAAAAAAAiIJAAAAAAABQgEAAAAAAAICAQAAAAAAAEIRAAAAAAABojEAAAAAAAGCIQAAAAAAA8INAAAAAAAA4gkAAAAAAAACDQAAAAAAAUIVAAAAAAABYikAAAAAAAFiIQAAAAAAA8IJAAAAAAACQgEAAAAAAAJiCQAAAAAAAIIVAAAAAAACgiEAAAAAAAACJQAAAAAAAqIJAAAAAAADAgUAAAAAAAOiBQAAAAAAA6IdAAAAAAACYh0AAAAAAANCKQAAAAAAAwIRAAAAAAABAg0AAAAAAAACEQAAAAAAAGI5AAAAAAAC4hkAAAAAAACiMQAAAAAAAcIRAAAAAAAAIhUAAAAAAAPiDQAAAAAAAmJBAAAAAAACQgkAAAAAAAGiLQAAAAAAA2INAAAAAAABIg0AAAAAAAIiEQAAAAAAA5JFAAAAAAACQg0AAAAAAAOCMQAAAAAAAaIdAAAAAAABIhUAAAAAAAGiGQAAAAAAA0JNAAAAAAADYhUAAAAAAABSRQAAAAAAAAIpAAAAAAAAQiUAAAAAAAOCJQAAAAAAAMJdAAAAAAABAhEAAAAAAAAiSQAAAAAAA0I1AAAAAAACgi0AAAAAAAGCKQAAAAAAADJhAAAAAAACYg0AAAAAAALyRQAAAAAAAmJBAAAAAAAAAjUAAAAAAAPiJQAAAAAAArJhAAAAAAADQg0AAAAAAAKyTQAAAAAAA1JJAAAAAAACYj0AAAAAAANiLQAAAAAAA/JpAAAAAAABYhUAAAAAAAIiVQAAAAAAAMJVAAAAAAADIkUAAAAAAAGiOQAAAAAAADJ5AAAAAAABAiUAAAAAAAKSYQAAAAAAAoJlAAAAAAAA8lUAAAAAAAKCTQAAAAAAArqJAAAAAAABEkEAAAAAAAFCcQAAAAAAA3J9AAAAAAADImEAAAAAAAMyWQAAAAAAALqdAAAAAAADAkUAAAAAAAJieQAAAAAAAfqFAAAAAAACUnEAAAAAAAASYQAAAAAAAMqpAAAAAAAAgk0AAAAAAAOCeQAAAAAAAHKJAAAAAAAAQoEAAAAAAAAiaQAAAAAAAcKxAAAAAAABgk0AAAAAAAJibQAAAAAAACqFAAAAAAAC4nkAAAAAAAHCaQAAAAAAAuKxAAAAAAACgkkAAAAAAALSYQAAAAAAAKJ9AAAAAAAAYnkAAAAAAANiZQAAAAAAA4qtA",
          "dtype": "f8"
         },
         "yaxis": "y"
        },
        {
         "alignmentgroup": "True",
         "hoverinfo": "skip",
         "legendgroup": "Journalistik och information",
         "marker": {
          "color": "lightgray",
          "pattern": {
           "shape": ""
          }
         },
         "name": "Journalistik och information",
         "offsetgroup": "Journalistik och information",
         "orientation": "v",
         "showlegend": true,
         "textposition": "auto",
         "type": "bar",
         "x": {
          "bdata": "1QfVB9UH1QfVB9YH1gfWB9YH1gfWB9cH1wfXB9cH1wfXB9gH2AfYB9gH2AfYB9kH2QfZB9kH2QfZB9oH2gfaB9oH2gfaB9sH2wfbB9sH2wfbB9wH3AfcB9wH3AfcB90H3QfdB90H3QfdB94H3gfeB94H3gfeB98H3wffB98H3wffB+AH4AfgB+AH4AfgB+EH4QfhB+EH4QfhB+IH4gfiB+IH4gfiB+MH4wfjB+MH4wfjB+QH5AfkB+QH5AfkB+UH5QflB+UH5QflB+YH5gfmB+YH5gfmB+cH5wfnB+cH5wfnB+gH6AfoB+gH6AfoBw==",
          "dtype": "i2"
         },
         "xaxis": "x",
         "y": {
          "bdata": "AAAAAAAAR0AAAAAAAIBFQAAAAAAAAC5AAAAAAAAAGEAAAAAAAAAQQAAAAAAAAEFAAAAAAACARUAAAAAAAAAqQAAAAAAAABBAAAAAAAAAFEAAAAAAAAAIQAAAAAAAgEFAAAAAAAAARkAAAAAAAAAqQAAAAAAAACRAAAAAAAAAFEAAAAAAAAAcQAAAAAAAAEhAAAAAAACARkAAAAAAAAA4QAAAAAAAADBAAAAAAAAAIkAAAAAAAAAxQAAAAAAAAE1AAAAAAABAUUAAAAAAAAA7QAAAAAAAADdAAAAAAAAALEAAAAAAAAA2QAAAAAAAgE1AAAAAAABAUkAAAAAAAIBCQAAAAAAAADlAAAAAAAAAQEAAAAAAAAA+QAAAAAAAAFFAAAAAAACAV0AAAAAAAABFQAAAAAAAADpAAAAAAACAQ0AAAAAAAAA+QAAAAAAAAFJAAAAAAAAAWEAAAAAAAABDQAAAAAAAADlAAAAAAAAAOEAAAAAAAAA2QAAAAAAAQFxAAAAAAACAYEAAAAAAAIBPQAAAAAAAAENAAAAAAACAQEAAAAAAAABBQAAAAAAAAGJAAAAAAABAakAAAAAAAIBYQAAAAAAAgEtAAAAAAACASEAAAAAAAEBQQAAAAAAAgF9AAAAAAACga0AAAAAAAMBbQAAAAAAAAFNAAAAAAAAASkAAAAAAAIBPQAAAAAAAQF9AAAAAAAAgb0AAAAAAAIBdQAAAAAAAAFVAAAAAAACATUAAAAAAAABWQAAAAAAAwGJAAAAAAACAbUAAAAAAAABfQAAAAAAAwFVAAAAAAAAAUkAAAAAAAKBgQAAAAAAAgGNAAAAAAABgcEAAAAAAAEBeQAAAAAAAwFRAAAAAAACAUkAAAAAAACBhQAAAAAAAQGlAAAAAAABwcUAAAAAAAGBjQAAAAAAAwFVAAAAAAABAUEAAAAAAAABdQAAAAAAAoGtAAAAAAADwcEAAAAAAAGBmQAAAAAAAwFpAAAAAAADAUEAAAAAAAIBeQAAAAAAAIGlAAAAAAABQcUAAAAAAAABmQAAAAAAAgFdAAAAAAACAUkAAAAAAAIBcQAAAAAAAQGlAAAAAAACgbkAAAAAAACBmQAAAAAAAQFJAAAAAAAAASEAAAAAAAIBTQAAAAAAAoGVAAAAAAACAbEAAAAAAAIBjQAAAAAAAwFFAAAAAAACAQ0AAAAAAAEBVQAAAAAAAAGBAAAAAAADgZkAAAAAAAEBeQAAAAAAAAFNAAAAAAACAQ0AAAAAAAMBYQA==",
          "dtype": "f8"
         },
         "yaxis": "y"
        },
        {
         "alignmentgroup": "True",
         "hoverinfo": "skip",
         "legendgroup": "Kultur, media och design",
         "marker": {
          "color": "lightgray",
          "pattern": {
           "shape": ""
          }
         },
         "name": "Kultur, media och design",
         "offsetgroup": "Kultur, media och design",
         "orientation": "v",
         "showlegend": true,
         "textposition": "auto",
         "type": "bar",
         "x": {
          "bdata": "1QfVB9UH1QfVB9UH1gfWB9YH1gfWB9YH1wfXB9cH1wfXB9cH2AfYB9gH2AfYB9gH2QfZB9kH2QfZB9kH2gfaB9oH2gfaB9oH2wfbB9sH2wfbB9sH3AfcB9wH3AfcB9wH3QfdB90H3QfdB90H3gfeB94H3gfeB94H3wffB98H3wffB98H4AfgB+AH4AfgB+AH4QfhB+EH4QfhB+EH4gfiB+IH4gfiB+IH4wfjB+MH4wfjB+MH5AfkB+QH5AfkB+QH5QflB+UH5QflB+UH5gfmB+YH5gfmB+YH5wfnB+cH5wfnB+cH6AfoB+gH6AfoB+gH",
          "dtype": "i2"
         },
         "xaxis": "x",
         "y": {
          "bdata": "AAAAAAA0mEAAAAAAADiGQAAAAAAAAHJAAAAAAABAYUAAAAAAAIBPQAAAAAAAgEpAAAAAAACImkAAAAAAADCGQAAAAAAAgHBAAAAAAACAYUAAAAAAAIBNQAAAAAAAwFBAAAAAAAAEmkAAAAAAAECGQAAAAAAAAG9AAAAAAAAgYEAAAAAAAEBSQAAAAAAAgFBAAAAAAABEmkAAAAAAALiHQAAAAAAAwHFAAAAAAADAYEAAAAAAAEBRQAAAAAAAgFBAAAAAAADsmEAAAAAAAFCJQAAAAAAAEHJAAAAAAABAXkAAAAAAAIBSQAAAAAAAgE9AAAAAAAC4lUAAAAAAAGiKQAAAAAAAwHFAAAAAAABAYEAAAAAAAABRQAAAAAAAgFJAAAAAAADAk0AAAAAAAPCIQAAAAAAA4HBAAAAAAACAXUAAAAAAAABLQAAAAAAAAE9AAAAAAAB0kkAAAAAAAGiHQAAAAAAAIGxAAAAAAACAWEAAAAAAAIBNQAAAAAAAAElAAAAAAAB8k0AAAAAAAHCIQAAAAAAA4G9AAAAAAACAW0AAAAAAAABMQAAAAAAAgE1AAAAAAAAYk0AAAAAAAHCKQAAAAAAAoHJAAAAAAABAXkAAAAAAAMBRQAAAAAAAQFFAAAAAAACIkkAAAAAAAGCMQAAAAAAA8HZAAAAAAACAYUAAAAAAAIBVQAAAAAAAgFRAAAAAAABYkUAAAAAAAFCOQAAAAAAAwHVAAAAAAAAAY0AAAAAAAMBXQAAAAAAAwFdAAAAAAAC4kEAAAAAAACCQQAAAAAAAMHdAAAAAAACAZUAAAAAAAABYQAAAAAAAAF9AAAAAAABYkEAAAAAAACCQQAAAAAAAoHlAAAAAAABAaEAAAAAAAIBXQAAAAAAAAGBAAAAAAABAkEAAAAAAAHiRQAAAAAAAwH5AAAAAAAAgZUAAAAAAAIBVQAAAAAAAwFtAAAAAAAAQk0AAAAAAANySQAAAAAAAAIJAAAAAAAAgaUAAAAAAAABcQAAAAAAAAF1AAAAAAAD8lEAAAAAAAJSUQAAAAAAAQIZAAAAAAACAbkAAAAAAAEBhQAAAAAAAQGRAAAAAAAAUl0AAAAAAAJyUQAAAAAAA+IdAAAAAAABQckAAAAAAAGBkQAAAAAAAgGlAAAAAAADEmUAAAAAAAACUQAAAAAAAWIhAAAAAAADwdEAAAAAAAOBmQAAAAAAA4GxAAAAAAAAAmkAAAAAAAMyUQAAAAAAAcIhAAAAAAACweEAAAAAAAIBpQAAAAAAAQHBA",
          "dtype": "f8"
         },
         "yaxis": "y"
        },
        {
         "alignmentgroup": "True",
         "hoverinfo": "skip",
         "legendgroup": "Lantbruk, djurvård, trädgård, skog och fiske",
         "marker": {
          "color": "lightgray",
          "pattern": {
           "shape": ""
          }
         },
         "name": "Lantbruk, djurvård, trädgård, skog och fiske",
         "offsetgroup": "Lantbruk, djurvård, trädgård, skog och fiske",
         "orientation": "v",
         "showlegend": true,
         "textposition": "auto",
         "type": "bar",
         "x": {
          "bdata": "1QfVB9UH1QfVB9UH1gfWB9YH1gfWB9YH1wfXB9cH1wfXB9cH2AfYB9gH2AfYB9gH2QfZB9kH2QfZB9kH2gfaB9oH2gfaB9oH2wfbB9sH2wfbB9sH3AfcB9wH3AfcB9wH3QfdB90H3QfdB90H3gfeB94H3gfeB94H3wffB98H3wffB98H4AfgB+AH4AfgB+AH4QfhB+EH4QfhB+EH4gfiB+IH4gfiB+IH4wfjB+MH4wfjB+MH5AfkB+QH5AfkB+QH5QflB+UH5QflB+UH5gfmB+YH5gfmB+YH5wfnB+cH5wfnB+cH6AfoB+gH6AfoB+gH",
          "dtype": "i2"
         },
         "xaxis": "x",
         "y": {
          "bdata": "AAAAAABwdkAAAAAAAOBlQAAAAAAAQF5AAAAAAACAXEAAAAAAAMBUQAAAAAAAAFFAAAAAAABggUAAAAAAAOBuQAAAAAAAIGNAAAAAAABgY0AAAAAAAEBhQAAAAAAAAFdAAAAAAADQgkAAAAAAADBzQAAAAAAAYGZAAAAAAAAAZEAAAAAAAEBkQAAAAAAAAGBAAAAAAABwgkAAAAAAAFByQAAAAAAAIGVAAAAAAADgYkAAAAAAAGBjQAAAAAAAAGJAAAAAAAAQhUAAAAAAAIBxQAAAAAAA4GNAAAAAAABAZEAAAAAAACBgQAAAAAAAIGJAAAAAAABIiEAAAAAAAPByQAAAAAAAYGRAAAAAAACgY0AAAAAAAMBhQAAAAAAAQGRAAAAAAABwhkAAAAAAAPBzQAAAAAAAIGRAAAAAAABgYkAAAAAAAIBiQAAAAAAAIGRAAAAAAAAggkAAAAAAAJBzQAAAAAAAoGBAAAAAAADAX0AAAAAAAGBhQAAAAAAAIGVAAAAAAACAf0AAAAAAADB0QAAAAAAAQGFAAAAAAAAAWkAAAAAAAIBfQAAAAAAAAGRAAAAAAACQfEAAAAAAACByQAAAAAAAgGJAAAAAAADAV0AAAAAAAEBcQAAAAAAAgGJAAAAAAADAekAAAAAAANB1QAAAAAAAgGNAAAAAAAAAWUAAAAAAAABdQAAAAAAAwGNAAAAAAABQeEAAAAAAAKB1QAAAAAAAQGhAAAAAAADAX0AAAAAAAIBiQAAAAAAAYGlAAAAAAABAdEAAAAAAAEB0QAAAAAAAoGtAAAAAAACAY0AAAAAAAMBiQAAAAAAAsHBAAAAAAADAckAAAAAAANByQAAAAAAAYGdAAAAAAADAZEAAAAAAAMBfQAAAAAAAcHFAAAAAAABAcUAAAAAAANBzQAAAAAAAYG1AAAAAAADgZUAAAAAAAMBgQAAAAAAAcHFAAAAAAABgdEAAAAAAADB1QAAAAAAAwHFAAAAAAACAaUAAAAAAAEBjQAAAAAAAIHNAAAAAAAAQdUAAAAAAAFB2QAAAAAAAAHVAAAAAAABAcEAAAAAAAEBpQAAAAAAA4HNAAAAAAABwdkAAAAAAAFB1QAAAAAAAoHZAAAAAAAAwc0AAAAAAAEBrQAAAAAAAsHZAAAAAAABQeEAAAAAAALB0QAAAAAAAwHdAAAAAAAAwdEAAAAAAAABsQAAAAAAAwHtAAAAAAADwe0AAAAAAAHB3QAAAAAAAEHhAAAAAAACQdkAAAAAAACBxQAAAAAAAgH9A",
          "dtype": "f8"
         },
         "yaxis": "y"
        },
        {
         "alignmentgroup": "True",
         "hoverinfo": "skip",
         "legendgroup": "Pedagogik och undervisning",
         "marker": {
          "color": "lightgray",
          "pattern": {
           "shape": ""
          }
         },
         "name": "Pedagogik och undervisning",
         "offsetgroup": "Pedagogik och undervisning",
         "orientation": "v",
         "showlegend": true,
         "textposition": "auto",
         "type": "bar",
         "x": {
          "bdata": "1QfVB9UH1QfVB9UH1gfWB9YH1gfWB9YH1wfXB9cH1wfXB9cH2AfYB9gH2AfYB9gH2QfZB9kH2QfZB9kH2gfaB9oH2gfaB9oH2wfbB9sH2wfbB9sH3AfcB9wH3AfcB9wH3QfdB90H3QfdB90H3gfeB94H3gfeB94H3wffB98H3wffB98H4AfgB+AH4AfgB+AH4QfhB+EH4QfhB+EH4gfiB+IH4gfiB+IH4wfjB+MH4wfjB+MH5AfkB+QH5AfkB+QH5QflB+UH5QflB+UH5gfmB+YH5gfmB+YH5wfnB+cH5wfnB+cH6AfoB+gH6AfoB+gH",
          "dtype": "i2"
         },
         "xaxis": "x",
         "y": {
          "bdata": "AAAAAAAACEAAAAAAAAAIQAAAAAAAABBAAAAAAAAACEAAAAAAAAAAAAAAAAAAAAhAAAAAAAAALEAAAAAAAAAwQAAAAAAAADNAAAAAAAAANUAAAAAAAAAqQAAAAAAAADRAAAAAAAAAN0AAAAAAAAA7QAAAAAAAgERAAAAAAAAAPEAAAAAAAAA9QAAAAAAAAENAAAAAAAAANkAAAAAAAABDQAAAAAAAgEVAAAAAAACAQkAAAAAAAIBBQAAAAAAAgEZAAAAAAAAAQEAAAAAAAABLQAAAAAAAAEJAAAAAAACASEAAAAAAAIBEQAAAAAAAAENAAAAAAABAVkAAAAAAAEBWQAAAAAAAAFNAAAAAAACAT0AAAAAAAIBRQAAAAAAAwFJAAAAAAAAAX0AAAAAAAIBiQAAAAAAAAFpAAAAAAADAVUAAAAAAAMBVQAAAAAAAgFtAAAAAAABAVEAAAAAAAABdQAAAAAAAQFJAAAAAAAAATkAAAAAAAIBIQAAAAAAAwFJAAAAAAAAAWkAAAAAAAMBaQAAAAAAAgEhAAAAAAABAUEAAAAAAAABEQAAAAAAAgE1AAAAAAAAAX0AAAAAAAMBbQAAAAAAAAExAAAAAAAAAUEAAAAAAAIBJQAAAAAAAwFNAAAAAAACAWUAAAAAAAIBXQAAAAAAAAEpAAAAAAAAAS0AAAAAAAIBJQAAAAAAAQFFAAAAAAADAVkAAAAAAAEBfQAAAAAAAAFVAAAAAAAAAUEAAAAAAAIBSQAAAAAAAAFhAAAAAAAAAW0AAAAAAAMBjQAAAAAAAQFdAAAAAAADAVkAAAAAAAABTQAAAAAAAAGBAAAAAAAAAXEAAAAAAAMBkQAAAAAAAwGBAAAAAAABAXkAAAAAAAMBeQAAAAAAAoGlAAAAAAADAW0AAAAAAAIBsQAAAAAAAoGhAAAAAAADgaUAAAAAAAIBnQAAAAAAAYHZAAAAAAADAYkAAAAAAACBtQAAAAAAAQG9AAAAAAACgbEAAAAAAAIBrQAAAAAAA4HtAAAAAAAAAaEAAAAAAALBxQAAAAAAAoHBAAAAAAABAcUAAAAAAACBuQAAAAAAAIIFAAAAAAADAakAAAAAAAPBwQAAAAAAA0HNAAAAAAADQdEAAAAAAACByQAAAAAAAOIFAAAAAAADAXEAAAAAAAKBrQAAAAAAAoG9AAAAAAADgbkAAAAAAAABsQAAAAAAAIHxAAAAAAAAAV0AAAAAAAMBiQAAAAAAAoGRAAAAAAACgZUAAAAAAAMBjQAAAAAAAUHZA",
          "dtype": "f8"
         },
         "yaxis": "y"
        },
        {
         "alignmentgroup": "True",
         "hoverinfo": "skip",
         "legendgroup": "Samhällsbyggnad och byggteknik",
         "marker": {
          "color": "lightgray",
          "pattern": {
           "shape": ""
          }
         },
         "name": "Samhällsbyggnad och byggteknik",
         "offsetgroup": "Samhällsbyggnad och byggteknik",
         "orientation": "v",
         "showlegend": true,
         "textposition": "auto",
         "type": "bar",
         "x": {
          "bdata": "1QfVB9UH1QfVB9UH1gfWB9YH1gfWB9YH1wfXB9cH1wfXB9cH2AfYB9gH2AfYB9gH2QfZB9kH2QfZB9kH2gfaB9oH2gfaB9oH2wfbB9sH2wfbB9sH3AfcB9wH3AfcB9wH3QfdB90H3QfdB90H3gfeB94H3gfeB94H3wffB98H3wffB98H4AfgB+AH4AfgB+AH4QfhB+EH4QfhB+EH4gfiB+IH4gfiB+IH4wfjB+MH4wfjB+MH5AfkB+QH5AfkB+QH5QflB+UH5QflB+UH5gfmB+YH5gfmB+YH5wfnB+cH5wfnB+cH6AfoB+gH6AfoB+gH",
          "dtype": "i2"
         },
         "xaxis": "x",
         "y": {
          "bdata": "AAAAAACAfkAAAAAAAMBxQAAAAAAAgGdAAAAAAAAAZ0AAAAAAAABgQAAAAAAAoGBAAAAAAABAiEAAAAAAAFB4QAAAAAAAAG1AAAAAAABgakAAAAAAACBmQAAAAAAAIGRAAAAAAAAYjUAAAAAAAIiAQAAAAAAAQHNAAAAAAAAAa0AAAAAAAMBqQAAAAAAAwGdAAAAAAACAjkAAAAAAANiEQAAAAAAA8HJAAAAAAADgcEAAAAAAAEBqQAAAAAAA4GpAAAAAAAC4kUAAAAAAAECJQAAAAAAA4HhAAAAAAADQdEAAAAAAABBwQAAAAAAAoG9AAAAAAABAk0AAAAAAADiMQAAAAAAA4H5AAAAAAABwdkAAAAAAACBxQAAAAAAAYHFAAAAAAAB0lUAAAAAAAGiQQAAAAAAAcIJAAAAAAADQdUAAAAAAAKBxQAAAAAAAIHFAAAAAAAD0lkAAAAAAANyRQAAAAAAAsIRAAAAAAADgeUAAAAAAAMB0QAAAAAAAcHVAAAAAAABIlkAAAAAAAPSUQAAAAAAAeIZAAAAAAABQfkAAAAAAAPB3QAAAAAAAUHhAAAAAAADEk0AAAAAAABiXQAAAAAAAIIpAAAAAAABwgUAAAAAAAEB6QAAAAAAAwHlAAAAAAAAQk0AAAAAAABiaQAAAAAAAcI9AAAAAAACwhEAAAAAAAGB/QAAAAAAAQHxAAAAAAACAkkAAAAAAANybQAAAAAAAfJJAAAAAAACIiEAAAAAAAOCBQAAAAAAAeIFAAAAAAAAMlEAAAAAAAFCfQAAAAAAAaJVAAAAAAAB4i0AAAAAAAPiCQAAAAAAAgIVAAAAAAAAYmEAAAAAAAKqgQAAAAAAAJJdAAAAAAADYj0AAAAAAAMCDQAAAAAAAuIZAAAAAAAB4nUAAAAAAACikQAAAAAAAZJtAAAAAAACEkkAAAAAAAFCHQAAAAAAAKItAAAAAAACsokAAAAAAALyoQAAAAAAAgKJAAAAAAADkl0AAAAAAAHiPQAAAAAAA/JBAAAAAAADIo0AAAAAAAAqqQAAAAAAALKVAAAAAAADwm0AAAAAAAPiRQAAAAAAAPJNAAAAAAACapEAAAAAAAEKoQAAAAAAAdKZAAAAAAABQnUAAAAAAAHSTQAAAAAAAVJRAAAAAAABmpEAAAAAAADylQAAAAAAAYqVAAAAAAACsnUAAAAAAAMySQAAAAAAAxJVAAAAAAACapUAAAAAAAOylQAAAAAAA6qRAAAAAAAAKoEAAAAAAAKiTQAAAAAAAiJhA",
          "dtype": "f8"
         },
         "yaxis": "y"
        },
        {
         "alignmentgroup": "True",
         "hoverinfo": "skip",
         "legendgroup": "Säkerhetstjänster",
         "marker": {
          "color": "lightgray",
          "pattern": {
           "shape": ""
          }
         },
         "name": "Säkerhetstjänster",
         "offsetgroup": "Säkerhetstjänster",
         "orientation": "v",
         "showlegend": true,
         "textposition": "auto",
         "type": "bar",
         "x": {
          "bdata": "1QfVB9UH1QfVB9UH1gfWB9YH1gfWB9YH1wfXB9cH1wfXB9cH2AfYB9gH2AfYB9gH2QfZB9kH2QfZB9kH2gfaB9oH2gfaB9oH2wfbB9sH2wfbB9sH3AfcB9wH3AfcB9wH3QfdB90H3QfdB90H3gfeB94H3gfeB94H3wffB98H3wffB98H4AfgB+AH4AfgB+AH4QfhB+EH4QfhB+EH4gfiB+IH4gfiB+IH4wfjB+MH4wfjB+MH5AfkB+QH5AfkB+QH5QflB+UH5QflB+UH5gfmB+YH5gfmB+YH5wfnB+cH5wfnB+cH6AfoB+gH6AfoB+gH",
          "dtype": "i2"
         },
         "xaxis": "x",
         "y": {
          "bdata": "AAAAAADAXEAAAAAAAIBOQAAAAAAAAEZAAAAAAAAAOUAAAAAAAAAgQAAAAAAAACxAAAAAAABAZUAAAAAAAABcQAAAAAAAQFBAAAAAAAAAQkAAAAAAAAAyQAAAAAAAADhAAAAAAADAZ0AAAAAAAGBlQAAAAAAAgFNAAAAAAACATUAAAAAAAABEQAAAAAAAADtAAAAAAAAgakAAAAAAAGBnQAAAAAAAQFdAAAAAAAAAUUAAAAAAAABFQAAAAAAAADtAAAAAAADgZUAAAAAAAABnQAAAAAAAAFZAAAAAAABAVUAAAAAAAABMQAAAAAAAgERAAAAAAADAXEAAAAAAAEBlQAAAAAAAAFhAAAAAAAAAUkAAAAAAAABJQAAAAAAAgERAAAAAAABAWUAAAAAAACBiQAAAAAAAAFVAAAAAAACASEAAAAAAAIBEQAAAAAAAgENAAAAAAAAAV0AAAAAAAIBfQAAAAAAAAE9AAAAAAACAQUAAAAAAAAA5QAAAAAAAAD5AAAAAAADAUUAAAAAAAEBaQAAAAAAAAE1AAAAAAACAQkAAAAAAAAA+QAAAAAAAgEFAAAAAAACARUAAAAAAAMBUQAAAAAAAQFJAAAAAAACATEAAAAAAAIBIQAAAAAAAgEZAAAAAAAAAM0AAAAAAAEBQQAAAAAAAwFdAAAAAAADAUEAAAAAAAABPQAAAAAAAgFFAAAAAAAAAKEAAAAAAAABTQAAAAAAAAFJAAAAAAADAUkAAAAAAAABPQAAAAAAAgFNAAAAAAAAAKEAAAAAAAIBKQAAAAAAAgElAAAAAAAAATUAAAAAAAABEQAAAAAAAgE5AAAAAAAAAM0AAAAAAAABRQAAAAAAAgElAAAAAAACARkAAAAAAAIBCQAAAAAAAAFBAAAAAAAAANkAAAAAAAIBaQAAAAAAAgFFAAAAAAADAUUAAAAAAAIBNQAAAAAAAAFRAAAAAAACAQUAAAAAAAABZQAAAAAAAAFpAAAAAAACAWkAAAAAAAABYQAAAAAAAQGFAAAAAAACAREAAAAAAAMBXQAAAAAAAwFpAAAAAAAAAXkAAAAAAAIBWQAAAAAAAoGFAAAAAAACARkAAAAAAAIBfQAAAAAAAAGNAAAAAAACgY0AAAAAAAMBbQAAAAAAAgGVAAAAAAACASkAAAAAAAABeQAAAAAAAoGZAAAAAAABgZ0AAAAAAAIBdQAAAAAAAwGVAAAAAAACAT0AAAAAAAIBeQAAAAAAAgGRAAAAAAACAZ0AAAAAAAEBcQAAAAAAAgGZA",
          "dtype": "f8"
         },
         "yaxis": "y"
        },
        {
         "alignmentgroup": "True",
         "hoverinfo": "skip",
         "legendgroup": "Teknik och tillverkning",
         "marker": {
          "color": "lightgray",
          "pattern": {
           "shape": ""
          }
         },
         "name": "Teknik och tillverkning",
         "offsetgroup": "Teknik och tillverkning",
         "orientation": "v",
         "showlegend": true,
         "textposition": "auto",
         "type": "bar",
         "x": {
          "bdata": "1QfVB9UH1QfVB9UH1gfWB9YH1gfWB9YH1wfXB9cH1wfXB9cH2AfYB9gH2AfYB9gH2QfZB9kH2QfZB9kH2gfaB9oH2gfaB9oH2wfbB9sH2wfbB9sH3AfcB9wH3AfcB9wH3QfdB90H3QfdB90H3gfeB94H3gfeB94H3wffB98H3wffB98H4AfgB+AH4AfgB+AH4QfhB+EH4QfhB+EH4gfiB+IH4gfiB+IH4wfjB+MH4wfjB+MH5AfkB+QH5AfkB+QH5QflB+UH5QflB+UH5gfmB+YH5gfmB+YH5wfnB+cH5wfnB+cH6AfoB+gH6AfoB+gH",
          "dtype": "i2"
         },
         "xaxis": "x",
         "y": {
          "bdata": "AAAAAAAwnEAAAAAAAFCGQAAAAAAAAH9AAAAAAADweUAAAAAAABBzQAAAAAAAQGdAAAAAAABkoEAAAAAAAJiIQAAAAAAACIBAAAAAAAAQeUAAAAAAAMByQAAAAAAAYGpAAAAAAAC2okAAAAAAAHiOQAAAAAAAkIBAAAAAAAAQe0AAAAAAAKB1QAAAAAAAIG9AAAAAAAACpUAAAAAAAGyRQAAAAAAA6IJAAAAAAADgfUAAAAAAAIB2QAAAAAAAwHNAAAAAAABGqEAAAAAAAMiUQAAAAAAASIdAAAAAAADogEAAAAAAABB6QAAAAAAAMHdAAAAAAAAaq0AAAAAAAMiWQAAAAAAAmIdAAAAAAAAAg0AAAAAAAJB8QAAAAAAAsHhAAAAAAABkq0AAAAAAACCYQAAAAAAAeIlAAAAAAABAhEAAAAAAADB5QAAAAAAAIHpAAAAAAAAaqUAAAAAAADSXQAAAAAAAYIhAAAAAAAA4gUAAAAAAALB2QAAAAAAAMHVAAAAAAAAoqEAAAAAAAPiZQAAAAAAASItAAAAAAAAQgkAAAAAAALB3QAAAAAAAQHxAAAAAAABkp0AAAAAAAGyaQAAAAAAAAJBAAAAAAAAQhEAAAAAAALB5QAAAAAAAsIFAAAAAAACEpUAAAAAAAGibQAAAAAAAkJBAAAAAAACohkAAAAAAAIB9QAAAAAAAcINAAAAAAACyo0AAAAAAAFycQAAAAAAA/JBAAAAAAAAQh0AAAAAAADB+QAAAAAAAOINAAAAAAADioUAAAAAAADicQAAAAAAARJFAAAAAAABIh0AAAAAAADB/QAAAAAAAMINAAAAAAAAWoUAAAAAAAIyaQAAAAAAANJJAAAAAAAAgh0AAAAAAAHB9QAAAAAAACIJAAAAAAACqoUAAAAAAAHCeQAAAAAAA9JRAAAAAAADIi0AAAAAAACCDQAAAAAAAQIZAAAAAAAC2pUAAAAAAAJKjQAAAAAAArJpAAAAAAAAQkkAAAAAAABCJQAAAAAAAsI5AAAAAAABKqEAAAAAAAKKkQAAAAAAAHKBAAAAAAABMlUAAAAAAAAiOQAAAAAAA3JFAAAAAAABcqEAAAAAAAOijQAAAAAAARqBAAAAAAADElUAAAAAAADCNQAAAAAAARJNAAAAAAADgqEAAAAAAAAikQAAAAAAAnqBAAAAAAACQlkAAAAAAAByQQAAAAAAAPJVAAAAAAAAcrEAAAAAAABSmQAAAAAAA9qJAAAAAAACgmUAAAAAAAPiSQAAAAAAAxJdA",
          "dtype": "f8"
         },
         "yaxis": "y"
        },
        {
         "alignmentgroup": "True",
         "hoverinfo": "skip",
         "legendgroup": "Transporttjänster",
         "marker": {
          "color": "lightgray",
          "pattern": {
           "shape": ""
          }
         },
         "name": "Transporttjänster",
         "offsetgroup": "Transporttjänster",
         "orientation": "v",
         "showlegend": true,
         "textposition": "auto",
         "type": "bar",
         "x": {
          "bdata": "1QfVB9UH1QfVB9UH1gfWB9YH1gfWB9YH1wfXB9cH1wfXB9cH2AfYB9gH2AfYB9gH2QfZB9kH2QfZB9kH2gfaB9oH2gfaB9oH2wfbB9sH2wfbB9sH3AfcB9wH3AfcB9wH3QfdB90H3QfdB90H3gfeB94H3gfeB94H3wffB98H3wffB98H4AfgB+AH4AfgB+AH4QfhB+EH4QfhB+EH4gfiB+IH4gfiB+IH4wfjB+MH4wfjB+MH5AfkB+QH5AfkB+QH5QflB+UH5QflB+UH5gfmB+YH5gfmB+YH5wfnB+cH5wfnB+cH6AfoB+gH6AfoB+gH",
          "dtype": "i2"
         },
         "xaxis": "x",
         "y": {
          "bdata": "AAAAAACAb0AAAAAAAGBkQAAAAAAAAGJAAAAAAACAXkAAAAAAAMBXQAAAAAAAAEdAAAAAAACgdUAAAAAAACBrQAAAAAAAYGhAAAAAAABAZEAAAAAAAABdQAAAAAAAwFBAAAAAAADQeEAAAAAAACBzQAAAAAAAgGxAAAAAAABgZ0AAAAAAACBhQAAAAAAAAFlAAAAAAABAfUAAAAAAAAB4QAAAAAAAIG1AAAAAAABgakAAAAAAAABlQAAAAAAAQF9AAAAAAADQfkAAAAAAAGB6QAAAAAAAgG5AAAAAAADga0AAAAAAACBmQAAAAAAAAGFAAAAAAABYgUAAAAAAAFB9QAAAAAAA8HFAAAAAAADAbUAAAAAAAKBmQAAAAAAAAGBAAAAAAABQgUAAAAAAADB+QAAAAAAA0HFAAAAAAABAbUAAAAAAAOBkQAAAAAAAQF5AAAAAAABQekAAAAAAAKB6QAAAAAAAgG1AAAAAAABgZUAAAAAAAABeQAAAAAAAQFxAAAAAAACAdEAAAAAAAEBzQAAAAAAA4GZAAAAAAADAX0AAAAAAAABVQAAAAAAAgFVAAAAAAADgcUAAAAAAAMBwQAAAAAAAoGJAAAAAAABAVkAAAAAAAEBUQAAAAAAAAFFAAAAAAABQdEAAAAAAABB2QAAAAAAAIGlAAAAAAADAYEAAAAAAAIBZQAAAAAAAwFJAAAAAAAAgeEAAAAAAAAB/QAAAAAAAIHBAAAAAAABgZEAAAAAAAABfQAAAAAAAQF1AAAAAAABAe0AAAAAAAFiBQAAAAAAAIHRAAAAAAABgbEAAAAAAAOBiQAAAAAAA4GNAAAAAAADQdkAAAAAAAPB+QAAAAAAAgHRAAAAAAABgbUAAAAAAAGBiQAAAAAAAYGZAAAAAAAAgdkAAAAAAAPB7QAAAAAAAwHRAAAAAAABAakAAAAAAAEBeQAAAAAAAIGpAAAAAAADgeEAAAAAAABB+QAAAAAAAYHRAAAAAAAAAaEAAAAAAAOBgQAAAAAAAIGxAAAAAAACAdkAAAAAAAGB6QAAAAAAA8HFAAAAAAADAZUAAAAAAAEBcQAAAAAAAIGtAAAAAAADQdkAAAAAAAKB2QAAAAAAA8HBAAAAAAAAAZEAAAAAAAEBeQAAAAAAAYGpAAAAAAACQekAAAAAAACB2QAAAAAAA4HFAAAAAAADAZ0AAAAAAAGBgQAAAAAAAAG1AAAAAAACweUAAAAAAAGB1QAAAAAAAsHJAAAAAAAAAaUAAAAAAAOBhQAAAAAAAgHJA",
          "dtype": "f8"
         },
         "yaxis": "y"
        },
        {
         "alignmentgroup": "True",
         "hoverinfo": "skip",
         "legendgroup": "Juridik",
         "marker": {
          "color": "lightgray",
          "pattern": {
           "shape": ""
          }
         },
         "name": "Juridik",
         "offsetgroup": "Juridik",
         "orientation": "v",
         "showlegend": true,
         "textposition": "auto",
         "type": "bar",
         "x": {
          "bdata": "1gfWB9YH1gfWB9YH1wfXB9cH1wfXB9cH2AfYB9gH2AfYB9gH2QfZB9kH2QfZB9kH2gfaB9oH2gfaB9oH2wfbB9sH2wfbB9sH3AfcB9wH3AfcB9wH3QfdB90H3QfdB90H3gfeB94H3gfeB94H3wffB98H3wffB98H4AfgB+AH4AfgB+AH4QfhB+EH4QfhB+EH4gfiB+IH4gfiB+IH4wfjB+MH4wfjB+MH5AfkB+QH5AfkB+QH5QflB+UH5QflB+UH5gfmB+YH5gfmB+YH5wfnB+cH5wfnB+cH6AfoB+gH6AfoB+gH",
          "dtype": "i2"
         },
         "xaxis": "x",
         "y": {
          "bdata": "AAAAAAAAOkAAAAAAAAAqQAAAAAAAABhAAAAAAAAAHEAAAAAAAAAIQAAAAAAAABhAAAAAAACARUAAAAAAAABBQAAAAAAAADJAAAAAAAAAJkAAAAAAAAAkQAAAAAAAABhAAAAAAACARUAAAAAAAABJQAAAAAAAAD9AAAAAAAAALEAAAAAAAAAsQAAAAAAAABRAAAAAAACAQUAAAAAAAIBQQAAAAAAAADxAAAAAAAAAM0AAAAAAAAAqQAAAAAAAABhAAAAAAACAREAAAAAAAABLQAAAAAAAAD5AAAAAAAAAOEAAAAAAAAAwQAAAAAAAACBAAAAAAAAASUAAAAAAAABKQAAAAAAAAD1AAAAAAAAAOkAAAAAAAAAmQAAAAAAAABxAAAAAAAAAUEAAAAAAAMBQQAAAAAAAAE1AAAAAAAAAOkAAAAAAAAA2QAAAAAAAABRAAAAAAACATEAAAAAAAEBYQAAAAAAAQFBAAAAAAAAAQEAAAAAAAAAzQAAAAAAAACRAAAAAAAAAQkAAAAAAAMBYQAAAAAAAAFNAAAAAAAAAQkAAAAAAAAA0QAAAAAAAADFAAAAAAAAAR0AAAAAAAIBaQAAAAAAAAFJAAAAAAACAQkAAAAAAAAA/QAAAAAAAADFAAAAAAACAS0AAAAAAAMBYQAAAAAAAwFNAAAAAAACARUAAAAAAAABBQAAAAAAAADpAAAAAAAAAUEAAAAAAAABgQAAAAAAAgFZAAAAAAACARkAAAAAAAIBEQAAAAAAAAEZAAAAAAABAWEAAAAAAAMBcQAAAAAAAgFZAAAAAAACAS0AAAAAAAABIQAAAAAAAgEBAAAAAAACAX0AAAAAAAABaQAAAAAAAAFdAAAAAAAAARUAAAAAAAABMQAAAAAAAAD9AAAAAAABgYkAAAAAAAIBdQAAAAAAAgFRAAAAAAAAASUAAAAAAAABFQAAAAAAAgEZAAAAAAAAgYUAAAAAAAABaQAAAAAAAAFVAAAAAAAAATUAAAAAAAABDQAAAAAAAwFBAAAAAAACAW0AAAAAAAMBVQAAAAAAAgFJAAAAAAACASEAAAAAAAABBQAAAAAAAAE9AAAAAAABAWkAAAAAAAABTQAAAAAAAgEtAAAAAAACAQ0AAAAAAAAA9QAAAAAAAAEVAAAAAAADAWUAAAAAAAIBVQAAAAAAAgElAAAAAAACAQkAAAAAAAAA/QAAAAAAAAENA",
          "dtype": "f8"
         },
         "yaxis": "y"
        }
       ],
       "layout": {
        "annotations": [
         {
          "arrowcolor": "royalblue",
          "arrowhead": 3,
          "ax": 0,
          "ay": 60,
          "bgcolor": "white",
          "bordercolor": "royalblue",
          "borderwidth": 1,
          "font": {
           "color": "royalblue",
           "family": "Arial",
           "size": 13
          },
          "showarrow": true,
          "text": "🚀 Tillväxtmöjlighet",
          "x": 2024,
          "y": 4227
         },
         {
          "arrowcolor": "royalblue",
          "arrowhead": 3,
          "ax": 40,
          "ay": 0,
          "bgcolor": "white",
          "bordercolor": "royalblue",
          "borderwidth": 1,
          "font": {
           "color": "royalblue",
           "family": "Arial",
           "size": 13
          },
          "showarrow": true,
          "text": "🚀 Tillväxtmöjlighet",
          "x": 2010,
          "y": 5661.7
         }
        ],
        "barmode": "group",
        "hovermode": false,
        "legend": {
         "title": {
          "text": "Utbildningsinriktning"
         },
         "tracegroupgap": 0
        },
        "paper_bgcolor": "white",
        "plot_bgcolor": "white",
        "showlegend": true,
        "template": {
         "data": {
          "bar": [
           {
            "error_x": {
             "color": "#2a3f5f"
            },
            "error_y": {
             "color": "#2a3f5f"
            },
            "marker": {
             "line": {
              "color": "#E5ECF6",
              "width": 0.5
             },
             "pattern": {
              "fillmode": "overlay",
              "size": 10,
              "solidity": 0.2
             }
            },
            "type": "bar"
           }
          ],
          "barpolar": [
           {
            "marker": {
             "line": {
              "color": "#E5ECF6",
              "width": 0.5
             },
             "pattern": {
              "fillmode": "overlay",
              "size": 10,
              "solidity": 0.2
             }
            },
            "type": "barpolar"
           }
          ],
          "carpet": [
           {
            "aaxis": {
             "endlinecolor": "#2a3f5f",
             "gridcolor": "white",
             "linecolor": "white",
             "minorgridcolor": "white",
             "startlinecolor": "#2a3f5f"
            },
            "baxis": {
             "endlinecolor": "#2a3f5f",
             "gridcolor": "white",
             "linecolor": "white",
             "minorgridcolor": "white",
             "startlinecolor": "#2a3f5f"
            },
            "type": "carpet"
           }
          ],
          "choropleth": [
           {
            "colorbar": {
             "outlinewidth": 0,
             "ticks": ""
            },
            "type": "choropleth"
           }
          ],
          "contour": [
           {
            "colorbar": {
             "outlinewidth": 0,
             "ticks": ""
            },
            "colorscale": [
             [
              0,
              "#0d0887"
             ],
             [
              0.1111111111111111,
              "#46039f"
             ],
             [
              0.2222222222222222,
              "#7201a8"
             ],
             [
              0.3333333333333333,
              "#9c179e"
             ],
             [
              0.4444444444444444,
              "#bd3786"
             ],
             [
              0.5555555555555556,
              "#d8576b"
             ],
             [
              0.6666666666666666,
              "#ed7953"
             ],
             [
              0.7777777777777778,
              "#fb9f3a"
             ],
             [
              0.8888888888888888,
              "#fdca26"
             ],
             [
              1,
              "#f0f921"
             ]
            ],
            "type": "contour"
           }
          ],
          "contourcarpet": [
           {
            "colorbar": {
             "outlinewidth": 0,
             "ticks": ""
            },
            "type": "contourcarpet"
           }
          ],
          "heatmap": [
           {
            "colorbar": {
             "outlinewidth": 0,
             "ticks": ""
            },
            "colorscale": [
             [
              0,
              "#0d0887"
             ],
             [
              0.1111111111111111,
              "#46039f"
             ],
             [
              0.2222222222222222,
              "#7201a8"
             ],
             [
              0.3333333333333333,
              "#9c179e"
             ],
             [
              0.4444444444444444,
              "#bd3786"
             ],
             [
              0.5555555555555556,
              "#d8576b"
             ],
             [
              0.6666666666666666,
              "#ed7953"
             ],
             [
              0.7777777777777778,
              "#fb9f3a"
             ],
             [
              0.8888888888888888,
              "#fdca26"
             ],
             [
              1,
              "#f0f921"
             ]
            ],
            "type": "heatmap"
           }
          ],
          "histogram": [
           {
            "marker": {
             "pattern": {
              "fillmode": "overlay",
              "size": 10,
              "solidity": 0.2
             }
            },
            "type": "histogram"
           }
          ],
          "histogram2d": [
           {
            "colorbar": {
             "outlinewidth": 0,
             "ticks": ""
            },
            "colorscale": [
             [
              0,
              "#0d0887"
             ],
             [
              0.1111111111111111,
              "#46039f"
             ],
             [
              0.2222222222222222,
              "#7201a8"
             ],
             [
              0.3333333333333333,
              "#9c179e"
             ],
             [
              0.4444444444444444,
              "#bd3786"
             ],
             [
              0.5555555555555556,
              "#d8576b"
             ],
             [
              0.6666666666666666,
              "#ed7953"
             ],
             [
              0.7777777777777778,
              "#fb9f3a"
             ],
             [
              0.8888888888888888,
              "#fdca26"
             ],
             [
              1,
              "#f0f921"
             ]
            ],
            "type": "histogram2d"
           }
          ],
          "histogram2dcontour": [
           {
            "colorbar": {
             "outlinewidth": 0,
             "ticks": ""
            },
            "colorscale": [
             [
              0,
              "#0d0887"
             ],
             [
              0.1111111111111111,
              "#46039f"
             ],
             [
              0.2222222222222222,
              "#7201a8"
             ],
             [
              0.3333333333333333,
              "#9c179e"
             ],
             [
              0.4444444444444444,
              "#bd3786"
             ],
             [
              0.5555555555555556,
              "#d8576b"
             ],
             [
              0.6666666666666666,
              "#ed7953"
             ],
             [
              0.7777777777777778,
              "#fb9f3a"
             ],
             [
              0.8888888888888888,
              "#fdca26"
             ],
             [
              1,
              "#f0f921"
             ]
            ],
            "type": "histogram2dcontour"
           }
          ],
          "mesh3d": [
           {
            "colorbar": {
             "outlinewidth": 0,
             "ticks": ""
            },
            "type": "mesh3d"
           }
          ],
          "parcoords": [
           {
            "line": {
             "colorbar": {
              "outlinewidth": 0,
              "ticks": ""
             }
            },
            "type": "parcoords"
           }
          ],
          "pie": [
           {
            "automargin": true,
            "type": "pie"
           }
          ],
          "scatter": [
           {
            "fillpattern": {
             "fillmode": "overlay",
             "size": 10,
             "solidity": 0.2
            },
            "type": "scatter"
           }
          ],
          "scatter3d": [
           {
            "line": {
             "colorbar": {
              "outlinewidth": 0,
              "ticks": ""
             }
            },
            "marker": {
             "colorbar": {
              "outlinewidth": 0,
              "ticks": ""
             }
            },
            "type": "scatter3d"
           }
          ],
          "scattercarpet": [
           {
            "marker": {
             "colorbar": {
              "outlinewidth": 0,
              "ticks": ""
             }
            },
            "type": "scattercarpet"
           }
          ],
          "scattergeo": [
           {
            "marker": {
             "colorbar": {
              "outlinewidth": 0,
              "ticks": ""
             }
            },
            "type": "scattergeo"
           }
          ],
          "scattergl": [
           {
            "marker": {
             "colorbar": {
              "outlinewidth": 0,
              "ticks": ""
             }
            },
            "type": "scattergl"
           }
          ],
          "scattermap": [
           {
            "marker": {
             "colorbar": {
              "outlinewidth": 0,
              "ticks": ""
             }
            },
            "type": "scattermap"
           }
          ],
          "scattermapbox": [
           {
            "marker": {
             "colorbar": {
              "outlinewidth": 0,
              "ticks": ""
             }
            },
            "type": "scattermapbox"
           }
          ],
          "scatterpolar": [
           {
            "marker": {
             "colorbar": {
              "outlinewidth": 0,
              "ticks": ""
             }
            },
            "type": "scatterpolar"
           }
          ],
          "scatterpolargl": [
           {
            "marker": {
             "colorbar": {
              "outlinewidth": 0,
              "ticks": ""
             }
            },
            "type": "scatterpolargl"
           }
          ],
          "scatterternary": [
           {
            "marker": {
             "colorbar": {
              "outlinewidth": 0,
              "ticks": ""
             }
            },
            "type": "scatterternary"
           }
          ],
          "surface": [
           {
            "colorbar": {
             "outlinewidth": 0,
             "ticks": ""
            },
            "colorscale": [
             [
              0,
              "#0d0887"
             ],
             [
              0.1111111111111111,
              "#46039f"
             ],
             [
              0.2222222222222222,
              "#7201a8"
             ],
             [
              0.3333333333333333,
              "#9c179e"
             ],
             [
              0.4444444444444444,
              "#bd3786"
             ],
             [
              0.5555555555555556,
              "#d8576b"
             ],
             [
              0.6666666666666666,
              "#ed7953"
             ],
             [
              0.7777777777777778,
              "#fb9f3a"
             ],
             [
              0.8888888888888888,
              "#fdca26"
             ],
             [
              1,
              "#f0f921"
             ]
            ],
            "type": "surface"
           }
          ],
          "table": [
           {
            "cells": {
             "fill": {
              "color": "#EBF0F8"
             },
             "line": {
              "color": "white"
             }
            },
            "header": {
             "fill": {
              "color": "#C8D4E3"
             },
             "line": {
              "color": "white"
             }
            },
            "type": "table"
           }
          ]
         },
         "layout": {
          "annotationdefaults": {
           "arrowcolor": "#2a3f5f",
           "arrowhead": 0,
           "arrowwidth": 1
          },
          "autotypenumbers": "strict",
          "coloraxis": {
           "colorbar": {
            "outlinewidth": 0,
            "ticks": ""
           }
          },
          "colorscale": {
           "diverging": [
            [
             0,
             "#8e0152"
            ],
            [
             0.1,
             "#c51b7d"
            ],
            [
             0.2,
             "#de77ae"
            ],
            [
             0.3,
             "#f1b6da"
            ],
            [
             0.4,
             "#fde0ef"
            ],
            [
             0.5,
             "#f7f7f7"
            ],
            [
             0.6,
             "#e6f5d0"
            ],
            [
             0.7,
             "#b8e186"
            ],
            [
             0.8,
             "#7fbc41"
            ],
            [
             0.9,
             "#4d9221"
            ],
            [
             1,
             "#276419"
            ]
           ],
           "sequential": [
            [
             0,
             "#0d0887"
            ],
            [
             0.1111111111111111,
             "#46039f"
            ],
            [
             0.2222222222222222,
             "#7201a8"
            ],
            [
             0.3333333333333333,
             "#9c179e"
            ],
            [
             0.4444444444444444,
             "#bd3786"
            ],
            [
             0.5555555555555556,
             "#d8576b"
            ],
            [
             0.6666666666666666,
             "#ed7953"
            ],
            [
             0.7777777777777778,
             "#fb9f3a"
            ],
            [
             0.8888888888888888,
             "#fdca26"
            ],
            [
             1,
             "#f0f921"
            ]
           ],
           "sequentialminus": [
            [
             0,
             "#0d0887"
            ],
            [
             0.1111111111111111,
             "#46039f"
            ],
            [
             0.2222222222222222,
             "#7201a8"
            ],
            [
             0.3333333333333333,
             "#9c179e"
            ],
            [
             0.4444444444444444,
             "#bd3786"
            ],
            [
             0.5555555555555556,
             "#d8576b"
            ],
            [
             0.6666666666666666,
             "#ed7953"
            ],
            [
             0.7777777777777778,
             "#fb9f3a"
            ],
            [
             0.8888888888888888,
             "#fdca26"
            ],
            [
             1,
             "#f0f921"
            ]
           ]
          },
          "colorway": [
           "#636efa",
           "#EF553B",
           "#00cc96",
           "#ab63fa",
           "#FFA15A",
           "#19d3f3",
           "#FF6692",
           "#B6E880",
           "#FF97FF",
           "#FECB52"
          ],
          "font": {
           "color": "#2a3f5f"
          },
          "geo": {
           "bgcolor": "white",
           "lakecolor": "white",
           "landcolor": "#E5ECF6",
           "showlakes": true,
           "showland": true,
           "subunitcolor": "white"
          },
          "hoverlabel": {
           "align": "left"
          },
          "hovermode": "closest",
          "mapbox": {
           "style": "light"
          },
          "paper_bgcolor": "white",
          "plot_bgcolor": "#E5ECF6",
          "polar": {
           "angularaxis": {
            "gridcolor": "white",
            "linecolor": "white",
            "ticks": ""
           },
           "bgcolor": "#E5ECF6",
           "radialaxis": {
            "gridcolor": "white",
            "linecolor": "white",
            "ticks": ""
           }
          },
          "scene": {
           "xaxis": {
            "backgroundcolor": "#E5ECF6",
            "gridcolor": "white",
            "gridwidth": 2,
            "linecolor": "white",
            "showbackground": true,
            "ticks": "",
            "zerolinecolor": "white"
           },
           "yaxis": {
            "backgroundcolor": "#E5ECF6",
            "gridcolor": "white",
            "gridwidth": 2,
            "linecolor": "white",
            "showbackground": true,
            "ticks": "",
            "zerolinecolor": "white"
           },
           "zaxis": {
            "backgroundcolor": "#E5ECF6",
            "gridcolor": "white",
            "gridwidth": 2,
            "linecolor": "white",
            "showbackground": true,
            "ticks": "",
            "zerolinecolor": "white"
           }
          },
          "shapedefaults": {
           "line": {
            "color": "#2a3f5f"
           }
          },
          "ternary": {
           "aaxis": {
            "gridcolor": "white",
            "linecolor": "white",
            "ticks": ""
           },
           "baxis": {
            "gridcolor": "white",
            "linecolor": "white",
            "ticks": ""
           },
           "bgcolor": "#E5ECF6",
           "caxis": {
            "gridcolor": "white",
            "linecolor": "white",
            "ticks": ""
           }
          },
          "title": {
           "x": 0.05
          },
          "xaxis": {
           "automargin": true,
           "gridcolor": "white",
           "linecolor": "white",
           "ticks": "",
           "title": {
            "standoff": 15
           },
           "zerolinecolor": "white",
           "zerolinewidth": 2
          },
          "yaxis": {
           "automargin": true,
           "gridcolor": "white",
           "linecolor": "white",
           "ticks": "",
           "title": {
            "standoff": 15
           },
           "zerolinecolor": "white",
           "zerolinewidth": 2
          }
         }
        },
        "title": {
         "text": "Investera i framtiden: Ekonomi och administration växer snabbt bland YH-studenter"
        },
        "xaxis": {
         "anchor": "y",
         "domain": [
          0,
          1
         ],
         "tickangle": 0,
         "title": {
          "text": "År"
         }
        },
        "yaxis": {
         "anchor": "x",
         "domain": [
          0,
          1
         ],
         "title": {
          "text": "Antal studerande"
         }
        }
       }
      }
     },
     "metadata": {},
     "output_type": "display_data"
    }
   ],
   "source": [
    "# Ta fram maxvärdet för y-axeln (Antal studerande) i hela df_long för att placera texten ovanför staplarna\n",
    "max_y = df_long[\"Antal studerande\"].max()\n",
    "\n",
    "fig.add_annotation(\n",
    "    x=2010,                # placera texten vid år 2010 på x-axeln\n",
    "    y=max_y + max_y*0.1,   # placera texten 10% ovanför maxvärdet på y-axeln\n",
    "    text=\"🚀 Tillväxtmöjlighet\",\n",
    "    showarrow=True,\n",
    "    arrowhead=3,\n",
    "    arrowcolor=\"royalblue\",\n",
    "    ax=40,                 # pilens startpunkt i pixlar från texten horisontellt (positivt = pil pekar höger)\n",
    "    ay=0,                  # pilens startpunkt vertikalt (0 = pilen är horisontell)\n",
    "    font=dict(color=\"royalblue\", size=13, family=\"Arial\"),\n",
    "    bgcolor=\"white\",\n",
    "    bordercolor=\"royalblue\",\n",
    "    borderwidth=1\n",
    ")\n"
   ]
  },
  {
   "cell_type": "code",
   "execution_count": 178,
   "id": "f5c778ec",
   "metadata": {},
   "outputs": [],
   "source": [
    "import matplotlib.pyplot as plt\n",
    "\n",
    "def create_storytelling_chart_matplotlib(df_summary):\n",
    "    highlight_area = \"Ekonomi, administration och försäljning\"\n",
    "\n",
    "    fig, ax = plt.subplots(figsize=(8, 5))\n",
    "\n",
    "    # Färger: royalblue för highlight, lightgray för andra\n",
    "    colors = ['royalblue' if area == highlight_area else 'lightgray' for area in df_summary[\"Utbildningsinriktning\"]]\n",
    "\n",
    "    # Horisontell stapelplot\n",
    "    ax.barh(df_summary[\"Utbildningsinriktning\"], df_summary[\"Antal studerande\"], color=colors)\n",
    "\n",
    "    ax.set_xlabel(\"Antal studerande\")\n",
    "    ax.set_ylabel(\"Utbildningsområde\")\n",
    "    ax.set_title(\"Vilket utbildningsområde bör # The Skool fokusera på ?\")\n",
    "\n",
    "    # Ta bort rutnät och axellinjer om du vill (som i Plotly)\n",
    "    ax.grid(False)\n",
    "    ax.spines['top'].set_visible(False)\n",
    "    ax.spines['right'].set_visible(False)\n",
    "    ax.spines['left'].set_visible(False)\n",
    "    ax.spines['bottom'].set_visible(False)\n",
    "\n",
    "    # Lägg till annotation/pil om highlight_area finns\n",
    "    if highlight_area in df_summary[\"Utbildningsinriktning\"].values:\n",
    "        highlight_idx = df_summary.index[df_summary[\"Utbildningsinriktning\"] == highlight_area][0]\n",
    "        highlight_value = df_summary.loc[highlight_idx, \"Antal studerande\"]\n",
    "\n",
    "        ax.annotate(\n",
    "            \"Viktig tillväxtmöjlighet\",\n",
    "            xy=(highlight_value, highlight_idx),\n",
    "            xytext=(highlight_value + 20, highlight_idx),\n",
    "            va='center',\n",
    "            ha='left',\n",
    "            fontsize=12,\n",
    "            color='royalblue',\n",
    "            arrowprops=dict(facecolor='royalblue', shrink=0.05, width=1, headwidth=8)\n",
    "        )\n",
    "\n",
    "    plt.tight_layout()\n",
    "    return fig\n"
   ]
  }
 ],
 "metadata": {
  "kernelspec": {
   "display_name": ".venv",
   "language": "python",
   "name": "python3"
  },
  "language_info": {
   "codemirror_mode": {
    "name": "ipython",
    "version": 3
   },
   "file_extension": ".py",
   "mimetype": "text/x-python",
   "name": "python",
   "nbconvert_exporter": "python",
   "pygments_lexer": "ipython3",
   "version": "3.11.8"
  }
 },
 "nbformat": 4,
 "nbformat_minor": 5
}
