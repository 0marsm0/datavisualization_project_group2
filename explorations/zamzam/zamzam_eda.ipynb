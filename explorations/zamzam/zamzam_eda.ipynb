{
 "cells": [
  {
   "cell_type": "code",
   "execution_count": 300,
   "id": "be4b6b7b",
   "metadata": {},
   "outputs": [
    {
     "name": "stdout",
     "output_type": "stream",
     "text": [
      "['Tabell 1']\n"
     ]
    }
   ],
   "source": [
    "import pandas as pd\n",
    "\n",
    "# Läs in Excel-filen\n",
    "xls = pd.ExcelFile(\"/Users/zamzamyusuf/Documents/github/datavisualization_project_group2/data/page_2/studerande_over_tid.xlsx\")\n",
    "\n",
    "# Visa alla ark\n",
    "print(xls.sheet_names)\n"
   ]
  },
  {
   "cell_type": "code",
   "execution_count": 301,
   "id": "fff545ac",
   "metadata": {},
   "outputs": [
    {
     "name": "stdout",
     "output_type": "stream",
     "text": [
      "Index(['Unnamed: 0', 'Unnamed: 1', 'Unnamed: 2', '2005', '2006', '2007',\n",
      "       '2008', '2009', '2010', '2011', '2012', '2013', '2014', '2015', '2016',\n",
      "       '2017', '2018', '2019', '2020', '2021', '2022', '2023', '2024'],\n",
      "      dtype='object')\n"
     ]
    }
   ],
   "source": [
    "df_raw = xls.parse(xls.sheet_names[0], skiprows=2)\n",
    "print(df_raw.columns)"
   ]
  },
  {
   "cell_type": "code",
   "execution_count": 302,
   "id": "1d3fb803",
   "metadata": {},
   "outputs": [],
   "source": [
    "df_raw.columns = [\"SUN_kod\", \"Utbildningsinriktning\", \"Åldersgrupp\"] + list(range(2005, 2025))"
   ]
  },
  {
   "cell_type": "code",
   "execution_count": 303,
   "id": "29d8dc17",
   "metadata": {},
   "outputs": [
    {
     "name": "stdout",
     "output_type": "stream",
     "text": [
      "Index(['Unnamed: 0', 'Unnamed: 1', 'Unnamed: 2', '2005', '2006', '2007',\n",
      "       '2008', '2009', '2010', '2011', '2012', '2013', '2014', '2015', '2016',\n",
      "       '2017', '2018', '2019', '2020', '2021', '2022', '2023', '2024'],\n",
      "      dtype='object')\n"
     ]
    }
   ],
   "source": [
    "print(df.columns)\n"
   ]
  },
  {
   "cell_type": "code",
   "execution_count": 304,
   "id": "61978a76",
   "metadata": {},
   "outputs": [
    {
     "name": "stdout",
     "output_type": "stream",
     "text": [
      "Index(['Unnamed: 0', 'Unnamed: 1', 'Unnamed: 2', '2005', '2006', '2007',\n",
      "       '2008', '2009', '2010', '2011', '2012', '2013', '2014', '2015', '2016',\n",
      "       '2017', '2018', '2019', '2020', '2021', '2022', '2023', '2024'],\n",
      "      dtype='object')\n"
     ]
    }
   ],
   "source": [
    "df = pd.read_excel(\"/Users/zamzamyusuf/Documents/github/datavisualization_project_group2/data/page_2/studerande_over_tid.xlsx\", header=2)  # eller header=0 eller header=2 beroende på hur filen ser ut\n",
    "print(df.columns)"
   ]
  },
  {
   "cell_type": "code",
   "execution_count": 305,
   "id": "67ea9181",
   "metadata": {},
   "outputs": [],
   "source": [
    "df_cleaned = df.rename(columns={\n",
    "    'Unnamed: 0': 'Kod',\n",
    "    'Unnamed: 1': 'Utbildningsinriktning',\n",
    "    'Unnamed: 2': 'Åldersgrupp'\n",
    "})"
   ]
  },
  {
   "cell_type": "code",
   "execution_count": 306,
   "id": "8fddfe95",
   "metadata": {},
   "outputs": [
    {
     "ename": "KeyError",
     "evalue": "\"['SUN_kod'] not in index\"",
     "output_type": "error",
     "traceback": [
      "\u001b[0;31m---------------------------------------------------------------------------\u001b[0m",
      "\u001b[0;31mKeyError\u001b[0m                                  Traceback (most recent call last)",
      "Cell \u001b[0;32mIn[306], line 1\u001b[0m\n\u001b[0;32m----> 1\u001b[0m df_cleaned[[\u001b[38;5;124m\"\u001b[39m\u001b[38;5;124mSUN_kod\u001b[39m\u001b[38;5;124m\"\u001b[39m, \u001b[38;5;124m\"\u001b[39m\u001b[38;5;124mUtbildningsinriktning\u001b[39m\u001b[38;5;124m\"\u001b[39m]] \u001b[38;5;241m=\u001b[39m \u001b[43mdf_cleaned\u001b[49m\u001b[43m[\u001b[49m\u001b[43m[\u001b[49m\u001b[38;5;124;43m\"\u001b[39;49m\u001b[38;5;124;43mSUN_kod\u001b[39;49m\u001b[38;5;124;43m\"\u001b[39;49m\u001b[43m,\u001b[49m\u001b[43m \u001b[49m\u001b[38;5;124;43m\"\u001b[39;49m\u001b[38;5;124;43mUtbildningsinriktning\u001b[39;49m\u001b[38;5;124;43m\"\u001b[39;49m\u001b[43m]\u001b[49m\u001b[43m]\u001b[49m\u001b[38;5;241m.\u001b[39mffill()\n\u001b[1;32m      3\u001b[0m \u001b[38;5;66;03m# Smält endast på års-kolumnerna\u001b[39;00m\n\u001b[1;32m      4\u001b[0m df_long \u001b[38;5;241m=\u001b[39m pd\u001b[38;5;241m.\u001b[39mmelt(\n\u001b[1;32m      5\u001b[0m     df_cleaned,\n\u001b[1;32m      6\u001b[0m     id_vars\u001b[38;5;241m=\u001b[39m[\u001b[38;5;124m\"\u001b[39m\u001b[38;5;124mSUN_kod\u001b[39m\u001b[38;5;124m\"\u001b[39m, \u001b[38;5;124m\"\u001b[39m\u001b[38;5;124mUtbildningsinriktning\u001b[39m\u001b[38;5;124m\"\u001b[39m, \u001b[38;5;124m\"\u001b[39m\u001b[38;5;124mÅldersgrupp\u001b[39m\u001b[38;5;124m\"\u001b[39m],\n\u001b[1;32m      7\u001b[0m     var_name\u001b[38;5;241m=\u001b[39m\u001b[38;5;124m\"\u001b[39m\u001b[38;5;124mÅr\u001b[39m\u001b[38;5;124m\"\u001b[39m,\n\u001b[1;32m      8\u001b[0m     value_name\u001b[38;5;241m=\u001b[39m\u001b[38;5;124m\"\u001b[39m\u001b[38;5;124mAntal studerande\u001b[39m\u001b[38;5;124m\"\u001b[39m\n\u001b[1;32m      9\u001b[0m )\n",
      "File \u001b[0;32m/Library/Frameworks/Python.framework/Versions/3.12/lib/python3.12/site-packages/pandas/core/frame.py:4108\u001b[0m, in \u001b[0;36mDataFrame.__getitem__\u001b[0;34m(self, key)\u001b[0m\n\u001b[1;32m   4106\u001b[0m     \u001b[38;5;28;01mif\u001b[39;00m is_iterator(key):\n\u001b[1;32m   4107\u001b[0m         key \u001b[38;5;241m=\u001b[39m \u001b[38;5;28mlist\u001b[39m(key)\n\u001b[0;32m-> 4108\u001b[0m     indexer \u001b[38;5;241m=\u001b[39m \u001b[38;5;28;43mself\u001b[39;49m\u001b[38;5;241;43m.\u001b[39;49m\u001b[43mcolumns\u001b[49m\u001b[38;5;241;43m.\u001b[39;49m\u001b[43m_get_indexer_strict\u001b[49m\u001b[43m(\u001b[49m\u001b[43mkey\u001b[49m\u001b[43m,\u001b[49m\u001b[43m \u001b[49m\u001b[38;5;124;43m\"\u001b[39;49m\u001b[38;5;124;43mcolumns\u001b[39;49m\u001b[38;5;124;43m\"\u001b[39;49m\u001b[43m)\u001b[49m[\u001b[38;5;241m1\u001b[39m]\n\u001b[1;32m   4110\u001b[0m \u001b[38;5;66;03m# take() does not accept boolean indexers\u001b[39;00m\n\u001b[1;32m   4111\u001b[0m \u001b[38;5;28;01mif\u001b[39;00m \u001b[38;5;28mgetattr\u001b[39m(indexer, \u001b[38;5;124m\"\u001b[39m\u001b[38;5;124mdtype\u001b[39m\u001b[38;5;124m\"\u001b[39m, \u001b[38;5;28;01mNone\u001b[39;00m) \u001b[38;5;241m==\u001b[39m \u001b[38;5;28mbool\u001b[39m:\n",
      "File \u001b[0;32m/Library/Frameworks/Python.framework/Versions/3.12/lib/python3.12/site-packages/pandas/core/indexes/base.py:6200\u001b[0m, in \u001b[0;36mIndex._get_indexer_strict\u001b[0;34m(self, key, axis_name)\u001b[0m\n\u001b[1;32m   6197\u001b[0m \u001b[38;5;28;01melse\u001b[39;00m:\n\u001b[1;32m   6198\u001b[0m     keyarr, indexer, new_indexer \u001b[38;5;241m=\u001b[39m \u001b[38;5;28mself\u001b[39m\u001b[38;5;241m.\u001b[39m_reindex_non_unique(keyarr)\n\u001b[0;32m-> 6200\u001b[0m \u001b[38;5;28;43mself\u001b[39;49m\u001b[38;5;241;43m.\u001b[39;49m\u001b[43m_raise_if_missing\u001b[49m\u001b[43m(\u001b[49m\u001b[43mkeyarr\u001b[49m\u001b[43m,\u001b[49m\u001b[43m \u001b[49m\u001b[43mindexer\u001b[49m\u001b[43m,\u001b[49m\u001b[43m \u001b[49m\u001b[43maxis_name\u001b[49m\u001b[43m)\u001b[49m\n\u001b[1;32m   6202\u001b[0m keyarr \u001b[38;5;241m=\u001b[39m \u001b[38;5;28mself\u001b[39m\u001b[38;5;241m.\u001b[39mtake(indexer)\n\u001b[1;32m   6203\u001b[0m \u001b[38;5;28;01mif\u001b[39;00m \u001b[38;5;28misinstance\u001b[39m(key, Index):\n\u001b[1;32m   6204\u001b[0m     \u001b[38;5;66;03m# GH 42790 - Preserve name from an Index\u001b[39;00m\n",
      "File \u001b[0;32m/Library/Frameworks/Python.framework/Versions/3.12/lib/python3.12/site-packages/pandas/core/indexes/base.py:6252\u001b[0m, in \u001b[0;36mIndex._raise_if_missing\u001b[0;34m(self, key, indexer, axis_name)\u001b[0m\n\u001b[1;32m   6249\u001b[0m     \u001b[38;5;28;01mraise\u001b[39;00m \u001b[38;5;167;01mKeyError\u001b[39;00m(\u001b[38;5;124mf\u001b[39m\u001b[38;5;124m\"\u001b[39m\u001b[38;5;124mNone of [\u001b[39m\u001b[38;5;132;01m{\u001b[39;00mkey\u001b[38;5;132;01m}\u001b[39;00m\u001b[38;5;124m] are in the [\u001b[39m\u001b[38;5;132;01m{\u001b[39;00maxis_name\u001b[38;5;132;01m}\u001b[39;00m\u001b[38;5;124m]\u001b[39m\u001b[38;5;124m\"\u001b[39m)\n\u001b[1;32m   6251\u001b[0m not_found \u001b[38;5;241m=\u001b[39m \u001b[38;5;28mlist\u001b[39m(ensure_index(key)[missing_mask\u001b[38;5;241m.\u001b[39mnonzero()[\u001b[38;5;241m0\u001b[39m]]\u001b[38;5;241m.\u001b[39munique())\n\u001b[0;32m-> 6252\u001b[0m \u001b[38;5;28;01mraise\u001b[39;00m \u001b[38;5;167;01mKeyError\u001b[39;00m(\u001b[38;5;124mf\u001b[39m\u001b[38;5;124m\"\u001b[39m\u001b[38;5;132;01m{\u001b[39;00mnot_found\u001b[38;5;132;01m}\u001b[39;00m\u001b[38;5;124m not in index\u001b[39m\u001b[38;5;124m\"\u001b[39m)\n",
      "\u001b[0;31mKeyError\u001b[0m: \"['SUN_kod'] not in index\""
     ]
    }
   ],
   "source": [
    "df_cleaned[[\"SUN_kod\", \"Utbildningsinriktning\"]] = df_cleaned[[\"SUN_kod\", \"Utbildningsinriktning\"]].ffill()\n",
    "\n",
    "# Smält endast på års-kolumnerna\n",
    "df_long = pd.melt(\n",
    "    df_cleaned,\n",
    "    id_vars=[\"SUN_kod\", \"Utbildningsinriktning\", \"Åldersgrupp\"],\n",
    "    var_name=\"År\",\n",
    "    value_name=\"Antal studerande\"\n",
    ")\n",
    "\n",
    "# Ta bort rader utan värde\n",
    "df_long = df_long.dropna(subset=[\"Antal studerande\"])\n",
    "\n",
    "# Konvertera år till int\n",
    "df_long[\"År\"] = df_long[\"År\"].astype(int)\n"
   ]
  },
  {
   "cell_type": "code",
   "execution_count": null,
   "id": "3c729537",
   "metadata": {},
   "outputs": [
    {
     "data": {
      "text/html": [
       "<div>\n",
       "<style scoped>\n",
       "    .dataframe tbody tr th:only-of-type {\n",
       "        vertical-align: middle;\n",
       "    }\n",
       "\n",
       "    .dataframe tbody tr th {\n",
       "        vertical-align: top;\n",
       "    }\n",
       "\n",
       "    .dataframe thead th {\n",
       "        text-align: right;\n",
       "    }\n",
       "</style>\n",
       "<table border=\"1\" class=\"dataframe\">\n",
       "  <thead>\n",
       "    <tr style=\"text-align: right;\">\n",
       "      <th></th>\n",
       "      <th>SUN_kod</th>\n",
       "      <th>Utbildningsinriktning</th>\n",
       "      <th>Åldersgrupp</th>\n",
       "      <th>År</th>\n",
       "      <th>Antal studerande</th>\n",
       "    </tr>\n",
       "  </thead>\n",
       "  <tbody>\n",
       "    <tr>\n",
       "      <th>0</th>\n",
       "      <td>totalt</td>\n",
       "      <td>Data/It</td>\n",
       "      <td>-24 år</td>\n",
       "      <td>2005</td>\n",
       "      <td>1281</td>\n",
       "    </tr>\n",
       "    <tr>\n",
       "      <th>1</th>\n",
       "      <td>totalt</td>\n",
       "      <td>Data/It</td>\n",
       "      <td>25-29 år</td>\n",
       "      <td>2005</td>\n",
       "      <td>584</td>\n",
       "    </tr>\n",
       "    <tr>\n",
       "      <th>2</th>\n",
       "      <td>totalt</td>\n",
       "      <td>Data/It</td>\n",
       "      <td>30-34 år</td>\n",
       "      <td>2005</td>\n",
       "      <td>308</td>\n",
       "    </tr>\n",
       "    <tr>\n",
       "      <th>3</th>\n",
       "      <td>totalt</td>\n",
       "      <td>Data/It</td>\n",
       "      <td>35-39 år</td>\n",
       "      <td>2005</td>\n",
       "      <td>198</td>\n",
       "    </tr>\n",
       "    <tr>\n",
       "      <th>4</th>\n",
       "      <td>totalt</td>\n",
       "      <td>Data/It</td>\n",
       "      <td>40-44 år</td>\n",
       "      <td>2005</td>\n",
       "      <td>137</td>\n",
       "    </tr>\n",
       "  </tbody>\n",
       "</table>\n",
       "</div>"
      ],
      "text/plain": [
       "  SUN_kod Utbildningsinriktning Åldersgrupp    År Antal studerande\n",
       "0  totalt               Data/It      -24 år  2005             1281\n",
       "1  totalt               Data/It    25-29 år  2005              584\n",
       "2  totalt               Data/It    30-34 år  2005              308\n",
       "3  totalt               Data/It    35-39 år  2005              198\n",
       "4  totalt               Data/It    40-44 år  2005              137"
      ]
     },
     "execution_count": 86,
     "metadata": {},
     "output_type": "execute_result"
    }
   ],
   "source": [
    "df_long.head()"
   ]
  },
  {
   "cell_type": "code",
   "execution_count": null,
   "id": "9a6c7aa2",
   "metadata": {},
   "outputs": [
    {
     "data": {
      "text/plain": [
       "(  SUN_kod Utbildningsinriktning Åldersgrupp    År  Antal studerande\n",
       " 0  totalt               Data/It      -24 år  2005            1281.0\n",
       " 1  totalt               Data/It    25-29 år  2005             584.0\n",
       " 2  totalt               Data/It    30-34 år  2005             308.0\n",
       " 3  totalt               Data/It    35-39 år  2005             198.0\n",
       " 4  totalt               Data/It    40-44 år  2005             137.0,\n",
       "      År  Antal studerande\n",
       " 0  2005           24787.0\n",
       " 1  2006           29554.0\n",
       " 2  2007           33680.0\n",
       " 3  2008           36625.0\n",
       " 4  2009           39356.0,\n",
       "   Utbildningsinriktning    År  Antal studerande\n",
       " 0               Data/It  2005            2587.0\n",
       " 1               Data/It  2006            2546.0\n",
       " 2               Data/It  2007            2797.0\n",
       " 3               Data/It  2008            2817.0\n",
       " 4               Data/It  2009            2857.0,\n",
       "                      Utbildningsinriktning  Antal studerande\n",
       " 0                                  Data/It          132050.0\n",
       " 1  Ekonomi, administration och försäljning          259478.0\n",
       " 2                 Friskvård och kroppsvård            9983.0\n",
       " 3            Hotell, restaurang och turism           55044.0\n",
       " 4  Hälso- och sjukvård samt socialt arbete          139166.0)"
      ]
     },
     "execution_count": 87,
     "metadata": {},
     "output_type": "execute_result"
    }
   ],
   "source": [
    "# Konvertera \"Antal studerande\" till numerisk och tvinga bort felaktiga värden\n",
    "df_long[\"Antal studerande\"] = pd.to_numeric(df_long[\"Antal studerande\"], errors=\"coerce\")\n",
    "\n",
    "# Rensa bort rader där konverteringen misslyckades\n",
    "df_long = df_long.dropna(subset=[\"Antal studerande\"])\n",
    "\n",
    "# Skapa KPI-dataframes för EDA och filtrering\n",
    "df_total_per_year = df_long.groupby(\"År\")[\"Antal studerande\"].sum().reset_index()\n",
    "df_total_per_area_year = df_long.groupby([\"Utbildningsinriktning\", \"År\"])[\"Antal studerande\"].sum().reset_index()\n",
    "df_total_per_age_year = df_long.groupby([\"Åldersgrupp\", \"År\"])[\"Antal studerande\"].sum().reset_index()\n",
    "df_total_per_area = df_long.groupby(\"Utbildningsinriktning\")[\"Antal studerande\"].sum().reset_index()\n",
    "\n",
    "df_long.head(), df_total_per_year.head(), df_total_per_area_year.head(), df_total_per_area.head()"
   ]
  },
  {
   "cell_type": "code",
   "execution_count": null,
   "id": "c30cc5c1",
   "metadata": {},
   "outputs": [
    {
     "data": {
      "application/vnd.plotly.v1+json": {
       "config": {
        "plotlyServerURL": "https://plot.ly"
       },
       "data": [
        {
         "hovertemplate": "Utbildningsinriktning=Data/It<br>År=%{x}<br>Antal studerande=%{y}<extra></extra>",
         "legendgroup": "Data/It",
         "line": {
          "color": "#636efa",
          "dash": "solid"
         },
         "marker": {
          "symbol": "circle"
         },
         "mode": "lines",
         "name": "Data/It",
         "showlegend": true,
         "type": "scattergl",
         "x": {
          "bdata": "1QfVB9UH1QfVB9UH1gfWB9YH1gfWB9YH1wfXB9cH1wfXB9cH2AfYB9gH2AfYB9gH2QfZB9kH2QfZB9kH2gfaB9oH2gfaB9oH2wfbB9sH2wfbB9sH3AfcB9wH3AfcB9wH3QfdB90H3QfdB90H3gfeB94H3gfeB94H3wffB98H3wffB98H4AfgB+AH4AfgB+AH4QfhB+EH4QfhB+EH4gfiB+IH4gfiB+IH4wfjB+MH4wfjB+MH5AfkB+QH5AfkB+QH5QflB+UH5QflB+UH5gfmB+YH5gfmB+YH5wfnB+cH5wfnB+cH6AfoB+gH6AfoB+gH",
          "dtype": "i2"
         },
         "xaxis": "x",
         "y": {
          "bdata": "AAAAAAAElEAAAAAAAECCQAAAAAAAQHNAAAAAAADAaEAAAAAAACBhQAAAAAAAwFNAAAAAAADAlEAAAAAAAGiAQAAAAAAAIHNAAAAAAACgZUAAAAAAAABdQAAAAAAAgFhAAAAAAABUlkAAAAAAADCDQAAAAAAAAHNAAAAAAADgaEAAAAAAAABhQAAAAAAAwFxAAAAAAABklUAAAAAAAIiEQAAAAAAA0HNAAAAAAABAakAAAAAAAABiQAAAAAAAAF5AAAAAAADgk0AAAAAAACCHQAAAAAAAAHZAAAAAAACAa0AAAAAAAEBiQAAAAAAAwF9AAAAAAAAIk0AAAAAAAMCHQAAAAAAAEHhAAAAAAAAAbkAAAAAAAGBjQAAAAAAAIGJAAAAAAAC8lEAAAAAAAMiJQAAAAAAAwHtAAAAAAAAQcEAAAAAAAABjQAAAAAAAYGNAAAAAAAB4lUAAAAAAABCMQAAAAAAAIH9AAAAAAAAwckAAAAAAAABlQAAAAAAAIGVAAAAAAABAl0AAAAAAAOSQQAAAAAAAyINAAAAAAACQdkAAAAAAAGBvQAAAAAAAAG5AAAAAAABMmUAAAAAAAGSVQAAAAAAAuIhAAAAAAACwfUAAAAAAAOBzQAAAAAAA0HZAAAAAAAAom0AAAAAAAPCYQAAAAAAAoI9AAAAAAADAg0AAAAAAAEB3QAAAAAAA4HxAAAAAAADsl0AAAAAAAAiaQAAAAAAADJNAAAAAAADIh0AAAAAAANB8QAAAAAAACIFAAAAAAAC4lkAAAAAAAEyaQAAAAAAAJJRAAAAAAADwiEAAAAAAAFB8QAAAAAAAqIBAAAAAAAAQlkAAAAAAAOCZQAAAAAAA+JJAAAAAAADQhUAAAAAAALB1QAAAAAAAkHdAAAAAAACsm0AAAAAAADygQAAAAAAAxJdAAAAAAABAjEAAAAAAAEB8QAAAAAAAgHZAAAAAAAAkokAAAAAAADSnQAAAAAAAvKJAAAAAAABAlUAAAAAAALiFQAAAAAAA0IBAAAAAAAC8pUAAAAAAAGKrQAAAAAAA5KdAAAAAAADMm0AAAAAAAKCOQAAAAAAAYIdAAAAAAAC2qEAAAAAAANytQAAAAAAAyKpAAAAAAAB4n0AAAAAAAPiOQAAAAAAAKIpAAAAAAAA0qkAAAAAAAJ6vQAAAAAAAZKxAAAAAAAAKoUAAAAAAAByRQAAAAAAAmIpAAAAAAAA6rEAAAAAAAMGwQAAAAAAAuK5AAAAAAACao0AAAAAAALCSQAAAAAAAYIxA",
          "dtype": "f8"
         },
         "yaxis": "y"
        },
        {
         "hovertemplate": "Utbildningsinriktning=Ekonomi, administration och försäljning<br>År=%{x}<br>Antal studerande=%{y}<extra></extra>",
         "legendgroup": "Ekonomi, administration och försäljning",
         "line": {
          "color": "#EF553B",
          "dash": "solid"
         },
         "marker": {
          "symbol": "circle"
         },
         "mode": "lines",
         "name": "Ekonomi, administration och försäljning",
         "showlegend": true,
         "type": "scattergl",
         "x": {
          "bdata": "1QfVB9UH1QfVB9UH1gfWB9YH1gfWB9YH1wfXB9cH1wfXB9cH2AfYB9gH2AfYB9gH2QfZB9kH2QfZB9kH2gfaB9oH2gfaB9oH2wfbB9sH2wfbB9sH3AfcB9wH3AfcB9wH3QfdB90H3QfdB90H3gfeB94H3gfeB94H3wffB98H3wffB98H4AfgB+AH4AfgB+AH4QfhB+EH4QfhB+EH4gfiB+IH4gfiB+IH4wfjB+MH4wfjB+MH5AfkB+QH5AfkB+QH5QflB+UH5QflB+UH5gfmB+YH5gfmB+YH5wfnB+cH5wfnB+cH6AfoB+gH6AfoB+gH",
          "dtype": "i2"
         },
         "xaxis": "x",
         "y": {
          "bdata": "AAAAAAAaoUAAAAAAAACYQAAAAAAAuIxAAAAAAADYhkAAAAAAAFCAQAAAAAAAUHVAAAAAAABmpUAAAAAAAFicQAAAAAAAfJBAAAAAAAB4jEAAAAAAADiDQAAAAAAAAHxAAAAAAADQqUAAAAAAACKgQAAAAAAAjJFAAAAAAABAj0AAAAAAAKCHQAAAAAAAcIFAAAAAAAAQrkAAAAAAAD6jQAAAAAAAGJRAAAAAAABkkUAAAAAAAACLQAAAAAAAiIVAAAAAAACAsEAAAAAAAAqmQAAAAAAAnJZAAAAAAACokkAAAAAAAHiKQAAAAAAAgIdAAAAAAAAFsUAAAAAAAPSnQAAAAAAAwJhAAAAAAABkk0AAAAAAAKiLQAAAAAAAIIhAAAAAAAB4sEAAAAAAAJSpQAAAAAAAlJpAAAAAAAAclEAAAAAAANiMQAAAAAAAUIhAAAAAAAAGr0AAAAAAAPypQAAAAAAAWJtAAAAAAAAUk0AAAAAAAGiLQAAAAAAACIlAAAAAAABWrkAAAAAAAHSrQAAAAAAAoJxAAAAAAACEk0AAAAAAAFiMQAAAAAAAIItAAAAAAADyq0AAAAAAAC6sQAAAAAAAPJ9AAAAAAADgk0AAAAAAAJiMQAAAAAAAyItAAAAAAAA8pkAAAAAAAIKsQAAAAAAAFJ9AAAAAAABIlUAAAAAAAMCMQAAAAAAAMIxAAAAAAADookAAAAAAABasQAAAAAAATqBAAAAAAACUlkAAAAAAAFiOQAAAAAAAiI9AAAAAAACsokAAAAAAAO6sQAAAAAAAFKJAAAAAAACkmEAAAAAAAPCQQAAAAAAAlJFAAAAAAAAgpkAAAAAAAA2wQAAAAAAAgKRAAAAAAACEm0AAAAAAAGiSQAAAAAAANJRAAAAAAACQq0AAAAAAAK+xQAAAAAAA8qdAAAAAAADUn0AAAAAAAKyUQAAAAAAAqJdAAAAAAAAysEAAAAAAABu0QAAAAAAAnqxAAAAAAAAYo0AAAAAAANCVQAAAAAAAfJpAAAAAAABFsEAAAAAAAHCzQAAAAAAAGK1AAAAAAADao0AAAAAAACCXQAAAAAAA2JlAAAAAAAA7sEAAAAAAAHqyQAAAAAAAAqxAAAAAAABEo0AAAAAAAOCVQAAAAAAAKJdAAAAAAAAKsEAAAAAAABKxQAAAAAAAQKtAAAAAAADiokAAAAAAAMyVQAAAAAAAqJhAAAAAAACDsEAAAAAAAGmwQAAAAAAAPKpAAAAAAACCokAAAAAAAGiWQAAAAAAA/JtA",
          "dtype": "f8"
         },
         "yaxis": "y"
        },
        {
         "hovertemplate": "Utbildningsinriktning=Friskvård och kroppsvård<br>År=%{x}<br>Antal studerande=%{y}<extra></extra>",
         "legendgroup": "Friskvård och kroppsvård",
         "line": {
          "color": "#00cc96",
          "dash": "solid"
         },
         "marker": {
          "symbol": "circle"
         },
         "mode": "lines",
         "name": "Friskvård och kroppsvård",
         "showlegend": true,
         "type": "scattergl",
         "x": {
          "bdata": "1QfVB9UH1QfVB9UH1gfWB9YH1gfWB9YH1wfXB9cH1wfXB9cH2AfYB9gH2AfYB9gH2QfZB9kH2QfZB9kH2gfaB9oH2gfaB9oH2wfbB9sH2wfbB9sH3AfcB9wH3AfcB9wH3QfdB90H3QfdB90H3gfeB94H3gfeB94H3wffB98H3wffB98H4AfgB+AH4AfgB+AH4QfhB+EH4QfhB+EH4gfiB+IH4gfiB+IH4wfjB+MH4wfjB+MH5AfkB+QH5AfkB+QH5QflB+UH5QflB+UH5gfmB+YH5gfmB+YH5wfnB+cH5wfnB+cH6AfoB+gH6AfoB+gH",
          "dtype": "i2"
         },
         "xaxis": "x",
         "y": {
          "bdata": "AAAAAAAAZUAAAAAAAIBeQAAAAAAAAExAAAAAAACASEAAAAAAAABLQAAAAAAAAEBAAAAAAADwcEAAAAAAAKBnQAAAAAAAwFVAAAAAAADAVUAAAAAAAABIQAAAAAAAAExAAAAAAABAdkAAAAAAAOBqQAAAAAAAAFdAAAAAAACAWUAAAAAAAABKQAAAAAAAgFBAAAAAAADQeUAAAAAAAABvQAAAAAAAwFdAAAAAAAAAVEAAAAAAAIBPQAAAAAAAgFdAAAAAAACweUAAAAAAAIBwQAAAAAAAwFZAAAAAAAAAVUAAAAAAAIBPQAAAAAAAAFhAAAAAAACQd0AAAAAAAEBrQAAAAAAAAFNAAAAAAACAUEAAAAAAAIBKQAAAAAAAwFBAAAAAAAAgcUAAAAAAAMBjQAAAAAAAgEpAAAAAAAAAQ0AAAAAAAABBQAAAAAAAAEFAAAAAAADgZkAAAAAAAABdQAAAAAAAADtAAAAAAAAAM0AAAAAAAAA0QAAAAAAAABhAAAAAAADAZUAAAAAAAABaQAAAAAAAgEFAAAAAAAAAM0AAAAAAAAAyQAAAAAAAACpAAAAAAACAYkAAAAAAAMBYQAAAAAAAADxAAAAAAAAAMkAAAAAAAAA1QAAAAAAAADBAAAAAAABAYUAAAAAAAABZQAAAAAAAAEdAAAAAAAAAOkAAAAAAAAAyQAAAAAAAADhAAAAAAADAWkAAAAAAAMBVQAAAAAAAgENAAAAAAAAAPkAAAAAAAAAyQAAAAAAAADZAAAAAAACAUUAAAAAAAEBXQAAAAAAAADhAAAAAAAAAMEAAAAAAAAAwQAAAAAAAADNAAAAAAADAUUAAAAAAAEBXQAAAAAAAADdAAAAAAAAAJkAAAAAAAAAmQAAAAAAAADZAAAAAAABAVkAAAAAAAMBcQAAAAAAAAEBAAAAAAAAAN0AAAAAAAAAwQAAAAAAAADtAAAAAAADAWEAAAAAAAABcQAAAAAAAAEpAAAAAAAAAPkAAAAAAAAAxQAAAAAAAADlAAAAAAADAXEAAAAAAAMBfQAAAAAAAgExAAAAAAAAAOEAAAAAAAAA2QAAAAAAAADtAAAAAAABAXUAAAAAAAGBhQAAAAAAAAFFAAAAAAAAAP0AAAAAAAAA1QAAAAAAAAEBAAAAAAAAAYEAAAAAAAMBgQAAAAAAAQFNAAAAAAAAARkAAAAAAAAA9QAAAAAAAAEhAAAAAAADAWUAAAAAAAABVQAAAAAAAwFBAAAAAAACAQ0AAAAAAAAA5QAAAAAAAAEhA",
          "dtype": "f8"
         },
         "yaxis": "y"
        },
        {
         "hovertemplate": "Utbildningsinriktning=Hotell, restaurang och turism<br>År=%{x}<br>Antal studerande=%{y}<extra></extra>",
         "legendgroup": "Hotell, restaurang och turism",
         "line": {
          "color": "#ab63fa",
          "dash": "solid"
         },
         "marker": {
          "symbol": "circle"
         },
         "mode": "lines",
         "name": "Hotell, restaurang och turism",
         "showlegend": true,
         "type": "scattergl",
         "x": {
          "bdata": "1QfVB9UH1QfVB9UH1gfWB9YH1gfWB9YH1wfXB9cH1wfXB9cH2AfYB9gH2AfYB9gH2QfZB9kH2QfZB9kH2gfaB9oH2gfaB9oH2wfbB9sH2wfbB9sH3AfcB9wH3AfcB9wH3QfdB90H3QfdB90H3gfeB94H3gfeB94H3wffB98H3wffB98H4AfgB+AH4AfgB+AH4QfhB+EH4QfhB+EH4gfiB+IH4gfiB+IH4wfjB+MH4wfjB+MH5AfkB+QH5AfkB+QH5QflB+UH5QflB+UH5gfmB+YH5gfmB+YH5wfnB+cH5wfnB+cH6AfoB+gH6AfoB+gH",
          "dtype": "i2"
         },
         "xaxis": "x",
         "y": {
          "bdata": "AAAAAAAMkUAAAAAAANiCQAAAAAAAIG9AAAAAAACgYEAAAAAAAEBVQAAAAAAAAE9AAAAAAADclUAAAAAAABiEQAAAAAAAoGtAAAAAAAAgYUAAAAAAAMBXQAAAAAAAgExAAAAAAADUmUAAAAAAANCFQAAAAAAAIG1AAAAAAAAAYUAAAAAAAABbQAAAAAAAQFNAAAAAAADMmkAAAAAAACCIQAAAAAAAoGtAAAAAAAAAY0AAAAAAAMBaQAAAAAAAgFpAAAAAAAD8mEAAAAAAANCIQAAAAAAAwGxAAAAAAACgYEAAAAAAAABaQAAAAAAAQFpAAAAAAAAAl0AAAAAAANCJQAAAAAAAwG5AAAAAAAAgY0AAAAAAAEBZQAAAAAAAwFpAAAAAAADwlUAAAAAAACiKQAAAAAAAQHBAAAAAAABgY0AAAAAAAIBcQAAAAAAAgF1AAAAAAABUkkAAAAAAAHCJQAAAAAAAQGxAAAAAAACAY0AAAAAAAABcQAAAAAAAwFtAAAAAAAC8kEAAAAAAALCJQAAAAAAAoG9AAAAAAACgYkAAAAAAAEBbQAAAAAAAQF5AAAAAAADYiUAAAAAAAHCLQAAAAAAAMHNAAAAAAAAgaEAAAAAAACBjQAAAAAAAAGlAAAAAAADIhEAAAAAAAACNQAAAAAAAkHZAAAAAAACgaUAAAAAAAKBoQAAAAAAAQG9AAAAAAAAwhUAAAAAAAOCLQAAAAAAA4HZAAAAAAADAaUAAAAAAAIBlQAAAAAAAYGtAAAAAAABYg0AAAAAAAJCNQAAAAAAAAHhAAAAAAABgbUAAAAAAAABlQAAAAAAAwGZAAAAAAADAg0AAAAAAAHiLQAAAAAAAsHhAAAAAAADAa0AAAAAAACBlQAAAAAAAQGlAAAAAAACIhkAAAAAAACCKQAAAAAAAYHtAAAAAAADgcEAAAAAAAKBmQAAAAAAAAHFAAAAAAACgiEAAAAAAAIiMQAAAAAAAoH5AAAAAAACgdEAAAAAAAMBpQAAAAAAA8HZAAAAAAADIiEAAAAAAANiMQAAAAAAAKIFAAAAAAACgdEAAAAAAAJBwQAAAAAAAYHxAAAAAAADIhUAAAAAAABiJQAAAAAAAwH9AAAAAAACAc0AAAAAAAKBxQAAAAAAAUHlAAAAAAAAohEAAAAAAAPiFQAAAAAAAMHxAAAAAAADQcUAAAAAAAKBxQAAAAAAAMHhAAAAAAAC4hEAAAAAAAJiEQAAAAAAAwHpAAAAAAABgc0AAAAAAAIBvQAAAAAAAgH5A",
          "dtype": "f8"
         },
         "yaxis": "y"
        },
        {
         "hovertemplate": "Utbildningsinriktning=Hälso- och sjukvård samt socialt arbete<br>År=%{x}<br>Antal studerande=%{y}<extra></extra>",
         "legendgroup": "Hälso- och sjukvård samt socialt arbete",
         "line": {
          "color": "#FFA15A",
          "dash": "solid"
         },
         "marker": {
          "symbol": "circle"
         },
         "mode": "lines",
         "name": "Hälso- och sjukvård samt socialt arbete",
         "showlegend": true,
         "type": "scattergl",
         "x": {
          "bdata": "1QfVB9UH1QfVB9UH1gfWB9YH1gfWB9YH1wfXB9cH1wfXB9cH2AfYB9gH2AfYB9gH2QfZB9kH2QfZB9kH2gfaB9oH2gfaB9oH2wfbB9sH2wfbB9sH3AfcB9wH3AfcB9wH3QfdB90H3QfdB90H3gfeB94H3gfeB94H3wffB98H3wffB98H4AfgB+AH4AfgB+AH4QfhB+EH4QfhB+EH4gfiB+IH4gfiB+IH4wfjB+MH4wfjB+MH5AfkB+QH5AfkB+QH5QflB+UH5QflB+UH5gfmB+YH5gfmB+YH5wfnB+cH5wfnB+cH6AfoB+gH6AfoB+gH",
          "dtype": "i2"
         },
         "xaxis": "x",
         "y": {
          "bdata": "AAAAAAAQhEAAAAAAAJCCQAAAAAAAkHxAAAAAAADwekAAAAAAALB5QAAAAAAAkHxAAAAAAABwikAAAAAAACCFQAAAAAAAiIJAAAAAAABQgEAAAAAAAICAQAAAAAAAEIRAAAAAAABojEAAAAAAAGCIQAAAAAAA8INAAAAAAAA4gkAAAAAAAACDQAAAAAAAUIVAAAAAAABYikAAAAAAAFiIQAAAAAAA8IJAAAAAAACQgEAAAAAAAJiCQAAAAAAAIIVAAAAAAACgiEAAAAAAAACJQAAAAAAAqIJAAAAAAADAgUAAAAAAAOiBQAAAAAAA6IdAAAAAAACYh0AAAAAAANCKQAAAAAAAwIRAAAAAAABAg0AAAAAAAACEQAAAAAAAGI5AAAAAAAC4hkAAAAAAACiMQAAAAAAAcIRAAAAAAAAIhUAAAAAAAPiDQAAAAAAAmJBAAAAAAACQgkAAAAAAAGiLQAAAAAAA2INAAAAAAABIg0AAAAAAAIiEQAAAAAAA5JFAAAAAAACQg0AAAAAAAOCMQAAAAAAAaIdAAAAAAABIhUAAAAAAAGiGQAAAAAAA0JNAAAAAAADYhUAAAAAAABSRQAAAAAAAAIpAAAAAAAAQiUAAAAAAAOCJQAAAAAAAMJdAAAAAAABAhEAAAAAAAAiSQAAAAAAA0I1AAAAAAACgi0AAAAAAAGCKQAAAAAAADJhAAAAAAACYg0AAAAAAALyRQAAAAAAAmJBAAAAAAAAAjUAAAAAAAPiJQAAAAAAArJhAAAAAAADQg0AAAAAAAKyTQAAAAAAA1JJAAAAAAACYj0AAAAAAANiLQAAAAAAA/JpAAAAAAABYhUAAAAAAAIiVQAAAAAAAMJVAAAAAAADIkUAAAAAAAGiOQAAAAAAADJ5AAAAAAABAiUAAAAAAAKSYQAAAAAAAoJlAAAAAAAA8lUAAAAAAAKCTQAAAAAAArqJAAAAAAABEkEAAAAAAAFCcQAAAAAAA3J9AAAAAAADImEAAAAAAAMyWQAAAAAAALqdAAAAAAADAkUAAAAAAAJieQAAAAAAAfqFAAAAAAACUnEAAAAAAAASYQAAAAAAAMqpAAAAAAAAgk0AAAAAAAOCeQAAAAAAAHKJAAAAAAAAQoEAAAAAAAAiaQAAAAAAAcKxAAAAAAABgk0AAAAAAAJibQAAAAAAACqFAAAAAAAC4nkAAAAAAAHCaQAAAAAAAuKxAAAAAAACgkkAAAAAAALSYQAAAAAAAKJ9AAAAAAAAYnkAAAAAAANiZQAAAAAAA4qtA",
          "dtype": "f8"
         },
         "yaxis": "y"
        },
        {
         "hovertemplate": "Utbildningsinriktning=Journalistik och information<br>År=%{x}<br>Antal studerande=%{y}<extra></extra>",
         "legendgroup": "Journalistik och information",
         "line": {
          "color": "#19d3f3",
          "dash": "solid"
         },
         "marker": {
          "symbol": "circle"
         },
         "mode": "lines",
         "name": "Journalistik och information",
         "showlegend": true,
         "type": "scattergl",
         "x": {
          "bdata": "1QfVB9UH1QfVB9YH1gfWB9YH1gfWB9cH1wfXB9cH1wfXB9gH2AfYB9gH2AfYB9kH2QfZB9kH2QfZB9oH2gfaB9oH2gfaB9sH2wfbB9sH2wfbB9wH3AfcB9wH3AfcB90H3QfdB90H3QfdB94H3gfeB94H3gfeB98H3wffB98H3wffB+AH4AfgB+AH4AfgB+EH4QfhB+EH4QfhB+IH4gfiB+IH4gfiB+MH4wfjB+MH4wfjB+QH5AfkB+QH5AfkB+UH5QflB+UH5QflB+YH5gfmB+YH5gfmB+cH5wfnB+cH5wfnB+gH6AfoB+gH6AfoBw==",
          "dtype": "i2"
         },
         "xaxis": "x",
         "y": {
          "bdata": "AAAAAAAAR0AAAAAAAIBFQAAAAAAAAC5AAAAAAAAAGEAAAAAAAAAQQAAAAAAAAEFAAAAAAACARUAAAAAAAAAqQAAAAAAAABBAAAAAAAAAFEAAAAAAAAAIQAAAAAAAgEFAAAAAAAAARkAAAAAAAAAqQAAAAAAAACRAAAAAAAAAFEAAAAAAAAAcQAAAAAAAAEhAAAAAAACARkAAAAAAAAA4QAAAAAAAADBAAAAAAAAAIkAAAAAAAAAxQAAAAAAAAE1AAAAAAABAUUAAAAAAAAA7QAAAAAAAADdAAAAAAAAALEAAAAAAAAA2QAAAAAAAgE1AAAAAAABAUkAAAAAAAIBCQAAAAAAAADlAAAAAAAAAQEAAAAAAAAA+QAAAAAAAAFFAAAAAAACAV0AAAAAAAABFQAAAAAAAADpAAAAAAACAQ0AAAAAAAAA+QAAAAAAAAFJAAAAAAAAAWEAAAAAAAABDQAAAAAAAADlAAAAAAAAAOEAAAAAAAAA2QAAAAAAAQFxAAAAAAACAYEAAAAAAAIBPQAAAAAAAAENAAAAAAACAQEAAAAAAAABBQAAAAAAAAGJAAAAAAABAakAAAAAAAIBYQAAAAAAAgEtAAAAAAACASEAAAAAAAEBQQAAAAAAAgF9AAAAAAACga0AAAAAAAMBbQAAAAAAAAFNAAAAAAAAASkAAAAAAAIBPQAAAAAAAQF9AAAAAAAAgb0AAAAAAAIBdQAAAAAAAAFVAAAAAAACATUAAAAAAAABWQAAAAAAAwGJAAAAAAACAbUAAAAAAAABfQAAAAAAAwFVAAAAAAAAAUkAAAAAAAKBgQAAAAAAAgGNAAAAAAABgcEAAAAAAAEBeQAAAAAAAwFRAAAAAAACAUkAAAAAAACBhQAAAAAAAQGlAAAAAAABwcUAAAAAAAGBjQAAAAAAAwFVAAAAAAABAUEAAAAAAAABdQAAAAAAAoGtAAAAAAADwcEAAAAAAAGBmQAAAAAAAwFpAAAAAAADAUEAAAAAAAIBeQAAAAAAAIGlAAAAAAABQcUAAAAAAAABmQAAAAAAAgFdAAAAAAACAUkAAAAAAAIBcQAAAAAAAQGlAAAAAAACgbkAAAAAAACBmQAAAAAAAQFJAAAAAAAAASEAAAAAAAIBTQAAAAAAAoGVAAAAAAACAbEAAAAAAAIBjQAAAAAAAwFFAAAAAAACAQ0AAAAAAAEBVQAAAAAAAAGBAAAAAAADgZkAAAAAAAEBeQAAAAAAAAFNAAAAAAACAQ0AAAAAAAMBYQA==",
          "dtype": "f8"
         },
         "yaxis": "y"
        },
        {
         "hovertemplate": "Utbildningsinriktning=Kultur, media och design<br>År=%{x}<br>Antal studerande=%{y}<extra></extra>",
         "legendgroup": "Kultur, media och design",
         "line": {
          "color": "#FF6692",
          "dash": "solid"
         },
         "marker": {
          "symbol": "circle"
         },
         "mode": "lines",
         "name": "Kultur, media och design",
         "showlegend": true,
         "type": "scattergl",
         "x": {
          "bdata": "1QfVB9UH1QfVB9UH1gfWB9YH1gfWB9YH1wfXB9cH1wfXB9cH2AfYB9gH2AfYB9gH2QfZB9kH2QfZB9kH2gfaB9oH2gfaB9oH2wfbB9sH2wfbB9sH3AfcB9wH3AfcB9wH3QfdB90H3QfdB90H3gfeB94H3gfeB94H3wffB98H3wffB98H4AfgB+AH4AfgB+AH4QfhB+EH4QfhB+EH4gfiB+IH4gfiB+IH4wfjB+MH4wfjB+MH5AfkB+QH5AfkB+QH5QflB+UH5QflB+UH5gfmB+YH5gfmB+YH5wfnB+cH5wfnB+cH6AfoB+gH6AfoB+gH",
          "dtype": "i2"
         },
         "xaxis": "x",
         "y": {
          "bdata": "AAAAAAA0mEAAAAAAADiGQAAAAAAAAHJAAAAAAABAYUAAAAAAAIBPQAAAAAAAgEpAAAAAAACImkAAAAAAADCGQAAAAAAAgHBAAAAAAACAYUAAAAAAAIBNQAAAAAAAwFBAAAAAAAAEmkAAAAAAAECGQAAAAAAAAG9AAAAAAAAgYEAAAAAAAEBSQAAAAAAAgFBAAAAAAABEmkAAAAAAALiHQAAAAAAAwHFAAAAAAADAYEAAAAAAAEBRQAAAAAAAgFBAAAAAAADsmEAAAAAAAFCJQAAAAAAAEHJAAAAAAABAXkAAAAAAAIBSQAAAAAAAgE9AAAAAAAC4lUAAAAAAAGiKQAAAAAAAwHFAAAAAAABAYEAAAAAAAABRQAAAAAAAgFJAAAAAAADAk0AAAAAAAPCIQAAAAAAA4HBAAAAAAACAXUAAAAAAAABLQAAAAAAAAE9AAAAAAAB0kkAAAAAAAGiHQAAAAAAAIGxAAAAAAACAWEAAAAAAAIBNQAAAAAAAAElAAAAAAAB8k0AAAAAAAHCIQAAAAAAA4G9AAAAAAACAW0AAAAAAAABMQAAAAAAAgE1AAAAAAAAYk0AAAAAAAHCKQAAAAAAAoHJAAAAAAABAXkAAAAAAAMBRQAAAAAAAQFFAAAAAAACIkkAAAAAAAGCMQAAAAAAA8HZAAAAAAACAYUAAAAAAAIBVQAAAAAAAgFRAAAAAAABYkUAAAAAAAFCOQAAAAAAAwHVAAAAAAAAAY0AAAAAAAMBXQAAAAAAAwFdAAAAAAAC4kEAAAAAAACCQQAAAAAAAMHdAAAAAAACAZUAAAAAAAABYQAAAAAAAAF9AAAAAAABYkEAAAAAAACCQQAAAAAAAoHlAAAAAAABAaEAAAAAAAIBXQAAAAAAAAGBAAAAAAABAkEAAAAAAAHiRQAAAAAAAwH5AAAAAAAAgZUAAAAAAAIBVQAAAAAAAwFtAAAAAAAAQk0AAAAAAANySQAAAAAAAAIJAAAAAAAAgaUAAAAAAAABcQAAAAAAAAF1AAAAAAAD8lEAAAAAAAJSUQAAAAAAAQIZAAAAAAACAbkAAAAAAAEBhQAAAAAAAQGRAAAAAAAAUl0AAAAAAAJyUQAAAAAAA+IdAAAAAAABQckAAAAAAAGBkQAAAAAAAgGlAAAAAAADEmUAAAAAAAACUQAAAAAAAWIhAAAAAAADwdEAAAAAAAOBmQAAAAAAA4GxAAAAAAAAAmkAAAAAAAMyUQAAAAAAAcIhAAAAAAACweEAAAAAAAIBpQAAAAAAAQHBA",
          "dtype": "f8"
         },
         "yaxis": "y"
        },
        {
         "hovertemplate": "Utbildningsinriktning=Lantbruk, djurvård, trädgård, skog och fiske<br>År=%{x}<br>Antal studerande=%{y}<extra></extra>",
         "legendgroup": "Lantbruk, djurvård, trädgård, skog och fiske",
         "line": {
          "color": "#B6E880",
          "dash": "solid"
         },
         "marker": {
          "symbol": "circle"
         },
         "mode": "lines",
         "name": "Lantbruk, djurvård, trädgård, skog och fiske",
         "showlegend": true,
         "type": "scattergl",
         "x": {
          "bdata": "1QfVB9UH1QfVB9UH1gfWB9YH1gfWB9YH1wfXB9cH1wfXB9cH2AfYB9gH2AfYB9gH2QfZB9kH2QfZB9kH2gfaB9oH2gfaB9oH2wfbB9sH2wfbB9sH3AfcB9wH3AfcB9wH3QfdB90H3QfdB90H3gfeB94H3gfeB94H3wffB98H3wffB98H4AfgB+AH4AfgB+AH4QfhB+EH4QfhB+EH4gfiB+IH4gfiB+IH4wfjB+MH4wfjB+MH5AfkB+QH5AfkB+QH5QflB+UH5QflB+UH5gfmB+YH5gfmB+YH5wfnB+cH5wfnB+cH6AfoB+gH6AfoB+gH",
          "dtype": "i2"
         },
         "xaxis": "x",
         "y": {
          "bdata": "AAAAAABwdkAAAAAAAOBlQAAAAAAAQF5AAAAAAACAXEAAAAAAAMBUQAAAAAAAAFFAAAAAAABggUAAAAAAAOBuQAAAAAAAIGNAAAAAAABgY0AAAAAAAEBhQAAAAAAAAFdAAAAAAADQgkAAAAAAADBzQAAAAAAAYGZAAAAAAAAAZEAAAAAAAEBkQAAAAAAAAGBAAAAAAABwgkAAAAAAAFByQAAAAAAAIGVAAAAAAADgYkAAAAAAAGBjQAAAAAAAAGJAAAAAAAAQhUAAAAAAAIBxQAAAAAAA4GNAAAAAAABAZEAAAAAAACBgQAAAAAAAIGJAAAAAAABIiEAAAAAAAPByQAAAAAAAYGRAAAAAAACgY0AAAAAAAMBhQAAAAAAAQGRAAAAAAABwhkAAAAAAAPBzQAAAAAAAIGRAAAAAAABgYkAAAAAAAIBiQAAAAAAAIGRAAAAAAAAggkAAAAAAAJBzQAAAAAAAoGBAAAAAAADAX0AAAAAAAGBhQAAAAAAAIGVAAAAAAACAf0AAAAAAADB0QAAAAAAAQGFAAAAAAAAAWkAAAAAAAIBfQAAAAAAAAGRAAAAAAACQfEAAAAAAACByQAAAAAAAgGJAAAAAAADAV0AAAAAAAEBcQAAAAAAAgGJAAAAAAADAekAAAAAAANB1QAAAAAAAgGNAAAAAAAAAWUAAAAAAAABdQAAAAAAAwGNAAAAAAABQeEAAAAAAAKB1QAAAAAAAQGhAAAAAAADAX0AAAAAAAIBiQAAAAAAAYGlAAAAAAABAdEAAAAAAAEB0QAAAAAAAoGtAAAAAAACAY0AAAAAAAMBiQAAAAAAAsHBAAAAAAADAckAAAAAAANByQAAAAAAAYGdAAAAAAADAZEAAAAAAAMBfQAAAAAAAcHFAAAAAAABAcUAAAAAAANBzQAAAAAAAYG1AAAAAAADgZUAAAAAAAMBgQAAAAAAAcHFAAAAAAABgdEAAAAAAADB1QAAAAAAAwHFAAAAAAACAaUAAAAAAAEBjQAAAAAAAIHNAAAAAAAAQdUAAAAAAAFB2QAAAAAAAAHVAAAAAAABAcEAAAAAAAEBpQAAAAAAA4HNAAAAAAABwdkAAAAAAAFB1QAAAAAAAoHZAAAAAAAAwc0AAAAAAAEBrQAAAAAAAsHZAAAAAAABQeEAAAAAAALB0QAAAAAAAwHdAAAAAAAAwdEAAAAAAAABsQAAAAAAAwHtAAAAAAADwe0AAAAAAAHB3QAAAAAAAEHhAAAAAAACQdkAAAAAAACBxQAAAAAAAgH9A",
          "dtype": "f8"
         },
         "yaxis": "y"
        },
        {
         "hovertemplate": "Utbildningsinriktning=Pedagogik och undervisning<br>År=%{x}<br>Antal studerande=%{y}<extra></extra>",
         "legendgroup": "Pedagogik och undervisning",
         "line": {
          "color": "#FF97FF",
          "dash": "solid"
         },
         "marker": {
          "symbol": "circle"
         },
         "mode": "lines",
         "name": "Pedagogik och undervisning",
         "showlegend": true,
         "type": "scattergl",
         "x": {
          "bdata": "1QfVB9UH1QfVB9UH1gfWB9YH1gfWB9YH1wfXB9cH1wfXB9cH2AfYB9gH2AfYB9gH2QfZB9kH2QfZB9kH2gfaB9oH2gfaB9oH2wfbB9sH2wfbB9sH3AfcB9wH3AfcB9wH3QfdB90H3QfdB90H3gfeB94H3gfeB94H3wffB98H3wffB98H4AfgB+AH4AfgB+AH4QfhB+EH4QfhB+EH4gfiB+IH4gfiB+IH4wfjB+MH4wfjB+MH5AfkB+QH5AfkB+QH5QflB+UH5QflB+UH5gfmB+YH5gfmB+YH5wfnB+cH5wfnB+cH6AfoB+gH6AfoB+gH",
          "dtype": "i2"
         },
         "xaxis": "x",
         "y": {
          "bdata": "AAAAAAAACEAAAAAAAAAIQAAAAAAAABBAAAAAAAAACEAAAAAAAAAAAAAAAAAAAAhAAAAAAAAALEAAAAAAAAAwQAAAAAAAADNAAAAAAAAANUAAAAAAAAAqQAAAAAAAADRAAAAAAAAAN0AAAAAAAAA7QAAAAAAAgERAAAAAAAAAPEAAAAAAAAA9QAAAAAAAAENAAAAAAAAANkAAAAAAAABDQAAAAAAAgEVAAAAAAACAQkAAAAAAAIBBQAAAAAAAgEZAAAAAAAAAQEAAAAAAAABLQAAAAAAAAEJAAAAAAACASEAAAAAAAIBEQAAAAAAAAENAAAAAAABAVkAAAAAAAEBWQAAAAAAAAFNAAAAAAACAT0AAAAAAAIBRQAAAAAAAwFJAAAAAAAAAX0AAAAAAAIBiQAAAAAAAAFpAAAAAAADAVUAAAAAAAMBVQAAAAAAAgFtAAAAAAABAVEAAAAAAAABdQAAAAAAAQFJAAAAAAAAATkAAAAAAAIBIQAAAAAAAwFJAAAAAAAAAWkAAAAAAAMBaQAAAAAAAgEhAAAAAAABAUEAAAAAAAABEQAAAAAAAgE1AAAAAAAAAX0AAAAAAAMBbQAAAAAAAAExAAAAAAAAAUEAAAAAAAIBJQAAAAAAAwFNAAAAAAACAWUAAAAAAAIBXQAAAAAAAAEpAAAAAAAAAS0AAAAAAAIBJQAAAAAAAQFFAAAAAAADAVkAAAAAAAEBfQAAAAAAAAFVAAAAAAAAAUEAAAAAAAIBSQAAAAAAAAFhAAAAAAAAAW0AAAAAAAMBjQAAAAAAAQFdAAAAAAADAVkAAAAAAAABTQAAAAAAAAGBAAAAAAAAAXEAAAAAAAMBkQAAAAAAAwGBAAAAAAABAXkAAAAAAAMBeQAAAAAAAoGlAAAAAAADAW0AAAAAAAIBsQAAAAAAAoGhAAAAAAADgaUAAAAAAAIBnQAAAAAAAYHZAAAAAAADAYkAAAAAAACBtQAAAAAAAQG9AAAAAAACgbEAAAAAAAIBrQAAAAAAA4HtAAAAAAAAAaEAAAAAAALBxQAAAAAAAoHBAAAAAAABAcUAAAAAAACBuQAAAAAAAIIFAAAAAAADAakAAAAAAAPBwQAAAAAAA0HNAAAAAAADQdEAAAAAAACByQAAAAAAAOIFAAAAAAADAXEAAAAAAAKBrQAAAAAAAoG9AAAAAAADgbkAAAAAAAABsQAAAAAAAIHxAAAAAAAAAV0AAAAAAAMBiQAAAAAAAoGRAAAAAAACgZUAAAAAAAMBjQAAAAAAAUHZA",
          "dtype": "f8"
         },
         "yaxis": "y"
        },
        {
         "hovertemplate": "Utbildningsinriktning=Samhällsbyggnad och byggteknik<br>År=%{x}<br>Antal studerande=%{y}<extra></extra>",
         "legendgroup": "Samhällsbyggnad och byggteknik",
         "line": {
          "color": "#FECB52",
          "dash": "solid"
         },
         "marker": {
          "symbol": "circle"
         },
         "mode": "lines",
         "name": "Samhällsbyggnad och byggteknik",
         "showlegend": true,
         "type": "scattergl",
         "x": {
          "bdata": "1QfVB9UH1QfVB9UH1gfWB9YH1gfWB9YH1wfXB9cH1wfXB9cH2AfYB9gH2AfYB9gH2QfZB9kH2QfZB9kH2gfaB9oH2gfaB9oH2wfbB9sH2wfbB9sH3AfcB9wH3AfcB9wH3QfdB90H3QfdB90H3gfeB94H3gfeB94H3wffB98H3wffB98H4AfgB+AH4AfgB+AH4QfhB+EH4QfhB+EH4gfiB+IH4gfiB+IH4wfjB+MH4wfjB+MH5AfkB+QH5AfkB+QH5QflB+UH5QflB+UH5gfmB+YH5gfmB+YH5wfnB+cH5wfnB+cH6AfoB+gH6AfoB+gH",
          "dtype": "i2"
         },
         "xaxis": "x",
         "y": {
          "bdata": "AAAAAACAfkAAAAAAAMBxQAAAAAAAgGdAAAAAAAAAZ0AAAAAAAABgQAAAAAAAoGBAAAAAAABAiEAAAAAAAFB4QAAAAAAAAG1AAAAAAABgakAAAAAAACBmQAAAAAAAIGRAAAAAAAAYjUAAAAAAAIiAQAAAAAAAQHNAAAAAAAAAa0AAAAAAAMBqQAAAAAAAwGdAAAAAAACAjkAAAAAAANiEQAAAAAAA8HJAAAAAAADgcEAAAAAAAEBqQAAAAAAA4GpAAAAAAAC4kUAAAAAAAECJQAAAAAAA4HhAAAAAAADQdEAAAAAAABBwQAAAAAAAoG9AAAAAAABAk0AAAAAAADiMQAAAAAAA4H5AAAAAAABwdkAAAAAAACBxQAAAAAAAYHFAAAAAAAB0lUAAAAAAAGiQQAAAAAAAcIJAAAAAAADQdUAAAAAAAKBxQAAAAAAAIHFAAAAAAAD0lkAAAAAAANyRQAAAAAAAsIRAAAAAAADgeUAAAAAAAMB0QAAAAAAAcHVAAAAAAABIlkAAAAAAAPSUQAAAAAAAeIZAAAAAAABQfkAAAAAAAPB3QAAAAAAAUHhAAAAAAADEk0AAAAAAABiXQAAAAAAAIIpAAAAAAABwgUAAAAAAAEB6QAAAAAAAwHlAAAAAAAAQk0AAAAAAABiaQAAAAAAAcI9AAAAAAACwhEAAAAAAAGB/QAAAAAAAQHxAAAAAAACAkkAAAAAAANybQAAAAAAAfJJAAAAAAACIiEAAAAAAAOCBQAAAAAAAeIFAAAAAAAAMlEAAAAAAAFCfQAAAAAAAaJVAAAAAAAB4i0AAAAAAAPiCQAAAAAAAgIVAAAAAAAAYmEAAAAAAAKqgQAAAAAAAJJdAAAAAAADYj0AAAAAAAMCDQAAAAAAAuIZAAAAAAAB4nUAAAAAAACikQAAAAAAAZJtAAAAAAACEkkAAAAAAAFCHQAAAAAAAKItAAAAAAACsokAAAAAAALyoQAAAAAAAgKJAAAAAAADkl0AAAAAAAHiPQAAAAAAA/JBAAAAAAADIo0AAAAAAAAqqQAAAAAAALKVAAAAAAADwm0AAAAAAAPiRQAAAAAAAPJNAAAAAAACapEAAAAAAAEKoQAAAAAAAdKZAAAAAAABQnUAAAAAAAHSTQAAAAAAAVJRAAAAAAABmpEAAAAAAADylQAAAAAAAYqVAAAAAAACsnUAAAAAAAMySQAAAAAAAxJVAAAAAAACapUAAAAAAAOylQAAAAAAA6qRAAAAAAAAKoEAAAAAAAKiTQAAAAAAAiJhA",
          "dtype": "f8"
         },
         "yaxis": "y"
        },
        {
         "hovertemplate": "Utbildningsinriktning=Säkerhetstjänster<br>År=%{x}<br>Antal studerande=%{y}<extra></extra>",
         "legendgroup": "Säkerhetstjänster",
         "line": {
          "color": "#636efa",
          "dash": "solid"
         },
         "marker": {
          "symbol": "circle"
         },
         "mode": "lines",
         "name": "Säkerhetstjänster",
         "showlegend": true,
         "type": "scattergl",
         "x": {
          "bdata": "1QfVB9UH1QfVB9UH1gfWB9YH1gfWB9YH1wfXB9cH1wfXB9cH2AfYB9gH2AfYB9gH2QfZB9kH2QfZB9kH2gfaB9oH2gfaB9oH2wfbB9sH2wfbB9sH3AfcB9wH3AfcB9wH3QfdB90H3QfdB90H3gfeB94H3gfeB94H3wffB98H3wffB98H4AfgB+AH4AfgB+AH4QfhB+EH4QfhB+EH4gfiB+IH4gfiB+IH4wfjB+MH4wfjB+MH5AfkB+QH5AfkB+QH5QflB+UH5QflB+UH5gfmB+YH5gfmB+YH5wfnB+cH5wfnB+cH6AfoB+gH6AfoB+gH",
          "dtype": "i2"
         },
         "xaxis": "x",
         "y": {
          "bdata": "AAAAAADAXEAAAAAAAIBOQAAAAAAAAEZAAAAAAAAAOUAAAAAAAAAgQAAAAAAAACxAAAAAAABAZUAAAAAAAABcQAAAAAAAQFBAAAAAAAAAQkAAAAAAAAAyQAAAAAAAADhAAAAAAADAZ0AAAAAAAGBlQAAAAAAAgFNAAAAAAACATUAAAAAAAABEQAAAAAAAADtAAAAAAAAgakAAAAAAAGBnQAAAAAAAQFdAAAAAAAAAUUAAAAAAAABFQAAAAAAAADtAAAAAAADgZUAAAAAAAABnQAAAAAAAAFZAAAAAAABAVUAAAAAAAABMQAAAAAAAgERAAAAAAADAXEAAAAAAAEBlQAAAAAAAAFhAAAAAAAAAUkAAAAAAAABJQAAAAAAAgERAAAAAAABAWUAAAAAAACBiQAAAAAAAAFVAAAAAAACASEAAAAAAAIBEQAAAAAAAgENAAAAAAAAAV0AAAAAAAIBfQAAAAAAAAE9AAAAAAACAQUAAAAAAAAA5QAAAAAAAAD5AAAAAAADAUUAAAAAAAEBaQAAAAAAAAE1AAAAAAACAQkAAAAAAAAA+QAAAAAAAgEFAAAAAAACARUAAAAAAAMBUQAAAAAAAQFJAAAAAAACATEAAAAAAAIBIQAAAAAAAgEZAAAAAAAAAM0AAAAAAAEBQQAAAAAAAwFdAAAAAAADAUEAAAAAAAABPQAAAAAAAgFFAAAAAAAAAKEAAAAAAAABTQAAAAAAAAFJAAAAAAADAUkAAAAAAAABPQAAAAAAAgFNAAAAAAAAAKEAAAAAAAIBKQAAAAAAAgElAAAAAAAAATUAAAAAAAABEQAAAAAAAgE5AAAAAAAAAM0AAAAAAAABRQAAAAAAAgElAAAAAAACARkAAAAAAAIBCQAAAAAAAAFBAAAAAAAAANkAAAAAAAIBaQAAAAAAAgFFAAAAAAADAUUAAAAAAAIBNQAAAAAAAAFRAAAAAAACAQUAAAAAAAABZQAAAAAAAAFpAAAAAAACAWkAAAAAAAABYQAAAAAAAQGFAAAAAAACAREAAAAAAAMBXQAAAAAAAwFpAAAAAAAAAXkAAAAAAAIBWQAAAAAAAoGFAAAAAAACARkAAAAAAAIBfQAAAAAAAAGNAAAAAAACgY0AAAAAAAMBbQAAAAAAAgGVAAAAAAACASkAAAAAAAABeQAAAAAAAoGZAAAAAAABgZ0AAAAAAAIBdQAAAAAAAwGVAAAAAAACAT0AAAAAAAIBeQAAAAAAAgGRAAAAAAACAZ0AAAAAAAEBcQAAAAAAAgGZA",
          "dtype": "f8"
         },
         "yaxis": "y"
        },
        {
         "hovertemplate": "Utbildningsinriktning=Teknik och tillverkning<br>År=%{x}<br>Antal studerande=%{y}<extra></extra>",
         "legendgroup": "Teknik och tillverkning",
         "line": {
          "color": "#EF553B",
          "dash": "solid"
         },
         "marker": {
          "symbol": "circle"
         },
         "mode": "lines",
         "name": "Teknik och tillverkning",
         "showlegend": true,
         "type": "scattergl",
         "x": {
          "bdata": "1QfVB9UH1QfVB9UH1gfWB9YH1gfWB9YH1wfXB9cH1wfXB9cH2AfYB9gH2AfYB9gH2QfZB9kH2QfZB9kH2gfaB9oH2gfaB9oH2wfbB9sH2wfbB9sH3AfcB9wH3AfcB9wH3QfdB90H3QfdB90H3gfeB94H3gfeB94H3wffB98H3wffB98H4AfgB+AH4AfgB+AH4QfhB+EH4QfhB+EH4gfiB+IH4gfiB+IH4wfjB+MH4wfjB+MH5AfkB+QH5AfkB+QH5QflB+UH5QflB+UH5gfmB+YH5gfmB+YH5wfnB+cH5wfnB+cH6AfoB+gH6AfoB+gH",
          "dtype": "i2"
         },
         "xaxis": "x",
         "y": {
          "bdata": "AAAAAAAwnEAAAAAAAFCGQAAAAAAAAH9AAAAAAADweUAAAAAAABBzQAAAAAAAQGdAAAAAAABkoEAAAAAAAJiIQAAAAAAACIBAAAAAAAAQeUAAAAAAAMByQAAAAAAAYGpAAAAAAAC2okAAAAAAAHiOQAAAAAAAkIBAAAAAAAAQe0AAAAAAAKB1QAAAAAAAIG9AAAAAAAACpUAAAAAAAGyRQAAAAAAA6IJAAAAAAADgfUAAAAAAAIB2QAAAAAAAwHNAAAAAAABGqEAAAAAAAMiUQAAAAAAASIdAAAAAAADogEAAAAAAABB6QAAAAAAAMHdAAAAAAAAaq0AAAAAAAMiWQAAAAAAAmIdAAAAAAAAAg0AAAAAAAJB8QAAAAAAAsHhAAAAAAABkq0AAAAAAACCYQAAAAAAAeIlAAAAAAABAhEAAAAAAADB5QAAAAAAAIHpAAAAAAAAaqUAAAAAAADSXQAAAAAAAYIhAAAAAAAA4gUAAAAAAALB2QAAAAAAAMHVAAAAAAAAoqEAAAAAAAPiZQAAAAAAASItAAAAAAAAQgkAAAAAAALB3QAAAAAAAQHxAAAAAAABkp0AAAAAAAGyaQAAAAAAAAJBAAAAAAAAQhEAAAAAAALB5QAAAAAAAsIFAAAAAAACEpUAAAAAAAGibQAAAAAAAkJBAAAAAAACohkAAAAAAAIB9QAAAAAAAcINAAAAAAACyo0AAAAAAAFycQAAAAAAA/JBAAAAAAAAQh0AAAAAAADB+QAAAAAAAOINAAAAAAADioUAAAAAAADicQAAAAAAARJFAAAAAAABIh0AAAAAAADB/QAAAAAAAMINAAAAAAAAWoUAAAAAAAIyaQAAAAAAANJJAAAAAAAAgh0AAAAAAAHB9QAAAAAAACIJAAAAAAACqoUAAAAAAAHCeQAAAAAAA9JRAAAAAAADIi0AAAAAAACCDQAAAAAAAQIZAAAAAAAC2pUAAAAAAAJKjQAAAAAAArJpAAAAAAAAQkkAAAAAAABCJQAAAAAAAsI5AAAAAAABKqEAAAAAAAKKkQAAAAAAAHKBAAAAAAABMlUAAAAAAAAiOQAAAAAAA3JFAAAAAAABcqEAAAAAAAOijQAAAAAAARqBAAAAAAADElUAAAAAAADCNQAAAAAAARJNAAAAAAADgqEAAAAAAAAikQAAAAAAAnqBAAAAAAACQlkAAAAAAAByQQAAAAAAAPJVAAAAAAAAcrEAAAAAAABSmQAAAAAAA9qJAAAAAAACgmUAAAAAAAPiSQAAAAAAAxJdA",
          "dtype": "f8"
         },
         "yaxis": "y"
        },
        {
         "hovertemplate": "Utbildningsinriktning=Transporttjänster<br>År=%{x}<br>Antal studerande=%{y}<extra></extra>",
         "legendgroup": "Transporttjänster",
         "line": {
          "color": "#00cc96",
          "dash": "solid"
         },
         "marker": {
          "symbol": "circle"
         },
         "mode": "lines",
         "name": "Transporttjänster",
         "showlegend": true,
         "type": "scattergl",
         "x": {
          "bdata": "1QfVB9UH1QfVB9UH1gfWB9YH1gfWB9YH1wfXB9cH1wfXB9cH2AfYB9gH2AfYB9gH2QfZB9kH2QfZB9kH2gfaB9oH2gfaB9oH2wfbB9sH2wfbB9sH3AfcB9wH3AfcB9wH3QfdB90H3QfdB90H3gfeB94H3gfeB94H3wffB98H3wffB98H4AfgB+AH4AfgB+AH4QfhB+EH4QfhB+EH4gfiB+IH4gfiB+IH4wfjB+MH4wfjB+MH5AfkB+QH5AfkB+QH5QflB+UH5QflB+UH5gfmB+YH5gfmB+YH5wfnB+cH5wfnB+cH6AfoB+gH6AfoB+gH",
          "dtype": "i2"
         },
         "xaxis": "x",
         "y": {
          "bdata": "AAAAAACAb0AAAAAAAGBkQAAAAAAAAGJAAAAAAACAXkAAAAAAAMBXQAAAAAAAAEdAAAAAAACgdUAAAAAAACBrQAAAAAAAYGhAAAAAAABAZEAAAAAAAABdQAAAAAAAwFBAAAAAAADQeEAAAAAAACBzQAAAAAAAgGxAAAAAAABgZ0AAAAAAACBhQAAAAAAAAFlAAAAAAABAfUAAAAAAAAB4QAAAAAAAIG1AAAAAAABgakAAAAAAAABlQAAAAAAAQF9AAAAAAADQfkAAAAAAAGB6QAAAAAAAgG5AAAAAAADga0AAAAAAACBmQAAAAAAAAGFAAAAAAABYgUAAAAAAAFB9QAAAAAAA8HFAAAAAAADAbUAAAAAAAKBmQAAAAAAAAGBAAAAAAABQgUAAAAAAADB+QAAAAAAA0HFAAAAAAABAbUAAAAAAAOBkQAAAAAAAQF5AAAAAAABQekAAAAAAAKB6QAAAAAAAgG1AAAAAAABgZUAAAAAAAABeQAAAAAAAQFxAAAAAAACAdEAAAAAAAEBzQAAAAAAA4GZAAAAAAADAX0AAAAAAAABVQAAAAAAAgFVAAAAAAADgcUAAAAAAAMBwQAAAAAAAoGJAAAAAAABAVkAAAAAAAEBUQAAAAAAAAFFAAAAAAABQdEAAAAAAABB2QAAAAAAAIGlAAAAAAADAYEAAAAAAAIBZQAAAAAAAwFJAAAAAAAAgeEAAAAAAAAB/QAAAAAAAIHBAAAAAAABgZEAAAAAAAABfQAAAAAAAQF1AAAAAAABAe0AAAAAAAFiBQAAAAAAAIHRAAAAAAABgbEAAAAAAAOBiQAAAAAAA4GNAAAAAAADQdkAAAAAAAPB+QAAAAAAAgHRAAAAAAABgbUAAAAAAAGBiQAAAAAAAYGZAAAAAAAAgdkAAAAAAAPB7QAAAAAAAwHRAAAAAAABAakAAAAAAAEBeQAAAAAAAIGpAAAAAAADgeEAAAAAAABB+QAAAAAAAYHRAAAAAAAAAaEAAAAAAAOBgQAAAAAAAIGxAAAAAAACAdkAAAAAAAGB6QAAAAAAA8HFAAAAAAADAZUAAAAAAAEBcQAAAAAAAIGtAAAAAAADQdkAAAAAAAKB2QAAAAAAA8HBAAAAAAAAAZEAAAAAAAEBeQAAAAAAAYGpAAAAAAACQekAAAAAAACB2QAAAAAAA4HFAAAAAAADAZ0AAAAAAAGBgQAAAAAAAAG1AAAAAAACweUAAAAAAAGB1QAAAAAAAsHJAAAAAAAAAaUAAAAAAAOBhQAAAAAAAgHJA",
          "dtype": "f8"
         },
         "yaxis": "y"
        },
        {
         "hovertemplate": "Utbildningsinriktning=Juridik<br>År=%{x}<br>Antal studerande=%{y}<extra></extra>",
         "legendgroup": "Juridik",
         "line": {
          "color": "#ab63fa",
          "dash": "solid"
         },
         "marker": {
          "symbol": "circle"
         },
         "mode": "lines",
         "name": "Juridik",
         "showlegend": true,
         "type": "scattergl",
         "x": {
          "bdata": "1gfWB9YH1gfWB9YH1wfXB9cH1wfXB9cH2AfYB9gH2AfYB9gH2QfZB9kH2QfZB9kH2gfaB9oH2gfaB9oH2wfbB9sH2wfbB9sH3AfcB9wH3AfcB9wH3QfdB90H3QfdB90H3gfeB94H3gfeB94H3wffB98H3wffB98H4AfgB+AH4AfgB+AH4QfhB+EH4QfhB+EH4gfiB+IH4gfiB+IH4wfjB+MH4wfjB+MH5AfkB+QH5AfkB+QH5QflB+UH5QflB+UH5gfmB+YH5gfmB+YH5wfnB+cH5wfnB+cH6AfoB+gH6AfoB+gH",
          "dtype": "i2"
         },
         "xaxis": "x",
         "y": {
          "bdata": "AAAAAAAAOkAAAAAAAAAqQAAAAAAAABhAAAAAAAAAHEAAAAAAAAAIQAAAAAAAABhAAAAAAACARUAAAAAAAABBQAAAAAAAADJAAAAAAAAAJkAAAAAAAAAkQAAAAAAAABhAAAAAAACARUAAAAAAAABJQAAAAAAAAD9AAAAAAAAALEAAAAAAAAAsQAAAAAAAABRAAAAAAACAQUAAAAAAAIBQQAAAAAAAADxAAAAAAAAAM0AAAAAAAAAqQAAAAAAAABhAAAAAAACAREAAAAAAAABLQAAAAAAAAD5AAAAAAAAAOEAAAAAAAAAwQAAAAAAAACBAAAAAAAAASUAAAAAAAABKQAAAAAAAAD1AAAAAAAAAOkAAAAAAAAAmQAAAAAAAABxAAAAAAAAAUEAAAAAAAMBQQAAAAAAAAE1AAAAAAAAAOkAAAAAAAAA2QAAAAAAAABRAAAAAAACATEAAAAAAAEBYQAAAAAAAQFBAAAAAAAAAQEAAAAAAAAAzQAAAAAAAACRAAAAAAAAAQkAAAAAAAMBYQAAAAAAAAFNAAAAAAAAAQkAAAAAAAAA0QAAAAAAAADFAAAAAAAAAR0AAAAAAAIBaQAAAAAAAAFJAAAAAAACAQkAAAAAAAAA/QAAAAAAAADFAAAAAAACAS0AAAAAAAMBYQAAAAAAAwFNAAAAAAACARUAAAAAAAABBQAAAAAAAADpAAAAAAAAAUEAAAAAAAABgQAAAAAAAgFZAAAAAAACARkAAAAAAAIBEQAAAAAAAAEZAAAAAAABAWEAAAAAAAMBcQAAAAAAAgFZAAAAAAACAS0AAAAAAAABIQAAAAAAAgEBAAAAAAACAX0AAAAAAAABaQAAAAAAAAFdAAAAAAAAARUAAAAAAAABMQAAAAAAAAD9AAAAAAABgYkAAAAAAAIBdQAAAAAAAgFRAAAAAAAAASUAAAAAAAABFQAAAAAAAgEZAAAAAAAAgYUAAAAAAAABaQAAAAAAAAFVAAAAAAAAATUAAAAAAAABDQAAAAAAAwFBAAAAAAACAW0AAAAAAAMBVQAAAAAAAgFJAAAAAAACASEAAAAAAAABBQAAAAAAAAE9AAAAAAABAWkAAAAAAAABTQAAAAAAAgEtAAAAAAACAQ0AAAAAAAAA9QAAAAAAAAEVAAAAAAADAWUAAAAAAAIBVQAAAAAAAgElAAAAAAACAQkAAAAAAAAA/QAAAAAAAAENA",
          "dtype": "f8"
         },
         "yaxis": "y"
        }
       ],
       "layout": {
        "legend": {
         "orientation": "v",
         "title": {
          "text": "Utbildningsinriktning"
         },
         "tracegroupgap": 0,
         "x": 1.05,
         "y": 1
        },
        "template": {
         "data": {
          "bar": [
           {
            "error_x": {
             "color": "#2a3f5f"
            },
            "error_y": {
             "color": "#2a3f5f"
            },
            "marker": {
             "line": {
              "color": "#E5ECF6",
              "width": 0.5
             },
             "pattern": {
              "fillmode": "overlay",
              "size": 10,
              "solidity": 0.2
             }
            },
            "type": "bar"
           }
          ],
          "barpolar": [
           {
            "marker": {
             "line": {
              "color": "#E5ECF6",
              "width": 0.5
             },
             "pattern": {
              "fillmode": "overlay",
              "size": 10,
              "solidity": 0.2
             }
            },
            "type": "barpolar"
           }
          ],
          "carpet": [
           {
            "aaxis": {
             "endlinecolor": "#2a3f5f",
             "gridcolor": "white",
             "linecolor": "white",
             "minorgridcolor": "white",
             "startlinecolor": "#2a3f5f"
            },
            "baxis": {
             "endlinecolor": "#2a3f5f",
             "gridcolor": "white",
             "linecolor": "white",
             "minorgridcolor": "white",
             "startlinecolor": "#2a3f5f"
            },
            "type": "carpet"
           }
          ],
          "choropleth": [
           {
            "colorbar": {
             "outlinewidth": 0,
             "ticks": ""
            },
            "type": "choropleth"
           }
          ],
          "contour": [
           {
            "colorbar": {
             "outlinewidth": 0,
             "ticks": ""
            },
            "colorscale": [
             [
              0,
              "#0d0887"
             ],
             [
              0.1111111111111111,
              "#46039f"
             ],
             [
              0.2222222222222222,
              "#7201a8"
             ],
             [
              0.3333333333333333,
              "#9c179e"
             ],
             [
              0.4444444444444444,
              "#bd3786"
             ],
             [
              0.5555555555555556,
              "#d8576b"
             ],
             [
              0.6666666666666666,
              "#ed7953"
             ],
             [
              0.7777777777777778,
              "#fb9f3a"
             ],
             [
              0.8888888888888888,
              "#fdca26"
             ],
             [
              1,
              "#f0f921"
             ]
            ],
            "type": "contour"
           }
          ],
          "contourcarpet": [
           {
            "colorbar": {
             "outlinewidth": 0,
             "ticks": ""
            },
            "type": "contourcarpet"
           }
          ],
          "heatmap": [
           {
            "colorbar": {
             "outlinewidth": 0,
             "ticks": ""
            },
            "colorscale": [
             [
              0,
              "#0d0887"
             ],
             [
              0.1111111111111111,
              "#46039f"
             ],
             [
              0.2222222222222222,
              "#7201a8"
             ],
             [
              0.3333333333333333,
              "#9c179e"
             ],
             [
              0.4444444444444444,
              "#bd3786"
             ],
             [
              0.5555555555555556,
              "#d8576b"
             ],
             [
              0.6666666666666666,
              "#ed7953"
             ],
             [
              0.7777777777777778,
              "#fb9f3a"
             ],
             [
              0.8888888888888888,
              "#fdca26"
             ],
             [
              1,
              "#f0f921"
             ]
            ],
            "type": "heatmap"
           }
          ],
          "histogram": [
           {
            "marker": {
             "pattern": {
              "fillmode": "overlay",
              "size": 10,
              "solidity": 0.2
             }
            },
            "type": "histogram"
           }
          ],
          "histogram2d": [
           {
            "colorbar": {
             "outlinewidth": 0,
             "ticks": ""
            },
            "colorscale": [
             [
              0,
              "#0d0887"
             ],
             [
              0.1111111111111111,
              "#46039f"
             ],
             [
              0.2222222222222222,
              "#7201a8"
             ],
             [
              0.3333333333333333,
              "#9c179e"
             ],
             [
              0.4444444444444444,
              "#bd3786"
             ],
             [
              0.5555555555555556,
              "#d8576b"
             ],
             [
              0.6666666666666666,
              "#ed7953"
             ],
             [
              0.7777777777777778,
              "#fb9f3a"
             ],
             [
              0.8888888888888888,
              "#fdca26"
             ],
             [
              1,
              "#f0f921"
             ]
            ],
            "type": "histogram2d"
           }
          ],
          "histogram2dcontour": [
           {
            "colorbar": {
             "outlinewidth": 0,
             "ticks": ""
            },
            "colorscale": [
             [
              0,
              "#0d0887"
             ],
             [
              0.1111111111111111,
              "#46039f"
             ],
             [
              0.2222222222222222,
              "#7201a8"
             ],
             [
              0.3333333333333333,
              "#9c179e"
             ],
             [
              0.4444444444444444,
              "#bd3786"
             ],
             [
              0.5555555555555556,
              "#d8576b"
             ],
             [
              0.6666666666666666,
              "#ed7953"
             ],
             [
              0.7777777777777778,
              "#fb9f3a"
             ],
             [
              0.8888888888888888,
              "#fdca26"
             ],
             [
              1,
              "#f0f921"
             ]
            ],
            "type": "histogram2dcontour"
           }
          ],
          "mesh3d": [
           {
            "colorbar": {
             "outlinewidth": 0,
             "ticks": ""
            },
            "type": "mesh3d"
           }
          ],
          "parcoords": [
           {
            "line": {
             "colorbar": {
              "outlinewidth": 0,
              "ticks": ""
             }
            },
            "type": "parcoords"
           }
          ],
          "pie": [
           {
            "automargin": true,
            "type": "pie"
           }
          ],
          "scatter": [
           {
            "fillpattern": {
             "fillmode": "overlay",
             "size": 10,
             "solidity": 0.2
            },
            "type": "scatter"
           }
          ],
          "scatter3d": [
           {
            "line": {
             "colorbar": {
              "outlinewidth": 0,
              "ticks": ""
             }
            },
            "marker": {
             "colorbar": {
              "outlinewidth": 0,
              "ticks": ""
             }
            },
            "type": "scatter3d"
           }
          ],
          "scattercarpet": [
           {
            "marker": {
             "colorbar": {
              "outlinewidth": 0,
              "ticks": ""
             }
            },
            "type": "scattercarpet"
           }
          ],
          "scattergeo": [
           {
            "marker": {
             "colorbar": {
              "outlinewidth": 0,
              "ticks": ""
             }
            },
            "type": "scattergeo"
           }
          ],
          "scattergl": [
           {
            "marker": {
             "colorbar": {
              "outlinewidth": 0,
              "ticks": ""
             }
            },
            "type": "scattergl"
           }
          ],
          "scattermap": [
           {
            "marker": {
             "colorbar": {
              "outlinewidth": 0,
              "ticks": ""
             }
            },
            "type": "scattermap"
           }
          ],
          "scattermapbox": [
           {
            "marker": {
             "colorbar": {
              "outlinewidth": 0,
              "ticks": ""
             }
            },
            "type": "scattermapbox"
           }
          ],
          "scatterpolar": [
           {
            "marker": {
             "colorbar": {
              "outlinewidth": 0,
              "ticks": ""
             }
            },
            "type": "scatterpolar"
           }
          ],
          "scatterpolargl": [
           {
            "marker": {
             "colorbar": {
              "outlinewidth": 0,
              "ticks": ""
             }
            },
            "type": "scatterpolargl"
           }
          ],
          "scatterternary": [
           {
            "marker": {
             "colorbar": {
              "outlinewidth": 0,
              "ticks": ""
             }
            },
            "type": "scatterternary"
           }
          ],
          "surface": [
           {
            "colorbar": {
             "outlinewidth": 0,
             "ticks": ""
            },
            "colorscale": [
             [
              0,
              "#0d0887"
             ],
             [
              0.1111111111111111,
              "#46039f"
             ],
             [
              0.2222222222222222,
              "#7201a8"
             ],
             [
              0.3333333333333333,
              "#9c179e"
             ],
             [
              0.4444444444444444,
              "#bd3786"
             ],
             [
              0.5555555555555556,
              "#d8576b"
             ],
             [
              0.6666666666666666,
              "#ed7953"
             ],
             [
              0.7777777777777778,
              "#fb9f3a"
             ],
             [
              0.8888888888888888,
              "#fdca26"
             ],
             [
              1,
              "#f0f921"
             ]
            ],
            "type": "surface"
           }
          ],
          "table": [
           {
            "cells": {
             "fill": {
              "color": "#EBF0F8"
             },
             "line": {
              "color": "white"
             }
            },
            "header": {
             "fill": {
              "color": "#C8D4E3"
             },
             "line": {
              "color": "white"
             }
            },
            "type": "table"
           }
          ]
         },
         "layout": {
          "annotationdefaults": {
           "arrowcolor": "#2a3f5f",
           "arrowhead": 0,
           "arrowwidth": 1
          },
          "autotypenumbers": "strict",
          "coloraxis": {
           "colorbar": {
            "outlinewidth": 0,
            "ticks": ""
           }
          },
          "colorscale": {
           "diverging": [
            [
             0,
             "#8e0152"
            ],
            [
             0.1,
             "#c51b7d"
            ],
            [
             0.2,
             "#de77ae"
            ],
            [
             0.3,
             "#f1b6da"
            ],
            [
             0.4,
             "#fde0ef"
            ],
            [
             0.5,
             "#f7f7f7"
            ],
            [
             0.6,
             "#e6f5d0"
            ],
            [
             0.7,
             "#b8e186"
            ],
            [
             0.8,
             "#7fbc41"
            ],
            [
             0.9,
             "#4d9221"
            ],
            [
             1,
             "#276419"
            ]
           ],
           "sequential": [
            [
             0,
             "#0d0887"
            ],
            [
             0.1111111111111111,
             "#46039f"
            ],
            [
             0.2222222222222222,
             "#7201a8"
            ],
            [
             0.3333333333333333,
             "#9c179e"
            ],
            [
             0.4444444444444444,
             "#bd3786"
            ],
            [
             0.5555555555555556,
             "#d8576b"
            ],
            [
             0.6666666666666666,
             "#ed7953"
            ],
            [
             0.7777777777777778,
             "#fb9f3a"
            ],
            [
             0.8888888888888888,
             "#fdca26"
            ],
            [
             1,
             "#f0f921"
            ]
           ],
           "sequentialminus": [
            [
             0,
             "#0d0887"
            ],
            [
             0.1111111111111111,
             "#46039f"
            ],
            [
             0.2222222222222222,
             "#7201a8"
            ],
            [
             0.3333333333333333,
             "#9c179e"
            ],
            [
             0.4444444444444444,
             "#bd3786"
            ],
            [
             0.5555555555555556,
             "#d8576b"
            ],
            [
             0.6666666666666666,
             "#ed7953"
            ],
            [
             0.7777777777777778,
             "#fb9f3a"
            ],
            [
             0.8888888888888888,
             "#fdca26"
            ],
            [
             1,
             "#f0f921"
            ]
           ]
          },
          "colorway": [
           "#636efa",
           "#EF553B",
           "#00cc96",
           "#ab63fa",
           "#FFA15A",
           "#19d3f3",
           "#FF6692",
           "#B6E880",
           "#FF97FF",
           "#FECB52"
          ],
          "font": {
           "color": "#2a3f5f"
          },
          "geo": {
           "bgcolor": "white",
           "lakecolor": "white",
           "landcolor": "#E5ECF6",
           "showlakes": true,
           "showland": true,
           "subunitcolor": "white"
          },
          "hoverlabel": {
           "align": "left"
          },
          "hovermode": "closest",
          "mapbox": {
           "style": "light"
          },
          "paper_bgcolor": "white",
          "plot_bgcolor": "#E5ECF6",
          "polar": {
           "angularaxis": {
            "gridcolor": "white",
            "linecolor": "white",
            "ticks": ""
           },
           "bgcolor": "#E5ECF6",
           "radialaxis": {
            "gridcolor": "white",
            "linecolor": "white",
            "ticks": ""
           }
          },
          "scene": {
           "xaxis": {
            "backgroundcolor": "#E5ECF6",
            "gridcolor": "white",
            "gridwidth": 2,
            "linecolor": "white",
            "showbackground": true,
            "ticks": "",
            "zerolinecolor": "white"
           },
           "yaxis": {
            "backgroundcolor": "#E5ECF6",
            "gridcolor": "white",
            "gridwidth": 2,
            "linecolor": "white",
            "showbackground": true,
            "ticks": "",
            "zerolinecolor": "white"
           },
           "zaxis": {
            "backgroundcolor": "#E5ECF6",
            "gridcolor": "white",
            "gridwidth": 2,
            "linecolor": "white",
            "showbackground": true,
            "ticks": "",
            "zerolinecolor": "white"
           }
          },
          "shapedefaults": {
           "line": {
            "color": "#2a3f5f"
           }
          },
          "ternary": {
           "aaxis": {
            "gridcolor": "white",
            "linecolor": "white",
            "ticks": ""
           },
           "baxis": {
            "gridcolor": "white",
            "linecolor": "white",
            "ticks": ""
           },
           "bgcolor": "#E5ECF6",
           "caxis": {
            "gridcolor": "white",
            "linecolor": "white",
            "ticks": ""
           }
          },
          "title": {
           "x": 0.05
          },
          "xaxis": {
           "automargin": true,
           "gridcolor": "white",
           "linecolor": "white",
           "ticks": "",
           "title": {
            "standoff": 15
           },
           "zerolinecolor": "white",
           "zerolinewidth": 2
          },
          "yaxis": {
           "automargin": true,
           "gridcolor": "white",
           "linecolor": "white",
           "ticks": "",
           "title": {
            "standoff": 15
           },
           "zerolinecolor": "white",
           "zerolinewidth": 2
          }
         }
        },
        "title": {
         "text": "Antal studerande över tid per utbildningsinriktning"
        },
        "xaxis": {
         "anchor": "y",
         "domain": [
          0,
          1
         ],
         "tickangle": 45,
         "title": {
          "text": "År"
         }
        },
        "yaxis": {
         "anchor": "x",
         "domain": [
          0,
          1
         ],
         "title": {
          "text": "Antal studerande"
         }
        }
       }
      }
     },
     "metadata": {},
     "output_type": "display_data"
    }
   ],
   "source": [
    "import plotly.express as px\n",
    "\n",
    "fig = px.line(\n",
    "    df_long,\n",
    "    x=\"År\",\n",
    "    y=\"Antal studerande\",\n",
    "    color=\"Utbildningsinriktning\",\n",
    "    title=\"Antal studerande över tid per utbildningsinriktning\",\n",
    "    labels={\"Antal studerande\": \"Antal studerande\", \"År\": \"År\"}\n",
    ")\n",
    "\n",
    "fig.update_layout(\n",
    "    xaxis=dict(tickangle=45),\n",
    "    legend=dict(title=\"Utbildningsinriktning\", orientation=\"v\", x=1.05, y=1)\n",
    ")\n",
    "\n",
    "fig.show()\n"
   ]
  },
  {
   "cell_type": "code",
   "execution_count": null,
   "id": "4c218f13",
   "metadata": {},
   "outputs": [
    {
     "data": {
      "application/vnd.plotly.v1+json": {
       "config": {
        "plotlyServerURL": "https://plot.ly"
       },
       "data": [
        {
         "alignmentgroup": "True",
         "hovertemplate": "Utbildningsinriktning=Data/It<br>År=%{x}<br>Antal studerande=%{y}<extra></extra>",
         "legendgroup": "Data/It",
         "marker": {
          "color": "#636efa",
          "pattern": {
           "shape": ""
          }
         },
         "name": "Data/It",
         "offsetgroup": "Data/It",
         "orientation": "v",
         "showlegend": true,
         "textposition": "auto",
         "type": "bar",
         "x": {
          "bdata": "1QfVB9UH1QfVB9UH1gfWB9YH1gfWB9YH1wfXB9cH1wfXB9cH2AfYB9gH2AfYB9gH2QfZB9kH2QfZB9kH2gfaB9oH2gfaB9oH2wfbB9sH2wfbB9sH3AfcB9wH3AfcB9wH3QfdB90H3QfdB90H3gfeB94H3gfeB94H3wffB98H3wffB98H4AfgB+AH4AfgB+AH4QfhB+EH4QfhB+EH4gfiB+IH4gfiB+IH4wfjB+MH4wfjB+MH5AfkB+QH5AfkB+QH5QflB+UH5QflB+UH5gfmB+YH5gfmB+YH5wfnB+cH5wfnB+cH6AfoB+gH6AfoB+gH",
          "dtype": "i2"
         },
         "xaxis": "x",
         "y": {
          "bdata": "AAAAAAAElEAAAAAAAECCQAAAAAAAQHNAAAAAAADAaEAAAAAAACBhQAAAAAAAwFNAAAAAAADAlEAAAAAAAGiAQAAAAAAAIHNAAAAAAACgZUAAAAAAAABdQAAAAAAAgFhAAAAAAABUlkAAAAAAADCDQAAAAAAAAHNAAAAAAADgaEAAAAAAAABhQAAAAAAAwFxAAAAAAABklUAAAAAAAIiEQAAAAAAA0HNAAAAAAABAakAAAAAAAABiQAAAAAAAAF5AAAAAAADgk0AAAAAAACCHQAAAAAAAAHZAAAAAAACAa0AAAAAAAEBiQAAAAAAAwF9AAAAAAAAIk0AAAAAAAMCHQAAAAAAAEHhAAAAAAAAAbkAAAAAAAGBjQAAAAAAAIGJAAAAAAAC8lEAAAAAAAMiJQAAAAAAAwHtAAAAAAAAQcEAAAAAAAABjQAAAAAAAYGNAAAAAAAB4lUAAAAAAABCMQAAAAAAAIH9AAAAAAAAwckAAAAAAAABlQAAAAAAAIGVAAAAAAABAl0AAAAAAAOSQQAAAAAAAyINAAAAAAACQdkAAAAAAAGBvQAAAAAAAAG5AAAAAAABMmUAAAAAAAGSVQAAAAAAAuIhAAAAAAACwfUAAAAAAAOBzQAAAAAAA0HZAAAAAAAAom0AAAAAAAPCYQAAAAAAAoI9AAAAAAADAg0AAAAAAAEB3QAAAAAAA4HxAAAAAAADsl0AAAAAAAAiaQAAAAAAADJNAAAAAAADIh0AAAAAAANB8QAAAAAAACIFAAAAAAAC4lkAAAAAAAEyaQAAAAAAAJJRAAAAAAADwiEAAAAAAAFB8QAAAAAAAqIBAAAAAAAAQlkAAAAAAAOCZQAAAAAAA+JJAAAAAAADQhUAAAAAAALB1QAAAAAAAkHdAAAAAAACsm0AAAAAAADygQAAAAAAAxJdAAAAAAABAjEAAAAAAAEB8QAAAAAAAgHZAAAAAAAAkokAAAAAAADSnQAAAAAAAvKJAAAAAAABAlUAAAAAAALiFQAAAAAAA0IBAAAAAAAC8pUAAAAAAAGKrQAAAAAAA5KdAAAAAAADMm0AAAAAAAKCOQAAAAAAAYIdAAAAAAAC2qEAAAAAAANytQAAAAAAAyKpAAAAAAAB4n0AAAAAAAPiOQAAAAAAAKIpAAAAAAAA0qkAAAAAAAJ6vQAAAAAAAZKxAAAAAAAAKoUAAAAAAAByRQAAAAAAAmIpAAAAAAAA6rEAAAAAAAMGwQAAAAAAAuK5AAAAAAACao0AAAAAAALCSQAAAAAAAYIxA",
          "dtype": "f8"
         },
         "yaxis": "y"
        },
        {
         "alignmentgroup": "True",
         "hovertemplate": "Utbildningsinriktning=Ekonomi, administration och försäljning<br>År=%{x}<br>Antal studerande=%{y}<extra></extra>",
         "legendgroup": "Ekonomi, administration och försäljning",
         "marker": {
          "color": "#EF553B",
          "pattern": {
           "shape": ""
          }
         },
         "name": "Ekonomi, administration och försäljning",
         "offsetgroup": "Ekonomi, administration och försäljning",
         "orientation": "v",
         "showlegend": true,
         "textposition": "auto",
         "type": "bar",
         "x": {
          "bdata": "1QfVB9UH1QfVB9UH1gfWB9YH1gfWB9YH1wfXB9cH1wfXB9cH2AfYB9gH2AfYB9gH2QfZB9kH2QfZB9kH2gfaB9oH2gfaB9oH2wfbB9sH2wfbB9sH3AfcB9wH3AfcB9wH3QfdB90H3QfdB90H3gfeB94H3gfeB94H3wffB98H3wffB98H4AfgB+AH4AfgB+AH4QfhB+EH4QfhB+EH4gfiB+IH4gfiB+IH4wfjB+MH4wfjB+MH5AfkB+QH5AfkB+QH5QflB+UH5QflB+UH5gfmB+YH5gfmB+YH5wfnB+cH5wfnB+cH6AfoB+gH6AfoB+gH",
          "dtype": "i2"
         },
         "xaxis": "x",
         "y": {
          "bdata": "AAAAAAAaoUAAAAAAAACYQAAAAAAAuIxAAAAAAADYhkAAAAAAAFCAQAAAAAAAUHVAAAAAAABmpUAAAAAAAFicQAAAAAAAfJBAAAAAAAB4jEAAAAAAADiDQAAAAAAAAHxAAAAAAADQqUAAAAAAACKgQAAAAAAAjJFAAAAAAABAj0AAAAAAAKCHQAAAAAAAcIFAAAAAAAAQrkAAAAAAAD6jQAAAAAAAGJRAAAAAAABkkUAAAAAAAACLQAAAAAAAiIVAAAAAAACAsEAAAAAAAAqmQAAAAAAAnJZAAAAAAACokkAAAAAAAHiKQAAAAAAAgIdAAAAAAAAFsUAAAAAAAPSnQAAAAAAAwJhAAAAAAABkk0AAAAAAAKiLQAAAAAAAIIhAAAAAAAB4sEAAAAAAAJSpQAAAAAAAlJpAAAAAAAAclEAAAAAAANiMQAAAAAAAUIhAAAAAAAAGr0AAAAAAAPypQAAAAAAAWJtAAAAAAAAUk0AAAAAAAGiLQAAAAAAACIlAAAAAAABWrkAAAAAAAHSrQAAAAAAAoJxAAAAAAACEk0AAAAAAAFiMQAAAAAAAIItAAAAAAADyq0AAAAAAAC6sQAAAAAAAPJ9AAAAAAADgk0AAAAAAAJiMQAAAAAAAyItAAAAAAAA8pkAAAAAAAIKsQAAAAAAAFJ9AAAAAAABIlUAAAAAAAMCMQAAAAAAAMIxAAAAAAADookAAAAAAABasQAAAAAAATqBAAAAAAACUlkAAAAAAAFiOQAAAAAAAiI9AAAAAAACsokAAAAAAAO6sQAAAAAAAFKJAAAAAAACkmEAAAAAAAPCQQAAAAAAAlJFAAAAAAAAgpkAAAAAAAA2wQAAAAAAAgKRAAAAAAACEm0AAAAAAAGiSQAAAAAAANJRAAAAAAACQq0AAAAAAAK+xQAAAAAAA8qdAAAAAAADUn0AAAAAAAKyUQAAAAAAAqJdAAAAAAAAysEAAAAAAABu0QAAAAAAAnqxAAAAAAAAYo0AAAAAAANCVQAAAAAAAfJpAAAAAAABFsEAAAAAAAHCzQAAAAAAAGK1AAAAAAADao0AAAAAAACCXQAAAAAAA2JlAAAAAAAA7sEAAAAAAAHqyQAAAAAAAAqxAAAAAAABEo0AAAAAAAOCVQAAAAAAAKJdAAAAAAAAKsEAAAAAAABKxQAAAAAAAQKtAAAAAAADiokAAAAAAAMyVQAAAAAAAqJhAAAAAAACDsEAAAAAAAGmwQAAAAAAAPKpAAAAAAACCokAAAAAAAGiWQAAAAAAA/JtA",
          "dtype": "f8"
         },
         "yaxis": "y"
        },
        {
         "alignmentgroup": "True",
         "hovertemplate": "Utbildningsinriktning=Friskvård och kroppsvård<br>År=%{x}<br>Antal studerande=%{y}<extra></extra>",
         "legendgroup": "Friskvård och kroppsvård",
         "marker": {
          "color": "#00cc96",
          "pattern": {
           "shape": ""
          }
         },
         "name": "Friskvård och kroppsvård",
         "offsetgroup": "Friskvård och kroppsvård",
         "orientation": "v",
         "showlegend": true,
         "textposition": "auto",
         "type": "bar",
         "x": {
          "bdata": "1QfVB9UH1QfVB9UH1gfWB9YH1gfWB9YH1wfXB9cH1wfXB9cH2AfYB9gH2AfYB9gH2QfZB9kH2QfZB9kH2gfaB9oH2gfaB9oH2wfbB9sH2wfbB9sH3AfcB9wH3AfcB9wH3QfdB90H3QfdB90H3gfeB94H3gfeB94H3wffB98H3wffB98H4AfgB+AH4AfgB+AH4QfhB+EH4QfhB+EH4gfiB+IH4gfiB+IH4wfjB+MH4wfjB+MH5AfkB+QH5AfkB+QH5QflB+UH5QflB+UH5gfmB+YH5gfmB+YH5wfnB+cH5wfnB+cH6AfoB+gH6AfoB+gH",
          "dtype": "i2"
         },
         "xaxis": "x",
         "y": {
          "bdata": "AAAAAAAAZUAAAAAAAIBeQAAAAAAAAExAAAAAAACASEAAAAAAAABLQAAAAAAAAEBAAAAAAADwcEAAAAAAAKBnQAAAAAAAwFVAAAAAAADAVUAAAAAAAABIQAAAAAAAAExAAAAAAABAdkAAAAAAAOBqQAAAAAAAAFdAAAAAAACAWUAAAAAAAABKQAAAAAAAgFBAAAAAAADQeUAAAAAAAABvQAAAAAAAwFdAAAAAAAAAVEAAAAAAAIBPQAAAAAAAgFdAAAAAAACweUAAAAAAAIBwQAAAAAAAwFZAAAAAAAAAVUAAAAAAAIBPQAAAAAAAAFhAAAAAAACQd0AAAAAAAEBrQAAAAAAAAFNAAAAAAACAUEAAAAAAAIBKQAAAAAAAwFBAAAAAAAAgcUAAAAAAAMBjQAAAAAAAgEpAAAAAAAAAQ0AAAAAAAABBQAAAAAAAAEFAAAAAAADgZkAAAAAAAABdQAAAAAAAADtAAAAAAAAAM0AAAAAAAAA0QAAAAAAAABhAAAAAAADAZUAAAAAAAABaQAAAAAAAgEFAAAAAAAAAM0AAAAAAAAAyQAAAAAAAACpAAAAAAACAYkAAAAAAAMBYQAAAAAAAADxAAAAAAAAAMkAAAAAAAAA1QAAAAAAAADBAAAAAAABAYUAAAAAAAABZQAAAAAAAAEdAAAAAAAAAOkAAAAAAAAAyQAAAAAAAADhAAAAAAADAWkAAAAAAAMBVQAAAAAAAgENAAAAAAAAAPkAAAAAAAAAyQAAAAAAAADZAAAAAAACAUUAAAAAAAEBXQAAAAAAAADhAAAAAAAAAMEAAAAAAAAAwQAAAAAAAADNAAAAAAADAUUAAAAAAAEBXQAAAAAAAADdAAAAAAAAAJkAAAAAAAAAmQAAAAAAAADZAAAAAAABAVkAAAAAAAMBcQAAAAAAAAEBAAAAAAAAAN0AAAAAAAAAwQAAAAAAAADtAAAAAAADAWEAAAAAAAABcQAAAAAAAAEpAAAAAAAAAPkAAAAAAAAAxQAAAAAAAADlAAAAAAADAXEAAAAAAAMBfQAAAAAAAgExAAAAAAAAAOEAAAAAAAAA2QAAAAAAAADtAAAAAAABAXUAAAAAAAGBhQAAAAAAAAFFAAAAAAAAAP0AAAAAAAAA1QAAAAAAAAEBAAAAAAAAAYEAAAAAAAMBgQAAAAAAAQFNAAAAAAAAARkAAAAAAAAA9QAAAAAAAAEhAAAAAAADAWUAAAAAAAABVQAAAAAAAwFBAAAAAAACAQ0AAAAAAAAA5QAAAAAAAAEhA",
          "dtype": "f8"
         },
         "yaxis": "y"
        },
        {
         "alignmentgroup": "True",
         "hovertemplate": "Utbildningsinriktning=Hotell, restaurang och turism<br>År=%{x}<br>Antal studerande=%{y}<extra></extra>",
         "legendgroup": "Hotell, restaurang och turism",
         "marker": {
          "color": "#ab63fa",
          "pattern": {
           "shape": ""
          }
         },
         "name": "Hotell, restaurang och turism",
         "offsetgroup": "Hotell, restaurang och turism",
         "orientation": "v",
         "showlegend": true,
         "textposition": "auto",
         "type": "bar",
         "x": {
          "bdata": "1QfVB9UH1QfVB9UH1gfWB9YH1gfWB9YH1wfXB9cH1wfXB9cH2AfYB9gH2AfYB9gH2QfZB9kH2QfZB9kH2gfaB9oH2gfaB9oH2wfbB9sH2wfbB9sH3AfcB9wH3AfcB9wH3QfdB90H3QfdB90H3gfeB94H3gfeB94H3wffB98H3wffB98H4AfgB+AH4AfgB+AH4QfhB+EH4QfhB+EH4gfiB+IH4gfiB+IH4wfjB+MH4wfjB+MH5AfkB+QH5AfkB+QH5QflB+UH5QflB+UH5gfmB+YH5gfmB+YH5wfnB+cH5wfnB+cH6AfoB+gH6AfoB+gH",
          "dtype": "i2"
         },
         "xaxis": "x",
         "y": {
          "bdata": "AAAAAAAMkUAAAAAAANiCQAAAAAAAIG9AAAAAAACgYEAAAAAAAEBVQAAAAAAAAE9AAAAAAADclUAAAAAAABiEQAAAAAAAoGtAAAAAAAAgYUAAAAAAAMBXQAAAAAAAgExAAAAAAADUmUAAAAAAANCFQAAAAAAAIG1AAAAAAAAAYUAAAAAAAABbQAAAAAAAQFNAAAAAAADMmkAAAAAAACCIQAAAAAAAoGtAAAAAAAAAY0AAAAAAAMBaQAAAAAAAgFpAAAAAAAD8mEAAAAAAANCIQAAAAAAAwGxAAAAAAACgYEAAAAAAAABaQAAAAAAAQFpAAAAAAAAAl0AAAAAAANCJQAAAAAAAwG5AAAAAAAAgY0AAAAAAAEBZQAAAAAAAwFpAAAAAAADwlUAAAAAAACiKQAAAAAAAQHBAAAAAAABgY0AAAAAAAIBcQAAAAAAAgF1AAAAAAABUkkAAAAAAAHCJQAAAAAAAQGxAAAAAAACAY0AAAAAAAABcQAAAAAAAwFtAAAAAAAC8kEAAAAAAALCJQAAAAAAAoG9AAAAAAACgYkAAAAAAAEBbQAAAAAAAQF5AAAAAAADYiUAAAAAAAHCLQAAAAAAAMHNAAAAAAAAgaEAAAAAAACBjQAAAAAAAAGlAAAAAAADIhEAAAAAAAACNQAAAAAAAkHZAAAAAAACgaUAAAAAAAKBoQAAAAAAAQG9AAAAAAAAwhUAAAAAAAOCLQAAAAAAA4HZAAAAAAADAaUAAAAAAAIBlQAAAAAAAYGtAAAAAAABYg0AAAAAAAJCNQAAAAAAAAHhAAAAAAABgbUAAAAAAAABlQAAAAAAAwGZAAAAAAADAg0AAAAAAAHiLQAAAAAAAsHhAAAAAAADAa0AAAAAAACBlQAAAAAAAQGlAAAAAAACIhkAAAAAAACCKQAAAAAAAYHtAAAAAAADgcEAAAAAAAKBmQAAAAAAAAHFAAAAAAACgiEAAAAAAAIiMQAAAAAAAoH5AAAAAAACgdEAAAAAAAMBpQAAAAAAA8HZAAAAAAADIiEAAAAAAANiMQAAAAAAAKIFAAAAAAACgdEAAAAAAAJBwQAAAAAAAYHxAAAAAAADIhUAAAAAAABiJQAAAAAAAwH9AAAAAAACAc0AAAAAAAKBxQAAAAAAAUHlAAAAAAAAohEAAAAAAAPiFQAAAAAAAMHxAAAAAAADQcUAAAAAAAKBxQAAAAAAAMHhAAAAAAAC4hEAAAAAAAJiEQAAAAAAAwHpAAAAAAABgc0AAAAAAAIBvQAAAAAAAgH5A",
          "dtype": "f8"
         },
         "yaxis": "y"
        },
        {
         "alignmentgroup": "True",
         "hovertemplate": "Utbildningsinriktning=Hälso- och sjukvård samt socialt arbete<br>År=%{x}<br>Antal studerande=%{y}<extra></extra>",
         "legendgroup": "Hälso- och sjukvård samt socialt arbete",
         "marker": {
          "color": "#FFA15A",
          "pattern": {
           "shape": ""
          }
         },
         "name": "Hälso- och sjukvård samt socialt arbete",
         "offsetgroup": "Hälso- och sjukvård samt socialt arbete",
         "orientation": "v",
         "showlegend": true,
         "textposition": "auto",
         "type": "bar",
         "x": {
          "bdata": "1QfVB9UH1QfVB9UH1gfWB9YH1gfWB9YH1wfXB9cH1wfXB9cH2AfYB9gH2AfYB9gH2QfZB9kH2QfZB9kH2gfaB9oH2gfaB9oH2wfbB9sH2wfbB9sH3AfcB9wH3AfcB9wH3QfdB90H3QfdB90H3gfeB94H3gfeB94H3wffB98H3wffB98H4AfgB+AH4AfgB+AH4QfhB+EH4QfhB+EH4gfiB+IH4gfiB+IH4wfjB+MH4wfjB+MH5AfkB+QH5AfkB+QH5QflB+UH5QflB+UH5gfmB+YH5gfmB+YH5wfnB+cH5wfnB+cH6AfoB+gH6AfoB+gH",
          "dtype": "i2"
         },
         "xaxis": "x",
         "y": {
          "bdata": "AAAAAAAQhEAAAAAAAJCCQAAAAAAAkHxAAAAAAADwekAAAAAAALB5QAAAAAAAkHxAAAAAAABwikAAAAAAACCFQAAAAAAAiIJAAAAAAABQgEAAAAAAAICAQAAAAAAAEIRAAAAAAABojEAAAAAAAGCIQAAAAAAA8INAAAAAAAA4gkAAAAAAAACDQAAAAAAAUIVAAAAAAABYikAAAAAAAFiIQAAAAAAA8IJAAAAAAACQgEAAAAAAAJiCQAAAAAAAIIVAAAAAAACgiEAAAAAAAACJQAAAAAAAqIJAAAAAAADAgUAAAAAAAOiBQAAAAAAA6IdAAAAAAACYh0AAAAAAANCKQAAAAAAAwIRAAAAAAABAg0AAAAAAAACEQAAAAAAAGI5AAAAAAAC4hkAAAAAAACiMQAAAAAAAcIRAAAAAAAAIhUAAAAAAAPiDQAAAAAAAmJBAAAAAAACQgkAAAAAAAGiLQAAAAAAA2INAAAAAAABIg0AAAAAAAIiEQAAAAAAA5JFAAAAAAACQg0AAAAAAAOCMQAAAAAAAaIdAAAAAAABIhUAAAAAAAGiGQAAAAAAA0JNAAAAAAADYhUAAAAAAABSRQAAAAAAAAIpAAAAAAAAQiUAAAAAAAOCJQAAAAAAAMJdAAAAAAABAhEAAAAAAAAiSQAAAAAAA0I1AAAAAAACgi0AAAAAAAGCKQAAAAAAADJhAAAAAAACYg0AAAAAAALyRQAAAAAAAmJBAAAAAAAAAjUAAAAAAAPiJQAAAAAAArJhAAAAAAADQg0AAAAAAAKyTQAAAAAAA1JJAAAAAAACYj0AAAAAAANiLQAAAAAAA/JpAAAAAAABYhUAAAAAAAIiVQAAAAAAAMJVAAAAAAADIkUAAAAAAAGiOQAAAAAAADJ5AAAAAAABAiUAAAAAAAKSYQAAAAAAAoJlAAAAAAAA8lUAAAAAAAKCTQAAAAAAArqJAAAAAAABEkEAAAAAAAFCcQAAAAAAA3J9AAAAAAADImEAAAAAAAMyWQAAAAAAALqdAAAAAAADAkUAAAAAAAJieQAAAAAAAfqFAAAAAAACUnEAAAAAAAASYQAAAAAAAMqpAAAAAAAAgk0AAAAAAAOCeQAAAAAAAHKJAAAAAAAAQoEAAAAAAAAiaQAAAAAAAcKxAAAAAAABgk0AAAAAAAJibQAAAAAAACqFAAAAAAAC4nkAAAAAAAHCaQAAAAAAAuKxAAAAAAACgkkAAAAAAALSYQAAAAAAAKJ9AAAAAAAAYnkAAAAAAANiZQAAAAAAA4qtA",
          "dtype": "f8"
         },
         "yaxis": "y"
        },
        {
         "alignmentgroup": "True",
         "hovertemplate": "Utbildningsinriktning=Journalistik och information<br>År=%{x}<br>Antal studerande=%{y}<extra></extra>",
         "legendgroup": "Journalistik och information",
         "marker": {
          "color": "#19d3f3",
          "pattern": {
           "shape": ""
          }
         },
         "name": "Journalistik och information",
         "offsetgroup": "Journalistik och information",
         "orientation": "v",
         "showlegend": true,
         "textposition": "auto",
         "type": "bar",
         "x": {
          "bdata": "1QfVB9UH1QfVB9YH1gfWB9YH1gfWB9cH1wfXB9cH1wfXB9gH2AfYB9gH2AfYB9kH2QfZB9kH2QfZB9oH2gfaB9oH2gfaB9sH2wfbB9sH2wfbB9wH3AfcB9wH3AfcB90H3QfdB90H3QfdB94H3gfeB94H3gfeB98H3wffB98H3wffB+AH4AfgB+AH4AfgB+EH4QfhB+EH4QfhB+IH4gfiB+IH4gfiB+MH4wfjB+MH4wfjB+QH5AfkB+QH5AfkB+UH5QflB+UH5QflB+YH5gfmB+YH5gfmB+cH5wfnB+cH5wfnB+gH6AfoB+gH6AfoBw==",
          "dtype": "i2"
         },
         "xaxis": "x",
         "y": {
          "bdata": "AAAAAAAAR0AAAAAAAIBFQAAAAAAAAC5AAAAAAAAAGEAAAAAAAAAQQAAAAAAAAEFAAAAAAACARUAAAAAAAAAqQAAAAAAAABBAAAAAAAAAFEAAAAAAAAAIQAAAAAAAgEFAAAAAAAAARkAAAAAAAAAqQAAAAAAAACRAAAAAAAAAFEAAAAAAAAAcQAAAAAAAAEhAAAAAAACARkAAAAAAAAA4QAAAAAAAADBAAAAAAAAAIkAAAAAAAAAxQAAAAAAAAE1AAAAAAABAUUAAAAAAAAA7QAAAAAAAADdAAAAAAAAALEAAAAAAAAA2QAAAAAAAgE1AAAAAAABAUkAAAAAAAIBCQAAAAAAAADlAAAAAAAAAQEAAAAAAAAA+QAAAAAAAAFFAAAAAAACAV0AAAAAAAABFQAAAAAAAADpAAAAAAACAQ0AAAAAAAAA+QAAAAAAAAFJAAAAAAAAAWEAAAAAAAABDQAAAAAAAADlAAAAAAAAAOEAAAAAAAAA2QAAAAAAAQFxAAAAAAACAYEAAAAAAAIBPQAAAAAAAAENAAAAAAACAQEAAAAAAAABBQAAAAAAAAGJAAAAAAABAakAAAAAAAIBYQAAAAAAAgEtAAAAAAACASEAAAAAAAEBQQAAAAAAAgF9AAAAAAACga0AAAAAAAMBbQAAAAAAAAFNAAAAAAAAASkAAAAAAAIBPQAAAAAAAQF9AAAAAAAAgb0AAAAAAAIBdQAAAAAAAAFVAAAAAAACATUAAAAAAAABWQAAAAAAAwGJAAAAAAACAbUAAAAAAAABfQAAAAAAAwFVAAAAAAAAAUkAAAAAAAKBgQAAAAAAAgGNAAAAAAABgcEAAAAAAAEBeQAAAAAAAwFRAAAAAAACAUkAAAAAAACBhQAAAAAAAQGlAAAAAAABwcUAAAAAAAGBjQAAAAAAAwFVAAAAAAABAUEAAAAAAAABdQAAAAAAAoGtAAAAAAADwcEAAAAAAAGBmQAAAAAAAwFpAAAAAAADAUEAAAAAAAIBeQAAAAAAAIGlAAAAAAABQcUAAAAAAAABmQAAAAAAAgFdAAAAAAACAUkAAAAAAAIBcQAAAAAAAQGlAAAAAAACgbkAAAAAAACBmQAAAAAAAQFJAAAAAAAAASEAAAAAAAIBTQAAAAAAAoGVAAAAAAACAbEAAAAAAAIBjQAAAAAAAwFFAAAAAAACAQ0AAAAAAAEBVQAAAAAAAAGBAAAAAAADgZkAAAAAAAEBeQAAAAAAAAFNAAAAAAACAQ0AAAAAAAMBYQA==",
          "dtype": "f8"
         },
         "yaxis": "y"
        },
        {
         "alignmentgroup": "True",
         "hovertemplate": "Utbildningsinriktning=Kultur, media och design<br>År=%{x}<br>Antal studerande=%{y}<extra></extra>",
         "legendgroup": "Kultur, media och design",
         "marker": {
          "color": "#FF6692",
          "pattern": {
           "shape": ""
          }
         },
         "name": "Kultur, media och design",
         "offsetgroup": "Kultur, media och design",
         "orientation": "v",
         "showlegend": true,
         "textposition": "auto",
         "type": "bar",
         "x": {
          "bdata": "1QfVB9UH1QfVB9UH1gfWB9YH1gfWB9YH1wfXB9cH1wfXB9cH2AfYB9gH2AfYB9gH2QfZB9kH2QfZB9kH2gfaB9oH2gfaB9oH2wfbB9sH2wfbB9sH3AfcB9wH3AfcB9wH3QfdB90H3QfdB90H3gfeB94H3gfeB94H3wffB98H3wffB98H4AfgB+AH4AfgB+AH4QfhB+EH4QfhB+EH4gfiB+IH4gfiB+IH4wfjB+MH4wfjB+MH5AfkB+QH5AfkB+QH5QflB+UH5QflB+UH5gfmB+YH5gfmB+YH5wfnB+cH5wfnB+cH6AfoB+gH6AfoB+gH",
          "dtype": "i2"
         },
         "xaxis": "x",
         "y": {
          "bdata": "AAAAAAA0mEAAAAAAADiGQAAAAAAAAHJAAAAAAABAYUAAAAAAAIBPQAAAAAAAgEpAAAAAAACImkAAAAAAADCGQAAAAAAAgHBAAAAAAACAYUAAAAAAAIBNQAAAAAAAwFBAAAAAAAAEmkAAAAAAAECGQAAAAAAAAG9AAAAAAAAgYEAAAAAAAEBSQAAAAAAAgFBAAAAAAABEmkAAAAAAALiHQAAAAAAAwHFAAAAAAADAYEAAAAAAAEBRQAAAAAAAgFBAAAAAAADsmEAAAAAAAFCJQAAAAAAAEHJAAAAAAABAXkAAAAAAAIBSQAAAAAAAgE9AAAAAAAC4lUAAAAAAAGiKQAAAAAAAwHFAAAAAAABAYEAAAAAAAABRQAAAAAAAgFJAAAAAAADAk0AAAAAAAPCIQAAAAAAA4HBAAAAAAACAXUAAAAAAAABLQAAAAAAAAE9AAAAAAAB0kkAAAAAAAGiHQAAAAAAAIGxAAAAAAACAWEAAAAAAAIBNQAAAAAAAAElAAAAAAAB8k0AAAAAAAHCIQAAAAAAA4G9AAAAAAACAW0AAAAAAAABMQAAAAAAAgE1AAAAAAAAYk0AAAAAAAHCKQAAAAAAAoHJAAAAAAABAXkAAAAAAAMBRQAAAAAAAQFFAAAAAAACIkkAAAAAAAGCMQAAAAAAA8HZAAAAAAACAYUAAAAAAAIBVQAAAAAAAgFRAAAAAAABYkUAAAAAAAFCOQAAAAAAAwHVAAAAAAAAAY0AAAAAAAMBXQAAAAAAAwFdAAAAAAAC4kEAAAAAAACCQQAAAAAAAMHdAAAAAAACAZUAAAAAAAABYQAAAAAAAAF9AAAAAAABYkEAAAAAAACCQQAAAAAAAoHlAAAAAAABAaEAAAAAAAIBXQAAAAAAAAGBAAAAAAABAkEAAAAAAAHiRQAAAAAAAwH5AAAAAAAAgZUAAAAAAAIBVQAAAAAAAwFtAAAAAAAAQk0AAAAAAANySQAAAAAAAAIJAAAAAAAAgaUAAAAAAAABcQAAAAAAAAF1AAAAAAAD8lEAAAAAAAJSUQAAAAAAAQIZAAAAAAACAbkAAAAAAAEBhQAAAAAAAQGRAAAAAAAAUl0AAAAAAAJyUQAAAAAAA+IdAAAAAAABQckAAAAAAAGBkQAAAAAAAgGlAAAAAAADEmUAAAAAAAACUQAAAAAAAWIhAAAAAAADwdEAAAAAAAOBmQAAAAAAA4GxAAAAAAAAAmkAAAAAAAMyUQAAAAAAAcIhAAAAAAACweEAAAAAAAIBpQAAAAAAAQHBA",
          "dtype": "f8"
         },
         "yaxis": "y"
        },
        {
         "alignmentgroup": "True",
         "hovertemplate": "Utbildningsinriktning=Lantbruk, djurvård, trädgård, skog och fiske<br>År=%{x}<br>Antal studerande=%{y}<extra></extra>",
         "legendgroup": "Lantbruk, djurvård, trädgård, skog och fiske",
         "marker": {
          "color": "#B6E880",
          "pattern": {
           "shape": ""
          }
         },
         "name": "Lantbruk, djurvård, trädgård, skog och fiske",
         "offsetgroup": "Lantbruk, djurvård, trädgård, skog och fiske",
         "orientation": "v",
         "showlegend": true,
         "textposition": "auto",
         "type": "bar",
         "x": {
          "bdata": "1QfVB9UH1QfVB9UH1gfWB9YH1gfWB9YH1wfXB9cH1wfXB9cH2AfYB9gH2AfYB9gH2QfZB9kH2QfZB9kH2gfaB9oH2gfaB9oH2wfbB9sH2wfbB9sH3AfcB9wH3AfcB9wH3QfdB90H3QfdB90H3gfeB94H3gfeB94H3wffB98H3wffB98H4AfgB+AH4AfgB+AH4QfhB+EH4QfhB+EH4gfiB+IH4gfiB+IH4wfjB+MH4wfjB+MH5AfkB+QH5AfkB+QH5QflB+UH5QflB+UH5gfmB+YH5gfmB+YH5wfnB+cH5wfnB+cH6AfoB+gH6AfoB+gH",
          "dtype": "i2"
         },
         "xaxis": "x",
         "y": {
          "bdata": "AAAAAABwdkAAAAAAAOBlQAAAAAAAQF5AAAAAAACAXEAAAAAAAMBUQAAAAAAAAFFAAAAAAABggUAAAAAAAOBuQAAAAAAAIGNAAAAAAABgY0AAAAAAAEBhQAAAAAAAAFdAAAAAAADQgkAAAAAAADBzQAAAAAAAYGZAAAAAAAAAZEAAAAAAAEBkQAAAAAAAAGBAAAAAAABwgkAAAAAAAFByQAAAAAAAIGVAAAAAAADgYkAAAAAAAGBjQAAAAAAAAGJAAAAAAAAQhUAAAAAAAIBxQAAAAAAA4GNAAAAAAABAZEAAAAAAACBgQAAAAAAAIGJAAAAAAABIiEAAAAAAAPByQAAAAAAAYGRAAAAAAACgY0AAAAAAAMBhQAAAAAAAQGRAAAAAAABwhkAAAAAAAPBzQAAAAAAAIGRAAAAAAABgYkAAAAAAAIBiQAAAAAAAIGRAAAAAAAAggkAAAAAAAJBzQAAAAAAAoGBAAAAAAADAX0AAAAAAAGBhQAAAAAAAIGVAAAAAAACAf0AAAAAAADB0QAAAAAAAQGFAAAAAAAAAWkAAAAAAAIBfQAAAAAAAAGRAAAAAAACQfEAAAAAAACByQAAAAAAAgGJAAAAAAADAV0AAAAAAAEBcQAAAAAAAgGJAAAAAAADAekAAAAAAANB1QAAAAAAAgGNAAAAAAAAAWUAAAAAAAABdQAAAAAAAwGNAAAAAAABQeEAAAAAAAKB1QAAAAAAAQGhAAAAAAADAX0AAAAAAAIBiQAAAAAAAYGlAAAAAAABAdEAAAAAAAEB0QAAAAAAAoGtAAAAAAACAY0AAAAAAAMBiQAAAAAAAsHBAAAAAAADAckAAAAAAANByQAAAAAAAYGdAAAAAAADAZEAAAAAAAMBfQAAAAAAAcHFAAAAAAABAcUAAAAAAANBzQAAAAAAAYG1AAAAAAADgZUAAAAAAAMBgQAAAAAAAcHFAAAAAAABgdEAAAAAAADB1QAAAAAAAwHFAAAAAAACAaUAAAAAAAEBjQAAAAAAAIHNAAAAAAAAQdUAAAAAAAFB2QAAAAAAAAHVAAAAAAABAcEAAAAAAAEBpQAAAAAAA4HNAAAAAAABwdkAAAAAAAFB1QAAAAAAAoHZAAAAAAAAwc0AAAAAAAEBrQAAAAAAAsHZAAAAAAABQeEAAAAAAALB0QAAAAAAAwHdAAAAAAAAwdEAAAAAAAABsQAAAAAAAwHtAAAAAAADwe0AAAAAAAHB3QAAAAAAAEHhAAAAAAACQdkAAAAAAACBxQAAAAAAAgH9A",
          "dtype": "f8"
         },
         "yaxis": "y"
        },
        {
         "alignmentgroup": "True",
         "hovertemplate": "Utbildningsinriktning=Pedagogik och undervisning<br>År=%{x}<br>Antal studerande=%{y}<extra></extra>",
         "legendgroup": "Pedagogik och undervisning",
         "marker": {
          "color": "#FF97FF",
          "pattern": {
           "shape": ""
          }
         },
         "name": "Pedagogik och undervisning",
         "offsetgroup": "Pedagogik och undervisning",
         "orientation": "v",
         "showlegend": true,
         "textposition": "auto",
         "type": "bar",
         "x": {
          "bdata": "1QfVB9UH1QfVB9UH1gfWB9YH1gfWB9YH1wfXB9cH1wfXB9cH2AfYB9gH2AfYB9gH2QfZB9kH2QfZB9kH2gfaB9oH2gfaB9oH2wfbB9sH2wfbB9sH3AfcB9wH3AfcB9wH3QfdB90H3QfdB90H3gfeB94H3gfeB94H3wffB98H3wffB98H4AfgB+AH4AfgB+AH4QfhB+EH4QfhB+EH4gfiB+IH4gfiB+IH4wfjB+MH4wfjB+MH5AfkB+QH5AfkB+QH5QflB+UH5QflB+UH5gfmB+YH5gfmB+YH5wfnB+cH5wfnB+cH6AfoB+gH6AfoB+gH",
          "dtype": "i2"
         },
         "xaxis": "x",
         "y": {
          "bdata": "AAAAAAAACEAAAAAAAAAIQAAAAAAAABBAAAAAAAAACEAAAAAAAAAAAAAAAAAAAAhAAAAAAAAALEAAAAAAAAAwQAAAAAAAADNAAAAAAAAANUAAAAAAAAAqQAAAAAAAADRAAAAAAAAAN0AAAAAAAAA7QAAAAAAAgERAAAAAAAAAPEAAAAAAAAA9QAAAAAAAAENAAAAAAAAANkAAAAAAAABDQAAAAAAAgEVAAAAAAACAQkAAAAAAAIBBQAAAAAAAgEZAAAAAAAAAQEAAAAAAAABLQAAAAAAAAEJAAAAAAACASEAAAAAAAIBEQAAAAAAAAENAAAAAAABAVkAAAAAAAEBWQAAAAAAAAFNAAAAAAACAT0AAAAAAAIBRQAAAAAAAwFJAAAAAAAAAX0AAAAAAAIBiQAAAAAAAAFpAAAAAAADAVUAAAAAAAMBVQAAAAAAAgFtAAAAAAABAVEAAAAAAAABdQAAAAAAAQFJAAAAAAAAATkAAAAAAAIBIQAAAAAAAwFJAAAAAAAAAWkAAAAAAAMBaQAAAAAAAgEhAAAAAAABAUEAAAAAAAABEQAAAAAAAgE1AAAAAAAAAX0AAAAAAAMBbQAAAAAAAAExAAAAAAAAAUEAAAAAAAIBJQAAAAAAAwFNAAAAAAACAWUAAAAAAAIBXQAAAAAAAAEpAAAAAAAAAS0AAAAAAAIBJQAAAAAAAQFFAAAAAAADAVkAAAAAAAEBfQAAAAAAAAFVAAAAAAAAAUEAAAAAAAIBSQAAAAAAAAFhAAAAAAAAAW0AAAAAAAMBjQAAAAAAAQFdAAAAAAADAVkAAAAAAAABTQAAAAAAAAGBAAAAAAAAAXEAAAAAAAMBkQAAAAAAAwGBAAAAAAABAXkAAAAAAAMBeQAAAAAAAoGlAAAAAAADAW0AAAAAAAIBsQAAAAAAAoGhAAAAAAADgaUAAAAAAAIBnQAAAAAAAYHZAAAAAAADAYkAAAAAAACBtQAAAAAAAQG9AAAAAAACgbEAAAAAAAIBrQAAAAAAA4HtAAAAAAAAAaEAAAAAAALBxQAAAAAAAoHBAAAAAAABAcUAAAAAAACBuQAAAAAAAIIFAAAAAAADAakAAAAAAAPBwQAAAAAAA0HNAAAAAAADQdEAAAAAAACByQAAAAAAAOIFAAAAAAADAXEAAAAAAAKBrQAAAAAAAoG9AAAAAAADgbkAAAAAAAABsQAAAAAAAIHxAAAAAAAAAV0AAAAAAAMBiQAAAAAAAoGRAAAAAAACgZUAAAAAAAMBjQAAAAAAAUHZA",
          "dtype": "f8"
         },
         "yaxis": "y"
        },
        {
         "alignmentgroup": "True",
         "hovertemplate": "Utbildningsinriktning=Samhällsbyggnad och byggteknik<br>År=%{x}<br>Antal studerande=%{y}<extra></extra>",
         "legendgroup": "Samhällsbyggnad och byggteknik",
         "marker": {
          "color": "#FECB52",
          "pattern": {
           "shape": ""
          }
         },
         "name": "Samhällsbyggnad och byggteknik",
         "offsetgroup": "Samhällsbyggnad och byggteknik",
         "orientation": "v",
         "showlegend": true,
         "textposition": "auto",
         "type": "bar",
         "x": {
          "bdata": "1QfVB9UH1QfVB9UH1gfWB9YH1gfWB9YH1wfXB9cH1wfXB9cH2AfYB9gH2AfYB9gH2QfZB9kH2QfZB9kH2gfaB9oH2gfaB9oH2wfbB9sH2wfbB9sH3AfcB9wH3AfcB9wH3QfdB90H3QfdB90H3gfeB94H3gfeB94H3wffB98H3wffB98H4AfgB+AH4AfgB+AH4QfhB+EH4QfhB+EH4gfiB+IH4gfiB+IH4wfjB+MH4wfjB+MH5AfkB+QH5AfkB+QH5QflB+UH5QflB+UH5gfmB+YH5gfmB+YH5wfnB+cH5wfnB+cH6AfoB+gH6AfoB+gH",
          "dtype": "i2"
         },
         "xaxis": "x",
         "y": {
          "bdata": "AAAAAACAfkAAAAAAAMBxQAAAAAAAgGdAAAAAAAAAZ0AAAAAAAABgQAAAAAAAoGBAAAAAAABAiEAAAAAAAFB4QAAAAAAAAG1AAAAAAABgakAAAAAAACBmQAAAAAAAIGRAAAAAAAAYjUAAAAAAAIiAQAAAAAAAQHNAAAAAAAAAa0AAAAAAAMBqQAAAAAAAwGdAAAAAAACAjkAAAAAAANiEQAAAAAAA8HJAAAAAAADgcEAAAAAAAEBqQAAAAAAA4GpAAAAAAAC4kUAAAAAAAECJQAAAAAAA4HhAAAAAAADQdEAAAAAAABBwQAAAAAAAoG9AAAAAAABAk0AAAAAAADiMQAAAAAAA4H5AAAAAAABwdkAAAAAAACBxQAAAAAAAYHFAAAAAAAB0lUAAAAAAAGiQQAAAAAAAcIJAAAAAAADQdUAAAAAAAKBxQAAAAAAAIHFAAAAAAAD0lkAAAAAAANyRQAAAAAAAsIRAAAAAAADgeUAAAAAAAMB0QAAAAAAAcHVAAAAAAABIlkAAAAAAAPSUQAAAAAAAeIZAAAAAAABQfkAAAAAAAPB3QAAAAAAAUHhAAAAAAADEk0AAAAAAABiXQAAAAAAAIIpAAAAAAABwgUAAAAAAAEB6QAAAAAAAwHlAAAAAAAAQk0AAAAAAABiaQAAAAAAAcI9AAAAAAACwhEAAAAAAAGB/QAAAAAAAQHxAAAAAAACAkkAAAAAAANybQAAAAAAAfJJAAAAAAACIiEAAAAAAAOCBQAAAAAAAeIFAAAAAAAAMlEAAAAAAAFCfQAAAAAAAaJVAAAAAAAB4i0AAAAAAAPiCQAAAAAAAgIVAAAAAAAAYmEAAAAAAAKqgQAAAAAAAJJdAAAAAAADYj0AAAAAAAMCDQAAAAAAAuIZAAAAAAAB4nUAAAAAAACikQAAAAAAAZJtAAAAAAACEkkAAAAAAAFCHQAAAAAAAKItAAAAAAACsokAAAAAAALyoQAAAAAAAgKJAAAAAAADkl0AAAAAAAHiPQAAAAAAA/JBAAAAAAADIo0AAAAAAAAqqQAAAAAAALKVAAAAAAADwm0AAAAAAAPiRQAAAAAAAPJNAAAAAAACapEAAAAAAAEKoQAAAAAAAdKZAAAAAAABQnUAAAAAAAHSTQAAAAAAAVJRAAAAAAABmpEAAAAAAADylQAAAAAAAYqVAAAAAAACsnUAAAAAAAMySQAAAAAAAxJVAAAAAAACapUAAAAAAAOylQAAAAAAA6qRAAAAAAAAKoEAAAAAAAKiTQAAAAAAAiJhA",
          "dtype": "f8"
         },
         "yaxis": "y"
        },
        {
         "alignmentgroup": "True",
         "hovertemplate": "Utbildningsinriktning=Säkerhetstjänster<br>År=%{x}<br>Antal studerande=%{y}<extra></extra>",
         "legendgroup": "Säkerhetstjänster",
         "marker": {
          "color": "#636efa",
          "pattern": {
           "shape": ""
          }
         },
         "name": "Säkerhetstjänster",
         "offsetgroup": "Säkerhetstjänster",
         "orientation": "v",
         "showlegend": true,
         "textposition": "auto",
         "type": "bar",
         "x": {
          "bdata": "1QfVB9UH1QfVB9UH1gfWB9YH1gfWB9YH1wfXB9cH1wfXB9cH2AfYB9gH2AfYB9gH2QfZB9kH2QfZB9kH2gfaB9oH2gfaB9oH2wfbB9sH2wfbB9sH3AfcB9wH3AfcB9wH3QfdB90H3QfdB90H3gfeB94H3gfeB94H3wffB98H3wffB98H4AfgB+AH4AfgB+AH4QfhB+EH4QfhB+EH4gfiB+IH4gfiB+IH4wfjB+MH4wfjB+MH5AfkB+QH5AfkB+QH5QflB+UH5QflB+UH5gfmB+YH5gfmB+YH5wfnB+cH5wfnB+cH6AfoB+gH6AfoB+gH",
          "dtype": "i2"
         },
         "xaxis": "x",
         "y": {
          "bdata": "AAAAAADAXEAAAAAAAIBOQAAAAAAAAEZAAAAAAAAAOUAAAAAAAAAgQAAAAAAAACxAAAAAAABAZUAAAAAAAABcQAAAAAAAQFBAAAAAAAAAQkAAAAAAAAAyQAAAAAAAADhAAAAAAADAZ0AAAAAAAGBlQAAAAAAAgFNAAAAAAACATUAAAAAAAABEQAAAAAAAADtAAAAAAAAgakAAAAAAAGBnQAAAAAAAQFdAAAAAAAAAUUAAAAAAAABFQAAAAAAAADtAAAAAAADgZUAAAAAAAABnQAAAAAAAAFZAAAAAAABAVUAAAAAAAABMQAAAAAAAgERAAAAAAADAXEAAAAAAAEBlQAAAAAAAAFhAAAAAAAAAUkAAAAAAAABJQAAAAAAAgERAAAAAAABAWUAAAAAAACBiQAAAAAAAAFVAAAAAAACASEAAAAAAAIBEQAAAAAAAgENAAAAAAAAAV0AAAAAAAIBfQAAAAAAAAE9AAAAAAACAQUAAAAAAAAA5QAAAAAAAAD5AAAAAAADAUUAAAAAAAEBaQAAAAAAAAE1AAAAAAACAQkAAAAAAAAA+QAAAAAAAgEFAAAAAAACARUAAAAAAAMBUQAAAAAAAQFJAAAAAAACATEAAAAAAAIBIQAAAAAAAgEZAAAAAAAAAM0AAAAAAAEBQQAAAAAAAwFdAAAAAAADAUEAAAAAAAABPQAAAAAAAgFFAAAAAAAAAKEAAAAAAAABTQAAAAAAAAFJAAAAAAADAUkAAAAAAAABPQAAAAAAAgFNAAAAAAAAAKEAAAAAAAIBKQAAAAAAAgElAAAAAAAAATUAAAAAAAABEQAAAAAAAgE5AAAAAAAAAM0AAAAAAAABRQAAAAAAAgElAAAAAAACARkAAAAAAAIBCQAAAAAAAAFBAAAAAAAAANkAAAAAAAIBaQAAAAAAAgFFAAAAAAADAUUAAAAAAAIBNQAAAAAAAAFRAAAAAAACAQUAAAAAAAABZQAAAAAAAAFpAAAAAAACAWkAAAAAAAABYQAAAAAAAQGFAAAAAAACAREAAAAAAAMBXQAAAAAAAwFpAAAAAAAAAXkAAAAAAAIBWQAAAAAAAoGFAAAAAAACARkAAAAAAAIBfQAAAAAAAAGNAAAAAAACgY0AAAAAAAMBbQAAAAAAAgGVAAAAAAACASkAAAAAAAABeQAAAAAAAoGZAAAAAAABgZ0AAAAAAAIBdQAAAAAAAwGVAAAAAAACAT0AAAAAAAIBeQAAAAAAAgGRAAAAAAACAZ0AAAAAAAEBcQAAAAAAAgGZA",
          "dtype": "f8"
         },
         "yaxis": "y"
        },
        {
         "alignmentgroup": "True",
         "hovertemplate": "Utbildningsinriktning=Teknik och tillverkning<br>År=%{x}<br>Antal studerande=%{y}<extra></extra>",
         "legendgroup": "Teknik och tillverkning",
         "marker": {
          "color": "#EF553B",
          "pattern": {
           "shape": ""
          }
         },
         "name": "Teknik och tillverkning",
         "offsetgroup": "Teknik och tillverkning",
         "orientation": "v",
         "showlegend": true,
         "textposition": "auto",
         "type": "bar",
         "x": {
          "bdata": "1QfVB9UH1QfVB9UH1gfWB9YH1gfWB9YH1wfXB9cH1wfXB9cH2AfYB9gH2AfYB9gH2QfZB9kH2QfZB9kH2gfaB9oH2gfaB9oH2wfbB9sH2wfbB9sH3AfcB9wH3AfcB9wH3QfdB90H3QfdB90H3gfeB94H3gfeB94H3wffB98H3wffB98H4AfgB+AH4AfgB+AH4QfhB+EH4QfhB+EH4gfiB+IH4gfiB+IH4wfjB+MH4wfjB+MH5AfkB+QH5AfkB+QH5QflB+UH5QflB+UH5gfmB+YH5gfmB+YH5wfnB+cH5wfnB+cH6AfoB+gH6AfoB+gH",
          "dtype": "i2"
         },
         "xaxis": "x",
         "y": {
          "bdata": "AAAAAAAwnEAAAAAAAFCGQAAAAAAAAH9AAAAAAADweUAAAAAAABBzQAAAAAAAQGdAAAAAAABkoEAAAAAAAJiIQAAAAAAACIBAAAAAAAAQeUAAAAAAAMByQAAAAAAAYGpAAAAAAAC2okAAAAAAAHiOQAAAAAAAkIBAAAAAAAAQe0AAAAAAAKB1QAAAAAAAIG9AAAAAAAACpUAAAAAAAGyRQAAAAAAA6IJAAAAAAADgfUAAAAAAAIB2QAAAAAAAwHNAAAAAAABGqEAAAAAAAMiUQAAAAAAASIdAAAAAAADogEAAAAAAABB6QAAAAAAAMHdAAAAAAAAaq0AAAAAAAMiWQAAAAAAAmIdAAAAAAAAAg0AAAAAAAJB8QAAAAAAAsHhAAAAAAABkq0AAAAAAACCYQAAAAAAAeIlAAAAAAABAhEAAAAAAADB5QAAAAAAAIHpAAAAAAAAaqUAAAAAAADSXQAAAAAAAYIhAAAAAAAA4gUAAAAAAALB2QAAAAAAAMHVAAAAAAAAoqEAAAAAAAPiZQAAAAAAASItAAAAAAAAQgkAAAAAAALB3QAAAAAAAQHxAAAAAAABkp0AAAAAAAGyaQAAAAAAAAJBAAAAAAAAQhEAAAAAAALB5QAAAAAAAsIFAAAAAAACEpUAAAAAAAGibQAAAAAAAkJBAAAAAAACohkAAAAAAAIB9QAAAAAAAcINAAAAAAACyo0AAAAAAAFycQAAAAAAA/JBAAAAAAAAQh0AAAAAAADB+QAAAAAAAOINAAAAAAADioUAAAAAAADicQAAAAAAARJFAAAAAAABIh0AAAAAAADB/QAAAAAAAMINAAAAAAAAWoUAAAAAAAIyaQAAAAAAANJJAAAAAAAAgh0AAAAAAAHB9QAAAAAAACIJAAAAAAACqoUAAAAAAAHCeQAAAAAAA9JRAAAAAAADIi0AAAAAAACCDQAAAAAAAQIZAAAAAAAC2pUAAAAAAAJKjQAAAAAAArJpAAAAAAAAQkkAAAAAAABCJQAAAAAAAsI5AAAAAAABKqEAAAAAAAKKkQAAAAAAAHKBAAAAAAABMlUAAAAAAAAiOQAAAAAAA3JFAAAAAAABcqEAAAAAAAOijQAAAAAAARqBAAAAAAADElUAAAAAAADCNQAAAAAAARJNAAAAAAADgqEAAAAAAAAikQAAAAAAAnqBAAAAAAACQlkAAAAAAAByQQAAAAAAAPJVAAAAAAAAcrEAAAAAAABSmQAAAAAAA9qJAAAAAAACgmUAAAAAAAPiSQAAAAAAAxJdA",
          "dtype": "f8"
         },
         "yaxis": "y"
        },
        {
         "alignmentgroup": "True",
         "hovertemplate": "Utbildningsinriktning=Transporttjänster<br>År=%{x}<br>Antal studerande=%{y}<extra></extra>",
         "legendgroup": "Transporttjänster",
         "marker": {
          "color": "#00cc96",
          "pattern": {
           "shape": ""
          }
         },
         "name": "Transporttjänster",
         "offsetgroup": "Transporttjänster",
         "orientation": "v",
         "showlegend": true,
         "textposition": "auto",
         "type": "bar",
         "x": {
          "bdata": "1QfVB9UH1QfVB9UH1gfWB9YH1gfWB9YH1wfXB9cH1wfXB9cH2AfYB9gH2AfYB9gH2QfZB9kH2QfZB9kH2gfaB9oH2gfaB9oH2wfbB9sH2wfbB9sH3AfcB9wH3AfcB9wH3QfdB90H3QfdB90H3gfeB94H3gfeB94H3wffB98H3wffB98H4AfgB+AH4AfgB+AH4QfhB+EH4QfhB+EH4gfiB+IH4gfiB+IH4wfjB+MH4wfjB+MH5AfkB+QH5AfkB+QH5QflB+UH5QflB+UH5gfmB+YH5gfmB+YH5wfnB+cH5wfnB+cH6AfoB+gH6AfoB+gH",
          "dtype": "i2"
         },
         "xaxis": "x",
         "y": {
          "bdata": "AAAAAACAb0AAAAAAAGBkQAAAAAAAAGJAAAAAAACAXkAAAAAAAMBXQAAAAAAAAEdAAAAAAACgdUAAAAAAACBrQAAAAAAAYGhAAAAAAABAZEAAAAAAAABdQAAAAAAAwFBAAAAAAADQeEAAAAAAACBzQAAAAAAAgGxAAAAAAABgZ0AAAAAAACBhQAAAAAAAAFlAAAAAAABAfUAAAAAAAAB4QAAAAAAAIG1AAAAAAABgakAAAAAAAABlQAAAAAAAQF9AAAAAAADQfkAAAAAAAGB6QAAAAAAAgG5AAAAAAADga0AAAAAAACBmQAAAAAAAAGFAAAAAAABYgUAAAAAAAFB9QAAAAAAA8HFAAAAAAADAbUAAAAAAAKBmQAAAAAAAAGBAAAAAAABQgUAAAAAAADB+QAAAAAAA0HFAAAAAAABAbUAAAAAAAOBkQAAAAAAAQF5AAAAAAABQekAAAAAAAKB6QAAAAAAAgG1AAAAAAABgZUAAAAAAAABeQAAAAAAAQFxAAAAAAACAdEAAAAAAAEBzQAAAAAAA4GZAAAAAAADAX0AAAAAAAABVQAAAAAAAgFVAAAAAAADgcUAAAAAAAMBwQAAAAAAAoGJAAAAAAABAVkAAAAAAAEBUQAAAAAAAAFFAAAAAAABQdEAAAAAAABB2QAAAAAAAIGlAAAAAAADAYEAAAAAAAIBZQAAAAAAAwFJAAAAAAAAgeEAAAAAAAAB/QAAAAAAAIHBAAAAAAABgZEAAAAAAAABfQAAAAAAAQF1AAAAAAABAe0AAAAAAAFiBQAAAAAAAIHRAAAAAAABgbEAAAAAAAOBiQAAAAAAA4GNAAAAAAADQdkAAAAAAAPB+QAAAAAAAgHRAAAAAAABgbUAAAAAAAGBiQAAAAAAAYGZAAAAAAAAgdkAAAAAAAPB7QAAAAAAAwHRAAAAAAABAakAAAAAAAEBeQAAAAAAAIGpAAAAAAADgeEAAAAAAABB+QAAAAAAAYHRAAAAAAAAAaEAAAAAAAOBgQAAAAAAAIGxAAAAAAACAdkAAAAAAAGB6QAAAAAAA8HFAAAAAAADAZUAAAAAAAEBcQAAAAAAAIGtAAAAAAADQdkAAAAAAAKB2QAAAAAAA8HBAAAAAAAAAZEAAAAAAAEBeQAAAAAAAYGpAAAAAAACQekAAAAAAACB2QAAAAAAA4HFAAAAAAADAZ0AAAAAAAGBgQAAAAAAAAG1AAAAAAACweUAAAAAAAGB1QAAAAAAAsHJAAAAAAAAAaUAAAAAAAOBhQAAAAAAAgHJA",
          "dtype": "f8"
         },
         "yaxis": "y"
        },
        {
         "alignmentgroup": "True",
         "hovertemplate": "Utbildningsinriktning=Juridik<br>År=%{x}<br>Antal studerande=%{y}<extra></extra>",
         "legendgroup": "Juridik",
         "marker": {
          "color": "#ab63fa",
          "pattern": {
           "shape": ""
          }
         },
         "name": "Juridik",
         "offsetgroup": "Juridik",
         "orientation": "v",
         "showlegend": true,
         "textposition": "auto",
         "type": "bar",
         "x": {
          "bdata": "1gfWB9YH1gfWB9YH1wfXB9cH1wfXB9cH2AfYB9gH2AfYB9gH2QfZB9kH2QfZB9kH2gfaB9oH2gfaB9oH2wfbB9sH2wfbB9sH3AfcB9wH3AfcB9wH3QfdB90H3QfdB90H3gfeB94H3gfeB94H3wffB98H3wffB98H4AfgB+AH4AfgB+AH4QfhB+EH4QfhB+EH4gfiB+IH4gfiB+IH4wfjB+MH4wfjB+MH5AfkB+QH5AfkB+QH5QflB+UH5QflB+UH5gfmB+YH5gfmB+YH5wfnB+cH5wfnB+cH6AfoB+gH6AfoB+gH",
          "dtype": "i2"
         },
         "xaxis": "x",
         "y": {
          "bdata": "AAAAAAAAOkAAAAAAAAAqQAAAAAAAABhAAAAAAAAAHEAAAAAAAAAIQAAAAAAAABhAAAAAAACARUAAAAAAAABBQAAAAAAAADJAAAAAAAAAJkAAAAAAAAAkQAAAAAAAABhAAAAAAACARUAAAAAAAABJQAAAAAAAAD9AAAAAAAAALEAAAAAAAAAsQAAAAAAAABRAAAAAAACAQUAAAAAAAIBQQAAAAAAAADxAAAAAAAAAM0AAAAAAAAAqQAAAAAAAABhAAAAAAACAREAAAAAAAABLQAAAAAAAAD5AAAAAAAAAOEAAAAAAAAAwQAAAAAAAACBAAAAAAAAASUAAAAAAAABKQAAAAAAAAD1AAAAAAAAAOkAAAAAAAAAmQAAAAAAAABxAAAAAAAAAUEAAAAAAAMBQQAAAAAAAAE1AAAAAAAAAOkAAAAAAAAA2QAAAAAAAABRAAAAAAACATEAAAAAAAEBYQAAAAAAAQFBAAAAAAAAAQEAAAAAAAAAzQAAAAAAAACRAAAAAAAAAQkAAAAAAAMBYQAAAAAAAAFNAAAAAAAAAQkAAAAAAAAA0QAAAAAAAADFAAAAAAAAAR0AAAAAAAIBaQAAAAAAAAFJAAAAAAACAQkAAAAAAAAA/QAAAAAAAADFAAAAAAACAS0AAAAAAAMBYQAAAAAAAwFNAAAAAAACARUAAAAAAAABBQAAAAAAAADpAAAAAAAAAUEAAAAAAAABgQAAAAAAAgFZAAAAAAACARkAAAAAAAIBEQAAAAAAAAEZAAAAAAABAWEAAAAAAAMBcQAAAAAAAgFZAAAAAAACAS0AAAAAAAABIQAAAAAAAgEBAAAAAAACAX0AAAAAAAABaQAAAAAAAAFdAAAAAAAAARUAAAAAAAABMQAAAAAAAAD9AAAAAAABgYkAAAAAAAIBdQAAAAAAAgFRAAAAAAAAASUAAAAAAAABFQAAAAAAAgEZAAAAAAAAgYUAAAAAAAABaQAAAAAAAAFVAAAAAAAAATUAAAAAAAABDQAAAAAAAwFBAAAAAAACAW0AAAAAAAMBVQAAAAAAAgFJAAAAAAACASEAAAAAAAABBQAAAAAAAAE9AAAAAAABAWkAAAAAAAABTQAAAAAAAgEtAAAAAAACAQ0AAAAAAAAA9QAAAAAAAAEVAAAAAAADAWUAAAAAAAIBVQAAAAAAAgElAAAAAAACAQkAAAAAAAAA/QAAAAAAAAENA",
          "dtype": "f8"
         },
         "yaxis": "y"
        }
       ],
       "layout": {
        "barmode": "group",
        "legend": {
         "orientation": "v",
         "title": {
          "text": "Utbildningsinriktning"
         },
         "tracegroupgap": 0,
         "x": 1.05,
         "y": 1
        },
        "template": {
         "data": {
          "bar": [
           {
            "error_x": {
             "color": "#2a3f5f"
            },
            "error_y": {
             "color": "#2a3f5f"
            },
            "marker": {
             "line": {
              "color": "#E5ECF6",
              "width": 0.5
             },
             "pattern": {
              "fillmode": "overlay",
              "size": 10,
              "solidity": 0.2
             }
            },
            "type": "bar"
           }
          ],
          "barpolar": [
           {
            "marker": {
             "line": {
              "color": "#E5ECF6",
              "width": 0.5
             },
             "pattern": {
              "fillmode": "overlay",
              "size": 10,
              "solidity": 0.2
             }
            },
            "type": "barpolar"
           }
          ],
          "carpet": [
           {
            "aaxis": {
             "endlinecolor": "#2a3f5f",
             "gridcolor": "white",
             "linecolor": "white",
             "minorgridcolor": "white",
             "startlinecolor": "#2a3f5f"
            },
            "baxis": {
             "endlinecolor": "#2a3f5f",
             "gridcolor": "white",
             "linecolor": "white",
             "minorgridcolor": "white",
             "startlinecolor": "#2a3f5f"
            },
            "type": "carpet"
           }
          ],
          "choropleth": [
           {
            "colorbar": {
             "outlinewidth": 0,
             "ticks": ""
            },
            "type": "choropleth"
           }
          ],
          "contour": [
           {
            "colorbar": {
             "outlinewidth": 0,
             "ticks": ""
            },
            "colorscale": [
             [
              0,
              "#0d0887"
             ],
             [
              0.1111111111111111,
              "#46039f"
             ],
             [
              0.2222222222222222,
              "#7201a8"
             ],
             [
              0.3333333333333333,
              "#9c179e"
             ],
             [
              0.4444444444444444,
              "#bd3786"
             ],
             [
              0.5555555555555556,
              "#d8576b"
             ],
             [
              0.6666666666666666,
              "#ed7953"
             ],
             [
              0.7777777777777778,
              "#fb9f3a"
             ],
             [
              0.8888888888888888,
              "#fdca26"
             ],
             [
              1,
              "#f0f921"
             ]
            ],
            "type": "contour"
           }
          ],
          "contourcarpet": [
           {
            "colorbar": {
             "outlinewidth": 0,
             "ticks": ""
            },
            "type": "contourcarpet"
           }
          ],
          "heatmap": [
           {
            "colorbar": {
             "outlinewidth": 0,
             "ticks": ""
            },
            "colorscale": [
             [
              0,
              "#0d0887"
             ],
             [
              0.1111111111111111,
              "#46039f"
             ],
             [
              0.2222222222222222,
              "#7201a8"
             ],
             [
              0.3333333333333333,
              "#9c179e"
             ],
             [
              0.4444444444444444,
              "#bd3786"
             ],
             [
              0.5555555555555556,
              "#d8576b"
             ],
             [
              0.6666666666666666,
              "#ed7953"
             ],
             [
              0.7777777777777778,
              "#fb9f3a"
             ],
             [
              0.8888888888888888,
              "#fdca26"
             ],
             [
              1,
              "#f0f921"
             ]
            ],
            "type": "heatmap"
           }
          ],
          "histogram": [
           {
            "marker": {
             "pattern": {
              "fillmode": "overlay",
              "size": 10,
              "solidity": 0.2
             }
            },
            "type": "histogram"
           }
          ],
          "histogram2d": [
           {
            "colorbar": {
             "outlinewidth": 0,
             "ticks": ""
            },
            "colorscale": [
             [
              0,
              "#0d0887"
             ],
             [
              0.1111111111111111,
              "#46039f"
             ],
             [
              0.2222222222222222,
              "#7201a8"
             ],
             [
              0.3333333333333333,
              "#9c179e"
             ],
             [
              0.4444444444444444,
              "#bd3786"
             ],
             [
              0.5555555555555556,
              "#d8576b"
             ],
             [
              0.6666666666666666,
              "#ed7953"
             ],
             [
              0.7777777777777778,
              "#fb9f3a"
             ],
             [
              0.8888888888888888,
              "#fdca26"
             ],
             [
              1,
              "#f0f921"
             ]
            ],
            "type": "histogram2d"
           }
          ],
          "histogram2dcontour": [
           {
            "colorbar": {
             "outlinewidth": 0,
             "ticks": ""
            },
            "colorscale": [
             [
              0,
              "#0d0887"
             ],
             [
              0.1111111111111111,
              "#46039f"
             ],
             [
              0.2222222222222222,
              "#7201a8"
             ],
             [
              0.3333333333333333,
              "#9c179e"
             ],
             [
              0.4444444444444444,
              "#bd3786"
             ],
             [
              0.5555555555555556,
              "#d8576b"
             ],
             [
              0.6666666666666666,
              "#ed7953"
             ],
             [
              0.7777777777777778,
              "#fb9f3a"
             ],
             [
              0.8888888888888888,
              "#fdca26"
             ],
             [
              1,
              "#f0f921"
             ]
            ],
            "type": "histogram2dcontour"
           }
          ],
          "mesh3d": [
           {
            "colorbar": {
             "outlinewidth": 0,
             "ticks": ""
            },
            "type": "mesh3d"
           }
          ],
          "parcoords": [
           {
            "line": {
             "colorbar": {
              "outlinewidth": 0,
              "ticks": ""
             }
            },
            "type": "parcoords"
           }
          ],
          "pie": [
           {
            "automargin": true,
            "type": "pie"
           }
          ],
          "scatter": [
           {
            "fillpattern": {
             "fillmode": "overlay",
             "size": 10,
             "solidity": 0.2
            },
            "type": "scatter"
           }
          ],
          "scatter3d": [
           {
            "line": {
             "colorbar": {
              "outlinewidth": 0,
              "ticks": ""
             }
            },
            "marker": {
             "colorbar": {
              "outlinewidth": 0,
              "ticks": ""
             }
            },
            "type": "scatter3d"
           }
          ],
          "scattercarpet": [
           {
            "marker": {
             "colorbar": {
              "outlinewidth": 0,
              "ticks": ""
             }
            },
            "type": "scattercarpet"
           }
          ],
          "scattergeo": [
           {
            "marker": {
             "colorbar": {
              "outlinewidth": 0,
              "ticks": ""
             }
            },
            "type": "scattergeo"
           }
          ],
          "scattergl": [
           {
            "marker": {
             "colorbar": {
              "outlinewidth": 0,
              "ticks": ""
             }
            },
            "type": "scattergl"
           }
          ],
          "scattermap": [
           {
            "marker": {
             "colorbar": {
              "outlinewidth": 0,
              "ticks": ""
             }
            },
            "type": "scattermap"
           }
          ],
          "scattermapbox": [
           {
            "marker": {
             "colorbar": {
              "outlinewidth": 0,
              "ticks": ""
             }
            },
            "type": "scattermapbox"
           }
          ],
          "scatterpolar": [
           {
            "marker": {
             "colorbar": {
              "outlinewidth": 0,
              "ticks": ""
             }
            },
            "type": "scatterpolar"
           }
          ],
          "scatterpolargl": [
           {
            "marker": {
             "colorbar": {
              "outlinewidth": 0,
              "ticks": ""
             }
            },
            "type": "scatterpolargl"
           }
          ],
          "scatterternary": [
           {
            "marker": {
             "colorbar": {
              "outlinewidth": 0,
              "ticks": ""
             }
            },
            "type": "scatterternary"
           }
          ],
          "surface": [
           {
            "colorbar": {
             "outlinewidth": 0,
             "ticks": ""
            },
            "colorscale": [
             [
              0,
              "#0d0887"
             ],
             [
              0.1111111111111111,
              "#46039f"
             ],
             [
              0.2222222222222222,
              "#7201a8"
             ],
             [
              0.3333333333333333,
              "#9c179e"
             ],
             [
              0.4444444444444444,
              "#bd3786"
             ],
             [
              0.5555555555555556,
              "#d8576b"
             ],
             [
              0.6666666666666666,
              "#ed7953"
             ],
             [
              0.7777777777777778,
              "#fb9f3a"
             ],
             [
              0.8888888888888888,
              "#fdca26"
             ],
             [
              1,
              "#f0f921"
             ]
            ],
            "type": "surface"
           }
          ],
          "table": [
           {
            "cells": {
             "fill": {
              "color": "#EBF0F8"
             },
             "line": {
              "color": "white"
             }
            },
            "header": {
             "fill": {
              "color": "#C8D4E3"
             },
             "line": {
              "color": "white"
             }
            },
            "type": "table"
           }
          ]
         },
         "layout": {
          "annotationdefaults": {
           "arrowcolor": "#2a3f5f",
           "arrowhead": 0,
           "arrowwidth": 1
          },
          "autotypenumbers": "strict",
          "coloraxis": {
           "colorbar": {
            "outlinewidth": 0,
            "ticks": ""
           }
          },
          "colorscale": {
           "diverging": [
            [
             0,
             "#8e0152"
            ],
            [
             0.1,
             "#c51b7d"
            ],
            [
             0.2,
             "#de77ae"
            ],
            [
             0.3,
             "#f1b6da"
            ],
            [
             0.4,
             "#fde0ef"
            ],
            [
             0.5,
             "#f7f7f7"
            ],
            [
             0.6,
             "#e6f5d0"
            ],
            [
             0.7,
             "#b8e186"
            ],
            [
             0.8,
             "#7fbc41"
            ],
            [
             0.9,
             "#4d9221"
            ],
            [
             1,
             "#276419"
            ]
           ],
           "sequential": [
            [
             0,
             "#0d0887"
            ],
            [
             0.1111111111111111,
             "#46039f"
            ],
            [
             0.2222222222222222,
             "#7201a8"
            ],
            [
             0.3333333333333333,
             "#9c179e"
            ],
            [
             0.4444444444444444,
             "#bd3786"
            ],
            [
             0.5555555555555556,
             "#d8576b"
            ],
            [
             0.6666666666666666,
             "#ed7953"
            ],
            [
             0.7777777777777778,
             "#fb9f3a"
            ],
            [
             0.8888888888888888,
             "#fdca26"
            ],
            [
             1,
             "#f0f921"
            ]
           ],
           "sequentialminus": [
            [
             0,
             "#0d0887"
            ],
            [
             0.1111111111111111,
             "#46039f"
            ],
            [
             0.2222222222222222,
             "#7201a8"
            ],
            [
             0.3333333333333333,
             "#9c179e"
            ],
            [
             0.4444444444444444,
             "#bd3786"
            ],
            [
             0.5555555555555556,
             "#d8576b"
            ],
            [
             0.6666666666666666,
             "#ed7953"
            ],
            [
             0.7777777777777778,
             "#fb9f3a"
            ],
            [
             0.8888888888888888,
             "#fdca26"
            ],
            [
             1,
             "#f0f921"
            ]
           ]
          },
          "colorway": [
           "#636efa",
           "#EF553B",
           "#00cc96",
           "#ab63fa",
           "#FFA15A",
           "#19d3f3",
           "#FF6692",
           "#B6E880",
           "#FF97FF",
           "#FECB52"
          ],
          "font": {
           "color": "#2a3f5f"
          },
          "geo": {
           "bgcolor": "white",
           "lakecolor": "white",
           "landcolor": "#E5ECF6",
           "showlakes": true,
           "showland": true,
           "subunitcolor": "white"
          },
          "hoverlabel": {
           "align": "left"
          },
          "hovermode": "closest",
          "mapbox": {
           "style": "light"
          },
          "paper_bgcolor": "white",
          "plot_bgcolor": "#E5ECF6",
          "polar": {
           "angularaxis": {
            "gridcolor": "white",
            "linecolor": "white",
            "ticks": ""
           },
           "bgcolor": "#E5ECF6",
           "radialaxis": {
            "gridcolor": "white",
            "linecolor": "white",
            "ticks": ""
           }
          },
          "scene": {
           "xaxis": {
            "backgroundcolor": "#E5ECF6",
            "gridcolor": "white",
            "gridwidth": 2,
            "linecolor": "white",
            "showbackground": true,
            "ticks": "",
            "zerolinecolor": "white"
           },
           "yaxis": {
            "backgroundcolor": "#E5ECF6",
            "gridcolor": "white",
            "gridwidth": 2,
            "linecolor": "white",
            "showbackground": true,
            "ticks": "",
            "zerolinecolor": "white"
           },
           "zaxis": {
            "backgroundcolor": "#E5ECF6",
            "gridcolor": "white",
            "gridwidth": 2,
            "linecolor": "white",
            "showbackground": true,
            "ticks": "",
            "zerolinecolor": "white"
           }
          },
          "shapedefaults": {
           "line": {
            "color": "#2a3f5f"
           }
          },
          "ternary": {
           "aaxis": {
            "gridcolor": "white",
            "linecolor": "white",
            "ticks": ""
           },
           "baxis": {
            "gridcolor": "white",
            "linecolor": "white",
            "ticks": ""
           },
           "bgcolor": "#E5ECF6",
           "caxis": {
            "gridcolor": "white",
            "linecolor": "white",
            "ticks": ""
           }
          },
          "title": {
           "x": 0.05
          },
          "xaxis": {
           "automargin": true,
           "gridcolor": "white",
           "linecolor": "white",
           "ticks": "",
           "title": {
            "standoff": 15
           },
           "zerolinecolor": "white",
           "zerolinewidth": 2
          },
          "yaxis": {
           "automargin": true,
           "gridcolor": "white",
           "linecolor": "white",
           "ticks": "",
           "title": {
            "standoff": 15
           },
           "zerolinecolor": "white",
           "zerolinewidth": 2
          }
         }
        },
        "title": {
         "text": "Antal studerande per år och utbildningsinriktning"
        },
        "xaxis": {
         "anchor": "y",
         "domain": [
          0,
          1
         ],
         "tickangle": 45,
         "title": {
          "text": "År"
         }
        },
        "yaxis": {
         "anchor": "x",
         "domain": [
          0,
          1
         ],
         "title": {
          "text": "Antal studerande"
         }
        }
       }
      }
     },
     "metadata": {},
     "output_type": "display_data"
    }
   ],
   "source": [
    "import plotly.express as px\n",
    "\n",
    "fig = px.bar(\n",
    "    df_long,\n",
    "    x=\"År\",\n",
    "    y=\"Antal studerande\",\n",
    "    color=\"Utbildningsinriktning\",\n",
    "    title=\"Antal studerande per år och utbildningsinriktning\",\n",
    "    labels={\"Antal studerande\": \"Antal studerande\", \"År\": \"År\"},\n",
    "    barmode='group'  # Gruppade staplar per år\n",
    ")\n",
    "\n",
    "fig.update_layout(\n",
    "    xaxis=dict(tickangle=45),\n",
    "    legend=dict(title=\"Utbildningsinriktning\", orientation=\"v\", x=1.05, y=1)\n",
    ")\n",
    "\n",
    "fig.show()\n"
   ]
  },
  {
   "cell_type": "code",
   "execution_count": null,
   "id": "d59f3ffd",
   "metadata": {},
   "outputs": [
    {
     "name": "stdout",
     "output_type": "stream",
     "text": [
      "<class 'pandas.core.frame.DataFrame'>\n",
      "RangeIndex: 1300 entries, 0 to 1299\n",
      "Data columns (total 4 columns):\n",
      " #   Column            Non-Null Count  Dtype  \n",
      "---  ------            --------------  -----  \n",
      " 0   Kön               1300 non-null   object \n",
      " 1   Ålder             420 non-null    object \n",
      " 2   År                1300 non-null   int64  \n",
      " 3   Antal studerande  420 non-null    float64\n",
      "dtypes: float64(1), int64(1), object(2)\n",
      "memory usage: 40.8+ KB\n",
      "None\n",
      "      Kön     Ålder    År  Antal studerande\n",
      "0  totalt    totalt  2005           24789.0\n",
      "1  totalt    -24 år  2005            9987.0\n",
      "2  totalt  25-29 år  2005            5593.0\n",
      "3  totalt  30-34 år  2005            3289.0\n",
      "4  totalt  35-39 år  2005            2549.0\n"
     ]
    }
   ],
   "source": [
    "print(df_long.info())\n",
    "print(df_long.head())"
   ]
  },
  {
   "cell_type": "code",
   "execution_count": null,
   "id": "2a62328a",
   "metadata": {},
   "outputs": [
    {
     "data": {
      "text/html": [
       "<div>\n",
       "<style scoped>\n",
       "    .dataframe tbody tr th:only-of-type {\n",
       "        vertical-align: middle;\n",
       "    }\n",
       "\n",
       "    .dataframe tbody tr th {\n",
       "        vertical-align: top;\n",
       "    }\n",
       "\n",
       "    .dataframe thead th {\n",
       "        text-align: right;\n",
       "    }\n",
       "</style>\n",
       "<table border=\"1\" class=\"dataframe\">\n",
       "  <thead>\n",
       "    <tr style=\"text-align: right;\">\n",
       "      <th></th>\n",
       "      <th>År</th>\n",
       "      <th>Antal studerande</th>\n",
       "    </tr>\n",
       "  </thead>\n",
       "  <tbody>\n",
       "    <tr>\n",
       "      <th>0</th>\n",
       "      <td>2005</td>\n",
       "      <td>24787.0</td>\n",
       "    </tr>\n",
       "    <tr>\n",
       "      <th>1</th>\n",
       "      <td>2006</td>\n",
       "      <td>29554.0</td>\n",
       "    </tr>\n",
       "    <tr>\n",
       "      <th>2</th>\n",
       "      <td>2007</td>\n",
       "      <td>33680.0</td>\n",
       "    </tr>\n",
       "    <tr>\n",
       "      <th>3</th>\n",
       "      <td>2008</td>\n",
       "      <td>36625.0</td>\n",
       "    </tr>\n",
       "    <tr>\n",
       "      <th>4</th>\n",
       "      <td>2009</td>\n",
       "      <td>39356.0</td>\n",
       "    </tr>\n",
       "    <tr>\n",
       "      <th>5</th>\n",
       "      <td>2010</td>\n",
       "      <td>41536.0</td>\n",
       "    </tr>\n",
       "    <tr>\n",
       "      <th>6</th>\n",
       "      <td>2011</td>\n",
       "      <td>42383.0</td>\n",
       "    </tr>\n",
       "    <tr>\n",
       "      <th>7</th>\n",
       "      <td>2012</td>\n",
       "      <td>40579.0</td>\n",
       "    </tr>\n",
       "    <tr>\n",
       "      <th>8</th>\n",
       "      <td>2013</td>\n",
       "      <td>42372.0</td>\n",
       "    </tr>\n",
       "    <tr>\n",
       "      <th>9</th>\n",
       "      <td>2014</td>\n",
       "      <td>44678.0</td>\n",
       "    </tr>\n",
       "    <tr>\n",
       "      <th>10</th>\n",
       "      <td>2015</td>\n",
       "      <td>46384.0</td>\n",
       "    </tr>\n",
       "    <tr>\n",
       "      <th>11</th>\n",
       "      <td>2016</td>\n",
       "      <td>47722.0</td>\n",
       "    </tr>\n",
       "    <tr>\n",
       "      <th>12</th>\n",
       "      <td>2017</td>\n",
       "      <td>50091.0</td>\n",
       "    </tr>\n",
       "    <tr>\n",
       "      <th>13</th>\n",
       "      <td>2018</td>\n",
       "      <td>52484.0</td>\n",
       "    </tr>\n",
       "    <tr>\n",
       "      <th>14</th>\n",
       "      <td>2019</td>\n",
       "      <td>61070.0</td>\n",
       "    </tr>\n",
       "    <tr>\n",
       "      <th>15</th>\n",
       "      <td>2020</td>\n",
       "      <td>74945.0</td>\n",
       "    </tr>\n",
       "    <tr>\n",
       "      <th>16</th>\n",
       "      <td>2021</td>\n",
       "      <td>82276.0</td>\n",
       "    </tr>\n",
       "    <tr>\n",
       "      <th>17</th>\n",
       "      <td>2022</td>\n",
       "      <td>84356.0</td>\n",
       "    </tr>\n",
       "    <tr>\n",
       "      <th>18</th>\n",
       "      <td>2023</td>\n",
       "      <td>84127.0</td>\n",
       "    </tr>\n",
       "    <tr>\n",
       "      <th>19</th>\n",
       "      <td>2024</td>\n",
       "      <td>86854.0</td>\n",
       "    </tr>\n",
       "  </tbody>\n",
       "</table>\n",
       "</div>"
      ],
      "text/plain": [
       "      År  Antal studerande\n",
       "0   2005           24787.0\n",
       "1   2006           29554.0\n",
       "2   2007           33680.0\n",
       "3   2008           36625.0\n",
       "4   2009           39356.0\n",
       "5   2010           41536.0\n",
       "6   2011           42383.0\n",
       "7   2012           40579.0\n",
       "8   2013           42372.0\n",
       "9   2014           44678.0\n",
       "10  2015           46384.0\n",
       "11  2016           47722.0\n",
       "12  2017           50091.0\n",
       "13  2018           52484.0\n",
       "14  2019           61070.0\n",
       "15  2020           74945.0\n",
       "16  2021           82276.0\n",
       "17  2022           84356.0\n",
       "18  2023           84127.0\n",
       "19  2024           86854.0"
      ]
     },
     "execution_count": 98,
     "metadata": {},
     "output_type": "execute_result"
    }
   ],
   "source": [
    "df_long.groupby(\"År\")[\"Antal studerande\"].sum().reset_index()"
   ]
  },
  {
   "cell_type": "code",
   "execution_count": null,
   "id": "50466a94",
   "metadata": {},
   "outputs": [
    {
     "data": {
      "text/plain": [
       "Utbildningsinriktning\n",
       "Ekonomi, administration och försäljning         259478.0\n",
       "Teknik och tillverkning                         154563.0\n",
       "Hälso- och sjukvård samt socialt arbete         139166.0\n",
       "Data/It                                         132050.0\n",
       "Samhällsbyggnad och byggteknik                  131077.0\n",
       "Kultur, media och design                         62421.0\n",
       "Hotell, restaurang och turism                    55044.0\n",
       "Lantbruk, djurvård, trädgård, skog och fiske     31017.0\n",
       "Transporttjänster                                29945.0\n",
       "Pedagogik och undervisning                       14935.0\n",
       "Name: Antal studerande, dtype: float64"
      ]
     },
     "execution_count": 99,
     "metadata": {},
     "output_type": "execute_result"
    }
   ],
   "source": [
    "df_long.groupby(\"Utbildningsinriktning\")[\"Antal studerande\"].sum().sort_values(ascending=False).head(10)"
   ]
  },
  {
   "cell_type": "code",
   "execution_count": null,
   "id": "46ec72dc",
   "metadata": {},
   "outputs": [
    {
     "data": {
      "text/html": [
       "<div>\n",
       "<style scoped>\n",
       "    .dataframe tbody tr th:only-of-type {\n",
       "        vertical-align: middle;\n",
       "    }\n",
       "\n",
       "    .dataframe tbody tr th {\n",
       "        vertical-align: top;\n",
       "    }\n",
       "\n",
       "    .dataframe thead th {\n",
       "        text-align: right;\n",
       "    }\n",
       "</style>\n",
       "<table border=\"1\" class=\"dataframe\">\n",
       "  <thead>\n",
       "    <tr style=\"text-align: right;\">\n",
       "      <th></th>\n",
       "      <th>SUN_kod</th>\n",
       "      <th>Utbildningsinriktning</th>\n",
       "      <th>Åldersgrupp</th>\n",
       "      <th>År</th>\n",
       "      <th>Antal studerande</th>\n",
       "    </tr>\n",
       "  </thead>\n",
       "  <tbody>\n",
       "    <tr>\n",
       "      <th>2193</th>\n",
       "      <td>totalt</td>\n",
       "      <td>Data/It</td>\n",
       "      <td>-24 år</td>\n",
       "      <td>2022</td>\n",
       "      <td>3163.0</td>\n",
       "    </tr>\n",
       "    <tr>\n",
       "      <th>2194</th>\n",
       "      <td>totalt</td>\n",
       "      <td>Data/It</td>\n",
       "      <td>25-29 år</td>\n",
       "      <td>2022</td>\n",
       "      <td>3822.0</td>\n",
       "    </tr>\n",
       "    <tr>\n",
       "      <th>2195</th>\n",
       "      <td>totalt</td>\n",
       "      <td>Data/It</td>\n",
       "      <td>30-34 år</td>\n",
       "      <td>2022</td>\n",
       "      <td>3428.0</td>\n",
       "    </tr>\n",
       "    <tr>\n",
       "      <th>2196</th>\n",
       "      <td>totalt</td>\n",
       "      <td>Data/It</td>\n",
       "      <td>35-39 år</td>\n",
       "      <td>2022</td>\n",
       "      <td>2014.0</td>\n",
       "    </tr>\n",
       "    <tr>\n",
       "      <th>2197</th>\n",
       "      <td>totalt</td>\n",
       "      <td>Data/It</td>\n",
       "      <td>40-44 år</td>\n",
       "      <td>2022</td>\n",
       "      <td>991.0</td>\n",
       "    </tr>\n",
       "    <tr>\n",
       "      <th>...</th>\n",
       "      <td>...</td>\n",
       "      <td>...</td>\n",
       "      <td>...</td>\n",
       "      <td>...</td>\n",
       "      <td>...</td>\n",
       "    </tr>\n",
       "    <tr>\n",
       "      <th>2272</th>\n",
       "      <td>totalt</td>\n",
       "      <td>Transporttjänster</td>\n",
       "      <td>25-29 år</td>\n",
       "      <td>2022</td>\n",
       "      <td>362.0</td>\n",
       "    </tr>\n",
       "    <tr>\n",
       "      <th>2273</th>\n",
       "      <td>totalt</td>\n",
       "      <td>Transporttjänster</td>\n",
       "      <td>30-34 år</td>\n",
       "      <td>2022</td>\n",
       "      <td>271.0</td>\n",
       "    </tr>\n",
       "    <tr>\n",
       "      <th>2274</th>\n",
       "      <td>totalt</td>\n",
       "      <td>Transporttjänster</td>\n",
       "      <td>35-39 år</td>\n",
       "      <td>2022</td>\n",
       "      <td>160.0</td>\n",
       "    </tr>\n",
       "    <tr>\n",
       "      <th>2275</th>\n",
       "      <td>totalt</td>\n",
       "      <td>Transporttjänster</td>\n",
       "      <td>40-44 år</td>\n",
       "      <td>2022</td>\n",
       "      <td>121.0</td>\n",
       "    </tr>\n",
       "    <tr>\n",
       "      <th>2276</th>\n",
       "      <td>totalt</td>\n",
       "      <td>Transporttjänster</td>\n",
       "      <td>45+ år</td>\n",
       "      <td>2022</td>\n",
       "      <td>211.0</td>\n",
       "    </tr>\n",
       "  </tbody>\n",
       "</table>\n",
       "<p>84 rows × 5 columns</p>\n",
       "</div>"
      ],
      "text/plain": [
       "     SUN_kod Utbildningsinriktning Åldersgrupp    År  Antal studerande\n",
       "2193  totalt               Data/It      -24 år  2022            3163.0\n",
       "2194  totalt               Data/It    25-29 år  2022            3822.0\n",
       "2195  totalt               Data/It    30-34 år  2022            3428.0\n",
       "2196  totalt               Data/It    35-39 år  2022            2014.0\n",
       "2197  totalt               Data/It    40-44 år  2022             991.0\n",
       "...      ...                   ...         ...   ...               ...\n",
       "2272  totalt     Transporttjänster    25-29 år  2022             362.0\n",
       "2273  totalt     Transporttjänster    30-34 år  2022             271.0\n",
       "2274  totalt     Transporttjänster    35-39 år  2022             160.0\n",
       "2275  totalt     Transporttjänster    40-44 år  2022             121.0\n",
       "2276  totalt     Transporttjänster      45+ år  2022             211.0\n",
       "\n",
       "[84 rows x 5 columns]"
      ]
     },
     "execution_count": 105,
     "metadata": {},
     "output_type": "execute_result"
    }
   ],
   "source": [
    "df_long[df_long[\"År\"] == 2022]"
   ]
  },
  {
   "cell_type": "code",
   "execution_count": null,
   "id": "96526e61",
   "metadata": {},
   "outputs": [
    {
     "ename": "TypeError",
     "evalue": "line() got an unexpected keyword argument 'barmode'",
     "output_type": "error",
     "traceback": [
      "\u001b[0;31m---------------------------------------------------------------------------\u001b[0m",
      "\u001b[0;31mTypeError\u001b[0m                                 Traceback (most recent call last)",
      "Cell \u001b[0;32mIn[257], line 8\u001b[0m\n\u001b[1;32m      5\u001b[0m highlight_area \u001b[38;5;241m=\u001b[39m \u001b[38;5;124m\"\u001b[39m\u001b[38;5;124mEkonomi, administration och försäljning\u001b[39m\u001b[38;5;124m\"\u001b[39m\n\u001b[1;32m      7\u001b[0m \u001b[38;5;66;03m# Skapa basfiguren\u001b[39;00m\n\u001b[0;32m----> 8\u001b[0m fig \u001b[38;5;241m=\u001b[39m \u001b[43mpx\u001b[49m\u001b[38;5;241;43m.\u001b[39;49m\u001b[43mline\u001b[49m\u001b[43m(\u001b[49m\n\u001b[1;32m      9\u001b[0m \u001b[43m    \u001b[49m\u001b[43mdf_long\u001b[49m\u001b[43m,\u001b[49m\n\u001b[1;32m     10\u001b[0m \u001b[43m    \u001b[49m\u001b[43mx\u001b[49m\u001b[38;5;241;43m=\u001b[39;49m\u001b[38;5;124;43m\"\u001b[39;49m\u001b[38;5;124;43mÅr\u001b[39;49m\u001b[38;5;124;43m\"\u001b[39;49m\u001b[43m,\u001b[49m\n\u001b[1;32m     11\u001b[0m \u001b[43m    \u001b[49m\u001b[43my\u001b[49m\u001b[38;5;241;43m=\u001b[39;49m\u001b[38;5;124;43m\"\u001b[39;49m\u001b[38;5;124;43mAntal studerande\u001b[39;49m\u001b[38;5;124;43m\"\u001b[39;49m\u001b[43m,\u001b[49m\n\u001b[1;32m     12\u001b[0m \u001b[43m    \u001b[49m\u001b[43mcolor\u001b[49m\u001b[38;5;241;43m=\u001b[39;49m\u001b[38;5;124;43m\"\u001b[39;49m\u001b[38;5;124;43mUtbildningsinriktning\u001b[39;49m\u001b[38;5;124;43m\"\u001b[39;49m\u001b[43m,\u001b[49m\n\u001b[1;32m     13\u001b[0m \u001b[43m    \u001b[49m\u001b[43mtitle\u001b[49m\u001b[38;5;241;43m=\u001b[39;49m\u001b[38;5;124;43m\"\u001b[39;49m\u001b[38;5;124;43mInvestera i framtiden: Ekonomi och administration växer snabbt bland YH-studenter\u001b[39;49m\u001b[38;5;124;43m\"\u001b[39;49m\u001b[43m,\u001b[49m\n\u001b[1;32m     14\u001b[0m \u001b[43m    \u001b[49m\u001b[43mlabels\u001b[49m\u001b[38;5;241;43m=\u001b[39;49m\u001b[43m{\u001b[49m\u001b[38;5;124;43m\"\u001b[39;49m\u001b[38;5;124;43mAntal studerande\u001b[39;49m\u001b[38;5;124;43m\"\u001b[39;49m\u001b[43m:\u001b[49m\u001b[43m \u001b[49m\u001b[38;5;124;43m\"\u001b[39;49m\u001b[38;5;124;43mAntal studerande\u001b[39;49m\u001b[38;5;124;43m\"\u001b[39;49m\u001b[43m,\u001b[49m\u001b[43m \u001b[49m\u001b[38;5;124;43m\"\u001b[39;49m\u001b[38;5;124;43mÅr\u001b[39;49m\u001b[38;5;124;43m\"\u001b[39;49m\u001b[43m:\u001b[49m\u001b[43m \u001b[49m\u001b[38;5;124;43m\"\u001b[39;49m\u001b[38;5;124;43mÅr\u001b[39;49m\u001b[38;5;124;43m\"\u001b[39;49m\u001b[43m}\u001b[49m\u001b[43m,\u001b[49m\n\u001b[1;32m     15\u001b[0m \u001b[43m    \u001b[49m\u001b[43mbarmode\u001b[49m\u001b[38;5;241;43m=\u001b[39;49m\u001b[38;5;124;43m'\u001b[39;49m\u001b[38;5;124;43mgroup\u001b[39;49m\u001b[38;5;124;43m'\u001b[39;49m\n\u001b[1;32m     16\u001b[0m \u001b[43m)\u001b[49m\n\u001b[1;32m     18\u001b[0m \u001b[38;5;66;03m# Gör färger statiska med manuell färgsättning (grå för alla, blå för highlight)\u001b[39;00m\n\u001b[1;32m     19\u001b[0m utbildningsområden \u001b[38;5;241m=\u001b[39m df_long[\u001b[38;5;124m\"\u001b[39m\u001b[38;5;124mUtbildningsinriktning\u001b[39m\u001b[38;5;124m\"\u001b[39m]\u001b[38;5;241m.\u001b[39munique()\n",
      "\u001b[0;31mTypeError\u001b[0m: line() got an unexpected keyword argument 'barmode'"
     ]
    }
   ],
   "source": [
    "import plotly.express as px\n",
    "import plotly.graph_objects as go\n",
    "\n",
    "# Fokusområde\n",
    "highlight_area = \"Ekonomi, administration och försäljning\"\n",
    "\n",
    "# Skapa basfiguren\n",
    "fig = px.line(\n",
    "    df_long,\n",
    "    x=\"År\",\n",
    "    y=\"Antal studerande\",\n",
    "    color=\"Utbildningsinriktning\",\n",
    "    title=\"Investera i framtiden: Ekonomi och administration växer snabbt bland YH-studenter\",\n",
    "    labels={\"Antal studerande\": \"Antal studerande\", \"År\": \"År\"},\n",
    "    barmode='group'\n",
    ")\n",
    "\n",
    "# Gör färger statiska med manuell färgsättning (grå för alla, blå för highlight)\n",
    "utbildningsområden = df_long[\"Utbildningsinriktning\"].unique()\n",
    "colors = {\n",
    "    area: \"lightgray\" if area != highlight_area else \"royalblue\"\n",
    "    for area in utbildningsområden\n",
    "}\n",
    "fig.for_each_trace(\n",
    "    lambda trace: trace.update(marker_color=colors.get(trace.name, \"lightgray\"))\n",
    ")\n",
    "\n",
    "# Ta fram sista året och dess värde för pilen\n",
    "latest_year = df_long[\"År\"].max()\n",
    "highlight_data = df_long[\n",
    "    (df_long[\"Utbildningsinriktning\"] == highlight_area) & (df_long[\"År\"] == latest_year)\n",
    "]\n",
    "\n",
    "if not highlight_data.empty:\n",
    "    y_value = highlight_data[\"Antal studerande\"].values[0]\n",
    "    fig.add_annotation(\n",
    "        x=latest_year,\n",
    "        y=y_value,\n",
    "        text=\" Tillväxtmöjlighet\",\n",
    "        showarrow=True,\n",
    "        arrowhead=3,\n",
    "        arrowcolor=\"royalblue\",\n",
    "        ax=0,\n",
    "        ay=60,\n",
    "        font=dict(color=\"royalblue\", size=13, family=\"Arial\"),\n",
    "        bgcolor=\"white\",\n",
    "        bordercolor=\"royalblue\",\n",
    "        borderwidth=1\n",
    "    )\n",
    "\n",
    "# Anpassa layout för storytelling\n",
    "fig.update_layout(\n",
    "    xaxis=dict(tickangle=0),\n",
    "    legend_title_text=\"Utbildningsinriktning\",\n",
    "    plot_bgcolor=\"white\",\n",
    "    paper_bgcolor=\"white\",\n",
    "    showlegend=True,\n",
    "    hovermode=False  # Gör grafen mindre interaktiv\n",
    ")\n",
    "\n",
    "# Ta bort hovereffekter (gör den statisk)\n",
    "fig.update_traces(hoverinfo=\"skip\", hovertemplate=None)\n",
    "\n",
    "# Spara figuren som en större PNG-bild\n",
    "fig.write_image(\"assets/figures/education_storytelling.png\", width=1920, height=1080, scale=2)\n",
    "\n",
    "fig.show()\n"
   ]
  },
  {
   "cell_type": "code",
   "execution_count": null,
   "id": "ba6f1a0a",
   "metadata": {},
   "outputs": [
    {
     "ename": "AttributeError",
     "evalue": "'Figure' object has no attribute 'add_annotation'",
     "output_type": "error",
     "traceback": [
      "\u001b[0;31m---------------------------------------------------------------------------\u001b[0m",
      "\u001b[0;31mAttributeError\u001b[0m                            Traceback (most recent call last)",
      "Cell \u001b[0;32mIn[256], line 4\u001b[0m\n\u001b[1;32m      1\u001b[0m \u001b[38;5;66;03m# Ta fram maxvärdet för y-axeln (Antal studerande) i hela df_long för att placera texten ovanför staplarna\u001b[39;00m\n\u001b[1;32m      2\u001b[0m max_y \u001b[38;5;241m=\u001b[39m df_long[\u001b[38;5;124m\"\u001b[39m\u001b[38;5;124mAntal studerande\u001b[39m\u001b[38;5;124m\"\u001b[39m]\u001b[38;5;241m.\u001b[39mmax()\n\u001b[0;32m----> 4\u001b[0m \u001b[43mfig\u001b[49m\u001b[38;5;241;43m.\u001b[39;49m\u001b[43madd_annotation\u001b[49m(\n\u001b[1;32m      5\u001b[0m     x\u001b[38;5;241m=\u001b[39m\u001b[38;5;241m2010\u001b[39m,                \u001b[38;5;66;03m# placera texten vid år 2010 på x-axeln\u001b[39;00m\n\u001b[1;32m      6\u001b[0m     y\u001b[38;5;241m=\u001b[39mmax_y \u001b[38;5;241m+\u001b[39m max_y\u001b[38;5;241m*\u001b[39m\u001b[38;5;241m0.1\u001b[39m,   \u001b[38;5;66;03m# placera texten 10% ovanför maxvärdet på y-axeln\u001b[39;00m\n\u001b[1;32m      7\u001b[0m     text\u001b[38;5;241m=\u001b[39m\u001b[38;5;124m\"\u001b[39m\u001b[38;5;124m🚀 Tillväxtmöjlighet\u001b[39m\u001b[38;5;124m\"\u001b[39m,\n\u001b[1;32m      8\u001b[0m     showarrow\u001b[38;5;241m=\u001b[39m\u001b[38;5;28;01mTrue\u001b[39;00m,\n\u001b[1;32m      9\u001b[0m     arrowhead\u001b[38;5;241m=\u001b[39m\u001b[38;5;241m3\u001b[39m,\n\u001b[1;32m     10\u001b[0m     arrowcolor\u001b[38;5;241m=\u001b[39m\u001b[38;5;124m\"\u001b[39m\u001b[38;5;124mroyalblue\u001b[39m\u001b[38;5;124m\"\u001b[39m,\n\u001b[1;32m     11\u001b[0m     ax\u001b[38;5;241m=\u001b[39m\u001b[38;5;241m40\u001b[39m,                 \u001b[38;5;66;03m# pilens startpunkt i pixlar från texten horisontellt (positivt = pil pekar höger)\u001b[39;00m\n\u001b[1;32m     12\u001b[0m     ay\u001b[38;5;241m=\u001b[39m\u001b[38;5;241m0\u001b[39m,                  \u001b[38;5;66;03m# pilens startpunkt vertikalt (0 = pilen är horisontell)\u001b[39;00m\n\u001b[1;32m     13\u001b[0m     font\u001b[38;5;241m=\u001b[39m\u001b[38;5;28mdict\u001b[39m(color\u001b[38;5;241m=\u001b[39m\u001b[38;5;124m\"\u001b[39m\u001b[38;5;124mroyalblue\u001b[39m\u001b[38;5;124m\"\u001b[39m, size\u001b[38;5;241m=\u001b[39m\u001b[38;5;241m13\u001b[39m, family\u001b[38;5;241m=\u001b[39m\u001b[38;5;124m\"\u001b[39m\u001b[38;5;124mArial\u001b[39m\u001b[38;5;124m\"\u001b[39m),\n\u001b[1;32m     14\u001b[0m     bgcolor\u001b[38;5;241m=\u001b[39m\u001b[38;5;124m\"\u001b[39m\u001b[38;5;124mwhite\u001b[39m\u001b[38;5;124m\"\u001b[39m,\n\u001b[1;32m     15\u001b[0m     bordercolor\u001b[38;5;241m=\u001b[39m\u001b[38;5;124m\"\u001b[39m\u001b[38;5;124mroyalblue\u001b[39m\u001b[38;5;124m\"\u001b[39m,\n\u001b[1;32m     16\u001b[0m     borderwidth\u001b[38;5;241m=\u001b[39m\u001b[38;5;241m1\u001b[39m\n\u001b[1;32m     17\u001b[0m )\n",
      "\u001b[0;31mAttributeError\u001b[0m: 'Figure' object has no attribute 'add_annotation'"
     ]
    }
   ],
   "source": [
    "# Ta fram maxvärdet för y-axeln (Antal studerande) i hela df_long för att placera texten ovanför staplarna\n",
    "max_y = df_long[\"Antal studerande\"].max()\n",
    "\n",
    "fig.add_annotation(\n",
    "    x=2010,                # placera texten vid år 2010 på x-axeln\n",
    "    y=max_y + max_y*0.1,   # placera texten 10% ovanför maxvärdet på y-axeln\n",
    "    text=\"🚀 Tillväxtmöjlighet\",\n",
    "    showarrow=True,\n",
    "    arrowhead=3,\n",
    "    arrowcolor=\"royalblue\",\n",
    "    ax=40,                 # pilens startpunkt i pixlar från texten horisontellt (positivt = pil pekar höger)\n",
    "    ay=0,                  # pilens startpunkt vertikalt (0 = pilen är horisontell)\n",
    "    font=dict(color=\"royalblue\", size=13, family=\"Arial\"),\n",
    "    bgcolor=\"white\",\n",
    "    bordercolor=\"royalblue\",\n",
    "    borderwidth=1\n",
    ")\n"
   ]
  },
  {
   "cell_type": "code",
   "execution_count": null,
   "id": "f5c778ec",
   "metadata": {},
   "outputs": [],
   "source": [
    "import matplotlib.pyplot as plt\n",
    "\n",
    "def create_storytelling_chart_matplotlib(df_summary):\n",
    "    highlight_area = \"Ekonomi, administration och försäljning\"\n",
    "\n",
    "    fig, ax = plt.subplots(figsize=(8, 5))\n",
    "\n",
    "    # Färger: royalblue för highlight, lightgray för andra\n",
    "    colors = ['royalblue' if area == highlight_area else 'lightgray' for area in df_summary[\"Utbildningsinriktning\"]]\n",
    "\n",
    "    # Horisontell stapelplot\n",
    "    ax.barh(df_summary[\"Utbildningsinriktning\"], df_summary[\"Antal studerande\"], color=colors)\n",
    "\n",
    "    ax.set_xlabel(\"Antal studerande\")\n",
    "    ax.set_ylabel(\"Utbildningsområde\")\n",
    "    ax.set_title(\"Vilket utbildningsområde bör # The Skool fokusera på ?\")\n",
    "\n",
    "    # Ta bort rutnät och axellinjer om du vill (som i Plotly)\n",
    "    ax.grid(False)\n",
    "    ax.spines['top'].set_visible(False)\n",
    "    ax.spines['right'].set_visible(False)\n",
    "    ax.spines['left'].set_visible(False)\n",
    "    ax.spines['bottom'].set_visible(False)\n",
    "\n",
    "    # Lägg till annotation/pil om highlight_area finns\n",
    "    if highlight_area in df_summary[\"Utbildningsinriktning\"].values:\n",
    "        highlight_idx = df_summary.index[df_summary[\"Utbildningsinriktning\"] == highlight_area][0]\n",
    "        highlight_value = df_summary.loc[highlight_idx, \"Antal studerande\"]\n",
    "\n",
    "        ax.annotate(\n",
    "            \"Viktig tillväxtmöjlighet\",\n",
    "            xy=(highlight_value, highlight_idx),\n",
    "            xytext=(highlight_value + 20, highlight_idx),\n",
    "            va='center',\n",
    "            ha='left',\n",
    "            fontsize=12,\n",
    "            color='royalblue',\n",
    "            arrowprops=dict(facecolor='royalblue', shrink=0.05, width=1, headwidth=8)\n",
    "        )\n",
    "\n",
    "    plt.tight_layout()\n",
    "    return fig\n"
   ]
  },
  {
   "cell_type": "code",
   "execution_count": null,
   "id": "954f0ece",
   "metadata": {},
   "outputs": [
    {
     "data": {
      "application/vnd.plotly.v1+json": {
       "config": {
        "plotlyServerURL": "https://plot.ly"
       },
       "data": [
        {
         "hovertemplate": "Utbildningsinriktning=Data/It<br>År=%{x}<br>Antal studerande=%{y}<extra></extra>",
         "legendgroup": "Data/It",
         "line": {
          "color": "lightgray",
          "dash": "solid"
         },
         "marker": {
          "symbol": "circle"
         },
         "mode": "lines",
         "name": "Data/It",
         "showlegend": true,
         "type": "scattergl",
         "x": {
          "bdata": "1QfVB9UH1QfVB9UH1gfWB9YH1gfWB9YH1wfXB9cH1wfXB9cH2AfYB9gH2AfYB9gH2QfZB9kH2QfZB9kH2gfaB9oH2gfaB9oH2wfbB9sH2wfbB9sH3AfcB9wH3AfcB9wH3QfdB90H3QfdB90H3gfeB94H3gfeB94H3wffB98H3wffB98H4AfgB+AH4AfgB+AH4QfhB+EH4QfhB+EH4gfiB+IH4gfiB+IH4wfjB+MH4wfjB+MH5AfkB+QH5AfkB+QH5QflB+UH5QflB+UH5gfmB+YH5gfmB+YH5wfnB+cH5wfnB+cH6AfoB+gH6AfoB+gH",
          "dtype": "i2"
         },
         "xaxis": "x",
         "y": {
          "bdata": "AAAAAAAElEAAAAAAAECCQAAAAAAAQHNAAAAAAADAaEAAAAAAACBhQAAAAAAAwFNAAAAAAADAlEAAAAAAAGiAQAAAAAAAIHNAAAAAAACgZUAAAAAAAABdQAAAAAAAgFhAAAAAAABUlkAAAAAAADCDQAAAAAAAAHNAAAAAAADgaEAAAAAAAABhQAAAAAAAwFxAAAAAAABklUAAAAAAAIiEQAAAAAAA0HNAAAAAAABAakAAAAAAAABiQAAAAAAAAF5AAAAAAADgk0AAAAAAACCHQAAAAAAAAHZAAAAAAACAa0AAAAAAAEBiQAAAAAAAwF9AAAAAAAAIk0AAAAAAAMCHQAAAAAAAEHhAAAAAAAAAbkAAAAAAAGBjQAAAAAAAIGJAAAAAAAC8lEAAAAAAAMiJQAAAAAAAwHtAAAAAAAAQcEAAAAAAAABjQAAAAAAAYGNAAAAAAAB4lUAAAAAAABCMQAAAAAAAIH9AAAAAAAAwckAAAAAAAABlQAAAAAAAIGVAAAAAAABAl0AAAAAAAOSQQAAAAAAAyINAAAAAAACQdkAAAAAAAGBvQAAAAAAAAG5AAAAAAABMmUAAAAAAAGSVQAAAAAAAuIhAAAAAAACwfUAAAAAAAOBzQAAAAAAA0HZAAAAAAAAom0AAAAAAAPCYQAAAAAAAoI9AAAAAAADAg0AAAAAAAEB3QAAAAAAA4HxAAAAAAADsl0AAAAAAAAiaQAAAAAAADJNAAAAAAADIh0AAAAAAANB8QAAAAAAACIFAAAAAAAC4lkAAAAAAAEyaQAAAAAAAJJRAAAAAAADwiEAAAAAAAFB8QAAAAAAAqIBAAAAAAAAQlkAAAAAAAOCZQAAAAAAA+JJAAAAAAADQhUAAAAAAALB1QAAAAAAAkHdAAAAAAACsm0AAAAAAADygQAAAAAAAxJdAAAAAAABAjEAAAAAAAEB8QAAAAAAAgHZAAAAAAAAkokAAAAAAADSnQAAAAAAAvKJAAAAAAABAlUAAAAAAALiFQAAAAAAA0IBAAAAAAAC8pUAAAAAAAGKrQAAAAAAA5KdAAAAAAADMm0AAAAAAAKCOQAAAAAAAYIdAAAAAAAC2qEAAAAAAANytQAAAAAAAyKpAAAAAAAB4n0AAAAAAAPiOQAAAAAAAKIpAAAAAAAA0qkAAAAAAAJ6vQAAAAAAAZKxAAAAAAAAKoUAAAAAAAByRQAAAAAAAmIpAAAAAAAA6rEAAAAAAAMGwQAAAAAAAuK5AAAAAAACao0AAAAAAALCSQAAAAAAAYIxA",
          "dtype": "f8"
         },
         "yaxis": "y"
        },
        {
         "hovertemplate": "Utbildningsinriktning=Ekonomi, administration och försäljning<br>År=%{x}<br>Antal studerande=%{y}<extra></extra>",
         "legendgroup": "Ekonomi, administration och försäljning",
         "line": {
          "color": "royalblue",
          "dash": "solid"
         },
         "marker": {
          "symbol": "circle"
         },
         "mode": "lines",
         "name": "Ekonomi, administration och försäljning",
         "showlegend": true,
         "type": "scattergl",
         "x": {
          "bdata": "1QfVB9UH1QfVB9UH1gfWB9YH1gfWB9YH1wfXB9cH1wfXB9cH2AfYB9gH2AfYB9gH2QfZB9kH2QfZB9kH2gfaB9oH2gfaB9oH2wfbB9sH2wfbB9sH3AfcB9wH3AfcB9wH3QfdB90H3QfdB90H3gfeB94H3gfeB94H3wffB98H3wffB98H4AfgB+AH4AfgB+AH4QfhB+EH4QfhB+EH4gfiB+IH4gfiB+IH4wfjB+MH4wfjB+MH5AfkB+QH5AfkB+QH5QflB+UH5QflB+UH5gfmB+YH5gfmB+YH5wfnB+cH5wfnB+cH6AfoB+gH6AfoB+gH",
          "dtype": "i2"
         },
         "xaxis": "x",
         "y": {
          "bdata": "AAAAAAAaoUAAAAAAAACYQAAAAAAAuIxAAAAAAADYhkAAAAAAAFCAQAAAAAAAUHVAAAAAAABmpUAAAAAAAFicQAAAAAAAfJBAAAAAAAB4jEAAAAAAADiDQAAAAAAAAHxAAAAAAADQqUAAAAAAACKgQAAAAAAAjJFAAAAAAABAj0AAAAAAAKCHQAAAAAAAcIFAAAAAAAAQrkAAAAAAAD6jQAAAAAAAGJRAAAAAAABkkUAAAAAAAACLQAAAAAAAiIVAAAAAAACAsEAAAAAAAAqmQAAAAAAAnJZAAAAAAACokkAAAAAAAHiKQAAAAAAAgIdAAAAAAAAFsUAAAAAAAPSnQAAAAAAAwJhAAAAAAABkk0AAAAAAAKiLQAAAAAAAIIhAAAAAAAB4sEAAAAAAAJSpQAAAAAAAlJpAAAAAAAAclEAAAAAAANiMQAAAAAAAUIhAAAAAAAAGr0AAAAAAAPypQAAAAAAAWJtAAAAAAAAUk0AAAAAAAGiLQAAAAAAACIlAAAAAAABWrkAAAAAAAHSrQAAAAAAAoJxAAAAAAACEk0AAAAAAAFiMQAAAAAAAIItAAAAAAADyq0AAAAAAAC6sQAAAAAAAPJ9AAAAAAADgk0AAAAAAAJiMQAAAAAAAyItAAAAAAAA8pkAAAAAAAIKsQAAAAAAAFJ9AAAAAAABIlUAAAAAAAMCMQAAAAAAAMIxAAAAAAADookAAAAAAABasQAAAAAAATqBAAAAAAACUlkAAAAAAAFiOQAAAAAAAiI9AAAAAAACsokAAAAAAAO6sQAAAAAAAFKJAAAAAAACkmEAAAAAAAPCQQAAAAAAAlJFAAAAAAAAgpkAAAAAAAA2wQAAAAAAAgKRAAAAAAACEm0AAAAAAAGiSQAAAAAAANJRAAAAAAACQq0AAAAAAAK+xQAAAAAAA8qdAAAAAAADUn0AAAAAAAKyUQAAAAAAAqJdAAAAAAAAysEAAAAAAABu0QAAAAAAAnqxAAAAAAAAYo0AAAAAAANCVQAAAAAAAfJpAAAAAAABFsEAAAAAAAHCzQAAAAAAAGK1AAAAAAADao0AAAAAAACCXQAAAAAAA2JlAAAAAAAA7sEAAAAAAAHqyQAAAAAAAAqxAAAAAAABEo0AAAAAAAOCVQAAAAAAAKJdAAAAAAAAKsEAAAAAAABKxQAAAAAAAQKtAAAAAAADiokAAAAAAAMyVQAAAAAAAqJhAAAAAAACDsEAAAAAAAGmwQAAAAAAAPKpAAAAAAACCokAAAAAAAGiWQAAAAAAA/JtA",
          "dtype": "f8"
         },
         "yaxis": "y"
        },
        {
         "hovertemplate": "Utbildningsinriktning=Friskvård och kroppsvård<br>År=%{x}<br>Antal studerande=%{y}<extra></extra>",
         "legendgroup": "Friskvård och kroppsvård",
         "line": {
          "color": "lightgray",
          "dash": "solid"
         },
         "marker": {
          "symbol": "circle"
         },
         "mode": "lines",
         "name": "Friskvård och kroppsvård",
         "showlegend": true,
         "type": "scattergl",
         "x": {
          "bdata": "1QfVB9UH1QfVB9UH1gfWB9YH1gfWB9YH1wfXB9cH1wfXB9cH2AfYB9gH2AfYB9gH2QfZB9kH2QfZB9kH2gfaB9oH2gfaB9oH2wfbB9sH2wfbB9sH3AfcB9wH3AfcB9wH3QfdB90H3QfdB90H3gfeB94H3gfeB94H3wffB98H3wffB98H4AfgB+AH4AfgB+AH4QfhB+EH4QfhB+EH4gfiB+IH4gfiB+IH4wfjB+MH4wfjB+MH5AfkB+QH5AfkB+QH5QflB+UH5QflB+UH5gfmB+YH5gfmB+YH5wfnB+cH5wfnB+cH6AfoB+gH6AfoB+gH",
          "dtype": "i2"
         },
         "xaxis": "x",
         "y": {
          "bdata": "AAAAAAAAZUAAAAAAAIBeQAAAAAAAAExAAAAAAACASEAAAAAAAABLQAAAAAAAAEBAAAAAAADwcEAAAAAAAKBnQAAAAAAAwFVAAAAAAADAVUAAAAAAAABIQAAAAAAAAExAAAAAAABAdkAAAAAAAOBqQAAAAAAAAFdAAAAAAACAWUAAAAAAAABKQAAAAAAAgFBAAAAAAADQeUAAAAAAAABvQAAAAAAAwFdAAAAAAAAAVEAAAAAAAIBPQAAAAAAAgFdAAAAAAACweUAAAAAAAIBwQAAAAAAAwFZAAAAAAAAAVUAAAAAAAIBPQAAAAAAAAFhAAAAAAACQd0AAAAAAAEBrQAAAAAAAAFNAAAAAAACAUEAAAAAAAIBKQAAAAAAAwFBAAAAAAAAgcUAAAAAAAMBjQAAAAAAAgEpAAAAAAAAAQ0AAAAAAAABBQAAAAAAAAEFAAAAAAADgZkAAAAAAAABdQAAAAAAAADtAAAAAAAAAM0AAAAAAAAA0QAAAAAAAABhAAAAAAADAZUAAAAAAAABaQAAAAAAAgEFAAAAAAAAAM0AAAAAAAAAyQAAAAAAAACpAAAAAAACAYkAAAAAAAMBYQAAAAAAAADxAAAAAAAAAMkAAAAAAAAA1QAAAAAAAADBAAAAAAABAYUAAAAAAAABZQAAAAAAAAEdAAAAAAAAAOkAAAAAAAAAyQAAAAAAAADhAAAAAAADAWkAAAAAAAMBVQAAAAAAAgENAAAAAAAAAPkAAAAAAAAAyQAAAAAAAADZAAAAAAACAUUAAAAAAAEBXQAAAAAAAADhAAAAAAAAAMEAAAAAAAAAwQAAAAAAAADNAAAAAAADAUUAAAAAAAEBXQAAAAAAAADdAAAAAAAAAJkAAAAAAAAAmQAAAAAAAADZAAAAAAABAVkAAAAAAAMBcQAAAAAAAAEBAAAAAAAAAN0AAAAAAAAAwQAAAAAAAADtAAAAAAADAWEAAAAAAAABcQAAAAAAAAEpAAAAAAAAAPkAAAAAAAAAxQAAAAAAAADlAAAAAAADAXEAAAAAAAMBfQAAAAAAAgExAAAAAAAAAOEAAAAAAAAA2QAAAAAAAADtAAAAAAABAXUAAAAAAAGBhQAAAAAAAAFFAAAAAAAAAP0AAAAAAAAA1QAAAAAAAAEBAAAAAAAAAYEAAAAAAAMBgQAAAAAAAQFNAAAAAAAAARkAAAAAAAAA9QAAAAAAAAEhAAAAAAADAWUAAAAAAAABVQAAAAAAAwFBAAAAAAACAQ0AAAAAAAAA5QAAAAAAAAEhA",
          "dtype": "f8"
         },
         "yaxis": "y"
        },
        {
         "hovertemplate": "Utbildningsinriktning=Hotell, restaurang och turism<br>År=%{x}<br>Antal studerande=%{y}<extra></extra>",
         "legendgroup": "Hotell, restaurang och turism",
         "line": {
          "color": "lightgray",
          "dash": "solid"
         },
         "marker": {
          "symbol": "circle"
         },
         "mode": "lines",
         "name": "Hotell, restaurang och turism",
         "showlegend": true,
         "type": "scattergl",
         "x": {
          "bdata": "1QfVB9UH1QfVB9UH1gfWB9YH1gfWB9YH1wfXB9cH1wfXB9cH2AfYB9gH2AfYB9gH2QfZB9kH2QfZB9kH2gfaB9oH2gfaB9oH2wfbB9sH2wfbB9sH3AfcB9wH3AfcB9wH3QfdB90H3QfdB90H3gfeB94H3gfeB94H3wffB98H3wffB98H4AfgB+AH4AfgB+AH4QfhB+EH4QfhB+EH4gfiB+IH4gfiB+IH4wfjB+MH4wfjB+MH5AfkB+QH5AfkB+QH5QflB+UH5QflB+UH5gfmB+YH5gfmB+YH5wfnB+cH5wfnB+cH6AfoB+gH6AfoB+gH",
          "dtype": "i2"
         },
         "xaxis": "x",
         "y": {
          "bdata": "AAAAAAAMkUAAAAAAANiCQAAAAAAAIG9AAAAAAACgYEAAAAAAAEBVQAAAAAAAAE9AAAAAAADclUAAAAAAABiEQAAAAAAAoGtAAAAAAAAgYUAAAAAAAMBXQAAAAAAAgExAAAAAAADUmUAAAAAAANCFQAAAAAAAIG1AAAAAAAAAYUAAAAAAAABbQAAAAAAAQFNAAAAAAADMmkAAAAAAACCIQAAAAAAAoGtAAAAAAAAAY0AAAAAAAMBaQAAAAAAAgFpAAAAAAAD8mEAAAAAAANCIQAAAAAAAwGxAAAAAAACgYEAAAAAAAABaQAAAAAAAQFpAAAAAAAAAl0AAAAAAANCJQAAAAAAAwG5AAAAAAAAgY0AAAAAAAEBZQAAAAAAAwFpAAAAAAADwlUAAAAAAACiKQAAAAAAAQHBAAAAAAABgY0AAAAAAAIBcQAAAAAAAgF1AAAAAAABUkkAAAAAAAHCJQAAAAAAAQGxAAAAAAACAY0AAAAAAAABcQAAAAAAAwFtAAAAAAAC8kEAAAAAAALCJQAAAAAAAoG9AAAAAAACgYkAAAAAAAEBbQAAAAAAAQF5AAAAAAADYiUAAAAAAAHCLQAAAAAAAMHNAAAAAAAAgaEAAAAAAACBjQAAAAAAAAGlAAAAAAADIhEAAAAAAAACNQAAAAAAAkHZAAAAAAACgaUAAAAAAAKBoQAAAAAAAQG9AAAAAAAAwhUAAAAAAAOCLQAAAAAAA4HZAAAAAAADAaUAAAAAAAIBlQAAAAAAAYGtAAAAAAABYg0AAAAAAAJCNQAAAAAAAAHhAAAAAAABgbUAAAAAAAABlQAAAAAAAwGZAAAAAAADAg0AAAAAAAHiLQAAAAAAAsHhAAAAAAADAa0AAAAAAACBlQAAAAAAAQGlAAAAAAACIhkAAAAAAACCKQAAAAAAAYHtAAAAAAADgcEAAAAAAAKBmQAAAAAAAAHFAAAAAAACgiEAAAAAAAIiMQAAAAAAAoH5AAAAAAACgdEAAAAAAAMBpQAAAAAAA8HZAAAAAAADIiEAAAAAAANiMQAAAAAAAKIFAAAAAAACgdEAAAAAAAJBwQAAAAAAAYHxAAAAAAADIhUAAAAAAABiJQAAAAAAAwH9AAAAAAACAc0AAAAAAAKBxQAAAAAAAUHlAAAAAAAAohEAAAAAAAPiFQAAAAAAAMHxAAAAAAADQcUAAAAAAAKBxQAAAAAAAMHhAAAAAAAC4hEAAAAAAAJiEQAAAAAAAwHpAAAAAAABgc0AAAAAAAIBvQAAAAAAAgH5A",
          "dtype": "f8"
         },
         "yaxis": "y"
        },
        {
         "hovertemplate": "Utbildningsinriktning=Hälso- och sjukvård samt socialt arbete<br>År=%{x}<br>Antal studerande=%{y}<extra></extra>",
         "legendgroup": "Hälso- och sjukvård samt socialt arbete",
         "line": {
          "color": "lightgray",
          "dash": "solid"
         },
         "marker": {
          "symbol": "circle"
         },
         "mode": "lines",
         "name": "Hälso- och sjukvård samt socialt arbete",
         "showlegend": true,
         "type": "scattergl",
         "x": {
          "bdata": "1QfVB9UH1QfVB9UH1gfWB9YH1gfWB9YH1wfXB9cH1wfXB9cH2AfYB9gH2AfYB9gH2QfZB9kH2QfZB9kH2gfaB9oH2gfaB9oH2wfbB9sH2wfbB9sH3AfcB9wH3AfcB9wH3QfdB90H3QfdB90H3gfeB94H3gfeB94H3wffB98H3wffB98H4AfgB+AH4AfgB+AH4QfhB+EH4QfhB+EH4gfiB+IH4gfiB+IH4wfjB+MH4wfjB+MH5AfkB+QH5AfkB+QH5QflB+UH5QflB+UH5gfmB+YH5gfmB+YH5wfnB+cH5wfnB+cH6AfoB+gH6AfoB+gH",
          "dtype": "i2"
         },
         "xaxis": "x",
         "y": {
          "bdata": "AAAAAAAQhEAAAAAAAJCCQAAAAAAAkHxAAAAAAADwekAAAAAAALB5QAAAAAAAkHxAAAAAAABwikAAAAAAACCFQAAAAAAAiIJAAAAAAABQgEAAAAAAAICAQAAAAAAAEIRAAAAAAABojEAAAAAAAGCIQAAAAAAA8INAAAAAAAA4gkAAAAAAAACDQAAAAAAAUIVAAAAAAABYikAAAAAAAFiIQAAAAAAA8IJAAAAAAACQgEAAAAAAAJiCQAAAAAAAIIVAAAAAAACgiEAAAAAAAACJQAAAAAAAqIJAAAAAAADAgUAAAAAAAOiBQAAAAAAA6IdAAAAAAACYh0AAAAAAANCKQAAAAAAAwIRAAAAAAABAg0AAAAAAAACEQAAAAAAAGI5AAAAAAAC4hkAAAAAAACiMQAAAAAAAcIRAAAAAAAAIhUAAAAAAAPiDQAAAAAAAmJBAAAAAAACQgkAAAAAAAGiLQAAAAAAA2INAAAAAAABIg0AAAAAAAIiEQAAAAAAA5JFAAAAAAACQg0AAAAAAAOCMQAAAAAAAaIdAAAAAAABIhUAAAAAAAGiGQAAAAAAA0JNAAAAAAADYhUAAAAAAABSRQAAAAAAAAIpAAAAAAAAQiUAAAAAAAOCJQAAAAAAAMJdAAAAAAABAhEAAAAAAAAiSQAAAAAAA0I1AAAAAAACgi0AAAAAAAGCKQAAAAAAADJhAAAAAAACYg0AAAAAAALyRQAAAAAAAmJBAAAAAAAAAjUAAAAAAAPiJQAAAAAAArJhAAAAAAADQg0AAAAAAAKyTQAAAAAAA1JJAAAAAAACYj0AAAAAAANiLQAAAAAAA/JpAAAAAAABYhUAAAAAAAIiVQAAAAAAAMJVAAAAAAADIkUAAAAAAAGiOQAAAAAAADJ5AAAAAAABAiUAAAAAAAKSYQAAAAAAAoJlAAAAAAAA8lUAAAAAAAKCTQAAAAAAArqJAAAAAAABEkEAAAAAAAFCcQAAAAAAA3J9AAAAAAADImEAAAAAAAMyWQAAAAAAALqdAAAAAAADAkUAAAAAAAJieQAAAAAAAfqFAAAAAAACUnEAAAAAAAASYQAAAAAAAMqpAAAAAAAAgk0AAAAAAAOCeQAAAAAAAHKJAAAAAAAAQoEAAAAAAAAiaQAAAAAAAcKxAAAAAAABgk0AAAAAAAJibQAAAAAAACqFAAAAAAAC4nkAAAAAAAHCaQAAAAAAAuKxAAAAAAACgkkAAAAAAALSYQAAAAAAAKJ9AAAAAAAAYnkAAAAAAANiZQAAAAAAA4qtA",
          "dtype": "f8"
         },
         "yaxis": "y"
        },
        {
         "hovertemplate": "Utbildningsinriktning=Journalistik och information<br>År=%{x}<br>Antal studerande=%{y}<extra></extra>",
         "legendgroup": "Journalistik och information",
         "line": {
          "color": "lightgray",
          "dash": "solid"
         },
         "marker": {
          "symbol": "circle"
         },
         "mode": "lines",
         "name": "Journalistik och information",
         "showlegend": true,
         "type": "scattergl",
         "x": {
          "bdata": "1QfVB9UH1QfVB9YH1gfWB9YH1gfWB9cH1wfXB9cH1wfXB9gH2AfYB9gH2AfYB9kH2QfZB9kH2QfZB9oH2gfaB9oH2gfaB9sH2wfbB9sH2wfbB9wH3AfcB9wH3AfcB90H3QfdB90H3QfdB94H3gfeB94H3gfeB98H3wffB98H3wffB+AH4AfgB+AH4AfgB+EH4QfhB+EH4QfhB+IH4gfiB+IH4gfiB+MH4wfjB+MH4wfjB+QH5AfkB+QH5AfkB+UH5QflB+UH5QflB+YH5gfmB+YH5gfmB+cH5wfnB+cH5wfnB+gH6AfoB+gH6AfoBw==",
          "dtype": "i2"
         },
         "xaxis": "x",
         "y": {
          "bdata": "AAAAAAAAR0AAAAAAAIBFQAAAAAAAAC5AAAAAAAAAGEAAAAAAAAAQQAAAAAAAAEFAAAAAAACARUAAAAAAAAAqQAAAAAAAABBAAAAAAAAAFEAAAAAAAAAIQAAAAAAAgEFAAAAAAAAARkAAAAAAAAAqQAAAAAAAACRAAAAAAAAAFEAAAAAAAAAcQAAAAAAAAEhAAAAAAACARkAAAAAAAAA4QAAAAAAAADBAAAAAAAAAIkAAAAAAAAAxQAAAAAAAAE1AAAAAAABAUUAAAAAAAAA7QAAAAAAAADdAAAAAAAAALEAAAAAAAAA2QAAAAAAAgE1AAAAAAABAUkAAAAAAAIBCQAAAAAAAADlAAAAAAAAAQEAAAAAAAAA+QAAAAAAAAFFAAAAAAACAV0AAAAAAAABFQAAAAAAAADpAAAAAAACAQ0AAAAAAAAA+QAAAAAAAAFJAAAAAAAAAWEAAAAAAAABDQAAAAAAAADlAAAAAAAAAOEAAAAAAAAA2QAAAAAAAQFxAAAAAAACAYEAAAAAAAIBPQAAAAAAAAENAAAAAAACAQEAAAAAAAABBQAAAAAAAAGJAAAAAAABAakAAAAAAAIBYQAAAAAAAgEtAAAAAAACASEAAAAAAAEBQQAAAAAAAgF9AAAAAAACga0AAAAAAAMBbQAAAAAAAAFNAAAAAAAAASkAAAAAAAIBPQAAAAAAAQF9AAAAAAAAgb0AAAAAAAIBdQAAAAAAAAFVAAAAAAACATUAAAAAAAABWQAAAAAAAwGJAAAAAAACAbUAAAAAAAABfQAAAAAAAwFVAAAAAAAAAUkAAAAAAAKBgQAAAAAAAgGNAAAAAAABgcEAAAAAAAEBeQAAAAAAAwFRAAAAAAACAUkAAAAAAACBhQAAAAAAAQGlAAAAAAABwcUAAAAAAAGBjQAAAAAAAwFVAAAAAAABAUEAAAAAAAABdQAAAAAAAoGtAAAAAAADwcEAAAAAAAGBmQAAAAAAAwFpAAAAAAADAUEAAAAAAAIBeQAAAAAAAIGlAAAAAAABQcUAAAAAAAABmQAAAAAAAgFdAAAAAAACAUkAAAAAAAIBcQAAAAAAAQGlAAAAAAACgbkAAAAAAACBmQAAAAAAAQFJAAAAAAAAASEAAAAAAAIBTQAAAAAAAoGVAAAAAAACAbEAAAAAAAIBjQAAAAAAAwFFAAAAAAACAQ0AAAAAAAEBVQAAAAAAAAGBAAAAAAADgZkAAAAAAAEBeQAAAAAAAAFNAAAAAAACAQ0AAAAAAAMBYQA==",
          "dtype": "f8"
         },
         "yaxis": "y"
        },
        {
         "hovertemplate": "Utbildningsinriktning=Kultur, media och design<br>År=%{x}<br>Antal studerande=%{y}<extra></extra>",
         "legendgroup": "Kultur, media och design",
         "line": {
          "color": "lightgray",
          "dash": "solid"
         },
         "marker": {
          "symbol": "circle"
         },
         "mode": "lines",
         "name": "Kultur, media och design",
         "showlegend": true,
         "type": "scattergl",
         "x": {
          "bdata": "1QfVB9UH1QfVB9UH1gfWB9YH1gfWB9YH1wfXB9cH1wfXB9cH2AfYB9gH2AfYB9gH2QfZB9kH2QfZB9kH2gfaB9oH2gfaB9oH2wfbB9sH2wfbB9sH3AfcB9wH3AfcB9wH3QfdB90H3QfdB90H3gfeB94H3gfeB94H3wffB98H3wffB98H4AfgB+AH4AfgB+AH4QfhB+EH4QfhB+EH4gfiB+IH4gfiB+IH4wfjB+MH4wfjB+MH5AfkB+QH5AfkB+QH5QflB+UH5QflB+UH5gfmB+YH5gfmB+YH5wfnB+cH5wfnB+cH6AfoB+gH6AfoB+gH",
          "dtype": "i2"
         },
         "xaxis": "x",
         "y": {
          "bdata": "AAAAAAA0mEAAAAAAADiGQAAAAAAAAHJAAAAAAABAYUAAAAAAAIBPQAAAAAAAgEpAAAAAAACImkAAAAAAADCGQAAAAAAAgHBAAAAAAACAYUAAAAAAAIBNQAAAAAAAwFBAAAAAAAAEmkAAAAAAAECGQAAAAAAAAG9AAAAAAAAgYEAAAAAAAEBSQAAAAAAAgFBAAAAAAABEmkAAAAAAALiHQAAAAAAAwHFAAAAAAADAYEAAAAAAAEBRQAAAAAAAgFBAAAAAAADsmEAAAAAAAFCJQAAAAAAAEHJAAAAAAABAXkAAAAAAAIBSQAAAAAAAgE9AAAAAAAC4lUAAAAAAAGiKQAAAAAAAwHFAAAAAAABAYEAAAAAAAABRQAAAAAAAgFJAAAAAAADAk0AAAAAAAPCIQAAAAAAA4HBAAAAAAACAXUAAAAAAAABLQAAAAAAAAE9AAAAAAAB0kkAAAAAAAGiHQAAAAAAAIGxAAAAAAACAWEAAAAAAAIBNQAAAAAAAAElAAAAAAAB8k0AAAAAAAHCIQAAAAAAA4G9AAAAAAACAW0AAAAAAAABMQAAAAAAAgE1AAAAAAAAYk0AAAAAAAHCKQAAAAAAAoHJAAAAAAABAXkAAAAAAAMBRQAAAAAAAQFFAAAAAAACIkkAAAAAAAGCMQAAAAAAA8HZAAAAAAACAYUAAAAAAAIBVQAAAAAAAgFRAAAAAAABYkUAAAAAAAFCOQAAAAAAAwHVAAAAAAAAAY0AAAAAAAMBXQAAAAAAAwFdAAAAAAAC4kEAAAAAAACCQQAAAAAAAMHdAAAAAAACAZUAAAAAAAABYQAAAAAAAAF9AAAAAAABYkEAAAAAAACCQQAAAAAAAoHlAAAAAAABAaEAAAAAAAIBXQAAAAAAAAGBAAAAAAABAkEAAAAAAAHiRQAAAAAAAwH5AAAAAAAAgZUAAAAAAAIBVQAAAAAAAwFtAAAAAAAAQk0AAAAAAANySQAAAAAAAAIJAAAAAAAAgaUAAAAAAAABcQAAAAAAAAF1AAAAAAAD8lEAAAAAAAJSUQAAAAAAAQIZAAAAAAACAbkAAAAAAAEBhQAAAAAAAQGRAAAAAAAAUl0AAAAAAAJyUQAAAAAAA+IdAAAAAAABQckAAAAAAAGBkQAAAAAAAgGlAAAAAAADEmUAAAAAAAACUQAAAAAAAWIhAAAAAAADwdEAAAAAAAOBmQAAAAAAA4GxAAAAAAAAAmkAAAAAAAMyUQAAAAAAAcIhAAAAAAACweEAAAAAAAIBpQAAAAAAAQHBA",
          "dtype": "f8"
         },
         "yaxis": "y"
        },
        {
         "hovertemplate": "Utbildningsinriktning=Lantbruk, djurvård, trädgård, skog och fiske<br>År=%{x}<br>Antal studerande=%{y}<extra></extra>",
         "legendgroup": "Lantbruk, djurvård, trädgård, skog och fiske",
         "line": {
          "color": "lightgray",
          "dash": "solid"
         },
         "marker": {
          "symbol": "circle"
         },
         "mode": "lines",
         "name": "Lantbruk, djurvård, trädgård, skog och fiske",
         "showlegend": true,
         "type": "scattergl",
         "x": {
          "bdata": "1QfVB9UH1QfVB9UH1gfWB9YH1gfWB9YH1wfXB9cH1wfXB9cH2AfYB9gH2AfYB9gH2QfZB9kH2QfZB9kH2gfaB9oH2gfaB9oH2wfbB9sH2wfbB9sH3AfcB9wH3AfcB9wH3QfdB90H3QfdB90H3gfeB94H3gfeB94H3wffB98H3wffB98H4AfgB+AH4AfgB+AH4QfhB+EH4QfhB+EH4gfiB+IH4gfiB+IH4wfjB+MH4wfjB+MH5AfkB+QH5AfkB+QH5QflB+UH5QflB+UH5gfmB+YH5gfmB+YH5wfnB+cH5wfnB+cH6AfoB+gH6AfoB+gH",
          "dtype": "i2"
         },
         "xaxis": "x",
         "y": {
          "bdata": "AAAAAABwdkAAAAAAAOBlQAAAAAAAQF5AAAAAAACAXEAAAAAAAMBUQAAAAAAAAFFAAAAAAABggUAAAAAAAOBuQAAAAAAAIGNAAAAAAABgY0AAAAAAAEBhQAAAAAAAAFdAAAAAAADQgkAAAAAAADBzQAAAAAAAYGZAAAAAAAAAZEAAAAAAAEBkQAAAAAAAAGBAAAAAAABwgkAAAAAAAFByQAAAAAAAIGVAAAAAAADgYkAAAAAAAGBjQAAAAAAAAGJAAAAAAAAQhUAAAAAAAIBxQAAAAAAA4GNAAAAAAABAZEAAAAAAACBgQAAAAAAAIGJAAAAAAABIiEAAAAAAAPByQAAAAAAAYGRAAAAAAACgY0AAAAAAAMBhQAAAAAAAQGRAAAAAAABwhkAAAAAAAPBzQAAAAAAAIGRAAAAAAABgYkAAAAAAAIBiQAAAAAAAIGRAAAAAAAAggkAAAAAAAJBzQAAAAAAAoGBAAAAAAADAX0AAAAAAAGBhQAAAAAAAIGVAAAAAAACAf0AAAAAAADB0QAAAAAAAQGFAAAAAAAAAWkAAAAAAAIBfQAAAAAAAAGRAAAAAAACQfEAAAAAAACByQAAAAAAAgGJAAAAAAADAV0AAAAAAAEBcQAAAAAAAgGJAAAAAAADAekAAAAAAANB1QAAAAAAAgGNAAAAAAAAAWUAAAAAAAABdQAAAAAAAwGNAAAAAAABQeEAAAAAAAKB1QAAAAAAAQGhAAAAAAADAX0AAAAAAAIBiQAAAAAAAYGlAAAAAAABAdEAAAAAAAEB0QAAAAAAAoGtAAAAAAACAY0AAAAAAAMBiQAAAAAAAsHBAAAAAAADAckAAAAAAANByQAAAAAAAYGdAAAAAAADAZEAAAAAAAMBfQAAAAAAAcHFAAAAAAABAcUAAAAAAANBzQAAAAAAAYG1AAAAAAADgZUAAAAAAAMBgQAAAAAAAcHFAAAAAAABgdEAAAAAAADB1QAAAAAAAwHFAAAAAAACAaUAAAAAAAEBjQAAAAAAAIHNAAAAAAAAQdUAAAAAAAFB2QAAAAAAAAHVAAAAAAABAcEAAAAAAAEBpQAAAAAAA4HNAAAAAAABwdkAAAAAAAFB1QAAAAAAAoHZAAAAAAAAwc0AAAAAAAEBrQAAAAAAAsHZAAAAAAABQeEAAAAAAALB0QAAAAAAAwHdAAAAAAAAwdEAAAAAAAABsQAAAAAAAwHtAAAAAAADwe0AAAAAAAHB3QAAAAAAAEHhAAAAAAACQdkAAAAAAACBxQAAAAAAAgH9A",
          "dtype": "f8"
         },
         "yaxis": "y"
        },
        {
         "hovertemplate": "Utbildningsinriktning=Pedagogik och undervisning<br>År=%{x}<br>Antal studerande=%{y}<extra></extra>",
         "legendgroup": "Pedagogik och undervisning",
         "line": {
          "color": "lightgray",
          "dash": "solid"
         },
         "marker": {
          "symbol": "circle"
         },
         "mode": "lines",
         "name": "Pedagogik och undervisning",
         "showlegend": true,
         "type": "scattergl",
         "x": {
          "bdata": "1QfVB9UH1QfVB9UH1gfWB9YH1gfWB9YH1wfXB9cH1wfXB9cH2AfYB9gH2AfYB9gH2QfZB9kH2QfZB9kH2gfaB9oH2gfaB9oH2wfbB9sH2wfbB9sH3AfcB9wH3AfcB9wH3QfdB90H3QfdB90H3gfeB94H3gfeB94H3wffB98H3wffB98H4AfgB+AH4AfgB+AH4QfhB+EH4QfhB+EH4gfiB+IH4gfiB+IH4wfjB+MH4wfjB+MH5AfkB+QH5AfkB+QH5QflB+UH5QflB+UH5gfmB+YH5gfmB+YH5wfnB+cH5wfnB+cH6AfoB+gH6AfoB+gH",
          "dtype": "i2"
         },
         "xaxis": "x",
         "y": {
          "bdata": "AAAAAAAACEAAAAAAAAAIQAAAAAAAABBAAAAAAAAACEAAAAAAAAAAAAAAAAAAAAhAAAAAAAAALEAAAAAAAAAwQAAAAAAAADNAAAAAAAAANUAAAAAAAAAqQAAAAAAAADRAAAAAAAAAN0AAAAAAAAA7QAAAAAAAgERAAAAAAAAAPEAAAAAAAAA9QAAAAAAAAENAAAAAAAAANkAAAAAAAABDQAAAAAAAgEVAAAAAAACAQkAAAAAAAIBBQAAAAAAAgEZAAAAAAAAAQEAAAAAAAABLQAAAAAAAAEJAAAAAAACASEAAAAAAAIBEQAAAAAAAAENAAAAAAABAVkAAAAAAAEBWQAAAAAAAAFNAAAAAAACAT0AAAAAAAIBRQAAAAAAAwFJAAAAAAAAAX0AAAAAAAIBiQAAAAAAAAFpAAAAAAADAVUAAAAAAAMBVQAAAAAAAgFtAAAAAAABAVEAAAAAAAABdQAAAAAAAQFJAAAAAAAAATkAAAAAAAIBIQAAAAAAAwFJAAAAAAAAAWkAAAAAAAMBaQAAAAAAAgEhAAAAAAABAUEAAAAAAAABEQAAAAAAAgE1AAAAAAAAAX0AAAAAAAMBbQAAAAAAAAExAAAAAAAAAUEAAAAAAAIBJQAAAAAAAwFNAAAAAAACAWUAAAAAAAIBXQAAAAAAAAEpAAAAAAAAAS0AAAAAAAIBJQAAAAAAAQFFAAAAAAADAVkAAAAAAAEBfQAAAAAAAAFVAAAAAAAAAUEAAAAAAAIBSQAAAAAAAAFhAAAAAAAAAW0AAAAAAAMBjQAAAAAAAQFdAAAAAAADAVkAAAAAAAABTQAAAAAAAAGBAAAAAAAAAXEAAAAAAAMBkQAAAAAAAwGBAAAAAAABAXkAAAAAAAMBeQAAAAAAAoGlAAAAAAADAW0AAAAAAAIBsQAAAAAAAoGhAAAAAAADgaUAAAAAAAIBnQAAAAAAAYHZAAAAAAADAYkAAAAAAACBtQAAAAAAAQG9AAAAAAACgbEAAAAAAAIBrQAAAAAAA4HtAAAAAAAAAaEAAAAAAALBxQAAAAAAAoHBAAAAAAABAcUAAAAAAACBuQAAAAAAAIIFAAAAAAADAakAAAAAAAPBwQAAAAAAA0HNAAAAAAADQdEAAAAAAACByQAAAAAAAOIFAAAAAAADAXEAAAAAAAKBrQAAAAAAAoG9AAAAAAADgbkAAAAAAAABsQAAAAAAAIHxAAAAAAAAAV0AAAAAAAMBiQAAAAAAAoGRAAAAAAACgZUAAAAAAAMBjQAAAAAAAUHZA",
          "dtype": "f8"
         },
         "yaxis": "y"
        },
        {
         "hovertemplate": "Utbildningsinriktning=Samhällsbyggnad och byggteknik<br>År=%{x}<br>Antal studerande=%{y}<extra></extra>",
         "legendgroup": "Samhällsbyggnad och byggteknik",
         "line": {
          "color": "lightgray",
          "dash": "solid"
         },
         "marker": {
          "symbol": "circle"
         },
         "mode": "lines",
         "name": "Samhällsbyggnad och byggteknik",
         "showlegend": true,
         "type": "scattergl",
         "x": {
          "bdata": "1QfVB9UH1QfVB9UH1gfWB9YH1gfWB9YH1wfXB9cH1wfXB9cH2AfYB9gH2AfYB9gH2QfZB9kH2QfZB9kH2gfaB9oH2gfaB9oH2wfbB9sH2wfbB9sH3AfcB9wH3AfcB9wH3QfdB90H3QfdB90H3gfeB94H3gfeB94H3wffB98H3wffB98H4AfgB+AH4AfgB+AH4QfhB+EH4QfhB+EH4gfiB+IH4gfiB+IH4wfjB+MH4wfjB+MH5AfkB+QH5AfkB+QH5QflB+UH5QflB+UH5gfmB+YH5gfmB+YH5wfnB+cH5wfnB+cH6AfoB+gH6AfoB+gH",
          "dtype": "i2"
         },
         "xaxis": "x",
         "y": {
          "bdata": "AAAAAACAfkAAAAAAAMBxQAAAAAAAgGdAAAAAAAAAZ0AAAAAAAABgQAAAAAAAoGBAAAAAAABAiEAAAAAAAFB4QAAAAAAAAG1AAAAAAABgakAAAAAAACBmQAAAAAAAIGRAAAAAAAAYjUAAAAAAAIiAQAAAAAAAQHNAAAAAAAAAa0AAAAAAAMBqQAAAAAAAwGdAAAAAAACAjkAAAAAAANiEQAAAAAAA8HJAAAAAAADgcEAAAAAAAEBqQAAAAAAA4GpAAAAAAAC4kUAAAAAAAECJQAAAAAAA4HhAAAAAAADQdEAAAAAAABBwQAAAAAAAoG9AAAAAAABAk0AAAAAAADiMQAAAAAAA4H5AAAAAAABwdkAAAAAAACBxQAAAAAAAYHFAAAAAAAB0lUAAAAAAAGiQQAAAAAAAcIJAAAAAAADQdUAAAAAAAKBxQAAAAAAAIHFAAAAAAAD0lkAAAAAAANyRQAAAAAAAsIRAAAAAAADgeUAAAAAAAMB0QAAAAAAAcHVAAAAAAABIlkAAAAAAAPSUQAAAAAAAeIZAAAAAAABQfkAAAAAAAPB3QAAAAAAAUHhAAAAAAADEk0AAAAAAABiXQAAAAAAAIIpAAAAAAABwgUAAAAAAAEB6QAAAAAAAwHlAAAAAAAAQk0AAAAAAABiaQAAAAAAAcI9AAAAAAACwhEAAAAAAAGB/QAAAAAAAQHxAAAAAAACAkkAAAAAAANybQAAAAAAAfJJAAAAAAACIiEAAAAAAAOCBQAAAAAAAeIFAAAAAAAAMlEAAAAAAAFCfQAAAAAAAaJVAAAAAAAB4i0AAAAAAAPiCQAAAAAAAgIVAAAAAAAAYmEAAAAAAAKqgQAAAAAAAJJdAAAAAAADYj0AAAAAAAMCDQAAAAAAAuIZAAAAAAAB4nUAAAAAAACikQAAAAAAAZJtAAAAAAACEkkAAAAAAAFCHQAAAAAAAKItAAAAAAACsokAAAAAAALyoQAAAAAAAgKJAAAAAAADkl0AAAAAAAHiPQAAAAAAA/JBAAAAAAADIo0AAAAAAAAqqQAAAAAAALKVAAAAAAADwm0AAAAAAAPiRQAAAAAAAPJNAAAAAAACapEAAAAAAAEKoQAAAAAAAdKZAAAAAAABQnUAAAAAAAHSTQAAAAAAAVJRAAAAAAABmpEAAAAAAADylQAAAAAAAYqVAAAAAAACsnUAAAAAAAMySQAAAAAAAxJVAAAAAAACapUAAAAAAAOylQAAAAAAA6qRAAAAAAAAKoEAAAAAAAKiTQAAAAAAAiJhA",
          "dtype": "f8"
         },
         "yaxis": "y"
        },
        {
         "hovertemplate": "Utbildningsinriktning=Säkerhetstjänster<br>År=%{x}<br>Antal studerande=%{y}<extra></extra>",
         "legendgroup": "Säkerhetstjänster",
         "line": {
          "color": "lightgray",
          "dash": "solid"
         },
         "marker": {
          "symbol": "circle"
         },
         "mode": "lines",
         "name": "Säkerhetstjänster",
         "showlegend": true,
         "type": "scattergl",
         "x": {
          "bdata": "1QfVB9UH1QfVB9UH1gfWB9YH1gfWB9YH1wfXB9cH1wfXB9cH2AfYB9gH2AfYB9gH2QfZB9kH2QfZB9kH2gfaB9oH2gfaB9oH2wfbB9sH2wfbB9sH3AfcB9wH3AfcB9wH3QfdB90H3QfdB90H3gfeB94H3gfeB94H3wffB98H3wffB98H4AfgB+AH4AfgB+AH4QfhB+EH4QfhB+EH4gfiB+IH4gfiB+IH4wfjB+MH4wfjB+MH5AfkB+QH5AfkB+QH5QflB+UH5QflB+UH5gfmB+YH5gfmB+YH5wfnB+cH5wfnB+cH6AfoB+gH6AfoB+gH",
          "dtype": "i2"
         },
         "xaxis": "x",
         "y": {
          "bdata": "AAAAAADAXEAAAAAAAIBOQAAAAAAAAEZAAAAAAAAAOUAAAAAAAAAgQAAAAAAAACxAAAAAAABAZUAAAAAAAABcQAAAAAAAQFBAAAAAAAAAQkAAAAAAAAAyQAAAAAAAADhAAAAAAADAZ0AAAAAAAGBlQAAAAAAAgFNAAAAAAACATUAAAAAAAABEQAAAAAAAADtAAAAAAAAgakAAAAAAAGBnQAAAAAAAQFdAAAAAAAAAUUAAAAAAAABFQAAAAAAAADtAAAAAAADgZUAAAAAAAABnQAAAAAAAAFZAAAAAAABAVUAAAAAAAABMQAAAAAAAgERAAAAAAADAXEAAAAAAAEBlQAAAAAAAAFhAAAAAAAAAUkAAAAAAAABJQAAAAAAAgERAAAAAAABAWUAAAAAAACBiQAAAAAAAAFVAAAAAAACASEAAAAAAAIBEQAAAAAAAgENAAAAAAAAAV0AAAAAAAIBfQAAAAAAAAE9AAAAAAACAQUAAAAAAAAA5QAAAAAAAAD5AAAAAAADAUUAAAAAAAEBaQAAAAAAAAE1AAAAAAACAQkAAAAAAAAA+QAAAAAAAgEFAAAAAAACARUAAAAAAAMBUQAAAAAAAQFJAAAAAAACATEAAAAAAAIBIQAAAAAAAgEZAAAAAAAAAM0AAAAAAAEBQQAAAAAAAwFdAAAAAAADAUEAAAAAAAABPQAAAAAAAgFFAAAAAAAAAKEAAAAAAAABTQAAAAAAAAFJAAAAAAADAUkAAAAAAAABPQAAAAAAAgFNAAAAAAAAAKEAAAAAAAIBKQAAAAAAAgElAAAAAAAAATUAAAAAAAABEQAAAAAAAgE5AAAAAAAAAM0AAAAAAAABRQAAAAAAAgElAAAAAAACARkAAAAAAAIBCQAAAAAAAAFBAAAAAAAAANkAAAAAAAIBaQAAAAAAAgFFAAAAAAADAUUAAAAAAAIBNQAAAAAAAAFRAAAAAAACAQUAAAAAAAABZQAAAAAAAAFpAAAAAAACAWkAAAAAAAABYQAAAAAAAQGFAAAAAAACAREAAAAAAAMBXQAAAAAAAwFpAAAAAAAAAXkAAAAAAAIBWQAAAAAAAoGFAAAAAAACARkAAAAAAAIBfQAAAAAAAAGNAAAAAAACgY0AAAAAAAMBbQAAAAAAAgGVAAAAAAACASkAAAAAAAABeQAAAAAAAoGZAAAAAAABgZ0AAAAAAAIBdQAAAAAAAwGVAAAAAAACAT0AAAAAAAIBeQAAAAAAAgGRAAAAAAACAZ0AAAAAAAEBcQAAAAAAAgGZA",
          "dtype": "f8"
         },
         "yaxis": "y"
        },
        {
         "hovertemplate": "Utbildningsinriktning=Teknik och tillverkning<br>År=%{x}<br>Antal studerande=%{y}<extra></extra>",
         "legendgroup": "Teknik och tillverkning",
         "line": {
          "color": "lightgray",
          "dash": "solid"
         },
         "marker": {
          "symbol": "circle"
         },
         "mode": "lines",
         "name": "Teknik och tillverkning",
         "showlegend": true,
         "type": "scattergl",
         "x": {
          "bdata": "1QfVB9UH1QfVB9UH1gfWB9YH1gfWB9YH1wfXB9cH1wfXB9cH2AfYB9gH2AfYB9gH2QfZB9kH2QfZB9kH2gfaB9oH2gfaB9oH2wfbB9sH2wfbB9sH3AfcB9wH3AfcB9wH3QfdB90H3QfdB90H3gfeB94H3gfeB94H3wffB98H3wffB98H4AfgB+AH4AfgB+AH4QfhB+EH4QfhB+EH4gfiB+IH4gfiB+IH4wfjB+MH4wfjB+MH5AfkB+QH5AfkB+QH5QflB+UH5QflB+UH5gfmB+YH5gfmB+YH5wfnB+cH5wfnB+cH6AfoB+gH6AfoB+gH",
          "dtype": "i2"
         },
         "xaxis": "x",
         "y": {
          "bdata": "AAAAAAAwnEAAAAAAAFCGQAAAAAAAAH9AAAAAAADweUAAAAAAABBzQAAAAAAAQGdAAAAAAABkoEAAAAAAAJiIQAAAAAAACIBAAAAAAAAQeUAAAAAAAMByQAAAAAAAYGpAAAAAAAC2okAAAAAAAHiOQAAAAAAAkIBAAAAAAAAQe0AAAAAAAKB1QAAAAAAAIG9AAAAAAAACpUAAAAAAAGyRQAAAAAAA6IJAAAAAAADgfUAAAAAAAIB2QAAAAAAAwHNAAAAAAABGqEAAAAAAAMiUQAAAAAAASIdAAAAAAADogEAAAAAAABB6QAAAAAAAMHdAAAAAAAAaq0AAAAAAAMiWQAAAAAAAmIdAAAAAAAAAg0AAAAAAAJB8QAAAAAAAsHhAAAAAAABkq0AAAAAAACCYQAAAAAAAeIlAAAAAAABAhEAAAAAAADB5QAAAAAAAIHpAAAAAAAAaqUAAAAAAADSXQAAAAAAAYIhAAAAAAAA4gUAAAAAAALB2QAAAAAAAMHVAAAAAAAAoqEAAAAAAAPiZQAAAAAAASItAAAAAAAAQgkAAAAAAALB3QAAAAAAAQHxAAAAAAABkp0AAAAAAAGyaQAAAAAAAAJBAAAAAAAAQhEAAAAAAALB5QAAAAAAAsIFAAAAAAACEpUAAAAAAAGibQAAAAAAAkJBAAAAAAACohkAAAAAAAIB9QAAAAAAAcINAAAAAAACyo0AAAAAAAFycQAAAAAAA/JBAAAAAAAAQh0AAAAAAADB+QAAAAAAAOINAAAAAAADioUAAAAAAADicQAAAAAAARJFAAAAAAABIh0AAAAAAADB/QAAAAAAAMINAAAAAAAAWoUAAAAAAAIyaQAAAAAAANJJAAAAAAAAgh0AAAAAAAHB9QAAAAAAACIJAAAAAAACqoUAAAAAAAHCeQAAAAAAA9JRAAAAAAADIi0AAAAAAACCDQAAAAAAAQIZAAAAAAAC2pUAAAAAAAJKjQAAAAAAArJpAAAAAAAAQkkAAAAAAABCJQAAAAAAAsI5AAAAAAABKqEAAAAAAAKKkQAAAAAAAHKBAAAAAAABMlUAAAAAAAAiOQAAAAAAA3JFAAAAAAABcqEAAAAAAAOijQAAAAAAARqBAAAAAAADElUAAAAAAADCNQAAAAAAARJNAAAAAAADgqEAAAAAAAAikQAAAAAAAnqBAAAAAAACQlkAAAAAAAByQQAAAAAAAPJVAAAAAAAAcrEAAAAAAABSmQAAAAAAA9qJAAAAAAACgmUAAAAAAAPiSQAAAAAAAxJdA",
          "dtype": "f8"
         },
         "yaxis": "y"
        },
        {
         "hovertemplate": "Utbildningsinriktning=Transporttjänster<br>År=%{x}<br>Antal studerande=%{y}<extra></extra>",
         "legendgroup": "Transporttjänster",
         "line": {
          "color": "lightgray",
          "dash": "solid"
         },
         "marker": {
          "symbol": "circle"
         },
         "mode": "lines",
         "name": "Transporttjänster",
         "showlegend": true,
         "type": "scattergl",
         "x": {
          "bdata": "1QfVB9UH1QfVB9UH1gfWB9YH1gfWB9YH1wfXB9cH1wfXB9cH2AfYB9gH2AfYB9gH2QfZB9kH2QfZB9kH2gfaB9oH2gfaB9oH2wfbB9sH2wfbB9sH3AfcB9wH3AfcB9wH3QfdB90H3QfdB90H3gfeB94H3gfeB94H3wffB98H3wffB98H4AfgB+AH4AfgB+AH4QfhB+EH4QfhB+EH4gfiB+IH4gfiB+IH4wfjB+MH4wfjB+MH5AfkB+QH5AfkB+QH5QflB+UH5QflB+UH5gfmB+YH5gfmB+YH5wfnB+cH5wfnB+cH6AfoB+gH6AfoB+gH",
          "dtype": "i2"
         },
         "xaxis": "x",
         "y": {
          "bdata": "AAAAAACAb0AAAAAAAGBkQAAAAAAAAGJAAAAAAACAXkAAAAAAAMBXQAAAAAAAAEdAAAAAAACgdUAAAAAAACBrQAAAAAAAYGhAAAAAAABAZEAAAAAAAABdQAAAAAAAwFBAAAAAAADQeEAAAAAAACBzQAAAAAAAgGxAAAAAAABgZ0AAAAAAACBhQAAAAAAAAFlAAAAAAABAfUAAAAAAAAB4QAAAAAAAIG1AAAAAAABgakAAAAAAAABlQAAAAAAAQF9AAAAAAADQfkAAAAAAAGB6QAAAAAAAgG5AAAAAAADga0AAAAAAACBmQAAAAAAAAGFAAAAAAABYgUAAAAAAAFB9QAAAAAAA8HFAAAAAAADAbUAAAAAAAKBmQAAAAAAAAGBAAAAAAABQgUAAAAAAADB+QAAAAAAA0HFAAAAAAABAbUAAAAAAAOBkQAAAAAAAQF5AAAAAAABQekAAAAAAAKB6QAAAAAAAgG1AAAAAAABgZUAAAAAAAABeQAAAAAAAQFxAAAAAAACAdEAAAAAAAEBzQAAAAAAA4GZAAAAAAADAX0AAAAAAAABVQAAAAAAAgFVAAAAAAADgcUAAAAAAAMBwQAAAAAAAoGJAAAAAAABAVkAAAAAAAEBUQAAAAAAAAFFAAAAAAABQdEAAAAAAABB2QAAAAAAAIGlAAAAAAADAYEAAAAAAAIBZQAAAAAAAwFJAAAAAAAAgeEAAAAAAAAB/QAAAAAAAIHBAAAAAAABgZEAAAAAAAABfQAAAAAAAQF1AAAAAAABAe0AAAAAAAFiBQAAAAAAAIHRAAAAAAABgbEAAAAAAAOBiQAAAAAAA4GNAAAAAAADQdkAAAAAAAPB+QAAAAAAAgHRAAAAAAABgbUAAAAAAAGBiQAAAAAAAYGZAAAAAAAAgdkAAAAAAAPB7QAAAAAAAwHRAAAAAAABAakAAAAAAAEBeQAAAAAAAIGpAAAAAAADgeEAAAAAAABB+QAAAAAAAYHRAAAAAAAAAaEAAAAAAAOBgQAAAAAAAIGxAAAAAAACAdkAAAAAAAGB6QAAAAAAA8HFAAAAAAADAZUAAAAAAAEBcQAAAAAAAIGtAAAAAAADQdkAAAAAAAKB2QAAAAAAA8HBAAAAAAAAAZEAAAAAAAEBeQAAAAAAAYGpAAAAAAACQekAAAAAAACB2QAAAAAAA4HFAAAAAAADAZ0AAAAAAAGBgQAAAAAAAAG1AAAAAAACweUAAAAAAAGB1QAAAAAAAsHJAAAAAAAAAaUAAAAAAAOBhQAAAAAAAgHJA",
          "dtype": "f8"
         },
         "yaxis": "y"
        },
        {
         "hovertemplate": "Utbildningsinriktning=Juridik<br>År=%{x}<br>Antal studerande=%{y}<extra></extra>",
         "legendgroup": "Juridik",
         "line": {
          "color": "lightgray",
          "dash": "solid"
         },
         "marker": {
          "symbol": "circle"
         },
         "mode": "lines",
         "name": "Juridik",
         "showlegend": true,
         "type": "scattergl",
         "x": {
          "bdata": "1gfWB9YH1gfWB9YH1wfXB9cH1wfXB9cH2AfYB9gH2AfYB9gH2QfZB9kH2QfZB9kH2gfaB9oH2gfaB9oH2wfbB9sH2wfbB9sH3AfcB9wH3AfcB9wH3QfdB90H3QfdB90H3gfeB94H3gfeB94H3wffB98H3wffB98H4AfgB+AH4AfgB+AH4QfhB+EH4QfhB+EH4gfiB+IH4gfiB+IH4wfjB+MH4wfjB+MH5AfkB+QH5AfkB+QH5QflB+UH5QflB+UH5gfmB+YH5gfmB+YH5wfnB+cH5wfnB+cH6AfoB+gH6AfoB+gH",
          "dtype": "i2"
         },
         "xaxis": "x",
         "y": {
          "bdata": "AAAAAAAAOkAAAAAAAAAqQAAAAAAAABhAAAAAAAAAHEAAAAAAAAAIQAAAAAAAABhAAAAAAACARUAAAAAAAABBQAAAAAAAADJAAAAAAAAAJkAAAAAAAAAkQAAAAAAAABhAAAAAAACARUAAAAAAAABJQAAAAAAAAD9AAAAAAAAALEAAAAAAAAAsQAAAAAAAABRAAAAAAACAQUAAAAAAAIBQQAAAAAAAADxAAAAAAAAAM0AAAAAAAAAqQAAAAAAAABhAAAAAAACAREAAAAAAAABLQAAAAAAAAD5AAAAAAAAAOEAAAAAAAAAwQAAAAAAAACBAAAAAAAAASUAAAAAAAABKQAAAAAAAAD1AAAAAAAAAOkAAAAAAAAAmQAAAAAAAABxAAAAAAAAAUEAAAAAAAMBQQAAAAAAAAE1AAAAAAAAAOkAAAAAAAAA2QAAAAAAAABRAAAAAAACATEAAAAAAAEBYQAAAAAAAQFBAAAAAAAAAQEAAAAAAAAAzQAAAAAAAACRAAAAAAAAAQkAAAAAAAMBYQAAAAAAAAFNAAAAAAAAAQkAAAAAAAAA0QAAAAAAAADFAAAAAAAAAR0AAAAAAAIBaQAAAAAAAAFJAAAAAAACAQkAAAAAAAAA/QAAAAAAAADFAAAAAAACAS0AAAAAAAMBYQAAAAAAAwFNAAAAAAACARUAAAAAAAABBQAAAAAAAADpAAAAAAAAAUEAAAAAAAABgQAAAAAAAgFZAAAAAAACARkAAAAAAAIBEQAAAAAAAAEZAAAAAAABAWEAAAAAAAMBcQAAAAAAAgFZAAAAAAACAS0AAAAAAAABIQAAAAAAAgEBAAAAAAACAX0AAAAAAAABaQAAAAAAAAFdAAAAAAAAARUAAAAAAAABMQAAAAAAAAD9AAAAAAABgYkAAAAAAAIBdQAAAAAAAgFRAAAAAAAAASUAAAAAAAABFQAAAAAAAgEZAAAAAAAAgYUAAAAAAAABaQAAAAAAAAFVAAAAAAAAATUAAAAAAAABDQAAAAAAAwFBAAAAAAACAW0AAAAAAAMBVQAAAAAAAgFJAAAAAAACASEAAAAAAAABBQAAAAAAAAE9AAAAAAABAWkAAAAAAAABTQAAAAAAAgEtAAAAAAACAQ0AAAAAAAAA9QAAAAAAAAEVAAAAAAADAWUAAAAAAAIBVQAAAAAAAgElAAAAAAACAQkAAAAAAAAA/QAAAAAAAAENA",
          "dtype": "f8"
         },
         "yaxis": "y"
        }
       ],
       "layout": {
        "annotations": [
         {
          "arrowcolor": "royalblue",
          "arrowhead": 3,
          "showarrow": true,
          "text": "🚀 Tillväxtmöjlighet",
          "x": 2010,
          "y": 5661.7
         }
        ],
        "legend": {
         "title": {
          "text": "Utbildningsinriktning"
         },
         "tracegroupgap": 0
        },
        "template": {
         "data": {
          "bar": [
           {
            "error_x": {
             "color": "#2a3f5f"
            },
            "error_y": {
             "color": "#2a3f5f"
            },
            "marker": {
             "line": {
              "color": "#E5ECF6",
              "width": 0.5
             },
             "pattern": {
              "fillmode": "overlay",
              "size": 10,
              "solidity": 0.2
             }
            },
            "type": "bar"
           }
          ],
          "barpolar": [
           {
            "marker": {
             "line": {
              "color": "#E5ECF6",
              "width": 0.5
             },
             "pattern": {
              "fillmode": "overlay",
              "size": 10,
              "solidity": 0.2
             }
            },
            "type": "barpolar"
           }
          ],
          "carpet": [
           {
            "aaxis": {
             "endlinecolor": "#2a3f5f",
             "gridcolor": "white",
             "linecolor": "white",
             "minorgridcolor": "white",
             "startlinecolor": "#2a3f5f"
            },
            "baxis": {
             "endlinecolor": "#2a3f5f",
             "gridcolor": "white",
             "linecolor": "white",
             "minorgridcolor": "white",
             "startlinecolor": "#2a3f5f"
            },
            "type": "carpet"
           }
          ],
          "choropleth": [
           {
            "colorbar": {
             "outlinewidth": 0,
             "ticks": ""
            },
            "type": "choropleth"
           }
          ],
          "contour": [
           {
            "colorbar": {
             "outlinewidth": 0,
             "ticks": ""
            },
            "colorscale": [
             [
              0,
              "#0d0887"
             ],
             [
              0.1111111111111111,
              "#46039f"
             ],
             [
              0.2222222222222222,
              "#7201a8"
             ],
             [
              0.3333333333333333,
              "#9c179e"
             ],
             [
              0.4444444444444444,
              "#bd3786"
             ],
             [
              0.5555555555555556,
              "#d8576b"
             ],
             [
              0.6666666666666666,
              "#ed7953"
             ],
             [
              0.7777777777777778,
              "#fb9f3a"
             ],
             [
              0.8888888888888888,
              "#fdca26"
             ],
             [
              1,
              "#f0f921"
             ]
            ],
            "type": "contour"
           }
          ],
          "contourcarpet": [
           {
            "colorbar": {
             "outlinewidth": 0,
             "ticks": ""
            },
            "type": "contourcarpet"
           }
          ],
          "heatmap": [
           {
            "colorbar": {
             "outlinewidth": 0,
             "ticks": ""
            },
            "colorscale": [
             [
              0,
              "#0d0887"
             ],
             [
              0.1111111111111111,
              "#46039f"
             ],
             [
              0.2222222222222222,
              "#7201a8"
             ],
             [
              0.3333333333333333,
              "#9c179e"
             ],
             [
              0.4444444444444444,
              "#bd3786"
             ],
             [
              0.5555555555555556,
              "#d8576b"
             ],
             [
              0.6666666666666666,
              "#ed7953"
             ],
             [
              0.7777777777777778,
              "#fb9f3a"
             ],
             [
              0.8888888888888888,
              "#fdca26"
             ],
             [
              1,
              "#f0f921"
             ]
            ],
            "type": "heatmap"
           }
          ],
          "histogram": [
           {
            "marker": {
             "pattern": {
              "fillmode": "overlay",
              "size": 10,
              "solidity": 0.2
             }
            },
            "type": "histogram"
           }
          ],
          "histogram2d": [
           {
            "colorbar": {
             "outlinewidth": 0,
             "ticks": ""
            },
            "colorscale": [
             [
              0,
              "#0d0887"
             ],
             [
              0.1111111111111111,
              "#46039f"
             ],
             [
              0.2222222222222222,
              "#7201a8"
             ],
             [
              0.3333333333333333,
              "#9c179e"
             ],
             [
              0.4444444444444444,
              "#bd3786"
             ],
             [
              0.5555555555555556,
              "#d8576b"
             ],
             [
              0.6666666666666666,
              "#ed7953"
             ],
             [
              0.7777777777777778,
              "#fb9f3a"
             ],
             [
              0.8888888888888888,
              "#fdca26"
             ],
             [
              1,
              "#f0f921"
             ]
            ],
            "type": "histogram2d"
           }
          ],
          "histogram2dcontour": [
           {
            "colorbar": {
             "outlinewidth": 0,
             "ticks": ""
            },
            "colorscale": [
             [
              0,
              "#0d0887"
             ],
             [
              0.1111111111111111,
              "#46039f"
             ],
             [
              0.2222222222222222,
              "#7201a8"
             ],
             [
              0.3333333333333333,
              "#9c179e"
             ],
             [
              0.4444444444444444,
              "#bd3786"
             ],
             [
              0.5555555555555556,
              "#d8576b"
             ],
             [
              0.6666666666666666,
              "#ed7953"
             ],
             [
              0.7777777777777778,
              "#fb9f3a"
             ],
             [
              0.8888888888888888,
              "#fdca26"
             ],
             [
              1,
              "#f0f921"
             ]
            ],
            "type": "histogram2dcontour"
           }
          ],
          "mesh3d": [
           {
            "colorbar": {
             "outlinewidth": 0,
             "ticks": ""
            },
            "type": "mesh3d"
           }
          ],
          "parcoords": [
           {
            "line": {
             "colorbar": {
              "outlinewidth": 0,
              "ticks": ""
             }
            },
            "type": "parcoords"
           }
          ],
          "pie": [
           {
            "automargin": true,
            "type": "pie"
           }
          ],
          "scatter": [
           {
            "fillpattern": {
             "fillmode": "overlay",
             "size": 10,
             "solidity": 0.2
            },
            "type": "scatter"
           }
          ],
          "scatter3d": [
           {
            "line": {
             "colorbar": {
              "outlinewidth": 0,
              "ticks": ""
             }
            },
            "marker": {
             "colorbar": {
              "outlinewidth": 0,
              "ticks": ""
             }
            },
            "type": "scatter3d"
           }
          ],
          "scattercarpet": [
           {
            "marker": {
             "colorbar": {
              "outlinewidth": 0,
              "ticks": ""
             }
            },
            "type": "scattercarpet"
           }
          ],
          "scattergeo": [
           {
            "marker": {
             "colorbar": {
              "outlinewidth": 0,
              "ticks": ""
             }
            },
            "type": "scattergeo"
           }
          ],
          "scattergl": [
           {
            "marker": {
             "colorbar": {
              "outlinewidth": 0,
              "ticks": ""
             }
            },
            "type": "scattergl"
           }
          ],
          "scattermap": [
           {
            "marker": {
             "colorbar": {
              "outlinewidth": 0,
              "ticks": ""
             }
            },
            "type": "scattermap"
           }
          ],
          "scattermapbox": [
           {
            "marker": {
             "colorbar": {
              "outlinewidth": 0,
              "ticks": ""
             }
            },
            "type": "scattermapbox"
           }
          ],
          "scatterpolar": [
           {
            "marker": {
             "colorbar": {
              "outlinewidth": 0,
              "ticks": ""
             }
            },
            "type": "scatterpolar"
           }
          ],
          "scatterpolargl": [
           {
            "marker": {
             "colorbar": {
              "outlinewidth": 0,
              "ticks": ""
             }
            },
            "type": "scatterpolargl"
           }
          ],
          "scatterternary": [
           {
            "marker": {
             "colorbar": {
              "outlinewidth": 0,
              "ticks": ""
             }
            },
            "type": "scatterternary"
           }
          ],
          "surface": [
           {
            "colorbar": {
             "outlinewidth": 0,
             "ticks": ""
            },
            "colorscale": [
             [
              0,
              "#0d0887"
             ],
             [
              0.1111111111111111,
              "#46039f"
             ],
             [
              0.2222222222222222,
              "#7201a8"
             ],
             [
              0.3333333333333333,
              "#9c179e"
             ],
             [
              0.4444444444444444,
              "#bd3786"
             ],
             [
              0.5555555555555556,
              "#d8576b"
             ],
             [
              0.6666666666666666,
              "#ed7953"
             ],
             [
              0.7777777777777778,
              "#fb9f3a"
             ],
             [
              0.8888888888888888,
              "#fdca26"
             ],
             [
              1,
              "#f0f921"
             ]
            ],
            "type": "surface"
           }
          ],
          "table": [
           {
            "cells": {
             "fill": {
              "color": "#EBF0F8"
             },
             "line": {
              "color": "white"
             }
            },
            "header": {
             "fill": {
              "color": "#C8D4E3"
             },
             "line": {
              "color": "white"
             }
            },
            "type": "table"
           }
          ]
         },
         "layout": {
          "annotationdefaults": {
           "arrowcolor": "#2a3f5f",
           "arrowhead": 0,
           "arrowwidth": 1
          },
          "autotypenumbers": "strict",
          "coloraxis": {
           "colorbar": {
            "outlinewidth": 0,
            "ticks": ""
           }
          },
          "colorscale": {
           "diverging": [
            [
             0,
             "#8e0152"
            ],
            [
             0.1,
             "#c51b7d"
            ],
            [
             0.2,
             "#de77ae"
            ],
            [
             0.3,
             "#f1b6da"
            ],
            [
             0.4,
             "#fde0ef"
            ],
            [
             0.5,
             "#f7f7f7"
            ],
            [
             0.6,
             "#e6f5d0"
            ],
            [
             0.7,
             "#b8e186"
            ],
            [
             0.8,
             "#7fbc41"
            ],
            [
             0.9,
             "#4d9221"
            ],
            [
             1,
             "#276419"
            ]
           ],
           "sequential": [
            [
             0,
             "#0d0887"
            ],
            [
             0.1111111111111111,
             "#46039f"
            ],
            [
             0.2222222222222222,
             "#7201a8"
            ],
            [
             0.3333333333333333,
             "#9c179e"
            ],
            [
             0.4444444444444444,
             "#bd3786"
            ],
            [
             0.5555555555555556,
             "#d8576b"
            ],
            [
             0.6666666666666666,
             "#ed7953"
            ],
            [
             0.7777777777777778,
             "#fb9f3a"
            ],
            [
             0.8888888888888888,
             "#fdca26"
            ],
            [
             1,
             "#f0f921"
            ]
           ],
           "sequentialminus": [
            [
             0,
             "#0d0887"
            ],
            [
             0.1111111111111111,
             "#46039f"
            ],
            [
             0.2222222222222222,
             "#7201a8"
            ],
            [
             0.3333333333333333,
             "#9c179e"
            ],
            [
             0.4444444444444444,
             "#bd3786"
            ],
            [
             0.5555555555555556,
             "#d8576b"
            ],
            [
             0.6666666666666666,
             "#ed7953"
            ],
            [
             0.7777777777777778,
             "#fb9f3a"
            ],
            [
             0.8888888888888888,
             "#fdca26"
            ],
            [
             1,
             "#f0f921"
            ]
           ]
          },
          "colorway": [
           "#636efa",
           "#EF553B",
           "#00cc96",
           "#ab63fa",
           "#FFA15A",
           "#19d3f3",
           "#FF6692",
           "#B6E880",
           "#FF97FF",
           "#FECB52"
          ],
          "font": {
           "color": "#2a3f5f"
          },
          "geo": {
           "bgcolor": "white",
           "lakecolor": "white",
           "landcolor": "#E5ECF6",
           "showlakes": true,
           "showland": true,
           "subunitcolor": "white"
          },
          "hoverlabel": {
           "align": "left"
          },
          "hovermode": "closest",
          "mapbox": {
           "style": "light"
          },
          "paper_bgcolor": "white",
          "plot_bgcolor": "#E5ECF6",
          "polar": {
           "angularaxis": {
            "gridcolor": "white",
            "linecolor": "white",
            "ticks": ""
           },
           "bgcolor": "#E5ECF6",
           "radialaxis": {
            "gridcolor": "white",
            "linecolor": "white",
            "ticks": ""
           }
          },
          "scene": {
           "xaxis": {
            "backgroundcolor": "#E5ECF6",
            "gridcolor": "white",
            "gridwidth": 2,
            "linecolor": "white",
            "showbackground": true,
            "ticks": "",
            "zerolinecolor": "white"
           },
           "yaxis": {
            "backgroundcolor": "#E5ECF6",
            "gridcolor": "white",
            "gridwidth": 2,
            "linecolor": "white",
            "showbackground": true,
            "ticks": "",
            "zerolinecolor": "white"
           },
           "zaxis": {
            "backgroundcolor": "#E5ECF6",
            "gridcolor": "white",
            "gridwidth": 2,
            "linecolor": "white",
            "showbackground": true,
            "ticks": "",
            "zerolinecolor": "white"
           }
          },
          "shapedefaults": {
           "line": {
            "color": "#2a3f5f"
           }
          },
          "ternary": {
           "aaxis": {
            "gridcolor": "white",
            "linecolor": "white",
            "ticks": ""
           },
           "baxis": {
            "gridcolor": "white",
            "linecolor": "white",
            "ticks": ""
           },
           "bgcolor": "#E5ECF6",
           "caxis": {
            "gridcolor": "white",
            "linecolor": "white",
            "ticks": ""
           }
          },
          "title": {
           "x": 0.05
          },
          "xaxis": {
           "automargin": true,
           "gridcolor": "white",
           "linecolor": "white",
           "ticks": "",
           "title": {
            "standoff": 15
           },
           "zerolinecolor": "white",
           "zerolinewidth": 2
          },
          "yaxis": {
           "automargin": true,
           "gridcolor": "white",
           "linecolor": "white",
           "ticks": "",
           "title": {
            "standoff": 15
           },
           "zerolinecolor": "white",
           "zerolinewidth": 2
          }
         }
        },
        "title": {
         "text": "Investera i framtiden: Ekonomi och administration växer snabbt bland YH-studenter"
        },
        "xaxis": {
         "anchor": "y",
         "domain": [
          0,
          1
         ],
         "title": {
          "text": "År"
         }
        },
        "yaxis": {
         "anchor": "x",
         "domain": [
          0,
          1
         ],
         "title": {
          "text": "Antal studerande"
         }
        }
       }
      }
     },
     "metadata": {},
     "output_type": "display_data"
    }
   ],
   "source": [
    "import plotly.express as px\n",
    "import plotly.graph_objects as go\n",
    "\n",
    "# Ny figur: LINE istället för BAR\n",
    "fig = px.line(\n",
    "    df_long,\n",
    "    x=\"År\",\n",
    "    y=\"Antal studerande\",\n",
    "    color=\"Utbildningsinriktning\",\n",
    "    title=\"Investera i framtiden: Ekonomi och administration växer snabbt bland YH-studenter\",\n",
    "    labels={\"Antal studerande\": \"Antal studerande\", \"År\": \"År\"},\n",
    "    markers=False  # 👈 Tar bort prickar\n",
    ")\n",
    "\n",
    "# Färgsätt manuellt: Blå för fokusområde, ljusgrå för övriga\n",
    "highlight_area = \"Ekonomi, administration och försäljning\"\n",
    "utbildningsområden = df_long[\"Utbildningsinriktning\"].unique()\n",
    "colors = {\n",
    "    area: \"lightgray\" if area != highlight_area else \"royalblue\"\n",
    "    for area in utbildningsområden\n",
    "}\n",
    "\n",
    "fig.for_each_trace(\n",
    "    lambda trace: trace.update(line_color=colors.get(trace.name, \"lightgray\"))\n",
    ")\n",
    "\n",
    "# Lägg till annotation vid ett specifikt år (t.ex. 2010)\n",
    "max_y = df_long[\"Antal studerande\"].max()\n",
    "fig.add_annotation(\n",
    "    x=2010,\n",
    "    y=max_y + max_y*0.1,\n",
    "    text=\"🚀 Tillväxtmöjlighet\",\n",
    "    showarrow=True,\n",
    "    arrowhead=3,\n",
    "    arrowcolor=\"royalblue\",\n",
    ")"
   ]
  },
  {
   "cell_type": "code",
   "execution_count": null,
   "id": "30f644e6",
   "metadata": {},
   "outputs": [
    {
     "data": {
      "application/vnd.plotly.v1+json": {
       "config": {
        "plotlyServerURL": "https://plot.ly"
       },
       "data": [
        {
         "hovertemplate": "Utbildningsinriktning=Data/It<br>År=%{x}<br>Antal studerande=%{y}<extra></extra>",
         "legendgroup": "Data/It",
         "line": {
          "color": "#636efa",
          "dash": "solid"
         },
         "marker": {
          "symbol": "circle"
         },
         "mode": "lines",
         "name": "Data/It",
         "showlegend": true,
         "type": "scattergl",
         "x": {
          "bdata": "1QfVB9UH1QfVB9UH1gfWB9YH1gfWB9YH1wfXB9cH1wfXB9cH2AfYB9gH2AfYB9gH2QfZB9kH2QfZB9kH2gfaB9oH2gfaB9oH2wfbB9sH2wfbB9sH3AfcB9wH3AfcB9wH3QfdB90H3QfdB90H3gfeB94H3gfeB94H3wffB98H3wffB98H4AfgB+AH4AfgB+AH4QfhB+EH4QfhB+EH4gfiB+IH4gfiB+IH4wfjB+MH4wfjB+MH5AfkB+QH5AfkB+QH5QflB+UH5QflB+UH5gfmB+YH5gfmB+YH5wfnB+cH5wfnB+cH6AfoB+gH6AfoB+gH",
          "dtype": "i2"
         },
         "xaxis": "x",
         "y": {
          "bdata": "AAAAAAAElEAAAAAAAECCQAAAAAAAQHNAAAAAAADAaEAAAAAAACBhQAAAAAAAwFNAAAAAAADAlEAAAAAAAGiAQAAAAAAAIHNAAAAAAACgZUAAAAAAAABdQAAAAAAAgFhAAAAAAABUlkAAAAAAADCDQAAAAAAAAHNAAAAAAADgaEAAAAAAAABhQAAAAAAAwFxAAAAAAABklUAAAAAAAIiEQAAAAAAA0HNAAAAAAABAakAAAAAAAABiQAAAAAAAAF5AAAAAAADgk0AAAAAAACCHQAAAAAAAAHZAAAAAAACAa0AAAAAAAEBiQAAAAAAAwF9AAAAAAAAIk0AAAAAAAMCHQAAAAAAAEHhAAAAAAAAAbkAAAAAAAGBjQAAAAAAAIGJAAAAAAAC8lEAAAAAAAMiJQAAAAAAAwHtAAAAAAAAQcEAAAAAAAABjQAAAAAAAYGNAAAAAAAB4lUAAAAAAABCMQAAAAAAAIH9AAAAAAAAwckAAAAAAAABlQAAAAAAAIGVAAAAAAABAl0AAAAAAAOSQQAAAAAAAyINAAAAAAACQdkAAAAAAAGBvQAAAAAAAAG5AAAAAAABMmUAAAAAAAGSVQAAAAAAAuIhAAAAAAACwfUAAAAAAAOBzQAAAAAAA0HZAAAAAAAAom0AAAAAAAPCYQAAAAAAAoI9AAAAAAADAg0AAAAAAAEB3QAAAAAAA4HxAAAAAAADsl0AAAAAAAAiaQAAAAAAADJNAAAAAAADIh0AAAAAAANB8QAAAAAAACIFAAAAAAAC4lkAAAAAAAEyaQAAAAAAAJJRAAAAAAADwiEAAAAAAAFB8QAAAAAAAqIBAAAAAAAAQlkAAAAAAAOCZQAAAAAAA+JJAAAAAAADQhUAAAAAAALB1QAAAAAAAkHdAAAAAAACsm0AAAAAAADygQAAAAAAAxJdAAAAAAABAjEAAAAAAAEB8QAAAAAAAgHZAAAAAAAAkokAAAAAAADSnQAAAAAAAvKJAAAAAAABAlUAAAAAAALiFQAAAAAAA0IBAAAAAAAC8pUAAAAAAAGKrQAAAAAAA5KdAAAAAAADMm0AAAAAAAKCOQAAAAAAAYIdAAAAAAAC2qEAAAAAAANytQAAAAAAAyKpAAAAAAAB4n0AAAAAAAPiOQAAAAAAAKIpAAAAAAAA0qkAAAAAAAJ6vQAAAAAAAZKxAAAAAAAAKoUAAAAAAAByRQAAAAAAAmIpAAAAAAAA6rEAAAAAAAMGwQAAAAAAAuK5AAAAAAACao0AAAAAAALCSQAAAAAAAYIxA",
          "dtype": "f8"
         },
         "yaxis": "y"
        },
        {
         "hovertemplate": "Utbildningsinriktning=Ekonomi, administration och försäljning<br>År=%{x}<br>Antal studerande=%{y}<extra></extra>",
         "legendgroup": "Ekonomi, administration och försäljning",
         "line": {
          "color": "#EF553B",
          "dash": "solid"
         },
         "marker": {
          "symbol": "circle"
         },
         "mode": "lines",
         "name": "Ekonomi, administration och försäljning",
         "showlegend": true,
         "type": "scattergl",
         "x": {
          "bdata": "1QfVB9UH1QfVB9UH1gfWB9YH1gfWB9YH1wfXB9cH1wfXB9cH2AfYB9gH2AfYB9gH2QfZB9kH2QfZB9kH2gfaB9oH2gfaB9oH2wfbB9sH2wfbB9sH3AfcB9wH3AfcB9wH3QfdB90H3QfdB90H3gfeB94H3gfeB94H3wffB98H3wffB98H4AfgB+AH4AfgB+AH4QfhB+EH4QfhB+EH4gfiB+IH4gfiB+IH4wfjB+MH4wfjB+MH5AfkB+QH5AfkB+QH5QflB+UH5QflB+UH5gfmB+YH5gfmB+YH5wfnB+cH5wfnB+cH6AfoB+gH6AfoB+gH",
          "dtype": "i2"
         },
         "xaxis": "x",
         "y": {
          "bdata": "AAAAAAAaoUAAAAAAAACYQAAAAAAAuIxAAAAAAADYhkAAAAAAAFCAQAAAAAAAUHVAAAAAAABmpUAAAAAAAFicQAAAAAAAfJBAAAAAAAB4jEAAAAAAADiDQAAAAAAAAHxAAAAAAADQqUAAAAAAACKgQAAAAAAAjJFAAAAAAABAj0AAAAAAAKCHQAAAAAAAcIFAAAAAAAAQrkAAAAAAAD6jQAAAAAAAGJRAAAAAAABkkUAAAAAAAACLQAAAAAAAiIVAAAAAAACAsEAAAAAAAAqmQAAAAAAAnJZAAAAAAACokkAAAAAAAHiKQAAAAAAAgIdAAAAAAAAFsUAAAAAAAPSnQAAAAAAAwJhAAAAAAABkk0AAAAAAAKiLQAAAAAAAIIhAAAAAAAB4sEAAAAAAAJSpQAAAAAAAlJpAAAAAAAAclEAAAAAAANiMQAAAAAAAUIhAAAAAAAAGr0AAAAAAAPypQAAAAAAAWJtAAAAAAAAUk0AAAAAAAGiLQAAAAAAACIlAAAAAAABWrkAAAAAAAHSrQAAAAAAAoJxAAAAAAACEk0AAAAAAAFiMQAAAAAAAIItAAAAAAADyq0AAAAAAAC6sQAAAAAAAPJ9AAAAAAADgk0AAAAAAAJiMQAAAAAAAyItAAAAAAAA8pkAAAAAAAIKsQAAAAAAAFJ9AAAAAAABIlUAAAAAAAMCMQAAAAAAAMIxAAAAAAADookAAAAAAABasQAAAAAAATqBAAAAAAACUlkAAAAAAAFiOQAAAAAAAiI9AAAAAAACsokAAAAAAAO6sQAAAAAAAFKJAAAAAAACkmEAAAAAAAPCQQAAAAAAAlJFAAAAAAAAgpkAAAAAAAA2wQAAAAAAAgKRAAAAAAACEm0AAAAAAAGiSQAAAAAAANJRAAAAAAACQq0AAAAAAAK+xQAAAAAAA8qdAAAAAAADUn0AAAAAAAKyUQAAAAAAAqJdAAAAAAAAysEAAAAAAABu0QAAAAAAAnqxAAAAAAAAYo0AAAAAAANCVQAAAAAAAfJpAAAAAAABFsEAAAAAAAHCzQAAAAAAAGK1AAAAAAADao0AAAAAAACCXQAAAAAAA2JlAAAAAAAA7sEAAAAAAAHqyQAAAAAAAAqxAAAAAAABEo0AAAAAAAOCVQAAAAAAAKJdAAAAAAAAKsEAAAAAAABKxQAAAAAAAQKtAAAAAAADiokAAAAAAAMyVQAAAAAAAqJhAAAAAAACDsEAAAAAAAGmwQAAAAAAAPKpAAAAAAACCokAAAAAAAGiWQAAAAAAA/JtA",
          "dtype": "f8"
         },
         "yaxis": "y"
        },
        {
         "hovertemplate": "Utbildningsinriktning=Friskvård och kroppsvård<br>År=%{x}<br>Antal studerande=%{y}<extra></extra>",
         "legendgroup": "Friskvård och kroppsvård",
         "line": {
          "color": "#00cc96",
          "dash": "solid"
         },
         "marker": {
          "symbol": "circle"
         },
         "mode": "lines",
         "name": "Friskvård och kroppsvård",
         "showlegend": true,
         "type": "scattergl",
         "x": {
          "bdata": "1QfVB9UH1QfVB9UH1gfWB9YH1gfWB9YH1wfXB9cH1wfXB9cH2AfYB9gH2AfYB9gH2QfZB9kH2QfZB9kH2gfaB9oH2gfaB9oH2wfbB9sH2wfbB9sH3AfcB9wH3AfcB9wH3QfdB90H3QfdB90H3gfeB94H3gfeB94H3wffB98H3wffB98H4AfgB+AH4AfgB+AH4QfhB+EH4QfhB+EH4gfiB+IH4gfiB+IH4wfjB+MH4wfjB+MH5AfkB+QH5AfkB+QH5QflB+UH5QflB+UH5gfmB+YH5gfmB+YH5wfnB+cH5wfnB+cH6AfoB+gH6AfoB+gH",
          "dtype": "i2"
         },
         "xaxis": "x",
         "y": {
          "bdata": "AAAAAAAAZUAAAAAAAIBeQAAAAAAAAExAAAAAAACASEAAAAAAAABLQAAAAAAAAEBAAAAAAADwcEAAAAAAAKBnQAAAAAAAwFVAAAAAAADAVUAAAAAAAABIQAAAAAAAAExAAAAAAABAdkAAAAAAAOBqQAAAAAAAAFdAAAAAAACAWUAAAAAAAABKQAAAAAAAgFBAAAAAAADQeUAAAAAAAABvQAAAAAAAwFdAAAAAAAAAVEAAAAAAAIBPQAAAAAAAgFdAAAAAAACweUAAAAAAAIBwQAAAAAAAwFZAAAAAAAAAVUAAAAAAAIBPQAAAAAAAAFhAAAAAAACQd0AAAAAAAEBrQAAAAAAAAFNAAAAAAACAUEAAAAAAAIBKQAAAAAAAwFBAAAAAAAAgcUAAAAAAAMBjQAAAAAAAgEpAAAAAAAAAQ0AAAAAAAABBQAAAAAAAAEFAAAAAAADgZkAAAAAAAABdQAAAAAAAADtAAAAAAAAAM0AAAAAAAAA0QAAAAAAAABhAAAAAAADAZUAAAAAAAABaQAAAAAAAgEFAAAAAAAAAM0AAAAAAAAAyQAAAAAAAACpAAAAAAACAYkAAAAAAAMBYQAAAAAAAADxAAAAAAAAAMkAAAAAAAAA1QAAAAAAAADBAAAAAAABAYUAAAAAAAABZQAAAAAAAAEdAAAAAAAAAOkAAAAAAAAAyQAAAAAAAADhAAAAAAADAWkAAAAAAAMBVQAAAAAAAgENAAAAAAAAAPkAAAAAAAAAyQAAAAAAAADZAAAAAAACAUUAAAAAAAEBXQAAAAAAAADhAAAAAAAAAMEAAAAAAAAAwQAAAAAAAADNAAAAAAADAUUAAAAAAAEBXQAAAAAAAADdAAAAAAAAAJkAAAAAAAAAmQAAAAAAAADZAAAAAAABAVkAAAAAAAMBcQAAAAAAAAEBAAAAAAAAAN0AAAAAAAAAwQAAAAAAAADtAAAAAAADAWEAAAAAAAABcQAAAAAAAAEpAAAAAAAAAPkAAAAAAAAAxQAAAAAAAADlAAAAAAADAXEAAAAAAAMBfQAAAAAAAgExAAAAAAAAAOEAAAAAAAAA2QAAAAAAAADtAAAAAAABAXUAAAAAAAGBhQAAAAAAAAFFAAAAAAAAAP0AAAAAAAAA1QAAAAAAAAEBAAAAAAAAAYEAAAAAAAMBgQAAAAAAAQFNAAAAAAAAARkAAAAAAAAA9QAAAAAAAAEhAAAAAAADAWUAAAAAAAABVQAAAAAAAwFBAAAAAAACAQ0AAAAAAAAA5QAAAAAAAAEhA",
          "dtype": "f8"
         },
         "yaxis": "y"
        },
        {
         "hovertemplate": "Utbildningsinriktning=Hotell, restaurang och turism<br>År=%{x}<br>Antal studerande=%{y}<extra></extra>",
         "legendgroup": "Hotell, restaurang och turism",
         "line": {
          "color": "#ab63fa",
          "dash": "solid"
         },
         "marker": {
          "symbol": "circle"
         },
         "mode": "lines",
         "name": "Hotell, restaurang och turism",
         "showlegend": true,
         "type": "scattergl",
         "x": {
          "bdata": "1QfVB9UH1QfVB9UH1gfWB9YH1gfWB9YH1wfXB9cH1wfXB9cH2AfYB9gH2AfYB9gH2QfZB9kH2QfZB9kH2gfaB9oH2gfaB9oH2wfbB9sH2wfbB9sH3AfcB9wH3AfcB9wH3QfdB90H3QfdB90H3gfeB94H3gfeB94H3wffB98H3wffB98H4AfgB+AH4AfgB+AH4QfhB+EH4QfhB+EH4gfiB+IH4gfiB+IH4wfjB+MH4wfjB+MH5AfkB+QH5AfkB+QH5QflB+UH5QflB+UH5gfmB+YH5gfmB+YH5wfnB+cH5wfnB+cH6AfoB+gH6AfoB+gH",
          "dtype": "i2"
         },
         "xaxis": "x",
         "y": {
          "bdata": "AAAAAAAMkUAAAAAAANiCQAAAAAAAIG9AAAAAAACgYEAAAAAAAEBVQAAAAAAAAE9AAAAAAADclUAAAAAAABiEQAAAAAAAoGtAAAAAAAAgYUAAAAAAAMBXQAAAAAAAgExAAAAAAADUmUAAAAAAANCFQAAAAAAAIG1AAAAAAAAAYUAAAAAAAABbQAAAAAAAQFNAAAAAAADMmkAAAAAAACCIQAAAAAAAoGtAAAAAAAAAY0AAAAAAAMBaQAAAAAAAgFpAAAAAAAD8mEAAAAAAANCIQAAAAAAAwGxAAAAAAACgYEAAAAAAAABaQAAAAAAAQFpAAAAAAAAAl0AAAAAAANCJQAAAAAAAwG5AAAAAAAAgY0AAAAAAAEBZQAAAAAAAwFpAAAAAAADwlUAAAAAAACiKQAAAAAAAQHBAAAAAAABgY0AAAAAAAIBcQAAAAAAAgF1AAAAAAABUkkAAAAAAAHCJQAAAAAAAQGxAAAAAAACAY0AAAAAAAABcQAAAAAAAwFtAAAAAAAC8kEAAAAAAALCJQAAAAAAAoG9AAAAAAACgYkAAAAAAAEBbQAAAAAAAQF5AAAAAAADYiUAAAAAAAHCLQAAAAAAAMHNAAAAAAAAgaEAAAAAAACBjQAAAAAAAAGlAAAAAAADIhEAAAAAAAACNQAAAAAAAkHZAAAAAAACgaUAAAAAAAKBoQAAAAAAAQG9AAAAAAAAwhUAAAAAAAOCLQAAAAAAA4HZAAAAAAADAaUAAAAAAAIBlQAAAAAAAYGtAAAAAAABYg0AAAAAAAJCNQAAAAAAAAHhAAAAAAABgbUAAAAAAAABlQAAAAAAAwGZAAAAAAADAg0AAAAAAAHiLQAAAAAAAsHhAAAAAAADAa0AAAAAAACBlQAAAAAAAQGlAAAAAAACIhkAAAAAAACCKQAAAAAAAYHtAAAAAAADgcEAAAAAAAKBmQAAAAAAAAHFAAAAAAACgiEAAAAAAAIiMQAAAAAAAoH5AAAAAAACgdEAAAAAAAMBpQAAAAAAA8HZAAAAAAADIiEAAAAAAANiMQAAAAAAAKIFAAAAAAACgdEAAAAAAAJBwQAAAAAAAYHxAAAAAAADIhUAAAAAAABiJQAAAAAAAwH9AAAAAAACAc0AAAAAAAKBxQAAAAAAAUHlAAAAAAAAohEAAAAAAAPiFQAAAAAAAMHxAAAAAAADQcUAAAAAAAKBxQAAAAAAAMHhAAAAAAAC4hEAAAAAAAJiEQAAAAAAAwHpAAAAAAABgc0AAAAAAAIBvQAAAAAAAgH5A",
          "dtype": "f8"
         },
         "yaxis": "y"
        },
        {
         "hovertemplate": "Utbildningsinriktning=Hälso- och sjukvård samt socialt arbete<br>År=%{x}<br>Antal studerande=%{y}<extra></extra>",
         "legendgroup": "Hälso- och sjukvård samt socialt arbete",
         "line": {
          "color": "#FFA15A",
          "dash": "solid"
         },
         "marker": {
          "symbol": "circle"
         },
         "mode": "lines",
         "name": "Hälso- och sjukvård samt socialt arbete",
         "showlegend": true,
         "type": "scattergl",
         "x": {
          "bdata": "1QfVB9UH1QfVB9UH1gfWB9YH1gfWB9YH1wfXB9cH1wfXB9cH2AfYB9gH2AfYB9gH2QfZB9kH2QfZB9kH2gfaB9oH2gfaB9oH2wfbB9sH2wfbB9sH3AfcB9wH3AfcB9wH3QfdB90H3QfdB90H3gfeB94H3gfeB94H3wffB98H3wffB98H4AfgB+AH4AfgB+AH4QfhB+EH4QfhB+EH4gfiB+IH4gfiB+IH4wfjB+MH4wfjB+MH5AfkB+QH5AfkB+QH5QflB+UH5QflB+UH5gfmB+YH5gfmB+YH5wfnB+cH5wfnB+cH6AfoB+gH6AfoB+gH",
          "dtype": "i2"
         },
         "xaxis": "x",
         "y": {
          "bdata": "AAAAAAAQhEAAAAAAAJCCQAAAAAAAkHxAAAAAAADwekAAAAAAALB5QAAAAAAAkHxAAAAAAABwikAAAAAAACCFQAAAAAAAiIJAAAAAAABQgEAAAAAAAICAQAAAAAAAEIRAAAAAAABojEAAAAAAAGCIQAAAAAAA8INAAAAAAAA4gkAAAAAAAACDQAAAAAAAUIVAAAAAAABYikAAAAAAAFiIQAAAAAAA8IJAAAAAAACQgEAAAAAAAJiCQAAAAAAAIIVAAAAAAACgiEAAAAAAAACJQAAAAAAAqIJAAAAAAADAgUAAAAAAAOiBQAAAAAAA6IdAAAAAAACYh0AAAAAAANCKQAAAAAAAwIRAAAAAAABAg0AAAAAAAACEQAAAAAAAGI5AAAAAAAC4hkAAAAAAACiMQAAAAAAAcIRAAAAAAAAIhUAAAAAAAPiDQAAAAAAAmJBAAAAAAACQgkAAAAAAAGiLQAAAAAAA2INAAAAAAABIg0AAAAAAAIiEQAAAAAAA5JFAAAAAAACQg0AAAAAAAOCMQAAAAAAAaIdAAAAAAABIhUAAAAAAAGiGQAAAAAAA0JNAAAAAAADYhUAAAAAAABSRQAAAAAAAAIpAAAAAAAAQiUAAAAAAAOCJQAAAAAAAMJdAAAAAAABAhEAAAAAAAAiSQAAAAAAA0I1AAAAAAACgi0AAAAAAAGCKQAAAAAAADJhAAAAAAACYg0AAAAAAALyRQAAAAAAAmJBAAAAAAAAAjUAAAAAAAPiJQAAAAAAArJhAAAAAAADQg0AAAAAAAKyTQAAAAAAA1JJAAAAAAACYj0AAAAAAANiLQAAAAAAA/JpAAAAAAABYhUAAAAAAAIiVQAAAAAAAMJVAAAAAAADIkUAAAAAAAGiOQAAAAAAADJ5AAAAAAABAiUAAAAAAAKSYQAAAAAAAoJlAAAAAAAA8lUAAAAAAAKCTQAAAAAAArqJAAAAAAABEkEAAAAAAAFCcQAAAAAAA3J9AAAAAAADImEAAAAAAAMyWQAAAAAAALqdAAAAAAADAkUAAAAAAAJieQAAAAAAAfqFAAAAAAACUnEAAAAAAAASYQAAAAAAAMqpAAAAAAAAgk0AAAAAAAOCeQAAAAAAAHKJAAAAAAAAQoEAAAAAAAAiaQAAAAAAAcKxAAAAAAABgk0AAAAAAAJibQAAAAAAACqFAAAAAAAC4nkAAAAAAAHCaQAAAAAAAuKxAAAAAAACgkkAAAAAAALSYQAAAAAAAKJ9AAAAAAAAYnkAAAAAAANiZQAAAAAAA4qtA",
          "dtype": "f8"
         },
         "yaxis": "y"
        },
        {
         "hovertemplate": "Utbildningsinriktning=Journalistik och information<br>År=%{x}<br>Antal studerande=%{y}<extra></extra>",
         "legendgroup": "Journalistik och information",
         "line": {
          "color": "#19d3f3",
          "dash": "solid"
         },
         "marker": {
          "symbol": "circle"
         },
         "mode": "lines",
         "name": "Journalistik och information",
         "showlegend": true,
         "type": "scattergl",
         "x": {
          "bdata": "1QfVB9UH1QfVB9YH1gfWB9YH1gfWB9cH1wfXB9cH1wfXB9gH2AfYB9gH2AfYB9kH2QfZB9kH2QfZB9oH2gfaB9oH2gfaB9sH2wfbB9sH2wfbB9wH3AfcB9wH3AfcB90H3QfdB90H3QfdB94H3gfeB94H3gfeB98H3wffB98H3wffB+AH4AfgB+AH4AfgB+EH4QfhB+EH4QfhB+IH4gfiB+IH4gfiB+MH4wfjB+MH4wfjB+QH5AfkB+QH5AfkB+UH5QflB+UH5QflB+YH5gfmB+YH5gfmB+cH5wfnB+cH5wfnB+gH6AfoB+gH6AfoBw==",
          "dtype": "i2"
         },
         "xaxis": "x",
         "y": {
          "bdata": "AAAAAAAAR0AAAAAAAIBFQAAAAAAAAC5AAAAAAAAAGEAAAAAAAAAQQAAAAAAAAEFAAAAAAACARUAAAAAAAAAqQAAAAAAAABBAAAAAAAAAFEAAAAAAAAAIQAAAAAAAgEFAAAAAAAAARkAAAAAAAAAqQAAAAAAAACRAAAAAAAAAFEAAAAAAAAAcQAAAAAAAAEhAAAAAAACARkAAAAAAAAA4QAAAAAAAADBAAAAAAAAAIkAAAAAAAAAxQAAAAAAAAE1AAAAAAABAUUAAAAAAAAA7QAAAAAAAADdAAAAAAAAALEAAAAAAAAA2QAAAAAAAgE1AAAAAAABAUkAAAAAAAIBCQAAAAAAAADlAAAAAAAAAQEAAAAAAAAA+QAAAAAAAAFFAAAAAAACAV0AAAAAAAABFQAAAAAAAADpAAAAAAACAQ0AAAAAAAAA+QAAAAAAAAFJAAAAAAAAAWEAAAAAAAABDQAAAAAAAADlAAAAAAAAAOEAAAAAAAAA2QAAAAAAAQFxAAAAAAACAYEAAAAAAAIBPQAAAAAAAAENAAAAAAACAQEAAAAAAAABBQAAAAAAAAGJAAAAAAABAakAAAAAAAIBYQAAAAAAAgEtAAAAAAACASEAAAAAAAEBQQAAAAAAAgF9AAAAAAACga0AAAAAAAMBbQAAAAAAAAFNAAAAAAAAASkAAAAAAAIBPQAAAAAAAQF9AAAAAAAAgb0AAAAAAAIBdQAAAAAAAAFVAAAAAAACATUAAAAAAAABWQAAAAAAAwGJAAAAAAACAbUAAAAAAAABfQAAAAAAAwFVAAAAAAAAAUkAAAAAAAKBgQAAAAAAAgGNAAAAAAABgcEAAAAAAAEBeQAAAAAAAwFRAAAAAAACAUkAAAAAAACBhQAAAAAAAQGlAAAAAAABwcUAAAAAAAGBjQAAAAAAAwFVAAAAAAABAUEAAAAAAAABdQAAAAAAAoGtAAAAAAADwcEAAAAAAAGBmQAAAAAAAwFpAAAAAAADAUEAAAAAAAIBeQAAAAAAAIGlAAAAAAABQcUAAAAAAAABmQAAAAAAAgFdAAAAAAACAUkAAAAAAAIBcQAAAAAAAQGlAAAAAAACgbkAAAAAAACBmQAAAAAAAQFJAAAAAAAAASEAAAAAAAIBTQAAAAAAAoGVAAAAAAACAbEAAAAAAAIBjQAAAAAAAwFFAAAAAAACAQ0AAAAAAAEBVQAAAAAAAAGBAAAAAAADgZkAAAAAAAEBeQAAAAAAAAFNAAAAAAACAQ0AAAAAAAMBYQA==",
          "dtype": "f8"
         },
         "yaxis": "y"
        },
        {
         "hovertemplate": "Utbildningsinriktning=Kultur, media och design<br>År=%{x}<br>Antal studerande=%{y}<extra></extra>",
         "legendgroup": "Kultur, media och design",
         "line": {
          "color": "#FF6692",
          "dash": "solid"
         },
         "marker": {
          "symbol": "circle"
         },
         "mode": "lines",
         "name": "Kultur, media och design",
         "showlegend": true,
         "type": "scattergl",
         "x": {
          "bdata": "1QfVB9UH1QfVB9UH1gfWB9YH1gfWB9YH1wfXB9cH1wfXB9cH2AfYB9gH2AfYB9gH2QfZB9kH2QfZB9kH2gfaB9oH2gfaB9oH2wfbB9sH2wfbB9sH3AfcB9wH3AfcB9wH3QfdB90H3QfdB90H3gfeB94H3gfeB94H3wffB98H3wffB98H4AfgB+AH4AfgB+AH4QfhB+EH4QfhB+EH4gfiB+IH4gfiB+IH4wfjB+MH4wfjB+MH5AfkB+QH5AfkB+QH5QflB+UH5QflB+UH5gfmB+YH5gfmB+YH5wfnB+cH5wfnB+cH6AfoB+gH6AfoB+gH",
          "dtype": "i2"
         },
         "xaxis": "x",
         "y": {
          "bdata": "AAAAAAA0mEAAAAAAADiGQAAAAAAAAHJAAAAAAABAYUAAAAAAAIBPQAAAAAAAgEpAAAAAAACImkAAAAAAADCGQAAAAAAAgHBAAAAAAACAYUAAAAAAAIBNQAAAAAAAwFBAAAAAAAAEmkAAAAAAAECGQAAAAAAAAG9AAAAAAAAgYEAAAAAAAEBSQAAAAAAAgFBAAAAAAABEmkAAAAAAALiHQAAAAAAAwHFAAAAAAADAYEAAAAAAAEBRQAAAAAAAgFBAAAAAAADsmEAAAAAAAFCJQAAAAAAAEHJAAAAAAABAXkAAAAAAAIBSQAAAAAAAgE9AAAAAAAC4lUAAAAAAAGiKQAAAAAAAwHFAAAAAAABAYEAAAAAAAABRQAAAAAAAgFJAAAAAAADAk0AAAAAAAPCIQAAAAAAA4HBAAAAAAACAXUAAAAAAAABLQAAAAAAAAE9AAAAAAAB0kkAAAAAAAGiHQAAAAAAAIGxAAAAAAACAWEAAAAAAAIBNQAAAAAAAAElAAAAAAAB8k0AAAAAAAHCIQAAAAAAA4G9AAAAAAACAW0AAAAAAAABMQAAAAAAAgE1AAAAAAAAYk0AAAAAAAHCKQAAAAAAAoHJAAAAAAABAXkAAAAAAAMBRQAAAAAAAQFFAAAAAAACIkkAAAAAAAGCMQAAAAAAA8HZAAAAAAACAYUAAAAAAAIBVQAAAAAAAgFRAAAAAAABYkUAAAAAAAFCOQAAAAAAAwHVAAAAAAAAAY0AAAAAAAMBXQAAAAAAAwFdAAAAAAAC4kEAAAAAAACCQQAAAAAAAMHdAAAAAAACAZUAAAAAAAABYQAAAAAAAAF9AAAAAAABYkEAAAAAAACCQQAAAAAAAoHlAAAAAAABAaEAAAAAAAIBXQAAAAAAAAGBAAAAAAABAkEAAAAAAAHiRQAAAAAAAwH5AAAAAAAAgZUAAAAAAAIBVQAAAAAAAwFtAAAAAAAAQk0AAAAAAANySQAAAAAAAAIJAAAAAAAAgaUAAAAAAAABcQAAAAAAAAF1AAAAAAAD8lEAAAAAAAJSUQAAAAAAAQIZAAAAAAACAbkAAAAAAAEBhQAAAAAAAQGRAAAAAAAAUl0AAAAAAAJyUQAAAAAAA+IdAAAAAAABQckAAAAAAAGBkQAAAAAAAgGlAAAAAAADEmUAAAAAAAACUQAAAAAAAWIhAAAAAAADwdEAAAAAAAOBmQAAAAAAA4GxAAAAAAAAAmkAAAAAAAMyUQAAAAAAAcIhAAAAAAACweEAAAAAAAIBpQAAAAAAAQHBA",
          "dtype": "f8"
         },
         "yaxis": "y"
        },
        {
         "hovertemplate": "Utbildningsinriktning=Lantbruk, djurvård, trädgård, skog och fiske<br>År=%{x}<br>Antal studerande=%{y}<extra></extra>",
         "legendgroup": "Lantbruk, djurvård, trädgård, skog och fiske",
         "line": {
          "color": "#B6E880",
          "dash": "solid"
         },
         "marker": {
          "symbol": "circle"
         },
         "mode": "lines",
         "name": "Lantbruk, djurvård, trädgård, skog och fiske",
         "showlegend": true,
         "type": "scattergl",
         "x": {
          "bdata": "1QfVB9UH1QfVB9UH1gfWB9YH1gfWB9YH1wfXB9cH1wfXB9cH2AfYB9gH2AfYB9gH2QfZB9kH2QfZB9kH2gfaB9oH2gfaB9oH2wfbB9sH2wfbB9sH3AfcB9wH3AfcB9wH3QfdB90H3QfdB90H3gfeB94H3gfeB94H3wffB98H3wffB98H4AfgB+AH4AfgB+AH4QfhB+EH4QfhB+EH4gfiB+IH4gfiB+IH4wfjB+MH4wfjB+MH5AfkB+QH5AfkB+QH5QflB+UH5QflB+UH5gfmB+YH5gfmB+YH5wfnB+cH5wfnB+cH6AfoB+gH6AfoB+gH",
          "dtype": "i2"
         },
         "xaxis": "x",
         "y": {
          "bdata": "AAAAAABwdkAAAAAAAOBlQAAAAAAAQF5AAAAAAACAXEAAAAAAAMBUQAAAAAAAAFFAAAAAAABggUAAAAAAAOBuQAAAAAAAIGNAAAAAAABgY0AAAAAAAEBhQAAAAAAAAFdAAAAAAADQgkAAAAAAADBzQAAAAAAAYGZAAAAAAAAAZEAAAAAAAEBkQAAAAAAAAGBAAAAAAABwgkAAAAAAAFByQAAAAAAAIGVAAAAAAADgYkAAAAAAAGBjQAAAAAAAAGJAAAAAAAAQhUAAAAAAAIBxQAAAAAAA4GNAAAAAAABAZEAAAAAAACBgQAAAAAAAIGJAAAAAAABIiEAAAAAAAPByQAAAAAAAYGRAAAAAAACgY0AAAAAAAMBhQAAAAAAAQGRAAAAAAABwhkAAAAAAAPBzQAAAAAAAIGRAAAAAAABgYkAAAAAAAIBiQAAAAAAAIGRAAAAAAAAggkAAAAAAAJBzQAAAAAAAoGBAAAAAAADAX0AAAAAAAGBhQAAAAAAAIGVAAAAAAACAf0AAAAAAADB0QAAAAAAAQGFAAAAAAAAAWkAAAAAAAIBfQAAAAAAAAGRAAAAAAACQfEAAAAAAACByQAAAAAAAgGJAAAAAAADAV0AAAAAAAEBcQAAAAAAAgGJAAAAAAADAekAAAAAAANB1QAAAAAAAgGNAAAAAAAAAWUAAAAAAAABdQAAAAAAAwGNAAAAAAABQeEAAAAAAAKB1QAAAAAAAQGhAAAAAAADAX0AAAAAAAIBiQAAAAAAAYGlAAAAAAABAdEAAAAAAAEB0QAAAAAAAoGtAAAAAAACAY0AAAAAAAMBiQAAAAAAAsHBAAAAAAADAckAAAAAAANByQAAAAAAAYGdAAAAAAADAZEAAAAAAAMBfQAAAAAAAcHFAAAAAAABAcUAAAAAAANBzQAAAAAAAYG1AAAAAAADgZUAAAAAAAMBgQAAAAAAAcHFAAAAAAABgdEAAAAAAADB1QAAAAAAAwHFAAAAAAACAaUAAAAAAAEBjQAAAAAAAIHNAAAAAAAAQdUAAAAAAAFB2QAAAAAAAAHVAAAAAAABAcEAAAAAAAEBpQAAAAAAA4HNAAAAAAABwdkAAAAAAAFB1QAAAAAAAoHZAAAAAAAAwc0AAAAAAAEBrQAAAAAAAsHZAAAAAAABQeEAAAAAAALB0QAAAAAAAwHdAAAAAAAAwdEAAAAAAAABsQAAAAAAAwHtAAAAAAADwe0AAAAAAAHB3QAAAAAAAEHhAAAAAAACQdkAAAAAAACBxQAAAAAAAgH9A",
          "dtype": "f8"
         },
         "yaxis": "y"
        },
        {
         "hovertemplate": "Utbildningsinriktning=Pedagogik och undervisning<br>År=%{x}<br>Antal studerande=%{y}<extra></extra>",
         "legendgroup": "Pedagogik och undervisning",
         "line": {
          "color": "#FF97FF",
          "dash": "solid"
         },
         "marker": {
          "symbol": "circle"
         },
         "mode": "lines",
         "name": "Pedagogik och undervisning",
         "showlegend": true,
         "type": "scattergl",
         "x": {
          "bdata": "1QfVB9UH1QfVB9UH1gfWB9YH1gfWB9YH1wfXB9cH1wfXB9cH2AfYB9gH2AfYB9gH2QfZB9kH2QfZB9kH2gfaB9oH2gfaB9oH2wfbB9sH2wfbB9sH3AfcB9wH3AfcB9wH3QfdB90H3QfdB90H3gfeB94H3gfeB94H3wffB98H3wffB98H4AfgB+AH4AfgB+AH4QfhB+EH4QfhB+EH4gfiB+IH4gfiB+IH4wfjB+MH4wfjB+MH5AfkB+QH5AfkB+QH5QflB+UH5QflB+UH5gfmB+YH5gfmB+YH5wfnB+cH5wfnB+cH6AfoB+gH6AfoB+gH",
          "dtype": "i2"
         },
         "xaxis": "x",
         "y": {
          "bdata": "AAAAAAAACEAAAAAAAAAIQAAAAAAAABBAAAAAAAAACEAAAAAAAAAAAAAAAAAAAAhAAAAAAAAALEAAAAAAAAAwQAAAAAAAADNAAAAAAAAANUAAAAAAAAAqQAAAAAAAADRAAAAAAAAAN0AAAAAAAAA7QAAAAAAAgERAAAAAAAAAPEAAAAAAAAA9QAAAAAAAAENAAAAAAAAANkAAAAAAAABDQAAAAAAAgEVAAAAAAACAQkAAAAAAAIBBQAAAAAAAgEZAAAAAAAAAQEAAAAAAAABLQAAAAAAAAEJAAAAAAACASEAAAAAAAIBEQAAAAAAAAENAAAAAAABAVkAAAAAAAEBWQAAAAAAAAFNAAAAAAACAT0AAAAAAAIBRQAAAAAAAwFJAAAAAAAAAX0AAAAAAAIBiQAAAAAAAAFpAAAAAAADAVUAAAAAAAMBVQAAAAAAAgFtAAAAAAABAVEAAAAAAAABdQAAAAAAAQFJAAAAAAAAATkAAAAAAAIBIQAAAAAAAwFJAAAAAAAAAWkAAAAAAAMBaQAAAAAAAgEhAAAAAAABAUEAAAAAAAABEQAAAAAAAgE1AAAAAAAAAX0AAAAAAAMBbQAAAAAAAAExAAAAAAAAAUEAAAAAAAIBJQAAAAAAAwFNAAAAAAACAWUAAAAAAAIBXQAAAAAAAAEpAAAAAAAAAS0AAAAAAAIBJQAAAAAAAQFFAAAAAAADAVkAAAAAAAEBfQAAAAAAAAFVAAAAAAAAAUEAAAAAAAIBSQAAAAAAAAFhAAAAAAAAAW0AAAAAAAMBjQAAAAAAAQFdAAAAAAADAVkAAAAAAAABTQAAAAAAAAGBAAAAAAAAAXEAAAAAAAMBkQAAAAAAAwGBAAAAAAABAXkAAAAAAAMBeQAAAAAAAoGlAAAAAAADAW0AAAAAAAIBsQAAAAAAAoGhAAAAAAADgaUAAAAAAAIBnQAAAAAAAYHZAAAAAAADAYkAAAAAAACBtQAAAAAAAQG9AAAAAAACgbEAAAAAAAIBrQAAAAAAA4HtAAAAAAAAAaEAAAAAAALBxQAAAAAAAoHBAAAAAAABAcUAAAAAAACBuQAAAAAAAIIFAAAAAAADAakAAAAAAAPBwQAAAAAAA0HNAAAAAAADQdEAAAAAAACByQAAAAAAAOIFAAAAAAADAXEAAAAAAAKBrQAAAAAAAoG9AAAAAAADgbkAAAAAAAABsQAAAAAAAIHxAAAAAAAAAV0AAAAAAAMBiQAAAAAAAoGRAAAAAAACgZUAAAAAAAMBjQAAAAAAAUHZA",
          "dtype": "f8"
         },
         "yaxis": "y"
        },
        {
         "hovertemplate": "Utbildningsinriktning=Samhällsbyggnad och byggteknik<br>År=%{x}<br>Antal studerande=%{y}<extra></extra>",
         "legendgroup": "Samhällsbyggnad och byggteknik",
         "line": {
          "color": "#FECB52",
          "dash": "solid"
         },
         "marker": {
          "symbol": "circle"
         },
         "mode": "lines",
         "name": "Samhällsbyggnad och byggteknik",
         "showlegend": true,
         "type": "scattergl",
         "x": {
          "bdata": "1QfVB9UH1QfVB9UH1gfWB9YH1gfWB9YH1wfXB9cH1wfXB9cH2AfYB9gH2AfYB9gH2QfZB9kH2QfZB9kH2gfaB9oH2gfaB9oH2wfbB9sH2wfbB9sH3AfcB9wH3AfcB9wH3QfdB90H3QfdB90H3gfeB94H3gfeB94H3wffB98H3wffB98H4AfgB+AH4AfgB+AH4QfhB+EH4QfhB+EH4gfiB+IH4gfiB+IH4wfjB+MH4wfjB+MH5AfkB+QH5AfkB+QH5QflB+UH5QflB+UH5gfmB+YH5gfmB+YH5wfnB+cH5wfnB+cH6AfoB+gH6AfoB+gH",
          "dtype": "i2"
         },
         "xaxis": "x",
         "y": {
          "bdata": "AAAAAACAfkAAAAAAAMBxQAAAAAAAgGdAAAAAAAAAZ0AAAAAAAABgQAAAAAAAoGBAAAAAAABAiEAAAAAAAFB4QAAAAAAAAG1AAAAAAABgakAAAAAAACBmQAAAAAAAIGRAAAAAAAAYjUAAAAAAAIiAQAAAAAAAQHNAAAAAAAAAa0AAAAAAAMBqQAAAAAAAwGdAAAAAAACAjkAAAAAAANiEQAAAAAAA8HJAAAAAAADgcEAAAAAAAEBqQAAAAAAA4GpAAAAAAAC4kUAAAAAAAECJQAAAAAAA4HhAAAAAAADQdEAAAAAAABBwQAAAAAAAoG9AAAAAAABAk0AAAAAAADiMQAAAAAAA4H5AAAAAAABwdkAAAAAAACBxQAAAAAAAYHFAAAAAAAB0lUAAAAAAAGiQQAAAAAAAcIJAAAAAAADQdUAAAAAAAKBxQAAAAAAAIHFAAAAAAAD0lkAAAAAAANyRQAAAAAAAsIRAAAAAAADgeUAAAAAAAMB0QAAAAAAAcHVAAAAAAABIlkAAAAAAAPSUQAAAAAAAeIZAAAAAAABQfkAAAAAAAPB3QAAAAAAAUHhAAAAAAADEk0AAAAAAABiXQAAAAAAAIIpAAAAAAABwgUAAAAAAAEB6QAAAAAAAwHlAAAAAAAAQk0AAAAAAABiaQAAAAAAAcI9AAAAAAACwhEAAAAAAAGB/QAAAAAAAQHxAAAAAAACAkkAAAAAAANybQAAAAAAAfJJAAAAAAACIiEAAAAAAAOCBQAAAAAAAeIFAAAAAAAAMlEAAAAAAAFCfQAAAAAAAaJVAAAAAAAB4i0AAAAAAAPiCQAAAAAAAgIVAAAAAAAAYmEAAAAAAAKqgQAAAAAAAJJdAAAAAAADYj0AAAAAAAMCDQAAAAAAAuIZAAAAAAAB4nUAAAAAAACikQAAAAAAAZJtAAAAAAACEkkAAAAAAAFCHQAAAAAAAKItAAAAAAACsokAAAAAAALyoQAAAAAAAgKJAAAAAAADkl0AAAAAAAHiPQAAAAAAA/JBAAAAAAADIo0AAAAAAAAqqQAAAAAAALKVAAAAAAADwm0AAAAAAAPiRQAAAAAAAPJNAAAAAAACapEAAAAAAAEKoQAAAAAAAdKZAAAAAAABQnUAAAAAAAHSTQAAAAAAAVJRAAAAAAABmpEAAAAAAADylQAAAAAAAYqVAAAAAAACsnUAAAAAAAMySQAAAAAAAxJVAAAAAAACapUAAAAAAAOylQAAAAAAA6qRAAAAAAAAKoEAAAAAAAKiTQAAAAAAAiJhA",
          "dtype": "f8"
         },
         "yaxis": "y"
        },
        {
         "hovertemplate": "Utbildningsinriktning=Säkerhetstjänster<br>År=%{x}<br>Antal studerande=%{y}<extra></extra>",
         "legendgroup": "Säkerhetstjänster",
         "line": {
          "color": "#636efa",
          "dash": "solid"
         },
         "marker": {
          "symbol": "circle"
         },
         "mode": "lines",
         "name": "Säkerhetstjänster",
         "showlegend": true,
         "type": "scattergl",
         "x": {
          "bdata": "1QfVB9UH1QfVB9UH1gfWB9YH1gfWB9YH1wfXB9cH1wfXB9cH2AfYB9gH2AfYB9gH2QfZB9kH2QfZB9kH2gfaB9oH2gfaB9oH2wfbB9sH2wfbB9sH3AfcB9wH3AfcB9wH3QfdB90H3QfdB90H3gfeB94H3gfeB94H3wffB98H3wffB98H4AfgB+AH4AfgB+AH4QfhB+EH4QfhB+EH4gfiB+IH4gfiB+IH4wfjB+MH4wfjB+MH5AfkB+QH5AfkB+QH5QflB+UH5QflB+UH5gfmB+YH5gfmB+YH5wfnB+cH5wfnB+cH6AfoB+gH6AfoB+gH",
          "dtype": "i2"
         },
         "xaxis": "x",
         "y": {
          "bdata": "AAAAAADAXEAAAAAAAIBOQAAAAAAAAEZAAAAAAAAAOUAAAAAAAAAgQAAAAAAAACxAAAAAAABAZUAAAAAAAABcQAAAAAAAQFBAAAAAAAAAQkAAAAAAAAAyQAAAAAAAADhAAAAAAADAZ0AAAAAAAGBlQAAAAAAAgFNAAAAAAACATUAAAAAAAABEQAAAAAAAADtAAAAAAAAgakAAAAAAAGBnQAAAAAAAQFdAAAAAAAAAUUAAAAAAAABFQAAAAAAAADtAAAAAAADgZUAAAAAAAABnQAAAAAAAAFZAAAAAAABAVUAAAAAAAABMQAAAAAAAgERAAAAAAADAXEAAAAAAAEBlQAAAAAAAAFhAAAAAAAAAUkAAAAAAAABJQAAAAAAAgERAAAAAAABAWUAAAAAAACBiQAAAAAAAAFVAAAAAAACASEAAAAAAAIBEQAAAAAAAgENAAAAAAAAAV0AAAAAAAIBfQAAAAAAAAE9AAAAAAACAQUAAAAAAAAA5QAAAAAAAAD5AAAAAAADAUUAAAAAAAEBaQAAAAAAAAE1AAAAAAACAQkAAAAAAAAA+QAAAAAAAgEFAAAAAAACARUAAAAAAAMBUQAAAAAAAQFJAAAAAAACATEAAAAAAAIBIQAAAAAAAgEZAAAAAAAAAM0AAAAAAAEBQQAAAAAAAwFdAAAAAAADAUEAAAAAAAABPQAAAAAAAgFFAAAAAAAAAKEAAAAAAAABTQAAAAAAAAFJAAAAAAADAUkAAAAAAAABPQAAAAAAAgFNAAAAAAAAAKEAAAAAAAIBKQAAAAAAAgElAAAAAAAAATUAAAAAAAABEQAAAAAAAgE5AAAAAAAAAM0AAAAAAAABRQAAAAAAAgElAAAAAAACARkAAAAAAAIBCQAAAAAAAAFBAAAAAAAAANkAAAAAAAIBaQAAAAAAAgFFAAAAAAADAUUAAAAAAAIBNQAAAAAAAAFRAAAAAAACAQUAAAAAAAABZQAAAAAAAAFpAAAAAAACAWkAAAAAAAABYQAAAAAAAQGFAAAAAAACAREAAAAAAAMBXQAAAAAAAwFpAAAAAAAAAXkAAAAAAAIBWQAAAAAAAoGFAAAAAAACARkAAAAAAAIBfQAAAAAAAAGNAAAAAAACgY0AAAAAAAMBbQAAAAAAAgGVAAAAAAACASkAAAAAAAABeQAAAAAAAoGZAAAAAAABgZ0AAAAAAAIBdQAAAAAAAwGVAAAAAAACAT0AAAAAAAIBeQAAAAAAAgGRAAAAAAACAZ0AAAAAAAEBcQAAAAAAAgGZA",
          "dtype": "f8"
         },
         "yaxis": "y"
        },
        {
         "hovertemplate": "Utbildningsinriktning=Teknik och tillverkning<br>År=%{x}<br>Antal studerande=%{y}<extra></extra>",
         "legendgroup": "Teknik och tillverkning",
         "line": {
          "color": "#EF553B",
          "dash": "solid"
         },
         "marker": {
          "symbol": "circle"
         },
         "mode": "lines",
         "name": "Teknik och tillverkning",
         "showlegend": true,
         "type": "scattergl",
         "x": {
          "bdata": "1QfVB9UH1QfVB9UH1gfWB9YH1gfWB9YH1wfXB9cH1wfXB9cH2AfYB9gH2AfYB9gH2QfZB9kH2QfZB9kH2gfaB9oH2gfaB9oH2wfbB9sH2wfbB9sH3AfcB9wH3AfcB9wH3QfdB90H3QfdB90H3gfeB94H3gfeB94H3wffB98H3wffB98H4AfgB+AH4AfgB+AH4QfhB+EH4QfhB+EH4gfiB+IH4gfiB+IH4wfjB+MH4wfjB+MH5AfkB+QH5AfkB+QH5QflB+UH5QflB+UH5gfmB+YH5gfmB+YH5wfnB+cH5wfnB+cH6AfoB+gH6AfoB+gH",
          "dtype": "i2"
         },
         "xaxis": "x",
         "y": {
          "bdata": "AAAAAAAwnEAAAAAAAFCGQAAAAAAAAH9AAAAAAADweUAAAAAAABBzQAAAAAAAQGdAAAAAAABkoEAAAAAAAJiIQAAAAAAACIBAAAAAAAAQeUAAAAAAAMByQAAAAAAAYGpAAAAAAAC2okAAAAAAAHiOQAAAAAAAkIBAAAAAAAAQe0AAAAAAAKB1QAAAAAAAIG9AAAAAAAACpUAAAAAAAGyRQAAAAAAA6IJAAAAAAADgfUAAAAAAAIB2QAAAAAAAwHNAAAAAAABGqEAAAAAAAMiUQAAAAAAASIdAAAAAAADogEAAAAAAABB6QAAAAAAAMHdAAAAAAAAaq0AAAAAAAMiWQAAAAAAAmIdAAAAAAAAAg0AAAAAAAJB8QAAAAAAAsHhAAAAAAABkq0AAAAAAACCYQAAAAAAAeIlAAAAAAABAhEAAAAAAADB5QAAAAAAAIHpAAAAAAAAaqUAAAAAAADSXQAAAAAAAYIhAAAAAAAA4gUAAAAAAALB2QAAAAAAAMHVAAAAAAAAoqEAAAAAAAPiZQAAAAAAASItAAAAAAAAQgkAAAAAAALB3QAAAAAAAQHxAAAAAAABkp0AAAAAAAGyaQAAAAAAAAJBAAAAAAAAQhEAAAAAAALB5QAAAAAAAsIFAAAAAAACEpUAAAAAAAGibQAAAAAAAkJBAAAAAAACohkAAAAAAAIB9QAAAAAAAcINAAAAAAACyo0AAAAAAAFycQAAAAAAA/JBAAAAAAAAQh0AAAAAAADB+QAAAAAAAOINAAAAAAADioUAAAAAAADicQAAAAAAARJFAAAAAAABIh0AAAAAAADB/QAAAAAAAMINAAAAAAAAWoUAAAAAAAIyaQAAAAAAANJJAAAAAAAAgh0AAAAAAAHB9QAAAAAAACIJAAAAAAACqoUAAAAAAAHCeQAAAAAAA9JRAAAAAAADIi0AAAAAAACCDQAAAAAAAQIZAAAAAAAC2pUAAAAAAAJKjQAAAAAAArJpAAAAAAAAQkkAAAAAAABCJQAAAAAAAsI5AAAAAAABKqEAAAAAAAKKkQAAAAAAAHKBAAAAAAABMlUAAAAAAAAiOQAAAAAAA3JFAAAAAAABcqEAAAAAAAOijQAAAAAAARqBAAAAAAADElUAAAAAAADCNQAAAAAAARJNAAAAAAADgqEAAAAAAAAikQAAAAAAAnqBAAAAAAACQlkAAAAAAAByQQAAAAAAAPJVAAAAAAAAcrEAAAAAAABSmQAAAAAAA9qJAAAAAAACgmUAAAAAAAPiSQAAAAAAAxJdA",
          "dtype": "f8"
         },
         "yaxis": "y"
        },
        {
         "hovertemplate": "Utbildningsinriktning=Transporttjänster<br>År=%{x}<br>Antal studerande=%{y}<extra></extra>",
         "legendgroup": "Transporttjänster",
         "line": {
          "color": "#00cc96",
          "dash": "solid"
         },
         "marker": {
          "symbol": "circle"
         },
         "mode": "lines",
         "name": "Transporttjänster",
         "showlegend": true,
         "type": "scattergl",
         "x": {
          "bdata": "1QfVB9UH1QfVB9UH1gfWB9YH1gfWB9YH1wfXB9cH1wfXB9cH2AfYB9gH2AfYB9gH2QfZB9kH2QfZB9kH2gfaB9oH2gfaB9oH2wfbB9sH2wfbB9sH3AfcB9wH3AfcB9wH3QfdB90H3QfdB90H3gfeB94H3gfeB94H3wffB98H3wffB98H4AfgB+AH4AfgB+AH4QfhB+EH4QfhB+EH4gfiB+IH4gfiB+IH4wfjB+MH4wfjB+MH5AfkB+QH5AfkB+QH5QflB+UH5QflB+UH5gfmB+YH5gfmB+YH5wfnB+cH5wfnB+cH6AfoB+gH6AfoB+gH",
          "dtype": "i2"
         },
         "xaxis": "x",
         "y": {
          "bdata": "AAAAAACAb0AAAAAAAGBkQAAAAAAAAGJAAAAAAACAXkAAAAAAAMBXQAAAAAAAAEdAAAAAAACgdUAAAAAAACBrQAAAAAAAYGhAAAAAAABAZEAAAAAAAABdQAAAAAAAwFBAAAAAAADQeEAAAAAAACBzQAAAAAAAgGxAAAAAAABgZ0AAAAAAACBhQAAAAAAAAFlAAAAAAABAfUAAAAAAAAB4QAAAAAAAIG1AAAAAAABgakAAAAAAAABlQAAAAAAAQF9AAAAAAADQfkAAAAAAAGB6QAAAAAAAgG5AAAAAAADga0AAAAAAACBmQAAAAAAAAGFAAAAAAABYgUAAAAAAAFB9QAAAAAAA8HFAAAAAAADAbUAAAAAAAKBmQAAAAAAAAGBAAAAAAABQgUAAAAAAADB+QAAAAAAA0HFAAAAAAABAbUAAAAAAAOBkQAAAAAAAQF5AAAAAAABQekAAAAAAAKB6QAAAAAAAgG1AAAAAAABgZUAAAAAAAABeQAAAAAAAQFxAAAAAAACAdEAAAAAAAEBzQAAAAAAA4GZAAAAAAADAX0AAAAAAAABVQAAAAAAAgFVAAAAAAADgcUAAAAAAAMBwQAAAAAAAoGJAAAAAAABAVkAAAAAAAEBUQAAAAAAAAFFAAAAAAABQdEAAAAAAABB2QAAAAAAAIGlAAAAAAADAYEAAAAAAAIBZQAAAAAAAwFJAAAAAAAAgeEAAAAAAAAB/QAAAAAAAIHBAAAAAAABgZEAAAAAAAABfQAAAAAAAQF1AAAAAAABAe0AAAAAAAFiBQAAAAAAAIHRAAAAAAABgbEAAAAAAAOBiQAAAAAAA4GNAAAAAAADQdkAAAAAAAPB+QAAAAAAAgHRAAAAAAABgbUAAAAAAAGBiQAAAAAAAYGZAAAAAAAAgdkAAAAAAAPB7QAAAAAAAwHRAAAAAAABAakAAAAAAAEBeQAAAAAAAIGpAAAAAAADgeEAAAAAAABB+QAAAAAAAYHRAAAAAAAAAaEAAAAAAAOBgQAAAAAAAIGxAAAAAAACAdkAAAAAAAGB6QAAAAAAA8HFAAAAAAADAZUAAAAAAAEBcQAAAAAAAIGtAAAAAAADQdkAAAAAAAKB2QAAAAAAA8HBAAAAAAAAAZEAAAAAAAEBeQAAAAAAAYGpAAAAAAACQekAAAAAAACB2QAAAAAAA4HFAAAAAAADAZ0AAAAAAAGBgQAAAAAAAAG1AAAAAAACweUAAAAAAAGB1QAAAAAAAsHJAAAAAAAAAaUAAAAAAAOBhQAAAAAAAgHJA",
          "dtype": "f8"
         },
         "yaxis": "y"
        },
        {
         "hovertemplate": "Utbildningsinriktning=Juridik<br>År=%{x}<br>Antal studerande=%{y}<extra></extra>",
         "legendgroup": "Juridik",
         "line": {
          "color": "#ab63fa",
          "dash": "solid"
         },
         "marker": {
          "symbol": "circle"
         },
         "mode": "lines",
         "name": "Juridik",
         "showlegend": true,
         "type": "scattergl",
         "x": {
          "bdata": "1gfWB9YH1gfWB9YH1wfXB9cH1wfXB9cH2AfYB9gH2AfYB9gH2QfZB9kH2QfZB9kH2gfaB9oH2gfaB9oH2wfbB9sH2wfbB9sH3AfcB9wH3AfcB9wH3QfdB90H3QfdB90H3gfeB94H3gfeB94H3wffB98H3wffB98H4AfgB+AH4AfgB+AH4QfhB+EH4QfhB+EH4gfiB+IH4gfiB+IH4wfjB+MH4wfjB+MH5AfkB+QH5AfkB+QH5QflB+UH5QflB+UH5gfmB+YH5gfmB+YH5wfnB+cH5wfnB+cH6AfoB+gH6AfoB+gH",
          "dtype": "i2"
         },
         "xaxis": "x",
         "y": {
          "bdata": "AAAAAAAAOkAAAAAAAAAqQAAAAAAAABhAAAAAAAAAHEAAAAAAAAAIQAAAAAAAABhAAAAAAACARUAAAAAAAABBQAAAAAAAADJAAAAAAAAAJkAAAAAAAAAkQAAAAAAAABhAAAAAAACARUAAAAAAAABJQAAAAAAAAD9AAAAAAAAALEAAAAAAAAAsQAAAAAAAABRAAAAAAACAQUAAAAAAAIBQQAAAAAAAADxAAAAAAAAAM0AAAAAAAAAqQAAAAAAAABhAAAAAAACAREAAAAAAAABLQAAAAAAAAD5AAAAAAAAAOEAAAAAAAAAwQAAAAAAAACBAAAAAAAAASUAAAAAAAABKQAAAAAAAAD1AAAAAAAAAOkAAAAAAAAAmQAAAAAAAABxAAAAAAAAAUEAAAAAAAMBQQAAAAAAAAE1AAAAAAAAAOkAAAAAAAAA2QAAAAAAAABRAAAAAAACATEAAAAAAAEBYQAAAAAAAQFBAAAAAAAAAQEAAAAAAAAAzQAAAAAAAACRAAAAAAAAAQkAAAAAAAMBYQAAAAAAAAFNAAAAAAAAAQkAAAAAAAAA0QAAAAAAAADFAAAAAAAAAR0AAAAAAAIBaQAAAAAAAAFJAAAAAAACAQkAAAAAAAAA/QAAAAAAAADFAAAAAAACAS0AAAAAAAMBYQAAAAAAAwFNAAAAAAACARUAAAAAAAABBQAAAAAAAADpAAAAAAAAAUEAAAAAAAABgQAAAAAAAgFZAAAAAAACARkAAAAAAAIBEQAAAAAAAAEZAAAAAAABAWEAAAAAAAMBcQAAAAAAAgFZAAAAAAACAS0AAAAAAAABIQAAAAAAAgEBAAAAAAACAX0AAAAAAAABaQAAAAAAAAFdAAAAAAAAARUAAAAAAAABMQAAAAAAAAD9AAAAAAABgYkAAAAAAAIBdQAAAAAAAgFRAAAAAAAAASUAAAAAAAABFQAAAAAAAgEZAAAAAAAAgYUAAAAAAAABaQAAAAAAAAFVAAAAAAAAATUAAAAAAAABDQAAAAAAAwFBAAAAAAACAW0AAAAAAAMBVQAAAAAAAgFJAAAAAAACASEAAAAAAAABBQAAAAAAAAE9AAAAAAABAWkAAAAAAAABTQAAAAAAAgEtAAAAAAACAQ0AAAAAAAAA9QAAAAAAAAEVAAAAAAADAWUAAAAAAAIBVQAAAAAAAgElAAAAAAACAQkAAAAAAAAA/QAAAAAAAAENA",
          "dtype": "f8"
         },
         "yaxis": "y"
        }
       ],
       "layout": {
        "annotations": [
         {
          "arrowcolor": "royalblue",
          "arrowhead": 3,
          "ax": 0,
          "ay": -50,
          "bgcolor": "white",
          "bordercolor": "royalblue",
          "borderwidth": 1,
          "font": {
           "color": "royalblue",
           "family": "Arial",
           "size": 13
          },
          "showarrow": true,
          "text": "Stadig ökning i 20 år",
          "x": 2010,
          "y": 5357
         }
        ],
        "legend": {
         "title": {
          "text": "Utbildningsinriktning"
         },
         "tracegroupgap": 0
        },
        "paper_bgcolor": "white",
        "plot_bgcolor": "white",
        "showlegend": true,
        "template": {
         "data": {
          "bar": [
           {
            "error_x": {
             "color": "#2a3f5f"
            },
            "error_y": {
             "color": "#2a3f5f"
            },
            "marker": {
             "line": {
              "color": "#E5ECF6",
              "width": 0.5
             },
             "pattern": {
              "fillmode": "overlay",
              "size": 10,
              "solidity": 0.2
             }
            },
            "type": "bar"
           }
          ],
          "barpolar": [
           {
            "marker": {
             "line": {
              "color": "#E5ECF6",
              "width": 0.5
             },
             "pattern": {
              "fillmode": "overlay",
              "size": 10,
              "solidity": 0.2
             }
            },
            "type": "barpolar"
           }
          ],
          "carpet": [
           {
            "aaxis": {
             "endlinecolor": "#2a3f5f",
             "gridcolor": "white",
             "linecolor": "white",
             "minorgridcolor": "white",
             "startlinecolor": "#2a3f5f"
            },
            "baxis": {
             "endlinecolor": "#2a3f5f",
             "gridcolor": "white",
             "linecolor": "white",
             "minorgridcolor": "white",
             "startlinecolor": "#2a3f5f"
            },
            "type": "carpet"
           }
          ],
          "choropleth": [
           {
            "colorbar": {
             "outlinewidth": 0,
             "ticks": ""
            },
            "type": "choropleth"
           }
          ],
          "contour": [
           {
            "colorbar": {
             "outlinewidth": 0,
             "ticks": ""
            },
            "colorscale": [
             [
              0,
              "#0d0887"
             ],
             [
              0.1111111111111111,
              "#46039f"
             ],
             [
              0.2222222222222222,
              "#7201a8"
             ],
             [
              0.3333333333333333,
              "#9c179e"
             ],
             [
              0.4444444444444444,
              "#bd3786"
             ],
             [
              0.5555555555555556,
              "#d8576b"
             ],
             [
              0.6666666666666666,
              "#ed7953"
             ],
             [
              0.7777777777777778,
              "#fb9f3a"
             ],
             [
              0.8888888888888888,
              "#fdca26"
             ],
             [
              1,
              "#f0f921"
             ]
            ],
            "type": "contour"
           }
          ],
          "contourcarpet": [
           {
            "colorbar": {
             "outlinewidth": 0,
             "ticks": ""
            },
            "type": "contourcarpet"
           }
          ],
          "heatmap": [
           {
            "colorbar": {
             "outlinewidth": 0,
             "ticks": ""
            },
            "colorscale": [
             [
              0,
              "#0d0887"
             ],
             [
              0.1111111111111111,
              "#46039f"
             ],
             [
              0.2222222222222222,
              "#7201a8"
             ],
             [
              0.3333333333333333,
              "#9c179e"
             ],
             [
              0.4444444444444444,
              "#bd3786"
             ],
             [
              0.5555555555555556,
              "#d8576b"
             ],
             [
              0.6666666666666666,
              "#ed7953"
             ],
             [
              0.7777777777777778,
              "#fb9f3a"
             ],
             [
              0.8888888888888888,
              "#fdca26"
             ],
             [
              1,
              "#f0f921"
             ]
            ],
            "type": "heatmap"
           }
          ],
          "histogram": [
           {
            "marker": {
             "pattern": {
              "fillmode": "overlay",
              "size": 10,
              "solidity": 0.2
             }
            },
            "type": "histogram"
           }
          ],
          "histogram2d": [
           {
            "colorbar": {
             "outlinewidth": 0,
             "ticks": ""
            },
            "colorscale": [
             [
              0,
              "#0d0887"
             ],
             [
              0.1111111111111111,
              "#46039f"
             ],
             [
              0.2222222222222222,
              "#7201a8"
             ],
             [
              0.3333333333333333,
              "#9c179e"
             ],
             [
              0.4444444444444444,
              "#bd3786"
             ],
             [
              0.5555555555555556,
              "#d8576b"
             ],
             [
              0.6666666666666666,
              "#ed7953"
             ],
             [
              0.7777777777777778,
              "#fb9f3a"
             ],
             [
              0.8888888888888888,
              "#fdca26"
             ],
             [
              1,
              "#f0f921"
             ]
            ],
            "type": "histogram2d"
           }
          ],
          "histogram2dcontour": [
           {
            "colorbar": {
             "outlinewidth": 0,
             "ticks": ""
            },
            "colorscale": [
             [
              0,
              "#0d0887"
             ],
             [
              0.1111111111111111,
              "#46039f"
             ],
             [
              0.2222222222222222,
              "#7201a8"
             ],
             [
              0.3333333333333333,
              "#9c179e"
             ],
             [
              0.4444444444444444,
              "#bd3786"
             ],
             [
              0.5555555555555556,
              "#d8576b"
             ],
             [
              0.6666666666666666,
              "#ed7953"
             ],
             [
              0.7777777777777778,
              "#fb9f3a"
             ],
             [
              0.8888888888888888,
              "#fdca26"
             ],
             [
              1,
              "#f0f921"
             ]
            ],
            "type": "histogram2dcontour"
           }
          ],
          "mesh3d": [
           {
            "colorbar": {
             "outlinewidth": 0,
             "ticks": ""
            },
            "type": "mesh3d"
           }
          ],
          "parcoords": [
           {
            "line": {
             "colorbar": {
              "outlinewidth": 0,
              "ticks": ""
             }
            },
            "type": "parcoords"
           }
          ],
          "pie": [
           {
            "automargin": true,
            "type": "pie"
           }
          ],
          "scatter": [
           {
            "fillpattern": {
             "fillmode": "overlay",
             "size": 10,
             "solidity": 0.2
            },
            "type": "scatter"
           }
          ],
          "scatter3d": [
           {
            "line": {
             "colorbar": {
              "outlinewidth": 0,
              "ticks": ""
             }
            },
            "marker": {
             "colorbar": {
              "outlinewidth": 0,
              "ticks": ""
             }
            },
            "type": "scatter3d"
           }
          ],
          "scattercarpet": [
           {
            "marker": {
             "colorbar": {
              "outlinewidth": 0,
              "ticks": ""
             }
            },
            "type": "scattercarpet"
           }
          ],
          "scattergeo": [
           {
            "marker": {
             "colorbar": {
              "outlinewidth": 0,
              "ticks": ""
             }
            },
            "type": "scattergeo"
           }
          ],
          "scattergl": [
           {
            "marker": {
             "colorbar": {
              "outlinewidth": 0,
              "ticks": ""
             }
            },
            "type": "scattergl"
           }
          ],
          "scattermap": [
           {
            "marker": {
             "colorbar": {
              "outlinewidth": 0,
              "ticks": ""
             }
            },
            "type": "scattermap"
           }
          ],
          "scattermapbox": [
           {
            "marker": {
             "colorbar": {
              "outlinewidth": 0,
              "ticks": ""
             }
            },
            "type": "scattermapbox"
           }
          ],
          "scatterpolar": [
           {
            "marker": {
             "colorbar": {
              "outlinewidth": 0,
              "ticks": ""
             }
            },
            "type": "scatterpolar"
           }
          ],
          "scatterpolargl": [
           {
            "marker": {
             "colorbar": {
              "outlinewidth": 0,
              "ticks": ""
             }
            },
            "type": "scatterpolargl"
           }
          ],
          "scatterternary": [
           {
            "marker": {
             "colorbar": {
              "outlinewidth": 0,
              "ticks": ""
             }
            },
            "type": "scatterternary"
           }
          ],
          "surface": [
           {
            "colorbar": {
             "outlinewidth": 0,
             "ticks": ""
            },
            "colorscale": [
             [
              0,
              "#0d0887"
             ],
             [
              0.1111111111111111,
              "#46039f"
             ],
             [
              0.2222222222222222,
              "#7201a8"
             ],
             [
              0.3333333333333333,
              "#9c179e"
             ],
             [
              0.4444444444444444,
              "#bd3786"
             ],
             [
              0.5555555555555556,
              "#d8576b"
             ],
             [
              0.6666666666666666,
              "#ed7953"
             ],
             [
              0.7777777777777778,
              "#fb9f3a"
             ],
             [
              0.8888888888888888,
              "#fdca26"
             ],
             [
              1,
              "#f0f921"
             ]
            ],
            "type": "surface"
           }
          ],
          "table": [
           {
            "cells": {
             "fill": {
              "color": "#EBF0F8"
             },
             "line": {
              "color": "white"
             }
            },
            "header": {
             "fill": {
              "color": "#C8D4E3"
             },
             "line": {
              "color": "white"
             }
            },
            "type": "table"
           }
          ]
         },
         "layout": {
          "annotationdefaults": {
           "arrowcolor": "#2a3f5f",
           "arrowhead": 0,
           "arrowwidth": 1
          },
          "autotypenumbers": "strict",
          "coloraxis": {
           "colorbar": {
            "outlinewidth": 0,
            "ticks": ""
           }
          },
          "colorscale": {
           "diverging": [
            [
             0,
             "#8e0152"
            ],
            [
             0.1,
             "#c51b7d"
            ],
            [
             0.2,
             "#de77ae"
            ],
            [
             0.3,
             "#f1b6da"
            ],
            [
             0.4,
             "#fde0ef"
            ],
            [
             0.5,
             "#f7f7f7"
            ],
            [
             0.6,
             "#e6f5d0"
            ],
            [
             0.7,
             "#b8e186"
            ],
            [
             0.8,
             "#7fbc41"
            ],
            [
             0.9,
             "#4d9221"
            ],
            [
             1,
             "#276419"
            ]
           ],
           "sequential": [
            [
             0,
             "#0d0887"
            ],
            [
             0.1111111111111111,
             "#46039f"
            ],
            [
             0.2222222222222222,
             "#7201a8"
            ],
            [
             0.3333333333333333,
             "#9c179e"
            ],
            [
             0.4444444444444444,
             "#bd3786"
            ],
            [
             0.5555555555555556,
             "#d8576b"
            ],
            [
             0.6666666666666666,
             "#ed7953"
            ],
            [
             0.7777777777777778,
             "#fb9f3a"
            ],
            [
             0.8888888888888888,
             "#fdca26"
            ],
            [
             1,
             "#f0f921"
            ]
           ],
           "sequentialminus": [
            [
             0,
             "#0d0887"
            ],
            [
             0.1111111111111111,
             "#46039f"
            ],
            [
             0.2222222222222222,
             "#7201a8"
            ],
            [
             0.3333333333333333,
             "#9c179e"
            ],
            [
             0.4444444444444444,
             "#bd3786"
            ],
            [
             0.5555555555555556,
             "#d8576b"
            ],
            [
             0.6666666666666666,
             "#ed7953"
            ],
            [
             0.7777777777777778,
             "#fb9f3a"
            ],
            [
             0.8888888888888888,
             "#fdca26"
            ],
            [
             1,
             "#f0f921"
            ]
           ]
          },
          "colorway": [
           "#636efa",
           "#EF553B",
           "#00cc96",
           "#ab63fa",
           "#FFA15A",
           "#19d3f3",
           "#FF6692",
           "#B6E880",
           "#FF97FF",
           "#FECB52"
          ],
          "font": {
           "color": "#2a3f5f"
          },
          "geo": {
           "bgcolor": "white",
           "lakecolor": "white",
           "landcolor": "#E5ECF6",
           "showlakes": true,
           "showland": true,
           "subunitcolor": "white"
          },
          "hoverlabel": {
           "align": "left"
          },
          "hovermode": "closest",
          "mapbox": {
           "style": "light"
          },
          "paper_bgcolor": "white",
          "plot_bgcolor": "#E5ECF6",
          "polar": {
           "angularaxis": {
            "gridcolor": "white",
            "linecolor": "white",
            "ticks": ""
           },
           "bgcolor": "#E5ECF6",
           "radialaxis": {
            "gridcolor": "white",
            "linecolor": "white",
            "ticks": ""
           }
          },
          "scene": {
           "xaxis": {
            "backgroundcolor": "#E5ECF6",
            "gridcolor": "white",
            "gridwidth": 2,
            "linecolor": "white",
            "showbackground": true,
            "ticks": "",
            "zerolinecolor": "white"
           },
           "yaxis": {
            "backgroundcolor": "#E5ECF6",
            "gridcolor": "white",
            "gridwidth": 2,
            "linecolor": "white",
            "showbackground": true,
            "ticks": "",
            "zerolinecolor": "white"
           },
           "zaxis": {
            "backgroundcolor": "#E5ECF6",
            "gridcolor": "white",
            "gridwidth": 2,
            "linecolor": "white",
            "showbackground": true,
            "ticks": "",
            "zerolinecolor": "white"
           }
          },
          "shapedefaults": {
           "line": {
            "color": "#2a3f5f"
           }
          },
          "ternary": {
           "aaxis": {
            "gridcolor": "white",
            "linecolor": "white",
            "ticks": ""
           },
           "baxis": {
            "gridcolor": "white",
            "linecolor": "white",
            "ticks": ""
           },
           "bgcolor": "#E5ECF6",
           "caxis": {
            "gridcolor": "white",
            "linecolor": "white",
            "ticks": ""
           }
          },
          "title": {
           "x": 0.05
          },
          "xaxis": {
           "automargin": true,
           "gridcolor": "white",
           "linecolor": "white",
           "ticks": "",
           "title": {
            "standoff": 15
           },
           "zerolinecolor": "white",
           "zerolinewidth": 2
          },
          "yaxis": {
           "automargin": true,
           "gridcolor": "white",
           "linecolor": "white",
           "ticks": "",
           "title": {
            "standoff": 15
           },
           "zerolinecolor": "white",
           "zerolinewidth": 2
          }
         }
        },
        "title": {
         "text": "Störst och växande: Ekonomi och försäljning i topp bland utbildningsområden"
        },
        "xaxis": {
         "anchor": "y",
         "domain": [
          0,
          1
         ],
         "title": {
          "text": "År"
         }
        },
        "yaxis": {
         "anchor": "x",
         "domain": [
          0,
          1
         ],
         "title": {
          "text": "Antal studerande"
         }
        }
       }
      }
     },
     "metadata": {},
     "output_type": "display_data"
    }
   ],
   "source": [
    "import plotly.express as px\n",
    "\n",
    "fig = px.line(\n",
    "    df_long,\n",
    "    x=\"År\",\n",
    "    y=\"Antal studerande\",\n",
    "    color=\"Utbildningsinriktning\",\n",
    "    title=\"Störst och växande: Ekonomi och försäljning i topp bland utbildningsområden\",\n",
    "    labels={\"Antal studerande\": \"Antal studerande\", \"År\": \"År\"},\n",
    ")\n",
    "\n",
    "# Ta bort prickar i linjerna\n",
    "fig.for_each_trace(lambda t: t.update(mode='lines'))\n",
    "\n",
    "# Lägg till annotation om du vill\n",
    "fig.add_annotation(\n",
    "    x=2010,\n",
    "    y=df_long[df_long[\"År\"] == 2010][\"Antal studerande\"].max() + 1000,\n",
    "    text=\"Stadig ökning i 20 år\",\n",
    "    showarrow=True,\n",
    "    arrowhead=3,\n",
    "    arrowcolor=\"royalblue\",\n",
    "    ax=0,\n",
    "    ay=-50,\n",
    "    font=dict(color=\"royalblue\", size=13, family=\"Arial\"),\n",
    "    bgcolor=\"white\",\n",
    "    bordercolor=\"royalblue\",\n",
    "    borderwidth=1\n",
    ")\n",
    "\n",
    "fig.update_layout(\n",
    "    legend_title_text=\"Utbildningsinriktning\",\n",
    "    plot_bgcolor=\"white\",\n",
    "    paper_bgcolor=\"white\",\n",
    "    showlegend=True\n",
    ")\n",
    "\n",
    "fig.show()\n"
   ]
  },
  {
   "cell_type": "code",
   "execution_count": null,
   "id": "c3be28ef",
   "metadata": {},
   "outputs": [
    {
     "data": {
      "application/vnd.plotly.v1+json": {
       "config": {
        "plotlyServerURL": "https://plot.ly"
       },
       "data": [
        {
         "hovertemplate": "Utbildningsinriktning=Data/It<br>År=%{x}<br>Antal studerande=%{y}<extra></extra>",
         "legendgroup": "Data/It",
         "line": {
          "color": "lightgray",
          "dash": "solid",
          "width": 1
         },
         "marker": {
          "symbol": "circle"
         },
         "mode": "lines",
         "name": "Data/It",
         "showlegend": true,
         "type": "scattergl",
         "x": {
          "bdata": "1QfVB9UH1QfVB9UH1gfWB9YH1gfWB9YH1wfXB9cH1wfXB9cH2AfYB9gH2AfYB9gH2QfZB9kH2QfZB9kH2gfaB9oH2gfaB9oH2wfbB9sH2wfbB9sH3AfcB9wH3AfcB9wH3QfdB90H3QfdB90H3gfeB94H3gfeB94H3wffB98H3wffB98H4AfgB+AH4AfgB+AH4QfhB+EH4QfhB+EH4gfiB+IH4gfiB+IH4wfjB+MH4wfjB+MH5AfkB+QH5AfkB+QH5QflB+UH5QflB+UH5gfmB+YH5gfmB+YH5wfnB+cH5wfnB+cH6AfoB+gH6AfoB+gH",
          "dtype": "i2"
         },
         "xaxis": "x",
         "y": {
          "bdata": "AAAAAAAElEAAAAAAAECCQAAAAAAAQHNAAAAAAADAaEAAAAAAACBhQAAAAAAAwFNAAAAAAADAlEAAAAAAAGiAQAAAAAAAIHNAAAAAAACgZUAAAAAAAABdQAAAAAAAgFhAAAAAAABUlkAAAAAAADCDQAAAAAAAAHNAAAAAAADgaEAAAAAAAABhQAAAAAAAwFxAAAAAAABklUAAAAAAAIiEQAAAAAAA0HNAAAAAAABAakAAAAAAAABiQAAAAAAAAF5AAAAAAADgk0AAAAAAACCHQAAAAAAAAHZAAAAAAACAa0AAAAAAAEBiQAAAAAAAwF9AAAAAAAAIk0AAAAAAAMCHQAAAAAAAEHhAAAAAAAAAbkAAAAAAAGBjQAAAAAAAIGJAAAAAAAC8lEAAAAAAAMiJQAAAAAAAwHtAAAAAAAAQcEAAAAAAAABjQAAAAAAAYGNAAAAAAAB4lUAAAAAAABCMQAAAAAAAIH9AAAAAAAAwckAAAAAAAABlQAAAAAAAIGVAAAAAAABAl0AAAAAAAOSQQAAAAAAAyINAAAAAAACQdkAAAAAAAGBvQAAAAAAAAG5AAAAAAABMmUAAAAAAAGSVQAAAAAAAuIhAAAAAAACwfUAAAAAAAOBzQAAAAAAA0HZAAAAAAAAom0AAAAAAAPCYQAAAAAAAoI9AAAAAAADAg0AAAAAAAEB3QAAAAAAA4HxAAAAAAADsl0AAAAAAAAiaQAAAAAAADJNAAAAAAADIh0AAAAAAANB8QAAAAAAACIFAAAAAAAC4lkAAAAAAAEyaQAAAAAAAJJRAAAAAAADwiEAAAAAAAFB8QAAAAAAAqIBAAAAAAAAQlkAAAAAAAOCZQAAAAAAA+JJAAAAAAADQhUAAAAAAALB1QAAAAAAAkHdAAAAAAACsm0AAAAAAADygQAAAAAAAxJdAAAAAAABAjEAAAAAAAEB8QAAAAAAAgHZAAAAAAAAkokAAAAAAADSnQAAAAAAAvKJAAAAAAABAlUAAAAAAALiFQAAAAAAA0IBAAAAAAAC8pUAAAAAAAGKrQAAAAAAA5KdAAAAAAADMm0AAAAAAAKCOQAAAAAAAYIdAAAAAAAC2qEAAAAAAANytQAAAAAAAyKpAAAAAAAB4n0AAAAAAAPiOQAAAAAAAKIpAAAAAAAA0qkAAAAAAAJ6vQAAAAAAAZKxAAAAAAAAKoUAAAAAAAByRQAAAAAAAmIpAAAAAAAA6rEAAAAAAAMGwQAAAAAAAuK5AAAAAAACao0AAAAAAALCSQAAAAAAAYIxA",
          "dtype": "f8"
         },
         "yaxis": "y"
        },
        {
         "hovertemplate": "Utbildningsinriktning=Ekonomi, administration och försäljning<br>År=%{x}<br>Antal studerande=%{y}<extra></extra>",
         "legendgroup": "Ekonomi, administration och försäljning",
         "line": {
          "color": "royalblue",
          "dash": "solid",
          "width": 3
         },
         "marker": {
          "symbol": "circle"
         },
         "mode": "lines",
         "name": "Ekonomi, administration och försäljning",
         "showlegend": true,
         "type": "scattergl",
         "x": {
          "bdata": "1QfVB9UH1QfVB9UH1gfWB9YH1gfWB9YH1wfXB9cH1wfXB9cH2AfYB9gH2AfYB9gH2QfZB9kH2QfZB9kH2gfaB9oH2gfaB9oH2wfbB9sH2wfbB9sH3AfcB9wH3AfcB9wH3QfdB90H3QfdB90H3gfeB94H3gfeB94H3wffB98H3wffB98H4AfgB+AH4AfgB+AH4QfhB+EH4QfhB+EH4gfiB+IH4gfiB+IH4wfjB+MH4wfjB+MH5AfkB+QH5AfkB+QH5QflB+UH5QflB+UH5gfmB+YH5gfmB+YH5wfnB+cH5wfnB+cH6AfoB+gH6AfoB+gH",
          "dtype": "i2"
         },
         "xaxis": "x",
         "y": {
          "bdata": "AAAAAAAaoUAAAAAAAACYQAAAAAAAuIxAAAAAAADYhkAAAAAAAFCAQAAAAAAAUHVAAAAAAABmpUAAAAAAAFicQAAAAAAAfJBAAAAAAAB4jEAAAAAAADiDQAAAAAAAAHxAAAAAAADQqUAAAAAAACKgQAAAAAAAjJFAAAAAAABAj0AAAAAAAKCHQAAAAAAAcIFAAAAAAAAQrkAAAAAAAD6jQAAAAAAAGJRAAAAAAABkkUAAAAAAAACLQAAAAAAAiIVAAAAAAACAsEAAAAAAAAqmQAAAAAAAnJZAAAAAAACokkAAAAAAAHiKQAAAAAAAgIdAAAAAAAAFsUAAAAAAAPSnQAAAAAAAwJhAAAAAAABkk0AAAAAAAKiLQAAAAAAAIIhAAAAAAAB4sEAAAAAAAJSpQAAAAAAAlJpAAAAAAAAclEAAAAAAANiMQAAAAAAAUIhAAAAAAAAGr0AAAAAAAPypQAAAAAAAWJtAAAAAAAAUk0AAAAAAAGiLQAAAAAAACIlAAAAAAABWrkAAAAAAAHSrQAAAAAAAoJxAAAAAAACEk0AAAAAAAFiMQAAAAAAAIItAAAAAAADyq0AAAAAAAC6sQAAAAAAAPJ9AAAAAAADgk0AAAAAAAJiMQAAAAAAAyItAAAAAAAA8pkAAAAAAAIKsQAAAAAAAFJ9AAAAAAABIlUAAAAAAAMCMQAAAAAAAMIxAAAAAAADookAAAAAAABasQAAAAAAATqBAAAAAAACUlkAAAAAAAFiOQAAAAAAAiI9AAAAAAACsokAAAAAAAO6sQAAAAAAAFKJAAAAAAACkmEAAAAAAAPCQQAAAAAAAlJFAAAAAAAAgpkAAAAAAAA2wQAAAAAAAgKRAAAAAAACEm0AAAAAAAGiSQAAAAAAANJRAAAAAAACQq0AAAAAAAK+xQAAAAAAA8qdAAAAAAADUn0AAAAAAAKyUQAAAAAAAqJdAAAAAAAAysEAAAAAAABu0QAAAAAAAnqxAAAAAAAAYo0AAAAAAANCVQAAAAAAAfJpAAAAAAABFsEAAAAAAAHCzQAAAAAAAGK1AAAAAAADao0AAAAAAACCXQAAAAAAA2JlAAAAAAAA7sEAAAAAAAHqyQAAAAAAAAqxAAAAAAABEo0AAAAAAAOCVQAAAAAAAKJdAAAAAAAAKsEAAAAAAABKxQAAAAAAAQKtAAAAAAADiokAAAAAAAMyVQAAAAAAAqJhAAAAAAACDsEAAAAAAAGmwQAAAAAAAPKpAAAAAAACCokAAAAAAAGiWQAAAAAAA/JtA",
          "dtype": "f8"
         },
         "yaxis": "y"
        },
        {
         "hovertemplate": "Utbildningsinriktning=Friskvård och kroppsvård<br>År=%{x}<br>Antal studerande=%{y}<extra></extra>",
         "legendgroup": "Friskvård och kroppsvård",
         "line": {
          "color": "lightgray",
          "dash": "solid",
          "width": 1
         },
         "marker": {
          "symbol": "circle"
         },
         "mode": "lines",
         "name": "Friskvård och kroppsvård",
         "showlegend": true,
         "type": "scattergl",
         "x": {
          "bdata": "1QfVB9UH1QfVB9UH1gfWB9YH1gfWB9YH1wfXB9cH1wfXB9cH2AfYB9gH2AfYB9gH2QfZB9kH2QfZB9kH2gfaB9oH2gfaB9oH2wfbB9sH2wfbB9sH3AfcB9wH3AfcB9wH3QfdB90H3QfdB90H3gfeB94H3gfeB94H3wffB98H3wffB98H4AfgB+AH4AfgB+AH4QfhB+EH4QfhB+EH4gfiB+IH4gfiB+IH4wfjB+MH4wfjB+MH5AfkB+QH5AfkB+QH5QflB+UH5QflB+UH5gfmB+YH5gfmB+YH5wfnB+cH5wfnB+cH6AfoB+gH6AfoB+gH",
          "dtype": "i2"
         },
         "xaxis": "x",
         "y": {
          "bdata": "AAAAAAAAZUAAAAAAAIBeQAAAAAAAAExAAAAAAACASEAAAAAAAABLQAAAAAAAAEBAAAAAAADwcEAAAAAAAKBnQAAAAAAAwFVAAAAAAADAVUAAAAAAAABIQAAAAAAAAExAAAAAAABAdkAAAAAAAOBqQAAAAAAAAFdAAAAAAACAWUAAAAAAAABKQAAAAAAAgFBAAAAAAADQeUAAAAAAAABvQAAAAAAAwFdAAAAAAAAAVEAAAAAAAIBPQAAAAAAAgFdAAAAAAACweUAAAAAAAIBwQAAAAAAAwFZAAAAAAAAAVUAAAAAAAIBPQAAAAAAAAFhAAAAAAACQd0AAAAAAAEBrQAAAAAAAAFNAAAAAAACAUEAAAAAAAIBKQAAAAAAAwFBAAAAAAAAgcUAAAAAAAMBjQAAAAAAAgEpAAAAAAAAAQ0AAAAAAAABBQAAAAAAAAEFAAAAAAADgZkAAAAAAAABdQAAAAAAAADtAAAAAAAAAM0AAAAAAAAA0QAAAAAAAABhAAAAAAADAZUAAAAAAAABaQAAAAAAAgEFAAAAAAAAAM0AAAAAAAAAyQAAAAAAAACpAAAAAAACAYkAAAAAAAMBYQAAAAAAAADxAAAAAAAAAMkAAAAAAAAA1QAAAAAAAADBAAAAAAABAYUAAAAAAAABZQAAAAAAAAEdAAAAAAAAAOkAAAAAAAAAyQAAAAAAAADhAAAAAAADAWkAAAAAAAMBVQAAAAAAAgENAAAAAAAAAPkAAAAAAAAAyQAAAAAAAADZAAAAAAACAUUAAAAAAAEBXQAAAAAAAADhAAAAAAAAAMEAAAAAAAAAwQAAAAAAAADNAAAAAAADAUUAAAAAAAEBXQAAAAAAAADdAAAAAAAAAJkAAAAAAAAAmQAAAAAAAADZAAAAAAABAVkAAAAAAAMBcQAAAAAAAAEBAAAAAAAAAN0AAAAAAAAAwQAAAAAAAADtAAAAAAADAWEAAAAAAAABcQAAAAAAAAEpAAAAAAAAAPkAAAAAAAAAxQAAAAAAAADlAAAAAAADAXEAAAAAAAMBfQAAAAAAAgExAAAAAAAAAOEAAAAAAAAA2QAAAAAAAADtAAAAAAABAXUAAAAAAAGBhQAAAAAAAAFFAAAAAAAAAP0AAAAAAAAA1QAAAAAAAAEBAAAAAAAAAYEAAAAAAAMBgQAAAAAAAQFNAAAAAAAAARkAAAAAAAAA9QAAAAAAAAEhAAAAAAADAWUAAAAAAAABVQAAAAAAAwFBAAAAAAACAQ0AAAAAAAAA5QAAAAAAAAEhA",
          "dtype": "f8"
         },
         "yaxis": "y"
        },
        {
         "hovertemplate": "Utbildningsinriktning=Hotell, restaurang och turism<br>År=%{x}<br>Antal studerande=%{y}<extra></extra>",
         "legendgroup": "Hotell, restaurang och turism",
         "line": {
          "color": "lightgray",
          "dash": "solid",
          "width": 1
         },
         "marker": {
          "symbol": "circle"
         },
         "mode": "lines",
         "name": "Hotell, restaurang och turism",
         "showlegend": true,
         "type": "scattergl",
         "x": {
          "bdata": "1QfVB9UH1QfVB9UH1gfWB9YH1gfWB9YH1wfXB9cH1wfXB9cH2AfYB9gH2AfYB9gH2QfZB9kH2QfZB9kH2gfaB9oH2gfaB9oH2wfbB9sH2wfbB9sH3AfcB9wH3AfcB9wH3QfdB90H3QfdB90H3gfeB94H3gfeB94H3wffB98H3wffB98H4AfgB+AH4AfgB+AH4QfhB+EH4QfhB+EH4gfiB+IH4gfiB+IH4wfjB+MH4wfjB+MH5AfkB+QH5AfkB+QH5QflB+UH5QflB+UH5gfmB+YH5gfmB+YH5wfnB+cH5wfnB+cH6AfoB+gH6AfoB+gH",
          "dtype": "i2"
         },
         "xaxis": "x",
         "y": {
          "bdata": "AAAAAAAMkUAAAAAAANiCQAAAAAAAIG9AAAAAAACgYEAAAAAAAEBVQAAAAAAAAE9AAAAAAADclUAAAAAAABiEQAAAAAAAoGtAAAAAAAAgYUAAAAAAAMBXQAAAAAAAgExAAAAAAADUmUAAAAAAANCFQAAAAAAAIG1AAAAAAAAAYUAAAAAAAABbQAAAAAAAQFNAAAAAAADMmkAAAAAAACCIQAAAAAAAoGtAAAAAAAAAY0AAAAAAAMBaQAAAAAAAgFpAAAAAAAD8mEAAAAAAANCIQAAAAAAAwGxAAAAAAACgYEAAAAAAAABaQAAAAAAAQFpAAAAAAAAAl0AAAAAAANCJQAAAAAAAwG5AAAAAAAAgY0AAAAAAAEBZQAAAAAAAwFpAAAAAAADwlUAAAAAAACiKQAAAAAAAQHBAAAAAAABgY0AAAAAAAIBcQAAAAAAAgF1AAAAAAABUkkAAAAAAAHCJQAAAAAAAQGxAAAAAAACAY0AAAAAAAABcQAAAAAAAwFtAAAAAAAC8kEAAAAAAALCJQAAAAAAAoG9AAAAAAACgYkAAAAAAAEBbQAAAAAAAQF5AAAAAAADYiUAAAAAAAHCLQAAAAAAAMHNAAAAAAAAgaEAAAAAAACBjQAAAAAAAAGlAAAAAAADIhEAAAAAAAACNQAAAAAAAkHZAAAAAAACgaUAAAAAAAKBoQAAAAAAAQG9AAAAAAAAwhUAAAAAAAOCLQAAAAAAA4HZAAAAAAADAaUAAAAAAAIBlQAAAAAAAYGtAAAAAAABYg0AAAAAAAJCNQAAAAAAAAHhAAAAAAABgbUAAAAAAAABlQAAAAAAAwGZAAAAAAADAg0AAAAAAAHiLQAAAAAAAsHhAAAAAAADAa0AAAAAAACBlQAAAAAAAQGlAAAAAAACIhkAAAAAAACCKQAAAAAAAYHtAAAAAAADgcEAAAAAAAKBmQAAAAAAAAHFAAAAAAACgiEAAAAAAAIiMQAAAAAAAoH5AAAAAAACgdEAAAAAAAMBpQAAAAAAA8HZAAAAAAADIiEAAAAAAANiMQAAAAAAAKIFAAAAAAACgdEAAAAAAAJBwQAAAAAAAYHxAAAAAAADIhUAAAAAAABiJQAAAAAAAwH9AAAAAAACAc0AAAAAAAKBxQAAAAAAAUHlAAAAAAAAohEAAAAAAAPiFQAAAAAAAMHxAAAAAAADQcUAAAAAAAKBxQAAAAAAAMHhAAAAAAAC4hEAAAAAAAJiEQAAAAAAAwHpAAAAAAABgc0AAAAAAAIBvQAAAAAAAgH5A",
          "dtype": "f8"
         },
         "yaxis": "y"
        },
        {
         "hovertemplate": "Utbildningsinriktning=Hälso- och sjukvård samt socialt arbete<br>År=%{x}<br>Antal studerande=%{y}<extra></extra>",
         "legendgroup": "Hälso- och sjukvård samt socialt arbete",
         "line": {
          "color": "lightgray",
          "dash": "solid",
          "width": 1
         },
         "marker": {
          "symbol": "circle"
         },
         "mode": "lines",
         "name": "Hälso- och sjukvård samt socialt arbete",
         "showlegend": true,
         "type": "scattergl",
         "x": {
          "bdata": "1QfVB9UH1QfVB9UH1gfWB9YH1gfWB9YH1wfXB9cH1wfXB9cH2AfYB9gH2AfYB9gH2QfZB9kH2QfZB9kH2gfaB9oH2gfaB9oH2wfbB9sH2wfbB9sH3AfcB9wH3AfcB9wH3QfdB90H3QfdB90H3gfeB94H3gfeB94H3wffB98H3wffB98H4AfgB+AH4AfgB+AH4QfhB+EH4QfhB+EH4gfiB+IH4gfiB+IH4wfjB+MH4wfjB+MH5AfkB+QH5AfkB+QH5QflB+UH5QflB+UH5gfmB+YH5gfmB+YH5wfnB+cH5wfnB+cH6AfoB+gH6AfoB+gH",
          "dtype": "i2"
         },
         "xaxis": "x",
         "y": {
          "bdata": "AAAAAAAQhEAAAAAAAJCCQAAAAAAAkHxAAAAAAADwekAAAAAAALB5QAAAAAAAkHxAAAAAAABwikAAAAAAACCFQAAAAAAAiIJAAAAAAABQgEAAAAAAAICAQAAAAAAAEIRAAAAAAABojEAAAAAAAGCIQAAAAAAA8INAAAAAAAA4gkAAAAAAAACDQAAAAAAAUIVAAAAAAABYikAAAAAAAFiIQAAAAAAA8IJAAAAAAACQgEAAAAAAAJiCQAAAAAAAIIVAAAAAAACgiEAAAAAAAACJQAAAAAAAqIJAAAAAAADAgUAAAAAAAOiBQAAAAAAA6IdAAAAAAACYh0AAAAAAANCKQAAAAAAAwIRAAAAAAABAg0AAAAAAAACEQAAAAAAAGI5AAAAAAAC4hkAAAAAAACiMQAAAAAAAcIRAAAAAAAAIhUAAAAAAAPiDQAAAAAAAmJBAAAAAAACQgkAAAAAAAGiLQAAAAAAA2INAAAAAAABIg0AAAAAAAIiEQAAAAAAA5JFAAAAAAACQg0AAAAAAAOCMQAAAAAAAaIdAAAAAAABIhUAAAAAAAGiGQAAAAAAA0JNAAAAAAADYhUAAAAAAABSRQAAAAAAAAIpAAAAAAAAQiUAAAAAAAOCJQAAAAAAAMJdAAAAAAABAhEAAAAAAAAiSQAAAAAAA0I1AAAAAAACgi0AAAAAAAGCKQAAAAAAADJhAAAAAAACYg0AAAAAAALyRQAAAAAAAmJBAAAAAAAAAjUAAAAAAAPiJQAAAAAAArJhAAAAAAADQg0AAAAAAAKyTQAAAAAAA1JJAAAAAAACYj0AAAAAAANiLQAAAAAAA/JpAAAAAAABYhUAAAAAAAIiVQAAAAAAAMJVAAAAAAADIkUAAAAAAAGiOQAAAAAAADJ5AAAAAAABAiUAAAAAAAKSYQAAAAAAAoJlAAAAAAAA8lUAAAAAAAKCTQAAAAAAArqJAAAAAAABEkEAAAAAAAFCcQAAAAAAA3J9AAAAAAADImEAAAAAAAMyWQAAAAAAALqdAAAAAAADAkUAAAAAAAJieQAAAAAAAfqFAAAAAAACUnEAAAAAAAASYQAAAAAAAMqpAAAAAAAAgk0AAAAAAAOCeQAAAAAAAHKJAAAAAAAAQoEAAAAAAAAiaQAAAAAAAcKxAAAAAAABgk0AAAAAAAJibQAAAAAAACqFAAAAAAAC4nkAAAAAAAHCaQAAAAAAAuKxAAAAAAACgkkAAAAAAALSYQAAAAAAAKJ9AAAAAAAAYnkAAAAAAANiZQAAAAAAA4qtA",
          "dtype": "f8"
         },
         "yaxis": "y"
        },
        {
         "hovertemplate": "Utbildningsinriktning=Journalistik och information<br>År=%{x}<br>Antal studerande=%{y}<extra></extra>",
         "legendgroup": "Journalistik och information",
         "line": {
          "color": "lightgray",
          "dash": "solid",
          "width": 1
         },
         "marker": {
          "symbol": "circle"
         },
         "mode": "lines",
         "name": "Journalistik och information",
         "showlegend": true,
         "type": "scattergl",
         "x": {
          "bdata": "1QfVB9UH1QfVB9YH1gfWB9YH1gfWB9cH1wfXB9cH1wfXB9gH2AfYB9gH2AfYB9kH2QfZB9kH2QfZB9oH2gfaB9oH2gfaB9sH2wfbB9sH2wfbB9wH3AfcB9wH3AfcB90H3QfdB90H3QfdB94H3gfeB94H3gfeB98H3wffB98H3wffB+AH4AfgB+AH4AfgB+EH4QfhB+EH4QfhB+IH4gfiB+IH4gfiB+MH4wfjB+MH4wfjB+QH5AfkB+QH5AfkB+UH5QflB+UH5QflB+YH5gfmB+YH5gfmB+cH5wfnB+cH5wfnB+gH6AfoB+gH6AfoBw==",
          "dtype": "i2"
         },
         "xaxis": "x",
         "y": {
          "bdata": "AAAAAAAAR0AAAAAAAIBFQAAAAAAAAC5AAAAAAAAAGEAAAAAAAAAQQAAAAAAAAEFAAAAAAACARUAAAAAAAAAqQAAAAAAAABBAAAAAAAAAFEAAAAAAAAAIQAAAAAAAgEFAAAAAAAAARkAAAAAAAAAqQAAAAAAAACRAAAAAAAAAFEAAAAAAAAAcQAAAAAAAAEhAAAAAAACARkAAAAAAAAA4QAAAAAAAADBAAAAAAAAAIkAAAAAAAAAxQAAAAAAAAE1AAAAAAABAUUAAAAAAAAA7QAAAAAAAADdAAAAAAAAALEAAAAAAAAA2QAAAAAAAgE1AAAAAAABAUkAAAAAAAIBCQAAAAAAAADlAAAAAAAAAQEAAAAAAAAA+QAAAAAAAAFFAAAAAAACAV0AAAAAAAABFQAAAAAAAADpAAAAAAACAQ0AAAAAAAAA+QAAAAAAAAFJAAAAAAAAAWEAAAAAAAABDQAAAAAAAADlAAAAAAAAAOEAAAAAAAAA2QAAAAAAAQFxAAAAAAACAYEAAAAAAAIBPQAAAAAAAAENAAAAAAACAQEAAAAAAAABBQAAAAAAAAGJAAAAAAABAakAAAAAAAIBYQAAAAAAAgEtAAAAAAACASEAAAAAAAEBQQAAAAAAAgF9AAAAAAACga0AAAAAAAMBbQAAAAAAAAFNAAAAAAAAASkAAAAAAAIBPQAAAAAAAQF9AAAAAAAAgb0AAAAAAAIBdQAAAAAAAAFVAAAAAAACATUAAAAAAAABWQAAAAAAAwGJAAAAAAACAbUAAAAAAAABfQAAAAAAAwFVAAAAAAAAAUkAAAAAAAKBgQAAAAAAAgGNAAAAAAABgcEAAAAAAAEBeQAAAAAAAwFRAAAAAAACAUkAAAAAAACBhQAAAAAAAQGlAAAAAAABwcUAAAAAAAGBjQAAAAAAAwFVAAAAAAABAUEAAAAAAAABdQAAAAAAAoGtAAAAAAADwcEAAAAAAAGBmQAAAAAAAwFpAAAAAAADAUEAAAAAAAIBeQAAAAAAAIGlAAAAAAABQcUAAAAAAAABmQAAAAAAAgFdAAAAAAACAUkAAAAAAAIBcQAAAAAAAQGlAAAAAAACgbkAAAAAAACBmQAAAAAAAQFJAAAAAAAAASEAAAAAAAIBTQAAAAAAAoGVAAAAAAACAbEAAAAAAAIBjQAAAAAAAwFFAAAAAAACAQ0AAAAAAAEBVQAAAAAAAAGBAAAAAAADgZkAAAAAAAEBeQAAAAAAAAFNAAAAAAACAQ0AAAAAAAMBYQA==",
          "dtype": "f8"
         },
         "yaxis": "y"
        },
        {
         "hovertemplate": "Utbildningsinriktning=Kultur, media och design<br>År=%{x}<br>Antal studerande=%{y}<extra></extra>",
         "legendgroup": "Kultur, media och design",
         "line": {
          "color": "lightgray",
          "dash": "solid",
          "width": 1
         },
         "marker": {
          "symbol": "circle"
         },
         "mode": "lines",
         "name": "Kultur, media och design",
         "showlegend": true,
         "type": "scattergl",
         "x": {
          "bdata": "1QfVB9UH1QfVB9UH1gfWB9YH1gfWB9YH1wfXB9cH1wfXB9cH2AfYB9gH2AfYB9gH2QfZB9kH2QfZB9kH2gfaB9oH2gfaB9oH2wfbB9sH2wfbB9sH3AfcB9wH3AfcB9wH3QfdB90H3QfdB90H3gfeB94H3gfeB94H3wffB98H3wffB98H4AfgB+AH4AfgB+AH4QfhB+EH4QfhB+EH4gfiB+IH4gfiB+IH4wfjB+MH4wfjB+MH5AfkB+QH5AfkB+QH5QflB+UH5QflB+UH5gfmB+YH5gfmB+YH5wfnB+cH5wfnB+cH6AfoB+gH6AfoB+gH",
          "dtype": "i2"
         },
         "xaxis": "x",
         "y": {
          "bdata": "AAAAAAA0mEAAAAAAADiGQAAAAAAAAHJAAAAAAABAYUAAAAAAAIBPQAAAAAAAgEpAAAAAAACImkAAAAAAADCGQAAAAAAAgHBAAAAAAACAYUAAAAAAAIBNQAAAAAAAwFBAAAAAAAAEmkAAAAAAAECGQAAAAAAAAG9AAAAAAAAgYEAAAAAAAEBSQAAAAAAAgFBAAAAAAABEmkAAAAAAALiHQAAAAAAAwHFAAAAAAADAYEAAAAAAAEBRQAAAAAAAgFBAAAAAAADsmEAAAAAAAFCJQAAAAAAAEHJAAAAAAABAXkAAAAAAAIBSQAAAAAAAgE9AAAAAAAC4lUAAAAAAAGiKQAAAAAAAwHFAAAAAAABAYEAAAAAAAABRQAAAAAAAgFJAAAAAAADAk0AAAAAAAPCIQAAAAAAA4HBAAAAAAACAXUAAAAAAAABLQAAAAAAAAE9AAAAAAAB0kkAAAAAAAGiHQAAAAAAAIGxAAAAAAACAWEAAAAAAAIBNQAAAAAAAAElAAAAAAAB8k0AAAAAAAHCIQAAAAAAA4G9AAAAAAACAW0AAAAAAAABMQAAAAAAAgE1AAAAAAAAYk0AAAAAAAHCKQAAAAAAAoHJAAAAAAABAXkAAAAAAAMBRQAAAAAAAQFFAAAAAAACIkkAAAAAAAGCMQAAAAAAA8HZAAAAAAACAYUAAAAAAAIBVQAAAAAAAgFRAAAAAAABYkUAAAAAAAFCOQAAAAAAAwHVAAAAAAAAAY0AAAAAAAMBXQAAAAAAAwFdAAAAAAAC4kEAAAAAAACCQQAAAAAAAMHdAAAAAAACAZUAAAAAAAABYQAAAAAAAAF9AAAAAAABYkEAAAAAAACCQQAAAAAAAoHlAAAAAAABAaEAAAAAAAIBXQAAAAAAAAGBAAAAAAABAkEAAAAAAAHiRQAAAAAAAwH5AAAAAAAAgZUAAAAAAAIBVQAAAAAAAwFtAAAAAAAAQk0AAAAAAANySQAAAAAAAAIJAAAAAAAAgaUAAAAAAAABcQAAAAAAAAF1AAAAAAAD8lEAAAAAAAJSUQAAAAAAAQIZAAAAAAACAbkAAAAAAAEBhQAAAAAAAQGRAAAAAAAAUl0AAAAAAAJyUQAAAAAAA+IdAAAAAAABQckAAAAAAAGBkQAAAAAAAgGlAAAAAAADEmUAAAAAAAACUQAAAAAAAWIhAAAAAAADwdEAAAAAAAOBmQAAAAAAA4GxAAAAAAAAAmkAAAAAAAMyUQAAAAAAAcIhAAAAAAACweEAAAAAAAIBpQAAAAAAAQHBA",
          "dtype": "f8"
         },
         "yaxis": "y"
        },
        {
         "hovertemplate": "Utbildningsinriktning=Lantbruk, djurvård, trädgård, skog och fiske<br>År=%{x}<br>Antal studerande=%{y}<extra></extra>",
         "legendgroup": "Lantbruk, djurvård, trädgård, skog och fiske",
         "line": {
          "color": "lightgray",
          "dash": "solid",
          "width": 1
         },
         "marker": {
          "symbol": "circle"
         },
         "mode": "lines",
         "name": "Lantbruk, djurvård, trädgård, skog och fiske",
         "showlegend": true,
         "type": "scattergl",
         "x": {
          "bdata": "1QfVB9UH1QfVB9UH1gfWB9YH1gfWB9YH1wfXB9cH1wfXB9cH2AfYB9gH2AfYB9gH2QfZB9kH2QfZB9kH2gfaB9oH2gfaB9oH2wfbB9sH2wfbB9sH3AfcB9wH3AfcB9wH3QfdB90H3QfdB90H3gfeB94H3gfeB94H3wffB98H3wffB98H4AfgB+AH4AfgB+AH4QfhB+EH4QfhB+EH4gfiB+IH4gfiB+IH4wfjB+MH4wfjB+MH5AfkB+QH5AfkB+QH5QflB+UH5QflB+UH5gfmB+YH5gfmB+YH5wfnB+cH5wfnB+cH6AfoB+gH6AfoB+gH",
          "dtype": "i2"
         },
         "xaxis": "x",
         "y": {
          "bdata": "AAAAAABwdkAAAAAAAOBlQAAAAAAAQF5AAAAAAACAXEAAAAAAAMBUQAAAAAAAAFFAAAAAAABggUAAAAAAAOBuQAAAAAAAIGNAAAAAAABgY0AAAAAAAEBhQAAAAAAAAFdAAAAAAADQgkAAAAAAADBzQAAAAAAAYGZAAAAAAAAAZEAAAAAAAEBkQAAAAAAAAGBAAAAAAABwgkAAAAAAAFByQAAAAAAAIGVAAAAAAADgYkAAAAAAAGBjQAAAAAAAAGJAAAAAAAAQhUAAAAAAAIBxQAAAAAAA4GNAAAAAAABAZEAAAAAAACBgQAAAAAAAIGJAAAAAAABIiEAAAAAAAPByQAAAAAAAYGRAAAAAAACgY0AAAAAAAMBhQAAAAAAAQGRAAAAAAABwhkAAAAAAAPBzQAAAAAAAIGRAAAAAAABgYkAAAAAAAIBiQAAAAAAAIGRAAAAAAAAggkAAAAAAAJBzQAAAAAAAoGBAAAAAAADAX0AAAAAAAGBhQAAAAAAAIGVAAAAAAACAf0AAAAAAADB0QAAAAAAAQGFAAAAAAAAAWkAAAAAAAIBfQAAAAAAAAGRAAAAAAACQfEAAAAAAACByQAAAAAAAgGJAAAAAAADAV0AAAAAAAEBcQAAAAAAAgGJAAAAAAADAekAAAAAAANB1QAAAAAAAgGNAAAAAAAAAWUAAAAAAAABdQAAAAAAAwGNAAAAAAABQeEAAAAAAAKB1QAAAAAAAQGhAAAAAAADAX0AAAAAAAIBiQAAAAAAAYGlAAAAAAABAdEAAAAAAAEB0QAAAAAAAoGtAAAAAAACAY0AAAAAAAMBiQAAAAAAAsHBAAAAAAADAckAAAAAAANByQAAAAAAAYGdAAAAAAADAZEAAAAAAAMBfQAAAAAAAcHFAAAAAAABAcUAAAAAAANBzQAAAAAAAYG1AAAAAAADgZUAAAAAAAMBgQAAAAAAAcHFAAAAAAABgdEAAAAAAADB1QAAAAAAAwHFAAAAAAACAaUAAAAAAAEBjQAAAAAAAIHNAAAAAAAAQdUAAAAAAAFB2QAAAAAAAAHVAAAAAAABAcEAAAAAAAEBpQAAAAAAA4HNAAAAAAABwdkAAAAAAAFB1QAAAAAAAoHZAAAAAAAAwc0AAAAAAAEBrQAAAAAAAsHZAAAAAAABQeEAAAAAAALB0QAAAAAAAwHdAAAAAAAAwdEAAAAAAAABsQAAAAAAAwHtAAAAAAADwe0AAAAAAAHB3QAAAAAAAEHhAAAAAAACQdkAAAAAAACBxQAAAAAAAgH9A",
          "dtype": "f8"
         },
         "yaxis": "y"
        },
        {
         "hovertemplate": "Utbildningsinriktning=Pedagogik och undervisning<br>År=%{x}<br>Antal studerande=%{y}<extra></extra>",
         "legendgroup": "Pedagogik och undervisning",
         "line": {
          "color": "lightgray",
          "dash": "solid",
          "width": 1
         },
         "marker": {
          "symbol": "circle"
         },
         "mode": "lines",
         "name": "Pedagogik och undervisning",
         "showlegend": true,
         "type": "scattergl",
         "x": {
          "bdata": "1QfVB9UH1QfVB9UH1gfWB9YH1gfWB9YH1wfXB9cH1wfXB9cH2AfYB9gH2AfYB9gH2QfZB9kH2QfZB9kH2gfaB9oH2gfaB9oH2wfbB9sH2wfbB9sH3AfcB9wH3AfcB9wH3QfdB90H3QfdB90H3gfeB94H3gfeB94H3wffB98H3wffB98H4AfgB+AH4AfgB+AH4QfhB+EH4QfhB+EH4gfiB+IH4gfiB+IH4wfjB+MH4wfjB+MH5AfkB+QH5AfkB+QH5QflB+UH5QflB+UH5gfmB+YH5gfmB+YH5wfnB+cH5wfnB+cH6AfoB+gH6AfoB+gH",
          "dtype": "i2"
         },
         "xaxis": "x",
         "y": {
          "bdata": "AAAAAAAACEAAAAAAAAAIQAAAAAAAABBAAAAAAAAACEAAAAAAAAAAAAAAAAAAAAhAAAAAAAAALEAAAAAAAAAwQAAAAAAAADNAAAAAAAAANUAAAAAAAAAqQAAAAAAAADRAAAAAAAAAN0AAAAAAAAA7QAAAAAAAgERAAAAAAAAAPEAAAAAAAAA9QAAAAAAAAENAAAAAAAAANkAAAAAAAABDQAAAAAAAgEVAAAAAAACAQkAAAAAAAIBBQAAAAAAAgEZAAAAAAAAAQEAAAAAAAABLQAAAAAAAAEJAAAAAAACASEAAAAAAAIBEQAAAAAAAAENAAAAAAABAVkAAAAAAAEBWQAAAAAAAAFNAAAAAAACAT0AAAAAAAIBRQAAAAAAAwFJAAAAAAAAAX0AAAAAAAIBiQAAAAAAAAFpAAAAAAADAVUAAAAAAAMBVQAAAAAAAgFtAAAAAAABAVEAAAAAAAABdQAAAAAAAQFJAAAAAAAAATkAAAAAAAIBIQAAAAAAAwFJAAAAAAAAAWkAAAAAAAMBaQAAAAAAAgEhAAAAAAABAUEAAAAAAAABEQAAAAAAAgE1AAAAAAAAAX0AAAAAAAMBbQAAAAAAAAExAAAAAAAAAUEAAAAAAAIBJQAAAAAAAwFNAAAAAAACAWUAAAAAAAIBXQAAAAAAAAEpAAAAAAAAAS0AAAAAAAIBJQAAAAAAAQFFAAAAAAADAVkAAAAAAAEBfQAAAAAAAAFVAAAAAAAAAUEAAAAAAAIBSQAAAAAAAAFhAAAAAAAAAW0AAAAAAAMBjQAAAAAAAQFdAAAAAAADAVkAAAAAAAABTQAAAAAAAAGBAAAAAAAAAXEAAAAAAAMBkQAAAAAAAwGBAAAAAAABAXkAAAAAAAMBeQAAAAAAAoGlAAAAAAADAW0AAAAAAAIBsQAAAAAAAoGhAAAAAAADgaUAAAAAAAIBnQAAAAAAAYHZAAAAAAADAYkAAAAAAACBtQAAAAAAAQG9AAAAAAACgbEAAAAAAAIBrQAAAAAAA4HtAAAAAAAAAaEAAAAAAALBxQAAAAAAAoHBAAAAAAABAcUAAAAAAACBuQAAAAAAAIIFAAAAAAADAakAAAAAAAPBwQAAAAAAA0HNAAAAAAADQdEAAAAAAACByQAAAAAAAOIFAAAAAAADAXEAAAAAAAKBrQAAAAAAAoG9AAAAAAADgbkAAAAAAAABsQAAAAAAAIHxAAAAAAAAAV0AAAAAAAMBiQAAAAAAAoGRAAAAAAACgZUAAAAAAAMBjQAAAAAAAUHZA",
          "dtype": "f8"
         },
         "yaxis": "y"
        },
        {
         "hovertemplate": "Utbildningsinriktning=Samhällsbyggnad och byggteknik<br>År=%{x}<br>Antal studerande=%{y}<extra></extra>",
         "legendgroup": "Samhällsbyggnad och byggteknik",
         "line": {
          "color": "lightgray",
          "dash": "solid",
          "width": 1
         },
         "marker": {
          "symbol": "circle"
         },
         "mode": "lines",
         "name": "Samhällsbyggnad och byggteknik",
         "showlegend": true,
         "type": "scattergl",
         "x": {
          "bdata": "1QfVB9UH1QfVB9UH1gfWB9YH1gfWB9YH1wfXB9cH1wfXB9cH2AfYB9gH2AfYB9gH2QfZB9kH2QfZB9kH2gfaB9oH2gfaB9oH2wfbB9sH2wfbB9sH3AfcB9wH3AfcB9wH3QfdB90H3QfdB90H3gfeB94H3gfeB94H3wffB98H3wffB98H4AfgB+AH4AfgB+AH4QfhB+EH4QfhB+EH4gfiB+IH4gfiB+IH4wfjB+MH4wfjB+MH5AfkB+QH5AfkB+QH5QflB+UH5QflB+UH5gfmB+YH5gfmB+YH5wfnB+cH5wfnB+cH6AfoB+gH6AfoB+gH",
          "dtype": "i2"
         },
         "xaxis": "x",
         "y": {
          "bdata": "AAAAAACAfkAAAAAAAMBxQAAAAAAAgGdAAAAAAAAAZ0AAAAAAAABgQAAAAAAAoGBAAAAAAABAiEAAAAAAAFB4QAAAAAAAAG1AAAAAAABgakAAAAAAACBmQAAAAAAAIGRAAAAAAAAYjUAAAAAAAIiAQAAAAAAAQHNAAAAAAAAAa0AAAAAAAMBqQAAAAAAAwGdAAAAAAACAjkAAAAAAANiEQAAAAAAA8HJAAAAAAADgcEAAAAAAAEBqQAAAAAAA4GpAAAAAAAC4kUAAAAAAAECJQAAAAAAA4HhAAAAAAADQdEAAAAAAABBwQAAAAAAAoG9AAAAAAABAk0AAAAAAADiMQAAAAAAA4H5AAAAAAABwdkAAAAAAACBxQAAAAAAAYHFAAAAAAAB0lUAAAAAAAGiQQAAAAAAAcIJAAAAAAADQdUAAAAAAAKBxQAAAAAAAIHFAAAAAAAD0lkAAAAAAANyRQAAAAAAAsIRAAAAAAADgeUAAAAAAAMB0QAAAAAAAcHVAAAAAAABIlkAAAAAAAPSUQAAAAAAAeIZAAAAAAABQfkAAAAAAAPB3QAAAAAAAUHhAAAAAAADEk0AAAAAAABiXQAAAAAAAIIpAAAAAAABwgUAAAAAAAEB6QAAAAAAAwHlAAAAAAAAQk0AAAAAAABiaQAAAAAAAcI9AAAAAAACwhEAAAAAAAGB/QAAAAAAAQHxAAAAAAACAkkAAAAAAANybQAAAAAAAfJJAAAAAAACIiEAAAAAAAOCBQAAAAAAAeIFAAAAAAAAMlEAAAAAAAFCfQAAAAAAAaJVAAAAAAAB4i0AAAAAAAPiCQAAAAAAAgIVAAAAAAAAYmEAAAAAAAKqgQAAAAAAAJJdAAAAAAADYj0AAAAAAAMCDQAAAAAAAuIZAAAAAAAB4nUAAAAAAACikQAAAAAAAZJtAAAAAAACEkkAAAAAAAFCHQAAAAAAAKItAAAAAAACsokAAAAAAALyoQAAAAAAAgKJAAAAAAADkl0AAAAAAAHiPQAAAAAAA/JBAAAAAAADIo0AAAAAAAAqqQAAAAAAALKVAAAAAAADwm0AAAAAAAPiRQAAAAAAAPJNAAAAAAACapEAAAAAAAEKoQAAAAAAAdKZAAAAAAABQnUAAAAAAAHSTQAAAAAAAVJRAAAAAAABmpEAAAAAAADylQAAAAAAAYqVAAAAAAACsnUAAAAAAAMySQAAAAAAAxJVAAAAAAACapUAAAAAAAOylQAAAAAAA6qRAAAAAAAAKoEAAAAAAAKiTQAAAAAAAiJhA",
          "dtype": "f8"
         },
         "yaxis": "y"
        },
        {
         "hovertemplate": "Utbildningsinriktning=Säkerhetstjänster<br>År=%{x}<br>Antal studerande=%{y}<extra></extra>",
         "legendgroup": "Säkerhetstjänster",
         "line": {
          "color": "lightgray",
          "dash": "solid",
          "width": 1
         },
         "marker": {
          "symbol": "circle"
         },
         "mode": "lines",
         "name": "Säkerhetstjänster",
         "showlegend": true,
         "type": "scattergl",
         "x": {
          "bdata": "1QfVB9UH1QfVB9UH1gfWB9YH1gfWB9YH1wfXB9cH1wfXB9cH2AfYB9gH2AfYB9gH2QfZB9kH2QfZB9kH2gfaB9oH2gfaB9oH2wfbB9sH2wfbB9sH3AfcB9wH3AfcB9wH3QfdB90H3QfdB90H3gfeB94H3gfeB94H3wffB98H3wffB98H4AfgB+AH4AfgB+AH4QfhB+EH4QfhB+EH4gfiB+IH4gfiB+IH4wfjB+MH4wfjB+MH5AfkB+QH5AfkB+QH5QflB+UH5QflB+UH5gfmB+YH5gfmB+YH5wfnB+cH5wfnB+cH6AfoB+gH6AfoB+gH",
          "dtype": "i2"
         },
         "xaxis": "x",
         "y": {
          "bdata": "AAAAAADAXEAAAAAAAIBOQAAAAAAAAEZAAAAAAAAAOUAAAAAAAAAgQAAAAAAAACxAAAAAAABAZUAAAAAAAABcQAAAAAAAQFBAAAAAAAAAQkAAAAAAAAAyQAAAAAAAADhAAAAAAADAZ0AAAAAAAGBlQAAAAAAAgFNAAAAAAACATUAAAAAAAABEQAAAAAAAADtAAAAAAAAgakAAAAAAAGBnQAAAAAAAQFdAAAAAAAAAUUAAAAAAAABFQAAAAAAAADtAAAAAAADgZUAAAAAAAABnQAAAAAAAAFZAAAAAAABAVUAAAAAAAABMQAAAAAAAgERAAAAAAADAXEAAAAAAAEBlQAAAAAAAAFhAAAAAAAAAUkAAAAAAAABJQAAAAAAAgERAAAAAAABAWUAAAAAAACBiQAAAAAAAAFVAAAAAAACASEAAAAAAAIBEQAAAAAAAgENAAAAAAAAAV0AAAAAAAIBfQAAAAAAAAE9AAAAAAACAQUAAAAAAAAA5QAAAAAAAAD5AAAAAAADAUUAAAAAAAEBaQAAAAAAAAE1AAAAAAACAQkAAAAAAAAA+QAAAAAAAgEFAAAAAAACARUAAAAAAAMBUQAAAAAAAQFJAAAAAAACATEAAAAAAAIBIQAAAAAAAgEZAAAAAAAAAM0AAAAAAAEBQQAAAAAAAwFdAAAAAAADAUEAAAAAAAABPQAAAAAAAgFFAAAAAAAAAKEAAAAAAAABTQAAAAAAAAFJAAAAAAADAUkAAAAAAAABPQAAAAAAAgFNAAAAAAAAAKEAAAAAAAIBKQAAAAAAAgElAAAAAAAAATUAAAAAAAABEQAAAAAAAgE5AAAAAAAAAM0AAAAAAAABRQAAAAAAAgElAAAAAAACARkAAAAAAAIBCQAAAAAAAAFBAAAAAAAAANkAAAAAAAIBaQAAAAAAAgFFAAAAAAADAUUAAAAAAAIBNQAAAAAAAAFRAAAAAAACAQUAAAAAAAABZQAAAAAAAAFpAAAAAAACAWkAAAAAAAABYQAAAAAAAQGFAAAAAAACAREAAAAAAAMBXQAAAAAAAwFpAAAAAAAAAXkAAAAAAAIBWQAAAAAAAoGFAAAAAAACARkAAAAAAAIBfQAAAAAAAAGNAAAAAAACgY0AAAAAAAMBbQAAAAAAAgGVAAAAAAACASkAAAAAAAABeQAAAAAAAoGZAAAAAAABgZ0AAAAAAAIBdQAAAAAAAwGVAAAAAAACAT0AAAAAAAIBeQAAAAAAAgGRAAAAAAACAZ0AAAAAAAEBcQAAAAAAAgGZA",
          "dtype": "f8"
         },
         "yaxis": "y"
        },
        {
         "hovertemplate": "Utbildningsinriktning=Teknik och tillverkning<br>År=%{x}<br>Antal studerande=%{y}<extra></extra>",
         "legendgroup": "Teknik och tillverkning",
         "line": {
          "color": "lightgray",
          "dash": "solid",
          "width": 1
         },
         "marker": {
          "symbol": "circle"
         },
         "mode": "lines",
         "name": "Teknik och tillverkning",
         "showlegend": true,
         "type": "scattergl",
         "x": {
          "bdata": "1QfVB9UH1QfVB9UH1gfWB9YH1gfWB9YH1wfXB9cH1wfXB9cH2AfYB9gH2AfYB9gH2QfZB9kH2QfZB9kH2gfaB9oH2gfaB9oH2wfbB9sH2wfbB9sH3AfcB9wH3AfcB9wH3QfdB90H3QfdB90H3gfeB94H3gfeB94H3wffB98H3wffB98H4AfgB+AH4AfgB+AH4QfhB+EH4QfhB+EH4gfiB+IH4gfiB+IH4wfjB+MH4wfjB+MH5AfkB+QH5AfkB+QH5QflB+UH5QflB+UH5gfmB+YH5gfmB+YH5wfnB+cH5wfnB+cH6AfoB+gH6AfoB+gH",
          "dtype": "i2"
         },
         "xaxis": "x",
         "y": {
          "bdata": "AAAAAAAwnEAAAAAAAFCGQAAAAAAAAH9AAAAAAADweUAAAAAAABBzQAAAAAAAQGdAAAAAAABkoEAAAAAAAJiIQAAAAAAACIBAAAAAAAAQeUAAAAAAAMByQAAAAAAAYGpAAAAAAAC2okAAAAAAAHiOQAAAAAAAkIBAAAAAAAAQe0AAAAAAAKB1QAAAAAAAIG9AAAAAAAACpUAAAAAAAGyRQAAAAAAA6IJAAAAAAADgfUAAAAAAAIB2QAAAAAAAwHNAAAAAAABGqEAAAAAAAMiUQAAAAAAASIdAAAAAAADogEAAAAAAABB6QAAAAAAAMHdAAAAAAAAaq0AAAAAAAMiWQAAAAAAAmIdAAAAAAAAAg0AAAAAAAJB8QAAAAAAAsHhAAAAAAABkq0AAAAAAACCYQAAAAAAAeIlAAAAAAABAhEAAAAAAADB5QAAAAAAAIHpAAAAAAAAaqUAAAAAAADSXQAAAAAAAYIhAAAAAAAA4gUAAAAAAALB2QAAAAAAAMHVAAAAAAAAoqEAAAAAAAPiZQAAAAAAASItAAAAAAAAQgkAAAAAAALB3QAAAAAAAQHxAAAAAAABkp0AAAAAAAGyaQAAAAAAAAJBAAAAAAAAQhEAAAAAAALB5QAAAAAAAsIFAAAAAAACEpUAAAAAAAGibQAAAAAAAkJBAAAAAAACohkAAAAAAAIB9QAAAAAAAcINAAAAAAACyo0AAAAAAAFycQAAAAAAA/JBAAAAAAAAQh0AAAAAAADB+QAAAAAAAOINAAAAAAADioUAAAAAAADicQAAAAAAARJFAAAAAAABIh0AAAAAAADB/QAAAAAAAMINAAAAAAAAWoUAAAAAAAIyaQAAAAAAANJJAAAAAAAAgh0AAAAAAAHB9QAAAAAAACIJAAAAAAACqoUAAAAAAAHCeQAAAAAAA9JRAAAAAAADIi0AAAAAAACCDQAAAAAAAQIZAAAAAAAC2pUAAAAAAAJKjQAAAAAAArJpAAAAAAAAQkkAAAAAAABCJQAAAAAAAsI5AAAAAAABKqEAAAAAAAKKkQAAAAAAAHKBAAAAAAABMlUAAAAAAAAiOQAAAAAAA3JFAAAAAAABcqEAAAAAAAOijQAAAAAAARqBAAAAAAADElUAAAAAAADCNQAAAAAAARJNAAAAAAADgqEAAAAAAAAikQAAAAAAAnqBAAAAAAACQlkAAAAAAAByQQAAAAAAAPJVAAAAAAAAcrEAAAAAAABSmQAAAAAAA9qJAAAAAAACgmUAAAAAAAPiSQAAAAAAAxJdA",
          "dtype": "f8"
         },
         "yaxis": "y"
        },
        {
         "hovertemplate": "Utbildningsinriktning=Transporttjänster<br>År=%{x}<br>Antal studerande=%{y}<extra></extra>",
         "legendgroup": "Transporttjänster",
         "line": {
          "color": "lightgray",
          "dash": "solid",
          "width": 1
         },
         "marker": {
          "symbol": "circle"
         },
         "mode": "lines",
         "name": "Transporttjänster",
         "showlegend": true,
         "type": "scattergl",
         "x": {
          "bdata": "1QfVB9UH1QfVB9UH1gfWB9YH1gfWB9YH1wfXB9cH1wfXB9cH2AfYB9gH2AfYB9gH2QfZB9kH2QfZB9kH2gfaB9oH2gfaB9oH2wfbB9sH2wfbB9sH3AfcB9wH3AfcB9wH3QfdB90H3QfdB90H3gfeB94H3gfeB94H3wffB98H3wffB98H4AfgB+AH4AfgB+AH4QfhB+EH4QfhB+EH4gfiB+IH4gfiB+IH4wfjB+MH4wfjB+MH5AfkB+QH5AfkB+QH5QflB+UH5QflB+UH5gfmB+YH5gfmB+YH5wfnB+cH5wfnB+cH6AfoB+gH6AfoB+gH",
          "dtype": "i2"
         },
         "xaxis": "x",
         "y": {
          "bdata": "AAAAAACAb0AAAAAAAGBkQAAAAAAAAGJAAAAAAACAXkAAAAAAAMBXQAAAAAAAAEdAAAAAAACgdUAAAAAAACBrQAAAAAAAYGhAAAAAAABAZEAAAAAAAABdQAAAAAAAwFBAAAAAAADQeEAAAAAAACBzQAAAAAAAgGxAAAAAAABgZ0AAAAAAACBhQAAAAAAAAFlAAAAAAABAfUAAAAAAAAB4QAAAAAAAIG1AAAAAAABgakAAAAAAAABlQAAAAAAAQF9AAAAAAADQfkAAAAAAAGB6QAAAAAAAgG5AAAAAAADga0AAAAAAACBmQAAAAAAAAGFAAAAAAABYgUAAAAAAAFB9QAAAAAAA8HFAAAAAAADAbUAAAAAAAKBmQAAAAAAAAGBAAAAAAABQgUAAAAAAADB+QAAAAAAA0HFAAAAAAABAbUAAAAAAAOBkQAAAAAAAQF5AAAAAAABQekAAAAAAAKB6QAAAAAAAgG1AAAAAAABgZUAAAAAAAABeQAAAAAAAQFxAAAAAAACAdEAAAAAAAEBzQAAAAAAA4GZAAAAAAADAX0AAAAAAAABVQAAAAAAAgFVAAAAAAADgcUAAAAAAAMBwQAAAAAAAoGJAAAAAAABAVkAAAAAAAEBUQAAAAAAAAFFAAAAAAABQdEAAAAAAABB2QAAAAAAAIGlAAAAAAADAYEAAAAAAAIBZQAAAAAAAwFJAAAAAAAAgeEAAAAAAAAB/QAAAAAAAIHBAAAAAAABgZEAAAAAAAABfQAAAAAAAQF1AAAAAAABAe0AAAAAAAFiBQAAAAAAAIHRAAAAAAABgbEAAAAAAAOBiQAAAAAAA4GNAAAAAAADQdkAAAAAAAPB+QAAAAAAAgHRAAAAAAABgbUAAAAAAAGBiQAAAAAAAYGZAAAAAAAAgdkAAAAAAAPB7QAAAAAAAwHRAAAAAAABAakAAAAAAAEBeQAAAAAAAIGpAAAAAAADgeEAAAAAAABB+QAAAAAAAYHRAAAAAAAAAaEAAAAAAAOBgQAAAAAAAIGxAAAAAAACAdkAAAAAAAGB6QAAAAAAA8HFAAAAAAADAZUAAAAAAAEBcQAAAAAAAIGtAAAAAAADQdkAAAAAAAKB2QAAAAAAA8HBAAAAAAAAAZEAAAAAAAEBeQAAAAAAAYGpAAAAAAACQekAAAAAAACB2QAAAAAAA4HFAAAAAAADAZ0AAAAAAAGBgQAAAAAAAAG1AAAAAAACweUAAAAAAAGB1QAAAAAAAsHJAAAAAAAAAaUAAAAAAAOBhQAAAAAAAgHJA",
          "dtype": "f8"
         },
         "yaxis": "y"
        },
        {
         "hovertemplate": "Utbildningsinriktning=Juridik<br>År=%{x}<br>Antal studerande=%{y}<extra></extra>",
         "legendgroup": "Juridik",
         "line": {
          "color": "lightgray",
          "dash": "solid",
          "width": 1
         },
         "marker": {
          "symbol": "circle"
         },
         "mode": "lines",
         "name": "Juridik",
         "showlegend": true,
         "type": "scattergl",
         "x": {
          "bdata": "1gfWB9YH1gfWB9YH1wfXB9cH1wfXB9cH2AfYB9gH2AfYB9gH2QfZB9kH2QfZB9kH2gfaB9oH2gfaB9oH2wfbB9sH2wfbB9sH3AfcB9wH3AfcB9wH3QfdB90H3QfdB90H3gfeB94H3gfeB94H3wffB98H3wffB98H4AfgB+AH4AfgB+AH4QfhB+EH4QfhB+EH4gfiB+IH4gfiB+IH4wfjB+MH4wfjB+MH5AfkB+QH5AfkB+QH5QflB+UH5QflB+UH5gfmB+YH5gfmB+YH5wfnB+cH5wfnB+cH6AfoB+gH6AfoB+gH",
          "dtype": "i2"
         },
         "xaxis": "x",
         "y": {
          "bdata": "AAAAAAAAOkAAAAAAAAAqQAAAAAAAABhAAAAAAAAAHEAAAAAAAAAIQAAAAAAAABhAAAAAAACARUAAAAAAAABBQAAAAAAAADJAAAAAAAAAJkAAAAAAAAAkQAAAAAAAABhAAAAAAACARUAAAAAAAABJQAAAAAAAAD9AAAAAAAAALEAAAAAAAAAsQAAAAAAAABRAAAAAAACAQUAAAAAAAIBQQAAAAAAAADxAAAAAAAAAM0AAAAAAAAAqQAAAAAAAABhAAAAAAACAREAAAAAAAABLQAAAAAAAAD5AAAAAAAAAOEAAAAAAAAAwQAAAAAAAACBAAAAAAAAASUAAAAAAAABKQAAAAAAAAD1AAAAAAAAAOkAAAAAAAAAmQAAAAAAAABxAAAAAAAAAUEAAAAAAAMBQQAAAAAAAAE1AAAAAAAAAOkAAAAAAAAA2QAAAAAAAABRAAAAAAACATEAAAAAAAEBYQAAAAAAAQFBAAAAAAAAAQEAAAAAAAAAzQAAAAAAAACRAAAAAAAAAQkAAAAAAAMBYQAAAAAAAAFNAAAAAAAAAQkAAAAAAAAA0QAAAAAAAADFAAAAAAAAAR0AAAAAAAIBaQAAAAAAAAFJAAAAAAACAQkAAAAAAAAA/QAAAAAAAADFAAAAAAACAS0AAAAAAAMBYQAAAAAAAwFNAAAAAAACARUAAAAAAAABBQAAAAAAAADpAAAAAAAAAUEAAAAAAAABgQAAAAAAAgFZAAAAAAACARkAAAAAAAIBEQAAAAAAAAEZAAAAAAABAWEAAAAAAAMBcQAAAAAAAgFZAAAAAAACAS0AAAAAAAABIQAAAAAAAgEBAAAAAAACAX0AAAAAAAABaQAAAAAAAAFdAAAAAAAAARUAAAAAAAABMQAAAAAAAAD9AAAAAAABgYkAAAAAAAIBdQAAAAAAAgFRAAAAAAAAASUAAAAAAAABFQAAAAAAAgEZAAAAAAAAgYUAAAAAAAABaQAAAAAAAAFVAAAAAAAAATUAAAAAAAABDQAAAAAAAwFBAAAAAAACAW0AAAAAAAMBVQAAAAAAAgFJAAAAAAACASEAAAAAAAABBQAAAAAAAAE9AAAAAAABAWkAAAAAAAABTQAAAAAAAgEtAAAAAAACAQ0AAAAAAAAA9QAAAAAAAAEVAAAAAAADAWUAAAAAAAIBVQAAAAAAAgElAAAAAAACAQkAAAAAAAAA/QAAAAAAAAENA",
          "dtype": "f8"
         },
         "yaxis": "y"
        }
       ],
       "layout": {
        "annotations": [
         {
          "arrowcolor": "royalblue",
          "arrowhead": 3,
          "ax": 0,
          "ay": -60,
          "bgcolor": "white",
          "bordercolor": "royalblue",
          "borderwidth": 1,
          "font": {
           "color": "royalblue",
           "family": "Arial",
           "size": 13
          },
          "showarrow": true,
          "text": "Stadig ökning i 20 år",
          "x": 2010,
          "y": 4357
         }
        ],
        "hovermode": false,
        "legend": {
         "title": {
          "text": "Utbildningsinriktning"
         },
         "tracegroupgap": 0
        },
        "paper_bgcolor": "white",
        "plot_bgcolor": "white",
        "showlegend": true,
        "template": {
         "data": {
          "bar": [
           {
            "error_x": {
             "color": "#2a3f5f"
            },
            "error_y": {
             "color": "#2a3f5f"
            },
            "marker": {
             "line": {
              "color": "#E5ECF6",
              "width": 0.5
             },
             "pattern": {
              "fillmode": "overlay",
              "size": 10,
              "solidity": 0.2
             }
            },
            "type": "bar"
           }
          ],
          "barpolar": [
           {
            "marker": {
             "line": {
              "color": "#E5ECF6",
              "width": 0.5
             },
             "pattern": {
              "fillmode": "overlay",
              "size": 10,
              "solidity": 0.2
             }
            },
            "type": "barpolar"
           }
          ],
          "carpet": [
           {
            "aaxis": {
             "endlinecolor": "#2a3f5f",
             "gridcolor": "white",
             "linecolor": "white",
             "minorgridcolor": "white",
             "startlinecolor": "#2a3f5f"
            },
            "baxis": {
             "endlinecolor": "#2a3f5f",
             "gridcolor": "white",
             "linecolor": "white",
             "minorgridcolor": "white",
             "startlinecolor": "#2a3f5f"
            },
            "type": "carpet"
           }
          ],
          "choropleth": [
           {
            "colorbar": {
             "outlinewidth": 0,
             "ticks": ""
            },
            "type": "choropleth"
           }
          ],
          "contour": [
           {
            "colorbar": {
             "outlinewidth": 0,
             "ticks": ""
            },
            "colorscale": [
             [
              0,
              "#0d0887"
             ],
             [
              0.1111111111111111,
              "#46039f"
             ],
             [
              0.2222222222222222,
              "#7201a8"
             ],
             [
              0.3333333333333333,
              "#9c179e"
             ],
             [
              0.4444444444444444,
              "#bd3786"
             ],
             [
              0.5555555555555556,
              "#d8576b"
             ],
             [
              0.6666666666666666,
              "#ed7953"
             ],
             [
              0.7777777777777778,
              "#fb9f3a"
             ],
             [
              0.8888888888888888,
              "#fdca26"
             ],
             [
              1,
              "#f0f921"
             ]
            ],
            "type": "contour"
           }
          ],
          "contourcarpet": [
           {
            "colorbar": {
             "outlinewidth": 0,
             "ticks": ""
            },
            "type": "contourcarpet"
           }
          ],
          "heatmap": [
           {
            "colorbar": {
             "outlinewidth": 0,
             "ticks": ""
            },
            "colorscale": [
             [
              0,
              "#0d0887"
             ],
             [
              0.1111111111111111,
              "#46039f"
             ],
             [
              0.2222222222222222,
              "#7201a8"
             ],
             [
              0.3333333333333333,
              "#9c179e"
             ],
             [
              0.4444444444444444,
              "#bd3786"
             ],
             [
              0.5555555555555556,
              "#d8576b"
             ],
             [
              0.6666666666666666,
              "#ed7953"
             ],
             [
              0.7777777777777778,
              "#fb9f3a"
             ],
             [
              0.8888888888888888,
              "#fdca26"
             ],
             [
              1,
              "#f0f921"
             ]
            ],
            "type": "heatmap"
           }
          ],
          "histogram": [
           {
            "marker": {
             "pattern": {
              "fillmode": "overlay",
              "size": 10,
              "solidity": 0.2
             }
            },
            "type": "histogram"
           }
          ],
          "histogram2d": [
           {
            "colorbar": {
             "outlinewidth": 0,
             "ticks": ""
            },
            "colorscale": [
             [
              0,
              "#0d0887"
             ],
             [
              0.1111111111111111,
              "#46039f"
             ],
             [
              0.2222222222222222,
              "#7201a8"
             ],
             [
              0.3333333333333333,
              "#9c179e"
             ],
             [
              0.4444444444444444,
              "#bd3786"
             ],
             [
              0.5555555555555556,
              "#d8576b"
             ],
             [
              0.6666666666666666,
              "#ed7953"
             ],
             [
              0.7777777777777778,
              "#fb9f3a"
             ],
             [
              0.8888888888888888,
              "#fdca26"
             ],
             [
              1,
              "#f0f921"
             ]
            ],
            "type": "histogram2d"
           }
          ],
          "histogram2dcontour": [
           {
            "colorbar": {
             "outlinewidth": 0,
             "ticks": ""
            },
            "colorscale": [
             [
              0,
              "#0d0887"
             ],
             [
              0.1111111111111111,
              "#46039f"
             ],
             [
              0.2222222222222222,
              "#7201a8"
             ],
             [
              0.3333333333333333,
              "#9c179e"
             ],
             [
              0.4444444444444444,
              "#bd3786"
             ],
             [
              0.5555555555555556,
              "#d8576b"
             ],
             [
              0.6666666666666666,
              "#ed7953"
             ],
             [
              0.7777777777777778,
              "#fb9f3a"
             ],
             [
              0.8888888888888888,
              "#fdca26"
             ],
             [
              1,
              "#f0f921"
             ]
            ],
            "type": "histogram2dcontour"
           }
          ],
          "mesh3d": [
           {
            "colorbar": {
             "outlinewidth": 0,
             "ticks": ""
            },
            "type": "mesh3d"
           }
          ],
          "parcoords": [
           {
            "line": {
             "colorbar": {
              "outlinewidth": 0,
              "ticks": ""
             }
            },
            "type": "parcoords"
           }
          ],
          "pie": [
           {
            "automargin": true,
            "type": "pie"
           }
          ],
          "scatter": [
           {
            "fillpattern": {
             "fillmode": "overlay",
             "size": 10,
             "solidity": 0.2
            },
            "type": "scatter"
           }
          ],
          "scatter3d": [
           {
            "line": {
             "colorbar": {
              "outlinewidth": 0,
              "ticks": ""
             }
            },
            "marker": {
             "colorbar": {
              "outlinewidth": 0,
              "ticks": ""
             }
            },
            "type": "scatter3d"
           }
          ],
          "scattercarpet": [
           {
            "marker": {
             "colorbar": {
              "outlinewidth": 0,
              "ticks": ""
             }
            },
            "type": "scattercarpet"
           }
          ],
          "scattergeo": [
           {
            "marker": {
             "colorbar": {
              "outlinewidth": 0,
              "ticks": ""
             }
            },
            "type": "scattergeo"
           }
          ],
          "scattergl": [
           {
            "marker": {
             "colorbar": {
              "outlinewidth": 0,
              "ticks": ""
             }
            },
            "type": "scattergl"
           }
          ],
          "scattermap": [
           {
            "marker": {
             "colorbar": {
              "outlinewidth": 0,
              "ticks": ""
             }
            },
            "type": "scattermap"
           }
          ],
          "scattermapbox": [
           {
            "marker": {
             "colorbar": {
              "outlinewidth": 0,
              "ticks": ""
             }
            },
            "type": "scattermapbox"
           }
          ],
          "scatterpolar": [
           {
            "marker": {
             "colorbar": {
              "outlinewidth": 0,
              "ticks": ""
             }
            },
            "type": "scatterpolar"
           }
          ],
          "scatterpolargl": [
           {
            "marker": {
             "colorbar": {
              "outlinewidth": 0,
              "ticks": ""
             }
            },
            "type": "scatterpolargl"
           }
          ],
          "scatterternary": [
           {
            "marker": {
             "colorbar": {
              "outlinewidth": 0,
              "ticks": ""
             }
            },
            "type": "scatterternary"
           }
          ],
          "surface": [
           {
            "colorbar": {
             "outlinewidth": 0,
             "ticks": ""
            },
            "colorscale": [
             [
              0,
              "#0d0887"
             ],
             [
              0.1111111111111111,
              "#46039f"
             ],
             [
              0.2222222222222222,
              "#7201a8"
             ],
             [
              0.3333333333333333,
              "#9c179e"
             ],
             [
              0.4444444444444444,
              "#bd3786"
             ],
             [
              0.5555555555555556,
              "#d8576b"
             ],
             [
              0.6666666666666666,
              "#ed7953"
             ],
             [
              0.7777777777777778,
              "#fb9f3a"
             ],
             [
              0.8888888888888888,
              "#fdca26"
             ],
             [
              1,
              "#f0f921"
             ]
            ],
            "type": "surface"
           }
          ],
          "table": [
           {
            "cells": {
             "fill": {
              "color": "#EBF0F8"
             },
             "line": {
              "color": "white"
             }
            },
            "header": {
             "fill": {
              "color": "#C8D4E3"
             },
             "line": {
              "color": "white"
             }
            },
            "type": "table"
           }
          ]
         },
         "layout": {
          "annotationdefaults": {
           "arrowcolor": "#2a3f5f",
           "arrowhead": 0,
           "arrowwidth": 1
          },
          "autotypenumbers": "strict",
          "coloraxis": {
           "colorbar": {
            "outlinewidth": 0,
            "ticks": ""
           }
          },
          "colorscale": {
           "diverging": [
            [
             0,
             "#8e0152"
            ],
            [
             0.1,
             "#c51b7d"
            ],
            [
             0.2,
             "#de77ae"
            ],
            [
             0.3,
             "#f1b6da"
            ],
            [
             0.4,
             "#fde0ef"
            ],
            [
             0.5,
             "#f7f7f7"
            ],
            [
             0.6,
             "#e6f5d0"
            ],
            [
             0.7,
             "#b8e186"
            ],
            [
             0.8,
             "#7fbc41"
            ],
            [
             0.9,
             "#4d9221"
            ],
            [
             1,
             "#276419"
            ]
           ],
           "sequential": [
            [
             0,
             "#0d0887"
            ],
            [
             0.1111111111111111,
             "#46039f"
            ],
            [
             0.2222222222222222,
             "#7201a8"
            ],
            [
             0.3333333333333333,
             "#9c179e"
            ],
            [
             0.4444444444444444,
             "#bd3786"
            ],
            [
             0.5555555555555556,
             "#d8576b"
            ],
            [
             0.6666666666666666,
             "#ed7953"
            ],
            [
             0.7777777777777778,
             "#fb9f3a"
            ],
            [
             0.8888888888888888,
             "#fdca26"
            ],
            [
             1,
             "#f0f921"
            ]
           ],
           "sequentialminus": [
            [
             0,
             "#0d0887"
            ],
            [
             0.1111111111111111,
             "#46039f"
            ],
            [
             0.2222222222222222,
             "#7201a8"
            ],
            [
             0.3333333333333333,
             "#9c179e"
            ],
            [
             0.4444444444444444,
             "#bd3786"
            ],
            [
             0.5555555555555556,
             "#d8576b"
            ],
            [
             0.6666666666666666,
             "#ed7953"
            ],
            [
             0.7777777777777778,
             "#fb9f3a"
            ],
            [
             0.8888888888888888,
             "#fdca26"
            ],
            [
             1,
             "#f0f921"
            ]
           ]
          },
          "colorway": [
           "#636efa",
           "#EF553B",
           "#00cc96",
           "#ab63fa",
           "#FFA15A",
           "#19d3f3",
           "#FF6692",
           "#B6E880",
           "#FF97FF",
           "#FECB52"
          ],
          "font": {
           "color": "#2a3f5f"
          },
          "geo": {
           "bgcolor": "white",
           "lakecolor": "white",
           "landcolor": "#E5ECF6",
           "showlakes": true,
           "showland": true,
           "subunitcolor": "white"
          },
          "hoverlabel": {
           "align": "left"
          },
          "hovermode": "closest",
          "mapbox": {
           "style": "light"
          },
          "paper_bgcolor": "white",
          "plot_bgcolor": "#E5ECF6",
          "polar": {
           "angularaxis": {
            "gridcolor": "white",
            "linecolor": "white",
            "ticks": ""
           },
           "bgcolor": "#E5ECF6",
           "radialaxis": {
            "gridcolor": "white",
            "linecolor": "white",
            "ticks": ""
           }
          },
          "scene": {
           "xaxis": {
            "backgroundcolor": "#E5ECF6",
            "gridcolor": "white",
            "gridwidth": 2,
            "linecolor": "white",
            "showbackground": true,
            "ticks": "",
            "zerolinecolor": "white"
           },
           "yaxis": {
            "backgroundcolor": "#E5ECF6",
            "gridcolor": "white",
            "gridwidth": 2,
            "linecolor": "white",
            "showbackground": true,
            "ticks": "",
            "zerolinecolor": "white"
           },
           "zaxis": {
            "backgroundcolor": "#E5ECF6",
            "gridcolor": "white",
            "gridwidth": 2,
            "linecolor": "white",
            "showbackground": true,
            "ticks": "",
            "zerolinecolor": "white"
           }
          },
          "shapedefaults": {
           "line": {
            "color": "#2a3f5f"
           }
          },
          "ternary": {
           "aaxis": {
            "gridcolor": "white",
            "linecolor": "white",
            "ticks": ""
           },
           "baxis": {
            "gridcolor": "white",
            "linecolor": "white",
            "ticks": ""
           },
           "bgcolor": "#E5ECF6",
           "caxis": {
            "gridcolor": "white",
            "linecolor": "white",
            "ticks": ""
           }
          },
          "title": {
           "x": 0.05
          },
          "xaxis": {
           "automargin": true,
           "gridcolor": "white",
           "linecolor": "white",
           "ticks": "",
           "title": {
            "standoff": 15
           },
           "zerolinecolor": "white",
           "zerolinewidth": 2
          },
          "yaxis": {
           "automargin": true,
           "gridcolor": "white",
           "linecolor": "white",
           "ticks": "",
           "title": {
            "standoff": 15
           },
           "zerolinecolor": "white",
           "zerolinewidth": 2
          }
         }
        },
        "title": {
         "font": {
          "size": 18
         },
         "text": "Störst och växande: Ekonomi och försäljning i topp bland utbildningsområden"
        },
        "xaxis": {
         "anchor": "y",
         "domain": [
          0,
          1
         ],
         "title": {
          "text": "År"
         }
        },
        "yaxis": {
         "anchor": "x",
         "domain": [
          0,
          1
         ],
         "title": {
          "text": "Antal studerande"
         }
        }
       }
      }
     },
     "metadata": {},
     "output_type": "display_data"
    }
   ],
   "source": [
    "import plotly.express as px\n",
    "\n",
    "highlight_area = \"Ekonomi, administration och försäljning\"\n",
    "\n",
    "fig = px.line(\n",
    "    df_long,\n",
    "    x=\"År\",\n",
    "    y=\"Antal studerande\",\n",
    "    color=\"Utbildningsinriktning\",\n",
    "    title=\"Störst och växande: Ekonomi och försäljning i topp bland utbildningsområden\",\n",
    "    labels={\"Antal studerande\": \"Antal studerande\", \"År\": \"År\"},\n",
    ")\n",
    "\n",
    "# Ta bort prickar från alla linjer\n",
    "fig.for_each_trace(lambda t: t.update(mode=\"lines\"))\n",
    "\n",
    "# Färgsätt: blå för highlight, ljusgrå för övriga\n",
    "fig.for_each_trace(\n",
    "    lambda t: t.update(\n",
    "        line=dict(\n",
    "            color=\"royalblue\" if t.name == highlight_area else \"lightgray\",\n",
    "            width=3 if t.name == highlight_area else 1\n",
    "        ),\n",
    "        showlegend=True\n",
    "    )\n",
    ")\n",
    "\n",
    "# Lägg till annotation/pil för att förstärka trenden (exempel: året 2010)\n",
    "max_y = df_long[df_long[\"Utbildningsinriktning\"] == highlight_area][\"Antal studerande\"].max()\n",
    "\n",
    "fig.add_annotation(\n",
    "    x=2010,\n",
    "    y=df_long[(df_long[\"År\"] == 2010) & (df_long[\"Utbildningsinriktning\"] == highlight_area)][\"Antal studerande\"].values[0],\n",
    "    text=\"Stadig ökning i 20 år\",\n",
    "    showarrow=True,\n",
    "    arrowhead=3,\n",
    "    arrowcolor=\"royalblue\",\n",
    "    ax=0,\n",
    "    ay=-60,\n",
    "    font=dict(color=\"royalblue\", size=13, family=\"Arial\"),\n",
    "    bgcolor=\"white\",\n",
    "    bordercolor=\"royalblue\",\n",
    "    borderwidth=1\n",
    ")\n",
    "\n",
    "fig.update_layout(\n",
    "    legend_title_text=\"Utbildningsinriktning\",\n",
    "    plot_bgcolor=\"white\",\n",
    "    paper_bgcolor=\"white\",\n",
    "    showlegend=True,\n",
    "    hovermode=False,\n",
    "    title_font=dict(size=18)\n",
    ")\n",
    "\n",
    "# Visa figuren\n",
    "fig.show()\n"
   ]
  },
  {
   "cell_type": "code",
   "execution_count": null,
   "id": "f1c461a0",
   "metadata": {},
   "outputs": [],
   "source": [
    "import plotly.express as px\n",
    "\n",
    "def create_storytelling_chart(df_summary):\n",
    "    highlight_area = \"Ekonomi, administration och försäljning\"\n",
    "    colors = ['lightgray' if area != highlight_area else 'royalblue' for area in df_summary[\"Utbildningsinriktning\"]]\n",
    "\n",
    "    fig = px.bar(\n",
    "        df_summary,\n",
    "        y=\"Utbildningsinriktning\",\n",
    "        x=\"Antal studerande\",\n",
    "        orientation='h',\n",
    "        title=\"Vilket utbildningsområde bör # The Skool fokusera på ?\",\n",
    "        labels={\"Utbildningsinriktning\": \"Utbildningsområde\", \"Antal studerande\": \"Antal studerande\"}\n",
    "    )\n",
    "\n",
    "    fig.update_traces(marker_color=colors)\n",
    "\n",
    "    fig.update_layout(\n",
    "        plot_bgcolor=\"white\",\n",
    "        xaxis=dict(showgrid=False, zeroline=False),\n",
    "        yaxis=dict(showgrid=False, zeroline=False),\n",
    "        margin=dict(l=120, r=80, t=80, b=40)\n",
    "    )\n",
    "\n",
    "    highlight_idx = df_summary.index[df_summary[\"Utbildningsinriktning\"] == highlight_area][0]\n",
    "    highlight_value = df_summary.loc[highlight_idx, \"Antal studerande\"]\n",
    "\n",
    "    fig.add_annotation(\n",
    "        x=highlight_value,\n",
    "        y=highlight_idx - 0.4,\n",
    "        text=\" Viktig tillväxtmöjlighet\",\n",
    "        showarrow=True,\n",
    "        arrowhead=3,\n",
    "        arrowcolor=\"royalblue\",\n",
    "        ax=0,\n",
    "        ay=30,\n",
    "        font=dict(color=\"royalblue\", size=13, family=\"Arial\"),\n",
    "        bgcolor=\"white\",\n",
    "        bordercolor=\"royalblue\",\n",
    "        borderwidth=1\n",
    "    )\n",
    "\n",
    "    return fig\n"
   ]
  },
  {
   "cell_type": "code",
   "execution_count": null,
   "id": "ccdb5cf9",
   "metadata": {},
   "outputs": [
    {
     "data": {
      "application/vnd.plotly.v1+json": {
       "config": {
        "plotlyServerURL": "https://plot.ly"
       },
       "data": [
        {
         "hoverinfo": "name+y",
         "line": {
          "color": "lightgray",
          "width": 1
         },
         "mode": "lines",
         "name": "Data/It",
         "type": "scatter",
         "x": {
          "bdata": "1QfWB9cH2AfZB9oH2wfcB90H3gffB+AH4QfiB+MH5AflB+YH5wfoBw==",
          "dtype": "i2"
         },
         "y": {
          "bdata": "AAAAAAA2pEAAAAAAAOSjQAAAAAAA2qVAAAAAAAACpkAAAAAAAFKmQAAAAAAArqZAAAAAAACwqEAAAAAAAIyqQAAAAAAArK9AAAAAAABJs0AAAAAAALS2QAAAAAAAJ7hAAAAAAABCuEAAAAAAAEi2QAAAAAAArrtAAAAAAIAVxEAAAAAAABrJQAAAAACA18tAAAAAAACdzUAAAAAAwA/QQA==",
          "dtype": "f8"
         }
        },
        {
         "hoverinfo": "name+y",
         "line": {
          "color": "royalblue",
          "width": 3
         },
         "mode": "lines",
         "name": "Ekonomi, administration och försäljning",
         "type": "scatter",
         "x": {
          "bdata": "1QfWB9cH2AfZB9oH2wfcB90H3gffB+AH4QfiB+MH5AflB+YH5wfoBw==",
          "dtype": "i2"
         },
         "y": {
          "bdata": "AAAAAABeuEAAAAAAAJ69QAAAAAAAM8FAAAAAAIALxEAAAAAAgArGQAAAAACAQMdAAAAAAIDJx0AAAAAAAFXHQAAAAACA7sdAAAAAAIDxx0AAAAAAAMrGQAAAAACAg8ZAAAAAAIDQx0AAAAAAgPLKQAAAAAAAPc9AAAAAAMAO0kAAAAAAABvSQAAAAACAZtFAAAAAAIDy0EAAAAAAAPnQQA==",
          "dtype": "f8"
         }
        },
        {
         "hoverinfo": "name+y",
         "line": {
          "color": "lightgray",
          "width": 1
         },
         "mode": "lines",
         "name": "Friskvård och kroppsvård",
         "type": "scatter",
         "x": {
          "bdata": "1QfWB9cH2AfZB9oH2wfcB90H3gffB+AH4QfiB+MH5AflB+YH5wfoBw==",
          "dtype": "i2"
         },
         "y": {
          "bdata": "AAAAAAAQfkAAAAAAABCHQAAAAAAAmItAAAAAAAAIj0AAAAAAAIiPQAAAAAAAyIpAAAAAAAB4gkAAAAAAADB3QAAAAAAAsHZAAAAAAACgdEAAAAAAAAB2QAAAAAAA8HJAAAAAAADAbUAAAAAAAOBsQAAAAAAA4HJAAAAAAADwdEAAAAAAAEB3QAAAAAAAgHlAAAAAAADAfEAAAAAAAOB2QA==",
          "dtype": "f8"
         }
        },
        {
         "hoverinfo": "name+y",
         "line": {
          "color": "lightgray",
          "width": 1
         },
         "mode": "lines",
         "name": "Hotell, restaurang och turism",
         "type": "scatter",
         "x": {
          "bdata": "1QfWB9cH2AfZB9oH2wfcB90H3gffB+AH4QfiB+MH5AflB+YH5wfoBw==",
          "dtype": "i2"
         },
         "y": {
          "bdata": "AAAAAABeoUAAAAAAAPCjQAAAAAAAsqZAAAAAAAACqEAAAAAAACqnQAAAAAAAsqZAAAAAAACQpkAAAAAAAECkQAAAAAAAuqNAAAAAAAD8o0AAAAAAAFykQAAAAAAAyqNAAAAAAADMo0AAAAAAAIajQAAAAAAAPKVAAAAAAAAsqEAAAAAAAOSpQAAAAAAAfqdAAAAAAACCpUAAAAAAAOClQA==",
          "dtype": "f8"
         }
        },
        {
         "hoverinfo": "name+y",
         "line": {
          "color": "lightgray",
          "width": 1
         },
         "mode": "lines",
         "name": "Hälso- och sjukvård samt socialt arbete",
         "type": "scatter",
         "x": {
          "bdata": "1QfWB9cH2AfZB9oH2wfcB90H3gffB+AH4QfiB+MH5AflB+YH5wfoBw==",
          "dtype": "i2"
         },
         "y": {
          "bdata": "AAAAAABgp0AAAAAAAL6tQAAAAAAAaLBAAAAAAAB6r0AAAAAAAPavQAAAAAAAkLFAAAAAAAAwskAAAAAAAK2xQAAAAAAAZbNAAAAAAABqtkAAAAAAAIe3QAAAAAAAErhAAAAAAABHukAAAAAAABu9QAAAAACAo8FAAAAAAABMxUAAAAAAAIrHQAAAAAAAKMlAAAAAAIB0yEAAAAAAAEbHQA==",
          "dtype": "f8"
         }
        },
        {
         "hoverinfo": "name+y",
         "line": {
          "color": "lightgray",
          "width": 1
         },
         "mode": "lines",
         "name": "Journalistik och information",
         "type": "scatter",
         "x": {
          "bdata": "1QfWB9cH2AfZB9oH2wfcB90H3gffB+AH4QfiB+MH5AflB+YH5wfoBw==",
          "dtype": "i2"
         },
         "y": {
          "bdata": "AAAAAACAXEAAAAAAAIBZQAAAAAAAgFxAAAAAAADgY0AAAAAAAKBqQAAAAAAAAHBAAAAAAACwckAAAAAAAFBxQAAAAAAA0HlAAAAAAABog0AAAAAAAEiEQAAAAAAAmIZAAAAAAAAQiUAAAAAAAAiKQAAAAAAAQIxAAAAAAAA4jkAAAAAAAECNQAAAAAAAuIlAAAAAAACAh0AAAAAAADCEQA==",
          "dtype": "f8"
         }
        },
        {
         "hoverinfo": "name+y",
         "line": {
          "color": "lightgray",
          "width": 1
         },
         "mode": "lines",
         "name": "Juridik",
         "type": "scatter",
         "x": {
          "bdata": "1QfWB9cH2AfZB9oH2wfcB90H3gffB+AH4QfiB+MH5AflB+YH5wfoBw==",
          "dtype": "i2"
         },
         "y": {
          "bdata": "AAAAAAAA+H8AAAAAAIBOQAAAAAAAgF5AAAAAAACgY0AAAAAAAOBkQAAAAAAAoGVAAAAAAADgZUAAAAAAAEBuQAAAAAAAgHFAAAAAAADAcUAAAAAAAFBzQAAAAAAAAHVAAAAAAADAeUAAAAAAAGB7QAAAAAAAMHxAAAAAAABAfkAAAAAAAIB+QAAAAAAAAHpAAAAAAACgdUAAAAAAAKB1QA==",
          "dtype": "f8"
         }
        },
        {
         "hoverinfo": "name+y",
         "line": {
          "color": "lightgray",
          "width": 1
         },
         "mode": "lines",
         "name": "Kultur, media och design",
         "type": "scatter",
         "x": {
          "bdata": "1QfWB9cH2AfZB9oH2wfcB90H3gffB+AH4QfiB+MH5AflB+YH5wfoBw==",
          "dtype": "i2"
         },
         "y": {
          "bdata": "AAAAAADkpUAAAAAAAPSmQAAAAAAAmqZAAAAAAABip0AAAAAAABCnQAAAAAAAzqVAAAAAAAAMpEAAAAAAAHSiQAAAAAAAmqNAAAAAAACGpEAAAAAAAKKlQAAAAAAApKVAAAAAAABipkAAAAAAALCmQAAAAAAAkKdAAAAAAADQqkAAAAAAAJiuQAAAAAAAf7BAAAAAAABpsUAAAAAAAByyQA==",
          "dtype": "f8"
         }
        },
        {
         "hoverinfo": "name+y",
         "line": {
          "color": "lightgray",
          "width": 1
         },
         "mode": "lines",
         "name": "Lantbruk, djurvård, trädgård, skog och fiske",
         "type": "scatter",
         "x": {
          "bdata": "1QfWB9cH2AfZB9oH2wfcB90H3gffB+AH4QfiB+MH5AflB+YH5wfoBw==",
          "dtype": "i2"
         },
         "y": {
          "bdata": "AAAAAADAjEAAAAAAAPSUQAAAAAAACJhAAAAAAAB4l0AAAAAAADSYQAAAAAAAoJpAAAAAAADYmUAAAAAAANSWQAAAAAAALJVAAAAAAACMk0AAAAAAAGyUQAAAAAAA/JVAAAAAAACIlkAAAAAAAECVQAAAAAAAIJZAAAAAAAA0mUAAAAAAAEicQAAAAAAAeJ5AAAAAAABWoEAAAAAAAFSiQA==",
          "dtype": "f8"
         }
        },
        {
         "hoverinfo": "name+y",
         "line": {
          "color": "lightgray",
          "width": 1
         },
         "mode": "lines",
         "name": "Pedagogik och undervisning",
         "type": "scatter",
         "x": {
          "bdata": "1QfWB9cH2AfZB9oH2wfcB90H3gffB+AH4QfiB+MH5AflB+YH5wfoBw==",
          "dtype": "i2"
         },
         "y": {
          "bdata": "AAAAAAAAMEAAAAAAAMBZQAAAAAAAQGdAAAAAAACAa0AAAAAAAEBvQAAAAAAA4HxAAAAAAACghEAAAAAAAGB8QAAAAAAAgHpAAAAAAABQfkAAAAAAAGB6QAAAAAAAsIBAAAAAAABwhEAAAAAAAOiKQAAAAAAAJJRAAAAAAADgl0AAAAAAADicQAAAAAAA4J5AAAAAAACYl0AAAAAAAByRQA==",
          "dtype": "f8"
         }
        },
        {
         "hoverinfo": "name+y",
         "line": {
          "color": "lightgray",
          "width": 1
         },
         "mode": "lines",
         "name": "Samhällsbyggnad och byggteknik",
         "type": "scatter",
         "x": {
          "bdata": "1QfWB9cH2AfZB9oH2wfcB90H3gffB+AH4QfiB+MH5AflB+YH5wfoBw==",
          "dtype": "i2"
         },
         "y": {
          "bdata": "AAAAAAD0lUAAAAAAAGieQAAAAAAAqKJAAAAAAACipEAAAAAAAN6oQAAAAAAAqKtAAAAAAACcrkAAAAAAAAuxQAAAAAAAh7JAAAAAAABps0AAAAAAAIi1QAAAAAAAsrdAAAAAAACvukAAAAAAAG69QAAAAACAncFAAAAAAICNxkAAAAAAAOTIQAAAAAAAd8lAAAAAAICIyEAAAAAAgKTJQA==",
          "dtype": "f8"
         }
        },
        {
         "hoverinfo": "name+y",
         "line": {
          "color": "lightgray",
          "width": 1
         },
         "mode": "lines",
         "name": "Säkerhetstjänster",
         "type": "scatter",
         "x": {
          "bdata": "1QfWB9cH2AfZB9oH2wfcB90H3gffB+AH4QfiB+MH5AflB+YH5wfoBw==",
          "dtype": "i2"
         },
         "y": {
          "bdata": "AAAAAACwcEAAAAAAAJB6QAAAAAAAqIFAAAAAAACQg0AAAAAAAKiDQAAAAAAAAIFAAAAAAACwfEAAAAAAACB3QAAAAAAAAHVAAAAAAADgdUAAAAAAAKB3QAAAAAAAcHdAAAAAAAAwcUAAAAAAAMBxQAAAAAAAgHlAAAAAAAAYgkAAAAAAAJCCQAAAAAAA2IdAAAAAAAAIikAAAAAAAPCJQA==",
          "dtype": "f8"
         }
        },
        {
         "hoverinfo": "name+y",
         "line": {
          "color": "lightgray",
          "width": 1
         },
         "mode": "lines",
         "name": "Teknik och tillverkning",
         "type": "scatter",
         "x": {
          "bdata": "1QfWB9cH2AfZB9oH2wfcB90H3gffB+AH4QfiB+MH5AflB+YH5wfoBw==",
          "dtype": "i2"
         },
         "y": {
          "bdata": "AAAAAACgrkAAAAAAANawQAAAAAAAQLNAAAAAAAC7tUAAAAAAAG+5QAAAAAAA5rtAAAAAAACmvEAAAAAAAEu6QAAAAAAAfLtAAAAAAACgvEAAAAAAANu8QAAAAAAAW7xAAAAAAACSu0AAAAAAALe6QAAAAAAAU75AAAAAAIBlw0AAAAAAgAfGQAAAAACAFsZAAAAAAIDexkAAAAAAANXJQA==",
          "dtype": "f8"
         }
        },
        {
         "hoverinfo": "name+y",
         "line": {
          "color": "lightgray",
          "width": 1
         },
         "mode": "lines",
         "name": "Transporttjänster",
         "type": "scatter",
         "x": {
          "bdata": "1QfWB9cH2AfZB9oH2wfcB90H3gffB+AH4QfiB+MH5AflB+YH5wfoBw==",
          "dtype": "i2"
         },
         "y": {
          "bdata": "AAAAAACwiUAAAAAAADyRQAAAAAAALJVAAAAAAADUmEAAAAAAAHyaQAAAAAAACJ1AAAAAAADQnEAAAAAAADyXQAAAAAAAcJFAAAAAAABojUAAAAAAAJiSQAAAAAAAIJhAAAAAAADonEAAAAAAAFSbQAAAAAAAJJpAAAAAAAB0m0AAAAAAAJSYQAAAAAAASJdAAAAAAABImUAAAAAAAGyaQA==",
          "dtype": "f8"
         }
        }
       ],
       "layout": {
        "annotations": [
         {
          "arrowhead": 2,
          "ax": 0,
          "ay": -60,
          "bgcolor": "white",
          "bordercolor": "royalblue",
          "borderwidth": 1,
          "font": {
           "color": "royalblue",
           "size": 12
          },
          "showarrow": true,
          "text": "📈 Utbildningsområdet med störst ökning de senaste 20 åren",
          "x": 2024,
          "y": 17380
         }
        ],
        "hovermode": "x unified",
        "legend": {
         "title": {
          "text": "Utbildningsinriktning"
         }
        },
        "paper_bgcolor": "white",
        "plot_bgcolor": "white",
        "template": {
         "data": {
          "bar": [
           {
            "error_x": {
             "color": "#2a3f5f"
            },
            "error_y": {
             "color": "#2a3f5f"
            },
            "marker": {
             "line": {
              "color": "#E5ECF6",
              "width": 0.5
             },
             "pattern": {
              "fillmode": "overlay",
              "size": 10,
              "solidity": 0.2
             }
            },
            "type": "bar"
           }
          ],
          "barpolar": [
           {
            "marker": {
             "line": {
              "color": "#E5ECF6",
              "width": 0.5
             },
             "pattern": {
              "fillmode": "overlay",
              "size": 10,
              "solidity": 0.2
             }
            },
            "type": "barpolar"
           }
          ],
          "carpet": [
           {
            "aaxis": {
             "endlinecolor": "#2a3f5f",
             "gridcolor": "white",
             "linecolor": "white",
             "minorgridcolor": "white",
             "startlinecolor": "#2a3f5f"
            },
            "baxis": {
             "endlinecolor": "#2a3f5f",
             "gridcolor": "white",
             "linecolor": "white",
             "minorgridcolor": "white",
             "startlinecolor": "#2a3f5f"
            },
            "type": "carpet"
           }
          ],
          "choropleth": [
           {
            "colorbar": {
             "outlinewidth": 0,
             "ticks": ""
            },
            "type": "choropleth"
           }
          ],
          "contour": [
           {
            "colorbar": {
             "outlinewidth": 0,
             "ticks": ""
            },
            "colorscale": [
             [
              0,
              "#0d0887"
             ],
             [
              0.1111111111111111,
              "#46039f"
             ],
             [
              0.2222222222222222,
              "#7201a8"
             ],
             [
              0.3333333333333333,
              "#9c179e"
             ],
             [
              0.4444444444444444,
              "#bd3786"
             ],
             [
              0.5555555555555556,
              "#d8576b"
             ],
             [
              0.6666666666666666,
              "#ed7953"
             ],
             [
              0.7777777777777778,
              "#fb9f3a"
             ],
             [
              0.8888888888888888,
              "#fdca26"
             ],
             [
              1,
              "#f0f921"
             ]
            ],
            "type": "contour"
           }
          ],
          "contourcarpet": [
           {
            "colorbar": {
             "outlinewidth": 0,
             "ticks": ""
            },
            "type": "contourcarpet"
           }
          ],
          "heatmap": [
           {
            "colorbar": {
             "outlinewidth": 0,
             "ticks": ""
            },
            "colorscale": [
             [
              0,
              "#0d0887"
             ],
             [
              0.1111111111111111,
              "#46039f"
             ],
             [
              0.2222222222222222,
              "#7201a8"
             ],
             [
              0.3333333333333333,
              "#9c179e"
             ],
             [
              0.4444444444444444,
              "#bd3786"
             ],
             [
              0.5555555555555556,
              "#d8576b"
             ],
             [
              0.6666666666666666,
              "#ed7953"
             ],
             [
              0.7777777777777778,
              "#fb9f3a"
             ],
             [
              0.8888888888888888,
              "#fdca26"
             ],
             [
              1,
              "#f0f921"
             ]
            ],
            "type": "heatmap"
           }
          ],
          "histogram": [
           {
            "marker": {
             "pattern": {
              "fillmode": "overlay",
              "size": 10,
              "solidity": 0.2
             }
            },
            "type": "histogram"
           }
          ],
          "histogram2d": [
           {
            "colorbar": {
             "outlinewidth": 0,
             "ticks": ""
            },
            "colorscale": [
             [
              0,
              "#0d0887"
             ],
             [
              0.1111111111111111,
              "#46039f"
             ],
             [
              0.2222222222222222,
              "#7201a8"
             ],
             [
              0.3333333333333333,
              "#9c179e"
             ],
             [
              0.4444444444444444,
              "#bd3786"
             ],
             [
              0.5555555555555556,
              "#d8576b"
             ],
             [
              0.6666666666666666,
              "#ed7953"
             ],
             [
              0.7777777777777778,
              "#fb9f3a"
             ],
             [
              0.8888888888888888,
              "#fdca26"
             ],
             [
              1,
              "#f0f921"
             ]
            ],
            "type": "histogram2d"
           }
          ],
          "histogram2dcontour": [
           {
            "colorbar": {
             "outlinewidth": 0,
             "ticks": ""
            },
            "colorscale": [
             [
              0,
              "#0d0887"
             ],
             [
              0.1111111111111111,
              "#46039f"
             ],
             [
              0.2222222222222222,
              "#7201a8"
             ],
             [
              0.3333333333333333,
              "#9c179e"
             ],
             [
              0.4444444444444444,
              "#bd3786"
             ],
             [
              0.5555555555555556,
              "#d8576b"
             ],
             [
              0.6666666666666666,
              "#ed7953"
             ],
             [
              0.7777777777777778,
              "#fb9f3a"
             ],
             [
              0.8888888888888888,
              "#fdca26"
             ],
             [
              1,
              "#f0f921"
             ]
            ],
            "type": "histogram2dcontour"
           }
          ],
          "mesh3d": [
           {
            "colorbar": {
             "outlinewidth": 0,
             "ticks": ""
            },
            "type": "mesh3d"
           }
          ],
          "parcoords": [
           {
            "line": {
             "colorbar": {
              "outlinewidth": 0,
              "ticks": ""
             }
            },
            "type": "parcoords"
           }
          ],
          "pie": [
           {
            "automargin": true,
            "type": "pie"
           }
          ],
          "scatter": [
           {
            "fillpattern": {
             "fillmode": "overlay",
             "size": 10,
             "solidity": 0.2
            },
            "type": "scatter"
           }
          ],
          "scatter3d": [
           {
            "line": {
             "colorbar": {
              "outlinewidth": 0,
              "ticks": ""
             }
            },
            "marker": {
             "colorbar": {
              "outlinewidth": 0,
              "ticks": ""
             }
            },
            "type": "scatter3d"
           }
          ],
          "scattercarpet": [
           {
            "marker": {
             "colorbar": {
              "outlinewidth": 0,
              "ticks": ""
             }
            },
            "type": "scattercarpet"
           }
          ],
          "scattergeo": [
           {
            "marker": {
             "colorbar": {
              "outlinewidth": 0,
              "ticks": ""
             }
            },
            "type": "scattergeo"
           }
          ],
          "scattergl": [
           {
            "marker": {
             "colorbar": {
              "outlinewidth": 0,
              "ticks": ""
             }
            },
            "type": "scattergl"
           }
          ],
          "scattermap": [
           {
            "marker": {
             "colorbar": {
              "outlinewidth": 0,
              "ticks": ""
             }
            },
            "type": "scattermap"
           }
          ],
          "scattermapbox": [
           {
            "marker": {
             "colorbar": {
              "outlinewidth": 0,
              "ticks": ""
             }
            },
            "type": "scattermapbox"
           }
          ],
          "scatterpolar": [
           {
            "marker": {
             "colorbar": {
              "outlinewidth": 0,
              "ticks": ""
             }
            },
            "type": "scatterpolar"
           }
          ],
          "scatterpolargl": [
           {
            "marker": {
             "colorbar": {
              "outlinewidth": 0,
              "ticks": ""
             }
            },
            "type": "scatterpolargl"
           }
          ],
          "scatterternary": [
           {
            "marker": {
             "colorbar": {
              "outlinewidth": 0,
              "ticks": ""
             }
            },
            "type": "scatterternary"
           }
          ],
          "surface": [
           {
            "colorbar": {
             "outlinewidth": 0,
             "ticks": ""
            },
            "colorscale": [
             [
              0,
              "#0d0887"
             ],
             [
              0.1111111111111111,
              "#46039f"
             ],
             [
              0.2222222222222222,
              "#7201a8"
             ],
             [
              0.3333333333333333,
              "#9c179e"
             ],
             [
              0.4444444444444444,
              "#bd3786"
             ],
             [
              0.5555555555555556,
              "#d8576b"
             ],
             [
              0.6666666666666666,
              "#ed7953"
             ],
             [
              0.7777777777777778,
              "#fb9f3a"
             ],
             [
              0.8888888888888888,
              "#fdca26"
             ],
             [
              1,
              "#f0f921"
             ]
            ],
            "type": "surface"
           }
          ],
          "table": [
           {
            "cells": {
             "fill": {
              "color": "#EBF0F8"
             },
             "line": {
              "color": "white"
             }
            },
            "header": {
             "fill": {
              "color": "#C8D4E3"
             },
             "line": {
              "color": "white"
             }
            },
            "type": "table"
           }
          ]
         },
         "layout": {
          "annotationdefaults": {
           "arrowcolor": "#2a3f5f",
           "arrowhead": 0,
           "arrowwidth": 1
          },
          "autotypenumbers": "strict",
          "coloraxis": {
           "colorbar": {
            "outlinewidth": 0,
            "ticks": ""
           }
          },
          "colorscale": {
           "diverging": [
            [
             0,
             "#8e0152"
            ],
            [
             0.1,
             "#c51b7d"
            ],
            [
             0.2,
             "#de77ae"
            ],
            [
             0.3,
             "#f1b6da"
            ],
            [
             0.4,
             "#fde0ef"
            ],
            [
             0.5,
             "#f7f7f7"
            ],
            [
             0.6,
             "#e6f5d0"
            ],
            [
             0.7,
             "#b8e186"
            ],
            [
             0.8,
             "#7fbc41"
            ],
            [
             0.9,
             "#4d9221"
            ],
            [
             1,
             "#276419"
            ]
           ],
           "sequential": [
            [
             0,
             "#0d0887"
            ],
            [
             0.1111111111111111,
             "#46039f"
            ],
            [
             0.2222222222222222,
             "#7201a8"
            ],
            [
             0.3333333333333333,
             "#9c179e"
            ],
            [
             0.4444444444444444,
             "#bd3786"
            ],
            [
             0.5555555555555556,
             "#d8576b"
            ],
            [
             0.6666666666666666,
             "#ed7953"
            ],
            [
             0.7777777777777778,
             "#fb9f3a"
            ],
            [
             0.8888888888888888,
             "#fdca26"
            ],
            [
             1,
             "#f0f921"
            ]
           ],
           "sequentialminus": [
            [
             0,
             "#0d0887"
            ],
            [
             0.1111111111111111,
             "#46039f"
            ],
            [
             0.2222222222222222,
             "#7201a8"
            ],
            [
             0.3333333333333333,
             "#9c179e"
            ],
            [
             0.4444444444444444,
             "#bd3786"
            ],
            [
             0.5555555555555556,
             "#d8576b"
            ],
            [
             0.6666666666666666,
             "#ed7953"
            ],
            [
             0.7777777777777778,
             "#fb9f3a"
            ],
            [
             0.8888888888888888,
             "#fdca26"
            ],
            [
             1,
             "#f0f921"
            ]
           ]
          },
          "colorway": [
           "#636efa",
           "#EF553B",
           "#00cc96",
           "#ab63fa",
           "#FFA15A",
           "#19d3f3",
           "#FF6692",
           "#B6E880",
           "#FF97FF",
           "#FECB52"
          ],
          "font": {
           "color": "#2a3f5f"
          },
          "geo": {
           "bgcolor": "white",
           "lakecolor": "white",
           "landcolor": "#E5ECF6",
           "showlakes": true,
           "showland": true,
           "subunitcolor": "white"
          },
          "hoverlabel": {
           "align": "left"
          },
          "hovermode": "closest",
          "mapbox": {
           "style": "light"
          },
          "paper_bgcolor": "white",
          "plot_bgcolor": "#E5ECF6",
          "polar": {
           "angularaxis": {
            "gridcolor": "white",
            "linecolor": "white",
            "ticks": ""
           },
           "bgcolor": "#E5ECF6",
           "radialaxis": {
            "gridcolor": "white",
            "linecolor": "white",
            "ticks": ""
           }
          },
          "scene": {
           "xaxis": {
            "backgroundcolor": "#E5ECF6",
            "gridcolor": "white",
            "gridwidth": 2,
            "linecolor": "white",
            "showbackground": true,
            "ticks": "",
            "zerolinecolor": "white"
           },
           "yaxis": {
            "backgroundcolor": "#E5ECF6",
            "gridcolor": "white",
            "gridwidth": 2,
            "linecolor": "white",
            "showbackground": true,
            "ticks": "",
            "zerolinecolor": "white"
           },
           "zaxis": {
            "backgroundcolor": "#E5ECF6",
            "gridcolor": "white",
            "gridwidth": 2,
            "linecolor": "white",
            "showbackground": true,
            "ticks": "",
            "zerolinecolor": "white"
           }
          },
          "shapedefaults": {
           "line": {
            "color": "#2a3f5f"
           }
          },
          "ternary": {
           "aaxis": {
            "gridcolor": "white",
            "linecolor": "white",
            "ticks": ""
           },
           "baxis": {
            "gridcolor": "white",
            "linecolor": "white",
            "ticks": ""
           },
           "bgcolor": "#E5ECF6",
           "caxis": {
            "gridcolor": "white",
            "linecolor": "white",
            "ticks": ""
           }
          },
          "title": {
           "x": 0.05
          },
          "xaxis": {
           "automargin": true,
           "gridcolor": "white",
           "linecolor": "white",
           "ticks": "",
           "title": {
            "standoff": 15
           },
           "zerolinecolor": "white",
           "zerolinewidth": 2
          },
          "yaxis": {
           "automargin": true,
           "gridcolor": "white",
           "linecolor": "white",
           "ticks": "",
           "title": {
            "standoff": 15
           },
           "zerolinecolor": "white",
           "zerolinewidth": 2
          }
         }
        },
        "title": {
         "text": "Utveckling av antal studerande per utbildningsområde"
        },
        "xaxis": {
         "range": [
          2005,
          2024
         ],
         "tickmode": "array",
         "tickvals": [
          2005,
          2010,
          2015,
          2020,
          2024
         ],
         "title": {
          "text": "År"
         }
        },
        "yaxis": {
         "title": {
          "text": "Antal studerande"
         }
        }
       }
      }
     },
     "metadata": {},
     "output_type": "display_data"
    }
   ],
   "source": [
    "fig = create_highlighted_line_chart(df_long)\n",
    "fig.show()\n"
   ]
  },
  {
   "cell_type": "code",
   "execution_count": null,
   "id": "46ae6c6a",
   "metadata": {},
   "outputs": [
    {
     "ename": "NameError",
     "evalue": "name 'latest_value' is not defined",
     "output_type": "error",
     "traceback": [
      "\u001b[0;31m---------------------------------------------------------------------------\u001b[0m",
      "\u001b[0;31mNameError\u001b[0m                                 Traceback (most recent call last)",
      "Cell \u001b[0;32mIn[276], line 3\u001b[0m\n\u001b[1;32m      1\u001b[0m fig\u001b[38;5;241m.\u001b[39madd_annotation(\n\u001b[1;32m      2\u001b[0m     x\u001b[38;5;241m=\u001b[39mlatest_year,\n\u001b[0;32m----> 3\u001b[0m     y\u001b[38;5;241m=\u001b[39m\u001b[43mlatest_value\u001b[49m,\n\u001b[1;32m      4\u001b[0m     text\u001b[38;5;241m=\u001b[39m\u001b[38;5;124m\"\u001b[39m\u001b[38;5;124m📈 Utbildningsområdet med störst ökning de senaste 20 åren\u001b[39m\u001b[38;5;124m\"\u001b[39m,\n\u001b[1;32m      5\u001b[0m     showarrow\u001b[38;5;241m=\u001b[39m\u001b[38;5;28;01mTrue\u001b[39;00m,\n\u001b[1;32m      6\u001b[0m     arrowhead\u001b[38;5;241m=\u001b[39m\u001b[38;5;241m3\u001b[39m,\n\u001b[1;32m      7\u001b[0m     ax\u001b[38;5;241m=\u001b[39m\u001b[38;5;241m-\u001b[39m\u001b[38;5;241m120\u001b[39m,  \u001b[38;5;66;03m# texten till vänster\u001b[39;00m\n\u001b[1;32m      8\u001b[0m     ay\u001b[38;5;241m=\u001b[39m\u001b[38;5;241m-\u001b[39m\u001b[38;5;241m80\u001b[39m,   \u001b[38;5;66;03m# texten ovanför\u001b[39;00m\n\u001b[1;32m      9\u001b[0m     arrowwidth\u001b[38;5;241m=\u001b[39m\u001b[38;5;241m2\u001b[39m,\n\u001b[1;32m     10\u001b[0m     arrowcolor\u001b[38;5;241m=\u001b[39m\u001b[38;5;124m\"\u001b[39m\u001b[38;5;124mroyalblue\u001b[39m\u001b[38;5;124m\"\u001b[39m,\n\u001b[1;32m     11\u001b[0m     font\u001b[38;5;241m=\u001b[39m\u001b[38;5;28mdict\u001b[39m(color\u001b[38;5;241m=\u001b[39m\u001b[38;5;124m\"\u001b[39m\u001b[38;5;124mroyalblue\u001b[39m\u001b[38;5;124m\"\u001b[39m, size\u001b[38;5;241m=\u001b[39m\u001b[38;5;241m12\u001b[39m),\n\u001b[1;32m     12\u001b[0m     bgcolor\u001b[38;5;241m=\u001b[39m\u001b[38;5;124m\"\u001b[39m\u001b[38;5;124mwhite\u001b[39m\u001b[38;5;124m\"\u001b[39m,\n\u001b[1;32m     13\u001b[0m     bordercolor\u001b[38;5;241m=\u001b[39m\u001b[38;5;124m\"\u001b[39m\u001b[38;5;124mroyalblue\u001b[39m\u001b[38;5;124m\"\u001b[39m,\n\u001b[1;32m     14\u001b[0m     borderwidth\u001b[38;5;241m=\u001b[39m\u001b[38;5;241m1\u001b[39m\n\u001b[1;32m     15\u001b[0m )\n",
      "\u001b[0;31mNameError\u001b[0m: name 'latest_value' is not defined"
     ]
    }
   ],
   "source": [
    "fig.add_annotation(\n",
    "    x=latest_year,\n",
    "    y=latest_value,\n",
    "    text=\"📈 Utbildningsområdet med störst ökning de senaste 20 åren\",\n",
    "    showarrow=True,\n",
    "    arrowhead=3,\n",
    "    ax=-120,  # texten till vänster\n",
    "    ay=-80,   # texten ovanför\n",
    "    arrowwidth=2,\n",
    "    arrowcolor=\"royalblue\",\n",
    "    font=dict(color=\"royalblue\", size=12),\n",
    "    bgcolor=\"white\",\n",
    "    bordercolor=\"royalblue\",\n",
    "    borderwidth=1\n",
    ")\n"
   ]
  },
  {
   "cell_type": "code",
   "execution_count": null,
   "id": "27d40a4f",
   "metadata": {},
   "outputs": [],
   "source": [
    "import plotly.express as px\n",
    "import plotly.graph_objects as go\n",
    "\n",
    "def create_highlighted_line_chart(df_long):\n",
    "    highlight_area = \"Ekonomi, administration och försäljning\"\n",
    "\n",
    "    # Grupp och pivotera för att få format anpassat för line chart\n",
    "    df_pivot = df_long.pivot_table(\n",
    "        index=\"År\",\n",
    "        columns=\"Utbildningsinriktning\",\n",
    "        values=\"Antal studerande\",\n",
    "        aggfunc=\"sum\"\n",
    "    ).reset_index()\n",
    "\n",
    "    # Skapa en tom figur\n",
    "    fig = go.Figure()\n",
    "\n",
    "    # Lägg till en linje per utbildningsområde\n",
    "    for area in df_pivot.columns[1:]:  # skippar 'År'-kolumnen\n",
    "        fig.add_trace(go.Scatter(\n",
    "            x=df_pivot[\"År\"],\n",
    "            y=df_pivot[area],\n",
    "            mode=\"lines+markers\",\n",
    "            name=area,\n",
    "            line=dict(color=\"royalblue\" if area == highlight_area else \"lightgray\", width=3 if area == highlight_area else 1),\n",
    "            hoverinfo=\"name+y\"\n",
    "        ))\n",
    "\n",
    "    # Ta fram senaste värdet för highlight_area\n",
    "    latest_year = df_pivot[\"År\"].max()\n",
    "    latest_value = df_pivot.loc[df_pivot[\"År\"] == latest_year, highlight_area].values[0]\n",
    "\n",
    "    # Lägg till en annotation (pil och text)\n",
    "    fig.add_annotation(\n",
    "        x=latest_year,\n",
    "        y=latest_value,\n",
    "        text=\"Utbildningsområdet med störst ökning de senaste 20 åren\",\n",
    "        showarrow=True,\n",
    "        arrowhead=2,\n",
    "        ax=0,\n",
    "        ay=-60,\n",
    "        font=dict(color=\"royalblue\", size=12),\n",
    "        bgcolor=\"white\",\n",
    "        bordercolor=\"royalblue\",\n",
    "        borderwidth=1\n",
    "    )\n",
    "\n",
    "    # Layout-inställningar\n",
    "    fig.update_layout(\n",
    "        title=\"Utveckling av antal studerande per utbildningsområde\",\n",
    "        xaxis_title=\"År\",\n",
    "        yaxis_title=\"Antal studerande\",\n",
    "        plot_bgcolor=\"white\",\n",
    "        paper_bgcolor=\"white\",\n",
    "        legend_title=\"Utbildningsinriktning\",\n",
    "        hovermode=\"x unified\"\n",
    "    )\n",
    "\n",
    "    return fig\n"
   ]
  },
  {
   "cell_type": "code",
   "execution_count": null,
   "id": "9af9b6c2",
   "metadata": {},
   "outputs": [
    {
     "data": {
      "application/vnd.plotly.v1+json": {
       "config": {
        "plotlyServerURL": "https://plot.ly"
       },
       "data": [
        {
         "hoverinfo": "name+y",
         "line": {
          "color": "lightgray",
          "width": 1
         },
         "mode": "lines+markers",
         "name": "Data/It",
         "type": "scatter",
         "x": {
          "bdata": "1QfWB9cH2AfZB9oH2wfcB90H3gffB+AH4QfiB+MH5AflB+YH5wfoBw==",
          "dtype": "i2"
         },
         "y": {
          "bdata": "AAAAAAA2pEAAAAAAAOSjQAAAAAAA2qVAAAAAAAACpkAAAAAAAFKmQAAAAAAArqZAAAAAAACwqEAAAAAAAIyqQAAAAAAArK9AAAAAAABJs0AAAAAAALS2QAAAAAAAJ7hAAAAAAABCuEAAAAAAAEi2QAAAAAAArrtAAAAAAIAVxEAAAAAAABrJQAAAAACA18tAAAAAAACdzUAAAAAAwA/QQA==",
          "dtype": "f8"
         }
        },
        {
         "hoverinfo": "name+y",
         "line": {
          "color": "royalblue",
          "width": 3
         },
         "mode": "lines+markers",
         "name": "Ekonomi, administration och försäljning",
         "type": "scatter",
         "x": {
          "bdata": "1QfWB9cH2AfZB9oH2wfcB90H3gffB+AH4QfiB+MH5AflB+YH5wfoBw==",
          "dtype": "i2"
         },
         "y": {
          "bdata": "AAAAAABeuEAAAAAAAJ69QAAAAAAAM8FAAAAAAIALxEAAAAAAgArGQAAAAACAQMdAAAAAAIDJx0AAAAAAAFXHQAAAAACA7sdAAAAAAIDxx0AAAAAAAMrGQAAAAACAg8ZAAAAAAIDQx0AAAAAAgPLKQAAAAAAAPc9AAAAAAMAO0kAAAAAAABvSQAAAAACAZtFAAAAAAIDy0EAAAAAAAPnQQA==",
          "dtype": "f8"
         }
        },
        {
         "hoverinfo": "name+y",
         "line": {
          "color": "lightgray",
          "width": 1
         },
         "mode": "lines+markers",
         "name": "Friskvård och kroppsvård",
         "type": "scatter",
         "x": {
          "bdata": "1QfWB9cH2AfZB9oH2wfcB90H3gffB+AH4QfiB+MH5AflB+YH5wfoBw==",
          "dtype": "i2"
         },
         "y": {
          "bdata": "AAAAAAAQfkAAAAAAABCHQAAAAAAAmItAAAAAAAAIj0AAAAAAAIiPQAAAAAAAyIpAAAAAAAB4gkAAAAAAADB3QAAAAAAAsHZAAAAAAACgdEAAAAAAAAB2QAAAAAAA8HJAAAAAAADAbUAAAAAAAOBsQAAAAAAA4HJAAAAAAADwdEAAAAAAAEB3QAAAAAAAgHlAAAAAAADAfEAAAAAAAOB2QA==",
          "dtype": "f8"
         }
        },
        {
         "hoverinfo": "name+y",
         "line": {
          "color": "lightgray",
          "width": 1
         },
         "mode": "lines+markers",
         "name": "Hotell, restaurang och turism",
         "type": "scatter",
         "x": {
          "bdata": "1QfWB9cH2AfZB9oH2wfcB90H3gffB+AH4QfiB+MH5AflB+YH5wfoBw==",
          "dtype": "i2"
         },
         "y": {
          "bdata": "AAAAAABeoUAAAAAAAPCjQAAAAAAAsqZAAAAAAAACqEAAAAAAACqnQAAAAAAAsqZAAAAAAACQpkAAAAAAAECkQAAAAAAAuqNAAAAAAAD8o0AAAAAAAFykQAAAAAAAyqNAAAAAAADMo0AAAAAAAIajQAAAAAAAPKVAAAAAAAAsqEAAAAAAAOSpQAAAAAAAfqdAAAAAAACCpUAAAAAAAOClQA==",
          "dtype": "f8"
         }
        },
        {
         "hoverinfo": "name+y",
         "line": {
          "color": "lightgray",
          "width": 1
         },
         "mode": "lines+markers",
         "name": "Hälso- och sjukvård samt socialt arbete",
         "type": "scatter",
         "x": {
          "bdata": "1QfWB9cH2AfZB9oH2wfcB90H3gffB+AH4QfiB+MH5AflB+YH5wfoBw==",
          "dtype": "i2"
         },
         "y": {
          "bdata": "AAAAAABgp0AAAAAAAL6tQAAAAAAAaLBAAAAAAAB6r0AAAAAAAPavQAAAAAAAkLFAAAAAAAAwskAAAAAAAK2xQAAAAAAAZbNAAAAAAABqtkAAAAAAAIe3QAAAAAAAErhAAAAAAABHukAAAAAAABu9QAAAAACAo8FAAAAAAABMxUAAAAAAAIrHQAAAAAAAKMlAAAAAAIB0yEAAAAAAAEbHQA==",
          "dtype": "f8"
         }
        },
        {
         "hoverinfo": "name+y",
         "line": {
          "color": "lightgray",
          "width": 1
         },
         "mode": "lines+markers",
         "name": "Journalistik och information",
         "type": "scatter",
         "x": {
          "bdata": "1QfWB9cH2AfZB9oH2wfcB90H3gffB+AH4QfiB+MH5AflB+YH5wfoBw==",
          "dtype": "i2"
         },
         "y": {
          "bdata": "AAAAAACAXEAAAAAAAIBZQAAAAAAAgFxAAAAAAADgY0AAAAAAAKBqQAAAAAAAAHBAAAAAAACwckAAAAAAAFBxQAAAAAAA0HlAAAAAAABog0AAAAAAAEiEQAAAAAAAmIZAAAAAAAAQiUAAAAAAAAiKQAAAAAAAQIxAAAAAAAA4jkAAAAAAAECNQAAAAAAAuIlAAAAAAACAh0AAAAAAADCEQA==",
          "dtype": "f8"
         }
        },
        {
         "hoverinfo": "name+y",
         "line": {
          "color": "lightgray",
          "width": 1
         },
         "mode": "lines+markers",
         "name": "Juridik",
         "type": "scatter",
         "x": {
          "bdata": "1QfWB9cH2AfZB9oH2wfcB90H3gffB+AH4QfiB+MH5AflB+YH5wfoBw==",
          "dtype": "i2"
         },
         "y": {
          "bdata": "AAAAAAAA+H8AAAAAAIBOQAAAAAAAgF5AAAAAAACgY0AAAAAAAOBkQAAAAAAAoGVAAAAAAADgZUAAAAAAAEBuQAAAAAAAgHFAAAAAAADAcUAAAAAAAFBzQAAAAAAAAHVAAAAAAADAeUAAAAAAAGB7QAAAAAAAMHxAAAAAAABAfkAAAAAAAIB+QAAAAAAAAHpAAAAAAACgdUAAAAAAAKB1QA==",
          "dtype": "f8"
         }
        },
        {
         "hoverinfo": "name+y",
         "line": {
          "color": "lightgray",
          "width": 1
         },
         "mode": "lines+markers",
         "name": "Kultur, media och design",
         "type": "scatter",
         "x": {
          "bdata": "1QfWB9cH2AfZB9oH2wfcB90H3gffB+AH4QfiB+MH5AflB+YH5wfoBw==",
          "dtype": "i2"
         },
         "y": {
          "bdata": "AAAAAADkpUAAAAAAAPSmQAAAAAAAmqZAAAAAAABip0AAAAAAABCnQAAAAAAAzqVAAAAAAAAMpEAAAAAAAHSiQAAAAAAAmqNAAAAAAACGpEAAAAAAAKKlQAAAAAAApKVAAAAAAABipkAAAAAAALCmQAAAAAAAkKdAAAAAAADQqkAAAAAAAJiuQAAAAAAAf7BAAAAAAABpsUAAAAAAAByyQA==",
          "dtype": "f8"
         }
        },
        {
         "hoverinfo": "name+y",
         "line": {
          "color": "lightgray",
          "width": 1
         },
         "mode": "lines+markers",
         "name": "Lantbruk, djurvård, trädgård, skog och fiske",
         "type": "scatter",
         "x": {
          "bdata": "1QfWB9cH2AfZB9oH2wfcB90H3gffB+AH4QfiB+MH5AflB+YH5wfoBw==",
          "dtype": "i2"
         },
         "y": {
          "bdata": "AAAAAADAjEAAAAAAAPSUQAAAAAAACJhAAAAAAAB4l0AAAAAAADSYQAAAAAAAoJpAAAAAAADYmUAAAAAAANSWQAAAAAAALJVAAAAAAACMk0AAAAAAAGyUQAAAAAAA/JVAAAAAAACIlkAAAAAAAECVQAAAAAAAIJZAAAAAAAA0mUAAAAAAAEicQAAAAAAAeJ5AAAAAAABWoEAAAAAAAFSiQA==",
          "dtype": "f8"
         }
        },
        {
         "hoverinfo": "name+y",
         "line": {
          "color": "lightgray",
          "width": 1
         },
         "mode": "lines+markers",
         "name": "Pedagogik och undervisning",
         "type": "scatter",
         "x": {
          "bdata": "1QfWB9cH2AfZB9oH2wfcB90H3gffB+AH4QfiB+MH5AflB+YH5wfoBw==",
          "dtype": "i2"
         },
         "y": {
          "bdata": "AAAAAAAAMEAAAAAAAMBZQAAAAAAAQGdAAAAAAACAa0AAAAAAAEBvQAAAAAAA4HxAAAAAAACghEAAAAAAAGB8QAAAAAAAgHpAAAAAAABQfkAAAAAAAGB6QAAAAAAAsIBAAAAAAABwhEAAAAAAAOiKQAAAAAAAJJRAAAAAAADgl0AAAAAAADicQAAAAAAA4J5AAAAAAACYl0AAAAAAAByRQA==",
          "dtype": "f8"
         }
        },
        {
         "hoverinfo": "name+y",
         "line": {
          "color": "lightgray",
          "width": 1
         },
         "mode": "lines+markers",
         "name": "Samhällsbyggnad och byggteknik",
         "type": "scatter",
         "x": {
          "bdata": "1QfWB9cH2AfZB9oH2wfcB90H3gffB+AH4QfiB+MH5AflB+YH5wfoBw==",
          "dtype": "i2"
         },
         "y": {
          "bdata": "AAAAAAD0lUAAAAAAAGieQAAAAAAAqKJAAAAAAACipEAAAAAAAN6oQAAAAAAAqKtAAAAAAACcrkAAAAAAAAuxQAAAAAAAh7JAAAAAAABps0AAAAAAAIi1QAAAAAAAsrdAAAAAAACvukAAAAAAAG69QAAAAACAncFAAAAAAICNxkAAAAAAAOTIQAAAAAAAd8lAAAAAAICIyEAAAAAAgKTJQA==",
          "dtype": "f8"
         }
        },
        {
         "hoverinfo": "name+y",
         "line": {
          "color": "lightgray",
          "width": 1
         },
         "mode": "lines+markers",
         "name": "Säkerhetstjänster",
         "type": "scatter",
         "x": {
          "bdata": "1QfWB9cH2AfZB9oH2wfcB90H3gffB+AH4QfiB+MH5AflB+YH5wfoBw==",
          "dtype": "i2"
         },
         "y": {
          "bdata": "AAAAAACwcEAAAAAAAJB6QAAAAAAAqIFAAAAAAACQg0AAAAAAAKiDQAAAAAAAAIFAAAAAAACwfEAAAAAAACB3QAAAAAAAAHVAAAAAAADgdUAAAAAAAKB3QAAAAAAAcHdAAAAAAAAwcUAAAAAAAMBxQAAAAAAAgHlAAAAAAAAYgkAAAAAAAJCCQAAAAAAA2IdAAAAAAAAIikAAAAAAAPCJQA==",
          "dtype": "f8"
         }
        },
        {
         "hoverinfo": "name+y",
         "line": {
          "color": "lightgray",
          "width": 1
         },
         "mode": "lines+markers",
         "name": "Teknik och tillverkning",
         "type": "scatter",
         "x": {
          "bdata": "1QfWB9cH2AfZB9oH2wfcB90H3gffB+AH4QfiB+MH5AflB+YH5wfoBw==",
          "dtype": "i2"
         },
         "y": {
          "bdata": "AAAAAACgrkAAAAAAANawQAAAAAAAQLNAAAAAAAC7tUAAAAAAAG+5QAAAAAAA5rtAAAAAAACmvEAAAAAAAEu6QAAAAAAAfLtAAAAAAACgvEAAAAAAANu8QAAAAAAAW7xAAAAAAACSu0AAAAAAALe6QAAAAAAAU75AAAAAAIBlw0AAAAAAgAfGQAAAAACAFsZAAAAAAIDexkAAAAAAANXJQA==",
          "dtype": "f8"
         }
        },
        {
         "hoverinfo": "name+y",
         "line": {
          "color": "lightgray",
          "width": 1
         },
         "mode": "lines+markers",
         "name": "Transporttjänster",
         "type": "scatter",
         "x": {
          "bdata": "1QfWB9cH2AfZB9oH2wfcB90H3gffB+AH4QfiB+MH5AflB+YH5wfoBw==",
          "dtype": "i2"
         },
         "y": {
          "bdata": "AAAAAACwiUAAAAAAADyRQAAAAAAALJVAAAAAAADUmEAAAAAAAHyaQAAAAAAACJ1AAAAAAADQnEAAAAAAADyXQAAAAAAAcJFAAAAAAABojUAAAAAAAJiSQAAAAAAAIJhAAAAAAADonEAAAAAAAFSbQAAAAAAAJJpAAAAAAAB0m0AAAAAAAJSYQAAAAAAASJdAAAAAAABImUAAAAAAAGyaQA==",
          "dtype": "f8"
         }
        }
       ],
       "layout": {
        "annotations": [
         {
          "arrowhead": 2,
          "ax": 0,
          "ay": -60,
          "bgcolor": "white",
          "bordercolor": "royalblue",
          "borderwidth": 1,
          "font": {
           "color": "royalblue",
           "size": 12
          },
          "showarrow": true,
          "text": "📈 Utbildningsområdet med störst ökning de senaste 20 åren",
          "x": 2024,
          "y": 17380
         }
        ],
        "hovermode": "x unified",
        "legend": {
         "title": {
          "text": "Utbildningsinriktning"
         }
        },
        "paper_bgcolor": "white",
        "plot_bgcolor": "white",
        "template": {
         "data": {
          "bar": [
           {
            "error_x": {
             "color": "#2a3f5f"
            },
            "error_y": {
             "color": "#2a3f5f"
            },
            "marker": {
             "line": {
              "color": "#E5ECF6",
              "width": 0.5
             },
             "pattern": {
              "fillmode": "overlay",
              "size": 10,
              "solidity": 0.2
             }
            },
            "type": "bar"
           }
          ],
          "barpolar": [
           {
            "marker": {
             "line": {
              "color": "#E5ECF6",
              "width": 0.5
             },
             "pattern": {
              "fillmode": "overlay",
              "size": 10,
              "solidity": 0.2
             }
            },
            "type": "barpolar"
           }
          ],
          "carpet": [
           {
            "aaxis": {
             "endlinecolor": "#2a3f5f",
             "gridcolor": "white",
             "linecolor": "white",
             "minorgridcolor": "white",
             "startlinecolor": "#2a3f5f"
            },
            "baxis": {
             "endlinecolor": "#2a3f5f",
             "gridcolor": "white",
             "linecolor": "white",
             "minorgridcolor": "white",
             "startlinecolor": "#2a3f5f"
            },
            "type": "carpet"
           }
          ],
          "choropleth": [
           {
            "colorbar": {
             "outlinewidth": 0,
             "ticks": ""
            },
            "type": "choropleth"
           }
          ],
          "contour": [
           {
            "colorbar": {
             "outlinewidth": 0,
             "ticks": ""
            },
            "colorscale": [
             [
              0,
              "#0d0887"
             ],
             [
              0.1111111111111111,
              "#46039f"
             ],
             [
              0.2222222222222222,
              "#7201a8"
             ],
             [
              0.3333333333333333,
              "#9c179e"
             ],
             [
              0.4444444444444444,
              "#bd3786"
             ],
             [
              0.5555555555555556,
              "#d8576b"
             ],
             [
              0.6666666666666666,
              "#ed7953"
             ],
             [
              0.7777777777777778,
              "#fb9f3a"
             ],
             [
              0.8888888888888888,
              "#fdca26"
             ],
             [
              1,
              "#f0f921"
             ]
            ],
            "type": "contour"
           }
          ],
          "contourcarpet": [
           {
            "colorbar": {
             "outlinewidth": 0,
             "ticks": ""
            },
            "type": "contourcarpet"
           }
          ],
          "heatmap": [
           {
            "colorbar": {
             "outlinewidth": 0,
             "ticks": ""
            },
            "colorscale": [
             [
              0,
              "#0d0887"
             ],
             [
              0.1111111111111111,
              "#46039f"
             ],
             [
              0.2222222222222222,
              "#7201a8"
             ],
             [
              0.3333333333333333,
              "#9c179e"
             ],
             [
              0.4444444444444444,
              "#bd3786"
             ],
             [
              0.5555555555555556,
              "#d8576b"
             ],
             [
              0.6666666666666666,
              "#ed7953"
             ],
             [
              0.7777777777777778,
              "#fb9f3a"
             ],
             [
              0.8888888888888888,
              "#fdca26"
             ],
             [
              1,
              "#f0f921"
             ]
            ],
            "type": "heatmap"
           }
          ],
          "histogram": [
           {
            "marker": {
             "pattern": {
              "fillmode": "overlay",
              "size": 10,
              "solidity": 0.2
             }
            },
            "type": "histogram"
           }
          ],
          "histogram2d": [
           {
            "colorbar": {
             "outlinewidth": 0,
             "ticks": ""
            },
            "colorscale": [
             [
              0,
              "#0d0887"
             ],
             [
              0.1111111111111111,
              "#46039f"
             ],
             [
              0.2222222222222222,
              "#7201a8"
             ],
             [
              0.3333333333333333,
              "#9c179e"
             ],
             [
              0.4444444444444444,
              "#bd3786"
             ],
             [
              0.5555555555555556,
              "#d8576b"
             ],
             [
              0.6666666666666666,
              "#ed7953"
             ],
             [
              0.7777777777777778,
              "#fb9f3a"
             ],
             [
              0.8888888888888888,
              "#fdca26"
             ],
             [
              1,
              "#f0f921"
             ]
            ],
            "type": "histogram2d"
           }
          ],
          "histogram2dcontour": [
           {
            "colorbar": {
             "outlinewidth": 0,
             "ticks": ""
            },
            "colorscale": [
             [
              0,
              "#0d0887"
             ],
             [
              0.1111111111111111,
              "#46039f"
             ],
             [
              0.2222222222222222,
              "#7201a8"
             ],
             [
              0.3333333333333333,
              "#9c179e"
             ],
             [
              0.4444444444444444,
              "#bd3786"
             ],
             [
              0.5555555555555556,
              "#d8576b"
             ],
             [
              0.6666666666666666,
              "#ed7953"
             ],
             [
              0.7777777777777778,
              "#fb9f3a"
             ],
             [
              0.8888888888888888,
              "#fdca26"
             ],
             [
              1,
              "#f0f921"
             ]
            ],
            "type": "histogram2dcontour"
           }
          ],
          "mesh3d": [
           {
            "colorbar": {
             "outlinewidth": 0,
             "ticks": ""
            },
            "type": "mesh3d"
           }
          ],
          "parcoords": [
           {
            "line": {
             "colorbar": {
              "outlinewidth": 0,
              "ticks": ""
             }
            },
            "type": "parcoords"
           }
          ],
          "pie": [
           {
            "automargin": true,
            "type": "pie"
           }
          ],
          "scatter": [
           {
            "fillpattern": {
             "fillmode": "overlay",
             "size": 10,
             "solidity": 0.2
            },
            "type": "scatter"
           }
          ],
          "scatter3d": [
           {
            "line": {
             "colorbar": {
              "outlinewidth": 0,
              "ticks": ""
             }
            },
            "marker": {
             "colorbar": {
              "outlinewidth": 0,
              "ticks": ""
             }
            },
            "type": "scatter3d"
           }
          ],
          "scattercarpet": [
           {
            "marker": {
             "colorbar": {
              "outlinewidth": 0,
              "ticks": ""
             }
            },
            "type": "scattercarpet"
           }
          ],
          "scattergeo": [
           {
            "marker": {
             "colorbar": {
              "outlinewidth": 0,
              "ticks": ""
             }
            },
            "type": "scattergeo"
           }
          ],
          "scattergl": [
           {
            "marker": {
             "colorbar": {
              "outlinewidth": 0,
              "ticks": ""
             }
            },
            "type": "scattergl"
           }
          ],
          "scattermap": [
           {
            "marker": {
             "colorbar": {
              "outlinewidth": 0,
              "ticks": ""
             }
            },
            "type": "scattermap"
           }
          ],
          "scattermapbox": [
           {
            "marker": {
             "colorbar": {
              "outlinewidth": 0,
              "ticks": ""
             }
            },
            "type": "scattermapbox"
           }
          ],
          "scatterpolar": [
           {
            "marker": {
             "colorbar": {
              "outlinewidth": 0,
              "ticks": ""
             }
            },
            "type": "scatterpolar"
           }
          ],
          "scatterpolargl": [
           {
            "marker": {
             "colorbar": {
              "outlinewidth": 0,
              "ticks": ""
             }
            },
            "type": "scatterpolargl"
           }
          ],
          "scatterternary": [
           {
            "marker": {
             "colorbar": {
              "outlinewidth": 0,
              "ticks": ""
             }
            },
            "type": "scatterternary"
           }
          ],
          "surface": [
           {
            "colorbar": {
             "outlinewidth": 0,
             "ticks": ""
            },
            "colorscale": [
             [
              0,
              "#0d0887"
             ],
             [
              0.1111111111111111,
              "#46039f"
             ],
             [
              0.2222222222222222,
              "#7201a8"
             ],
             [
              0.3333333333333333,
              "#9c179e"
             ],
             [
              0.4444444444444444,
              "#bd3786"
             ],
             [
              0.5555555555555556,
              "#d8576b"
             ],
             [
              0.6666666666666666,
              "#ed7953"
             ],
             [
              0.7777777777777778,
              "#fb9f3a"
             ],
             [
              0.8888888888888888,
              "#fdca26"
             ],
             [
              1,
              "#f0f921"
             ]
            ],
            "type": "surface"
           }
          ],
          "table": [
           {
            "cells": {
             "fill": {
              "color": "#EBF0F8"
             },
             "line": {
              "color": "white"
             }
            },
            "header": {
             "fill": {
              "color": "#C8D4E3"
             },
             "line": {
              "color": "white"
             }
            },
            "type": "table"
           }
          ]
         },
         "layout": {
          "annotationdefaults": {
           "arrowcolor": "#2a3f5f",
           "arrowhead": 0,
           "arrowwidth": 1
          },
          "autotypenumbers": "strict",
          "coloraxis": {
           "colorbar": {
            "outlinewidth": 0,
            "ticks": ""
           }
          },
          "colorscale": {
           "diverging": [
            [
             0,
             "#8e0152"
            ],
            [
             0.1,
             "#c51b7d"
            ],
            [
             0.2,
             "#de77ae"
            ],
            [
             0.3,
             "#f1b6da"
            ],
            [
             0.4,
             "#fde0ef"
            ],
            [
             0.5,
             "#f7f7f7"
            ],
            [
             0.6,
             "#e6f5d0"
            ],
            [
             0.7,
             "#b8e186"
            ],
            [
             0.8,
             "#7fbc41"
            ],
            [
             0.9,
             "#4d9221"
            ],
            [
             1,
             "#276419"
            ]
           ],
           "sequential": [
            [
             0,
             "#0d0887"
            ],
            [
             0.1111111111111111,
             "#46039f"
            ],
            [
             0.2222222222222222,
             "#7201a8"
            ],
            [
             0.3333333333333333,
             "#9c179e"
            ],
            [
             0.4444444444444444,
             "#bd3786"
            ],
            [
             0.5555555555555556,
             "#d8576b"
            ],
            [
             0.6666666666666666,
             "#ed7953"
            ],
            [
             0.7777777777777778,
             "#fb9f3a"
            ],
            [
             0.8888888888888888,
             "#fdca26"
            ],
            [
             1,
             "#f0f921"
            ]
           ],
           "sequentialminus": [
            [
             0,
             "#0d0887"
            ],
            [
             0.1111111111111111,
             "#46039f"
            ],
            [
             0.2222222222222222,
             "#7201a8"
            ],
            [
             0.3333333333333333,
             "#9c179e"
            ],
            [
             0.4444444444444444,
             "#bd3786"
            ],
            [
             0.5555555555555556,
             "#d8576b"
            ],
            [
             0.6666666666666666,
             "#ed7953"
            ],
            [
             0.7777777777777778,
             "#fb9f3a"
            ],
            [
             0.8888888888888888,
             "#fdca26"
            ],
            [
             1,
             "#f0f921"
            ]
           ]
          },
          "colorway": [
           "#636efa",
           "#EF553B",
           "#00cc96",
           "#ab63fa",
           "#FFA15A",
           "#19d3f3",
           "#FF6692",
           "#B6E880",
           "#FF97FF",
           "#FECB52"
          ],
          "font": {
           "color": "#2a3f5f"
          },
          "geo": {
           "bgcolor": "white",
           "lakecolor": "white",
           "landcolor": "#E5ECF6",
           "showlakes": true,
           "showland": true,
           "subunitcolor": "white"
          },
          "hoverlabel": {
           "align": "left"
          },
          "hovermode": "closest",
          "mapbox": {
           "style": "light"
          },
          "paper_bgcolor": "white",
          "plot_bgcolor": "#E5ECF6",
          "polar": {
           "angularaxis": {
            "gridcolor": "white",
            "linecolor": "white",
            "ticks": ""
           },
           "bgcolor": "#E5ECF6",
           "radialaxis": {
            "gridcolor": "white",
            "linecolor": "white",
            "ticks": ""
           }
          },
          "scene": {
           "xaxis": {
            "backgroundcolor": "#E5ECF6",
            "gridcolor": "white",
            "gridwidth": 2,
            "linecolor": "white",
            "showbackground": true,
            "ticks": "",
            "zerolinecolor": "white"
           },
           "yaxis": {
            "backgroundcolor": "#E5ECF6",
            "gridcolor": "white",
            "gridwidth": 2,
            "linecolor": "white",
            "showbackground": true,
            "ticks": "",
            "zerolinecolor": "white"
           },
           "zaxis": {
            "backgroundcolor": "#E5ECF6",
            "gridcolor": "white",
            "gridwidth": 2,
            "linecolor": "white",
            "showbackground": true,
            "ticks": "",
            "zerolinecolor": "white"
           }
          },
          "shapedefaults": {
           "line": {
            "color": "#2a3f5f"
           }
          },
          "ternary": {
           "aaxis": {
            "gridcolor": "white",
            "linecolor": "white",
            "ticks": ""
           },
           "baxis": {
            "gridcolor": "white",
            "linecolor": "white",
            "ticks": ""
           },
           "bgcolor": "#E5ECF6",
           "caxis": {
            "gridcolor": "white",
            "linecolor": "white",
            "ticks": ""
           }
          },
          "title": {
           "x": 0.05
          },
          "xaxis": {
           "automargin": true,
           "gridcolor": "white",
           "linecolor": "white",
           "ticks": "",
           "title": {
            "standoff": 15
           },
           "zerolinecolor": "white",
           "zerolinewidth": 2
          },
          "yaxis": {
           "automargin": true,
           "gridcolor": "white",
           "linecolor": "white",
           "ticks": "",
           "title": {
            "standoff": 15
           },
           "zerolinecolor": "white",
           "zerolinewidth": 2
          }
         }
        },
        "title": {
         "text": "Utveckling av antal studerande per utbildningsområde"
        },
        "xaxis": {
         "title": {
          "text": "År"
         }
        },
        "yaxis": {
         "title": {
          "text": "Antal studerande"
         }
        }
       }
      }
     },
     "metadata": {},
     "output_type": "display_data"
    }
   ],
   "source": [
    "fig = create_highlighted_line_chart(df_long)\n",
    "fig.show()\n"
   ]
  },
  {
   "cell_type": "code",
   "execution_count": 319,
   "id": "6d24df75",
   "metadata": {},
   "outputs": [],
   "source": [
    "import plotly.graph_objects as go\n",
    "\n",
    "def create_highlighted_line_chart(df_long):\n",
    "    highlight_area = \"Ekonomi, administration och försäljning\"\n",
    "\n",
    "    # Pivotera för line chart\n",
    "    df_pivot = df_long.pivot_table(\n",
    "        index=\"År\",\n",
    "        columns=\"Utbildningsinriktning\",\n",
    "        values=\"Antal studerande\",\n",
    "        aggfunc=\"sum\"\n",
    "    ).reset_index()\n",
    "\n",
    "    fig = go.Figure()\n",
    "\n",
    "    for area in df_pivot.columns[1:]:  # Skippa 'År'\n",
    "        fig.add_trace(go.Scatter(\n",
    "            x=df_pivot[\"År\"],\n",
    "            y=df_pivot[area],\n",
    "            mode=\"lines\",  # Endast linjer, inga prickar\n",
    "            name=area,\n",
    "            line=dict(\n",
    "                color=\"royalblue\" if area == highlight_area else \"lightgray\",\n",
    "                width=3 if area == highlight_area else 1\n",
    "            ),\n",
    "            hoverinfo=\"name+y\"\n",
    "        ))\n",
    "\n",
    "    # Hämta senaste värdet\n",
    "    latest_year = df_pivot[\"År\"].max()\n",
    "    latest_value = df_pivot.loc[df_pivot[\"År\"] == latest_year, highlight_area].values[0]\n",
    "\n",
    "    fig.add_annotation(\n",
    "        x=2020,\n",
    "        y=latest_value,\n",
    "        text=\"Stadig ökning i 20 år\",\n",
    "        showarrow=True,\n",
    "        arrowhead=2,\n",
    "        ax=0,\n",
    "        ay=-60,\n",
    "        font=dict(color=\"royalblue\", size=12),\n",
    "        bgcolor=\"white\",\n",
    "        bordercolor=\"royalblue\",\n",
    "        borderwidth=1\n",
    "    )\n",
    "\n",
    "    # Layout\n",
    "    fig.update_layout(\n",
    "        title=\"Störst och växande: Ekonomi och försäljning i topp bland utbildningsområden\",\n",
    "        xaxis_title=\"År\",\n",
    "        yaxis_title=\"Antal studerande\",\n",
    "        plot_bgcolor=\"white\",\n",
    "        paper_bgcolor=\"white\",\n",
    "        legend_title=\"Utbildningsinriktning\",\n",
    "        hovermode=\"x unified\",\n",
    "        xaxis=dict(\n",
    "            range=[2005, 2024],            # Begränsa till rätt år\n",
    "            tickmode=\"array\",\n",
    "            tickvals=[2005, 2010, 2015, 2020, 2024]  #Visa var femte år\n",
    "        )\n",
    "    )\n",
    "\n",
    "    return fig\n"
   ]
  },
  {
   "cell_type": "code",
   "execution_count": 318,
   "id": "e54acb30",
   "metadata": {},
   "outputs": [
    {
     "data": {
      "application/vnd.plotly.v1+json": {
       "config": {
        "plotlyServerURL": "https://plot.ly"
       },
       "data": [
        {
         "hoverinfo": "name+y",
         "line": {
          "color": "lightgray",
          "width": 1
         },
         "mode": "lines",
         "name": "Data/It",
         "type": "scatter",
         "x": {
          "bdata": "1QfWB9cH2AfZB9oH2wfcB90H3gffB+AH4QfiB+MH5AflB+YH5wfoBw==",
          "dtype": "i2"
         },
         "y": {
          "bdata": "AAAAAAA2pEAAAAAAAOSjQAAAAAAA2qVAAAAAAAACpkAAAAAAAFKmQAAAAAAArqZAAAAAAACwqEAAAAAAAIyqQAAAAAAArK9AAAAAAABJs0AAAAAAALS2QAAAAAAAJ7hAAAAAAABCuEAAAAAAAEi2QAAAAAAArrtAAAAAAIAVxEAAAAAAABrJQAAAAACA18tAAAAAAACdzUAAAAAAwA/QQA==",
          "dtype": "f8"
         }
        },
        {
         "hoverinfo": "name+y",
         "line": {
          "color": "royalblue",
          "width": 3
         },
         "mode": "lines",
         "name": "Ekonomi, administration och försäljning",
         "type": "scatter",
         "x": {
          "bdata": "1QfWB9cH2AfZB9oH2wfcB90H3gffB+AH4QfiB+MH5AflB+YH5wfoBw==",
          "dtype": "i2"
         },
         "y": {
          "bdata": "AAAAAABeuEAAAAAAAJ69QAAAAAAAM8FAAAAAAIALxEAAAAAAgArGQAAAAACAQMdAAAAAAIDJx0AAAAAAAFXHQAAAAACA7sdAAAAAAIDxx0AAAAAAAMrGQAAAAACAg8ZAAAAAAIDQx0AAAAAAgPLKQAAAAAAAPc9AAAAAAMAO0kAAAAAAABvSQAAAAACAZtFAAAAAAIDy0EAAAAAAAPnQQA==",
          "dtype": "f8"
         }
        },
        {
         "hoverinfo": "name+y",
         "line": {
          "color": "lightgray",
          "width": 1
         },
         "mode": "lines",
         "name": "Friskvård och kroppsvård",
         "type": "scatter",
         "x": {
          "bdata": "1QfWB9cH2AfZB9oH2wfcB90H3gffB+AH4QfiB+MH5AflB+YH5wfoBw==",
          "dtype": "i2"
         },
         "y": {
          "bdata": "AAAAAAAQfkAAAAAAABCHQAAAAAAAmItAAAAAAAAIj0AAAAAAAIiPQAAAAAAAyIpAAAAAAAB4gkAAAAAAADB3QAAAAAAAsHZAAAAAAACgdEAAAAAAAAB2QAAAAAAA8HJAAAAAAADAbUAAAAAAAOBsQAAAAAAA4HJAAAAAAADwdEAAAAAAAEB3QAAAAAAAgHlAAAAAAADAfEAAAAAAAOB2QA==",
          "dtype": "f8"
         }
        },
        {
         "hoverinfo": "name+y",
         "line": {
          "color": "lightgray",
          "width": 1
         },
         "mode": "lines",
         "name": "Hotell, restaurang och turism",
         "type": "scatter",
         "x": {
          "bdata": "1QfWB9cH2AfZB9oH2wfcB90H3gffB+AH4QfiB+MH5AflB+YH5wfoBw==",
          "dtype": "i2"
         },
         "y": {
          "bdata": "AAAAAABeoUAAAAAAAPCjQAAAAAAAsqZAAAAAAAACqEAAAAAAACqnQAAAAAAAsqZAAAAAAACQpkAAAAAAAECkQAAAAAAAuqNAAAAAAAD8o0AAAAAAAFykQAAAAAAAyqNAAAAAAADMo0AAAAAAAIajQAAAAAAAPKVAAAAAAAAsqEAAAAAAAOSpQAAAAAAAfqdAAAAAAACCpUAAAAAAAOClQA==",
          "dtype": "f8"
         }
        },
        {
         "hoverinfo": "name+y",
         "line": {
          "color": "lightgray",
          "width": 1
         },
         "mode": "lines",
         "name": "Hälso- och sjukvård samt socialt arbete",
         "type": "scatter",
         "x": {
          "bdata": "1QfWB9cH2AfZB9oH2wfcB90H3gffB+AH4QfiB+MH5AflB+YH5wfoBw==",
          "dtype": "i2"
         },
         "y": {
          "bdata": "AAAAAABgp0AAAAAAAL6tQAAAAAAAaLBAAAAAAAB6r0AAAAAAAPavQAAAAAAAkLFAAAAAAAAwskAAAAAAAK2xQAAAAAAAZbNAAAAAAABqtkAAAAAAAIe3QAAAAAAAErhAAAAAAABHukAAAAAAABu9QAAAAACAo8FAAAAAAABMxUAAAAAAAIrHQAAAAAAAKMlAAAAAAIB0yEAAAAAAAEbHQA==",
          "dtype": "f8"
         }
        },
        {
         "hoverinfo": "name+y",
         "line": {
          "color": "lightgray",
          "width": 1
         },
         "mode": "lines",
         "name": "Journalistik och information",
         "type": "scatter",
         "x": {
          "bdata": "1QfWB9cH2AfZB9oH2wfcB90H3gffB+AH4QfiB+MH5AflB+YH5wfoBw==",
          "dtype": "i2"
         },
         "y": {
          "bdata": "AAAAAACAXEAAAAAAAIBZQAAAAAAAgFxAAAAAAADgY0AAAAAAAKBqQAAAAAAAAHBAAAAAAACwckAAAAAAAFBxQAAAAAAA0HlAAAAAAABog0AAAAAAAEiEQAAAAAAAmIZAAAAAAAAQiUAAAAAAAAiKQAAAAAAAQIxAAAAAAAA4jkAAAAAAAECNQAAAAAAAuIlAAAAAAACAh0AAAAAAADCEQA==",
          "dtype": "f8"
         }
        },
        {
         "hoverinfo": "name+y",
         "line": {
          "color": "lightgray",
          "width": 1
         },
         "mode": "lines",
         "name": "Juridik",
         "type": "scatter",
         "x": {
          "bdata": "1QfWB9cH2AfZB9oH2wfcB90H3gffB+AH4QfiB+MH5AflB+YH5wfoBw==",
          "dtype": "i2"
         },
         "y": {
          "bdata": "AAAAAAAA+H8AAAAAAIBOQAAAAAAAgF5AAAAAAACgY0AAAAAAAOBkQAAAAAAAoGVAAAAAAADgZUAAAAAAAEBuQAAAAAAAgHFAAAAAAADAcUAAAAAAAFBzQAAAAAAAAHVAAAAAAADAeUAAAAAAAGB7QAAAAAAAMHxAAAAAAABAfkAAAAAAAIB+QAAAAAAAAHpAAAAAAACgdUAAAAAAAKB1QA==",
          "dtype": "f8"
         }
        },
        {
         "hoverinfo": "name+y",
         "line": {
          "color": "lightgray",
          "width": 1
         },
         "mode": "lines",
         "name": "Kultur, media och design",
         "type": "scatter",
         "x": {
          "bdata": "1QfWB9cH2AfZB9oH2wfcB90H3gffB+AH4QfiB+MH5AflB+YH5wfoBw==",
          "dtype": "i2"
         },
         "y": {
          "bdata": "AAAAAADkpUAAAAAAAPSmQAAAAAAAmqZAAAAAAABip0AAAAAAABCnQAAAAAAAzqVAAAAAAAAMpEAAAAAAAHSiQAAAAAAAmqNAAAAAAACGpEAAAAAAAKKlQAAAAAAApKVAAAAAAABipkAAAAAAALCmQAAAAAAAkKdAAAAAAADQqkAAAAAAAJiuQAAAAAAAf7BAAAAAAABpsUAAAAAAAByyQA==",
          "dtype": "f8"
         }
        },
        {
         "hoverinfo": "name+y",
         "line": {
          "color": "lightgray",
          "width": 1
         },
         "mode": "lines",
         "name": "Lantbruk, djurvård, trädgård, skog och fiske",
         "type": "scatter",
         "x": {
          "bdata": "1QfWB9cH2AfZB9oH2wfcB90H3gffB+AH4QfiB+MH5AflB+YH5wfoBw==",
          "dtype": "i2"
         },
         "y": {
          "bdata": "AAAAAADAjEAAAAAAAPSUQAAAAAAACJhAAAAAAAB4l0AAAAAAADSYQAAAAAAAoJpAAAAAAADYmUAAAAAAANSWQAAAAAAALJVAAAAAAACMk0AAAAAAAGyUQAAAAAAA/JVAAAAAAACIlkAAAAAAAECVQAAAAAAAIJZAAAAAAAA0mUAAAAAAAEicQAAAAAAAeJ5AAAAAAABWoEAAAAAAAFSiQA==",
          "dtype": "f8"
         }
        },
        {
         "hoverinfo": "name+y",
         "line": {
          "color": "lightgray",
          "width": 1
         },
         "mode": "lines",
         "name": "Pedagogik och undervisning",
         "type": "scatter",
         "x": {
          "bdata": "1QfWB9cH2AfZB9oH2wfcB90H3gffB+AH4QfiB+MH5AflB+YH5wfoBw==",
          "dtype": "i2"
         },
         "y": {
          "bdata": "AAAAAAAAMEAAAAAAAMBZQAAAAAAAQGdAAAAAAACAa0AAAAAAAEBvQAAAAAAA4HxAAAAAAACghEAAAAAAAGB8QAAAAAAAgHpAAAAAAABQfkAAAAAAAGB6QAAAAAAAsIBAAAAAAABwhEAAAAAAAOiKQAAAAAAAJJRAAAAAAADgl0AAAAAAADicQAAAAAAA4J5AAAAAAACYl0AAAAAAAByRQA==",
          "dtype": "f8"
         }
        },
        {
         "hoverinfo": "name+y",
         "line": {
          "color": "lightgray",
          "width": 1
         },
         "mode": "lines",
         "name": "Samhällsbyggnad och byggteknik",
         "type": "scatter",
         "x": {
          "bdata": "1QfWB9cH2AfZB9oH2wfcB90H3gffB+AH4QfiB+MH5AflB+YH5wfoBw==",
          "dtype": "i2"
         },
         "y": {
          "bdata": "AAAAAAD0lUAAAAAAAGieQAAAAAAAqKJAAAAAAACipEAAAAAAAN6oQAAAAAAAqKtAAAAAAACcrkAAAAAAAAuxQAAAAAAAh7JAAAAAAABps0AAAAAAAIi1QAAAAAAAsrdAAAAAAACvukAAAAAAAG69QAAAAACAncFAAAAAAICNxkAAAAAAAOTIQAAAAAAAd8lAAAAAAICIyEAAAAAAgKTJQA==",
          "dtype": "f8"
         }
        },
        {
         "hoverinfo": "name+y",
         "line": {
          "color": "lightgray",
          "width": 1
         },
         "mode": "lines",
         "name": "Säkerhetstjänster",
         "type": "scatter",
         "x": {
          "bdata": "1QfWB9cH2AfZB9oH2wfcB90H3gffB+AH4QfiB+MH5AflB+YH5wfoBw==",
          "dtype": "i2"
         },
         "y": {
          "bdata": "AAAAAACwcEAAAAAAAJB6QAAAAAAAqIFAAAAAAACQg0AAAAAAAKiDQAAAAAAAAIFAAAAAAACwfEAAAAAAACB3QAAAAAAAAHVAAAAAAADgdUAAAAAAAKB3QAAAAAAAcHdAAAAAAAAwcUAAAAAAAMBxQAAAAAAAgHlAAAAAAAAYgkAAAAAAAJCCQAAAAAAA2IdAAAAAAAAIikAAAAAAAPCJQA==",
          "dtype": "f8"
         }
        },
        {
         "hoverinfo": "name+y",
         "line": {
          "color": "lightgray",
          "width": 1
         },
         "mode": "lines",
         "name": "Teknik och tillverkning",
         "type": "scatter",
         "x": {
          "bdata": "1QfWB9cH2AfZB9oH2wfcB90H3gffB+AH4QfiB+MH5AflB+YH5wfoBw==",
          "dtype": "i2"
         },
         "y": {
          "bdata": "AAAAAACgrkAAAAAAANawQAAAAAAAQLNAAAAAAAC7tUAAAAAAAG+5QAAAAAAA5rtAAAAAAACmvEAAAAAAAEu6QAAAAAAAfLtAAAAAAACgvEAAAAAAANu8QAAAAAAAW7xAAAAAAACSu0AAAAAAALe6QAAAAAAAU75AAAAAAIBlw0AAAAAAgAfGQAAAAACAFsZAAAAAAIDexkAAAAAAANXJQA==",
          "dtype": "f8"
         }
        },
        {
         "hoverinfo": "name+y",
         "line": {
          "color": "lightgray",
          "width": 1
         },
         "mode": "lines",
         "name": "Transporttjänster",
         "type": "scatter",
         "x": {
          "bdata": "1QfWB9cH2AfZB9oH2wfcB90H3gffB+AH4QfiB+MH5AflB+YH5wfoBw==",
          "dtype": "i2"
         },
         "y": {
          "bdata": "AAAAAACwiUAAAAAAADyRQAAAAAAALJVAAAAAAADUmEAAAAAAAHyaQAAAAAAACJ1AAAAAAADQnEAAAAAAADyXQAAAAAAAcJFAAAAAAABojUAAAAAAAJiSQAAAAAAAIJhAAAAAAADonEAAAAAAAFSbQAAAAAAAJJpAAAAAAAB0m0AAAAAAAJSYQAAAAAAASJdAAAAAAABImUAAAAAAAGyaQA==",
          "dtype": "f8"
         }
        }
       ],
       "layout": {
        "annotations": [
         {
          "arrowhead": 2,
          "ax": 0,
          "ay": -60,
          "bgcolor": "white",
          "bordercolor": "royalblue",
          "borderwidth": 1,
          "font": {
           "color": "royalblue",
           "size": 12
          },
          "showarrow": true,
          "text": "Stadig ökning i 20 år",
          "x": 2020,
          "y": 17380
         }
        ],
        "hovermode": "x unified",
        "legend": {
         "title": {
          "text": "Utbildningsinriktning"
         }
        },
        "paper_bgcolor": "white",
        "plot_bgcolor": "white",
        "template": {
         "data": {
          "bar": [
           {
            "error_x": {
             "color": "#2a3f5f"
            },
            "error_y": {
             "color": "#2a3f5f"
            },
            "marker": {
             "line": {
              "color": "#E5ECF6",
              "width": 0.5
             },
             "pattern": {
              "fillmode": "overlay",
              "size": 10,
              "solidity": 0.2
             }
            },
            "type": "bar"
           }
          ],
          "barpolar": [
           {
            "marker": {
             "line": {
              "color": "#E5ECF6",
              "width": 0.5
             },
             "pattern": {
              "fillmode": "overlay",
              "size": 10,
              "solidity": 0.2
             }
            },
            "type": "barpolar"
           }
          ],
          "carpet": [
           {
            "aaxis": {
             "endlinecolor": "#2a3f5f",
             "gridcolor": "white",
             "linecolor": "white",
             "minorgridcolor": "white",
             "startlinecolor": "#2a3f5f"
            },
            "baxis": {
             "endlinecolor": "#2a3f5f",
             "gridcolor": "white",
             "linecolor": "white",
             "minorgridcolor": "white",
             "startlinecolor": "#2a3f5f"
            },
            "type": "carpet"
           }
          ],
          "choropleth": [
           {
            "colorbar": {
             "outlinewidth": 0,
             "ticks": ""
            },
            "type": "choropleth"
           }
          ],
          "contour": [
           {
            "colorbar": {
             "outlinewidth": 0,
             "ticks": ""
            },
            "colorscale": [
             [
              0,
              "#0d0887"
             ],
             [
              0.1111111111111111,
              "#46039f"
             ],
             [
              0.2222222222222222,
              "#7201a8"
             ],
             [
              0.3333333333333333,
              "#9c179e"
             ],
             [
              0.4444444444444444,
              "#bd3786"
             ],
             [
              0.5555555555555556,
              "#d8576b"
             ],
             [
              0.6666666666666666,
              "#ed7953"
             ],
             [
              0.7777777777777778,
              "#fb9f3a"
             ],
             [
              0.8888888888888888,
              "#fdca26"
             ],
             [
              1,
              "#f0f921"
             ]
            ],
            "type": "contour"
           }
          ],
          "contourcarpet": [
           {
            "colorbar": {
             "outlinewidth": 0,
             "ticks": ""
            },
            "type": "contourcarpet"
           }
          ],
          "heatmap": [
           {
            "colorbar": {
             "outlinewidth": 0,
             "ticks": ""
            },
            "colorscale": [
             [
              0,
              "#0d0887"
             ],
             [
              0.1111111111111111,
              "#46039f"
             ],
             [
              0.2222222222222222,
              "#7201a8"
             ],
             [
              0.3333333333333333,
              "#9c179e"
             ],
             [
              0.4444444444444444,
              "#bd3786"
             ],
             [
              0.5555555555555556,
              "#d8576b"
             ],
             [
              0.6666666666666666,
              "#ed7953"
             ],
             [
              0.7777777777777778,
              "#fb9f3a"
             ],
             [
              0.8888888888888888,
              "#fdca26"
             ],
             [
              1,
              "#f0f921"
             ]
            ],
            "type": "heatmap"
           }
          ],
          "histogram": [
           {
            "marker": {
             "pattern": {
              "fillmode": "overlay",
              "size": 10,
              "solidity": 0.2
             }
            },
            "type": "histogram"
           }
          ],
          "histogram2d": [
           {
            "colorbar": {
             "outlinewidth": 0,
             "ticks": ""
            },
            "colorscale": [
             [
              0,
              "#0d0887"
             ],
             [
              0.1111111111111111,
              "#46039f"
             ],
             [
              0.2222222222222222,
              "#7201a8"
             ],
             [
              0.3333333333333333,
              "#9c179e"
             ],
             [
              0.4444444444444444,
              "#bd3786"
             ],
             [
              0.5555555555555556,
              "#d8576b"
             ],
             [
              0.6666666666666666,
              "#ed7953"
             ],
             [
              0.7777777777777778,
              "#fb9f3a"
             ],
             [
              0.8888888888888888,
              "#fdca26"
             ],
             [
              1,
              "#f0f921"
             ]
            ],
            "type": "histogram2d"
           }
          ],
          "histogram2dcontour": [
           {
            "colorbar": {
             "outlinewidth": 0,
             "ticks": ""
            },
            "colorscale": [
             [
              0,
              "#0d0887"
             ],
             [
              0.1111111111111111,
              "#46039f"
             ],
             [
              0.2222222222222222,
              "#7201a8"
             ],
             [
              0.3333333333333333,
              "#9c179e"
             ],
             [
              0.4444444444444444,
              "#bd3786"
             ],
             [
              0.5555555555555556,
              "#d8576b"
             ],
             [
              0.6666666666666666,
              "#ed7953"
             ],
             [
              0.7777777777777778,
              "#fb9f3a"
             ],
             [
              0.8888888888888888,
              "#fdca26"
             ],
             [
              1,
              "#f0f921"
             ]
            ],
            "type": "histogram2dcontour"
           }
          ],
          "mesh3d": [
           {
            "colorbar": {
             "outlinewidth": 0,
             "ticks": ""
            },
            "type": "mesh3d"
           }
          ],
          "parcoords": [
           {
            "line": {
             "colorbar": {
              "outlinewidth": 0,
              "ticks": ""
             }
            },
            "type": "parcoords"
           }
          ],
          "pie": [
           {
            "automargin": true,
            "type": "pie"
           }
          ],
          "scatter": [
           {
            "fillpattern": {
             "fillmode": "overlay",
             "size": 10,
             "solidity": 0.2
            },
            "type": "scatter"
           }
          ],
          "scatter3d": [
           {
            "line": {
             "colorbar": {
              "outlinewidth": 0,
              "ticks": ""
             }
            },
            "marker": {
             "colorbar": {
              "outlinewidth": 0,
              "ticks": ""
             }
            },
            "type": "scatter3d"
           }
          ],
          "scattercarpet": [
           {
            "marker": {
             "colorbar": {
              "outlinewidth": 0,
              "ticks": ""
             }
            },
            "type": "scattercarpet"
           }
          ],
          "scattergeo": [
           {
            "marker": {
             "colorbar": {
              "outlinewidth": 0,
              "ticks": ""
             }
            },
            "type": "scattergeo"
           }
          ],
          "scattergl": [
           {
            "marker": {
             "colorbar": {
              "outlinewidth": 0,
              "ticks": ""
             }
            },
            "type": "scattergl"
           }
          ],
          "scattermap": [
           {
            "marker": {
             "colorbar": {
              "outlinewidth": 0,
              "ticks": ""
             }
            },
            "type": "scattermap"
           }
          ],
          "scattermapbox": [
           {
            "marker": {
             "colorbar": {
              "outlinewidth": 0,
              "ticks": ""
             }
            },
            "type": "scattermapbox"
           }
          ],
          "scatterpolar": [
           {
            "marker": {
             "colorbar": {
              "outlinewidth": 0,
              "ticks": ""
             }
            },
            "type": "scatterpolar"
           }
          ],
          "scatterpolargl": [
           {
            "marker": {
             "colorbar": {
              "outlinewidth": 0,
              "ticks": ""
             }
            },
            "type": "scatterpolargl"
           }
          ],
          "scatterternary": [
           {
            "marker": {
             "colorbar": {
              "outlinewidth": 0,
              "ticks": ""
             }
            },
            "type": "scatterternary"
           }
          ],
          "surface": [
           {
            "colorbar": {
             "outlinewidth": 0,
             "ticks": ""
            },
            "colorscale": [
             [
              0,
              "#0d0887"
             ],
             [
              0.1111111111111111,
              "#46039f"
             ],
             [
              0.2222222222222222,
              "#7201a8"
             ],
             [
              0.3333333333333333,
              "#9c179e"
             ],
             [
              0.4444444444444444,
              "#bd3786"
             ],
             [
              0.5555555555555556,
              "#d8576b"
             ],
             [
              0.6666666666666666,
              "#ed7953"
             ],
             [
              0.7777777777777778,
              "#fb9f3a"
             ],
             [
              0.8888888888888888,
              "#fdca26"
             ],
             [
              1,
              "#f0f921"
             ]
            ],
            "type": "surface"
           }
          ],
          "table": [
           {
            "cells": {
             "fill": {
              "color": "#EBF0F8"
             },
             "line": {
              "color": "white"
             }
            },
            "header": {
             "fill": {
              "color": "#C8D4E3"
             },
             "line": {
              "color": "white"
             }
            },
            "type": "table"
           }
          ]
         },
         "layout": {
          "annotationdefaults": {
           "arrowcolor": "#2a3f5f",
           "arrowhead": 0,
           "arrowwidth": 1
          },
          "autotypenumbers": "strict",
          "coloraxis": {
           "colorbar": {
            "outlinewidth": 0,
            "ticks": ""
           }
          },
          "colorscale": {
           "diverging": [
            [
             0,
             "#8e0152"
            ],
            [
             0.1,
             "#c51b7d"
            ],
            [
             0.2,
             "#de77ae"
            ],
            [
             0.3,
             "#f1b6da"
            ],
            [
             0.4,
             "#fde0ef"
            ],
            [
             0.5,
             "#f7f7f7"
            ],
            [
             0.6,
             "#e6f5d0"
            ],
            [
             0.7,
             "#b8e186"
            ],
            [
             0.8,
             "#7fbc41"
            ],
            [
             0.9,
             "#4d9221"
            ],
            [
             1,
             "#276419"
            ]
           ],
           "sequential": [
            [
             0,
             "#0d0887"
            ],
            [
             0.1111111111111111,
             "#46039f"
            ],
            [
             0.2222222222222222,
             "#7201a8"
            ],
            [
             0.3333333333333333,
             "#9c179e"
            ],
            [
             0.4444444444444444,
             "#bd3786"
            ],
            [
             0.5555555555555556,
             "#d8576b"
            ],
            [
             0.6666666666666666,
             "#ed7953"
            ],
            [
             0.7777777777777778,
             "#fb9f3a"
            ],
            [
             0.8888888888888888,
             "#fdca26"
            ],
            [
             1,
             "#f0f921"
            ]
           ],
           "sequentialminus": [
            [
             0,
             "#0d0887"
            ],
            [
             0.1111111111111111,
             "#46039f"
            ],
            [
             0.2222222222222222,
             "#7201a8"
            ],
            [
             0.3333333333333333,
             "#9c179e"
            ],
            [
             0.4444444444444444,
             "#bd3786"
            ],
            [
             0.5555555555555556,
             "#d8576b"
            ],
            [
             0.6666666666666666,
             "#ed7953"
            ],
            [
             0.7777777777777778,
             "#fb9f3a"
            ],
            [
             0.8888888888888888,
             "#fdca26"
            ],
            [
             1,
             "#f0f921"
            ]
           ]
          },
          "colorway": [
           "#636efa",
           "#EF553B",
           "#00cc96",
           "#ab63fa",
           "#FFA15A",
           "#19d3f3",
           "#FF6692",
           "#B6E880",
           "#FF97FF",
           "#FECB52"
          ],
          "font": {
           "color": "#2a3f5f"
          },
          "geo": {
           "bgcolor": "white",
           "lakecolor": "white",
           "landcolor": "#E5ECF6",
           "showlakes": true,
           "showland": true,
           "subunitcolor": "white"
          },
          "hoverlabel": {
           "align": "left"
          },
          "hovermode": "closest",
          "mapbox": {
           "style": "light"
          },
          "paper_bgcolor": "white",
          "plot_bgcolor": "#E5ECF6",
          "polar": {
           "angularaxis": {
            "gridcolor": "white",
            "linecolor": "white",
            "ticks": ""
           },
           "bgcolor": "#E5ECF6",
           "radialaxis": {
            "gridcolor": "white",
            "linecolor": "white",
            "ticks": ""
           }
          },
          "scene": {
           "xaxis": {
            "backgroundcolor": "#E5ECF6",
            "gridcolor": "white",
            "gridwidth": 2,
            "linecolor": "white",
            "showbackground": true,
            "ticks": "",
            "zerolinecolor": "white"
           },
           "yaxis": {
            "backgroundcolor": "#E5ECF6",
            "gridcolor": "white",
            "gridwidth": 2,
            "linecolor": "white",
            "showbackground": true,
            "ticks": "",
            "zerolinecolor": "white"
           },
           "zaxis": {
            "backgroundcolor": "#E5ECF6",
            "gridcolor": "white",
            "gridwidth": 2,
            "linecolor": "white",
            "showbackground": true,
            "ticks": "",
            "zerolinecolor": "white"
           }
          },
          "shapedefaults": {
           "line": {
            "color": "#2a3f5f"
           }
          },
          "ternary": {
           "aaxis": {
            "gridcolor": "white",
            "linecolor": "white",
            "ticks": ""
           },
           "baxis": {
            "gridcolor": "white",
            "linecolor": "white",
            "ticks": ""
           },
           "bgcolor": "#E5ECF6",
           "caxis": {
            "gridcolor": "white",
            "linecolor": "white",
            "ticks": ""
           }
          },
          "title": {
           "x": 0.05
          },
          "xaxis": {
           "automargin": true,
           "gridcolor": "white",
           "linecolor": "white",
           "ticks": "",
           "title": {
            "standoff": 15
           },
           "zerolinecolor": "white",
           "zerolinewidth": 2
          },
          "yaxis": {
           "automargin": true,
           "gridcolor": "white",
           "linecolor": "white",
           "ticks": "",
           "title": {
            "standoff": 15
           },
           "zerolinecolor": "white",
           "zerolinewidth": 2
          }
         }
        },
        "title": {
         "text": "Störst och växande: Ekonomi och försäljning i topp bland utbildningsområden"
        },
        "xaxis": {
         "range": [
          2005,
          2024
         ],
         "tickmode": "array",
         "tickvals": [
          2005,
          2010,
          2015,
          2020,
          2024
         ],
         "title": {
          "text": "År"
         }
        },
        "yaxis": {
         "title": {
          "text": "Antal studerande"
         }
        }
       }
      }
     },
     "metadata": {},
     "output_type": "display_data"
    }
   ],
   "source": [
    "fig = create_highlighted_line_chart(df_long)\n",
    "fig.show()\n"
   ]
  },
  {
   "cell_type": "code",
   "execution_count": 329,
   "id": "65541a4d",
   "metadata": {},
   "outputs": [],
   "source": [
    "import plotly.graph_objects as go\n",
    "\n",
    "def create_highlighted_line_chart(df_long):\n",
    "    highlight_area = \"Ekonomi, administration och försäljning\"\n",
    "\n",
    "    # Pivotera för line chart\n",
    "    df_pivot = df_long.pivot_table(\n",
    "        index=\"År\",\n",
    "        columns=\"Utbildningsinriktning\",\n",
    "        values=\"Antal studerande\",\n",
    "        aggfunc=\"sum\"\n",
    "    ).reset_index()\n",
    "\n",
    "    fig = go.Figure()\n",
    "\n",
    "    for area in df_pivot.columns[1:]:  # Skippa 'År'\n",
    "        fig.add_trace(go.Scatter(\n",
    "            x=df_pivot[\"År\"],\n",
    "            y=df_pivot[area],\n",
    "            mode=\"lines\",  # Endast linjer, inga prickar\n",
    "            name=area,\n",
    "            line=dict(\n",
    "                color=\"royalblue\" if area == highlight_area else \"lightgray\",\n",
    "                width=3 if area == highlight_area else 1\n",
    "            ),\n",
    "            hoverinfo=\"name+y\"\n",
    "        ))\n",
    "\n",
    "    # Hämta senaste värdet\n",
    "    latest_year = df_pivot[\"År\"].max()\n",
    "    latest_value = df_pivot.loc[df_pivot[\"År\"] == latest_year, highlight_area].values[0]\n",
    "\n",
    "    fig.add_annotation(\n",
    "        x=latest_year,\n",
    "        y=latest_value,\n",
    "        text=\"Stadig ökning i 20 år\",\n",
    "        showarrow=True,\n",
    "        arrowhead=3,\n",
    "        ax=-120,  # texten till vänster\n",
    "        ay=-80,   # texten ovanför\n",
    "        arrowwidth=2,\n",
    "        arrowcolor=\"royalblue\",\n",
    "        font=dict(color=\"royalblue\", size=12),\n",
    "        bgcolor=\"white\",\n",
    "        bordercolor=\"royalblue\",\n",
    "        borderwidth=1\n",
    "    )\n",
    "\n",
    "    # Layout\n",
    "    fig.update_layout(\n",
    "        title=\"Störst och växande: Ekonomi och försäljning i topp bland utbildningsområden\",\n",
    "        xaxis_title=\"År\",\n",
    "        yaxis_title=\"Antal studerande\",\n",
    "        plot_bgcolor=\"white\",\n",
    "        paper_bgcolor=\"white\",\n",
    "        legend_title=\"Utbildningsinriktning\",\n",
    "        hovermode=\"x unified\",\n",
    "        xaxis=dict(\n",
    "            range=[2005, 2024],            # Begränsa till rätt år\n",
    "            tickmode=\"array\",\n",
    "            tickvals=[2005, 2010, 2015, 2020, 2024]  #Visa var femte år\n",
    "        )\n",
    "    )\n",
    "\n",
    "    return fig\n"
   ]
  },
  {
   "cell_type": "code",
   "execution_count": 330,
   "id": "41296363",
   "metadata": {},
   "outputs": [
    {
     "data": {
      "application/vnd.plotly.v1+json": {
       "config": {
        "plotlyServerURL": "https://plot.ly"
       },
       "data": [
        {
         "hoverinfo": "name+y",
         "line": {
          "color": "lightgray",
          "width": 1
         },
         "mode": "lines",
         "name": "Data/It",
         "type": "scatter",
         "x": {
          "bdata": "1QfWB9cH2AfZB9oH2wfcB90H3gffB+AH4QfiB+MH5AflB+YH5wfoBw==",
          "dtype": "i2"
         },
         "y": {
          "bdata": "AAAAAAA2pEAAAAAAAOSjQAAAAAAA2qVAAAAAAAACpkAAAAAAAFKmQAAAAAAArqZAAAAAAACwqEAAAAAAAIyqQAAAAAAArK9AAAAAAABJs0AAAAAAALS2QAAAAAAAJ7hAAAAAAABCuEAAAAAAAEi2QAAAAAAArrtAAAAAAIAVxEAAAAAAABrJQAAAAACA18tAAAAAAACdzUAAAAAAwA/QQA==",
          "dtype": "f8"
         }
        },
        {
         "hoverinfo": "name+y",
         "line": {
          "color": "royalblue",
          "width": 3
         },
         "mode": "lines",
         "name": "Ekonomi, administration och försäljning",
         "type": "scatter",
         "x": {
          "bdata": "1QfWB9cH2AfZB9oH2wfcB90H3gffB+AH4QfiB+MH5AflB+YH5wfoBw==",
          "dtype": "i2"
         },
         "y": {
          "bdata": "AAAAAABeuEAAAAAAAJ69QAAAAAAAM8FAAAAAAIALxEAAAAAAgArGQAAAAACAQMdAAAAAAIDJx0AAAAAAAFXHQAAAAACA7sdAAAAAAIDxx0AAAAAAAMrGQAAAAACAg8ZAAAAAAIDQx0AAAAAAgPLKQAAAAAAAPc9AAAAAAMAO0kAAAAAAABvSQAAAAACAZtFAAAAAAIDy0EAAAAAAAPnQQA==",
          "dtype": "f8"
         }
        },
        {
         "hoverinfo": "name+y",
         "line": {
          "color": "lightgray",
          "width": 1
         },
         "mode": "lines",
         "name": "Friskvård och kroppsvård",
         "type": "scatter",
         "x": {
          "bdata": "1QfWB9cH2AfZB9oH2wfcB90H3gffB+AH4QfiB+MH5AflB+YH5wfoBw==",
          "dtype": "i2"
         },
         "y": {
          "bdata": "AAAAAAAQfkAAAAAAABCHQAAAAAAAmItAAAAAAAAIj0AAAAAAAIiPQAAAAAAAyIpAAAAAAAB4gkAAAAAAADB3QAAAAAAAsHZAAAAAAACgdEAAAAAAAAB2QAAAAAAA8HJAAAAAAADAbUAAAAAAAOBsQAAAAAAA4HJAAAAAAADwdEAAAAAAAEB3QAAAAAAAgHlAAAAAAADAfEAAAAAAAOB2QA==",
          "dtype": "f8"
         }
        },
        {
         "hoverinfo": "name+y",
         "line": {
          "color": "lightgray",
          "width": 1
         },
         "mode": "lines",
         "name": "Hotell, restaurang och turism",
         "type": "scatter",
         "x": {
          "bdata": "1QfWB9cH2AfZB9oH2wfcB90H3gffB+AH4QfiB+MH5AflB+YH5wfoBw==",
          "dtype": "i2"
         },
         "y": {
          "bdata": "AAAAAABeoUAAAAAAAPCjQAAAAAAAsqZAAAAAAAACqEAAAAAAACqnQAAAAAAAsqZAAAAAAACQpkAAAAAAAECkQAAAAAAAuqNAAAAAAAD8o0AAAAAAAFykQAAAAAAAyqNAAAAAAADMo0AAAAAAAIajQAAAAAAAPKVAAAAAAAAsqEAAAAAAAOSpQAAAAAAAfqdAAAAAAACCpUAAAAAAAOClQA==",
          "dtype": "f8"
         }
        },
        {
         "hoverinfo": "name+y",
         "line": {
          "color": "lightgray",
          "width": 1
         },
         "mode": "lines",
         "name": "Hälso- och sjukvård samt socialt arbete",
         "type": "scatter",
         "x": {
          "bdata": "1QfWB9cH2AfZB9oH2wfcB90H3gffB+AH4QfiB+MH5AflB+YH5wfoBw==",
          "dtype": "i2"
         },
         "y": {
          "bdata": "AAAAAABgp0AAAAAAAL6tQAAAAAAAaLBAAAAAAAB6r0AAAAAAAPavQAAAAAAAkLFAAAAAAAAwskAAAAAAAK2xQAAAAAAAZbNAAAAAAABqtkAAAAAAAIe3QAAAAAAAErhAAAAAAABHukAAAAAAABu9QAAAAACAo8FAAAAAAABMxUAAAAAAAIrHQAAAAAAAKMlAAAAAAIB0yEAAAAAAAEbHQA==",
          "dtype": "f8"
         }
        },
        {
         "hoverinfo": "name+y",
         "line": {
          "color": "lightgray",
          "width": 1
         },
         "mode": "lines",
         "name": "Journalistik och information",
         "type": "scatter",
         "x": {
          "bdata": "1QfWB9cH2AfZB9oH2wfcB90H3gffB+AH4QfiB+MH5AflB+YH5wfoBw==",
          "dtype": "i2"
         },
         "y": {
          "bdata": "AAAAAACAXEAAAAAAAIBZQAAAAAAAgFxAAAAAAADgY0AAAAAAAKBqQAAAAAAAAHBAAAAAAACwckAAAAAAAFBxQAAAAAAA0HlAAAAAAABog0AAAAAAAEiEQAAAAAAAmIZAAAAAAAAQiUAAAAAAAAiKQAAAAAAAQIxAAAAAAAA4jkAAAAAAAECNQAAAAAAAuIlAAAAAAACAh0AAAAAAADCEQA==",
          "dtype": "f8"
         }
        },
        {
         "hoverinfo": "name+y",
         "line": {
          "color": "lightgray",
          "width": 1
         },
         "mode": "lines",
         "name": "Juridik",
         "type": "scatter",
         "x": {
          "bdata": "1QfWB9cH2AfZB9oH2wfcB90H3gffB+AH4QfiB+MH5AflB+YH5wfoBw==",
          "dtype": "i2"
         },
         "y": {
          "bdata": "AAAAAAAA+H8AAAAAAIBOQAAAAAAAgF5AAAAAAACgY0AAAAAAAOBkQAAAAAAAoGVAAAAAAADgZUAAAAAAAEBuQAAAAAAAgHFAAAAAAADAcUAAAAAAAFBzQAAAAAAAAHVAAAAAAADAeUAAAAAAAGB7QAAAAAAAMHxAAAAAAABAfkAAAAAAAIB+QAAAAAAAAHpAAAAAAACgdUAAAAAAAKB1QA==",
          "dtype": "f8"
         }
        },
        {
         "hoverinfo": "name+y",
         "line": {
          "color": "lightgray",
          "width": 1
         },
         "mode": "lines",
         "name": "Kultur, media och design",
         "type": "scatter",
         "x": {
          "bdata": "1QfWB9cH2AfZB9oH2wfcB90H3gffB+AH4QfiB+MH5AflB+YH5wfoBw==",
          "dtype": "i2"
         },
         "y": {
          "bdata": "AAAAAADkpUAAAAAAAPSmQAAAAAAAmqZAAAAAAABip0AAAAAAABCnQAAAAAAAzqVAAAAAAAAMpEAAAAAAAHSiQAAAAAAAmqNAAAAAAACGpEAAAAAAAKKlQAAAAAAApKVAAAAAAABipkAAAAAAALCmQAAAAAAAkKdAAAAAAADQqkAAAAAAAJiuQAAAAAAAf7BAAAAAAABpsUAAAAAAAByyQA==",
          "dtype": "f8"
         }
        },
        {
         "hoverinfo": "name+y",
         "line": {
          "color": "lightgray",
          "width": 1
         },
         "mode": "lines",
         "name": "Lantbruk, djurvård, trädgård, skog och fiske",
         "type": "scatter",
         "x": {
          "bdata": "1QfWB9cH2AfZB9oH2wfcB90H3gffB+AH4QfiB+MH5AflB+YH5wfoBw==",
          "dtype": "i2"
         },
         "y": {
          "bdata": "AAAAAADAjEAAAAAAAPSUQAAAAAAACJhAAAAAAAB4l0AAAAAAADSYQAAAAAAAoJpAAAAAAADYmUAAAAAAANSWQAAAAAAALJVAAAAAAACMk0AAAAAAAGyUQAAAAAAA/JVAAAAAAACIlkAAAAAAAECVQAAAAAAAIJZAAAAAAAA0mUAAAAAAAEicQAAAAAAAeJ5AAAAAAABWoEAAAAAAAFSiQA==",
          "dtype": "f8"
         }
        },
        {
         "hoverinfo": "name+y",
         "line": {
          "color": "lightgray",
          "width": 1
         },
         "mode": "lines",
         "name": "Pedagogik och undervisning",
         "type": "scatter",
         "x": {
          "bdata": "1QfWB9cH2AfZB9oH2wfcB90H3gffB+AH4QfiB+MH5AflB+YH5wfoBw==",
          "dtype": "i2"
         },
         "y": {
          "bdata": "AAAAAAAAMEAAAAAAAMBZQAAAAAAAQGdAAAAAAACAa0AAAAAAAEBvQAAAAAAA4HxAAAAAAACghEAAAAAAAGB8QAAAAAAAgHpAAAAAAABQfkAAAAAAAGB6QAAAAAAAsIBAAAAAAABwhEAAAAAAAOiKQAAAAAAAJJRAAAAAAADgl0AAAAAAADicQAAAAAAA4J5AAAAAAACYl0AAAAAAAByRQA==",
          "dtype": "f8"
         }
        },
        {
         "hoverinfo": "name+y",
         "line": {
          "color": "lightgray",
          "width": 1
         },
         "mode": "lines",
         "name": "Samhällsbyggnad och byggteknik",
         "type": "scatter",
         "x": {
          "bdata": "1QfWB9cH2AfZB9oH2wfcB90H3gffB+AH4QfiB+MH5AflB+YH5wfoBw==",
          "dtype": "i2"
         },
         "y": {
          "bdata": "AAAAAAD0lUAAAAAAAGieQAAAAAAAqKJAAAAAAACipEAAAAAAAN6oQAAAAAAAqKtAAAAAAACcrkAAAAAAAAuxQAAAAAAAh7JAAAAAAABps0AAAAAAAIi1QAAAAAAAsrdAAAAAAACvukAAAAAAAG69QAAAAACAncFAAAAAAICNxkAAAAAAAOTIQAAAAAAAd8lAAAAAAICIyEAAAAAAgKTJQA==",
          "dtype": "f8"
         }
        },
        {
         "hoverinfo": "name+y",
         "line": {
          "color": "lightgray",
          "width": 1
         },
         "mode": "lines",
         "name": "Säkerhetstjänster",
         "type": "scatter",
         "x": {
          "bdata": "1QfWB9cH2AfZB9oH2wfcB90H3gffB+AH4QfiB+MH5AflB+YH5wfoBw==",
          "dtype": "i2"
         },
         "y": {
          "bdata": "AAAAAACwcEAAAAAAAJB6QAAAAAAAqIFAAAAAAACQg0AAAAAAAKiDQAAAAAAAAIFAAAAAAACwfEAAAAAAACB3QAAAAAAAAHVAAAAAAADgdUAAAAAAAKB3QAAAAAAAcHdAAAAAAAAwcUAAAAAAAMBxQAAAAAAAgHlAAAAAAAAYgkAAAAAAAJCCQAAAAAAA2IdAAAAAAAAIikAAAAAAAPCJQA==",
          "dtype": "f8"
         }
        },
        {
         "hoverinfo": "name+y",
         "line": {
          "color": "lightgray",
          "width": 1
         },
         "mode": "lines",
         "name": "Teknik och tillverkning",
         "type": "scatter",
         "x": {
          "bdata": "1QfWB9cH2AfZB9oH2wfcB90H3gffB+AH4QfiB+MH5AflB+YH5wfoBw==",
          "dtype": "i2"
         },
         "y": {
          "bdata": "AAAAAACgrkAAAAAAANawQAAAAAAAQLNAAAAAAAC7tUAAAAAAAG+5QAAAAAAA5rtAAAAAAACmvEAAAAAAAEu6QAAAAAAAfLtAAAAAAACgvEAAAAAAANu8QAAAAAAAW7xAAAAAAACSu0AAAAAAALe6QAAAAAAAU75AAAAAAIBlw0AAAAAAgAfGQAAAAACAFsZAAAAAAIDexkAAAAAAANXJQA==",
          "dtype": "f8"
         }
        },
        {
         "hoverinfo": "name+y",
         "line": {
          "color": "lightgray",
          "width": 1
         },
         "mode": "lines",
         "name": "Transporttjänster",
         "type": "scatter",
         "x": {
          "bdata": "1QfWB9cH2AfZB9oH2wfcB90H3gffB+AH4QfiB+MH5AflB+YH5wfoBw==",
          "dtype": "i2"
         },
         "y": {
          "bdata": "AAAAAACwiUAAAAAAADyRQAAAAAAALJVAAAAAAADUmEAAAAAAAHyaQAAAAAAACJ1AAAAAAADQnEAAAAAAADyXQAAAAAAAcJFAAAAAAABojUAAAAAAAJiSQAAAAAAAIJhAAAAAAADonEAAAAAAAFSbQAAAAAAAJJpAAAAAAAB0m0AAAAAAAJSYQAAAAAAASJdAAAAAAABImUAAAAAAAGyaQA==",
          "dtype": "f8"
         }
        }
       ],
       "layout": {
        "annotations": [
         {
          "arrowcolor": "royalblue",
          "arrowhead": 3,
          "arrowwidth": 2,
          "ax": -120,
          "ay": -80,
          "bgcolor": "white",
          "bordercolor": "royalblue",
          "borderwidth": 1,
          "font": {
           "color": "royalblue",
           "size": 12
          },
          "showarrow": true,
          "text": "Stadig ökning i 20 år",
          "x": 2024,
          "y": 17380
         }
        ],
        "hovermode": "x unified",
        "legend": {
         "title": {
          "text": "Utbildningsinriktning"
         }
        },
        "paper_bgcolor": "white",
        "plot_bgcolor": "white",
        "template": {
         "data": {
          "bar": [
           {
            "error_x": {
             "color": "#2a3f5f"
            },
            "error_y": {
             "color": "#2a3f5f"
            },
            "marker": {
             "line": {
              "color": "#E5ECF6",
              "width": 0.5
             },
             "pattern": {
              "fillmode": "overlay",
              "size": 10,
              "solidity": 0.2
             }
            },
            "type": "bar"
           }
          ],
          "barpolar": [
           {
            "marker": {
             "line": {
              "color": "#E5ECF6",
              "width": 0.5
             },
             "pattern": {
              "fillmode": "overlay",
              "size": 10,
              "solidity": 0.2
             }
            },
            "type": "barpolar"
           }
          ],
          "carpet": [
           {
            "aaxis": {
             "endlinecolor": "#2a3f5f",
             "gridcolor": "white",
             "linecolor": "white",
             "minorgridcolor": "white",
             "startlinecolor": "#2a3f5f"
            },
            "baxis": {
             "endlinecolor": "#2a3f5f",
             "gridcolor": "white",
             "linecolor": "white",
             "minorgridcolor": "white",
             "startlinecolor": "#2a3f5f"
            },
            "type": "carpet"
           }
          ],
          "choropleth": [
           {
            "colorbar": {
             "outlinewidth": 0,
             "ticks": ""
            },
            "type": "choropleth"
           }
          ],
          "contour": [
           {
            "colorbar": {
             "outlinewidth": 0,
             "ticks": ""
            },
            "colorscale": [
             [
              0,
              "#0d0887"
             ],
             [
              0.1111111111111111,
              "#46039f"
             ],
             [
              0.2222222222222222,
              "#7201a8"
             ],
             [
              0.3333333333333333,
              "#9c179e"
             ],
             [
              0.4444444444444444,
              "#bd3786"
             ],
             [
              0.5555555555555556,
              "#d8576b"
             ],
             [
              0.6666666666666666,
              "#ed7953"
             ],
             [
              0.7777777777777778,
              "#fb9f3a"
             ],
             [
              0.8888888888888888,
              "#fdca26"
             ],
             [
              1,
              "#f0f921"
             ]
            ],
            "type": "contour"
           }
          ],
          "contourcarpet": [
           {
            "colorbar": {
             "outlinewidth": 0,
             "ticks": ""
            },
            "type": "contourcarpet"
           }
          ],
          "heatmap": [
           {
            "colorbar": {
             "outlinewidth": 0,
             "ticks": ""
            },
            "colorscale": [
             [
              0,
              "#0d0887"
             ],
             [
              0.1111111111111111,
              "#46039f"
             ],
             [
              0.2222222222222222,
              "#7201a8"
             ],
             [
              0.3333333333333333,
              "#9c179e"
             ],
             [
              0.4444444444444444,
              "#bd3786"
             ],
             [
              0.5555555555555556,
              "#d8576b"
             ],
             [
              0.6666666666666666,
              "#ed7953"
             ],
             [
              0.7777777777777778,
              "#fb9f3a"
             ],
             [
              0.8888888888888888,
              "#fdca26"
             ],
             [
              1,
              "#f0f921"
             ]
            ],
            "type": "heatmap"
           }
          ],
          "histogram": [
           {
            "marker": {
             "pattern": {
              "fillmode": "overlay",
              "size": 10,
              "solidity": 0.2
             }
            },
            "type": "histogram"
           }
          ],
          "histogram2d": [
           {
            "colorbar": {
             "outlinewidth": 0,
             "ticks": ""
            },
            "colorscale": [
             [
              0,
              "#0d0887"
             ],
             [
              0.1111111111111111,
              "#46039f"
             ],
             [
              0.2222222222222222,
              "#7201a8"
             ],
             [
              0.3333333333333333,
              "#9c179e"
             ],
             [
              0.4444444444444444,
              "#bd3786"
             ],
             [
              0.5555555555555556,
              "#d8576b"
             ],
             [
              0.6666666666666666,
              "#ed7953"
             ],
             [
              0.7777777777777778,
              "#fb9f3a"
             ],
             [
              0.8888888888888888,
              "#fdca26"
             ],
             [
              1,
              "#f0f921"
             ]
            ],
            "type": "histogram2d"
           }
          ],
          "histogram2dcontour": [
           {
            "colorbar": {
             "outlinewidth": 0,
             "ticks": ""
            },
            "colorscale": [
             [
              0,
              "#0d0887"
             ],
             [
              0.1111111111111111,
              "#46039f"
             ],
             [
              0.2222222222222222,
              "#7201a8"
             ],
             [
              0.3333333333333333,
              "#9c179e"
             ],
             [
              0.4444444444444444,
              "#bd3786"
             ],
             [
              0.5555555555555556,
              "#d8576b"
             ],
             [
              0.6666666666666666,
              "#ed7953"
             ],
             [
              0.7777777777777778,
              "#fb9f3a"
             ],
             [
              0.8888888888888888,
              "#fdca26"
             ],
             [
              1,
              "#f0f921"
             ]
            ],
            "type": "histogram2dcontour"
           }
          ],
          "mesh3d": [
           {
            "colorbar": {
             "outlinewidth": 0,
             "ticks": ""
            },
            "type": "mesh3d"
           }
          ],
          "parcoords": [
           {
            "line": {
             "colorbar": {
              "outlinewidth": 0,
              "ticks": ""
             }
            },
            "type": "parcoords"
           }
          ],
          "pie": [
           {
            "automargin": true,
            "type": "pie"
           }
          ],
          "scatter": [
           {
            "fillpattern": {
             "fillmode": "overlay",
             "size": 10,
             "solidity": 0.2
            },
            "type": "scatter"
           }
          ],
          "scatter3d": [
           {
            "line": {
             "colorbar": {
              "outlinewidth": 0,
              "ticks": ""
             }
            },
            "marker": {
             "colorbar": {
              "outlinewidth": 0,
              "ticks": ""
             }
            },
            "type": "scatter3d"
           }
          ],
          "scattercarpet": [
           {
            "marker": {
             "colorbar": {
              "outlinewidth": 0,
              "ticks": ""
             }
            },
            "type": "scattercarpet"
           }
          ],
          "scattergeo": [
           {
            "marker": {
             "colorbar": {
              "outlinewidth": 0,
              "ticks": ""
             }
            },
            "type": "scattergeo"
           }
          ],
          "scattergl": [
           {
            "marker": {
             "colorbar": {
              "outlinewidth": 0,
              "ticks": ""
             }
            },
            "type": "scattergl"
           }
          ],
          "scattermap": [
           {
            "marker": {
             "colorbar": {
              "outlinewidth": 0,
              "ticks": ""
             }
            },
            "type": "scattermap"
           }
          ],
          "scattermapbox": [
           {
            "marker": {
             "colorbar": {
              "outlinewidth": 0,
              "ticks": ""
             }
            },
            "type": "scattermapbox"
           }
          ],
          "scatterpolar": [
           {
            "marker": {
             "colorbar": {
              "outlinewidth": 0,
              "ticks": ""
             }
            },
            "type": "scatterpolar"
           }
          ],
          "scatterpolargl": [
           {
            "marker": {
             "colorbar": {
              "outlinewidth": 0,
              "ticks": ""
             }
            },
            "type": "scatterpolargl"
           }
          ],
          "scatterternary": [
           {
            "marker": {
             "colorbar": {
              "outlinewidth": 0,
              "ticks": ""
             }
            },
            "type": "scatterternary"
           }
          ],
          "surface": [
           {
            "colorbar": {
             "outlinewidth": 0,
             "ticks": ""
            },
            "colorscale": [
             [
              0,
              "#0d0887"
             ],
             [
              0.1111111111111111,
              "#46039f"
             ],
             [
              0.2222222222222222,
              "#7201a8"
             ],
             [
              0.3333333333333333,
              "#9c179e"
             ],
             [
              0.4444444444444444,
              "#bd3786"
             ],
             [
              0.5555555555555556,
              "#d8576b"
             ],
             [
              0.6666666666666666,
              "#ed7953"
             ],
             [
              0.7777777777777778,
              "#fb9f3a"
             ],
             [
              0.8888888888888888,
              "#fdca26"
             ],
             [
              1,
              "#f0f921"
             ]
            ],
            "type": "surface"
           }
          ],
          "table": [
           {
            "cells": {
             "fill": {
              "color": "#EBF0F8"
             },
             "line": {
              "color": "white"
             }
            },
            "header": {
             "fill": {
              "color": "#C8D4E3"
             },
             "line": {
              "color": "white"
             }
            },
            "type": "table"
           }
          ]
         },
         "layout": {
          "annotationdefaults": {
           "arrowcolor": "#2a3f5f",
           "arrowhead": 0,
           "arrowwidth": 1
          },
          "autotypenumbers": "strict",
          "coloraxis": {
           "colorbar": {
            "outlinewidth": 0,
            "ticks": ""
           }
          },
          "colorscale": {
           "diverging": [
            [
             0,
             "#8e0152"
            ],
            [
             0.1,
             "#c51b7d"
            ],
            [
             0.2,
             "#de77ae"
            ],
            [
             0.3,
             "#f1b6da"
            ],
            [
             0.4,
             "#fde0ef"
            ],
            [
             0.5,
             "#f7f7f7"
            ],
            [
             0.6,
             "#e6f5d0"
            ],
            [
             0.7,
             "#b8e186"
            ],
            [
             0.8,
             "#7fbc41"
            ],
            [
             0.9,
             "#4d9221"
            ],
            [
             1,
             "#276419"
            ]
           ],
           "sequential": [
            [
             0,
             "#0d0887"
            ],
            [
             0.1111111111111111,
             "#46039f"
            ],
            [
             0.2222222222222222,
             "#7201a8"
            ],
            [
             0.3333333333333333,
             "#9c179e"
            ],
            [
             0.4444444444444444,
             "#bd3786"
            ],
            [
             0.5555555555555556,
             "#d8576b"
            ],
            [
             0.6666666666666666,
             "#ed7953"
            ],
            [
             0.7777777777777778,
             "#fb9f3a"
            ],
            [
             0.8888888888888888,
             "#fdca26"
            ],
            [
             1,
             "#f0f921"
            ]
           ],
           "sequentialminus": [
            [
             0,
             "#0d0887"
            ],
            [
             0.1111111111111111,
             "#46039f"
            ],
            [
             0.2222222222222222,
             "#7201a8"
            ],
            [
             0.3333333333333333,
             "#9c179e"
            ],
            [
             0.4444444444444444,
             "#bd3786"
            ],
            [
             0.5555555555555556,
             "#d8576b"
            ],
            [
             0.6666666666666666,
             "#ed7953"
            ],
            [
             0.7777777777777778,
             "#fb9f3a"
            ],
            [
             0.8888888888888888,
             "#fdca26"
            ],
            [
             1,
             "#f0f921"
            ]
           ]
          },
          "colorway": [
           "#636efa",
           "#EF553B",
           "#00cc96",
           "#ab63fa",
           "#FFA15A",
           "#19d3f3",
           "#FF6692",
           "#B6E880",
           "#FF97FF",
           "#FECB52"
          ],
          "font": {
           "color": "#2a3f5f"
          },
          "geo": {
           "bgcolor": "white",
           "lakecolor": "white",
           "landcolor": "#E5ECF6",
           "showlakes": true,
           "showland": true,
           "subunitcolor": "white"
          },
          "hoverlabel": {
           "align": "left"
          },
          "hovermode": "closest",
          "mapbox": {
           "style": "light"
          },
          "paper_bgcolor": "white",
          "plot_bgcolor": "#E5ECF6",
          "polar": {
           "angularaxis": {
            "gridcolor": "white",
            "linecolor": "white",
            "ticks": ""
           },
           "bgcolor": "#E5ECF6",
           "radialaxis": {
            "gridcolor": "white",
            "linecolor": "white",
            "ticks": ""
           }
          },
          "scene": {
           "xaxis": {
            "backgroundcolor": "#E5ECF6",
            "gridcolor": "white",
            "gridwidth": 2,
            "linecolor": "white",
            "showbackground": true,
            "ticks": "",
            "zerolinecolor": "white"
           },
           "yaxis": {
            "backgroundcolor": "#E5ECF6",
            "gridcolor": "white",
            "gridwidth": 2,
            "linecolor": "white",
            "showbackground": true,
            "ticks": "",
            "zerolinecolor": "white"
           },
           "zaxis": {
            "backgroundcolor": "#E5ECF6",
            "gridcolor": "white",
            "gridwidth": 2,
            "linecolor": "white",
            "showbackground": true,
            "ticks": "",
            "zerolinecolor": "white"
           }
          },
          "shapedefaults": {
           "line": {
            "color": "#2a3f5f"
           }
          },
          "ternary": {
           "aaxis": {
            "gridcolor": "white",
            "linecolor": "white",
            "ticks": ""
           },
           "baxis": {
            "gridcolor": "white",
            "linecolor": "white",
            "ticks": ""
           },
           "bgcolor": "#E5ECF6",
           "caxis": {
            "gridcolor": "white",
            "linecolor": "white",
            "ticks": ""
           }
          },
          "title": {
           "x": 0.05
          },
          "xaxis": {
           "automargin": true,
           "gridcolor": "white",
           "linecolor": "white",
           "ticks": "",
           "title": {
            "standoff": 15
           },
           "zerolinecolor": "white",
           "zerolinewidth": 2
          },
          "yaxis": {
           "automargin": true,
           "gridcolor": "white",
           "linecolor": "white",
           "ticks": "",
           "title": {
            "standoff": 15
           },
           "zerolinecolor": "white",
           "zerolinewidth": 2
          }
         }
        },
        "title": {
         "text": "Störst och växande: Ekonomi och försäljning i topp bland utbildningsområden"
        },
        "xaxis": {
         "range": [
          2005,
          2024
         ],
         "tickmode": "array",
         "tickvals": [
          2005,
          2010,
          2015,
          2020,
          2024
         ],
         "title": {
          "text": "År"
         }
        },
        "yaxis": {
         "title": {
          "text": "Antal studerande"
         }
        }
       }
      }
     },
     "metadata": {},
     "output_type": "display_data"
    }
   ],
   "source": [
    "fig = create_highlighted_line_chart(df_long)\n",
    "fig.show()\n"
   ]
  }
 ],
 "metadata": {
  "kernelspec": {
   "display_name": ".venv",
   "language": "python",
   "name": "python3"
  },
  "language_info": {
   "codemirror_mode": {
    "name": "ipython",
    "version": 3
   },
   "file_extension": ".py",
   "mimetype": "text/x-python",
   "name": "python",
   "nbconvert_exporter": "python",
   "pygments_lexer": "ipython3",
   "version": "3.11.8"
  }
 },
 "nbformat": 4,
 "nbformat_minor": 5
}
