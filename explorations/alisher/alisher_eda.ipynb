{
 "cells": [
  {
   "cell_type": "markdown",
   "id": "5f886d61",
   "metadata": {},
   "source": [
    "## 1\n"
   ]
  },
  {
   "cell_type": "code",
   "execution_count": 56,
   "id": "4f9cc107",
   "metadata": {},
   "outputs": [
    {
     "data": {
      "text/html": [
       "<div>\n",
       "<style scoped>\n",
       "    .dataframe tbody tr th:only-of-type {\n",
       "        vertical-align: middle;\n",
       "    }\n",
       "\n",
       "    .dataframe tbody tr th {\n",
       "        vertical-align: top;\n",
       "    }\n",
       "\n",
       "    .dataframe thead th {\n",
       "        text-align: right;\n",
       "    }\n",
       "</style>\n",
       "<table border=\"1\" class=\"dataframe\">\n",
       "  <thead>\n",
       "    <tr style=\"text-align: right;\">\n",
       "      <th></th>\n",
       "      <th>Utbildningsområde</th>\n",
       "      <th>2015</th>\n",
       "      <th>2016</th>\n",
       "      <th>2017</th>\n",
       "      <th>2018</th>\n",
       "      <th>2019</th>\n",
       "      <th>2020</th>\n",
       "      <th>2021</th>\n",
       "      <th>2022</th>\n",
       "      <th>2023</th>\n",
       "      <th>2024</th>\n",
       "    </tr>\n",
       "  </thead>\n",
       "  <tbody>\n",
       "    <tr>\n",
       "      <th>0</th>\n",
       "      <td>Totalt</td>\n",
       "      <td>17889</td>\n",
       "      <td>19053</td>\n",
       "      <td>20129</td>\n",
       "      <td>22225</td>\n",
       "      <td>27672</td>\n",
       "      <td>34807</td>\n",
       "      <td>32249</td>\n",
       "      <td>32315</td>\n",
       "      <td>34158</td>\n",
       "      <td>34809</td>\n",
       "    </tr>\n",
       "    <tr>\n",
       "      <th>1</th>\n",
       "      <td>Data/It</td>\n",
       "      <td>2609</td>\n",
       "      <td>2277</td>\n",
       "      <td>2232</td>\n",
       "      <td>2175</td>\n",
       "      <td>3457</td>\n",
       "      <td>5439</td>\n",
       "      <td>5187</td>\n",
       "      <td>5655</td>\n",
       "      <td>6250</td>\n",
       "      <td>6446</td>\n",
       "    </tr>\n",
       "    <tr>\n",
       "      <th>2</th>\n",
       "      <td>Ekonomi, administration och försäljning</td>\n",
       "      <td>3742</td>\n",
       "      <td>4569</td>\n",
       "      <td>4872</td>\n",
       "      <td>5663</td>\n",
       "      <td>6435</td>\n",
       "      <td>7683</td>\n",
       "      <td>6306</td>\n",
       "      <td>6384</td>\n",
       "      <td>6902</td>\n",
       "      <td>6484</td>\n",
       "    </tr>\n",
       "    <tr>\n",
       "      <th>3</th>\n",
       "      <td>Friskvård och kroppsvård</td>\n",
       "      <td>146</td>\n",
       "      <td>109</td>\n",
       "      <td>105</td>\n",
       "      <td>128</td>\n",
       "      <td>151</td>\n",
       "      <td>164</td>\n",
       "      <td>179</td>\n",
       "      <td>205</td>\n",
       "      <td>229</td>\n",
       "      <td>121</td>\n",
       "    </tr>\n",
       "    <tr>\n",
       "      <th>4</th>\n",
       "      <td>Hotell, restaurang och turism</td>\n",
       "      <td>978</td>\n",
       "      <td>995</td>\n",
       "      <td>967</td>\n",
       "      <td>996</td>\n",
       "      <td>1241</td>\n",
       "      <td>1511</td>\n",
       "      <td>1417</td>\n",
       "      <td>1116</td>\n",
       "      <td>1138</td>\n",
       "      <td>1245</td>\n",
       "    </tr>\n",
       "    <tr>\n",
       "      <th>5</th>\n",
       "      <td>Hälso- och sjukvård samt socialt arbete</td>\n",
       "      <td>2425</td>\n",
       "      <td>2692</td>\n",
       "      <td>3091</td>\n",
       "      <td>3574</td>\n",
       "      <td>4231</td>\n",
       "      <td>5033</td>\n",
       "      <td>5213</td>\n",
       "      <td>5251</td>\n",
       "      <td>4917</td>\n",
       "      <td>4673</td>\n",
       "    </tr>\n",
       "    <tr>\n",
       "      <th>6</th>\n",
       "      <td>Journalistik och information</td>\n",
       "      <td>193</td>\n",
       "      <td>313</td>\n",
       "      <td>339</td>\n",
       "      <td>325</td>\n",
       "      <td>395</td>\n",
       "      <td>361</td>\n",
       "      <td>350</td>\n",
       "      <td>292</td>\n",
       "      <td>283</td>\n",
       "      <td>232</td>\n",
       "    </tr>\n",
       "    <tr>\n",
       "      <th>7</th>\n",
       "      <td>Juridik</td>\n",
       "      <td>128</td>\n",
       "      <td>130</td>\n",
       "      <td>168</td>\n",
       "      <td>170</td>\n",
       "      <td>180</td>\n",
       "      <td>208</td>\n",
       "      <td>176</td>\n",
       "      <td>138</td>\n",
       "      <td>140</td>\n",
       "      <td>135</td>\n",
       "    </tr>\n",
       "    <tr>\n",
       "      <th>8</th>\n",
       "      <td>Kultur, media och design</td>\n",
       "      <td>967</td>\n",
       "      <td>987</td>\n",
       "      <td>1103</td>\n",
       "      <td>996</td>\n",
       "      <td>1253</td>\n",
       "      <td>1489</td>\n",
       "      <td>1524</td>\n",
       "      <td>1551</td>\n",
       "      <td>1748</td>\n",
       "      <td>1658</td>\n",
       "    </tr>\n",
       "    <tr>\n",
       "      <th>9</th>\n",
       "      <td>Lantbruk, djurvård, trädgård, skog och fiske</td>\n",
       "      <td>587</td>\n",
       "      <td>638</td>\n",
       "      <td>599</td>\n",
       "      <td>526</td>\n",
       "      <td>638</td>\n",
       "      <td>667</td>\n",
       "      <td>793</td>\n",
       "      <td>777</td>\n",
       "      <td>920</td>\n",
       "      <td>1013</td>\n",
       "    </tr>\n",
       "    <tr>\n",
       "      <th>10</th>\n",
       "      <td>Pedagogik och undervisning</td>\n",
       "      <td>192</td>\n",
       "      <td>327</td>\n",
       "      <td>309</td>\n",
       "      <td>595</td>\n",
       "      <td>703</td>\n",
       "      <td>879</td>\n",
       "      <td>864</td>\n",
       "      <td>872</td>\n",
       "      <td>478</td>\n",
       "      <td>410</td>\n",
       "    </tr>\n",
       "    <tr>\n",
       "      <th>11</th>\n",
       "      <td>Samhällsbyggnad och byggteknik</td>\n",
       "      <td>2243</td>\n",
       "      <td>2358</td>\n",
       "      <td>2689</td>\n",
       "      <td>3273</td>\n",
       "      <td>3886</td>\n",
       "      <td>5446</td>\n",
       "      <td>4669</td>\n",
       "      <td>4660</td>\n",
       "      <td>4979</td>\n",
       "      <td>5425</td>\n",
       "    </tr>\n",
       "    <tr>\n",
       "      <th>12</th>\n",
       "      <td>Säkerhetstjänster</td>\n",
       "      <td>179</td>\n",
       "      <td>93</td>\n",
       "      <td>69</td>\n",
       "      <td>185</td>\n",
       "      <td>217</td>\n",
       "      <td>309</td>\n",
       "      <td>208</td>\n",
       "      <td>344</td>\n",
       "      <td>341</td>\n",
       "      <td>300</td>\n",
       "    </tr>\n",
       "    <tr>\n",
       "      <th>13</th>\n",
       "      <td>Teknik och tillverkning</td>\n",
       "      <td>2872</td>\n",
       "      <td>2810</td>\n",
       "      <td>2716</td>\n",
       "      <td>2856</td>\n",
       "      <td>3664</td>\n",
       "      <td>4926</td>\n",
       "      <td>4749</td>\n",
       "      <td>4505</td>\n",
       "      <td>5149</td>\n",
       "      <td>6014</td>\n",
       "    </tr>\n",
       "    <tr>\n",
       "      <th>14</th>\n",
       "      <td>Transporttjänster</td>\n",
       "      <td>608</td>\n",
       "      <td>721</td>\n",
       "      <td>847</td>\n",
       "      <td>806</td>\n",
       "      <td>1176</td>\n",
       "      <td>772</td>\n",
       "      <td>618</td>\n",
       "      <td>607</td>\n",
       "      <td>814</td>\n",
       "      <td>740</td>\n",
       "    </tr>\n",
       "    <tr>\n",
       "      <th>15</th>\n",
       "      <td>Övrigt</td>\n",
       "      <td>64</td>\n",
       "      <td>101</td>\n",
       "      <td>108</td>\n",
       "      <td>39</td>\n",
       "      <td>183</td>\n",
       "      <td>180</td>\n",
       "      <td>210</td>\n",
       "      <td>214</td>\n",
       "      <td>117</td>\n",
       "      <td>139</td>\n",
       "    </tr>\n",
       "    <tr>\n",
       "      <th>16</th>\n",
       "      <td>Totalt kvinnor</td>\n",
       "      <td>9141</td>\n",
       "      <td>10212</td>\n",
       "      <td>10970</td>\n",
       "      <td>12343</td>\n",
       "      <td>15144</td>\n",
       "      <td>18461</td>\n",
       "      <td>17112</td>\n",
       "      <td>17237</td>\n",
       "      <td>17443</td>\n",
       "      <td>17436</td>\n",
       "    </tr>\n",
       "    <tr>\n",
       "      <th>17</th>\n",
       "      <td>Data/It</td>\n",
       "      <td>623</td>\n",
       "      <td>555</td>\n",
       "      <td>552</td>\n",
       "      <td>491</td>\n",
       "      <td>936</td>\n",
       "      <td>1668</td>\n",
       "      <td>1533</td>\n",
       "      <td>1766</td>\n",
       "      <td>1905</td>\n",
       "      <td>1995</td>\n",
       "    </tr>\n",
       "    <tr>\n",
       "      <th>18</th>\n",
       "      <td>Ekonomi, administration och försäljning</td>\n",
       "      <td>2842</td>\n",
       "      <td>3547</td>\n",
       "      <td>3696</td>\n",
       "      <td>4196</td>\n",
       "      <td>4755</td>\n",
       "      <td>5509</td>\n",
       "      <td>4499</td>\n",
       "      <td>4485</td>\n",
       "      <td>4851</td>\n",
       "      <td>4624</td>\n",
       "    </tr>\n",
       "    <tr>\n",
       "      <th>19</th>\n",
       "      <td>Friskvård och kroppsvård</td>\n",
       "      <td>124</td>\n",
       "      <td>93</td>\n",
       "      <td>96</td>\n",
       "      <td>120</td>\n",
       "      <td>138</td>\n",
       "      <td>154</td>\n",
       "      <td>173</td>\n",
       "      <td>198</td>\n",
       "      <td>209</td>\n",
       "      <td>121</td>\n",
       "    </tr>\n",
       "    <tr>\n",
       "      <th>20</th>\n",
       "      <td>Hotell, restaurang och turism</td>\n",
       "      <td>756</td>\n",
       "      <td>750</td>\n",
       "      <td>736</td>\n",
       "      <td>763</td>\n",
       "      <td>957</td>\n",
       "      <td>1136</td>\n",
       "      <td>1044</td>\n",
       "      <td>844</td>\n",
       "      <td>857</td>\n",
       "      <td>933</td>\n",
       "    </tr>\n",
       "    <tr>\n",
       "      <th>21</th>\n",
       "      <td>Hälso- och sjukvård samt socialt arbete</td>\n",
       "      <td>2148</td>\n",
       "      <td>2458</td>\n",
       "      <td>2789</td>\n",
       "      <td>3219</td>\n",
       "      <td>3815</td>\n",
       "      <td>4490</td>\n",
       "      <td>4650</td>\n",
       "      <td>4704</td>\n",
       "      <td>4279</td>\n",
       "      <td>4125</td>\n",
       "    </tr>\n",
       "    <tr>\n",
       "      <th>22</th>\n",
       "      <td>Journalistik och information</td>\n",
       "      <td>128</td>\n",
       "      <td>235</td>\n",
       "      <td>261</td>\n",
       "      <td>220</td>\n",
       "      <td>295</td>\n",
       "      <td>267</td>\n",
       "      <td>261</td>\n",
       "      <td>222</td>\n",
       "      <td>217</td>\n",
       "      <td>178</td>\n",
       "    </tr>\n",
       "    <tr>\n",
       "      <th>23</th>\n",
       "      <td>Juridik</td>\n",
       "      <td>116</td>\n",
       "      <td>117</td>\n",
       "      <td>142</td>\n",
       "      <td>147</td>\n",
       "      <td>156</td>\n",
       "      <td>181</td>\n",
       "      <td>151</td>\n",
       "      <td>118</td>\n",
       "      <td>123</td>\n",
       "      <td>121</td>\n",
       "    </tr>\n",
       "    <tr>\n",
       "      <th>24</th>\n",
       "      <td>Kultur, media och design</td>\n",
       "      <td>494</td>\n",
       "      <td>480</td>\n",
       "      <td>559</td>\n",
       "      <td>543</td>\n",
       "      <td>643</td>\n",
       "      <td>812</td>\n",
       "      <td>843</td>\n",
       "      <td>827</td>\n",
       "      <td>942</td>\n",
       "      <td>886</td>\n",
       "    </tr>\n",
       "    <tr>\n",
       "      <th>25</th>\n",
       "      <td>Lantbruk, djurvård, trädgård, skog och fiske</td>\n",
       "      <td>378</td>\n",
       "      <td>419</td>\n",
       "      <td>397</td>\n",
       "      <td>349</td>\n",
       "      <td>424</td>\n",
       "      <td>452</td>\n",
       "      <td>546</td>\n",
       "      <td>546</td>\n",
       "      <td>656</td>\n",
       "      <td>715</td>\n",
       "    </tr>\n",
       "    <tr>\n",
       "      <th>26</th>\n",
       "      <td>Pedagogik och undervisning</td>\n",
       "      <td>78</td>\n",
       "      <td>155</td>\n",
       "      <td>157</td>\n",
       "      <td>370</td>\n",
       "      <td>489</td>\n",
       "      <td>592</td>\n",
       "      <td>577</td>\n",
       "      <td>555</td>\n",
       "      <td>247</td>\n",
       "      <td>168</td>\n",
       "    </tr>\n",
       "    <tr>\n",
       "      <th>27</th>\n",
       "      <td>Samhällsbyggnad och byggteknik</td>\n",
       "      <td>546</td>\n",
       "      <td>583</td>\n",
       "      <td>714</td>\n",
       "      <td>954</td>\n",
       "      <td>1214</td>\n",
       "      <td>1752</td>\n",
       "      <td>1536</td>\n",
       "      <td>1615</td>\n",
       "      <td>1644</td>\n",
       "      <td>1801</td>\n",
       "    </tr>\n",
       "    <tr>\n",
       "      <th>28</th>\n",
       "      <td>Säkerhetstjänster</td>\n",
       "      <td>82</td>\n",
       "      <td>34</td>\n",
       "      <td>23</td>\n",
       "      <td>64</td>\n",
       "      <td>101</td>\n",
       "      <td>139</td>\n",
       "      <td>99</td>\n",
       "      <td>141</td>\n",
       "      <td>163</td>\n",
       "      <td>147</td>\n",
       "    </tr>\n",
       "    <tr>\n",
       "      <th>29</th>\n",
       "      <td>Teknik och tillverkning</td>\n",
       "      <td>628</td>\n",
       "      <td>498</td>\n",
       "      <td>551</td>\n",
       "      <td>627</td>\n",
       "      <td>763</td>\n",
       "      <td>1078</td>\n",
       "      <td>978</td>\n",
       "      <td>1025</td>\n",
       "      <td>1182</td>\n",
       "      <td>1434</td>\n",
       "    </tr>\n",
       "    <tr>\n",
       "      <th>30</th>\n",
       "      <td>Transporttjänster</td>\n",
       "      <td>181</td>\n",
       "      <td>247</td>\n",
       "      <td>261</td>\n",
       "      <td>294</td>\n",
       "      <td>430</td>\n",
       "      <td>251</td>\n",
       "      <td>195</td>\n",
       "      <td>182</td>\n",
       "      <td>227</td>\n",
       "      <td>193</td>\n",
       "    </tr>\n",
       "    <tr>\n",
       "      <th>31</th>\n",
       "      <td>Övrigt</td>\n",
       "      <td>33</td>\n",
       "      <td>75</td>\n",
       "      <td>72</td>\n",
       "      <td>22</td>\n",
       "      <td>102</td>\n",
       "      <td>105</td>\n",
       "      <td>124</td>\n",
       "      <td>139</td>\n",
       "      <td>72</td>\n",
       "      <td>93</td>\n",
       "    </tr>\n",
       "    <tr>\n",
       "      <th>32</th>\n",
       "      <td>Totalt män</td>\n",
       "      <td>8748</td>\n",
       "      <td>8841</td>\n",
       "      <td>9159</td>\n",
       "      <td>9882</td>\n",
       "      <td>12528</td>\n",
       "      <td>16346</td>\n",
       "      <td>15137</td>\n",
       "      <td>15078</td>\n",
       "      <td>16715</td>\n",
       "      <td>17373</td>\n",
       "    </tr>\n",
       "    <tr>\n",
       "      <th>33</th>\n",
       "      <td>Data/It</td>\n",
       "      <td>1986</td>\n",
       "      <td>1722</td>\n",
       "      <td>1680</td>\n",
       "      <td>1684</td>\n",
       "      <td>2521</td>\n",
       "      <td>3771</td>\n",
       "      <td>3654</td>\n",
       "      <td>3889</td>\n",
       "      <td>4345</td>\n",
       "      <td>4451</td>\n",
       "    </tr>\n",
       "    <tr>\n",
       "      <th>34</th>\n",
       "      <td>Ekonomi, administration och försäljning</td>\n",
       "      <td>900</td>\n",
       "      <td>1022</td>\n",
       "      <td>1176</td>\n",
       "      <td>1467</td>\n",
       "      <td>1680</td>\n",
       "      <td>2174</td>\n",
       "      <td>1807</td>\n",
       "      <td>1899</td>\n",
       "      <td>2051</td>\n",
       "      <td>1860</td>\n",
       "    </tr>\n",
       "    <tr>\n",
       "      <th>35</th>\n",
       "      <td>Friskvård och kroppsvård</td>\n",
       "      <td>22</td>\n",
       "      <td>16</td>\n",
       "      <td>9</td>\n",
       "      <td>8</td>\n",
       "      <td>13</td>\n",
       "      <td>10</td>\n",
       "      <td>6</td>\n",
       "      <td>7</td>\n",
       "      <td>20</td>\n",
       "      <td>0</td>\n",
       "    </tr>\n",
       "    <tr>\n",
       "      <th>36</th>\n",
       "      <td>Hotell, restaurang och turism</td>\n",
       "      <td>222</td>\n",
       "      <td>245</td>\n",
       "      <td>231</td>\n",
       "      <td>233</td>\n",
       "      <td>284</td>\n",
       "      <td>375</td>\n",
       "      <td>373</td>\n",
       "      <td>272</td>\n",
       "      <td>281</td>\n",
       "      <td>312</td>\n",
       "    </tr>\n",
       "    <tr>\n",
       "      <th>37</th>\n",
       "      <td>Hälso- och sjukvård samt socialt arbete</td>\n",
       "      <td>277</td>\n",
       "      <td>234</td>\n",
       "      <td>302</td>\n",
       "      <td>355</td>\n",
       "      <td>416</td>\n",
       "      <td>543</td>\n",
       "      <td>563</td>\n",
       "      <td>547</td>\n",
       "      <td>638</td>\n",
       "      <td>548</td>\n",
       "    </tr>\n",
       "    <tr>\n",
       "      <th>38</th>\n",
       "      <td>Journalistik och information</td>\n",
       "      <td>65</td>\n",
       "      <td>78</td>\n",
       "      <td>78</td>\n",
       "      <td>105</td>\n",
       "      <td>100</td>\n",
       "      <td>94</td>\n",
       "      <td>89</td>\n",
       "      <td>70</td>\n",
       "      <td>66</td>\n",
       "      <td>54</td>\n",
       "    </tr>\n",
       "    <tr>\n",
       "      <th>39</th>\n",
       "      <td>Juridik</td>\n",
       "      <td>12</td>\n",
       "      <td>13</td>\n",
       "      <td>26</td>\n",
       "      <td>23</td>\n",
       "      <td>24</td>\n",
       "      <td>27</td>\n",
       "      <td>25</td>\n",
       "      <td>20</td>\n",
       "      <td>17</td>\n",
       "      <td>14</td>\n",
       "    </tr>\n",
       "    <tr>\n",
       "      <th>40</th>\n",
       "      <td>Kultur, media och design</td>\n",
       "      <td>473</td>\n",
       "      <td>507</td>\n",
       "      <td>544</td>\n",
       "      <td>453</td>\n",
       "      <td>610</td>\n",
       "      <td>677</td>\n",
       "      <td>681</td>\n",
       "      <td>724</td>\n",
       "      <td>806</td>\n",
       "      <td>772</td>\n",
       "    </tr>\n",
       "    <tr>\n",
       "      <th>41</th>\n",
       "      <td>Lantbruk, djurvård, trädgård, skog och fiske</td>\n",
       "      <td>209</td>\n",
       "      <td>219</td>\n",
       "      <td>202</td>\n",
       "      <td>177</td>\n",
       "      <td>214</td>\n",
       "      <td>215</td>\n",
       "      <td>247</td>\n",
       "      <td>231</td>\n",
       "      <td>264</td>\n",
       "      <td>298</td>\n",
       "    </tr>\n",
       "    <tr>\n",
       "      <th>42</th>\n",
       "      <td>Pedagogik och undervisning</td>\n",
       "      <td>114</td>\n",
       "      <td>172</td>\n",
       "      <td>152</td>\n",
       "      <td>225</td>\n",
       "      <td>214</td>\n",
       "      <td>287</td>\n",
       "      <td>287</td>\n",
       "      <td>317</td>\n",
       "      <td>231</td>\n",
       "      <td>242</td>\n",
       "    </tr>\n",
       "    <tr>\n",
       "      <th>43</th>\n",
       "      <td>Samhällsbyggnad och byggteknik</td>\n",
       "      <td>1697</td>\n",
       "      <td>1775</td>\n",
       "      <td>1975</td>\n",
       "      <td>2319</td>\n",
       "      <td>2672</td>\n",
       "      <td>3694</td>\n",
       "      <td>3133</td>\n",
       "      <td>3045</td>\n",
       "      <td>3335</td>\n",
       "      <td>3624</td>\n",
       "    </tr>\n",
       "    <tr>\n",
       "      <th>44</th>\n",
       "      <td>Säkerhetstjänster</td>\n",
       "      <td>97</td>\n",
       "      <td>59</td>\n",
       "      <td>46</td>\n",
       "      <td>121</td>\n",
       "      <td>116</td>\n",
       "      <td>170</td>\n",
       "      <td>109</td>\n",
       "      <td>203</td>\n",
       "      <td>178</td>\n",
       "      <td>153</td>\n",
       "    </tr>\n",
       "    <tr>\n",
       "      <th>45</th>\n",
       "      <td>Teknik och tillverkning</td>\n",
       "      <td>2244</td>\n",
       "      <td>2312</td>\n",
       "      <td>2165</td>\n",
       "      <td>2229</td>\n",
       "      <td>2901</td>\n",
       "      <td>3848</td>\n",
       "      <td>3771</td>\n",
       "      <td>3480</td>\n",
       "      <td>3967</td>\n",
       "      <td>4580</td>\n",
       "    </tr>\n",
       "    <tr>\n",
       "      <th>46</th>\n",
       "      <td>Transporttjänster</td>\n",
       "      <td>427</td>\n",
       "      <td>474</td>\n",
       "      <td>586</td>\n",
       "      <td>512</td>\n",
       "      <td>746</td>\n",
       "      <td>521</td>\n",
       "      <td>423</td>\n",
       "      <td>425</td>\n",
       "      <td>587</td>\n",
       "      <td>547</td>\n",
       "    </tr>\n",
       "    <tr>\n",
       "      <th>47</th>\n",
       "      <td>Övrigt</td>\n",
       "      <td>31</td>\n",
       "      <td>26</td>\n",
       "      <td>36</td>\n",
       "      <td>17</td>\n",
       "      <td>81</td>\n",
       "      <td>75</td>\n",
       "      <td>86</td>\n",
       "      <td>75</td>\n",
       "      <td>45</td>\n",
       "      <td>46</td>\n",
       "    </tr>\n",
       "  </tbody>\n",
       "</table>\n",
       "</div>"
      ],
      "text/plain": [
       "                               Utbildningsområde   2015   2016   2017   2018  \\\n",
       "0                                         Totalt  17889  19053  20129  22225   \n",
       "1                                        Data/It   2609   2277   2232   2175   \n",
       "2        Ekonomi, administration och försäljning   3742   4569   4872   5663   \n",
       "3                       Friskvård och kroppsvård    146    109    105    128   \n",
       "4                  Hotell, restaurang och turism    978    995    967    996   \n",
       "5        Hälso- och sjukvård samt socialt arbete   2425   2692   3091   3574   \n",
       "6                   Journalistik och information    193    313    339    325   \n",
       "7                                        Juridik    128    130    168    170   \n",
       "8                       Kultur, media och design    967    987   1103    996   \n",
       "9   Lantbruk, djurvård, trädgård, skog och fiske    587    638    599    526   \n",
       "10                    Pedagogik och undervisning    192    327    309    595   \n",
       "11                Samhällsbyggnad och byggteknik   2243   2358   2689   3273   \n",
       "12                             Säkerhetstjänster    179     93     69    185   \n",
       "13                       Teknik och tillverkning   2872   2810   2716   2856   \n",
       "14                             Transporttjänster    608    721    847    806   \n",
       "15                                        Övrigt     64    101    108     39   \n",
       "16                                Totalt kvinnor   9141  10212  10970  12343   \n",
       "17                                       Data/It    623    555    552    491   \n",
       "18       Ekonomi, administration och försäljning   2842   3547   3696   4196   \n",
       "19                      Friskvård och kroppsvård    124     93     96    120   \n",
       "20                 Hotell, restaurang och turism    756    750    736    763   \n",
       "21       Hälso- och sjukvård samt socialt arbete   2148   2458   2789   3219   \n",
       "22                  Journalistik och information    128    235    261    220   \n",
       "23                                       Juridik    116    117    142    147   \n",
       "24                      Kultur, media och design    494    480    559    543   \n",
       "25  Lantbruk, djurvård, trädgård, skog och fiske    378    419    397    349   \n",
       "26                    Pedagogik och undervisning     78    155    157    370   \n",
       "27                Samhällsbyggnad och byggteknik    546    583    714    954   \n",
       "28                             Säkerhetstjänster     82     34     23     64   \n",
       "29                       Teknik och tillverkning    628    498    551    627   \n",
       "30                             Transporttjänster    181    247    261    294   \n",
       "31                                        Övrigt     33     75     72     22   \n",
       "32                                    Totalt män   8748   8841   9159   9882   \n",
       "33                                       Data/It   1986   1722   1680   1684   \n",
       "34       Ekonomi, administration och försäljning    900   1022   1176   1467   \n",
       "35                      Friskvård och kroppsvård     22     16      9      8   \n",
       "36                 Hotell, restaurang och turism    222    245    231    233   \n",
       "37       Hälso- och sjukvård samt socialt arbete    277    234    302    355   \n",
       "38                  Journalistik och information     65     78     78    105   \n",
       "39                                       Juridik     12     13     26     23   \n",
       "40                      Kultur, media och design    473    507    544    453   \n",
       "41  Lantbruk, djurvård, trädgård, skog och fiske    209    219    202    177   \n",
       "42                    Pedagogik och undervisning    114    172    152    225   \n",
       "43                Samhällsbyggnad och byggteknik   1697   1775   1975   2319   \n",
       "44                             Säkerhetstjänster     97     59     46    121   \n",
       "45                       Teknik och tillverkning   2244   2312   2165   2229   \n",
       "46                             Transporttjänster    427    474    586    512   \n",
       "47                                        Övrigt     31     26     36     17   \n",
       "\n",
       "     2019   2020   2021   2022   2023   2024  \n",
       "0   27672  34807  32249  32315  34158  34809  \n",
       "1    3457   5439   5187   5655   6250   6446  \n",
       "2    6435   7683   6306   6384   6902   6484  \n",
       "3     151    164    179    205    229    121  \n",
       "4    1241   1511   1417   1116   1138   1245  \n",
       "5    4231   5033   5213   5251   4917   4673  \n",
       "6     395    361    350    292    283    232  \n",
       "7     180    208    176    138    140    135  \n",
       "8    1253   1489   1524   1551   1748   1658  \n",
       "9     638    667    793    777    920   1013  \n",
       "10    703    879    864    872    478    410  \n",
       "11   3886   5446   4669   4660   4979   5425  \n",
       "12    217    309    208    344    341    300  \n",
       "13   3664   4926   4749   4505   5149   6014  \n",
       "14   1176    772    618    607    814    740  \n",
       "15    183    180    210    214    117    139  \n",
       "16  15144  18461  17112  17237  17443  17436  \n",
       "17    936   1668   1533   1766   1905   1995  \n",
       "18   4755   5509   4499   4485   4851   4624  \n",
       "19    138    154    173    198    209    121  \n",
       "20    957   1136   1044    844    857    933  \n",
       "21   3815   4490   4650   4704   4279   4125  \n",
       "22    295    267    261    222    217    178  \n",
       "23    156    181    151    118    123    121  \n",
       "24    643    812    843    827    942    886  \n",
       "25    424    452    546    546    656    715  \n",
       "26    489    592    577    555    247    168  \n",
       "27   1214   1752   1536   1615   1644   1801  \n",
       "28    101    139     99    141    163    147  \n",
       "29    763   1078    978   1025   1182   1434  \n",
       "30    430    251    195    182    227    193  \n",
       "31    102    105    124    139     72     93  \n",
       "32  12528  16346  15137  15078  16715  17373  \n",
       "33   2521   3771   3654   3889   4345   4451  \n",
       "34   1680   2174   1807   1899   2051   1860  \n",
       "35     13     10      6      7     20      0  \n",
       "36    284    375    373    272    281    312  \n",
       "37    416    543    563    547    638    548  \n",
       "38    100     94     89     70     66     54  \n",
       "39     24     27     25     20     17     14  \n",
       "40    610    677    681    724    806    772  \n",
       "41    214    215    247    231    264    298  \n",
       "42    214    287    287    317    231    242  \n",
       "43   2672   3694   3133   3045   3335   3624  \n",
       "44    116    170    109    203    178    153  \n",
       "45   2901   3848   3771   3480   3967   4580  \n",
       "46    746    521    423    425    587    547  \n",
       "47     81     75     86     75     45     46  "
      ]
     },
     "execution_count": 56,
     "metadata": {},
     "output_type": "execute_result"
    }
   ],
   "source": [
    "import pandas as pd\n",
    "import duckdb\n",
    "\n",
    "df = pd.read_excel(\"../../data/page_4/sökande_antagna_examinerade_2014_24.xlsx\", skiprows=3, thousands=\",\", sheet_name=None)\n",
    "df['antagna']\n"
   ]
  },
  {
   "cell_type": "code",
   "execution_count": 60,
   "id": "0f870a9e",
   "metadata": {},
   "outputs": [
    {
     "name": "stdout",
     "output_type": "stream",
     "text": [
      "Sheet colums                                Utbildningsområde   2015   2016   2017   2018  \\\n",
      "0                                         Totalt  17889  19053  20129  22225   \n",
      "1                                        Data/It   2609   2277   2232   2175   \n",
      "2        Ekonomi, administration och försäljning   3742   4569   4872   5663   \n",
      "3                       Friskvård och kroppsvård    146    109    105    128   \n",
      "4                  Hotell, restaurang och turism    978    995    967    996   \n",
      "5        Hälso- och sjukvård samt socialt arbete   2425   2692   3091   3574   \n",
      "6                   Journalistik och information    193    313    339    325   \n",
      "7                                        Juridik    128    130    168    170   \n",
      "8                       Kultur, media och design    967    987   1103    996   \n",
      "9   Lantbruk, djurvård, trädgård, skog och fiske    587    638    599    526   \n",
      "10                    Pedagogik och undervisning    192    327    309    595   \n",
      "11                Samhällsbyggnad och byggteknik   2243   2358   2689   3273   \n",
      "12                             Säkerhetstjänster    179     93     69    185   \n",
      "13                       Teknik och tillverkning   2872   2810   2716   2856   \n",
      "14                             Transporttjänster    608    721    847    806   \n",
      "15                                        Övrigt     64    101    108     39   \n",
      "16                                Totalt kvinnor   9141  10212  10970  12343   \n",
      "17                                       Data/It    623    555    552    491   \n",
      "18       Ekonomi, administration och försäljning   2842   3547   3696   4196   \n",
      "19                      Friskvård och kroppsvård    124     93     96    120   \n",
      "20                 Hotell, restaurang och turism    756    750    736    763   \n",
      "21       Hälso- och sjukvård samt socialt arbete   2148   2458   2789   3219   \n",
      "22                  Journalistik och information    128    235    261    220   \n",
      "23                                       Juridik    116    117    142    147   \n",
      "24                      Kultur, media och design    494    480    559    543   \n",
      "25  Lantbruk, djurvård, trädgård, skog och fiske    378    419    397    349   \n",
      "26                    Pedagogik och undervisning     78    155    157    370   \n",
      "27                Samhällsbyggnad och byggteknik    546    583    714    954   \n",
      "28                             Säkerhetstjänster     82     34     23     64   \n",
      "29                       Teknik och tillverkning    628    498    551    627   \n",
      "30                             Transporttjänster    181    247    261    294   \n",
      "31                                        Övrigt     33     75     72     22   \n",
      "32                                    Totalt män   8748   8841   9159   9882   \n",
      "33                                       Data/It   1986   1722   1680   1684   \n",
      "34       Ekonomi, administration och försäljning    900   1022   1176   1467   \n",
      "35                      Friskvård och kroppsvård     22     16      9      8   \n",
      "36                 Hotell, restaurang och turism    222    245    231    233   \n",
      "37       Hälso- och sjukvård samt socialt arbete    277    234    302    355   \n",
      "38                  Journalistik och information     65     78     78    105   \n",
      "39                                       Juridik     12     13     26     23   \n",
      "40                      Kultur, media och design    473    507    544    453   \n",
      "41  Lantbruk, djurvård, trädgård, skog och fiske    209    219    202    177   \n",
      "42                    Pedagogik och undervisning    114    172    152    225   \n",
      "43                Samhällsbyggnad och byggteknik   1697   1775   1975   2319   \n",
      "44                             Säkerhetstjänster     97     59     46    121   \n",
      "45                       Teknik och tillverkning   2244   2312   2165   2229   \n",
      "46                             Transporttjänster    427    474    586    512   \n",
      "47                                        Övrigt     31     26     36     17   \n",
      "\n",
      "     2019   2020   2021   2022   2023   2024  \n",
      "0   27672  34807  32249  32315  34158  34809  \n",
      "1    3457   5439   5187   5655   6250   6446  \n",
      "2    6435   7683   6306   6384   6902   6484  \n",
      "3     151    164    179    205    229    121  \n",
      "4    1241   1511   1417   1116   1138   1245  \n",
      "5    4231   5033   5213   5251   4917   4673  \n",
      "6     395    361    350    292    283    232  \n",
      "7     180    208    176    138    140    135  \n",
      "8    1253   1489   1524   1551   1748   1658  \n",
      "9     638    667    793    777    920   1013  \n",
      "10    703    879    864    872    478    410  \n",
      "11   3886   5446   4669   4660   4979   5425  \n",
      "12    217    309    208    344    341    300  \n",
      "13   3664   4926   4749   4505   5149   6014  \n",
      "14   1176    772    618    607    814    740  \n",
      "15    183    180    210    214    117    139  \n",
      "16  15144  18461  17112  17237  17443  17436  \n",
      "17    936   1668   1533   1766   1905   1995  \n",
      "18   4755   5509   4499   4485   4851   4624  \n",
      "19    138    154    173    198    209    121  \n",
      "20    957   1136   1044    844    857    933  \n",
      "21   3815   4490   4650   4704   4279   4125  \n",
      "22    295    267    261    222    217    178  \n",
      "23    156    181    151    118    123    121  \n",
      "24    643    812    843    827    942    886  \n",
      "25    424    452    546    546    656    715  \n",
      "26    489    592    577    555    247    168  \n",
      "27   1214   1752   1536   1615   1644   1801  \n",
      "28    101    139     99    141    163    147  \n",
      "29    763   1078    978   1025   1182   1434  \n",
      "30    430    251    195    182    227    193  \n",
      "31    102    105    124    139     72     93  \n",
      "32  12528  16346  15137  15078  16715  17373  \n",
      "33   2521   3771   3654   3889   4345   4451  \n",
      "34   1680   2174   1807   1899   2051   1860  \n",
      "35     13     10      6      7     20      0  \n",
      "36    284    375    373    272    281    312  \n",
      "37    416    543    563    547    638    548  \n",
      "38    100     94     89     70     66     54  \n",
      "39     24     27     25     20     17     14  \n",
      "40    610    677    681    724    806    772  \n",
      "41    214    215    247    231    264    298  \n",
      "42    214    287    287    317    231    242  \n",
      "43   2672   3694   3133   3045   3335   3624  \n",
      "44    116    170    109    203    178    153  \n",
      "45   2901   3848   3771   3480   3967   4580  \n",
      "46    746    521    423    425    587    547  \n",
      "47     81     75     86     75     45     46   : ['Utbildningsområde', 2015, 2016, 2017, 2018, 2019, 2020, 2021, 2022, 2023, 2024]\n"
     ]
    }
   ],
   "source": [
    "print(\"Sheet colums\", df['antagna'], \":\", df['antagna'].columns.tolist())"
   ]
  },
  {
   "cell_type": "code",
   "execution_count": 68,
   "id": "3ecb6d93",
   "metadata": {},
   "outputs": [
    {
     "name": "stdout",
     "output_type": "stream",
     "text": [
      "         Stage    Amount\n",
      "0      Sökande  104541.0\n",
      "1     Behöriga   77036.0\n",
      "2      Antagna   34809.0\n",
      "3  Examinerade       NaN\n"
     ]
    }
   ],
   "source": [
    "def get_funnel_data(year=2024, education_area=\"Totalt\"):\n",
    "    \n",
    "    data = []\n",
    "\n",
    "    for sheet_name, sheet_data in df.items():\n",
    "        sheet_data = df[sheet_name]\n",
    "        value = sheet_data.loc[sheet_data['Utbildningsområde'] == education_area, year].values[0]\n",
    "        data.append({'Stage': sheet_name.capitalize(), 'Amount': value})\n",
    "\n",
    "    return pd.DataFrame(data)\n",
    "\n",
    "funnel_df = get_funnel_data()\n",
    "print(funnel_df)"
   ]
  },
  {
   "cell_type": "code",
   "execution_count": 71,
   "id": "9cda3df6",
   "metadata": {},
   "outputs": [
    {
     "data": {
      "application/vnd.plotly.v1+json": {
       "config": {
        "plotlyServerURL": "https://plot.ly"
       },
       "data": [
        {
         "hovertemplate": "Amount=%{x}<br>Stage=%{y}<extra></extra>",
         "legendgroup": "",
         "marker": {
          "color": "#636efa"
         },
         "name": "",
         "orientation": "h",
         "showlegend": false,
         "type": "funnel",
         "x": {
          "bdata": "AAAAANCF+UAAAAAAwM7yQAAAAAAg/+BAAAAAAAAA+H8=",
          "dtype": "f8"
         },
         "xaxis": "x",
         "y": [
          "Sökande",
          "Behöriga",
          "Antagna",
          "Examinerade"
         ],
         "yaxis": "y"
        }
       ],
       "layout": {
        "legend": {
         "tracegroupgap": 0
        },
        "template": {
         "data": {
          "bar": [
           {
            "error_x": {
             "color": "#2a3f5f"
            },
            "error_y": {
             "color": "#2a3f5f"
            },
            "marker": {
             "line": {
              "color": "#E5ECF6",
              "width": 0.5
             },
             "pattern": {
              "fillmode": "overlay",
              "size": 10,
              "solidity": 0.2
             }
            },
            "type": "bar"
           }
          ],
          "barpolar": [
           {
            "marker": {
             "line": {
              "color": "#E5ECF6",
              "width": 0.5
             },
             "pattern": {
              "fillmode": "overlay",
              "size": 10,
              "solidity": 0.2
             }
            },
            "type": "barpolar"
           }
          ],
          "carpet": [
           {
            "aaxis": {
             "endlinecolor": "#2a3f5f",
             "gridcolor": "white",
             "linecolor": "white",
             "minorgridcolor": "white",
             "startlinecolor": "#2a3f5f"
            },
            "baxis": {
             "endlinecolor": "#2a3f5f",
             "gridcolor": "white",
             "linecolor": "white",
             "minorgridcolor": "white",
             "startlinecolor": "#2a3f5f"
            },
            "type": "carpet"
           }
          ],
          "choropleth": [
           {
            "colorbar": {
             "outlinewidth": 0,
             "ticks": ""
            },
            "type": "choropleth"
           }
          ],
          "contour": [
           {
            "colorbar": {
             "outlinewidth": 0,
             "ticks": ""
            },
            "colorscale": [
             [
              0,
              "#0d0887"
             ],
             [
              0.1111111111111111,
              "#46039f"
             ],
             [
              0.2222222222222222,
              "#7201a8"
             ],
             [
              0.3333333333333333,
              "#9c179e"
             ],
             [
              0.4444444444444444,
              "#bd3786"
             ],
             [
              0.5555555555555556,
              "#d8576b"
             ],
             [
              0.6666666666666666,
              "#ed7953"
             ],
             [
              0.7777777777777778,
              "#fb9f3a"
             ],
             [
              0.8888888888888888,
              "#fdca26"
             ],
             [
              1,
              "#f0f921"
             ]
            ],
            "type": "contour"
           }
          ],
          "contourcarpet": [
           {
            "colorbar": {
             "outlinewidth": 0,
             "ticks": ""
            },
            "type": "contourcarpet"
           }
          ],
          "heatmap": [
           {
            "colorbar": {
             "outlinewidth": 0,
             "ticks": ""
            },
            "colorscale": [
             [
              0,
              "#0d0887"
             ],
             [
              0.1111111111111111,
              "#46039f"
             ],
             [
              0.2222222222222222,
              "#7201a8"
             ],
             [
              0.3333333333333333,
              "#9c179e"
             ],
             [
              0.4444444444444444,
              "#bd3786"
             ],
             [
              0.5555555555555556,
              "#d8576b"
             ],
             [
              0.6666666666666666,
              "#ed7953"
             ],
             [
              0.7777777777777778,
              "#fb9f3a"
             ],
             [
              0.8888888888888888,
              "#fdca26"
             ],
             [
              1,
              "#f0f921"
             ]
            ],
            "type": "heatmap"
           }
          ],
          "histogram": [
           {
            "marker": {
             "pattern": {
              "fillmode": "overlay",
              "size": 10,
              "solidity": 0.2
             }
            },
            "type": "histogram"
           }
          ],
          "histogram2d": [
           {
            "colorbar": {
             "outlinewidth": 0,
             "ticks": ""
            },
            "colorscale": [
             [
              0,
              "#0d0887"
             ],
             [
              0.1111111111111111,
              "#46039f"
             ],
             [
              0.2222222222222222,
              "#7201a8"
             ],
             [
              0.3333333333333333,
              "#9c179e"
             ],
             [
              0.4444444444444444,
              "#bd3786"
             ],
             [
              0.5555555555555556,
              "#d8576b"
             ],
             [
              0.6666666666666666,
              "#ed7953"
             ],
             [
              0.7777777777777778,
              "#fb9f3a"
             ],
             [
              0.8888888888888888,
              "#fdca26"
             ],
             [
              1,
              "#f0f921"
             ]
            ],
            "type": "histogram2d"
           }
          ],
          "histogram2dcontour": [
           {
            "colorbar": {
             "outlinewidth": 0,
             "ticks": ""
            },
            "colorscale": [
             [
              0,
              "#0d0887"
             ],
             [
              0.1111111111111111,
              "#46039f"
             ],
             [
              0.2222222222222222,
              "#7201a8"
             ],
             [
              0.3333333333333333,
              "#9c179e"
             ],
             [
              0.4444444444444444,
              "#bd3786"
             ],
             [
              0.5555555555555556,
              "#d8576b"
             ],
             [
              0.6666666666666666,
              "#ed7953"
             ],
             [
              0.7777777777777778,
              "#fb9f3a"
             ],
             [
              0.8888888888888888,
              "#fdca26"
             ],
             [
              1,
              "#f0f921"
             ]
            ],
            "type": "histogram2dcontour"
           }
          ],
          "mesh3d": [
           {
            "colorbar": {
             "outlinewidth": 0,
             "ticks": ""
            },
            "type": "mesh3d"
           }
          ],
          "parcoords": [
           {
            "line": {
             "colorbar": {
              "outlinewidth": 0,
              "ticks": ""
             }
            },
            "type": "parcoords"
           }
          ],
          "pie": [
           {
            "automargin": true,
            "type": "pie"
           }
          ],
          "scatter": [
           {
            "fillpattern": {
             "fillmode": "overlay",
             "size": 10,
             "solidity": 0.2
            },
            "type": "scatter"
           }
          ],
          "scatter3d": [
           {
            "line": {
             "colorbar": {
              "outlinewidth": 0,
              "ticks": ""
             }
            },
            "marker": {
             "colorbar": {
              "outlinewidth": 0,
              "ticks": ""
             }
            },
            "type": "scatter3d"
           }
          ],
          "scattercarpet": [
           {
            "marker": {
             "colorbar": {
              "outlinewidth": 0,
              "ticks": ""
             }
            },
            "type": "scattercarpet"
           }
          ],
          "scattergeo": [
           {
            "marker": {
             "colorbar": {
              "outlinewidth": 0,
              "ticks": ""
             }
            },
            "type": "scattergeo"
           }
          ],
          "scattergl": [
           {
            "marker": {
             "colorbar": {
              "outlinewidth": 0,
              "ticks": ""
             }
            },
            "type": "scattergl"
           }
          ],
          "scattermap": [
           {
            "marker": {
             "colorbar": {
              "outlinewidth": 0,
              "ticks": ""
             }
            },
            "type": "scattermap"
           }
          ],
          "scattermapbox": [
           {
            "marker": {
             "colorbar": {
              "outlinewidth": 0,
              "ticks": ""
             }
            },
            "type": "scattermapbox"
           }
          ],
          "scatterpolar": [
           {
            "marker": {
             "colorbar": {
              "outlinewidth": 0,
              "ticks": ""
             }
            },
            "type": "scatterpolar"
           }
          ],
          "scatterpolargl": [
           {
            "marker": {
             "colorbar": {
              "outlinewidth": 0,
              "ticks": ""
             }
            },
            "type": "scatterpolargl"
           }
          ],
          "scatterternary": [
           {
            "marker": {
             "colorbar": {
              "outlinewidth": 0,
              "ticks": ""
             }
            },
            "type": "scatterternary"
           }
          ],
          "surface": [
           {
            "colorbar": {
             "outlinewidth": 0,
             "ticks": ""
            },
            "colorscale": [
             [
              0,
              "#0d0887"
             ],
             [
              0.1111111111111111,
              "#46039f"
             ],
             [
              0.2222222222222222,
              "#7201a8"
             ],
             [
              0.3333333333333333,
              "#9c179e"
             ],
             [
              0.4444444444444444,
              "#bd3786"
             ],
             [
              0.5555555555555556,
              "#d8576b"
             ],
             [
              0.6666666666666666,
              "#ed7953"
             ],
             [
              0.7777777777777778,
              "#fb9f3a"
             ],
             [
              0.8888888888888888,
              "#fdca26"
             ],
             [
              1,
              "#f0f921"
             ]
            ],
            "type": "surface"
           }
          ],
          "table": [
           {
            "cells": {
             "fill": {
              "color": "#EBF0F8"
             },
             "line": {
              "color": "white"
             }
            },
            "header": {
             "fill": {
              "color": "#C8D4E3"
             },
             "line": {
              "color": "white"
             }
            },
            "type": "table"
           }
          ]
         },
         "layout": {
          "annotationdefaults": {
           "arrowcolor": "#2a3f5f",
           "arrowhead": 0,
           "arrowwidth": 1
          },
          "autotypenumbers": "strict",
          "coloraxis": {
           "colorbar": {
            "outlinewidth": 0,
            "ticks": ""
           }
          },
          "colorscale": {
           "diverging": [
            [
             0,
             "#8e0152"
            ],
            [
             0.1,
             "#c51b7d"
            ],
            [
             0.2,
             "#de77ae"
            ],
            [
             0.3,
             "#f1b6da"
            ],
            [
             0.4,
             "#fde0ef"
            ],
            [
             0.5,
             "#f7f7f7"
            ],
            [
             0.6,
             "#e6f5d0"
            ],
            [
             0.7,
             "#b8e186"
            ],
            [
             0.8,
             "#7fbc41"
            ],
            [
             0.9,
             "#4d9221"
            ],
            [
             1,
             "#276419"
            ]
           ],
           "sequential": [
            [
             0,
             "#0d0887"
            ],
            [
             0.1111111111111111,
             "#46039f"
            ],
            [
             0.2222222222222222,
             "#7201a8"
            ],
            [
             0.3333333333333333,
             "#9c179e"
            ],
            [
             0.4444444444444444,
             "#bd3786"
            ],
            [
             0.5555555555555556,
             "#d8576b"
            ],
            [
             0.6666666666666666,
             "#ed7953"
            ],
            [
             0.7777777777777778,
             "#fb9f3a"
            ],
            [
             0.8888888888888888,
             "#fdca26"
            ],
            [
             1,
             "#f0f921"
            ]
           ],
           "sequentialminus": [
            [
             0,
             "#0d0887"
            ],
            [
             0.1111111111111111,
             "#46039f"
            ],
            [
             0.2222222222222222,
             "#7201a8"
            ],
            [
             0.3333333333333333,
             "#9c179e"
            ],
            [
             0.4444444444444444,
             "#bd3786"
            ],
            [
             0.5555555555555556,
             "#d8576b"
            ],
            [
             0.6666666666666666,
             "#ed7953"
            ],
            [
             0.7777777777777778,
             "#fb9f3a"
            ],
            [
             0.8888888888888888,
             "#fdca26"
            ],
            [
             1,
             "#f0f921"
            ]
           ]
          },
          "colorway": [
           "#636efa",
           "#EF553B",
           "#00cc96",
           "#ab63fa",
           "#FFA15A",
           "#19d3f3",
           "#FF6692",
           "#B6E880",
           "#FF97FF",
           "#FECB52"
          ],
          "font": {
           "color": "#2a3f5f"
          },
          "geo": {
           "bgcolor": "white",
           "lakecolor": "white",
           "landcolor": "#E5ECF6",
           "showlakes": true,
           "showland": true,
           "subunitcolor": "white"
          },
          "hoverlabel": {
           "align": "left"
          },
          "hovermode": "closest",
          "mapbox": {
           "style": "light"
          },
          "paper_bgcolor": "white",
          "plot_bgcolor": "#E5ECF6",
          "polar": {
           "angularaxis": {
            "gridcolor": "white",
            "linecolor": "white",
            "ticks": ""
           },
           "bgcolor": "#E5ECF6",
           "radialaxis": {
            "gridcolor": "white",
            "linecolor": "white",
            "ticks": ""
           }
          },
          "scene": {
           "xaxis": {
            "backgroundcolor": "#E5ECF6",
            "gridcolor": "white",
            "gridwidth": 2,
            "linecolor": "white",
            "showbackground": true,
            "ticks": "",
            "zerolinecolor": "white"
           },
           "yaxis": {
            "backgroundcolor": "#E5ECF6",
            "gridcolor": "white",
            "gridwidth": 2,
            "linecolor": "white",
            "showbackground": true,
            "ticks": "",
            "zerolinecolor": "white"
           },
           "zaxis": {
            "backgroundcolor": "#E5ECF6",
            "gridcolor": "white",
            "gridwidth": 2,
            "linecolor": "white",
            "showbackground": true,
            "ticks": "",
            "zerolinecolor": "white"
           }
          },
          "shapedefaults": {
           "line": {
            "color": "#2a3f5f"
           }
          },
          "ternary": {
           "aaxis": {
            "gridcolor": "white",
            "linecolor": "white",
            "ticks": ""
           },
           "baxis": {
            "gridcolor": "white",
            "linecolor": "white",
            "ticks": ""
           },
           "bgcolor": "#E5ECF6",
           "caxis": {
            "gridcolor": "white",
            "linecolor": "white",
            "ticks": ""
           }
          },
          "title": {
           "x": 0.05
          },
          "xaxis": {
           "automargin": true,
           "gridcolor": "white",
           "linecolor": "white",
           "ticks": "",
           "title": {
            "standoff": 15
           },
           "zerolinecolor": "white",
           "zerolinewidth": 2
          },
          "yaxis": {
           "automargin": true,
           "gridcolor": "white",
           "linecolor": "white",
           "ticks": "",
           "title": {
            "standoff": 15
           },
           "zerolinecolor": "white",
           "zerolinewidth": 2
          }
         }
        },
        "title": {
         "text": "Antagningsprocessen 2024: Från sökande till examinerade"
        },
        "xaxis": {
         "anchor": "y",
         "domain": [
          0,
          1
         ],
         "title": {
          "text": "Amount"
         }
        },
        "yaxis": {
         "anchor": "x",
         "domain": [
          0,
          1
         ],
         "title": {
          "text": "Stage"
         }
        }
       }
      }
     },
     "metadata": {},
     "output_type": "display_data"
    }
   ],
   "source": [
    "import plotly.express as px\n",
    "\n",
    "fig = px.funnel(\n",
    "    funnel_df,\n",
    "    x=\"Amount\",\n",
    "    y=\"Stage\",\n",
    "    title=\"Antagningsprocessen 2024: Från sökande till examinerade\",\n",
    ")\n",
    "fig.show()"
   ]
  },
  {
   "cell_type": "code",
   "execution_count": null,
   "id": "d88b7a6e",
   "metadata": {},
   "outputs": [],
   "source": []
  }
 ],
 "metadata": {
  "kernelspec": {
   "display_name": ".venv",
   "language": "python",
   "name": "python3"
  },
  "language_info": {
   "codemirror_mode": {
    "name": "ipython",
    "version": 3
   },
   "file_extension": ".py",
   "mimetype": "text/x-python",
   "name": "python",
   "nbconvert_exporter": "python",
   "pygments_lexer": "ipython3",
   "version": "3.11.8"
  }
 },
 "nbformat": 4,
 "nbformat_minor": 5
}
