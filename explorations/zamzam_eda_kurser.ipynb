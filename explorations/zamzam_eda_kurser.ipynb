{
 "cells": [
  {
   "cell_type": "code",
   "execution_count": null,
   "id": "4bb163af",
   "metadata": {},
   "outputs": [
    {
     "data": {
      "text/plain": [
       "['Lista ansökningar',\n",
       " 'Beviljade ansökningar',\n",
       " 'Lista flera kommuner',\n",
       " 'Definitioner och förklaringar']"
      ]
     },
     "execution_count": 44,
     "metadata": {},
     "output_type": "execute_result"
    }
   ],
   "source": [
    "import pandas as pd\n",
    "import duckdb\n",
    "\n",
    "# Re-load the uploaded Excel file after code state reset\n",
    "file_path = \"/Users/zamzamyusuf/Documents/github/datavisualization_project_group2/data/resultat-2024-for-kurser-inom-yh.xlsx\"\n",
    "excel_file = pd.ExcelFile(file_path)\n",
    "sheet_names = excel_file.sheet_names\n",
    "\n",
    "# Display sheet names\n",
    "sheet_names"
   ]
  },
  {
   "cell_type": "code",
   "execution_count": 45,
   "id": "a8a2350f",
   "metadata": {},
   "outputs": [
    {
     "data": {
      "text/html": [
       "<div>\n",
       "<style scoped>\n",
       "    .dataframe tbody tr th:only-of-type {\n",
       "        vertical-align: middle;\n",
       "    }\n",
       "\n",
       "    .dataframe tbody tr th {\n",
       "        vertical-align: top;\n",
       "    }\n",
       "\n",
       "    .dataframe thead th {\n",
       "        text-align: right;\n",
       "    }\n",
       "</style>\n",
       "<table border=\"1\" class=\"dataframe\">\n",
       "  <thead>\n",
       "    <tr style=\"text-align: right;\">\n",
       "      <th></th>\n",
       "      <th>Diarienummer</th>\n",
       "      <th>Beslut</th>\n",
       "      <th>Anordnare namn</th>\n",
       "      <th>Utbildningsnamn</th>\n",
       "      <th>Utbildningsområde</th>\n",
       "      <th>Antal beviljade platser start 2024</th>\n",
       "      <th>Antal beviljade platser start och slut 2024</th>\n",
       "      <th>Antal beviljade platser start 2025</th>\n",
       "      <th>Totalt antal beviljade platser</th>\n",
       "      <th>YH-poäng</th>\n",
       "      <th>Kommun</th>\n",
       "      <th>Län</th>\n",
       "      <th>FA-region</th>\n",
       "      <th>Antal kommuner</th>\n",
       "      <th>Antal län</th>\n",
       "      <th>Antal FA-regioner</th>\n",
       "    </tr>\n",
       "  </thead>\n",
       "  <tbody>\n",
       "    <tr>\n",
       "      <th>0</th>\n",
       "      <td>MYH 2024/1000</td>\n",
       "      <td>Avslag</td>\n",
       "      <td>Changemaker Educations AB</td>\n",
       "      <td>Futuregames Accessible Game Production</td>\n",
       "      <td>Juridik</td>\n",
       "      <td>0</td>\n",
       "      <td>0</td>\n",
       "      <td>0</td>\n",
       "      <td>0</td>\n",
       "      <td>25</td>\n",
       "      <td>Se \"Lista flera kommuner\"</td>\n",
       "      <td>Se \"Lista flera kommuner\"</td>\n",
       "      <td>Se \"Lista flera kommuner\"</td>\n",
       "      <td>3</td>\n",
       "      <td>3</td>\n",
       "      <td>3</td>\n",
       "    </tr>\n",
       "    <tr>\n",
       "      <th>1</th>\n",
       "      <td>MYH 2024/1001</td>\n",
       "      <td>Avslag</td>\n",
       "      <td>Changemaker Educations AB</td>\n",
       "      <td>Futuregames Inclusive Game Development</td>\n",
       "      <td>Ekonomi, administration och försäljning</td>\n",
       "      <td>0</td>\n",
       "      <td>0</td>\n",
       "      <td>0</td>\n",
       "      <td>0</td>\n",
       "      <td>25</td>\n",
       "      <td>Se \"Lista flera kommuner\"</td>\n",
       "      <td>Se \"Lista flera kommuner\"</td>\n",
       "      <td>Se \"Lista flera kommuner\"</td>\n",
       "      <td>3</td>\n",
       "      <td>3</td>\n",
       "      <td>3</td>\n",
       "    </tr>\n",
       "    <tr>\n",
       "      <th>2</th>\n",
       "      <td>MYH 2024/1002</td>\n",
       "      <td>Avslag</td>\n",
       "      <td>Båstads kommun Akademi Båstad</td>\n",
       "      <td>Ekosystemtjänster i praktiken</td>\n",
       "      <td>Lantbruk, djurvård, trädgård, skog och fiske</td>\n",
       "      <td>0</td>\n",
       "      <td>0</td>\n",
       "      <td>0</td>\n",
       "      <td>0</td>\n",
       "      <td>50</td>\n",
       "      <td>Båstad</td>\n",
       "      <td>Skåne</td>\n",
       "      <td>Malmö-Lund</td>\n",
       "      <td>1</td>\n",
       "      <td>1</td>\n",
       "      <td>1</td>\n",
       "    </tr>\n",
       "    <tr>\n",
       "      <th>3</th>\n",
       "      <td>MYH 2024/1003</td>\n",
       "      <td>Avslag</td>\n",
       "      <td>Båstads kommun Akademi Båstad</td>\n",
       "      <td>Hållbar dagvattenhantering i praktiken</td>\n",
       "      <td>Lantbruk, djurvård, trädgård, skog och fiske</td>\n",
       "      <td>0</td>\n",
       "      <td>0</td>\n",
       "      <td>0</td>\n",
       "      <td>0</td>\n",
       "      <td>50</td>\n",
       "      <td>Båstad</td>\n",
       "      <td>Skåne</td>\n",
       "      <td>Malmö-Lund</td>\n",
       "      <td>1</td>\n",
       "      <td>1</td>\n",
       "      <td>1</td>\n",
       "    </tr>\n",
       "    <tr>\n",
       "      <th>4</th>\n",
       "      <td>MYH 2024/1004</td>\n",
       "      <td>Avslag</td>\n",
       "      <td>Båstads kommun Akademi Båstad</td>\n",
       "      <td>Invasiva växter i utemiljöer</td>\n",
       "      <td>Lantbruk, djurvård, trädgård, skog och fiske</td>\n",
       "      <td>0</td>\n",
       "      <td>0</td>\n",
       "      <td>0</td>\n",
       "      <td>0</td>\n",
       "      <td>25</td>\n",
       "      <td>Båstad</td>\n",
       "      <td>Skåne</td>\n",
       "      <td>Malmö-Lund</td>\n",
       "      <td>1</td>\n",
       "      <td>1</td>\n",
       "      <td>1</td>\n",
       "    </tr>\n",
       "    <tr>\n",
       "      <th>...</th>\n",
       "      <td>...</td>\n",
       "      <td>...</td>\n",
       "      <td>...</td>\n",
       "      <td>...</td>\n",
       "      <td>...</td>\n",
       "      <td>...</td>\n",
       "      <td>...</td>\n",
       "      <td>...</td>\n",
       "      <td>...</td>\n",
       "      <td>...</td>\n",
       "      <td>...</td>\n",
       "      <td>...</td>\n",
       "      <td>...</td>\n",
       "      <td>...</td>\n",
       "      <td>...</td>\n",
       "      <td>...</td>\n",
       "    </tr>\n",
       "    <tr>\n",
       "      <th>875</th>\n",
       "      <td>MYH 2024/995</td>\n",
       "      <td>Beviljad</td>\n",
       "      <td>Hyper Island Program AB - Stockholm</td>\n",
       "      <td>Data Analytics</td>\n",
       "      <td>Data/IT</td>\n",
       "      <td>50</td>\n",
       "      <td>0</td>\n",
       "      <td>50</td>\n",
       "      <td>100</td>\n",
       "      <td>55</td>\n",
       "      <td>Stockholm</td>\n",
       "      <td>Stockholm</td>\n",
       "      <td>Stockholm</td>\n",
       "      <td>1</td>\n",
       "      <td>1</td>\n",
       "      <td>1</td>\n",
       "    </tr>\n",
       "    <tr>\n",
       "      <th>876</th>\n",
       "      <td>MYH 2024/996</td>\n",
       "      <td>Avslag</td>\n",
       "      <td>INSU AB</td>\n",
       "      <td>Solteknik- installation, säkerhet och regelverk</td>\n",
       "      <td>Teknik och tillverkning</td>\n",
       "      <td>0</td>\n",
       "      <td>0</td>\n",
       "      <td>0</td>\n",
       "      <td>0</td>\n",
       "      <td>60</td>\n",
       "      <td>Nyköping</td>\n",
       "      <td>Södermanland</td>\n",
       "      <td>Nyköping-Oxelösund</td>\n",
       "      <td>1</td>\n",
       "      <td>1</td>\n",
       "      <td>1</td>\n",
       "    </tr>\n",
       "    <tr>\n",
       "      <th>877</th>\n",
       "      <td>MYH 2024/997</td>\n",
       "      <td>Avslag</td>\n",
       "      <td>INSU AB</td>\n",
       "      <td>Säkerhetsprojektering- brand-, inbrott-, kamer...</td>\n",
       "      <td>Säkerhetstjänster</td>\n",
       "      <td>0</td>\n",
       "      <td>0</td>\n",
       "      <td>0</td>\n",
       "      <td>0</td>\n",
       "      <td>95</td>\n",
       "      <td>Nyköping</td>\n",
       "      <td>Södermanland</td>\n",
       "      <td>Nyköping-Oxelösund</td>\n",
       "      <td>1</td>\n",
       "      <td>1</td>\n",
       "      <td>1</td>\n",
       "    </tr>\n",
       "    <tr>\n",
       "      <th>878</th>\n",
       "      <td>MYH 2024/998</td>\n",
       "      <td>Beviljad</td>\n",
       "      <td>Campus Nyköping</td>\n",
       "      <td>Hälsofrämjande och pedagogiska insatser med häst</td>\n",
       "      <td>Lantbruk, djurvård, trädgård, skog och fiske</td>\n",
       "      <td>24</td>\n",
       "      <td>0</td>\n",
       "      <td>0</td>\n",
       "      <td>24</td>\n",
       "      <td>50</td>\n",
       "      <td>Nyköping</td>\n",
       "      <td>Södermanland</td>\n",
       "      <td>Nyköping-Oxelösund</td>\n",
       "      <td>1</td>\n",
       "      <td>1</td>\n",
       "      <td>1</td>\n",
       "    </tr>\n",
       "    <tr>\n",
       "      <th>879</th>\n",
       "      <td>MYH 2024/999</td>\n",
       "      <td>Avslag</td>\n",
       "      <td>Changemaker Educations AB</td>\n",
       "      <td>Futuregames Accessible Game Design</td>\n",
       "      <td>Data/IT</td>\n",
       "      <td>0</td>\n",
       "      <td>0</td>\n",
       "      <td>0</td>\n",
       "      <td>0</td>\n",
       "      <td>25</td>\n",
       "      <td>Se \"Lista flera kommuner\"</td>\n",
       "      <td>Se \"Lista flera kommuner\"</td>\n",
       "      <td>Se \"Lista flera kommuner\"</td>\n",
       "      <td>3</td>\n",
       "      <td>3</td>\n",
       "      <td>3</td>\n",
       "    </tr>\n",
       "  </tbody>\n",
       "</table>\n",
       "<p>880 rows × 16 columns</p>\n",
       "</div>"
      ],
      "text/plain": [
       "      Diarienummer    Beslut                       Anordnare namn  \\\n",
       "0    MYH 2024/1000    Avslag            Changemaker Educations AB   \n",
       "1    MYH 2024/1001    Avslag            Changemaker Educations AB   \n",
       "2    MYH 2024/1002    Avslag        Båstads kommun Akademi Båstad   \n",
       "3    MYH 2024/1003    Avslag        Båstads kommun Akademi Båstad   \n",
       "4    MYH 2024/1004    Avslag        Båstads kommun Akademi Båstad   \n",
       "..             ...       ...                                  ...   \n",
       "875   MYH 2024/995  Beviljad  Hyper Island Program AB - Stockholm   \n",
       "876   MYH 2024/996    Avslag                              INSU AB   \n",
       "877   MYH 2024/997    Avslag                              INSU AB   \n",
       "878   MYH 2024/998  Beviljad                      Campus Nyköping   \n",
       "879   MYH 2024/999    Avslag            Changemaker Educations AB   \n",
       "\n",
       "                                       Utbildningsnamn  \\\n",
       "0              Futuregames Accessible Game Production    \n",
       "1               Futuregames Inclusive Game Development   \n",
       "2                        Ekosystemtjänster i praktiken   \n",
       "3               Hållbar dagvattenhantering i praktiken   \n",
       "4                         Invasiva växter i utemiljöer   \n",
       "..                                                 ...   \n",
       "875                                     Data Analytics   \n",
       "876    Solteknik- installation, säkerhet och regelverk   \n",
       "877  Säkerhetsprojektering- brand-, inbrott-, kamer...   \n",
       "878   Hälsofrämjande och pedagogiska insatser med häst   \n",
       "879                 Futuregames Accessible Game Design   \n",
       "\n",
       "                                Utbildningsområde  \\\n",
       "0                                         Juridik   \n",
       "1         Ekonomi, administration och försäljning   \n",
       "2    Lantbruk, djurvård, trädgård, skog och fiske   \n",
       "3    Lantbruk, djurvård, trädgård, skog och fiske   \n",
       "4    Lantbruk, djurvård, trädgård, skog och fiske   \n",
       "..                                            ...   \n",
       "875                                       Data/IT   \n",
       "876                       Teknik och tillverkning   \n",
       "877                             Säkerhetstjänster   \n",
       "878  Lantbruk, djurvård, trädgård, skog och fiske   \n",
       "879                                       Data/IT   \n",
       "\n",
       "     Antal beviljade platser start 2024  \\\n",
       "0                                     0   \n",
       "1                                     0   \n",
       "2                                     0   \n",
       "3                                     0   \n",
       "4                                     0   \n",
       "..                                  ...   \n",
       "875                                  50   \n",
       "876                                   0   \n",
       "877                                   0   \n",
       "878                                  24   \n",
       "879                                   0   \n",
       "\n",
       "     Antal beviljade platser start och slut 2024  \\\n",
       "0                                              0   \n",
       "1                                              0   \n",
       "2                                              0   \n",
       "3                                              0   \n",
       "4                                              0   \n",
       "..                                           ...   \n",
       "875                                            0   \n",
       "876                                            0   \n",
       "877                                            0   \n",
       "878                                            0   \n",
       "879                                            0   \n",
       "\n",
       "     Antal beviljade platser start 2025  Totalt antal beviljade platser  \\\n",
       "0                                     0                               0   \n",
       "1                                     0                               0   \n",
       "2                                     0                               0   \n",
       "3                                     0                               0   \n",
       "4                                     0                               0   \n",
       "..                                  ...                             ...   \n",
       "875                                  50                             100   \n",
       "876                                   0                               0   \n",
       "877                                   0                               0   \n",
       "878                                   0                              24   \n",
       "879                                   0                               0   \n",
       "\n",
       "     YH-poäng                     Kommun                        Län  \\\n",
       "0          25  Se \"Lista flera kommuner\"  Se \"Lista flera kommuner\"   \n",
       "1          25  Se \"Lista flera kommuner\"  Se \"Lista flera kommuner\"   \n",
       "2          50                     Båstad                      Skåne   \n",
       "3          50                     Båstad                      Skåne   \n",
       "4          25                     Båstad                      Skåne   \n",
       "..        ...                        ...                        ...   \n",
       "875        55                  Stockholm                  Stockholm   \n",
       "876        60                   Nyköping               Södermanland   \n",
       "877        95                   Nyköping               Södermanland   \n",
       "878        50                   Nyköping               Södermanland   \n",
       "879        25  Se \"Lista flera kommuner\"  Se \"Lista flera kommuner\"   \n",
       "\n",
       "                     FA-region  Antal kommuner  Antal län  Antal FA-regioner  \n",
       "0    Se \"Lista flera kommuner\"               3          3                  3  \n",
       "1    Se \"Lista flera kommuner\"               3          3                  3  \n",
       "2                   Malmö-Lund               1          1                  1  \n",
       "3                   Malmö-Lund               1          1                  1  \n",
       "4                   Malmö-Lund               1          1                  1  \n",
       "..                         ...             ...        ...                ...  \n",
       "875                  Stockholm               1          1                  1  \n",
       "876         Nyköping-Oxelösund               1          1                  1  \n",
       "877         Nyköping-Oxelösund               1          1                  1  \n",
       "878         Nyköping-Oxelösund               1          1                  1  \n",
       "879  Se \"Lista flera kommuner\"               3          3                  3  \n",
       "\n",
       "[880 rows x 16 columns]"
      ]
     },
     "execution_count": 45,
     "metadata": {},
     "output_type": "execute_result"
    }
   ],
   "source": [
    "pd.read_excel(file_path, sheet_name=\"Lista ansökningar\")"
   ]
  },
  {
   "cell_type": "code",
   "execution_count": 48,
   "id": "111651ac",
   "metadata": {},
   "outputs": [
    {
     "data": {
      "text/plain": [
       "(   MYH 2024/1000  Avslag                Changemaker Educations AB  \\\n",
       " 0  MYH 2024/1001  Avslag                Changemaker Educations AB   \n",
       " 1  MYH 2024/1002  Avslag            Båstads kommun Akademi Båstad   \n",
       " 2  MYH 2024/1003  Avslag            Båstads kommun Akademi Båstad   \n",
       " 3  MYH 2024/1004  Avslag            Båstads kommun Akademi Båstad   \n",
       " 4  MYH 2024/1006  Avslag  Stiftelsen Stockholms Tekniska Institut   \n",
       " \n",
       "   Futuregames Accessible Game Production   \\\n",
       " 0  Futuregames Inclusive Game Development   \n",
       " 1           Ekosystemtjänster i praktiken   \n",
       " 2  Hållbar dagvattenhantering i praktiken   \n",
       " 3            Invasiva växter i utemiljöer   \n",
       " 4     Infrastrukturplanering och strategi   \n",
       " \n",
       "                                         Juridik  0  0.1  0.2  0.3  25  \\\n",
       " 0       Ekonomi, administration och försäljning  0    0    0    0  25   \n",
       " 1  Lantbruk, djurvård, trädgård, skog och fiske  0    0    0    0  50   \n",
       " 2  Lantbruk, djurvård, trädgård, skog och fiske  0    0    0    0  50   \n",
       " 3  Lantbruk, djurvård, trädgård, skog och fiske  0    0    0    0  25   \n",
       " 4                Samhällsbyggnad och byggteknik  0    0    0    0  50   \n",
       " \n",
       "    Se \"Lista flera kommuner\" Se \"Lista flera kommuner\".1  \\\n",
       " 0  Se \"Lista flera kommuner\"   Se \"Lista flera kommuner\"   \n",
       " 1                     Båstad                       Skåne   \n",
       " 2                     Båstad                       Skåne   \n",
       " 3                     Båstad                       Skåne   \n",
       " 4                  Stockholm                   Stockholm   \n",
       " \n",
       "   Se \"Lista flera kommuner\".2  3  3.1  3.2  \n",
       " 0   Se \"Lista flera kommuner\"  3    3    3  \n",
       " 1                  Malmö-Lund  1    1    1  \n",
       " 2                  Malmö-Lund  1    1    1  \n",
       " 3                  Malmö-Lund  1    1    1  \n",
       " 4                   Stockholm  1    1    1  ,\n",
       " ['MYH 2024/1000',\n",
       "  'Avslag',\n",
       "  'Changemaker Educations AB',\n",
       "  'Futuregames Accessible Game Production ',\n",
       "  'Juridik',\n",
       "  0,\n",
       "  '0.1',\n",
       "  '0.2',\n",
       "  '0.3',\n",
       "  25,\n",
       "  'Se \"Lista flera kommuner\"',\n",
       "  'Se \"Lista flera kommuner\".1',\n",
       "  'Se \"Lista flera kommuner\".2',\n",
       "  3,\n",
       "  '3.1',\n",
       "  '3.2'],\n",
       "    MYH 2024/1009  Beviljad     Plushögskolan AB - Affärshögskolan  \\\n",
       " 0  MYH 2024/1010  Beviljad        IHM Business School AB Göteborg   \n",
       " 1  MYH 2024/1016  Beviljad  Plushögskolan AB - Vårdyrkeshögskolan   \n",
       " 2  MYH 2024/1017  Beviljad   Hyper Island Program AB - Karlskrona   \n",
       " 3  MYH 2024/1018  Beviljad     Plushögskolan AB - Affärshögskolan   \n",
       " 4  MYH 2024/1019  Beviljad  Plushögskolan AB - Vårdyrkeshögskolan   \n",
       " \n",
       "                     Strategisk hållbarhetsutveckling  \\\n",
       " 0                             Social media marketing   \n",
       " 1  E-hälsa, digitalisering och välfärdsteknik ino...   \n",
       " 2                   Sustainability Change Leadership   \n",
       " 3  Digitalisering och systemkunskap inom lön - Sp...   \n",
       " 4                 Psykisk hälsa och suicidprevention   \n",
       " \n",
       "    Ekonomi, administration och försäljning  50   0  50.1  100  45  \\\n",
       " 0  Ekonomi, administration och försäljning  50   0    50  100  40   \n",
       " 1  Hälso- och sjukvård samt socialt arbete   0  50     0   50  50   \n",
       " 2  Ekonomi, administration och försäljning  55   0    55  110  55   \n",
       " 3  Ekonomi, administration och försäljning  50   0    50  100  30   \n",
       " 4  Hälso- och sjukvård samt socialt arbete   0  50     0   50  30   \n",
       " \n",
       "    Se \"Lista flera kommuner\" Se \"Lista flera kommuner\".1  \\\n",
       " 0                   Göteborg             Västra Götaland   \n",
       " 1  Se \"Lista flera kommuner\"   Se \"Lista flera kommuner\"   \n",
       " 2  Se \"Lista flera kommuner\"   Se \"Lista flera kommuner\"   \n",
       " 3                      Gävle                   Gävleborg   \n",
       " 4  Se \"Lista flera kommuner\"   Se \"Lista flera kommuner\"   \n",
       " \n",
       "   Se \"Lista flera kommuner\".2  4  4.1  4.2  \n",
       " 0                    Göteborg  1    1    1  \n",
       " 1   Se \"Lista flera kommuner\"  5    4    5  \n",
       " 2   Se \"Lista flera kommuner\"  2    2    2  \n",
       " 3                       Gävle  1    1    1  \n",
       " 4   Se \"Lista flera kommuner\"  5    5    5  ,\n",
       " ['MYH 2024/1009',\n",
       "  'Beviljad',\n",
       "  'Plushögskolan AB - Affärshögskolan',\n",
       "  'Strategisk hållbarhetsutveckling',\n",
       "  'Ekonomi, administration och försäljning',\n",
       "  50,\n",
       "  0,\n",
       "  '50.1',\n",
       "  100,\n",
       "  45,\n",
       "  'Se \"Lista flera kommuner\"',\n",
       "  'Se \"Lista flera kommuner\".1',\n",
       "  'Se \"Lista flera kommuner\".2',\n",
       "  4,\n",
       "  '4.1',\n",
       "  '4.2'])"
      ]
     },
     "execution_count": 48,
     "metadata": {},
     "output_type": "execute_result"
    }
   ],
   "source": [
    "# Läs in relevanta blad\n",
    "df_ansokningar = pd.read_excel(file_path, sheet_name=\"Lista ansökningar\", skiprows=1)\n",
    "df_beviljade = pd.read_excel(file_path, sheet_name=\"Beviljade ansökningar\", skiprows=1)\n",
    "\n",
    "\n",
    "# Visa de första raderna och kolumnnamn för att förstå strukturen\n",
    "df_ansokningar_head = df_ansokningar.head()\n",
    "df_beviljade_head = df_beviljade.head()\n",
    "df_ansokningar_columns = df_ansokningar.columns.tolist()\n",
    "df_beviljade_columns = df_beviljade.columns.tolist()\n",
    "\n",
    "df_ansokningar_head, df_ansokningar_columns, df_beviljade_head, df_beviljade_columns\n"
   ]
  },
  {
   "cell_type": "code",
   "execution_count": null,
   "id": "2d27e03d",
   "metadata": {},
   "outputs": [
    {
     "name": "stdout",
     "output_type": "stream",
     "text": [
      "                               Utbildningsområde  Antal ansökningar  \\\n",
      "1        Ekonomi, administration och försäljning                221   \n",
      "0                                        Data/IT                157   \n",
      "12                       Teknik och tillverkning                121   \n",
      "4        Hälso- och sjukvård samt socialt arbete                109   \n",
      "10                Samhällsbyggnad och byggteknik                105   \n",
      "8   Lantbruk, djurvård, trädgård, skog och fiske                 38   \n",
      "9                     Pedagogik och undervisning                 30   \n",
      "3                  Hotell, restaurang och turism                 24   \n",
      "11                             Säkerhetstjänster                 19   \n",
      "7                       Kultur, media och design                 18   \n",
      "\n",
      "    Antal beviljade  \n",
      "1             108.0  \n",
      "0              73.0  \n",
      "12             70.0  \n",
      "4              56.0  \n",
      "10             64.0  \n",
      "8              14.0  \n",
      "9              12.0  \n",
      "3              15.0  \n",
      "11              8.0  \n",
      "7               9.0  \n"
     ]
    }
   ],
   "source": [
    "# Byt kolumnnamn för tydlighet\n",
    "df_ansokningar.columns = [\n",
    "    \"Diarienummer\", \"Status\", \"Anordnare\", \"Utbildningsnamn\", \"Utbildningsområde\",\n",
    "    \"Kolumn_0\", \"Kolumn_0.1\", \"Kolumn_0.2\", \"Kolumn_0.3\", \"Platser\",\n",
    "    \"Län\", \"Kommun\", \"Kommun.2\", \"Antal kommuner\", \"Antal kommuner.1\", \"Antal kommuner.2\"\n",
    "]\n",
    "df_beviljade.columns = df_ansokningar.columns[:len(df_beviljade.columns)]\n",
    "\n",
    "# Gruppindelning\n",
    "ansokningar_per_omrade = df_ansokningar[\"Utbildningsområde\"].value_counts().reset_index()\n",
    "ansokningar_per_omrade.columns = [\"Utbildningsområde\", \"Antal ansökningar\"]\n",
    "\n",
    "beviljade_per_omrade = df_beviljade[\"Utbildningsområde\"].value_counts().reset_index()\n",
    "beviljade_per_omrade.columns = [\"Utbildningsområde\", \"Antal beviljade\"]\n",
    "\n",
    "# Slå ihop\n",
    "sammanstallning = pd.merge(ansokningar_per_omrade, beviljade_per_omrade, on=\"Utbildningsområde\", how=\"outer\").fillna(0)\n",
    "\n",
    "# Sortera och visa\n",
    "sammanstallning.sort_values(\"Antal ansökningar\", ascending=False, inplace=True)\n",
    "print(sammanstallning.head(10))\n"
   ]
  },
  {
   "cell_type": "code",
   "execution_count": 6,
   "id": "a7411e8b",
   "metadata": {},
   "outputs": [
    {
     "data": {
      "application/vnd.plotly.v1+json": {
       "config": {
        "plotlyServerURL": "https://plot.ly"
       },
       "data": [
        {
         "alignmentgroup": "True",
         "hovertemplate": "Typ=Antal ansökningar<br>Utbildningsområde=%{x}<br>Antal utbildningar=%{y}<extra></extra>",
         "legendgroup": "Antal ansökningar",
         "marker": {
          "color": "#636efa",
          "pattern": {
           "shape": ""
          }
         },
         "name": "Antal ansökningar",
         "offsetgroup": "Antal ansökningar",
         "orientation": "v",
         "showlegend": true,
         "textposition": "auto",
         "type": "bar",
         "x": [
          "Ekonomi, administration och försäljning",
          "Data/IT",
          "Teknik och tillverkning",
          "Hälso- och sjukvård samt socialt arbete",
          "Samhällsbyggnad och byggteknik",
          "Lantbruk, djurvård, trädgård, skog och fiske",
          "Pedagogik och undervisning",
          "Hotell, restaurang och turism",
          "Säkerhetstjänster",
          "Kultur, media och design",
          "Juridik",
          "Journalistik och information",
          "Transporttjänster",
          "Friskvård och kroppsvård"
         ],
         "xaxis": "x",
         "y": {
          "bdata": "AAAAAACga0AAAAAAAKBjQAAAAAAAQF5AAAAAAABAW0AAAAAAAEBaQAAAAAAAAENAAAAAAAAAPkAAAAAAAAA4QAAAAAAAADNAAAAAAAAAMkAAAAAAAAAxQAAAAAAAACxAAAAAAAAAEEAAAAAAAAAAQA==",
          "dtype": "f8"
         },
         "yaxis": "y"
        },
        {
         "alignmentgroup": "True",
         "hovertemplate": "Typ=Antal beviljade<br>Utbildningsområde=%{x}<br>Antal utbildningar=%{y}<extra></extra>",
         "legendgroup": "Antal beviljade",
         "marker": {
          "color": "#EF553B",
          "pattern": {
           "shape": ""
          }
         },
         "name": "Antal beviljade",
         "offsetgroup": "Antal beviljade",
         "orientation": "v",
         "showlegend": true,
         "textposition": "auto",
         "type": "bar",
         "x": [
          "Ekonomi, administration och försäljning",
          "Data/IT",
          "Teknik och tillverkning",
          "Hälso- och sjukvård samt socialt arbete",
          "Samhällsbyggnad och byggteknik",
          "Lantbruk, djurvård, trädgård, skog och fiske",
          "Pedagogik och undervisning",
          "Hotell, restaurang och turism",
          "Säkerhetstjänster",
          "Kultur, media och design",
          "Juridik",
          "Journalistik och information",
          "Transporttjänster",
          "Friskvård och kroppsvård"
         ],
         "xaxis": "x",
         "y": {
          "bdata": "AAAAAAAAW0AAAAAAAEBSQAAAAAAAgFFAAAAAAAAATEAAAAAAAABQQAAAAAAAACxAAAAAAAAAKEAAAAAAAAAuQAAAAAAAACBAAAAAAAAAIkAAAAAAAAAiQAAAAAAAACJAAAAAAAAACEAAAAAAAAAAAA==",
          "dtype": "f8"
         },
         "yaxis": "y"
        }
       ],
       "layout": {
        "barmode": "group",
        "height": 600,
        "legend": {
         "title": {
          "text": "Typ"
         },
         "tracegroupgap": 0
        },
        "template": {
         "data": {
          "bar": [
           {
            "error_x": {
             "color": "#2a3f5f"
            },
            "error_y": {
             "color": "#2a3f5f"
            },
            "marker": {
             "line": {
              "color": "#E5ECF6",
              "width": 0.5
             },
             "pattern": {
              "fillmode": "overlay",
              "size": 10,
              "solidity": 0.2
             }
            },
            "type": "bar"
           }
          ],
          "barpolar": [
           {
            "marker": {
             "line": {
              "color": "#E5ECF6",
              "width": 0.5
             },
             "pattern": {
              "fillmode": "overlay",
              "size": 10,
              "solidity": 0.2
             }
            },
            "type": "barpolar"
           }
          ],
          "carpet": [
           {
            "aaxis": {
             "endlinecolor": "#2a3f5f",
             "gridcolor": "white",
             "linecolor": "white",
             "minorgridcolor": "white",
             "startlinecolor": "#2a3f5f"
            },
            "baxis": {
             "endlinecolor": "#2a3f5f",
             "gridcolor": "white",
             "linecolor": "white",
             "minorgridcolor": "white",
             "startlinecolor": "#2a3f5f"
            },
            "type": "carpet"
           }
          ],
          "choropleth": [
           {
            "colorbar": {
             "outlinewidth": 0,
             "ticks": ""
            },
            "type": "choropleth"
           }
          ],
          "contour": [
           {
            "colorbar": {
             "outlinewidth": 0,
             "ticks": ""
            },
            "colorscale": [
             [
              0,
              "#0d0887"
             ],
             [
              0.1111111111111111,
              "#46039f"
             ],
             [
              0.2222222222222222,
              "#7201a8"
             ],
             [
              0.3333333333333333,
              "#9c179e"
             ],
             [
              0.4444444444444444,
              "#bd3786"
             ],
             [
              0.5555555555555556,
              "#d8576b"
             ],
             [
              0.6666666666666666,
              "#ed7953"
             ],
             [
              0.7777777777777778,
              "#fb9f3a"
             ],
             [
              0.8888888888888888,
              "#fdca26"
             ],
             [
              1,
              "#f0f921"
             ]
            ],
            "type": "contour"
           }
          ],
          "contourcarpet": [
           {
            "colorbar": {
             "outlinewidth": 0,
             "ticks": ""
            },
            "type": "contourcarpet"
           }
          ],
          "heatmap": [
           {
            "colorbar": {
             "outlinewidth": 0,
             "ticks": ""
            },
            "colorscale": [
             [
              0,
              "#0d0887"
             ],
             [
              0.1111111111111111,
              "#46039f"
             ],
             [
              0.2222222222222222,
              "#7201a8"
             ],
             [
              0.3333333333333333,
              "#9c179e"
             ],
             [
              0.4444444444444444,
              "#bd3786"
             ],
             [
              0.5555555555555556,
              "#d8576b"
             ],
             [
              0.6666666666666666,
              "#ed7953"
             ],
             [
              0.7777777777777778,
              "#fb9f3a"
             ],
             [
              0.8888888888888888,
              "#fdca26"
             ],
             [
              1,
              "#f0f921"
             ]
            ],
            "type": "heatmap"
           }
          ],
          "histogram": [
           {
            "marker": {
             "pattern": {
              "fillmode": "overlay",
              "size": 10,
              "solidity": 0.2
             }
            },
            "type": "histogram"
           }
          ],
          "histogram2d": [
           {
            "colorbar": {
             "outlinewidth": 0,
             "ticks": ""
            },
            "colorscale": [
             [
              0,
              "#0d0887"
             ],
             [
              0.1111111111111111,
              "#46039f"
             ],
             [
              0.2222222222222222,
              "#7201a8"
             ],
             [
              0.3333333333333333,
              "#9c179e"
             ],
             [
              0.4444444444444444,
              "#bd3786"
             ],
             [
              0.5555555555555556,
              "#d8576b"
             ],
             [
              0.6666666666666666,
              "#ed7953"
             ],
             [
              0.7777777777777778,
              "#fb9f3a"
             ],
             [
              0.8888888888888888,
              "#fdca26"
             ],
             [
              1,
              "#f0f921"
             ]
            ],
            "type": "histogram2d"
           }
          ],
          "histogram2dcontour": [
           {
            "colorbar": {
             "outlinewidth": 0,
             "ticks": ""
            },
            "colorscale": [
             [
              0,
              "#0d0887"
             ],
             [
              0.1111111111111111,
              "#46039f"
             ],
             [
              0.2222222222222222,
              "#7201a8"
             ],
             [
              0.3333333333333333,
              "#9c179e"
             ],
             [
              0.4444444444444444,
              "#bd3786"
             ],
             [
              0.5555555555555556,
              "#d8576b"
             ],
             [
              0.6666666666666666,
              "#ed7953"
             ],
             [
              0.7777777777777778,
              "#fb9f3a"
             ],
             [
              0.8888888888888888,
              "#fdca26"
             ],
             [
              1,
              "#f0f921"
             ]
            ],
            "type": "histogram2dcontour"
           }
          ],
          "mesh3d": [
           {
            "colorbar": {
             "outlinewidth": 0,
             "ticks": ""
            },
            "type": "mesh3d"
           }
          ],
          "parcoords": [
           {
            "line": {
             "colorbar": {
              "outlinewidth": 0,
              "ticks": ""
             }
            },
            "type": "parcoords"
           }
          ],
          "pie": [
           {
            "automargin": true,
            "type": "pie"
           }
          ],
          "scatter": [
           {
            "fillpattern": {
             "fillmode": "overlay",
             "size": 10,
             "solidity": 0.2
            },
            "type": "scatter"
           }
          ],
          "scatter3d": [
           {
            "line": {
             "colorbar": {
              "outlinewidth": 0,
              "ticks": ""
             }
            },
            "marker": {
             "colorbar": {
              "outlinewidth": 0,
              "ticks": ""
             }
            },
            "type": "scatter3d"
           }
          ],
          "scattercarpet": [
           {
            "marker": {
             "colorbar": {
              "outlinewidth": 0,
              "ticks": ""
             }
            },
            "type": "scattercarpet"
           }
          ],
          "scattergeo": [
           {
            "marker": {
             "colorbar": {
              "outlinewidth": 0,
              "ticks": ""
             }
            },
            "type": "scattergeo"
           }
          ],
          "scattergl": [
           {
            "marker": {
             "colorbar": {
              "outlinewidth": 0,
              "ticks": ""
             }
            },
            "type": "scattergl"
           }
          ],
          "scattermap": [
           {
            "marker": {
             "colorbar": {
              "outlinewidth": 0,
              "ticks": ""
             }
            },
            "type": "scattermap"
           }
          ],
          "scattermapbox": [
           {
            "marker": {
             "colorbar": {
              "outlinewidth": 0,
              "ticks": ""
             }
            },
            "type": "scattermapbox"
           }
          ],
          "scatterpolar": [
           {
            "marker": {
             "colorbar": {
              "outlinewidth": 0,
              "ticks": ""
             }
            },
            "type": "scatterpolar"
           }
          ],
          "scatterpolargl": [
           {
            "marker": {
             "colorbar": {
              "outlinewidth": 0,
              "ticks": ""
             }
            },
            "type": "scatterpolargl"
           }
          ],
          "scatterternary": [
           {
            "marker": {
             "colorbar": {
              "outlinewidth": 0,
              "ticks": ""
             }
            },
            "type": "scatterternary"
           }
          ],
          "surface": [
           {
            "colorbar": {
             "outlinewidth": 0,
             "ticks": ""
            },
            "colorscale": [
             [
              0,
              "#0d0887"
             ],
             [
              0.1111111111111111,
              "#46039f"
             ],
             [
              0.2222222222222222,
              "#7201a8"
             ],
             [
              0.3333333333333333,
              "#9c179e"
             ],
             [
              0.4444444444444444,
              "#bd3786"
             ],
             [
              0.5555555555555556,
              "#d8576b"
             ],
             [
              0.6666666666666666,
              "#ed7953"
             ],
             [
              0.7777777777777778,
              "#fb9f3a"
             ],
             [
              0.8888888888888888,
              "#fdca26"
             ],
             [
              1,
              "#f0f921"
             ]
            ],
            "type": "surface"
           }
          ],
          "table": [
           {
            "cells": {
             "fill": {
              "color": "#EBF0F8"
             },
             "line": {
              "color": "white"
             }
            },
            "header": {
             "fill": {
              "color": "#C8D4E3"
             },
             "line": {
              "color": "white"
             }
            },
            "type": "table"
           }
          ]
         },
         "layout": {
          "annotationdefaults": {
           "arrowcolor": "#2a3f5f",
           "arrowhead": 0,
           "arrowwidth": 1
          },
          "autotypenumbers": "strict",
          "coloraxis": {
           "colorbar": {
            "outlinewidth": 0,
            "ticks": ""
           }
          },
          "colorscale": {
           "diverging": [
            [
             0,
             "#8e0152"
            ],
            [
             0.1,
             "#c51b7d"
            ],
            [
             0.2,
             "#de77ae"
            ],
            [
             0.3,
             "#f1b6da"
            ],
            [
             0.4,
             "#fde0ef"
            ],
            [
             0.5,
             "#f7f7f7"
            ],
            [
             0.6,
             "#e6f5d0"
            ],
            [
             0.7,
             "#b8e186"
            ],
            [
             0.8,
             "#7fbc41"
            ],
            [
             0.9,
             "#4d9221"
            ],
            [
             1,
             "#276419"
            ]
           ],
           "sequential": [
            [
             0,
             "#0d0887"
            ],
            [
             0.1111111111111111,
             "#46039f"
            ],
            [
             0.2222222222222222,
             "#7201a8"
            ],
            [
             0.3333333333333333,
             "#9c179e"
            ],
            [
             0.4444444444444444,
             "#bd3786"
            ],
            [
             0.5555555555555556,
             "#d8576b"
            ],
            [
             0.6666666666666666,
             "#ed7953"
            ],
            [
             0.7777777777777778,
             "#fb9f3a"
            ],
            [
             0.8888888888888888,
             "#fdca26"
            ],
            [
             1,
             "#f0f921"
            ]
           ],
           "sequentialminus": [
            [
             0,
             "#0d0887"
            ],
            [
             0.1111111111111111,
             "#46039f"
            ],
            [
             0.2222222222222222,
             "#7201a8"
            ],
            [
             0.3333333333333333,
             "#9c179e"
            ],
            [
             0.4444444444444444,
             "#bd3786"
            ],
            [
             0.5555555555555556,
             "#d8576b"
            ],
            [
             0.6666666666666666,
             "#ed7953"
            ],
            [
             0.7777777777777778,
             "#fb9f3a"
            ],
            [
             0.8888888888888888,
             "#fdca26"
            ],
            [
             1,
             "#f0f921"
            ]
           ]
          },
          "colorway": [
           "#636efa",
           "#EF553B",
           "#00cc96",
           "#ab63fa",
           "#FFA15A",
           "#19d3f3",
           "#FF6692",
           "#B6E880",
           "#FF97FF",
           "#FECB52"
          ],
          "font": {
           "color": "#2a3f5f"
          },
          "geo": {
           "bgcolor": "white",
           "lakecolor": "white",
           "landcolor": "#E5ECF6",
           "showlakes": true,
           "showland": true,
           "subunitcolor": "white"
          },
          "hoverlabel": {
           "align": "left"
          },
          "hovermode": "closest",
          "mapbox": {
           "style": "light"
          },
          "paper_bgcolor": "white",
          "plot_bgcolor": "#E5ECF6",
          "polar": {
           "angularaxis": {
            "gridcolor": "white",
            "linecolor": "white",
            "ticks": ""
           },
           "bgcolor": "#E5ECF6",
           "radialaxis": {
            "gridcolor": "white",
            "linecolor": "white",
            "ticks": ""
           }
          },
          "scene": {
           "xaxis": {
            "backgroundcolor": "#E5ECF6",
            "gridcolor": "white",
            "gridwidth": 2,
            "linecolor": "white",
            "showbackground": true,
            "ticks": "",
            "zerolinecolor": "white"
           },
           "yaxis": {
            "backgroundcolor": "#E5ECF6",
            "gridcolor": "white",
            "gridwidth": 2,
            "linecolor": "white",
            "showbackground": true,
            "ticks": "",
            "zerolinecolor": "white"
           },
           "zaxis": {
            "backgroundcolor": "#E5ECF6",
            "gridcolor": "white",
            "gridwidth": 2,
            "linecolor": "white",
            "showbackground": true,
            "ticks": "",
            "zerolinecolor": "white"
           }
          },
          "shapedefaults": {
           "line": {
            "color": "#2a3f5f"
           }
          },
          "ternary": {
           "aaxis": {
            "gridcolor": "white",
            "linecolor": "white",
            "ticks": ""
           },
           "baxis": {
            "gridcolor": "white",
            "linecolor": "white",
            "ticks": ""
           },
           "bgcolor": "#E5ECF6",
           "caxis": {
            "gridcolor": "white",
            "linecolor": "white",
            "ticks": ""
           }
          },
          "title": {
           "x": 0.05
          },
          "xaxis": {
           "automargin": true,
           "gridcolor": "white",
           "linecolor": "white",
           "ticks": "",
           "title": {
            "standoff": 15
           },
           "zerolinecolor": "white",
           "zerolinewidth": 2
          },
          "yaxis": {
           "automargin": true,
           "gridcolor": "white",
           "linecolor": "white",
           "ticks": "",
           "title": {
            "standoff": 15
           },
           "zerolinecolor": "white",
           "zerolinewidth": 2
          }
         }
        },
        "title": {
         "text": "Ansökta och beviljade utbildningar per utbildningsområde (2024)"
        },
        "xaxis": {
         "anchor": "y",
         "domain": [
          0,
          1
         ],
         "tickangle": -45,
         "title": {
          "text": "Utbildningsområde"
         }
        },
        "yaxis": {
         "anchor": "x",
         "domain": [
          0,
          1
         ],
         "title": {
          "text": "Antal utbildningar"
         }
        }
       }
      }
     },
     "metadata": {},
     "output_type": "display_data"
    }
   ],
   "source": [
    "import plotly.express as px\n",
    "\n",
    "# Visualisering med stapeldiagram\n",
    "fig = px.bar(\n",
    "    sammanstallning,\n",
    "    x=\"Utbildningsområde\",\n",
    "    y=[\"Antal ansökningar\", \"Antal beviljade\"],\n",
    "    barmode=\"group\",\n",
    "    title=\"Ansökta och beviljade utbildningar per utbildningsområde (2024)\",\n",
    "    labels={\"value\": \"Antal utbildningar\", \"variable\": \"Typ\"},\n",
    "    height=600\n",
    ")\n",
    "\n",
    "fig.update_layout(xaxis_tickangle=-45)\n",
    "fig.show()\n"
   ]
  }
 ],
 "metadata": {
  "kernelspec": {
   "display_name": "Python 3",
   "language": "python",
   "name": "python3"
  },
  "language_info": {
   "codemirror_mode": {
    "name": "ipython",
    "version": 3
   },
   "file_extension": ".py",
   "mimetype": "text/x-python",
   "name": "python",
   "nbconvert_exporter": "python",
   "pygments_lexer": "ipython3",
   "version": "3.12.5"
  }
 },
 "nbformat": 4,
 "nbformat_minor": 5
}
